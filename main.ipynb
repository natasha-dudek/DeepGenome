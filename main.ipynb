{
 "cells": [
  {
   "cell_type": "code",
   "execution_count": 1,
   "metadata": {},
   "outputs": [],
   "source": [
    "# automatically upload modules\n",
    "%load_ext autoreload\n",
    "%autoreload 2"
   ]
  },
  {
   "cell_type": "code",
   "execution_count": 2,
   "metadata": {},
   "outputs": [],
   "source": [
    "from argparse import Namespace\n",
    "import os\n",
    "import pandas as pd\n",
    "import pickle\n",
    "from ray import tune\n",
    "from ray.tune.schedulers import ASHAScheduler\n",
    "import torch\n",
    "\n",
    "from genome_embeddings import data_viz\n",
    "from genome_embeddings import evaluate\n",
    "from genome_embeddings import models\n",
    "from genome_embeddings import train_test\n",
    "from genome_embeddings import util"
   ]
  },
  {
   "cell_type": "code",
   "execution_count": 17,
   "metadata": {},
   "outputs": [],
   "source": [
    "flags = Namespace(\n",
    "    DATA_FP = '/Users/natasha/Desktop/mcgill_postdoc/ncbi_genomes/genome_embeddings/data/', \n",
    "    SAVE_FP = '/Users/natasha/Desktop/mcgill_postdoc/ncbi_genomes/genome_embeddings/',\n",
    "    KEGG_FP = '/Users/natasha/Desktop/mcgill_postdoc/ncbi_genomes/kegg_dataset/',\n",
    "    data_source = 'kegg', #['get_homologues' | 'kegg']\n",
    "    n_test = 0.1, # train-test split, n * 100 = % of data that goes into test set (e.g.: 0.1 -> 10%)\n",
    "    num_epochs = 1, # IF CIRRICULUM, DO NOT SET < 3\n",
    "    batch_size = 128,\n",
    "    lr = 1e-3,\n",
    "    print_every = 50, # print loss every n batches during training (5)\n",
    "    replacement_threshold = 0.5, # probability over which binarizer converts to a 1\n",
    "    num_corruptions = 100, # number of corrupted versions of a genome to produce\n",
    "    corruption_fraction = 0.5, # fraction of genes to retain during corruption process\n",
    "    phy_mode = \"bacteria_only\", # training with only bacteria vs also euk/arch\n",
    "    cirriculum = False, # implement cirriculum learning based on gene count\n",
    "    rare_threshold = 10, # drop features that occur fewer than this times in training ds \n",
    "    weight_decay=0.01 # L2 regularization\n",
    "    )"
   ]
  },
  {
   "cell_type": "markdown",
   "metadata": {},
   "source": [
    "### Data exploration + preprocessing "
   ]
  },
  {
   "cell_type": "code",
   "execution_count": 4,
   "metadata": {
    "scrolled": true
   },
   "outputs": [
    {
     "name": "stdout",
     "output_type": "stream",
     "text": [
      "Genome representations already exist\n"
     ]
    }
   ],
   "source": [
    "# First create genome representations (very slow)\n",
    "# Each genome is a list of KO's and/or KEGG modules\n",
    "if os.path.isfile(flags.DATA_FP+'genome_to_mod.csv'):\n",
    "    print(\"Genome representations already exist\")\n",
    "else:\n",
    "    genome_rep.genome_kos(flags.KEGG_FP)\n",
    "    print(\"Must generate genome representations from scratch. This will take several hours.\")"
   ]
  },
  {
   "cell_type": "code",
   "execution_count": 5,
   "metadata": {},
   "outputs": [],
   "source": [
    "df, cluster_names = util.load_data(flags.DATA_FP, flags.data_source)\n",
    "genome_to_tax = util.genome_to_tax(df)"
   ]
  },
  {
   "cell_type": "code",
   "execution_count": null,
   "metadata": {},
   "outputs": [],
   "source": [
    "data_viz.tax_distrib(df, genome_to_tax)"
   ]
  },
  {
   "cell_type": "code",
   "execution_count": null,
   "metadata": {},
   "outputs": [],
   "source": [
    "data_viz.module_stats(df)"
   ]
  },
  {
   "cell_type": "code",
   "execution_count": null,
   "metadata": {},
   "outputs": [],
   "source": [
    "data_viz.genes_per_genome(df)"
   ]
  },
  {
   "cell_type": "code",
   "execution_count": 6,
   "metadata": {},
   "outputs": [],
   "source": [
    "genome_to_tax2 = {}\n",
    "for i in df.index:\n",
    "    genome_to_tax2[i] = genome_to_tax[i]\n",
    "    \n",
    "# Create dict mapping each genome to a unique numerical ID\n",
    "genome_to_num ={}\n",
    "for i,genome in enumerate(df.index):\n",
    "    genome_to_num[genome] = i\n",
    "    \n",
    "num_to_genome = {v: k for k, v in genome_to_num.items()}"
   ]
  },
  {
   "cell_type": "code",
   "execution_count": 7,
   "metadata": {},
   "outputs": [
    {
     "name": "stdout",
     "output_type": "stream",
     "text": [
      "Generating train-test split\n",
      "Number of training examples: 3044 (89%), Number of test examples: 388 (11%)\n"
     ]
    }
   ],
   "source": [
    "# Split train-test sets in a phylogenetically balanced manner \n",
    "if os.path.isfile(flags.DATA_FP+'uncorrupted_train_balanced.csv'):\n",
    "    print(\"Train-test split already exists, loading from file\")\n",
    "    train_orig = pd.read_csv(flags.DATA_FP+\"uncorrupted_train_balanced.csv\", index_col=0)    \n",
    "    test_orig = pd.read_csv(flags.DATA_FP+\"uncorrupted_test_balanced.csv\", index_col=0)    \n",
    "    \n",
    "else:\n",
    "    print(\"Generating train-test split\")\n",
    "    train_orig, test_orig = util.balanced_split(df, flags.n_test, genome_to_tax, \n",
    "                                                num_to_genome, flags.DATA_FP)    \n",
    "    train_orig.to_csv(flags.DATA_FP+'uncorrupted_train_balanced.csv')\n",
    "    test_orig.to_csv(flags.DATA_FP+'uncorrupted_test_balanced.csv')"
   ]
  },
  {
   "cell_type": "code",
   "execution_count": null,
   "metadata": {},
   "outputs": [],
   "source": [
    "data_viz.hist_prob_ko(train_orig)"
   ]
  },
  {
   "cell_type": "code",
   "execution_count": 8,
   "metadata": {},
   "outputs": [],
   "source": [
    "train_genomes = train_orig.index.to_list()\n",
    "test_genomes = test_orig.index.to_list()"
   ]
  },
  {
   "cell_type": "code",
   "execution_count": 9,
   "metadata": {},
   "outputs": [],
   "source": [
    "if flags.phy_mode == \"bacteria_only\":\n",
    "    unf_train_data, train_tax_dict = util.bacteria_only(train_orig, train_genomes, genome_to_tax)\n",
    "    unf_test_data, test_tax_dict = util.bacteria_only(test_orig, test_genomes, genome_to_tax)"
   ]
  },
  {
   "cell_type": "code",
   "execution_count": 10,
   "metadata": {},
   "outputs": [],
   "source": [
    "# Remove rare features from train + test datasets\n",
    "# Rare = fewer than n occurences in training dataset\n",
    "# Last argument specifies n, set to correspond to 1% of genomes (3432 genomes -> n = 34)\n",
    "train_data, test_data, cluster_names = util.remove_rare(unf_train_data, unf_test_data, \n",
    "                                                        cluster_names, unf_train_data.shape[0]*0.01)"
   ]
  },
  {
   "cell_type": "code",
   "execution_count": 11,
   "metadata": {},
   "outputs": [
    {
     "name": "stdout",
     "output_type": "stream",
     "text": [
      "Generating corrupted dataset from scratch with 100 corruptions per genome\n"
     ]
    }
   ],
   "source": [
    "# Produce corrupted genomes\n",
    "# Could eventually do re-sampling / extra-corrupting to have more examples of \"rare\" genome types\n",
    "#    e.g.: those from underrepresented groups M00003   \n",
    "\n",
    "if os.path.isfile(flags.DATA_FP+'corrupted_train.pt'):\n",
    "    print(\"Corrupted genomes already exist, loading from file\")\n",
    "    train_data = torch.load(flags.DATA_FP+\"corrupted_train.pt\")\n",
    "    test_data = torch.load(flags.DATA_FP+\"corrupted_test.pt\")\n",
    "    genome_idx_train = torch.load(flags.DATA_FP+\"genome_idx_train.pt\")\n",
    "    genome_idx_test = torch.load(flags.DATA_FP+\"genome_idx_test.pt\")\n",
    "else:\n",
    "    print(\"Generating corrupted dataset from scratch with\",flags.num_corruptions,\"corruptions per genome\")\n",
    "    train_data, genome_idx_train = util.corrupt(train_data, flags.num_corruptions, flags.corruption_fraction, \n",
    "                                                cluster_names, \"train\", flags.DATA_FP)\n",
    "\n",
    "    test_data, genome_idx_test = util.corrupt(test_data, flags.num_corruptions, flags.corruption_fraction, \n",
    "                                              cluster_names, \"test\", flags.DATA_FP)"
   ]
  },
  {
   "cell_type": "code",
   "execution_count": 13,
   "metadata": {},
   "outputs": [
    {
     "name": "stdout",
     "output_type": "stream",
     "text": [
      "There are 239500 genomes and 7065 features in the training dataset\n",
      "There are 28800 genomes and 7065 features in the test dataset\n"
     ]
    }
   ],
   "source": [
    "print((\"There are %s genomes and %s features in the training dataset\") % \n",
    "      (train_data.shape[0],int(train_data.shape[1]/2)))\n",
    "\n",
    "print((\"There are %s genomes and %s features in the test dataset\") % \n",
    "      (test_data.shape[0],int(test_data.shape[1]/2)))"
   ]
  },
  {
   "cell_type": "code",
   "execution_count": 14,
   "metadata": {},
   "outputs": [],
   "source": [
    "if flags.cirriculum:\n",
    "    loaders = util.cirriculum_load(train_data, test_data, flags.batch_size, \n",
    "                           flags.batch_size, cluster_names)\n",
    "else:\n",
    "    loaders = util.dataloaders(train_data, test_data, flags.batch_size, \n",
    "                               flags.batch_size, cluster_names)"
   ]
  },
  {
   "cell_type": "markdown",
   "metadata": {},
   "source": [
    "### Define and train network"
   ]
  },
  {
   "cell_type": "code",
   "execution_count": 15,
   "metadata": {},
   "outputs": [],
   "source": [
    "#num_features = train_data.dataset.shape[1]\n",
    "num_features = int(train_data.shape[1]/2) # Number of features in the entire dataset (train + test)"
   ]
  },
  {
   "cell_type": "code",
   "execution_count": 18,
   "metadata": {},
   "outputs": [
    {
     "name": "stdout",
     "output_type": "stream",
     "text": [
      "AutoEncoder(\n",
      "  (e1): Linear(in_features=7065, out_features=3532, bias=True)\n",
      "  (e2): Linear(in_features=3532, out_features=1766, bias=True)\n",
      "  (e3): Linear(in_features=1766, out_features=1177, bias=True)\n",
      "  (e4): Linear(in_features=1177, out_features=883, bias=True)\n",
      "  (e5): Linear(in_features=883, out_features=706, bias=True)\n",
      "  (lv): Linear(in_features=706, out_features=588, bias=True)\n",
      "  (d1): Linear(in_features=588, out_features=706, bias=True)\n",
      "  (d2): Linear(in_features=706, out_features=883, bias=True)\n",
      "  (d3): Linear(in_features=883, out_features=1177, bias=True)\n",
      "  (d4): Linear(in_features=1177, out_features=1766, bias=True)\n",
      "  (d5): Linear(in_features=1766, out_features=3532, bias=True)\n",
      "  (output_layer): Linear(in_features=3532, out_features=7065, bias=True)\n",
      ")\n"
     ]
    }
   ],
   "source": [
    "# define the network\n",
    "model = models.AutoEncoder(len(cluster_names))\n",
    "print(model)"
   ]
  },
  {
   "cell_type": "code",
   "execution_count": null,
   "metadata": {},
   "outputs": [
    {
     "name": "stdout",
     "output_type": "stream",
     "text": [
      " Training epoch 1/1, batch 1/1872, single loader, \tLoss: 606689.50\n",
      " Training epoch 1/1, batch 51/1872, single loader, \tLoss: 291922.91\n",
      " Training epoch 1/1, batch 101/1872, single loader, \tLoss: 281361.91\n",
      " Training epoch 1/1, batch 151/1872, single loader, \tLoss: 267052.88\n",
      " Training epoch 1/1, batch 201/1872, single loader, \tLoss: 253397.77\n",
      " Training epoch 1/1, batch 251/1872, single loader, \tLoss: 228848.62\n",
      " Training epoch 1/1, batch 301/1872, single loader, \tLoss: 217569.50\n",
      " Training epoch 1/1, batch 351/1872, single loader, \tLoss: 209053.64\n",
      " Training epoch 1/1, batch 401/1872, single loader, \tLoss: 197594.55\n",
      " Training epoch 1/1, batch 451/1872, single loader, \tLoss: 189866.06\n",
      " Training epoch 1/1, batch 501/1872, single loader, \tLoss: 191880.34\n",
      " Training epoch 1/1, batch 551/1872, single loader, \tLoss: 193889.52\n",
      " Training epoch 1/1, batch 601/1872, single loader, \tLoss: 181522.77\n",
      " Training epoch 1/1, batch 651/1872, single loader, \tLoss: 169234.95\n"
     ]
    }
   ],
   "source": [
    "# train the model\n",
    "train_losses, test_losses, train_f1_scores, test_f1_scores = train_test.train_model(loaders, \n",
    "        model, flags.lr, flags.num_epochs, flags.print_every, flags.batch_size, \n",
    "        flags.SAVE_FP, flags.replacement_threshold, cluster_names, flags.cirriculum, flags.weight_decay)"
   ]
  },
  {
   "cell_type": "markdown",
   "metadata": {},
   "source": [
    "### Evaluate model performance"
   ]
  },
  {
   "cell_type": "code",
   "execution_count": null,
   "metadata": {},
   "outputs": [],
   "source": [
    "# evaluate model performance\n",
    "data_viz.learning_curve(train_f1_scores, test_f1_scores, \"performance\", flags.cirriculum)"
   ]
  },
  {
   "cell_type": "code",
   "execution_count": null,
   "metadata": {},
   "outputs": [],
   "source": [
    "# evaluate model performance\n",
    "data_viz.learning_curve(train_losses, test_losses, \"optimization\", flags.cirriculum)"
   ]
  },
  {
   "cell_type": "code",
   "execution_count": null,
   "metadata": {},
   "outputs": [],
   "source": [
    "# create embeddings for test set\n",
    "# first convert test_data from subset -> tensor, split corrupt vs target sets\n",
    "tensor_test_data = torch.tensor([i.numpy() for i in test_data]).float()\n",
    "corrupt_test_data = tensor_test_data[:,:len(cluster_names)]\n",
    "#uncorrupt_test_data = tensor_test_data[:,len(cluster_names):]\n",
    "#tensor_test_data = torch.tensor([i.numpy() for i in test_data]).float()\n",
    "embeddings = train_test.generate_embeddings(model, corrupt_test_data)"
   ]
  },
  {
   "cell_type": "code",
   "execution_count": null,
   "metadata": {},
   "outputs": [],
   "source": []
  },
  {
   "cell_type": "code",
   "execution_count": null,
   "metadata": {},
   "outputs": [],
   "source": [
    "data_viz.plot_tSNE(embeddings, test_data, num_to_genome, genome_to_tax, test_tax_dict)"
   ]
  },
  {
   "cell_type": "code",
   "execution_count": null,
   "metadata": {},
   "outputs": [],
   "source": [
    "# tSNE for corrupted genomes passed through untrained model\n",
    "untrained_model = models.AutoEncoder(len(cluster_names))\n",
    "untr_embeddings = train_test.generate_embeddings(untrained_model, corrupt_test_data)"
   ]
  },
  {
   "cell_type": "code",
   "execution_count": null,
   "metadata": {},
   "outputs": [],
   "source": [
    "#data_viz.plot_tSNE(untr_embeddings, test_data, num_to_genome, genome_to_tax, test_tax_dict)\n",
    "# data_viz.plot_tSNE(untr_embeddings, test_data, num_to_genome, genome_to_tax, genome_idx_test)"
   ]
  },
  {
   "cell_type": "code",
   "execution_count": null,
   "metadata": {},
   "outputs": [],
   "source": [
    "# Evaluate model and compare against baselines\n",
    "# Get corrupted input set, target set, and predictions set (binarized to 1's and 0's)\n",
    "#corrupt_test_data = tensor_test_data[:,:len(cluster_names)]\n",
    "target = tensor_test_data[:,len(cluster_names):].detach().numpy()\n",
    "\n",
    "model.eval()\n",
    "with torch.no_grad():\n",
    "    pred = model.forward(corrupt_test_data).detach().numpy()\n",
    "b_pred = train_test.binarize(pred, flags.replacement_threshold)"
   ]
  },
  {
   "cell_type": "code",
   "execution_count": null,
   "metadata": {},
   "outputs": [],
   "source": [
    "len(test_tax_dict), len(b_pred), target.shape"
   ]
  },
  {
   "cell_type": "code",
   "execution_count": null,
   "metadata": {},
   "outputs": [],
   "source": [
    "genome_to_tax[test_tax_dict[genome_idx_test[307]]]"
   ]
  },
  {
   "cell_type": "code",
   "execution_count": null,
   "metadata": {},
   "outputs": [],
   "source": [
    "# Generate confusion matrix\n",
    "evaluate.dom_confusion_matrix(b_pred, target, num_to_genome, genome_to_tax, test_tax_dict, genome_idx_test)"
   ]
  },
  {
   "cell_type": "code",
   "execution_count": null,
   "metadata": {},
   "outputs": [],
   "source": [
    "# Baseline 1: untrained DAE\n",
    "# Generate predictions using an untrained DAE model\n",
    "model.eval()\n",
    "with torch.no_grad():\n",
    "    untr_pred = untrained_model.forward(corrupt_test_data).detach().numpy()\n",
    "untr_b_preds = train_test.binarize(untr_pred, flags.replacement_threshold)"
   ]
  },
  {
   "cell_type": "code",
   "execution_count": null,
   "metadata": {},
   "outputs": [],
   "source": [
    "# if os.path.isfile(flags.DATA_FP+\"rand_b_pred.pt\"):\n",
    "#     print(\"Loading random predictions from file\")\n",
    "#     rand_b_pred = torch.load(flags.DATA_FP+\"rand_b_pred.pt\")\n",
    "# else: \n",
    "#     # This is slow\n",
    "#     print(\"Generating random predictions, this will take a while (~30 min)\")\n",
    "#     rand_b_pred = evaluate.generate_baseline(num_features, train_data, \n",
    "#                                              corrupt_test_data, \"base_random\", cluster_names)\n",
    "#     torch.save(rand_b_pred, flags.DATA_FP+\"rand_b_pred.pt\")\n",
    "\n",
    "rand_b_pred = evaluate.generate_baseline(num_features, train_data, \n",
    "                                         corrupt_test_data, \"base_random\", cluster_names)"
   ]
  },
  {
   "cell_type": "code",
   "execution_count": null,
   "metadata": {},
   "outputs": [],
   "source": [
    "torch.save(rand_b_pred, flags.DATA_FP+\"rand_b_pred.pt\")"
   ]
  },
  {
   "cell_type": "code",
   "execution_count": null,
   "metadata": {},
   "outputs": [],
   "source": [
    "# if os.path.isfile(flags.DATA_FP+\"smart_b_pred.pt\"):\n",
    "#     print(\"Loading smart random predictions from file\")\n",
    "#     smart_b_pred = torch.load(flags.DATA_FP+\"smart_b_pred.pt\")\n",
    "# else:\n",
    "#     print(\"Generating smart random predictions, this will take a while (~30 min)\")\n",
    "#     smart_b_pred = evaluate.generate_baseline(num_features, train_data, \n",
    "#                                           corrupt_test_data, \"smart_random\", cluster_names)\n",
    "#     torch.save(smart_b_pred, flags.DATA_FP+\"smart_b_pred.pt\")\n",
    "\n",
    "smart_b_pred = evaluate.generate_baseline(num_features, train_data, \n",
    "                                      corrupt_test_data, \"smart_random\", cluster_names)"
   ]
  },
  {
   "cell_type": "code",
   "execution_count": null,
   "metadata": {},
   "outputs": [],
   "source": [
    "torch.save(smart_b_pred, flags.DATA_FP+\"smart_b_pred.pt\")"
   ]
  },
  {
   "cell_type": "code",
   "execution_count": null,
   "metadata": {},
   "outputs": [],
   "source": [
    "import numpy as np\n",
    "np.sum(smart_b_pred == rand_b_pred), np.sum(smart_b_pred != rand_b_pred)"
   ]
  },
  {
   "cell_type": "code",
   "execution_count": null,
   "metadata": {},
   "outputs": [],
   "source": [
    "import pandas as pd\n",
    "hs = evaluate.hamming(target, b_pred)\n",
    "hs_stats = [round(sum(hs)/len(hs),2), round(min(hs),2), round(max(hs),2)]\n",
    "\n",
    "untr_hs = evaluate.hamming(target, untr_b_preds)\n",
    "untr_hs_stats = [round(sum(untr_hs)/len(untr_hs),2), round(min(untr_hs),2), round(max(untr_hs),2)]\n",
    "\n",
    "rand_hs = evaluate.hamming(target, rand_b_pred)\n",
    "rand_hs_stats = [round(sum(rand_hs)/len(rand_hs),2), round(min(rand_hs),2), round(max(rand_hs),2)]\n",
    "\n",
    "smart_hs = evaluate.hamming(target, smart_b_pred)\n",
    "smart_hs_stats = [round(sum(smart_hs)/len(smart_hs),2), round(min(smart_hs),2), round(max(smart_hs),2)]\n",
    "\n",
    "\n",
    "hamming_df = pd.DataFrame([hs_stats, untr_hs_stats, rand_hs_stats, smart_hs_stats], columns=['mean', 'min', 'max'], \n",
    "                            index=[\"DAE trained\", \"DAE untrained\", \"Random chance\", \"Smart random chance\"])\n",
    "hamming_df"
   ]
  },
  {
   "cell_type": "code",
   "execution_count": null,
   "metadata": {},
   "outputs": [],
   "source": [
    "hs[:5]"
   ]
  },
  {
   "cell_type": "code",
   "execution_count": null,
   "metadata": {},
   "outputs": [],
   "source": [
    "evaluate.hamming([1,1,1,1], [1,1,0,0])"
   ]
  },
  {
   "cell_type": "code",
   "execution_count": null,
   "metadata": {},
   "outputs": [],
   "source": [
    "from sklearn.metrics import hamming_loss"
   ]
  },
  {
   "cell_type": "code",
   "execution_count": null,
   "metadata": {},
   "outputs": [],
   "source": [
    "hamming_loss([1,1,1,1,0,0,0], [1,1,0,0,0,0,0])"
   ]
  },
  {
   "cell_type": "code",
   "execution_count": null,
   "metadata": {},
   "outputs": [],
   "source": []
  }
 ],
 "metadata": {
  "kernelspec": {
   "display_name": "Python 3",
   "language": "python",
   "name": "python3"
  },
  "language_info": {
   "codemirror_mode": {
    "name": "ipython",
    "version": 3
   },
   "file_extension": ".py",
   "mimetype": "text/x-python",
   "name": "python",
   "nbconvert_exporter": "python",
   "pygments_lexer": "ipython3",
   "version": "3.7.6"
  }
 },
 "nbformat": 4,
 "nbformat_minor": 4
}
