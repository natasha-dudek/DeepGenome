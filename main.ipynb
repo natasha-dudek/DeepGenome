{
 "cells": [
  {
   "cell_type": "code",
   "execution_count": 42,
   "metadata": {},
   "outputs": [],
   "source": [
    "# automatically upload modules\n",
    "%load_ext autoreload\n",
    "%autoreload 2"
   ]
  },
  {
   "cell_type": "code",
   "execution_count": 43,
   "metadata": {},
   "outputs": [],
   "source": [
    "import numpy as np"
   ]
  },
  {
   "cell_type": "code",
   "execution_count": 46,
   "metadata": {},
   "outputs": [],
   "source": [
    "from argparse import Namespace\n",
    "import os, sys\n",
    "import pandas as pd\n",
    "#import pickle\n",
    "from ray import tune\n",
    "import ConfigSpace as CS\n",
    "from ray.tune.suggest.bohb import TuneBOHB\n",
    "from ray.tune.schedulers import HyperBandForBOHB\n",
    "import torch\n",
    "import argparse # for ray distributed training\n",
    "\n",
    "\n",
    "from genome_embeddings import data_viz\n",
    "from genome_embeddings import evaluate\n",
    "from genome_embeddings import models\n",
    "from genome_embeddings import train_test\n",
    "from genome_embeddings import util\n",
    "from genome_embeddings import trainable # import before ray (?)\n",
    "import ray"
   ]
  },
  {
   "cell_type": "code",
   "execution_count": null,
   "metadata": {},
   "outputs": [],
   "source": [
    "os.system(\"rm file_out\")\n",
    "os.system(\"rm file_err\")\n",
    "\n",
    "sys.stdout = open('file_out', 'w')\n",
    "sys.stderr = open('file_err', 'w')"
   ]
  },
  {
   "cell_type": "code",
   "execution_count": 47,
   "metadata": {},
   "outputs": [],
   "source": [
    "settings = Namespace(\n",
    "    DATA_FP = '/home/ndudek/projects/def-dprecup/ndudek/',\n",
    "    SAVE_FP = '/home/ndudek/projects/def-dprecup/ndudek/',\n",
    "    num_epochs = 2,\n",
    "    num_cpus=1)\n",
    "\n",
    "# settings = Namespace(\n",
    "#     DATA_FP = '/Users/natasha/Desktop/mcgill_postdoc/ncbi_genomes/genome_embeddings/data/', \n",
    "#     SAVE_FP = '/Users/natasha/Desktop/mcgill_postdoc/ncbi_genomes/genome_embeddings/',\n",
    "#     num_epochs = 2,\n",
    "#     num_cpus=5)"
   ]
  },
  {
   "cell_type": "code",
   "execution_count": 48,
   "metadata": {},
   "outputs": [],
   "source": [
    "flags = Namespace(\n",
    "    KEGG_FP = '/Users/natasha/Desktop/mcgill_postdoc/ncbi_genomes/kegg_dataset/',\n",
    "    data_source = 'kegg', #['get_homologues' | 'kegg']\n",
    "    n_test = 0.1, # train-test split, n * 100 = % of data that goes into test set (e.g.: 0.1 -> 10%)\n",
    "    batch_size = 128,\n",
    "    lr = 1e-3,\n",
    "    kfolds = 10, # number of folds for cross-validation\n",
    "    print_every = 50, # print loss every n batches during training (5)\n",
    "    replacement_threshold = 0.5, # probability over which binarizer converts to a 1\n",
    "    num_corruptions = 100, # number of corrupted versions of a genome to produce\n",
    "    corruption_fraction = 0.5, # fraction of genes to retain during corruption process\n",
    "    phy_mode = \"bacteria_only\", # training with only bacteria vs also euk/arch\n",
    "    cirriculum = False, # implement cirriculum learning based on gene count\n",
    "    rare_threshold = 10, # drop features that occur fewer than this times in training ds \n",
    "    weight_decay=0.1 # L2 regularization\n",
    "    )"
   ]
  },
  {
   "cell_type": "code",
   "execution_count": null,
   "metadata": {},
   "outputs": [],
   "source": [
    "print('done loading modules and setting Namespace variables')"
   ]
  },
  {
   "cell_type": "markdown",
   "metadata": {},
   "source": [
    "### Data exploration + preprocessing "
   ]
  },
  {
   "cell_type": "code",
   "execution_count": null,
   "metadata": {
    "scrolled": true
   },
   "outputs": [],
   "source": [
    "# # First create genome representations (very slow)\n",
    "# # Each genome is a list of KO's and/or KEGG modules\n",
    "# if os.path.isfile(settings.DATA_FP+'genome_to_mod.csv'):\n",
    "#     print(\"Genome representations already exist\")\n",
    "# else:\n",
    "#     genome_rep.genome_kos(flags.KEGG_FP)\n",
    "#     print(\"Must generate genome representations from scratch. This will take several hours.\")"
   ]
  },
  {
   "cell_type": "code",
   "execution_count": null,
   "metadata": {},
   "outputs": [],
   "source": [
    "# df, cluster_names = util.load_data(settings.DATA_FP, flags.data_source)\n",
    "# genome_to_tax = util.genome_to_tax(df)\n",
    "# np.save(settings.DATA_FP+'genome_to_tax.npy', genome_to_tax) "
   ]
  },
  {
   "cell_type": "code",
   "execution_count": null,
   "metadata": {},
   "outputs": [],
   "source": [
    "#data_viz.tax_distrib(df, genome_to_tax)"
   ]
  },
  {
   "cell_type": "code",
   "execution_count": null,
   "metadata": {},
   "outputs": [],
   "source": [
    "#data_viz.module_stats(df)"
   ]
  },
  {
   "cell_type": "code",
   "execution_count": null,
   "metadata": {},
   "outputs": [],
   "source": [
    "#data_viz.genes_per_genome(df)"
   ]
  },
  {
   "cell_type": "code",
   "execution_count": null,
   "metadata": {},
   "outputs": [],
   "source": [
    "# genome_to_tax = util.genome_to_tax(df)"
   ]
  },
  {
   "cell_type": "code",
   "execution_count": null,
   "metadata": {},
   "outputs": [],
   "source": [
    "# train_orig = pd.read_csv(settings.DATA_FP+\"uncorrupted_train_balanced.csv\", index_col=0)"
   ]
  },
  {
   "cell_type": "code",
   "execution_count": null,
   "metadata": {},
   "outputs": [],
   "source": [
    "# train_genomes = list(train_orig.index)"
   ]
  },
  {
   "cell_type": "code",
   "execution_count": null,
   "metadata": {},
   "outputs": [],
   "source": [
    "# # Split train-test sets in a phylogenetically balanced manner \n",
    "# if os.path.isfile(settings.DATA_FP+'uncorrupted_train_balanced.csv'):\n",
    "#     print(\"Train-test split already exists, loading from file\")\n",
    "#     train_orig = pd.read_csv(settings.DATA_FP+\"uncorrupted_train_balanced.csv\", index_col=0)    \n",
    "#     test_orig = pd.read_csv(settings.DATA_FP+\"uncorrupted_test_balanced.csv\", index_col=0)    \n",
    "\n",
    "# else:\n",
    "#     # Create dict mapping each genome to a unique numerical ID\n",
    "#     genome_to_num ={}\n",
    "#     for i,genome in enumerate(df.index):\n",
    "#         genome_to_num[genome] = i\n",
    "\n",
    "#     num_to_genome = {v: k for k, v in genome_to_num.items()}\n",
    "        \n",
    "#     print(\"Generating train-test split\")\n",
    "#     train_orig, test_orig = util.balanced_split(df, flags.n_test, genome_to_tax, \n",
    "#                                                 num_to_genome, settings.DATA_FP)    \n",
    "#     train_orig.to_csv(settings.DATA_FP+'uncorrupted_train_balanced.csv')\n",
    "#     test_orig.to_csv(settings.DATA_FP+'uncorrupted_test_balanced.csv')"
   ]
  },
  {
   "cell_type": "code",
   "execution_count": null,
   "metadata": {},
   "outputs": [],
   "source": [
    "#data_viz.hist_prob_ko(train_orig)"
   ]
  },
  {
   "cell_type": "code",
   "execution_count": null,
   "metadata": {},
   "outputs": [],
   "source": [
    "# if flags.phy_mode == \"bacteria_only\":\n",
    "#     train_genomes = train_orig.index.to_list()\n",
    "#     test_genomes = test_orig.index.to_list()\n",
    "    \n",
    "#     unf_train_data, train_tax_dict = util.bacteria_only(train_orig, train_genomes, genome_to_tax)\n",
    "#     unf_test_data, test_tax_dict = util.bacteria_only(test_orig, test_genomes, genome_to_tax)"
   ]
  },
  {
   "cell_type": "code",
   "execution_count": null,
   "metadata": {},
   "outputs": [],
   "source": [
    "# # Remove rare features from train + test datasets\n",
    "# # Rare = fewer than n occurences in training dataset\n",
    "# # Last argument specifies n, set to correspond to 1% of genomes (3432 genomes -> n = 34)\n",
    "# # Remove genes occuring in <1.1% of genomes ---> extra 0.1 is to make there be an even number of features\n",
    "# #     An even number of features is essential for having the autoencoder layers work out properly\n",
    "# train_data, test_data, cluster_names = util.remove_rare(unf_train_data, unf_test_data, \n",
    "#                                                         cluster_names, unf_train_data.shape[0]*0.01)"
   ]
  },
  {
   "cell_type": "code",
   "execution_count": 6,
   "metadata": {},
   "outputs": [
    {
     "name": "stdout",
     "output_type": "stream",
     "text": [
      "Corrupted genomes already exist\n"
     ]
    }
   ],
   "source": [
    "# # Produce corrupted genomes\n",
    "# # Could eventually do re-sampling / extra-corrupting to have more examples of \"rare\" genome types\n",
    "# #    e.g.: those from underrepresented groups M00003   \n",
    "\n",
    "# if os.path.isfile(settings.DATA_FP+'corrupted_train_07-17-20.pt'):\n",
    "#     print(\"Corrupted genomes already exist\")\n",
    "#     train_data = torch.load(settings.DATA_FP+\"corrupted_train_07-17-20.pt\")\n",
    "#     test_data = torch.load(settings.DATA_FP+\"corrupted_test_07-17-20.pt\")\n",
    "#     genome_idx_train = torch.load(settings.DATA_FP+\"genome_idx_train_07-17-20.pt\")\n",
    "#     genome_idx_test = torch.load(settings.DATA_FP+\"genome_idx_test_07-17-20.pt\")\n",
    "# else:\n",
    "#     print(\"Generating corrupted dataset from scratch with\",flags.num_corruptions,\"corrupted versions of each genome\")\n",
    "#     train_data, genome_idx_train = util.corrupt(train_data, flags.num_corruptions, flags.corruption_fraction, \n",
    "#                                                     cluster_names, \"train\", settings.DATA_FP)\n",
    "#     print(\"Finished training data, starting test\")\n",
    "#     test_data, genome_idx_test = util.corrupt(test_data, flags.num_corruptions, flags.corruption_fraction, \n",
    "#                                                   cluster_names, \"test\", settings.DATA_FP)"
   ]
  },
  {
   "cell_type": "code",
   "execution_count": null,
   "metadata": {},
   "outputs": [],
   "source": []
  },
  {
   "cell_type": "code",
   "execution_count": null,
   "metadata": {},
   "outputs": [],
   "source": [
    "sys.stdout.flush()\n",
    "sys.stderr.flush()"
   ]
  },
  {
   "cell_type": "code",
   "execution_count": null,
   "metadata": {},
   "outputs": [],
   "source": [
    "#import numpy as np # this is slooooow\n",
    "#np.savetxt(settings.DATA_FP+\"corrupted_train_1407.txt\", train_data.numpy())\n",
    "#np.savetxt(settings.DATA_FP+\"corrupted_test_1407.txt\", test_data.numpy())"
   ]
  },
  {
   "cell_type": "code",
   "execution_count": null,
   "metadata": {},
   "outputs": [],
   "source": [
    "# print((\"There are %s genomes and %s features in the training dataset\") % \n",
    "#       (train_data.shape[0],int(train_data.shape[1]/2)))\n",
    "\n",
    "# print((\"There are %s genomes and %s features in the test dataset\") % \n",
    "#       (test_data.shape[0],int(test_data.shape[1]/2)))"
   ]
  },
  {
   "cell_type": "code",
   "execution_count": null,
   "metadata": {},
   "outputs": [],
   "source": []
  },
  {
   "cell_type": "markdown",
   "metadata": {},
   "source": [
    "### Define and train network"
   ]
  },
  {
   "cell_type": "code",
   "execution_count": null,
   "metadata": {},
   "outputs": [],
   "source": [
    "# print(train_data.shape[1])"
   ]
  },
  {
   "cell_type": "code",
   "execution_count": 7,
   "metadata": {},
   "outputs": [],
   "source": [
    "# num_features = int(train_data.shape[1]/2) # Number of features in the entire dataset (train + test)"
   ]
  },
  {
   "cell_type": "code",
   "execution_count": 28,
   "metadata": {},
   "outputs": [
    {
     "name": "stdout",
     "output_type": "stream",
     "text": [
      "AutoEncoder(\n",
      "  (layers): ModuleList(\n",
      "    (0): Linear(in_features=7065, out_features=13, bias=True)\n",
      "    (1): Linear(in_features=13, out_features=4, bias=True)\n",
      "    (2): Linear(in_features=4, out_features=13, bias=True)\n",
      "    (3): Linear(in_features=13, out_features=7065, bias=True)\n",
      "  )\n",
      ")\n"
     ]
    }
   ],
   "source": [
    "# # define the network\n",
    "# model = models.AutoEncoder(num_features, 2)\n",
    "# print(model)"
   ]
  },
  {
   "cell_type": "code",
   "execution_count": null,
   "metadata": {},
   "outputs": [],
   "source": [
    "sys.stdout.flush()\n",
    "sys.stderr.flush()"
   ]
  },
  {
   "cell_type": "code",
   "execution_count": null,
   "metadata": {},
   "outputs": [],
   "source": [
    "# config_space = CS.ConfigurationSpace()\n",
    "\n",
    "# config_space.add_hyperparameter(\n",
    "#     CS.CategoricalHyperparameter(name='nn_layers', choices=[1, 2])) #, 3, 4])) \n",
    "\n",
    "# config_space.add_hyperparameter(\n",
    "#     CS.CategoricalHyperparameter(name='batch_size', choices=[32])) #, 64, 128, 256]))\n",
    "\n",
    "# #Optimizer = Adam -- LR less important\n",
    "# config_space.add_hyperparameter(\n",
    "#     CS.UniformFloatHyperparameter('lr', lower=1e-4, upper=1e-1, log=True))\n",
    "\n",
    "# config_space.add_hyperparameter(\n",
    "#     CS.UniformFloatHyperparameter('weight_decay', lower=1e-5, upper=1e-2, log=True))\n",
    "\n",
    "# algo = TuneBOHB(\n",
    "#     config_space, max_concurrent=4, metric='test_f1', mode='max')\n",
    "\n",
    "# bohb = HyperBandForBOHB(\n",
    "#     time_attr='training_iteration',\n",
    "#     metric='test_f1',\n",
    "#     mode='max',\n",
    "#     max_t=100, \n",
    "#     reduction_factor=3)"
   ]
  },
  {
   "cell_type": "code",
   "execution_count": 49,
   "metadata": {},
   "outputs": [
    {
     "data": {
      "text/plain": [
       "{}"
      ]
     },
     "execution_count": 49,
     "metadata": {},
     "output_type": "execute_result"
    }
   ],
   "source": [
    "memory = 2000 * 1024 * 1024\n",
    "object_store_memory = 200 * 1024 * 1024\n",
    "driver_object_store_memory=100 * 1024 * 1024\n",
    "ray.shutdown()\n",
    "ray.init(local_mode=True, memory=memory, \n",
    "        object_store_memory=object_store_memory,\n",
    "        driver_object_store_memory=driver_object_store_memory,\n",
    "        num_cpus=1)\n",
    "\n",
    "# redis_password = sys.argv[1]\n",
    "# num_cpus = int(sys.argv[2])\n",
    "\n",
    "# ray.init(address=os.environ[\"ip_head\"], redis_password=redis_password)"
   ]
  },
  {
   "cell_type": "code",
   "execution_count": null,
   "metadata": {},
   "outputs": [],
   "source": []
  },
  {
   "cell_type": "code",
   "execution_count": 92,
   "metadata": {},
   "outputs": [],
   "source": [
    "# config = {\"num_workers\": 1,\n",
    "#          \"num_epochs\":settings.num_epochs,\n",
    "#          \"kfolds\":flags.kfolds,\n",
    "#          \"replacement_threshold\": flags.replacement_threshold}\n",
    "\n",
    "config = {\"num_workers\": 1,\n",
    "         \"num_epochs\":settings.num_epochs,\n",
    "         \"kfolds\":flags.kfolds,\n",
    "         \"replacement_threshold\": flags.replacement_threshold,\n",
    "         \"nn_layers\": tune.choice([1, 2, 3, 4]),\n",
    "         \"batch_size\": tune.choice([32, 64, 128, 256]),\n",
    "          \"lr\": tune.loguniform(1e-4, 1e-1), #lower=1e-4, upper=1e-1\n",
    "          \"weight_decay\": tune.loguniform(1e-5, 1e-2) #lower=1e-5, upper=1e-2\n",
    "         }"
   ]
  },
  {
   "cell_type": "code",
   "execution_count": 93,
   "metadata": {},
   "outputs": [
    {
     "data": {
      "text/html": [
       "== Status ==<br>Memory usage on this node: 17.9/32.0 GiB<br>Using FIFO scheduling algorithm.<br>Resources requested: 5/12 CPUs, 0/0 GPUs, 0.0/11.57 GiB heap, 0.0/4.0 GiB objects<br>Result logdir: /Users/natasha/Desktop/mcgill_postdoc/ncbi_genomes/genome_embeddings/TUNE_RESULT_DIR/exp_1<br>Number of trials: 10 (1 RUNNING, 9 PENDING)<br><table>\n",
       "<thead>\n",
       "<tr><th>Trial name       </th><th>status  </th><th>loc  </th><th>weight_decay  </th><th>lr  </th><th>batch_size  </th><th>nn_layers  </th></tr>\n",
       "</thead>\n",
       "<tbody>\n",
       "<tr><td>train_AE_98c5ab88</td><td>RUNNING </td><td>     </td><td>              </td><td>    </td><td>            </td><td>           </td></tr>\n",
       "<tr><td>train_AE_98c5cda2</td><td>PENDING </td><td>     </td><td>              </td><td>    </td><td>            </td><td>           </td></tr>\n",
       "<tr><td>train_AE_98c5ec42</td><td>PENDING </td><td>     </td><td>              </td><td>    </td><td>            </td><td>           </td></tr>\n",
       "<tr><td>train_AE_98c60ace</td><td>PENDING </td><td>     </td><td>              </td><td>    </td><td>            </td><td>           </td></tr>\n",
       "<tr><td>train_AE_98c62950</td><td>PENDING </td><td>     </td><td>              </td><td>    </td><td>            </td><td>           </td></tr>\n",
       "<tr><td>train_AE_98c647fa</td><td>PENDING </td><td>     </td><td>              </td><td>    </td><td>            </td><td>           </td></tr>\n",
       "<tr><td>train_AE_98c666ae</td><td>PENDING </td><td>     </td><td>              </td><td>    </td><td>            </td><td>           </td></tr>\n",
       "<tr><td>train_AE_98c685a8</td><td>PENDING </td><td>     </td><td>              </td><td>    </td><td>            </td><td>           </td></tr>\n",
       "<tr><td>train_AE_98c6a380</td><td>PENDING </td><td>     </td><td>              </td><td>    </td><td>            </td><td>           </td></tr>\n",
       "<tr><td>train_AE_98c6c6ee</td><td>PENDING </td><td>     </td><td>              </td><td>    </td><td>            </td><td>           </td></tr>\n",
       "</tbody>\n",
       "</table><br><br>"
      ],
      "text/plain": [
       "<IPython.core.display.HTML object>"
      ]
     },
     "metadata": {},
     "output_type": "display_data"
    },
    {
     "data": {
      "text/html": [
       "== Status ==<br>Memory usage on this node: 17.8/32.0 GiB<br>Using FIFO scheduling algorithm.<br>Resources requested: 10/12 CPUs, 0/0 GPUs, 0.0/8.59 GiB heap, 0.0/2.93 GiB objects<br>Result logdir: /Users/natasha/Desktop/mcgill_postdoc/ncbi_genomes/genome_embeddings/TUNE_RESULT_DIR/exp_1<br>Number of trials: 10 (2 RUNNING, 8 PENDING)<br><table>\n",
       "<thead>\n",
       "<tr><th>Trial name       </th><th>status  </th><th>loc  </th><th>weight_decay  </th><th>lr  </th><th>batch_size  </th><th>nn_layers  </th></tr>\n",
       "</thead>\n",
       "<tbody>\n",
       "<tr><td>train_AE_98c5ab88</td><td>RUNNING </td><td>     </td><td>              </td><td>    </td><td>            </td><td>           </td></tr>\n",
       "<tr><td>train_AE_98c5cda2</td><td>RUNNING </td><td>     </td><td>              </td><td>    </td><td>            </td><td>           </td></tr>\n",
       "<tr><td>train_AE_98c5ec42</td><td>PENDING </td><td>     </td><td>              </td><td>    </td><td>            </td><td>           </td></tr>\n",
       "<tr><td>train_AE_98c60ace</td><td>PENDING </td><td>     </td><td>              </td><td>    </td><td>            </td><td>           </td></tr>\n",
       "<tr><td>train_AE_98c62950</td><td>PENDING </td><td>     </td><td>              </td><td>    </td><td>            </td><td>           </td></tr>\n",
       "<tr><td>train_AE_98c647fa</td><td>PENDING </td><td>     </td><td>              </td><td>    </td><td>            </td><td>           </td></tr>\n",
       "<tr><td>train_AE_98c666ae</td><td>PENDING </td><td>     </td><td>              </td><td>    </td><td>            </td><td>           </td></tr>\n",
       "<tr><td>train_AE_98c685a8</td><td>PENDING </td><td>     </td><td>              </td><td>    </td><td>            </td><td>           </td></tr>\n",
       "<tr><td>train_AE_98c6a380</td><td>PENDING </td><td>     </td><td>              </td><td>    </td><td>            </td><td>           </td></tr>\n",
       "<tr><td>train_AE_98c6c6ee</td><td>PENDING </td><td>     </td><td>              </td><td>    </td><td>            </td><td>           </td></tr>\n",
       "</tbody>\n",
       "</table><br><br>"
      ],
      "text/plain": [
       "<IPython.core.display.HTML object>"
      ]
     },
     "metadata": {},
     "output_type": "display_data"
    },
    {
     "data": {
      "text/html": [
       "== Status ==<br>Memory usage on this node: 11.7/32.0 GiB<br>Using FIFO scheduling algorithm.<br>Resources requested: 10/12 CPUs, 0/0 GPUs, 0.0/9.57 GiB heap, 0.0/3.27 GiB objects<br>Result logdir: /Users/natasha/Desktop/mcgill_postdoc/ncbi_genomes/genome_embeddings/TUNE_RESULT_DIR/exp_1<br>Number of trials: 10 (2 RUNNING, 8 PENDING)<br><table>\n",
       "<thead>\n",
       "<tr><th>Trial name       </th><th>status  </th><th>loc               </th><th style=\"text-align: right;\">  weight_decay</th><th style=\"text-align: right;\">         lr</th><th style=\"text-align: right;\">  batch_size</th><th style=\"text-align: right;\">  nn_layers</th><th style=\"text-align: right;\">  total time (s)</th><th style=\"text-align: right;\">  iter</th></tr>\n",
       "</thead>\n",
       "<tbody>\n",
       "<tr><td>train_AE_98c5ab88</td><td>RUNNING </td><td>192.168.2.23:77304</td><td style=\"text-align: right;\">   4.0075e-05 </td><td style=\"text-align: right;\">0.000126821</td><td style=\"text-align: right;\">         256</td><td style=\"text-align: right;\">          2</td><td style=\"text-align: right;\">         25.46  </td><td style=\"text-align: right;\">     2</td></tr>\n",
       "<tr><td>train_AE_98c5cda2</td><td>RUNNING </td><td>192.168.2.23:77304</td><td style=\"text-align: right;\">   2.42553e-05</td><td style=\"text-align: right;\">0.0346443  </td><td style=\"text-align: right;\">          32</td><td style=\"text-align: right;\">          4</td><td style=\"text-align: right;\">         10.6789</td><td style=\"text-align: right;\">     2</td></tr>\n",
       "<tr><td>train_AE_98c5ec42</td><td>PENDING </td><td>                  </td><td style=\"text-align: right;\">              </td><td style=\"text-align: right;\">           </td><td style=\"text-align: right;\">            </td><td style=\"text-align: right;\">           </td><td style=\"text-align: right;\">                </td><td style=\"text-align: right;\">      </td></tr>\n",
       "<tr><td>train_AE_98c60ace</td><td>PENDING </td><td>                  </td><td style=\"text-align: right;\">              </td><td style=\"text-align: right;\">           </td><td style=\"text-align: right;\">            </td><td style=\"text-align: right;\">           </td><td style=\"text-align: right;\">                </td><td style=\"text-align: right;\">      </td></tr>\n",
       "<tr><td>train_AE_98c62950</td><td>PENDING </td><td>                  </td><td style=\"text-align: right;\">              </td><td style=\"text-align: right;\">           </td><td style=\"text-align: right;\">            </td><td style=\"text-align: right;\">           </td><td style=\"text-align: right;\">                </td><td style=\"text-align: right;\">      </td></tr>\n",
       "<tr><td>train_AE_98c647fa</td><td>PENDING </td><td>                  </td><td style=\"text-align: right;\">              </td><td style=\"text-align: right;\">           </td><td style=\"text-align: right;\">            </td><td style=\"text-align: right;\">           </td><td style=\"text-align: right;\">                </td><td style=\"text-align: right;\">      </td></tr>\n",
       "<tr><td>train_AE_98c666ae</td><td>PENDING </td><td>                  </td><td style=\"text-align: right;\">              </td><td style=\"text-align: right;\">           </td><td style=\"text-align: right;\">            </td><td style=\"text-align: right;\">           </td><td style=\"text-align: right;\">                </td><td style=\"text-align: right;\">      </td></tr>\n",
       "<tr><td>train_AE_98c685a8</td><td>PENDING </td><td>                  </td><td style=\"text-align: right;\">              </td><td style=\"text-align: right;\">           </td><td style=\"text-align: right;\">            </td><td style=\"text-align: right;\">           </td><td style=\"text-align: right;\">                </td><td style=\"text-align: right;\">      </td></tr>\n",
       "<tr><td>train_AE_98c6a380</td><td>PENDING </td><td>                  </td><td style=\"text-align: right;\">              </td><td style=\"text-align: right;\">           </td><td style=\"text-align: right;\">            </td><td style=\"text-align: right;\">           </td><td style=\"text-align: right;\">                </td><td style=\"text-align: right;\">      </td></tr>\n",
       "<tr><td>train_AE_98c6c6ee</td><td>PENDING </td><td>                  </td><td style=\"text-align: right;\">              </td><td style=\"text-align: right;\">           </td><td style=\"text-align: right;\">            </td><td style=\"text-align: right;\">           </td><td style=\"text-align: right;\">                </td><td style=\"text-align: right;\">      </td></tr>\n",
       "</tbody>\n",
       "</table><br><br>"
      ],
      "text/plain": [
       "<IPython.core.display.HTML object>"
      ]
     },
     "metadata": {},
     "output_type": "display_data"
    },
    {
     "data": {
      "text/html": [
       "== Status ==<br>Memory usage on this node: 17.9/32.0 GiB<br>Using FIFO scheduling algorithm.<br>Resources requested: 10/12 CPUs, 0/0 GPUs, 0.0/12.26 GiB heap, 0.0/4.2 GiB objects<br>Result logdir: /Users/natasha/Desktop/mcgill_postdoc/ncbi_genomes/genome_embeddings/TUNE_RESULT_DIR/exp_1<br>Number of trials: 10 (2 RUNNING, 1 TERMINATED, 7 PENDING)<br><table>\n",
       "<thead>\n",
       "<tr><th>Trial name       </th><th>status    </th><th>loc               </th><th style=\"text-align: right;\">  weight_decay</th><th style=\"text-align: right;\">         lr</th><th style=\"text-align: right;\">  batch_size</th><th style=\"text-align: right;\">  nn_layers</th><th style=\"text-align: right;\">  total time (s)</th><th style=\"text-align: right;\">  iter</th></tr>\n",
       "</thead>\n",
       "<tbody>\n",
       "<tr><td>train_AE_98c5ab88</td><td>RUNNING   </td><td>192.168.2.23:77304</td><td style=\"text-align: right;\">   4.0075e-05 </td><td style=\"text-align: right;\">0.000126821</td><td style=\"text-align: right;\">         256</td><td style=\"text-align: right;\">          2</td><td style=\"text-align: right;\">         25.46  </td><td style=\"text-align: right;\">     2</td></tr>\n",
       "<tr><td>train_AE_98c5cda2</td><td>TERMINATED</td><td>                  </td><td style=\"text-align: right;\">   2.42553e-05</td><td style=\"text-align: right;\">0.0346443  </td><td style=\"text-align: right;\">          32</td><td style=\"text-align: right;\">          4</td><td style=\"text-align: right;\">         10.6789</td><td style=\"text-align: right;\">     2</td></tr>\n",
       "<tr><td>train_AE_98c5ec42</td><td>RUNNING   </td><td>                  </td><td style=\"text-align: right;\">              </td><td style=\"text-align: right;\">           </td><td style=\"text-align: right;\">            </td><td style=\"text-align: right;\">           </td><td style=\"text-align: right;\">                </td><td style=\"text-align: right;\">      </td></tr>\n",
       "<tr><td>train_AE_98c60ace</td><td>PENDING   </td><td>                  </td><td style=\"text-align: right;\">              </td><td style=\"text-align: right;\">           </td><td style=\"text-align: right;\">            </td><td style=\"text-align: right;\">           </td><td style=\"text-align: right;\">                </td><td style=\"text-align: right;\">      </td></tr>\n",
       "<tr><td>train_AE_98c62950</td><td>PENDING   </td><td>                  </td><td style=\"text-align: right;\">              </td><td style=\"text-align: right;\">           </td><td style=\"text-align: right;\">            </td><td style=\"text-align: right;\">           </td><td style=\"text-align: right;\">                </td><td style=\"text-align: right;\">      </td></tr>\n",
       "<tr><td>train_AE_98c647fa</td><td>PENDING   </td><td>                  </td><td style=\"text-align: right;\">              </td><td style=\"text-align: right;\">           </td><td style=\"text-align: right;\">            </td><td style=\"text-align: right;\">           </td><td style=\"text-align: right;\">                </td><td style=\"text-align: right;\">      </td></tr>\n",
       "<tr><td>train_AE_98c666ae</td><td>PENDING   </td><td>                  </td><td style=\"text-align: right;\">              </td><td style=\"text-align: right;\">           </td><td style=\"text-align: right;\">            </td><td style=\"text-align: right;\">           </td><td style=\"text-align: right;\">                </td><td style=\"text-align: right;\">      </td></tr>\n",
       "<tr><td>train_AE_98c685a8</td><td>PENDING   </td><td>                  </td><td style=\"text-align: right;\">              </td><td style=\"text-align: right;\">           </td><td style=\"text-align: right;\">            </td><td style=\"text-align: right;\">           </td><td style=\"text-align: right;\">                </td><td style=\"text-align: right;\">      </td></tr>\n",
       "<tr><td>train_AE_98c6a380</td><td>PENDING   </td><td>                  </td><td style=\"text-align: right;\">              </td><td style=\"text-align: right;\">           </td><td style=\"text-align: right;\">            </td><td style=\"text-align: right;\">           </td><td style=\"text-align: right;\">                </td><td style=\"text-align: right;\">      </td></tr>\n",
       "<tr><td>train_AE_98c6c6ee</td><td>PENDING   </td><td>                  </td><td style=\"text-align: right;\">              </td><td style=\"text-align: right;\">           </td><td style=\"text-align: right;\">            </td><td style=\"text-align: right;\">           </td><td style=\"text-align: right;\">                </td><td style=\"text-align: right;\">      </td></tr>\n",
       "</tbody>\n",
       "</table><br><br>"
      ],
      "text/plain": [
       "<IPython.core.display.HTML object>"
      ]
     },
     "metadata": {},
     "output_type": "display_data"
    },
    {
     "data": {
      "text/html": [
       "== Status ==<br>Memory usage on this node: 18.0/32.0 GiB<br>Using FIFO scheduling algorithm.<br>Resources requested: 10/12 CPUs, 0/0 GPUs, 0.0/12.3 GiB heap, 0.0/4.25 GiB objects<br>Result logdir: /Users/natasha/Desktop/mcgill_postdoc/ncbi_genomes/genome_embeddings/TUNE_RESULT_DIR/exp_1<br>Number of trials: 10 (2 RUNNING, 2 TERMINATED, 6 PENDING)<br><table>\n",
       "<thead>\n",
       "<tr><th>Trial name       </th><th>status    </th><th>loc               </th><th style=\"text-align: right;\">  weight_decay</th><th style=\"text-align: right;\">         lr</th><th style=\"text-align: right;\">  batch_size</th><th style=\"text-align: right;\">  nn_layers</th><th style=\"text-align: right;\">  total time (s)</th><th style=\"text-align: right;\">  iter</th></tr>\n",
       "</thead>\n",
       "<tbody>\n",
       "<tr><td>train_AE_98c5ab88</td><td>RUNNING   </td><td>192.168.2.23:77304</td><td style=\"text-align: right;\">   4.0075e-05 </td><td style=\"text-align: right;\">0.000126821</td><td style=\"text-align: right;\">         256</td><td style=\"text-align: right;\">          2</td><td style=\"text-align: right;\">        25.46   </td><td style=\"text-align: right;\">     2</td></tr>\n",
       "<tr><td>train_AE_98c5cda2</td><td>TERMINATED</td><td>                  </td><td style=\"text-align: right;\">   2.42553e-05</td><td style=\"text-align: right;\">0.0346443  </td><td style=\"text-align: right;\">          32</td><td style=\"text-align: right;\">          4</td><td style=\"text-align: right;\">        10.6789 </td><td style=\"text-align: right;\">     2</td></tr>\n",
       "<tr><td>train_AE_98c5ec42</td><td>TERMINATED</td><td>                  </td><td style=\"text-align: right;\">   0.00872061 </td><td style=\"text-align: right;\">0.00762453 </td><td style=\"text-align: right;\">          64</td><td style=\"text-align: right;\">          3</td><td style=\"text-align: right;\">         8.97172</td><td style=\"text-align: right;\">     2</td></tr>\n",
       "<tr><td>train_AE_98c60ace</td><td>RUNNING   </td><td>                  </td><td style=\"text-align: right;\">              </td><td style=\"text-align: right;\">           </td><td style=\"text-align: right;\">            </td><td style=\"text-align: right;\">           </td><td style=\"text-align: right;\">                </td><td style=\"text-align: right;\">      </td></tr>\n",
       "<tr><td>train_AE_98c62950</td><td>PENDING   </td><td>                  </td><td style=\"text-align: right;\">              </td><td style=\"text-align: right;\">           </td><td style=\"text-align: right;\">            </td><td style=\"text-align: right;\">           </td><td style=\"text-align: right;\">                </td><td style=\"text-align: right;\">      </td></tr>\n",
       "<tr><td>train_AE_98c647fa</td><td>PENDING   </td><td>                  </td><td style=\"text-align: right;\">              </td><td style=\"text-align: right;\">           </td><td style=\"text-align: right;\">            </td><td style=\"text-align: right;\">           </td><td style=\"text-align: right;\">                </td><td style=\"text-align: right;\">      </td></tr>\n",
       "<tr><td>train_AE_98c666ae</td><td>PENDING   </td><td>                  </td><td style=\"text-align: right;\">              </td><td style=\"text-align: right;\">           </td><td style=\"text-align: right;\">            </td><td style=\"text-align: right;\">           </td><td style=\"text-align: right;\">                </td><td style=\"text-align: right;\">      </td></tr>\n",
       "<tr><td>train_AE_98c685a8</td><td>PENDING   </td><td>                  </td><td style=\"text-align: right;\">              </td><td style=\"text-align: right;\">           </td><td style=\"text-align: right;\">            </td><td style=\"text-align: right;\">           </td><td style=\"text-align: right;\">                </td><td style=\"text-align: right;\">      </td></tr>\n",
       "<tr><td>train_AE_98c6a380</td><td>PENDING   </td><td>                  </td><td style=\"text-align: right;\">              </td><td style=\"text-align: right;\">           </td><td style=\"text-align: right;\">            </td><td style=\"text-align: right;\">           </td><td style=\"text-align: right;\">                </td><td style=\"text-align: right;\">      </td></tr>\n",
       "<tr><td>train_AE_98c6c6ee</td><td>PENDING   </td><td>                  </td><td style=\"text-align: right;\">              </td><td style=\"text-align: right;\">           </td><td style=\"text-align: right;\">            </td><td style=\"text-align: right;\">           </td><td style=\"text-align: right;\">                </td><td style=\"text-align: right;\">      </td></tr>\n",
       "</tbody>\n",
       "</table><br><br>"
      ],
      "text/plain": [
       "<IPython.core.display.HTML object>"
      ]
     },
     "metadata": {},
     "output_type": "display_data"
    },
    {
     "data": {
      "text/html": [
       "== Status ==<br>Memory usage on this node: 20.0/32.0 GiB<br>Using FIFO scheduling algorithm.<br>Resources requested: 10/12 CPUs, 0/0 GPUs, 0.0/12.35 GiB heap, 0.0/4.25 GiB objects<br>Result logdir: /Users/natasha/Desktop/mcgill_postdoc/ncbi_genomes/genome_embeddings/TUNE_RESULT_DIR/exp_1<br>Number of trials: 10 (3 TERMINATED, 2 RUNNING, 5 PENDING)<br><table>\n",
       "<thead>\n",
       "<tr><th>Trial name       </th><th>status    </th><th>loc               </th><th style=\"text-align: right;\">  weight_decay</th><th style=\"text-align: right;\">         lr</th><th style=\"text-align: right;\">  batch_size</th><th style=\"text-align: right;\">  nn_layers</th><th style=\"text-align: right;\">  total time (s)</th><th style=\"text-align: right;\">  iter</th></tr>\n",
       "</thead>\n",
       "<tbody>\n",
       "<tr><td>train_AE_98c5ab88</td><td>TERMINATED</td><td>                  </td><td style=\"text-align: right;\">   4.0075e-05 </td><td style=\"text-align: right;\">0.000126821</td><td style=\"text-align: right;\">         256</td><td style=\"text-align: right;\">          2</td><td style=\"text-align: right;\">        25.46   </td><td style=\"text-align: right;\">     2</td></tr>\n",
       "<tr><td>train_AE_98c5cda2</td><td>TERMINATED</td><td>                  </td><td style=\"text-align: right;\">   2.42553e-05</td><td style=\"text-align: right;\">0.0346443  </td><td style=\"text-align: right;\">          32</td><td style=\"text-align: right;\">          4</td><td style=\"text-align: right;\">        10.6789 </td><td style=\"text-align: right;\">     2</td></tr>\n",
       "<tr><td>train_AE_98c5ec42</td><td>TERMINATED</td><td>                  </td><td style=\"text-align: right;\">   0.00872061 </td><td style=\"text-align: right;\">0.00762453 </td><td style=\"text-align: right;\">          64</td><td style=\"text-align: right;\">          3</td><td style=\"text-align: right;\">         8.97172</td><td style=\"text-align: right;\">     2</td></tr>\n",
       "<tr><td>train_AE_98c60ace</td><td>RUNNING   </td><td>192.168.2.23:77304</td><td style=\"text-align: right;\">   0.00725349 </td><td style=\"text-align: right;\">0.000260013</td><td style=\"text-align: right;\">          32</td><td style=\"text-align: right;\">          2</td><td style=\"text-align: right;\">         7.99073</td><td style=\"text-align: right;\">     2</td></tr>\n",
       "<tr><td>train_AE_98c62950</td><td>RUNNING   </td><td>                  </td><td style=\"text-align: right;\">              </td><td style=\"text-align: right;\">           </td><td style=\"text-align: right;\">            </td><td style=\"text-align: right;\">           </td><td style=\"text-align: right;\">                </td><td style=\"text-align: right;\">      </td></tr>\n",
       "<tr><td>train_AE_98c647fa</td><td>PENDING   </td><td>                  </td><td style=\"text-align: right;\">              </td><td style=\"text-align: right;\">           </td><td style=\"text-align: right;\">            </td><td style=\"text-align: right;\">           </td><td style=\"text-align: right;\">                </td><td style=\"text-align: right;\">      </td></tr>\n",
       "<tr><td>train_AE_98c666ae</td><td>PENDING   </td><td>                  </td><td style=\"text-align: right;\">              </td><td style=\"text-align: right;\">           </td><td style=\"text-align: right;\">            </td><td style=\"text-align: right;\">           </td><td style=\"text-align: right;\">                </td><td style=\"text-align: right;\">      </td></tr>\n",
       "<tr><td>train_AE_98c685a8</td><td>PENDING   </td><td>                  </td><td style=\"text-align: right;\">              </td><td style=\"text-align: right;\">           </td><td style=\"text-align: right;\">            </td><td style=\"text-align: right;\">           </td><td style=\"text-align: right;\">                </td><td style=\"text-align: right;\">      </td></tr>\n",
       "<tr><td>train_AE_98c6a380</td><td>PENDING   </td><td>                  </td><td style=\"text-align: right;\">              </td><td style=\"text-align: right;\">           </td><td style=\"text-align: right;\">            </td><td style=\"text-align: right;\">           </td><td style=\"text-align: right;\">                </td><td style=\"text-align: right;\">      </td></tr>\n",
       "<tr><td>train_AE_98c6c6ee</td><td>PENDING   </td><td>                  </td><td style=\"text-align: right;\">              </td><td style=\"text-align: right;\">           </td><td style=\"text-align: right;\">            </td><td style=\"text-align: right;\">           </td><td style=\"text-align: right;\">                </td><td style=\"text-align: right;\">      </td></tr>\n",
       "</tbody>\n",
       "</table><br><br>"
      ],
      "text/plain": [
       "<IPython.core.display.HTML object>"
      ]
     },
     "metadata": {},
     "output_type": "display_data"
    },
    {
     "data": {
      "text/html": [
       "== Status ==<br>Memory usage on this node: 18.4/32.0 GiB<br>Using FIFO scheduling algorithm.<br>Resources requested: 10/12 CPUs, 0/0 GPUs, 0.0/7.42 GiB heap, 0.0/2.54 GiB objects<br>Result logdir: /Users/natasha/Desktop/mcgill_postdoc/ncbi_genomes/genome_embeddings/TUNE_RESULT_DIR/exp_1<br>Number of trials: 10 (4 TERMINATED, 2 RUNNING, 4 PENDING)<br><table>\n",
       "<thead>\n",
       "<tr><th>Trial name       </th><th>status    </th><th>loc  </th><th style=\"text-align: right;\">  weight_decay</th><th style=\"text-align: right;\">         lr</th><th style=\"text-align: right;\">  batch_size</th><th style=\"text-align: right;\">  nn_layers</th><th style=\"text-align: right;\">  total time (s)</th><th style=\"text-align: right;\">  iter</th></tr>\n",
       "</thead>\n",
       "<tbody>\n",
       "<tr><td>train_AE_98c5ab88</td><td>TERMINATED</td><td>     </td><td style=\"text-align: right;\">   4.0075e-05 </td><td style=\"text-align: right;\">0.000126821</td><td style=\"text-align: right;\">         256</td><td style=\"text-align: right;\">          2</td><td style=\"text-align: right;\">        25.46   </td><td style=\"text-align: right;\">     2</td></tr>\n",
       "<tr><td>train_AE_98c5cda2</td><td>TERMINATED</td><td>     </td><td style=\"text-align: right;\">   2.42553e-05</td><td style=\"text-align: right;\">0.0346443  </td><td style=\"text-align: right;\">          32</td><td style=\"text-align: right;\">          4</td><td style=\"text-align: right;\">        10.6789 </td><td style=\"text-align: right;\">     2</td></tr>\n",
       "<tr><td>train_AE_98c5ec42</td><td>TERMINATED</td><td>     </td><td style=\"text-align: right;\">   0.00872061 </td><td style=\"text-align: right;\">0.00762453 </td><td style=\"text-align: right;\">          64</td><td style=\"text-align: right;\">          3</td><td style=\"text-align: right;\">         8.97172</td><td style=\"text-align: right;\">     2</td></tr>\n",
       "<tr><td>train_AE_98c60ace</td><td>TERMINATED</td><td>     </td><td style=\"text-align: right;\">   0.00725349 </td><td style=\"text-align: right;\">0.000260013</td><td style=\"text-align: right;\">          32</td><td style=\"text-align: right;\">          2</td><td style=\"text-align: right;\">         7.99073</td><td style=\"text-align: right;\">     2</td></tr>\n",
       "<tr><td>train_AE_98c62950</td><td>RUNNING   </td><td>     </td><td style=\"text-align: right;\">              </td><td style=\"text-align: right;\">           </td><td style=\"text-align: right;\">            </td><td style=\"text-align: right;\">           </td><td style=\"text-align: right;\">                </td><td style=\"text-align: right;\">      </td></tr>\n",
       "<tr><td>train_AE_98c647fa</td><td>RUNNING   </td><td>     </td><td style=\"text-align: right;\">              </td><td style=\"text-align: right;\">           </td><td style=\"text-align: right;\">            </td><td style=\"text-align: right;\">           </td><td style=\"text-align: right;\">                </td><td style=\"text-align: right;\">      </td></tr>\n",
       "<tr><td>train_AE_98c666ae</td><td>PENDING   </td><td>     </td><td style=\"text-align: right;\">              </td><td style=\"text-align: right;\">           </td><td style=\"text-align: right;\">            </td><td style=\"text-align: right;\">           </td><td style=\"text-align: right;\">                </td><td style=\"text-align: right;\">      </td></tr>\n",
       "<tr><td>train_AE_98c685a8</td><td>PENDING   </td><td>     </td><td style=\"text-align: right;\">              </td><td style=\"text-align: right;\">           </td><td style=\"text-align: right;\">            </td><td style=\"text-align: right;\">           </td><td style=\"text-align: right;\">                </td><td style=\"text-align: right;\">      </td></tr>\n",
       "<tr><td>train_AE_98c6a380</td><td>PENDING   </td><td>     </td><td style=\"text-align: right;\">              </td><td style=\"text-align: right;\">           </td><td style=\"text-align: right;\">            </td><td style=\"text-align: right;\">           </td><td style=\"text-align: right;\">                </td><td style=\"text-align: right;\">      </td></tr>\n",
       "<tr><td>train_AE_98c6c6ee</td><td>PENDING   </td><td>     </td><td style=\"text-align: right;\">              </td><td style=\"text-align: right;\">           </td><td style=\"text-align: right;\">            </td><td style=\"text-align: right;\">           </td><td style=\"text-align: right;\">                </td><td style=\"text-align: right;\">      </td></tr>\n",
       "</tbody>\n",
       "</table><br><br>"
      ],
      "text/plain": [
       "<IPython.core.display.HTML object>"
      ]
     },
     "metadata": {},
     "output_type": "display_data"
    },
    {
     "data": {
      "text/html": [
       "== Status ==<br>Memory usage on this node: 12.8/32.0 GiB<br>Using FIFO scheduling algorithm.<br>Resources requested: 10/12 CPUs, 0/0 GPUs, 0.0/12.21 GiB heap, 0.0/4.2 GiB objects<br>Result logdir: /Users/natasha/Desktop/mcgill_postdoc/ncbi_genomes/genome_embeddings/TUNE_RESULT_DIR/exp_1<br>Number of trials: 10 (4 TERMINATED, 2 RUNNING, 4 PENDING)<br><table>\n",
       "<thead>\n",
       "<tr><th>Trial name       </th><th>status    </th><th>loc               </th><th style=\"text-align: right;\">  weight_decay</th><th style=\"text-align: right;\">         lr</th><th style=\"text-align: right;\">  batch_size</th><th style=\"text-align: right;\">  nn_layers</th><th style=\"text-align: right;\">  total time (s)</th><th style=\"text-align: right;\">  iter</th></tr>\n",
       "</thead>\n",
       "<tbody>\n",
       "<tr><td>train_AE_98c5ab88</td><td>TERMINATED</td><td>                  </td><td style=\"text-align: right;\">   4.0075e-05 </td><td style=\"text-align: right;\">0.000126821</td><td style=\"text-align: right;\">         256</td><td style=\"text-align: right;\">          2</td><td style=\"text-align: right;\">        25.46   </td><td style=\"text-align: right;\">     2</td></tr>\n",
       "<tr><td>train_AE_98c5cda2</td><td>TERMINATED</td><td>                  </td><td style=\"text-align: right;\">   2.42553e-05</td><td style=\"text-align: right;\">0.0346443  </td><td style=\"text-align: right;\">          32</td><td style=\"text-align: right;\">          4</td><td style=\"text-align: right;\">        10.6789 </td><td style=\"text-align: right;\">     2</td></tr>\n",
       "<tr><td>train_AE_98c5ec42</td><td>TERMINATED</td><td>                  </td><td style=\"text-align: right;\">   0.00872061 </td><td style=\"text-align: right;\">0.00762453 </td><td style=\"text-align: right;\">          64</td><td style=\"text-align: right;\">          3</td><td style=\"text-align: right;\">         8.97172</td><td style=\"text-align: right;\">     2</td></tr>\n",
       "<tr><td>train_AE_98c60ace</td><td>TERMINATED</td><td>                  </td><td style=\"text-align: right;\">   0.00725349 </td><td style=\"text-align: right;\">0.000260013</td><td style=\"text-align: right;\">          32</td><td style=\"text-align: right;\">          2</td><td style=\"text-align: right;\">         7.99073</td><td style=\"text-align: right;\">     2</td></tr>\n",
       "<tr><td>train_AE_98c62950</td><td>RUNNING   </td><td>192.168.2.23:77304</td><td style=\"text-align: right;\">   0.000186213</td><td style=\"text-align: right;\">0.000531964</td><td style=\"text-align: right;\">         256</td><td style=\"text-align: right;\">          1</td><td style=\"text-align: right;\">        23.4616 </td><td style=\"text-align: right;\">     2</td></tr>\n",
       "<tr><td>train_AE_98c647fa</td><td>RUNNING   </td><td>192.168.2.23:77304</td><td style=\"text-align: right;\">   0.00083588 </td><td style=\"text-align: right;\">0.0763175  </td><td style=\"text-align: right;\">          64</td><td style=\"text-align: right;\">          1</td><td style=\"text-align: right;\">        11.9729 </td><td style=\"text-align: right;\">     2</td></tr>\n",
       "<tr><td>train_AE_98c666ae</td><td>PENDING   </td><td>                  </td><td style=\"text-align: right;\">              </td><td style=\"text-align: right;\">           </td><td style=\"text-align: right;\">            </td><td style=\"text-align: right;\">           </td><td style=\"text-align: right;\">                </td><td style=\"text-align: right;\">      </td></tr>\n",
       "<tr><td>train_AE_98c685a8</td><td>PENDING   </td><td>                  </td><td style=\"text-align: right;\">              </td><td style=\"text-align: right;\">           </td><td style=\"text-align: right;\">            </td><td style=\"text-align: right;\">           </td><td style=\"text-align: right;\">                </td><td style=\"text-align: right;\">      </td></tr>\n",
       "<tr><td>train_AE_98c6a380</td><td>PENDING   </td><td>                  </td><td style=\"text-align: right;\">              </td><td style=\"text-align: right;\">           </td><td style=\"text-align: right;\">            </td><td style=\"text-align: right;\">           </td><td style=\"text-align: right;\">                </td><td style=\"text-align: right;\">      </td></tr>\n",
       "<tr><td>train_AE_98c6c6ee</td><td>PENDING   </td><td>                  </td><td style=\"text-align: right;\">              </td><td style=\"text-align: right;\">           </td><td style=\"text-align: right;\">            </td><td style=\"text-align: right;\">           </td><td style=\"text-align: right;\">                </td><td style=\"text-align: right;\">      </td></tr>\n",
       "</tbody>\n",
       "</table><br><br>"
      ],
      "text/plain": [
       "<IPython.core.display.HTML object>"
      ]
     },
     "metadata": {},
     "output_type": "display_data"
    },
    {
     "data": {
      "text/html": [
       "== Status ==<br>Memory usage on this node: 19.8/32.0 GiB<br>Using FIFO scheduling algorithm.<br>Resources requested: 10/12 CPUs, 0/0 GPUs, 0.0/12.21 GiB heap, 0.0/4.2 GiB objects<br>Result logdir: /Users/natasha/Desktop/mcgill_postdoc/ncbi_genomes/genome_embeddings/TUNE_RESULT_DIR/exp_1<br>Number of trials: 10 (5 TERMINATED, 2 RUNNING, 3 PENDING)<br><table>\n",
       "<thead>\n",
       "<tr><th>Trial name       </th><th>status    </th><th>loc               </th><th style=\"text-align: right;\">  weight_decay</th><th style=\"text-align: right;\">         lr</th><th style=\"text-align: right;\">  batch_size</th><th style=\"text-align: right;\">  nn_layers</th><th style=\"text-align: right;\">  total time (s)</th><th style=\"text-align: right;\">  iter</th></tr>\n",
       "</thead>\n",
       "<tbody>\n",
       "<tr><td>train_AE_98c5ab88</td><td>TERMINATED</td><td>                  </td><td style=\"text-align: right;\">   4.0075e-05 </td><td style=\"text-align: right;\">0.000126821</td><td style=\"text-align: right;\">         256</td><td style=\"text-align: right;\">          2</td><td style=\"text-align: right;\">        25.46   </td><td style=\"text-align: right;\">     2</td></tr>\n",
       "<tr><td>train_AE_98c5cda2</td><td>TERMINATED</td><td>                  </td><td style=\"text-align: right;\">   2.42553e-05</td><td style=\"text-align: right;\">0.0346443  </td><td style=\"text-align: right;\">          32</td><td style=\"text-align: right;\">          4</td><td style=\"text-align: right;\">        10.6789 </td><td style=\"text-align: right;\">     2</td></tr>\n",
       "<tr><td>train_AE_98c5ec42</td><td>TERMINATED</td><td>                  </td><td style=\"text-align: right;\">   0.00872061 </td><td style=\"text-align: right;\">0.00762453 </td><td style=\"text-align: right;\">          64</td><td style=\"text-align: right;\">          3</td><td style=\"text-align: right;\">         8.97172</td><td style=\"text-align: right;\">     2</td></tr>\n",
       "<tr><td>train_AE_98c60ace</td><td>TERMINATED</td><td>                  </td><td style=\"text-align: right;\">   0.00725349 </td><td style=\"text-align: right;\">0.000260013</td><td style=\"text-align: right;\">          32</td><td style=\"text-align: right;\">          2</td><td style=\"text-align: right;\">         7.99073</td><td style=\"text-align: right;\">     2</td></tr>\n",
       "<tr><td>train_AE_98c62950</td><td>RUNNING   </td><td>192.168.2.23:77304</td><td style=\"text-align: right;\">   0.000186213</td><td style=\"text-align: right;\">0.000531964</td><td style=\"text-align: right;\">         256</td><td style=\"text-align: right;\">          1</td><td style=\"text-align: right;\">        23.4616 </td><td style=\"text-align: right;\">     2</td></tr>\n",
       "<tr><td>train_AE_98c647fa</td><td>TERMINATED</td><td>                  </td><td style=\"text-align: right;\">   0.00083588 </td><td style=\"text-align: right;\">0.0763175  </td><td style=\"text-align: right;\">          64</td><td style=\"text-align: right;\">          1</td><td style=\"text-align: right;\">        11.9729 </td><td style=\"text-align: right;\">     2</td></tr>\n",
       "<tr><td>train_AE_98c666ae</td><td>RUNNING   </td><td>                  </td><td style=\"text-align: right;\">              </td><td style=\"text-align: right;\">           </td><td style=\"text-align: right;\">            </td><td style=\"text-align: right;\">           </td><td style=\"text-align: right;\">                </td><td style=\"text-align: right;\">      </td></tr>\n",
       "<tr><td>train_AE_98c685a8</td><td>PENDING   </td><td>                  </td><td style=\"text-align: right;\">              </td><td style=\"text-align: right;\">           </td><td style=\"text-align: right;\">            </td><td style=\"text-align: right;\">           </td><td style=\"text-align: right;\">                </td><td style=\"text-align: right;\">      </td></tr>\n",
       "<tr><td>train_AE_98c6a380</td><td>PENDING   </td><td>                  </td><td style=\"text-align: right;\">              </td><td style=\"text-align: right;\">           </td><td style=\"text-align: right;\">            </td><td style=\"text-align: right;\">           </td><td style=\"text-align: right;\">                </td><td style=\"text-align: right;\">      </td></tr>\n",
       "<tr><td>train_AE_98c6c6ee</td><td>PENDING   </td><td>                  </td><td style=\"text-align: right;\">              </td><td style=\"text-align: right;\">           </td><td style=\"text-align: right;\">            </td><td style=\"text-align: right;\">           </td><td style=\"text-align: right;\">                </td><td style=\"text-align: right;\">      </td></tr>\n",
       "</tbody>\n",
       "</table><br><br>"
      ],
      "text/plain": [
       "<IPython.core.display.HTML object>"
      ]
     },
     "metadata": {},
     "output_type": "display_data"
    },
    {
     "data": {
      "text/html": [
       "== Status ==<br>Memory usage on this node: 18.3/32.0 GiB<br>Using FIFO scheduling algorithm.<br>Resources requested: 10/12 CPUs, 0/0 GPUs, 0.0/7.57 GiB heap, 0.0/2.59 GiB objects<br>Result logdir: /Users/natasha/Desktop/mcgill_postdoc/ncbi_genomes/genome_embeddings/TUNE_RESULT_DIR/exp_1<br>Number of trials: 10 (6 TERMINATED, 2 RUNNING, 2 PENDING)<br><table>\n",
       "<thead>\n",
       "<tr><th>Trial name       </th><th>status    </th><th>loc               </th><th style=\"text-align: right;\">  weight_decay</th><th style=\"text-align: right;\">         lr</th><th style=\"text-align: right;\">  batch_size</th><th style=\"text-align: right;\">  nn_layers</th><th style=\"text-align: right;\">  total time (s)</th><th style=\"text-align: right;\">  iter</th></tr>\n",
       "</thead>\n",
       "<tbody>\n",
       "<tr><td>train_AE_98c5ab88</td><td>TERMINATED</td><td>                  </td><td style=\"text-align: right;\">   4.0075e-05 </td><td style=\"text-align: right;\">0.000126821</td><td style=\"text-align: right;\">         256</td><td style=\"text-align: right;\">          2</td><td style=\"text-align: right;\">        25.46   </td><td style=\"text-align: right;\">     2</td></tr>\n",
       "<tr><td>train_AE_98c5cda2</td><td>TERMINATED</td><td>                  </td><td style=\"text-align: right;\">   2.42553e-05</td><td style=\"text-align: right;\">0.0346443  </td><td style=\"text-align: right;\">          32</td><td style=\"text-align: right;\">          4</td><td style=\"text-align: right;\">        10.6789 </td><td style=\"text-align: right;\">     2</td></tr>\n",
       "<tr><td>train_AE_98c5ec42</td><td>TERMINATED</td><td>                  </td><td style=\"text-align: right;\">   0.00872061 </td><td style=\"text-align: right;\">0.00762453 </td><td style=\"text-align: right;\">          64</td><td style=\"text-align: right;\">          3</td><td style=\"text-align: right;\">         8.97172</td><td style=\"text-align: right;\">     2</td></tr>\n",
       "<tr><td>train_AE_98c60ace</td><td>TERMINATED</td><td>                  </td><td style=\"text-align: right;\">   0.00725349 </td><td style=\"text-align: right;\">0.000260013</td><td style=\"text-align: right;\">          32</td><td style=\"text-align: right;\">          2</td><td style=\"text-align: right;\">         7.99073</td><td style=\"text-align: right;\">     2</td></tr>\n",
       "<tr><td>train_AE_98c62950</td><td>TERMINATED</td><td>                  </td><td style=\"text-align: right;\">   0.000186213</td><td style=\"text-align: right;\">0.000531964</td><td style=\"text-align: right;\">         256</td><td style=\"text-align: right;\">          1</td><td style=\"text-align: right;\">        23.4616 </td><td style=\"text-align: right;\">     2</td></tr>\n",
       "<tr><td>train_AE_98c647fa</td><td>TERMINATED</td><td>                  </td><td style=\"text-align: right;\">   0.00083588 </td><td style=\"text-align: right;\">0.0763175  </td><td style=\"text-align: right;\">          64</td><td style=\"text-align: right;\">          1</td><td style=\"text-align: right;\">        11.9729 </td><td style=\"text-align: right;\">     2</td></tr>\n",
       "<tr><td>train_AE_98c666ae</td><td>RUNNING   </td><td>192.168.2.23:77304</td><td style=\"text-align: right;\">   3.88528e-05</td><td style=\"text-align: right;\">0.0812853  </td><td style=\"text-align: right;\">          32</td><td style=\"text-align: right;\">          3</td><td style=\"text-align: right;\">         7.54954</td><td style=\"text-align: right;\">     1</td></tr>\n",
       "<tr><td>train_AE_98c685a8</td><td>RUNNING   </td><td>                  </td><td style=\"text-align: right;\">              </td><td style=\"text-align: right;\">           </td><td style=\"text-align: right;\">            </td><td style=\"text-align: right;\">           </td><td style=\"text-align: right;\">                </td><td style=\"text-align: right;\">      </td></tr>\n",
       "<tr><td>train_AE_98c6a380</td><td>PENDING   </td><td>                  </td><td style=\"text-align: right;\">              </td><td style=\"text-align: right;\">           </td><td style=\"text-align: right;\">            </td><td style=\"text-align: right;\">           </td><td style=\"text-align: right;\">                </td><td style=\"text-align: right;\">      </td></tr>\n",
       "<tr><td>train_AE_98c6c6ee</td><td>PENDING   </td><td>                  </td><td style=\"text-align: right;\">              </td><td style=\"text-align: right;\">           </td><td style=\"text-align: right;\">            </td><td style=\"text-align: right;\">           </td><td style=\"text-align: right;\">                </td><td style=\"text-align: right;\">      </td></tr>\n",
       "</tbody>\n",
       "</table><br><br>"
      ],
      "text/plain": [
       "<IPython.core.display.HTML object>"
      ]
     },
     "metadata": {},
     "output_type": "display_data"
    },
    {
     "data": {
      "text/html": [
       "== Status ==<br>Memory usage on this node: 18.4/32.0 GiB<br>Using FIFO scheduling algorithm.<br>Resources requested: 10/12 CPUs, 0/0 GPUs, 0.0/9.52 GiB heap, 0.0/3.27 GiB objects<br>Result logdir: /Users/natasha/Desktop/mcgill_postdoc/ncbi_genomes/genome_embeddings/TUNE_RESULT_DIR/exp_1<br>Number of trials: 10 (7 TERMINATED, 2 RUNNING, 1 PENDING)<br><table>\n",
       "<thead>\n",
       "<tr><th>Trial name       </th><th>status    </th><th>loc               </th><th style=\"text-align: right;\">  weight_decay</th><th style=\"text-align: right;\">         lr</th><th style=\"text-align: right;\">  batch_size</th><th style=\"text-align: right;\">  nn_layers</th><th style=\"text-align: right;\">  total time (s)</th><th style=\"text-align: right;\">  iter</th></tr>\n",
       "</thead>\n",
       "<tbody>\n",
       "<tr><td>train_AE_98c5ab88</td><td>TERMINATED</td><td>                  </td><td style=\"text-align: right;\">   4.0075e-05 </td><td style=\"text-align: right;\">0.000126821</td><td style=\"text-align: right;\">         256</td><td style=\"text-align: right;\">          2</td><td style=\"text-align: right;\">        25.46   </td><td style=\"text-align: right;\">     2</td></tr>\n",
       "<tr><td>train_AE_98c5cda2</td><td>TERMINATED</td><td>                  </td><td style=\"text-align: right;\">   2.42553e-05</td><td style=\"text-align: right;\">0.0346443  </td><td style=\"text-align: right;\">          32</td><td style=\"text-align: right;\">          4</td><td style=\"text-align: right;\">        10.6789 </td><td style=\"text-align: right;\">     2</td></tr>\n",
       "<tr><td>train_AE_98c5ec42</td><td>TERMINATED</td><td>                  </td><td style=\"text-align: right;\">   0.00872061 </td><td style=\"text-align: right;\">0.00762453 </td><td style=\"text-align: right;\">          64</td><td style=\"text-align: right;\">          3</td><td style=\"text-align: right;\">         8.97172</td><td style=\"text-align: right;\">     2</td></tr>\n",
       "<tr><td>train_AE_98c60ace</td><td>TERMINATED</td><td>                  </td><td style=\"text-align: right;\">   0.00725349 </td><td style=\"text-align: right;\">0.000260013</td><td style=\"text-align: right;\">          32</td><td style=\"text-align: right;\">          2</td><td style=\"text-align: right;\">         7.99073</td><td style=\"text-align: right;\">     2</td></tr>\n",
       "<tr><td>train_AE_98c62950</td><td>TERMINATED</td><td>                  </td><td style=\"text-align: right;\">   0.000186213</td><td style=\"text-align: right;\">0.000531964</td><td style=\"text-align: right;\">         256</td><td style=\"text-align: right;\">          1</td><td style=\"text-align: right;\">        23.4616 </td><td style=\"text-align: right;\">     2</td></tr>\n",
       "<tr><td>train_AE_98c647fa</td><td>TERMINATED</td><td>                  </td><td style=\"text-align: right;\">   0.00083588 </td><td style=\"text-align: right;\">0.0763175  </td><td style=\"text-align: right;\">          64</td><td style=\"text-align: right;\">          1</td><td style=\"text-align: right;\">        11.9729 </td><td style=\"text-align: right;\">     2</td></tr>\n",
       "<tr><td>train_AE_98c666ae</td><td>TERMINATED</td><td>                  </td><td style=\"text-align: right;\">   3.88528e-05</td><td style=\"text-align: right;\">0.0812853  </td><td style=\"text-align: right;\">          32</td><td style=\"text-align: right;\">          3</td><td style=\"text-align: right;\">         7.92407</td><td style=\"text-align: right;\">     2</td></tr>\n",
       "<tr><td>train_AE_98c685a8</td><td>RUNNING   </td><td>192.168.2.23:77304</td><td style=\"text-align: right;\">   0.000565709</td><td style=\"text-align: right;\">0.000858968</td><td style=\"text-align: right;\">         256</td><td style=\"text-align: right;\">          2</td><td style=\"text-align: right;\">        12.2876 </td><td style=\"text-align: right;\">     1</td></tr>\n",
       "<tr><td>train_AE_98c6a380</td><td>RUNNING   </td><td>                  </td><td style=\"text-align: right;\">              </td><td style=\"text-align: right;\">           </td><td style=\"text-align: right;\">            </td><td style=\"text-align: right;\">           </td><td style=\"text-align: right;\">                </td><td style=\"text-align: right;\">      </td></tr>\n",
       "<tr><td>train_AE_98c6c6ee</td><td>PENDING   </td><td>                  </td><td style=\"text-align: right;\">              </td><td style=\"text-align: right;\">           </td><td style=\"text-align: right;\">            </td><td style=\"text-align: right;\">           </td><td style=\"text-align: right;\">                </td><td style=\"text-align: right;\">      </td></tr>\n",
       "</tbody>\n",
       "</table><br><br>"
      ],
      "text/plain": [
       "<IPython.core.display.HTML object>"
      ]
     },
     "metadata": {},
     "output_type": "display_data"
    },
    {
     "data": {
      "text/html": [
       "== Status ==<br>Memory usage on this node: 20.5/32.0 GiB<br>Using FIFO scheduling algorithm.<br>Resources requested: 10/12 CPUs, 0/0 GPUs, 0.0/12.79 GiB heap, 0.0/4.39 GiB objects<br>Result logdir: /Users/natasha/Desktop/mcgill_postdoc/ncbi_genomes/genome_embeddings/TUNE_RESULT_DIR/exp_1<br>Number of trials: 10 (8 TERMINATED, 2 RUNNING)<br><table>\n",
       "<thead>\n",
       "<tr><th>Trial name       </th><th>status    </th><th>loc               </th><th style=\"text-align: right;\">  weight_decay</th><th style=\"text-align: right;\">         lr</th><th style=\"text-align: right;\">  batch_size</th><th style=\"text-align: right;\">  nn_layers</th><th style=\"text-align: right;\">  total time (s)</th><th style=\"text-align: right;\">  iter</th></tr>\n",
       "</thead>\n",
       "<tbody>\n",
       "<tr><td>train_AE_98c5ab88</td><td>TERMINATED</td><td>                  </td><td style=\"text-align: right;\">   4.0075e-05 </td><td style=\"text-align: right;\">0.000126821</td><td style=\"text-align: right;\">         256</td><td style=\"text-align: right;\">          2</td><td style=\"text-align: right;\">        25.46   </td><td style=\"text-align: right;\">     2</td></tr>\n",
       "<tr><td>train_AE_98c5cda2</td><td>TERMINATED</td><td>                  </td><td style=\"text-align: right;\">   2.42553e-05</td><td style=\"text-align: right;\">0.0346443  </td><td style=\"text-align: right;\">          32</td><td style=\"text-align: right;\">          4</td><td style=\"text-align: right;\">        10.6789 </td><td style=\"text-align: right;\">     2</td></tr>\n",
       "<tr><td>train_AE_98c5ec42</td><td>TERMINATED</td><td>                  </td><td style=\"text-align: right;\">   0.00872061 </td><td style=\"text-align: right;\">0.00762453 </td><td style=\"text-align: right;\">          64</td><td style=\"text-align: right;\">          3</td><td style=\"text-align: right;\">         8.97172</td><td style=\"text-align: right;\">     2</td></tr>\n",
       "<tr><td>train_AE_98c60ace</td><td>TERMINATED</td><td>                  </td><td style=\"text-align: right;\">   0.00725349 </td><td style=\"text-align: right;\">0.000260013</td><td style=\"text-align: right;\">          32</td><td style=\"text-align: right;\">          2</td><td style=\"text-align: right;\">         7.99073</td><td style=\"text-align: right;\">     2</td></tr>\n",
       "<tr><td>train_AE_98c62950</td><td>TERMINATED</td><td>                  </td><td style=\"text-align: right;\">   0.000186213</td><td style=\"text-align: right;\">0.000531964</td><td style=\"text-align: right;\">         256</td><td style=\"text-align: right;\">          1</td><td style=\"text-align: right;\">        23.4616 </td><td style=\"text-align: right;\">     2</td></tr>\n",
       "<tr><td>train_AE_98c647fa</td><td>TERMINATED</td><td>                  </td><td style=\"text-align: right;\">   0.00083588 </td><td style=\"text-align: right;\">0.0763175  </td><td style=\"text-align: right;\">          64</td><td style=\"text-align: right;\">          1</td><td style=\"text-align: right;\">        11.9729 </td><td style=\"text-align: right;\">     2</td></tr>\n",
       "<tr><td>train_AE_98c666ae</td><td>TERMINATED</td><td>                  </td><td style=\"text-align: right;\">   3.88528e-05</td><td style=\"text-align: right;\">0.0812853  </td><td style=\"text-align: right;\">          32</td><td style=\"text-align: right;\">          3</td><td style=\"text-align: right;\">         7.92407</td><td style=\"text-align: right;\">     2</td></tr>\n",
       "<tr><td>train_AE_98c685a8</td><td>RUNNING   </td><td>192.168.2.23:77304</td><td style=\"text-align: right;\">   0.000565709</td><td style=\"text-align: right;\">0.000858968</td><td style=\"text-align: right;\">         256</td><td style=\"text-align: right;\">          2</td><td style=\"text-align: right;\">        14.5279 </td><td style=\"text-align: right;\">     2</td></tr>\n",
       "<tr><td>train_AE_98c6a380</td><td>TERMINATED</td><td>                  </td><td style=\"text-align: right;\">   0.000113654</td><td style=\"text-align: right;\">0.00485266 </td><td style=\"text-align: right;\">          64</td><td style=\"text-align: right;\">          2</td><td style=\"text-align: right;\">        10.8235 </td><td style=\"text-align: right;\">     2</td></tr>\n",
       "<tr><td>train_AE_98c6c6ee</td><td>RUNNING   </td><td>                  </td><td style=\"text-align: right;\">              </td><td style=\"text-align: right;\">           </td><td style=\"text-align: right;\">            </td><td style=\"text-align: right;\">           </td><td style=\"text-align: right;\">                </td><td style=\"text-align: right;\">      </td></tr>\n",
       "</tbody>\n",
       "</table><br><br>"
      ],
      "text/plain": [
       "<IPython.core.display.HTML object>"
      ]
     },
     "metadata": {},
     "output_type": "display_data"
    },
    {
     "data": {
      "text/html": [
       "== Status ==<br>Memory usage on this node: 11.2/32.0 GiB<br>Using FIFO scheduling algorithm.<br>Resources requested: 0/12 CPUs, 0/0 GPUs, 0.0/12.7 GiB heap, 0.0/4.39 GiB objects<br>Result logdir: /Users/natasha/Desktop/mcgill_postdoc/ncbi_genomes/genome_embeddings/TUNE_RESULT_DIR/exp_1<br>Number of trials: 10 (10 TERMINATED)<br><table>\n",
       "<thead>\n",
       "<tr><th>Trial name       </th><th>status    </th><th>loc  </th><th style=\"text-align: right;\">  weight_decay</th><th style=\"text-align: right;\">         lr</th><th style=\"text-align: right;\">  batch_size</th><th style=\"text-align: right;\">  nn_layers</th><th style=\"text-align: right;\">  total time (s)</th><th style=\"text-align: right;\">  iter</th></tr>\n",
       "</thead>\n",
       "<tbody>\n",
       "<tr><td>train_AE_98c5ab88</td><td>TERMINATED</td><td>     </td><td style=\"text-align: right;\">   4.0075e-05 </td><td style=\"text-align: right;\">0.000126821</td><td style=\"text-align: right;\">         256</td><td style=\"text-align: right;\">          2</td><td style=\"text-align: right;\">        25.46   </td><td style=\"text-align: right;\">     2</td></tr>\n",
       "<tr><td>train_AE_98c5cda2</td><td>TERMINATED</td><td>     </td><td style=\"text-align: right;\">   2.42553e-05</td><td style=\"text-align: right;\">0.0346443  </td><td style=\"text-align: right;\">          32</td><td style=\"text-align: right;\">          4</td><td style=\"text-align: right;\">        10.6789 </td><td style=\"text-align: right;\">     2</td></tr>\n",
       "<tr><td>train_AE_98c5ec42</td><td>TERMINATED</td><td>     </td><td style=\"text-align: right;\">   0.00872061 </td><td style=\"text-align: right;\">0.00762453 </td><td style=\"text-align: right;\">          64</td><td style=\"text-align: right;\">          3</td><td style=\"text-align: right;\">         8.97172</td><td style=\"text-align: right;\">     2</td></tr>\n",
       "<tr><td>train_AE_98c60ace</td><td>TERMINATED</td><td>     </td><td style=\"text-align: right;\">   0.00725349 </td><td style=\"text-align: right;\">0.000260013</td><td style=\"text-align: right;\">          32</td><td style=\"text-align: right;\">          2</td><td style=\"text-align: right;\">         7.99073</td><td style=\"text-align: right;\">     2</td></tr>\n",
       "<tr><td>train_AE_98c62950</td><td>TERMINATED</td><td>     </td><td style=\"text-align: right;\">   0.000186213</td><td style=\"text-align: right;\">0.000531964</td><td style=\"text-align: right;\">         256</td><td style=\"text-align: right;\">          1</td><td style=\"text-align: right;\">        23.4616 </td><td style=\"text-align: right;\">     2</td></tr>\n",
       "<tr><td>train_AE_98c647fa</td><td>TERMINATED</td><td>     </td><td style=\"text-align: right;\">   0.00083588 </td><td style=\"text-align: right;\">0.0763175  </td><td style=\"text-align: right;\">          64</td><td style=\"text-align: right;\">          1</td><td style=\"text-align: right;\">        11.9729 </td><td style=\"text-align: right;\">     2</td></tr>\n",
       "<tr><td>train_AE_98c666ae</td><td>TERMINATED</td><td>     </td><td style=\"text-align: right;\">   3.88528e-05</td><td style=\"text-align: right;\">0.0812853  </td><td style=\"text-align: right;\">          32</td><td style=\"text-align: right;\">          3</td><td style=\"text-align: right;\">         7.92407</td><td style=\"text-align: right;\">     2</td></tr>\n",
       "<tr><td>train_AE_98c685a8</td><td>TERMINATED</td><td>     </td><td style=\"text-align: right;\">   0.000565709</td><td style=\"text-align: right;\">0.000858968</td><td style=\"text-align: right;\">         256</td><td style=\"text-align: right;\">          2</td><td style=\"text-align: right;\">        14.5279 </td><td style=\"text-align: right;\">     2</td></tr>\n",
       "<tr><td>train_AE_98c6a380</td><td>TERMINATED</td><td>     </td><td style=\"text-align: right;\">   0.000113654</td><td style=\"text-align: right;\">0.00485266 </td><td style=\"text-align: right;\">          64</td><td style=\"text-align: right;\">          2</td><td style=\"text-align: right;\">        10.8235 </td><td style=\"text-align: right;\">     2</td></tr>\n",
       "<tr><td>train_AE_98c6c6ee</td><td>TERMINATED</td><td>     </td><td style=\"text-align: right;\">   4.28925e-05</td><td style=\"text-align: right;\">0.00824398 </td><td style=\"text-align: right;\">         256</td><td style=\"text-align: right;\">          2</td><td style=\"text-align: right;\">        11.0942 </td><td style=\"text-align: right;\">     2</td></tr>\n",
       "</tbody>\n",
       "</table><br><br>"
      ],
      "text/plain": [
       "<IPython.core.display.HTML object>"
      ]
     },
     "metadata": {},
     "output_type": "display_data"
    }
   ],
   "source": [
    "analysis = tune.run(\n",
    "    trainable.train_AE, \n",
    "    name=\"exp_1\",\n",
    "    config=config,\n",
    "#    search_alg=algo,\n",
    "    verbose=2, \n",
    "    resources_per_trial={\n",
    "            \"cpu\": settings.num_cpus,\n",
    "            \"gpu\": 0\n",
    "    },\n",
    "    num_samples=10,  #BUMP UP TO 1000\n",
    "#    scheduler=bohb,\n",
    "    local_dir=settings.SAVE_FP+\"TUNE_RESULT_DIR\",\n",
    "#    stop=trainable.EarlyStopping(\"test_f1\") # if search results aren't improving anymore\n",
    "    )\n",
    "\n",
    "#print(\"Best config is:\", analysis.get_best_config(metric=\"test_f1\"))"
   ]
  },
  {
   "cell_type": "code",
   "execution_count": 94,
   "metadata": {},
   "outputs": [],
   "source": [
    "print(\"Best config is:\", analysis.get_best_config(metric=\"test_f1\"))"
   ]
  },
  {
   "cell_type": "code",
   "execution_count": 95,
   "metadata": {},
   "outputs": [
    {
     "data": {
      "text/plain": [
       "{'num_workers': 1,\n",
       " 'num_epochs': 2,\n",
       " 'kfolds': 10,\n",
       " 'replacement_threshold': 0.5,\n",
       " 'nn_layers': 2,\n",
       " 'batch_size': 256,\n",
       " 'lr': 0.008243984166970744,\n",
       " 'weight_decay': 4.289251004627696e-05}"
      ]
     },
     "execution_count": 95,
     "metadata": {},
     "output_type": "execute_result"
    }
   ],
   "source": [
    "print(\"Best config based on test f1:\")\n",
    "analysis.get_best_config(metric=\"test_f1\")"
   ]
  },
  {
   "cell_type": "code",
   "execution_count": 91,
   "metadata": {},
   "outputs": [],
   "source": []
  },
  {
   "cell_type": "code",
   "execution_count": 81,
   "metadata": {
    "scrolled": true
   },
   "outputs": [],
   "source": [
    "# # for i in train_vars:\n",
    "# #     if isinstance(train_vars[i], dict):\n",
    "# #         print(\"Best \"+i+\":\", analysis.get_best_config(metric=\"test_f1\")[i])\n",
    "# for i in config:\n",
    "#     print(i)\n",
    "#     print(\"Best \"+i+\":\", analysis.get_best_config(metric=\"test_f1\")[i])"
   ]
  },
  {
   "cell_type": "code",
   "execution_count": null,
   "metadata": {},
   "outputs": [],
   "source": [
    "# analysis = tune.run(\n",
    "#     trainable.train_AE, \n",
    "#     name=\"exp_1\",\n",
    "#     config=train_vars, \n",
    "#     verbose=2, \n",
    "#     resources_per_trial={\n",
    "#             \"cpu\": 2,\n",
    "#             \"gpu\": 0\n",
    "#     },\n",
    "#     num_samples=2,\n",
    "#     scheduler=ASHAScheduler(metric=\"test_f1\", mode=\"max\", grace_period=1, time_attr=\"n_batch\"),\n",
    "#     local_dir=settings.SAVE_FP+\"TUNE_RESULT_DIR\"\n",
    "#     )\n",
    "\n",
    "# print(\"Best config is:\", analysis.get_best_config(metric=\"test_f1\"))"
   ]
  },
  {
   "cell_type": "code",
   "execution_count": null,
   "metadata": {},
   "outputs": [],
   "source": [
    "# analysis.dataframe()[\"logdir\"][0]"
   ]
  },
  {
   "cell_type": "code",
   "execution_count": null,
   "metadata": {},
   "outputs": [],
   "source": [
    "# train the model\n",
    "# train_losses, test_losses, train_f1_scores, test_f1_scores = train_test.train_model(loaders, \n",
    "#         model, settings.num_epochs, flags.print_every,\n",
    "#         settings.SAVE_FP, flags.replacement_threshold, cluster_names, flags.cirriculum, train_data[:,:len(cluster_names)],\n",
    "#         search_space)\n",
    "#train_losses, test_losses, train_f1_scores, test_f1_scores = train_test.train_model(train_vars, hyperparams)"
   ]
  },
  {
   "cell_type": "markdown",
   "metadata": {},
   "source": [
    "### Evaluate model performance"
   ]
  },
  {
   "cell_type": "code",
   "execution_count": null,
   "metadata": {},
   "outputs": [],
   "source": [
    "# # evaluate model performance\n",
    "# perf_lc = data_viz.learning_curve(train_f1_scores, test_f1_scores, \"performance\", flags.cirriculum)"
   ]
  },
  {
   "cell_type": "code",
   "execution_count": null,
   "metadata": {},
   "outputs": [],
   "source": [
    "# # evaluate model performance\n",
    "# optim_lc = data_viz.learning_curve(train_losses, test_losses, \"optimization\", flags.cirriculum)"
   ]
  },
  {
   "cell_type": "code",
   "execution_count": null,
   "metadata": {},
   "outputs": [],
   "source": [
    "# # first convert test_data from subset -> tensor, split corrupt vs target sets\n",
    "# tensor_test_data = torch.tensor([i.numpy() for i in test_data]).float()\n",
    "# corrupt_test_data = tensor_test_data[:,:num_features]\n",
    "# target = tensor_test_data[:,num_features:].detach().numpy()"
   ]
  },
  {
   "cell_type": "code",
   "execution_count": null,
   "metadata": {},
   "outputs": [],
   "source": [
    "# # Generate probabilities for ROC curve\n",
    "# model.eval()\n",
    "# with torch.no_grad():\n",
    "#     y_probas = model(corrupt_test_data) # predicted probabilities generated by model"
   ]
  },
  {
   "cell_type": "code",
   "execution_count": null,
   "metadata": {},
   "outputs": [],
   "source": [
    "# roc = data_viz.my_roc_curve(target, y_probas.numpy())"
   ]
  },
  {
   "cell_type": "code",
   "execution_count": null,
   "metadata": {},
   "outputs": [],
   "source": [
    "# util.log_results(roc, optim_lc, perf_lc, flags, model)"
   ]
  },
  {
   "cell_type": "code",
   "execution_count": null,
   "metadata": {},
   "outputs": [],
   "source": []
  },
  {
   "cell_type": "code",
   "execution_count": null,
   "metadata": {},
   "outputs": [],
   "source": []
  },
  {
   "cell_type": "code",
   "execution_count": null,
   "metadata": {},
   "outputs": [],
   "source": [
    "# # create embeddings for test set\n",
    "# #uncorrupt_test_data = tensor_test_data[:,len(cluster_names):]\n",
    "# #tensor_test_data = torch.tensor([i.numpy() for i in test_data]).float()\n",
    "# embeddings = train_test.generate_embeddings(model, corrupt_test_data)"
   ]
  },
  {
   "cell_type": "code",
   "execution_count": null,
   "metadata": {},
   "outputs": [],
   "source": [
    "#data_viz.plot_tSNE(embeddings, test_data, num_to_genome, genome_to_tax, test_tax_dict)"
   ]
  },
  {
   "cell_type": "code",
   "execution_count": null,
   "metadata": {},
   "outputs": [],
   "source": [
    "# # tSNE for corrupted genomes passed through untrained model\n",
    "# untrained_model = models.AutoEncoder(len(cluster_names))\n",
    "# untr_embeddings = train_test.generate_embeddings(untrained_model, corrupt_test_data)"
   ]
  },
  {
   "cell_type": "code",
   "execution_count": null,
   "metadata": {},
   "outputs": [],
   "source": [
    "#data_viz.plot_tSNE(untr_embeddings, test_data, num_to_genome, genome_to_tax, test_tax_dict)\n",
    "# data_viz.plot_tSNE(untr_embeddings, test_data, num_to_genome, genome_to_tax, genome_idx_test)"
   ]
  },
  {
   "cell_type": "code",
   "execution_count": null,
   "metadata": {},
   "outputs": [],
   "source": [
    "# # Evaluate model and compare against baselines\n",
    "# # Get corrupted input set, target set, and predictions set (binarized to 1's and 0's)\n",
    "# #corrupt_test_data = tensor_test_data[:,:len(cluster_names)]\n",
    "\n",
    "# model.eval()\n",
    "# with torch.no_grad():\n",
    "#     pred = model.forward(corrupt_test_data).detach().numpy()\n",
    "# b_pred = train_test.binarize(pred, flags.replacement_threshold)"
   ]
  },
  {
   "cell_type": "code",
   "execution_count": null,
   "metadata": {},
   "outputs": [],
   "source": [
    "# # Generate confusion matrix\n",
    "# cm = evaluate.dom_confusion_matrix(b_pred, target, num_to_genome, genome_to_tax, test_tax_dict, genome_idx_test)"
   ]
  },
  {
   "cell_type": "code",
   "execution_count": null,
   "metadata": {},
   "outputs": [],
   "source": [
    "# util.log_results(roc, optim_lc, perf_lc, flags, model, cm)"
   ]
  },
  {
   "cell_type": "code",
   "execution_count": null,
   "metadata": {},
   "outputs": [],
   "source": [
    "# # Baseline 1: untrained DAE\n",
    "# # Generate predictions using an untrained DAE model\n",
    "# model.eval()\n",
    "# with torch.no_grad():\n",
    "#     untr_pred = untrained_model.forward(corrupt_test_data).detach().numpy()\n",
    "# untr_b_preds = train_test.binarize(untr_pred, flags.replacement_threshold)"
   ]
  },
  {
   "cell_type": "code",
   "execution_count": null,
   "metadata": {},
   "outputs": [],
   "source": [
    "# # if os.path.isfile(settings.DATA_FP+\"rand_b_pred.pt\"):\n",
    "# #     print(\"Loading random predictions from file\")\n",
    "# #     rand_b_pred = torch.load(settings.DATA_FP+\"rand_b_pred.pt\")\n",
    "# # else: \n",
    "# #     # This is slow\n",
    "# #     print(\"Generating random predictions, this will take a while (~30 min)\")\n",
    "# #     rand_b_pred = evaluate.generate_baseline(num_features, train_data, \n",
    "# #                                              corrupt_test_data, \"base_random\", cluster_names)\n",
    "# #     torch.save(rand_b_pred, settings.DATA_FP+\"rand_b_pred.pt\")\n",
    "\n",
    "# rand_b_pred = evaluate.generate_baseline(num_features, train_data, \n",
    "#                                          corrupt_test_data, \"base_random\", cluster_names)"
   ]
  },
  {
   "cell_type": "code",
   "execution_count": null,
   "metadata": {},
   "outputs": [],
   "source": [
    "# torch.save(rand_b_pred, settings.DATA_FP+\"rand_b_pred.pt\")"
   ]
  },
  {
   "cell_type": "code",
   "execution_count": null,
   "metadata": {},
   "outputs": [],
   "source": [
    "# # if os.path.isfile(settings.DATA_FP+\"smart_b_pred.pt\"):\n",
    "# #     print(\"Loading smart random predictions from file\")\n",
    "# #     smart_b_pred = torch.load(settings.DATA_FP+\"smart_b_pred.pt\")\n",
    "# # else:\n",
    "# #     print(\"Generating smart random predictions, this will take a while (~30 min)\")\n",
    "# #     smart_b_pred = evaluate.generate_baseline(num_features, train_data, \n",
    "# #                                           corrupt_test_data, \"smart_random\", cluster_names)\n",
    "# #     torch.save(smart_b_pred, settings.DATA_FP+\"smart_b_pred.pt\")\n",
    "\n",
    "# smart_b_pred = evaluate.generate_baseline(num_features, train_data, \n",
    "#                                       corrupt_test_data, \"smart_random\", cluster_names)"
   ]
  },
  {
   "cell_type": "code",
   "execution_count": null,
   "metadata": {},
   "outputs": [],
   "source": [
    "# torch.save(smart_b_pred, settings.DATA_FP+\"smart_b_pred.pt\")"
   ]
  },
  {
   "cell_type": "code",
   "execution_count": null,
   "metadata": {},
   "outputs": [],
   "source": [
    "# import numpy as np\n",
    "# np.sum(smart_b_pred == rand_b_pred), np.sum(smart_b_pred != rand_b_pred)"
   ]
  },
  {
   "cell_type": "code",
   "execution_count": null,
   "metadata": {},
   "outputs": [],
   "source": [
    "# import pandas as pd\n",
    "# hs = evaluate.hamming(target, b_pred)\n",
    "# hs_stats = [round(sum(hs)/len(hs),2), round(min(hs),2), round(max(hs),2)]\n",
    "\n",
    "# untr_hs = evaluate.hamming(target, untr_b_preds)\n",
    "# untr_hs_stats = [round(sum(untr_hs)/len(untr_hs),2), round(min(untr_hs),2), round(max(untr_hs),2)]\n",
    "\n",
    "# rand_hs = evaluate.hamming(target, rand_b_pred)\n",
    "# rand_hs_stats = [round(sum(rand_hs)/len(rand_hs),2), round(min(rand_hs),2), round(max(rand_hs),2)]\n",
    "\n",
    "# smart_hs = evaluate.hamming(target, smart_b_pred)\n",
    "# smart_hs_stats = [round(sum(smart_hs)/len(smart_hs),2), round(min(smart_hs),2), round(max(smart_hs),2)]\n",
    "\n",
    "\n",
    "# hamming_df = pd.DataFrame([hs_stats, untr_hs_stats, rand_hs_stats, smart_hs_stats], columns=['mean', 'min', 'max'], \n",
    "#                             index=[\"DAE trained\", \"DAE untrained\", \"Random chance\", \"Smart random chance\"])\n",
    "# hamming_df"
   ]
  },
  {
   "cell_type": "code",
   "execution_count": null,
   "metadata": {},
   "outputs": [],
   "source": [
    "sys.stdout.flush()\n",
    "sys.stderr.flush()"
   ]
  }
 ],
 "metadata": {
  "kernelspec": {
   "display_name": "Python 3",
   "language": "python",
   "name": "python3"
  },
  "language_info": {
   "codemirror_mode": {
    "name": "ipython",
    "version": 3
   },
   "file_extension": ".py",
   "mimetype": "text/x-python",
   "name": "python",
   "nbconvert_exporter": "python",
   "pygments_lexer": "ipython3",
   "version": "3.7.6"
  }
 },
 "nbformat": 4,
 "nbformat_minor": 4
}
