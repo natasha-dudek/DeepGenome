{
 "cells": [
  {
   "cell_type": "code",
   "execution_count": 1,
   "metadata": {},
   "outputs": [],
   "source": [
    "# automatically upload modules\n",
    "%load_ext autoreload\n",
    "%autoreload 2"
   ]
  },
  {
   "cell_type": "code",
   "execution_count": 2,
   "metadata": {},
   "outputs": [],
   "source": [
    "from argparse import Namespace\n",
    "from collections import defaultdict\n",
    "import re\n",
    "\n",
    "import matplotlib.pyplot as plt\n",
    "import numpy as np\n",
    "import pickle\n",
    "from ray import tune\n",
    "import torch\n",
    "\n",
    "from genome_embeddings import trainable # import before ray (?)\n",
    "import ray"
   ]
  },
  {
   "cell_type": "code",
   "execution_count": 3,
   "metadata": {},
   "outputs": [],
   "source": [
    "settings = Namespace(\n",
    "    DATA_FP = '/Users/natasha/Desktop/mcgill_postdoc/ncbi_genomes/genome_embeddings/data/', \n",
    "    #/home/ndudek/projects/def-dprecup/ndudek/\n",
    "    SAVE_FP = '/Users/natasha/Desktop/mcgill_postdoc/ncbi_genomes/genome_embeddings/',\n",
    "    #/home/ndudek/projects/def-dprecup/ndudek/\n",
    "    num_epochs = 2,\n",
    "    num_cpus=5, \n",
    "    replacement_threshold = 0.5, # probability over which binarizer converts to a 1\n",
    "    num_corruptions = 100, # number of corrupted versions of a genome to produce\n",
    ")"
   ]
  },
  {
   "cell_type": "markdown",
   "metadata": {},
   "source": [
    "# Load data"
   ]
  },
  {
   "cell_type": "code",
   "execution_count": 4,
   "metadata": {},
   "outputs": [],
   "source": [
    "## Figure out which genomes I want to include in my dataset\n",
    "# Use phylogenetically thinned list in selected_genomes.txt AND filter out non-bacteria\n",
    "path = \"/Users/natasha/Desktop/mcgill_postdoc/ncbi_genomes/kegg_dataset/selected_kegg.txt\"\n",
    "file = open(path).readlines()\n",
    "file = list(map(str.strip, file))\n",
    "\n",
    "# The keepers list ends up having a few genomes that do not get used\n",
    "# This is bc they have no full modules\n",
    "keepers = [] \n",
    "# Create dict that converts tla (e.g.: Pea) -> t_num (e.g.: T321890)\n",
    "tla_to_tnum = {}\n",
    "\n",
    "line_counter = 0\n",
    "for s in file:\n",
    "    if line_counter < 4:\n",
    "        line_counter += 1\n",
    "        continue\n",
    "    tla = s.split()[1]\n",
    "    t_num = s.split()[2]\n",
    "    tax = s.split()[3]\n",
    "    \n",
    "    if \"k__Bacteria\" in tax:\n",
    "        keepers.append(t_num)\n",
    "        tla_to_tnum[tla] = t_num\n",
    "\n",
    "print(\"Total number of bacterial genomes in dataset: {}\".format(len(keepers)))"
   ]
  },
  {
   "cell_type": "code",
   "execution_count": 5,
   "metadata": {},
   "outputs": [],
   "source": [
    "### load each genome as a list of KOs\n",
    "path = \"/Users/natasha/Desktop/mcgill_postdoc/ncbi_genomes/kegg_dataset/annotations/annotations_list.txt\"\n",
    "master_file = open(path).readlines()\n",
    "master_file = list(map(str.strip, master_file))\n",
    "\n",
    "### Create dict mapping genomes to encoded KOs\n",
    "# key = t_num \n",
    "# ko = list of all KOs annotated in genome\n",
    "org_to_kos = {}\n",
    "for i in master_file:\n",
    "    file = open(\"/Users/natasha/Desktop/mcgill_postdoc/ncbi_genomes/kegg_dataset/annotations/\"+i).readlines()\n",
    "    file = list(map(str.strip, file))\n",
    "    \n",
    "    org = i.split(\"_\")[0]\n",
    "    \n",
    "    try:\n",
    "        t_num = tla_to_tnum[org]\n",
    "    except KeyError: continue # phylogenetically thinned set, not all will be present in dict (e.g. \"Pea\")\n",
    "    #if t_num not in keepers: continue\n",
    "    \n",
    "    kos = []\n",
    "    for s in file:\n",
    "        if \"<a href=\" in s:\n",
    "            x = s.split()[2]\n",
    "            if re.match(r'[K]\\d{5}', x): \n",
    "                kos.append(x) #[K]\\d{5}\n",
    "                \n",
    "    org_to_kos[t_num] = kos   "
   ]
  },
  {
   "cell_type": "markdown",
   "metadata": {},
   "source": [
    "# Data exploration"
   ]
  },
  {
   "cell_type": "code",
   "execution_count": 6,
   "metadata": {},
   "outputs": [],
   "source": [
    "# Create unique list of all KOs (all_kos) \n",
    "all_kos = []\n",
    "for t_num in org_to_kos:\n",
    "    all_kos.extend(org_to_kos[t_num])\n",
    "all_kos = list(set(all_kos))\n",
    "n_kos_tot = (len(all_kos))\n",
    "print(\"Total number of KOs in dataset: {}\".format(n_kos_tot))"
   ]
  },
  {
   "cell_type": "code",
   "execution_count": 7,
   "metadata": {},
   "outputs": [],
   "source": [
    "# Load mapping from organism (tla, e.g.: Pea) to complete modules encoded to KOs in each module\n",
    "with open('/Users/natasha/Desktop/mcgill_postdoc/ncbi_genomes/kegg_dataset/org_to_mod_to_kos.pkl', 'rb') as f:\n",
    "    org_to_mod_to_kos = pickle.load(f)"
   ]
  },
  {
   "cell_type": "code",
   "execution_count": 8,
   "metadata": {},
   "outputs": [],
   "source": [
    "# Create dict: mod_sets\n",
    "# For each module, have a counter (dict) of each unique string of KOs that can make up the module + # occurences \n",
    "# mod_sets['M00001'] = {'K00001_K04398': 5, 'K00002_K23456': 10}\n",
    "mod_sets = defaultdict(lambda: defaultdict(int))\n",
    "for org in org_to_mod_to_kos:\n",
    "    for mod in org_to_mod_to_kos[org]:\n",
    "        ko_str = \"_\".join(org_to_mod_to_kos[org][mod])\n",
    "        mod_sets[mod][ko_str] += 1"
   ]
  },
  {
   "cell_type": "code",
   "execution_count": 9,
   "metadata": {},
   "outputs": [
    {
     "data": {
      "image/png": "[encoded data removed]",
      "text/plain": [
       "<Figure size 432x288 with 1 Axes>"
      ]
     },
     "metadata": {
      "needs_background": "light"
     },
     "output_type": "display_data"
    }
   ],
   "source": [
    "mod = 'M00001'\n",
    "a = list(mod_sets[mod].values())\n",
    "a.sort(reverse=True)\n",
    "x_labels = [i for i in range(len(mod_sets[mod].values()))]\n",
    "plt.bar(x_labels, a)\n",
    "plt.yscale('log')\n",
    "plt.title(\"Variants of module \"+mod)\n",
    "plt.xlabel(\"Variant (n=\"+str(len(mod_sets[mod].values()))+\" )\")\n",
    "plt.ylabel(\"Count across all genomes (n=\"+str(len(org_to_mod_to_kos))+\")\")\n",
    "print(max(mod_sets[mod].values()), len(a))"
   ]
  },
  {
   "cell_type": "code",
   "execution_count": 10,
   "metadata": {},
   "outputs": [],
   "source": [
    "# Select most \"popular\" version of each module, store it in dict: mod_to_ko_clean\n",
    "# mod_to_ko_clean['M00003'] = ['K00001', 'K00002', etc] <- most common variant of M00003\n",
    "mod_to_ko_clean = {}\n",
    "for mod in mod_sets:\n",
    "    max_count = 0\n",
    "    max_path = \"\"\n",
    "    for ko_str in mod_sets[mod]:\n",
    "        if mod_sets[mod][ko_str] > max_count: # if there is a tie, the first one is kept \n",
    "            max_count = mod_sets[mod][ko_str]\n",
    "            max_path = ko_str.split(\"_\")\n",
    "    mod_to_ko_clean[mod] = max_path"
   ]
  },
  {
   "cell_type": "markdown",
   "metadata": {},
   "source": [
    "## Data exploration"
   ]
  },
  {
   "cell_type": "code",
   "execution_count": 11,
   "metadata": {},
   "outputs": [],
   "source": [
    "all_kos2 = []\n",
    "for org in org_to_mod_to_kos:\n",
    "    for mod in org_to_mod_to_kos[org]:\n",
    "        all_kos2.extend(org_to_mod_to_kos[org][mod])\n",
    "all_kos2 = list(set(all_kos2))        "
   ]
  },
  {
   "cell_type": "code",
   "execution_count": 12,
   "metadata": {},
   "outputs": [],
   "source": [
    "for ko in all_kos2:\n",
    "    if ko not in all_kos:\n",
    "        print(ko)"
   ]
  },
  {
   "cell_type": "code",
   "execution_count": 13,
   "metadata": {
    "scrolled": false
   },
   "outputs": [
    {
     "data": {
      "text/plain": [
       "Text(0.5, 1.0, 'Distribution of the # of modules (n=252) per genome (n=2713)')"
      ]
     },
     "execution_count": 13,
     "metadata": {},
     "output_type": "execute_result"
    },
    {
     "data": {
      "image/png": "[encoded data removed]",
      "text/plain": [
       "<Figure size 432x288 with 1 Axes>"
      ]
     },
     "metadata": {
      "needs_background": "light"
     },
     "output_type": "display_data"
    }
   ],
   "source": [
    "# Plot the number of modules encoded by each genome\n",
    "n_genomes = len(org_to_mod_to_kos)\n",
    "temp = [list(org_to_mod_to_kos[i].keys()) for i in org_to_mod_to_kos]\n",
    "n_mods = len(list(set([item for sublist in temp for item in sublist])))\n",
    "plt.hist([len(org_to_mod_to_kos[i]) for i in org_to_mod_to_kos], 50)\n",
    "plt.xlabel(\"Number of modules per genome\")\n",
    "plt.ylabel(\"Frequency\")\n",
    "plt.title(\"Distribution of the # of modules (n=\"+str(n_mods)+\") per genome (n=\"+str(n_genomes)+\")\")"
   ]
  },
  {
   "cell_type": "code",
   "execution_count": 14,
   "metadata": {},
   "outputs": [],
   "source": [
    "a = [len(org_to_mod_to_kos[org]) for org in org_to_mod_to_kos]\n",
    "a.sort()\n",
    "print(\"There are \"+str(a.count(0))+\" genomes with zero modules\")\n",
    "\n",
    "# Red\n",
    "# Rue\n",
    "# pvac\n",
    "# cgw"
   ]
  },
  {
   "cell_type": "code",
   "execution_count": 15,
   "metadata": {},
   "outputs": [],
   "source": [
    "# NOTE THAT SOME GENOMES DO NOT HAVE A SINGLE MOD AND AREN'T EVEN IN THE DICT (n= 2717-2713 = 5)\n",
    "# E.G.: clap "
   ]
  },
  {
   "cell_type": "code",
   "execution_count": 16,
   "metadata": {
    "scrolled": true
   },
   "outputs": [
    {
     "data": {
      "image/png": "[encoded data removed]",
      "text/plain": [
       "<Figure size 432x288 with 1 Axes>"
      ]
     },
     "metadata": {
      "needs_background": "light"
     },
     "output_type": "display_data"
    }
   ],
   "source": [
    "# Count and plot the number of genomes that encode each module\n",
    "mods_count = defaultdict(int)\n",
    "for org in org_to_mod_to_kos:\n",
    "    for mod in org_to_mod_to_kos[org]:\n",
    "        mods_count[mod] += 1\n",
    "        \n",
    "plt.hist(mods_count.values(), 50)\n",
    "plt.xlabel(\"Number of genomes encoding each module\")\n",
    "plt.ylabel(\"Frequency\")\n",
    "plt.title(\"Distribution of the # of genomes (n=\"+str(n_genomes)+\") encoding each module (n=\"+str(n_mods)+\")\")\n",
    "plt.yscale('log')\n",
    "print(\"Number of mods encoded in only one genome:\",list(mods_count.values()).count(1))"
   ]
  },
  {
   "cell_type": "code",
   "execution_count": 17,
   "metadata": {},
   "outputs": [],
   "source": [
    "# DO NOT LET INPUT BE SUPER RARE MODS\n",
    "# NN SHOULD JUST MEMORIZE THAT GENOME"
   ]
  },
  {
   "cell_type": "code",
   "execution_count": 18,
   "metadata": {},
   "outputs": [
    {
     "data": {
      "text/plain": [
       "Text(0.5, 1.0, 'Distribution of the % of KOs (n_all=9874) represented by modules (n=252) per genome (n=2713)')"
      ]
     },
     "execution_count": 18,
     "metadata": {},
     "output_type": "execute_result"
    },
    {
     "data": {
      "image/png": "[encoded data removed]",
      "text/plain": [
       "<Figure size 432x288 with 1 Axes>"
      ]
     },
     "metadata": {
      "needs_background": "light"
     },
     "output_type": "display_data"
    }
   ],
   "source": [
    "# Plot the percentage of genes per genome that contribute to modules\n",
    "perc_mod = []\n",
    "for org in org_to_mod_to_kos:\n",
    "    try:\n",
    "        tla = tla_to_tnum[org]\n",
    "        n_kos = len(org_to_kos[tla])\n",
    "        n_mod_kos = len([org_to_mod_to_kos[org][mod] for mod in org_to_mod_to_kos[org]])\n",
    "        perc_mod.append(n_mod_kos/n_kos*100)\n",
    "    except: KeyError\n",
    "\n",
    "plt.hist(perc_mod, 50)\n",
    "plt.xlabel(\"Percent of KOs contributing to modules\")\n",
    "plt.ylabel(\"Frequency\")\n",
    "plt.title(\"Distribution of the % of KOs (n_all=\"+str(n_kos_tot)+\") represented by modules (n=\"+str(n_mods)+\") per genome (n=\"+str(n_genomes)+\")\")\n"
   ]
  },
  {
   "cell_type": "code",
   "execution_count": 19,
   "metadata": {},
   "outputs": [],
   "source": [
    "# Percentage of KOs that are / are not part of a module\n",
    "\n",
    "kos_in_mods = []\n",
    "\n",
    "for org in org_to_mod_to_kos:\n",
    "    for mod in org_to_mod_to_kos[org]:\n",
    "        kos_in_mods.extend(org_to_mod_to_kos[org][mod])\n",
    "\n",
    "kos_in_mods = list(set(kos_in_mods))\n",
    "\n",
    "print(len(kos_in_mods), len(all_kos), len(kos_in_mods)/len(all_kos)*100)"
   ]
  },
  {
   "cell_type": "code",
   "execution_count": 20,
   "metadata": {},
   "outputs": [],
   "source": [
    "# Number of KOs that are part of 1 module, 2 modules, 3 modules, etc\n",
    "#all_kos # unique list of all KOs\n",
    "ko_counter = defaultdict(list)\n",
    "\n",
    "for ko in all_kos:\n",
    "    for org in org_to_mod_to_kos:\n",
    "        for mod in org_to_mod_to_kos[org]:\n",
    "            if ko in org_to_mod_to_kos[org][mod]:\n",
    "                if mod not in ko_counter[ko]:\n",
    "                    ko_counter[ko].append(mod)"
   ]
  },
  {
   "cell_type": "code",
   "execution_count": 21,
   "metadata": {},
   "outputs": [],
   "source": [
    "ko_counter2 = {}\n",
    "for ko in ko_counter:\n",
    "    ko_counter2[ko] = len(ko_counter[ko])\n",
    "\n",
    "for ko in all_kos:\n",
    "    if ko not in ko_counter2:\n",
    "        ko_counter2[ko] = 0"
   ]
  },
  {
   "cell_type": "code",
   "execution_count": 22,
   "metadata": {},
   "outputs": [
    {
     "data": {
      "text/plain": [
       "(defaultdict(int,\n",
       "             {1: 1052, 3: 57, 2: 199, 4: 28, 5: 8, 6: 5, 7: 8, 9: 2, 0: 8515}),\n",
       " 9874)"
      ]
     },
     "execution_count": 22,
     "metadata": {},
     "output_type": "execute_result"
    }
   ],
   "source": [
    "a = defaultdict(int)\n",
    "for i in ko_counter2.values():\n",
    "    a[i] += 1\n",
    "a, sum(a.values())"
   ]
  },
  {
   "cell_type": "code",
   "execution_count": 23,
   "metadata": {},
   "outputs": [
    {
     "data": {
      "text/plain": [
       "Text(0, 0.5, 'Frequency (# of KOs)')"
      ]
     },
     "execution_count": 23,
     "metadata": {},
     "output_type": "execute_result"
    },
    {
     "data": {
      "image/png": "[encoded data removed]",
      "text/plain": [
       "<Figure size 432x288 with 1 Axes>"
      ]
     },
     "metadata": {
      "needs_background": "light"
     },
     "output_type": "display_data"
    }
   ],
   "source": [
    "plt.hist(ko_counter2.values())\n",
    "plt.yscale('log')\n",
    "plt.title(\"Number of modules each KO contributes to\")\n",
    "plt.xlabel(\"Number of modules\")\n",
    "plt.ylabel(\"Frequency (# of KOs)\")"
   ]
  },
  {
   "cell_type": "markdown",
   "metadata": {},
   "source": [
    "# Data pre-processing"
   ]
  },
  {
   "cell_type": "code",
   "execution_count": 24,
   "metadata": {},
   "outputs": [],
   "source": [
    "### Make dataframe (rows = genomes, columns = KOs)\n",
    "\n",
    "# data = np.zeros(shape=(n_genomes,n_kos_tot))\n",
    "\n",
    "# genome_order = []\n",
    "# for i, org in enumerate(org_to_mod_to_kos):\n",
    "#     genome_order.append(org)\n",
    "#     for j in range(n_kos_tot):\n",
    "#         try:\n",
    "#             tla = tla_to_tnum[org]\n",
    "#             if all_kos[j] in org_to_kos[tla]:\n",
    "#                 data[i,j] = 1\n",
    "#             else: pass\n",
    "#         except:\n",
    "#             print(i, org, tla, j)\n",
    "            \n",
    "# data = torch.tensor(data)\n",
    "# torch.save(data, \"/Users/natasha/Desktop/kegg_v2.pt\")\n",
    "#torch.save(genome_order, \"/Users/natasha/Desktop/genome_order.pt\")"
   ]
  },
  {
   "cell_type": "code",
   "execution_count": 25,
   "metadata": {},
   "outputs": [],
   "source": [
    "data = torch.load(\"/Users/natasha/Desktop/kegg_v2.pt\")\n",
    "genome_order = torch.load(\"/Users/natasha/Desktop/genome_order.pt\")"
   ]
  },
  {
   "cell_type": "code",
   "execution_count": 26,
   "metadata": {},
   "outputs": [],
   "source": [
    "### Make new taxonomy dict, cluster_names object"
   ]
  },
  {
   "cell_type": "code",
   "execution_count": 27,
   "metadata": {},
   "outputs": [],
   "source": [
    "### Drop rare KO's?"
   ]
  },
  {
   "cell_type": "markdown",
   "metadata": {},
   "source": [
    "# Re-create train-test split from before"
   ]
  },
  {
   "cell_type": "code",
   "execution_count": 28,
   "metadata": {},
   "outputs": [
    {
     "data": {
      "text/plain": [
       "(2430, 288, 2718)"
      ]
     },
     "execution_count": 28,
     "metadata": {},
     "output_type": "execute_result"
    }
   ],
   "source": [
    "### Create train-test split (ideally identical to former split)\n",
    "# Old original split contains euk and arch\n",
    "import pandas as pd\n",
    "path = \"/Users/natasha/Desktop/mcgill_postdoc/ncbi_genomes/genome_embeddings/data/uncorrupted_test_balanced.csv\"\n",
    "test_orig = pd.read_csv(path, index_col=0) \n",
    "test_genomes_orig = test_orig.index.to_list()\n",
    "\n",
    "train_genomes = []\n",
    "test_genomes = []\n",
    "for genome in keepers: \n",
    "    if genome not in test_genomes_orig:\n",
    "        train_genomes.append(genome)\n",
    "    elif genome in test_genomes_orig:\n",
    "        test_genomes.append(genome)\n",
    "        \n",
    "# Expected: train = 2395, test = 288\n",
    "len(train_genomes), len(test_genomes), len(train_genomes) + len(test_genomes)"
   ]
  },
  {
   "cell_type": "code",
   "execution_count": 29,
   "metadata": {},
   "outputs": [],
   "source": [
    "def prep_data(list_genomes, all_kos, org_to_kos, mode):\n",
    "    \"\"\"\n",
    "    Creates a tensor for training / test data\n",
    "    \n",
    "    Arguments:\n",
    "    list_genomes (list) -- t_nums to be included in the tensor (i.e. train_genomes or test_genomes)\n",
    "    all_kos (list) -- all KOs that exist in the dataset\n",
    "    org_to_kos (dict) -- keys = t_nums, values = list of KOs encoded by genome\n",
    "    mode (str) -- used to save data to file [\"test\" | \"train\"] \n",
    "    \n",
    "    Returns:\n",
    "    data (np array) -- rows = genomes, columns = KOs, 1 = KO present in genome, 0 = KO absent in genome\n",
    "    \"\"\"\n",
    "    from datetime import date\n",
    "    \n",
    "    assert (mode == \"test\" or mode == \"train\")\n",
    "    \n",
    "    data = np.zeros(shape=(len(list_genomes),len(all_kos)))\n",
    "\n",
    "    for i, t_num in enumerate(list_genomes): # org is something like 'T03060'\n",
    "        for j, ko in enumerate(all_kos):\n",
    "            if ko in org_to_kos[t_num]:\n",
    "                data[i,j] = 1\n",
    "            else: pass\n",
    "\n",
    "    #tensor_data = torch.tensor(tensor_data) \n",
    "    torch.save(data, \"/Users/natasha/Desktop/kegg_v2_\"+mode+\"_\"+str(date.today())+\".pt\")\n",
    "    \n",
    "    return data"
   ]
  },
  {
   "cell_type": "code",
   "execution_count": 30,
   "metadata": {},
   "outputs": [],
   "source": [
    "# train_data = prep_data(train_genomes, all_kos, org_to_kos, \"train\")\n",
    "# test_data = prep_data(test_genomes, all_kos, org_to_kos, \"test\")\n",
    "train_data = torch.load(\"/Users/natasha/Desktop/kegg_v2_train_2020-09-03.pt\")\n",
    "test_data = torch.load(\"/Users/natasha/Desktop/kegg_v2_test_2020-09-03.pt\")"
   ]
  },
  {
   "cell_type": "code",
   "execution_count": 31,
   "metadata": {},
   "outputs": [
    {
     "data": {
      "text/plain": [
       "((2430, 9874), (288, 9874))"
      ]
     },
     "execution_count": 31,
     "metadata": {},
     "output_type": "execute_result"
    }
   ],
   "source": [
    "train_data.shape, test_data.shape"
   ]
  },
  {
   "cell_type": "markdown",
   "metadata": {},
   "source": [
    "# New corruption process"
   ]
  },
  {
   "cell_type": "code",
   "execution_count": 32,
   "metadata": {},
   "outputs": [],
   "source": [
    "# For each genome, keep the KO's in 1-10 modules. Everything else should be zeros\n",
    "\n",
    "def corrupt(train_data, train_genomes, n_corrupt, tnum_to_tla):\n",
    "    \"\"\"\n",
    "    Creates corrupted + matching uncorrupted tensor of genomes, in that order\n",
    "    Note: only genomes with >= 1 module are included in the output\n",
    "    Note: uses \"cleaned\" modules from mod_to_ko_clean  \n",
    "        I.e. most common set of KOs per module, rather than 20 variants of each mod\n",
    "    \n",
    "    Arguments:\n",
    "    train_data (tensor) -- rows = uncorrupted genomes, columns = KOs\n",
    "    train_genomes (list) -- names of genomes in train_data (e.g.: \"T03060\")\n",
    "    n_corrupt (int) -- number of corrupted versions to make of each genome\n",
    "    tnum_to_tla (dict) -- maps tnum (e.g.: \"T03060\") to tla (e.g.: \"Red\")\n",
    "    \n",
    "    Returns:\n",
    "    output (tensor) -- corrupted + uncorrupted genomes (each genome's two versions are concatenated in a row)\n",
    "    c_train_genomes -- names of genomes in the order they appear in output\n",
    "    \"\"\"\n",
    "    \n",
    "    import random\n",
    "    \n",
    "    # For one rep of one genome\n",
    "    def heart_of_corruption(org, n_max):\n",
    "        \"\"\"\n",
    "        Creates\n",
    "        \n",
    "        Arguments:\n",
    "        org (str) -- tla for genome (e.g.: \"aha\")\n",
    "        n_max (int) -- the maximum number of mods to select for corrupted version of any given genome\n",
    "\n",
    "        \"\"\"\n",
    "        n_mods = random.randint(1, n_max) # going to select this many mods for corrupted genome\n",
    "        keeps = random.sample(list(org_to_mod_to_kos[org].keys()), n_mods)            \n",
    "        #print(org, keeps)\n",
    "        idxs = []\n",
    "        for mod in keeps:\n",
    "            for ko in org_to_mod_to_kos[org][mod]:\n",
    "            #for ko in mod_to_ko_clean[mod]:\n",
    "                idxs.append(all_kos.index(ko))\n",
    " \n",
    "        # create corrupted version of genome that only has those mods\n",
    "        corrupted = np.zeros(n_kos_tot)\n",
    "        for i in idxs:\n",
    "            corrupted[i] = 1\n",
    "\n",
    "        return corrupted\n",
    "    \n",
    "    output = [] \n",
    "    c_train_genomes = []\n",
    "    \n",
    "    line_counter = 0\n",
    "    for i, tnum in enumerate(train_genomes):\n",
    "        org = tnum_to_tla[tnum]\n",
    "        n_tot_mods = len(org_to_mod_to_kos[org]) # number of modules in the genome \n",
    "        n_max = min(n_tot_mods, 10) # which is smaller: the # mods or 10\n",
    "        \n",
    "        n_corrupted = 0\n",
    "        if n_tot_mods >= 1: \n",
    "            uncorrupted = train_data[i]\n",
    "            while n_corrupted < n_corrupt: \n",
    "                c_train_genomes.append(org)\n",
    "                corrupted = heart_of_corruption(org, n_max)\n",
    "                genome_out = np.concatenate((corrupted, uncorrupted), axis=None)\n",
    "                output.append(genome_out)\n",
    "                line_counter += 1\n",
    "                n_corrupted += 1\n",
    "            \n",
    "    return torch.Tensor(np.array(output)), c_train_genomes"
   ]
  },
  {
   "cell_type": "code",
   "execution_count": null,
   "metadata": {},
   "outputs": [],
   "source": [
    "# #mods_to_match = org_to_mod_to_kos[org]\n",
    "# # USE mod_to_ko_clean\n",
    "\n",
    "\n",
    "# mods_to_match = org_to_mod_to_kos['eun']\n",
    "\n",
    "# # for every user-defined input module\n",
    "# for keep_mod in mods_to_match:\n",
    "#     ko_count = defaultdict(int)\n",
    "#     # figure out which orgs have that mod\n",
    "#     for org2 in org_to_mod_to_kos:\n",
    "#         if keep_mod in org_to_mod_to_kos[org2]:\n",
    "#             # if present, add the relevant KOs to the list and start a count of how many genomes they are present in\n",
    "#             tnum = tla_to_tnum[org2]\n",
    "#             for ko in org_to_mod_to_kos[org2][keep_mod]:\n",
    "#             #for ko in mod_to_ko_clean[keep_mod]:\n",
    "#                 ko_count[ko] +=1  # WHAT IF ONE KO IS PRESENT IN MULTIPLE PATHS???\n",
    "                \n",
    "#     core_genome = []\n",
    "#     ninety_p = len(ko_count)*0.9\n",
    "#     for i in ko_count:\n",
    "#         if ko_count[i] >= ninety_p:\n",
    "#             #print(i, ko_count[i])\n",
    "#             core_genome.append(i)\n",
    "\n",
    "#     print(ninety_p, len(ko_count))\n",
    "#     print(core_genome)\n"
   ]
  },
  {
   "cell_type": "code",
   "execution_count": 33,
   "metadata": {},
   "outputs": [],
   "source": [
    "#n_corrupt = 2\n",
    "n_corrupt = settings.num_corruptions"
   ]
  },
  {
   "cell_type": "code",
   "execution_count": 34,
   "metadata": {},
   "outputs": [],
   "source": [
    "tnum_to_tla = {v:k for k,v in tla_to_tnum.items()}"
   ]
  },
  {
   "cell_type": "code",
   "execution_count": null,
   "metadata": {},
   "outputs": [],
   "source": [
    "corrupted_train, c_train_genomes = corrupt(train_data, train_genomes, n_corrupt, tnum_to_tla)"
   ]
  },
  {
   "cell_type": "code",
   "execution_count": null,
   "metadata": {},
   "outputs": [],
   "source": [
    "corrupted_test, c_test_genomes = corrupt(test_data, test_genomes, n_corrupt, tnum_to_tla)"
   ]
  },
  {
   "cell_type": "code",
   "execution_count": null,
   "metadata": {},
   "outputs": [],
   "source": [
    "torch.save(corrupted_train, \"/Users/natasha/Desktop/corrupted_train_2020-09-04.pt\")\n",
    "torch.save(corrupted_test, \"/Users/natasha/Desktop/corrupted_test_2020-09-04.pt.pt\")"
   ]
  },
  {
   "cell_type": "code",
   "execution_count": null,
   "metadata": {},
   "outputs": [],
   "source": []
  },
  {
   "cell_type": "code",
   "execution_count": null,
   "metadata": {},
   "outputs": [],
   "source": []
  },
  {
   "cell_type": "code",
   "execution_count": null,
   "metadata": {},
   "outputs": [],
   "source": []
  },
  {
   "cell_type": "code",
   "execution_count": null,
   "metadata": {},
   "outputs": [],
   "source": []
  },
  {
   "cell_type": "code",
   "execution_count": null,
   "metadata": {},
   "outputs": [],
   "source": []
  },
  {
   "cell_type": "markdown",
   "metadata": {},
   "source": [
    "# Define and train network"
   ]
  },
  {
   "cell_type": "code",
   "execution_count": null,
   "metadata": {},
   "outputs": [],
   "source": [
    "memory = 2000 * 1024 * 1024\n",
    "object_store_memory = 200 * 1024 * 1024\n",
    "driver_object_store_memory=100 * 1024 * 1024\n",
    "ray.shutdown()\n",
    "ray.init(local_mode=True, memory=memory, \n",
    "        object_store_memory=object_store_memory,\n",
    "        driver_object_store_memory=driver_object_store_memory,\n",
    "        num_cpus=10)"
   ]
  },
  {
   "cell_type": "code",
   "execution_count": null,
   "metadata": {},
   "outputs": [],
   "source": [
    "config = {\"num_epochs\": 10,\n",
    "         \"kfolds\": 10,\n",
    "         \"replacement_threshold\": settings.replacement_threshold,\n",
    "         \"nn_layers\": tune.choice([1, 2, 3, 4]),\n",
    "         \"batch_size\": tune.choice([32, 64, 128, 256]),\n",
    "          \"lr\": tune.loguniform(1e-4, 1e-1), \n",
    "          \"weight_decay\": tune.loguniform(1e-5, 1e-2) \n",
    "         }"
   ]
  },
  {
   "cell_type": "code",
   "execution_count": null,
   "metadata": {},
   "outputs": [],
   "source": [
    "analysis = tune.run(\n",
    "    trainable.train_AE, \n",
    "    name=\"test_mini\",\n",
    "    config=config,\n",
    "    verbose=2, \n",
    "    resources_per_trial={\n",
    "            \"cpu\": 10,\n",
    "            \"gpu\": 0\n",
    "    },\n",
    "    num_samples=512,  #BUMP UP TO 1000\n",
    "    queue_trials=True,\n",
    "    stop={\"test_f1\": 99},\n",
    "    local_dir=\"/Users/natasha/Desktop/TUNE_RESULT_DIR\",\n",
    "    )"
   ]
  },
  {
   "cell_type": "code",
   "execution_count": null,
   "metadata": {},
   "outputs": [],
   "source": [
    "print(\"Best config is:\", analysis.get_best_config(metric=\"test_f1\"))"
   ]
  },
  {
   "cell_type": "markdown",
   "metadata": {},
   "source": [
    "# Evaluate model performance"
   ]
  },
  {
   "cell_type": "code",
   "execution_count": null,
   "metadata": {},
   "outputs": [],
   "source": []
  },
  {
   "cell_type": "code",
   "execution_count": null,
   "metadata": {},
   "outputs": [],
   "source": []
  },
  {
   "cell_type": "code",
   "execution_count": null,
   "metadata": {},
   "outputs": [],
   "source": []
  }
 ],
 "metadata": {
  "kernelspec": {
   "display_name": "Python 3",
   "language": "python",
   "name": "python3"
  },
  "language_info": {
   "codemirror_mode": {
    "name": "ipython",
    "version": 3
   },
   "file_extension": ".py",
   "mimetype": "text/x-python",
   "name": "python",
   "nbconvert_exporter": "python",
   "pygments_lexer": "ipython3",
   "version": "3.7.6"
  }
 },
 "nbformat": 4,
 "nbformat_minor": 4
}
