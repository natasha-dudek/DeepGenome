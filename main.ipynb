{
 "cells": [
  {
   "cell_type": "code",
   "execution_count": 1,
   "metadata": {},
   "outputs": [],
   "source": [
    "# automatically upload modules\n",
    "%load_ext autoreload\n",
    "%autoreload 2"
   ]
  },
  {
   "cell_type": "code",
   "execution_count": 2,
   "metadata": {},
   "outputs": [],
   "source": [
    "from argparse import Namespace\n",
    "import os\n",
    "import pandas as pd\n",
    "import pickle\n",
    "from ray import tune\n",
    "from ray.tune.schedulers import ASHAScheduler\n",
    "import torch\n",
    "import pickle\n",
    "\n",
    "from genome_embeddings import data_viz\n",
    "from genome_embeddings import evaluate\n",
    "from genome_embeddings import models\n",
    "from genome_embeddings import train_test\n",
    "from genome_embeddings import util\n",
    "from genome_embeddings import trainable # import before ray (?)\n",
    "import ray"
   ]
  },
  {
   "cell_type": "code",
   "execution_count": 3,
   "metadata": {},
   "outputs": [],
   "source": [
    "flags = Namespace(\n",
    "    DATA_FP = '/Users/natasha/Desktop/mcgill_postdoc/ncbi_genomes/genome_embeddings/data/', \n",
    "    SAVE_FP = '/Users/natasha/Desktop/mcgill_postdoc/ncbi_genomes/genome_embeddings/',\n",
    "    KEGG_FP = '/Users/natasha/Desktop/mcgill_postdoc/ncbi_genomes/kegg_dataset/',\n",
    "    data_source = 'kegg', #['get_homologues' | 'kegg']\n",
    "    n_test = 0.1, # train-test split, n * 100 = % of data that goes into test set (e.g.: 0.1 -> 10%)\n",
    "    num_epochs = 3, # IF CIRRICULUM, DO NOT SET < 3\n",
    "    batch_size = 128,\n",
    "    lr = 1e-3,\n",
    "    kfolds = 10, # number of folds for cross-validation\n",
    "    print_every = 50, # print loss every n batches during training (5)\n",
    "    replacement_threshold = 0.5, # probability over which binarizer converts to a 1\n",
    "    num_corruptions = 100, # number of corrupted versions of a genome to produce\n",
    "    corruption_fraction = 0.5, # fraction of genes to retain during corruption process\n",
    "    phy_mode = \"bacteria_only\", # training with only bacteria vs also euk/arch\n",
    "    cirriculum = False, # implement cirriculum learning based on gene count\n",
    "    rare_threshold = 10, # drop features that occur fewer than this times in training ds \n",
    "    weight_decay=0.1 # L2 regularization\n",
    "    )"
   ]
  },
  {
   "cell_type": "markdown",
   "metadata": {},
   "source": [
    "### Data exploration + preprocessing "
   ]
  },
  {
   "cell_type": "code",
   "execution_count": 4,
   "metadata": {
    "scrolled": true
   },
   "outputs": [
    {
     "name": "stdout",
     "output_type": "stream",
     "text": [
      "Genome representations already exist\n"
     ]
    }
   ],
   "source": [
    "# First create genome representations (very slow)\n",
    "# Each genome is a list of KO's and/or KEGG modules\n",
    "if os.path.isfile(flags.DATA_FP+'genome_to_mod.csv'):\n",
    "    print(\"Genome representations already exist\")\n",
    "else:\n",
    "    genome_rep.genome_kos(flags.KEGG_FP)\n",
    "    print(\"Must generate genome representations from scratch. This will take several hours.\")"
   ]
  },
  {
   "cell_type": "code",
   "execution_count": 5,
   "metadata": {},
   "outputs": [],
   "source": [
    "df, cluster_names = util.load_data(flags.DATA_FP, flags.data_source)\n",
    "genome_to_tax = util.genome_to_tax(df)\n",
    "with open('cluster_names.txt', 'wb') as filehandle:\n",
    "    pickle.dump(cluster_names, filehandle)\n"
   ]
  },
  {
   "cell_type": "code",
   "execution_count": 6,
   "metadata": {},
   "outputs": [],
   "source": [
    "#data_viz.tax_distrib(df, genome_to_tax)"
   ]
  },
  {
   "cell_type": "code",
   "execution_count": 7,
   "metadata": {},
   "outputs": [],
   "source": [
    "#data_viz.module_stats(df)"
   ]
  },
  {
   "cell_type": "code",
   "execution_count": 8,
   "metadata": {},
   "outputs": [],
   "source": [
    "#data_viz.genes_per_genome(df)"
   ]
  },
  {
   "cell_type": "code",
   "execution_count": 9,
   "metadata": {},
   "outputs": [
    {
     "name": "stdout",
     "output_type": "stream",
     "text": [
      "Train-test split already exists, loading from file\n"
     ]
    }
   ],
   "source": [
    "# Split train-test sets in a phylogenetically balanced manner \n",
    "if os.path.isfile(flags.DATA_FP+'uncorrupted_train_balanced.csv'):\n",
    "    print(\"Train-test split already exists, loading from file\")\n",
    "    train_orig = pd.read_csv(flags.DATA_FP+\"uncorrupted_train_balanced.csv\", index_col=0)    \n",
    "    test_orig = pd.read_csv(flags.DATA_FP+\"uncorrupted_test_balanced.csv\", index_col=0)    \n",
    "\n",
    "else:\n",
    "    # Create dict mapping each genome to a unique numerical ID\n",
    "    genome_to_num ={}\n",
    "    for i,genome in enumerate(df.index):\n",
    "        genome_to_num[genome] = i\n",
    "\n",
    "    num_to_genome = {v: k for k, v in genome_to_num.items()}\n",
    "        \n",
    "    print(\"Generating train-test split\")\n",
    "    train_orig, test_orig = util.balanced_split(df, flags.n_test, genome_to_tax, \n",
    "                                                num_to_genome, flags.DATA_FP)    \n",
    "    train_orig.to_csv(flags.DATA_FP+'uncorrupted_train_balanced.csv')\n",
    "    test_orig.to_csv(flags.DATA_FP+'uncorrupted_test_balanced.csv')"
   ]
  },
  {
   "cell_type": "code",
   "execution_count": 10,
   "metadata": {},
   "outputs": [],
   "source": [
    "#data_viz.hist_prob_ko(train_orig)"
   ]
  },
  {
   "cell_type": "code",
   "execution_count": 11,
   "metadata": {},
   "outputs": [],
   "source": [
    "if flags.phy_mode == \"bacteria_only\":\n",
    "    train_genomes = train_orig.index.to_list()\n",
    "    test_genomes = test_orig.index.to_list()\n",
    "    \n",
    "    unf_train_data, train_tax_dict = util.bacteria_only(train_orig, train_genomes, genome_to_tax)\n",
    "    unf_test_data, test_tax_dict = util.bacteria_only(test_orig, test_genomes, genome_to_tax)"
   ]
  },
  {
   "cell_type": "code",
   "execution_count": 12,
   "metadata": {},
   "outputs": [],
   "source": [
    "# Remove rare features from train + test datasets\n",
    "# Rare = fewer than n occurences in training dataset\n",
    "# Last argument specifies n, set to correspond to 1% of genomes (3432 genomes -> n = 34)\n",
    "train_data, test_data, cluster_names = util.remove_rare(unf_train_data, unf_test_data, \n",
    "                                                        cluster_names, unf_train_data.shape[0]*0.01)"
   ]
  },
  {
   "cell_type": "code",
   "execution_count": 13,
   "metadata": {},
   "outputs": [
    {
     "data": {
      "text/plain": [
       "(2395, 7065)"
      ]
     },
     "execution_count": 13,
     "metadata": {},
     "output_type": "execute_result"
    }
   ],
   "source": [
    "train_data.shape"
   ]
  },
  {
   "cell_type": "code",
   "execution_count": 14,
   "metadata": {},
   "outputs": [
    {
     "name": "stdout",
     "output_type": "stream",
     "text": [
      "Corrupted genomes already exist\n"
     ]
    }
   ],
   "source": [
    "# Produce corrupted genomes\n",
    "# Could eventually do re-sampling / extra-corrupting to have more examples of \"rare\" genome types\n",
    "#    e.g.: those from underrepresented groups M00003   \n",
    "\n",
    "if os.path.isfile(flags.DATA_FP+'corrupted_train_0607.pt'):\n",
    "    print(\"Corrupted genomes already exist\")\n",
    "    train_data = torch.load(flags.DATA_FP+\"corrupted_train_0607.pt\")\n",
    "    test_data = torch.load(flags.DATA_FP+\"corrupted_test_0607.pt\")\n",
    "    genome_idx_train = torch.load(flags.DATA_FP+\"genome_idx_train_0607.pt\")\n",
    "    genome_idx_test = torch.load(flags.DATA_FP+\"genome_idx_test_0607.pt\")\n",
    "else:\n",
    "    print(\"Generating corrupted dataset from scratch with\",flags.num_corruptions,\"corrupted versions of each genome\")\n",
    "    train_data, genome_idx_train = util.corrupt(train_data, flags.num_corruptions, flags.corruption_fraction, \n",
    "                                                cluster_names, \"train\", flags.DATA_FP)\n",
    "\n",
    "    test_data, genome_idx_test = util.corrupt(test_data, flags.num_corruptions, flags.corruption_fraction, \n",
    "                                              cluster_names, \"test\", flags.DATA_FP)"
   ]
  },
  {
   "cell_type": "code",
   "execution_count": null,
   "metadata": {},
   "outputs": [],
   "source": []
  },
  {
   "cell_type": "code",
   "execution_count": 15,
   "metadata": {},
   "outputs": [],
   "source": [
    "# print((\"There are %s genomes and %s features in the training dataset\") % \n",
    "#       (train_data.shape[0],int(train_data.shape[1]/2)))\n",
    "\n",
    "# print((\"There are %s genomes and %s features in the test dataset\") % \n",
    "#       (test_data.shape[0],int(test_data.shape[1]/2)))"
   ]
  },
  {
   "cell_type": "code",
   "execution_count": 16,
   "metadata": {},
   "outputs": [],
   "source": [
    "# if flags.cirriculum:\n",
    "#     loaders = util.cirriculum_load(train_data, test_data, flags.batch_size, \n",
    "#                            flags.batch_size, cluster_names)\n",
    "# else:\n",
    "#     loaders = util.dataloaders(train_data, test_data, flags.batch_size, \n",
    "#                                flags.batch_size, cluster_names)"
   ]
  },
  {
   "cell_type": "code",
   "execution_count": 17,
   "metadata": {},
   "outputs": [],
   "source": [
    "# from skorch.dataset import CVSplit\n",
    "# from torch.utils.data import DataLoader, TensorDataset"
   ]
  },
  {
   "cell_type": "code",
   "execution_count": 18,
   "metadata": {},
   "outputs": [],
   "source": [
    "# num_features = int(train_data.shape[1]/2)\n",
    "# X = train_data[:,:num_features] # corrupted genomes in first half of matrix columns\n",
    "# y = train_data[:,num_features:] # uncorrupted in second half of matrix columns"
   ]
  },
  {
   "cell_type": "code",
   "execution_count": 19,
   "metadata": {},
   "outputs": [],
   "source": [
    "# # Create dataloader with folds \n",
    "# train_ds = TensorDataset(X, y)\n",
    "# splitter = CVSplit(cv=3)\n",
    "# train_dl = splitter(train_ds)"
   ]
  },
  {
   "cell_type": "code",
   "execution_count": 20,
   "metadata": {},
   "outputs": [],
   "source": [
    "# type(train_dl), type(train_dl[0])"
   ]
  },
  {
   "cell_type": "code",
   "execution_count": 21,
   "metadata": {},
   "outputs": [],
   "source": [
    "# import numpy as np\n",
    "# k = 3\n",
    "# idx_genomes = [i for i in range(len(X))]\n",
    "# num_test = int(len(idx_genomes) / k )\n",
    "# num_train = len(idx_genomes) - num_test"
   ]
  },
  {
   "cell_type": "code",
   "execution_count": 22,
   "metadata": {},
   "outputs": [],
   "source": [
    "# test_idx = np.random.choice(idx_genomes, num_test, replace=False)\n",
    "# train_idx = list(set(idx_genomes) - set(test_idx))"
   ]
  },
  {
   "cell_type": "code",
   "execution_count": 23,
   "metadata": {},
   "outputs": [],
   "source": [
    "# a = X[train_idx]"
   ]
  },
  {
   "cell_type": "code",
   "execution_count": 24,
   "metadata": {},
   "outputs": [],
   "source": [
    "# a.shape"
   ]
  },
  {
   "cell_type": "code",
   "execution_count": 25,
   "metadata": {},
   "outputs": [],
   "source": [
    "# train_set = train_dl[0]\n",
    "# cv_set = train_dl[1]"
   ]
  },
  {
   "cell_type": "code",
   "execution_count": null,
   "metadata": {},
   "outputs": [],
   "source": []
  },
  {
   "cell_type": "markdown",
   "metadata": {},
   "source": [
    "### Define and train network"
   ]
  },
  {
   "cell_type": "code",
   "execution_count": 26,
   "metadata": {},
   "outputs": [
    {
     "data": {
      "text/plain": [
       "14130"
      ]
     },
     "execution_count": 26,
     "metadata": {},
     "output_type": "execute_result"
    }
   ],
   "source": [
    "train_data.shape[1]"
   ]
  },
  {
   "cell_type": "code",
   "execution_count": 27,
   "metadata": {},
   "outputs": [],
   "source": [
    "num_features = int(train_data.shape[1]/2) # Number of features in the entire dataset (train + test)"
   ]
  },
  {
   "cell_type": "code",
   "execution_count": 28,
   "metadata": {},
   "outputs": [
    {
     "name": "stdout",
     "output_type": "stream",
     "text": [
      "AutoEncoder(\n",
      "  (layers): ModuleList(\n",
      "    (0): Linear(in_features=7065, out_features=3532, bias=True)\n",
      "    (1): Linear(in_features=3532, out_features=1766, bias=True)\n",
      "    (2): Linear(in_features=1766, out_features=1177, bias=True)\n",
      "    (3): Linear(in_features=1177, out_features=883, bias=True)\n",
      "    (4): Linear(in_features=883, out_features=706, bias=True)\n",
      "    (5): Linear(in_features=706, out_features=588, bias=True)\n",
      "    (6): Linear(in_features=588, out_features=706, bias=True)\n",
      "    (7): Linear(in_features=706, out_features=883, bias=True)\n",
      "    (8): Linear(in_features=883, out_features=1177, bias=True)\n",
      "    (9): Linear(in_features=1177, out_features=1766, bias=True)\n",
      "    (10): Linear(in_features=1766, out_features=3532, bias=True)\n",
      "    (11): Linear(in_features=3532, out_features=7065, bias=True)\n",
      "  )\n",
      ")\n"
     ]
    }
   ],
   "source": [
    "# define the network\n",
    "model = models.AutoEncoder(num_features, 12)\n",
    "print(model)"
   ]
  },
  {
   "cell_type": "code",
   "execution_count": 29,
   "metadata": {},
   "outputs": [],
   "source": [
    "train_vars = {\"batch_size\": 32, #tune.grid_search([32, 64]), # [32, 64, 128, 256]\n",
    "              \"num_epochs\": flags.num_epochs,\n",
    "              \"replacement_threshold\": flags.replacement_threshold,\n",
    "              \"kfolds\": flags.kfolds,\n",
    "              \"lr\": tune.grid_search([0.1, 0.0001]),\n",
    "              \"weight_decay\": 0.01, #tune.grid_search([0.01, 0.00001]),\n",
    "              \"nn_layers\": tune.grid_search([6,8])\n",
    "}"
   ]
  },
  {
   "cell_type": "code",
   "execution_count": 30,
   "metadata": {},
   "outputs": [
    {
     "data": {
      "text/plain": [
       "3"
      ]
     },
     "execution_count": 30,
     "metadata": {},
     "output_type": "execute_result"
    }
   ],
   "source": [
    "flags.num_epochs"
   ]
  },
  {
   "cell_type": "code",
   "execution_count": 31,
   "metadata": {},
   "outputs": [
    {
     "name": "stderr",
     "output_type": "stream",
     "text": [
      "2020-07-08 17:10:13,998\tINFO resource_spec.py:212 -- Starting Ray with 9.33 GiB memory available for workers and up to 4.67 GiB for objects. You can adjust these settings with ray.init(memory=<bytes>, object_store_memory=<bytes>).\n",
      "2020-07-08 17:10:14,377\tINFO services.py:1170 -- View the Ray dashboard at \u001b[1m\u001b[32mlocalhost:8265\u001b[39m\u001b[22m\n"
     ]
    },
    {
     "data": {
      "text/plain": [
       "{'node_ip_address': '192.168.2.23',\n",
       " 'raylet_ip_address': '192.168.2.23',\n",
       " 'redis_address': '192.168.2.23:27524',\n",
       " 'object_store_address': '/tmp/ray/session_2020-07-08_17-10-13_915124_58940/sockets/plasma_store',\n",
       " 'raylet_socket_name': '/tmp/ray/session_2020-07-08_17-10-13_915124_58940/sockets/raylet',\n",
       " 'webui_url': 'localhost:8265',\n",
       " 'session_dir': '/tmp/ray/session_2020-07-08_17-10-13_915124_58940'}"
      ]
     },
     "execution_count": 31,
     "metadata": {},
     "output_type": "execute_result"
    }
   ],
   "source": [
    "ray.shutdown()\n",
    "ray.init(local_mode=True)"
   ]
  },
  {
   "cell_type": "code",
   "execution_count": 32,
   "metadata": {},
   "outputs": [
    {
     "name": "stderr",
     "output_type": "stream",
     "text": [
      "2020-07-08 17:10:15,159\tINFO trainable.py:217 -- Getting current IP.\n"
     ]
    },
    {
     "name": "stdout",
     "output_type": "stream",
     "text": [
      "batch_size 32\n"
     ]
    },
    {
     "name": "stderr",
     "output_type": "stream",
     "text": [
      "2020-07-08 17:10:29,389\tWARNING util.py:137 -- The `start_trial` operation took 14.369375944137573 seconds to complete, which may be a performance bottleneck.\n"
     ]
    },
    {
     "name": "stdout",
     "output_type": "stream",
     "text": [
      "f1 0.5944921353772368\n"
     ]
    },
    {
     "data": {
      "text/html": [
       "== Status ==<br>Memory usage on this node: 18.8/32.0 GiB<br>Using AsyncHyperBand: num_stopped=0\n",
       "Bracket: Iter 64.000: None | Iter 16.000: None | Iter 4.000: None | Iter 1.000: None<br>Resources requested: 2/12 CPUs, 0/0 GPUs, 0.0/9.33 GiB heap, 0.0/3.22 GiB objects<br>Result logdir: /Users/natasha/ray_results/exp_1<br>Number of trials: 8 (7 PENDING, 1 RUNNING)<br><table>\n",
       "<thead>\n",
       "<tr><th>Trial name    </th><th>status  </th><th>loc  </th><th style=\"text-align: right;\">    lr</th><th style=\"text-align: right;\">  nn_layers</th></tr>\n",
       "</thead>\n",
       "<tbody>\n",
       "<tr><td>train_AE_00000</td><td>RUNNING </td><td>     </td><td style=\"text-align: right;\">0.1   </td><td style=\"text-align: right;\">          6</td></tr>\n",
       "<tr><td>train_AE_00001</td><td>PENDING </td><td>     </td><td style=\"text-align: right;\">0.0001</td><td style=\"text-align: right;\">          6</td></tr>\n",
       "<tr><td>train_AE_00002</td><td>PENDING </td><td>     </td><td style=\"text-align: right;\">0.1   </td><td style=\"text-align: right;\">          8</td></tr>\n",
       "<tr><td>train_AE_00003</td><td>PENDING </td><td>     </td><td style=\"text-align: right;\">0.0001</td><td style=\"text-align: right;\">          8</td></tr>\n",
       "<tr><td>train_AE_00004</td><td>PENDING </td><td>     </td><td style=\"text-align: right;\">0.1   </td><td style=\"text-align: right;\">          6</td></tr>\n",
       "<tr><td>train_AE_00005</td><td>PENDING </td><td>     </td><td style=\"text-align: right;\">0.0001</td><td style=\"text-align: right;\">          6</td></tr>\n",
       "<tr><td>train_AE_00006</td><td>PENDING </td><td>     </td><td style=\"text-align: right;\">0.1   </td><td style=\"text-align: right;\">          8</td></tr>\n",
       "<tr><td>train_AE_00007</td><td>PENDING </td><td>     </td><td style=\"text-align: right;\">0.0001</td><td style=\"text-align: right;\">          8</td></tr>\n",
       "</tbody>\n",
       "</table><br><br>"
      ],
      "text/plain": [
       "<IPython.core.display.HTML object>"
      ]
     },
     "metadata": {},
     "output_type": "display_data"
    },
    {
     "name": "stderr",
     "output_type": "stream",
     "text": [
      "2020-07-08 17:10:29,408\tINFO trainable.py:217 -- Getting current IP.\n"
     ]
    },
    {
     "name": "stdout",
     "output_type": "stream",
     "text": [
      "batch_size 32\n"
     ]
    },
    {
     "name": "stderr",
     "output_type": "stream",
     "text": [
      "2020-07-08 17:10:42,779\tWARNING util.py:137 -- The `start_trial` operation took 13.378119945526123 seconds to complete, which may be a performance bottleneck.\n"
     ]
    },
    {
     "name": "stdout",
     "output_type": "stream",
     "text": [
      "f1 0.2988640965336136\n"
     ]
    },
    {
     "data": {
      "text/html": [
       "== Status ==<br>Memory usage on this node: 17.9/32.0 GiB<br>Using AsyncHyperBand: num_stopped=0\n",
       "Bracket: Iter 64.000: None | Iter 16.000: None | Iter 4.000: None | Iter 1.000: None<br>Resources requested: 4/12 CPUs, 0/0 GPUs, 0.0/9.33 GiB heap, 0.0/3.22 GiB objects<br>Result logdir: /Users/natasha/ray_results/exp_1<br>Number of trials: 8 (6 PENDING, 2 RUNNING)<br><table>\n",
       "<thead>\n",
       "<tr><th>Trial name    </th><th>status  </th><th>loc  </th><th style=\"text-align: right;\">    lr</th><th style=\"text-align: right;\">  nn_layers</th></tr>\n",
       "</thead>\n",
       "<tbody>\n",
       "<tr><td>train_AE_00000</td><td>RUNNING </td><td>     </td><td style=\"text-align: right;\">0.1   </td><td style=\"text-align: right;\">          6</td></tr>\n",
       "<tr><td>train_AE_00001</td><td>RUNNING </td><td>     </td><td style=\"text-align: right;\">0.0001</td><td style=\"text-align: right;\">          6</td></tr>\n",
       "<tr><td>train_AE_00002</td><td>PENDING </td><td>     </td><td style=\"text-align: right;\">0.1   </td><td style=\"text-align: right;\">          8</td></tr>\n",
       "<tr><td>train_AE_00003</td><td>PENDING </td><td>     </td><td style=\"text-align: right;\">0.0001</td><td style=\"text-align: right;\">          8</td></tr>\n",
       "<tr><td>train_AE_00004</td><td>PENDING </td><td>     </td><td style=\"text-align: right;\">0.1   </td><td style=\"text-align: right;\">          6</td></tr>\n",
       "<tr><td>train_AE_00005</td><td>PENDING </td><td>     </td><td style=\"text-align: right;\">0.0001</td><td style=\"text-align: right;\">          6</td></tr>\n",
       "<tr><td>train_AE_00006</td><td>PENDING </td><td>     </td><td style=\"text-align: right;\">0.1   </td><td style=\"text-align: right;\">          8</td></tr>\n",
       "<tr><td>train_AE_00007</td><td>PENDING </td><td>     </td><td style=\"text-align: right;\">0.0001</td><td style=\"text-align: right;\">          8</td></tr>\n",
       "</tbody>\n",
       "</table><br><br>"
      ],
      "text/plain": [
       "<IPython.core.display.HTML object>"
      ]
     },
     "metadata": {},
     "output_type": "display_data"
    },
    {
     "name": "stderr",
     "output_type": "stream",
     "text": [
      "2020-07-08 17:10:42,797\tINFO trainable.py:217 -- Getting current IP.\n"
     ]
    },
    {
     "name": "stdout",
     "output_type": "stream",
     "text": [
      "batch_size 32\n"
     ]
    },
    {
     "name": "stderr",
     "output_type": "stream",
     "text": [
      "2020-07-08 17:10:58,452\tWARNING util.py:137 -- The `start_trial` operation took 15.6647629737854 seconds to complete, which may be a performance bottleneck.\n"
     ]
    },
    {
     "name": "stdout",
     "output_type": "stream",
     "text": [
      "f1 0.600763873646841\n"
     ]
    },
    {
     "data": {
      "text/html": [
       "== Status ==<br>Memory usage on this node: 18.5/32.0 GiB<br>Using AsyncHyperBand: num_stopped=0\n",
       "Bracket: Iter 64.000: None | Iter 16.000: None | Iter 4.000: None | Iter 1.000: None<br>Resources requested: 6/12 CPUs, 0/0 GPUs, 0.0/9.33 GiB heap, 0.0/3.22 GiB objects<br>Result logdir: /Users/natasha/ray_results/exp_1<br>Number of trials: 8 (5 PENDING, 3 RUNNING)<br><table>\n",
       "<thead>\n",
       "<tr><th>Trial name    </th><th>status  </th><th>loc  </th><th style=\"text-align: right;\">    lr</th><th style=\"text-align: right;\">  nn_layers</th></tr>\n",
       "</thead>\n",
       "<tbody>\n",
       "<tr><td>train_AE_00000</td><td>RUNNING </td><td>     </td><td style=\"text-align: right;\">0.1   </td><td style=\"text-align: right;\">          6</td></tr>\n",
       "<tr><td>train_AE_00001</td><td>RUNNING </td><td>     </td><td style=\"text-align: right;\">0.0001</td><td style=\"text-align: right;\">          6</td></tr>\n",
       "<tr><td>train_AE_00002</td><td>RUNNING </td><td>     </td><td style=\"text-align: right;\">0.1   </td><td style=\"text-align: right;\">          8</td></tr>\n",
       "<tr><td>train_AE_00003</td><td>PENDING </td><td>     </td><td style=\"text-align: right;\">0.0001</td><td style=\"text-align: right;\">          8</td></tr>\n",
       "<tr><td>train_AE_00004</td><td>PENDING </td><td>     </td><td style=\"text-align: right;\">0.1   </td><td style=\"text-align: right;\">          6</td></tr>\n",
       "<tr><td>train_AE_00005</td><td>PENDING </td><td>     </td><td style=\"text-align: right;\">0.0001</td><td style=\"text-align: right;\">          6</td></tr>\n",
       "<tr><td>train_AE_00006</td><td>PENDING </td><td>     </td><td style=\"text-align: right;\">0.1   </td><td style=\"text-align: right;\">          8</td></tr>\n",
       "<tr><td>train_AE_00007</td><td>PENDING </td><td>     </td><td style=\"text-align: right;\">0.0001</td><td style=\"text-align: right;\">          8</td></tr>\n",
       "</tbody>\n",
       "</table><br><br>"
      ],
      "text/plain": [
       "<IPython.core.display.HTML object>"
      ]
     },
     "metadata": {},
     "output_type": "display_data"
    },
    {
     "name": "stderr",
     "output_type": "stream",
     "text": [
      "2020-07-08 17:10:58,484\tINFO trainable.py:217 -- Getting current IP.\n"
     ]
    },
    {
     "name": "stdout",
     "output_type": "stream",
     "text": [
      "batch_size 32\n"
     ]
    },
    {
     "name": "stderr",
     "output_type": "stream",
     "text": [
      "2020-07-08 17:11:15,122\tWARNING util.py:137 -- The `start_trial` operation took 16.66018509864807 seconds to complete, which may be a performance bottleneck.\n"
     ]
    },
    {
     "name": "stdout",
     "output_type": "stream",
     "text": [
      "f1 0.3096855610980153\n"
     ]
    },
    {
     "data": {
      "text/html": [
       "== Status ==<br>Memory usage on this node: 18.1/32.0 GiB<br>Using AsyncHyperBand: num_stopped=0\n",
       "Bracket: Iter 64.000: None | Iter 16.000: None | Iter 4.000: None | Iter 1.000: None<br>Resources requested: 8/12 CPUs, 0/0 GPUs, 0.0/9.33 GiB heap, 0.0/3.22 GiB objects<br>Result logdir: /Users/natasha/ray_results/exp_1<br>Number of trials: 8 (4 PENDING, 4 RUNNING)<br><table>\n",
       "<thead>\n",
       "<tr><th>Trial name    </th><th>status  </th><th>loc  </th><th style=\"text-align: right;\">    lr</th><th style=\"text-align: right;\">  nn_layers</th></tr>\n",
       "</thead>\n",
       "<tbody>\n",
       "<tr><td>train_AE_00000</td><td>RUNNING </td><td>     </td><td style=\"text-align: right;\">0.1   </td><td style=\"text-align: right;\">          6</td></tr>\n",
       "<tr><td>train_AE_00001</td><td>RUNNING </td><td>     </td><td style=\"text-align: right;\">0.0001</td><td style=\"text-align: right;\">          6</td></tr>\n",
       "<tr><td>train_AE_00002</td><td>RUNNING </td><td>     </td><td style=\"text-align: right;\">0.1   </td><td style=\"text-align: right;\">          8</td></tr>\n",
       "<tr><td>train_AE_00003</td><td>RUNNING </td><td>     </td><td style=\"text-align: right;\">0.0001</td><td style=\"text-align: right;\">          8</td></tr>\n",
       "<tr><td>train_AE_00004</td><td>PENDING </td><td>     </td><td style=\"text-align: right;\">0.1   </td><td style=\"text-align: right;\">          6</td></tr>\n",
       "<tr><td>train_AE_00005</td><td>PENDING </td><td>     </td><td style=\"text-align: right;\">0.0001</td><td style=\"text-align: right;\">          6</td></tr>\n",
       "<tr><td>train_AE_00006</td><td>PENDING </td><td>     </td><td style=\"text-align: right;\">0.1   </td><td style=\"text-align: right;\">          8</td></tr>\n",
       "<tr><td>train_AE_00007</td><td>PENDING </td><td>     </td><td style=\"text-align: right;\">0.0001</td><td style=\"text-align: right;\">          8</td></tr>\n",
       "</tbody>\n",
       "</table><br><br>"
      ],
      "text/plain": [
       "<IPython.core.display.HTML object>"
      ]
     },
     "metadata": {},
     "output_type": "display_data"
    },
    {
     "name": "stderr",
     "output_type": "stream",
     "text": [
      "2020-07-08 17:11:15,146\tINFO trainable.py:217 -- Getting current IP.\n"
     ]
    },
    {
     "name": "stdout",
     "output_type": "stream",
     "text": [
      "batch_size 32\n"
     ]
    },
    {
     "name": "stderr",
     "output_type": "stream",
     "text": [
      "2020-07-08 17:11:30,526\tWARNING util.py:137 -- The `start_trial` operation took 15.395791053771973 seconds to complete, which may be a performance bottleneck.\n"
     ]
    },
    {
     "name": "stdout",
     "output_type": "stream",
     "text": [
      "f1 0.5729289520160429\n"
     ]
    },
    {
     "data": {
      "text/html": [
       "== Status ==<br>Memory usage on this node: 18.1/32.0 GiB<br>Using AsyncHyperBand: num_stopped=0\n",
       "Bracket: Iter 64.000: None | Iter 16.000: None | Iter 4.000: None | Iter 1.000: None<br>Resources requested: 10/12 CPUs, 0/0 GPUs, 0.0/9.33 GiB heap, 0.0/3.22 GiB objects<br>Result logdir: /Users/natasha/ray_results/exp_1<br>Number of trials: 8 (3 PENDING, 5 RUNNING)<br><table>\n",
       "<thead>\n",
       "<tr><th>Trial name    </th><th>status  </th><th>loc  </th><th style=\"text-align: right;\">    lr</th><th style=\"text-align: right;\">  nn_layers</th></tr>\n",
       "</thead>\n",
       "<tbody>\n",
       "<tr><td>train_AE_00000</td><td>RUNNING </td><td>     </td><td style=\"text-align: right;\">0.1   </td><td style=\"text-align: right;\">          6</td></tr>\n",
       "<tr><td>train_AE_00001</td><td>RUNNING </td><td>     </td><td style=\"text-align: right;\">0.0001</td><td style=\"text-align: right;\">          6</td></tr>\n",
       "<tr><td>train_AE_00002</td><td>RUNNING </td><td>     </td><td style=\"text-align: right;\">0.1   </td><td style=\"text-align: right;\">          8</td></tr>\n",
       "<tr><td>train_AE_00003</td><td>RUNNING </td><td>     </td><td style=\"text-align: right;\">0.0001</td><td style=\"text-align: right;\">          8</td></tr>\n",
       "<tr><td>train_AE_00004</td><td>RUNNING </td><td>     </td><td style=\"text-align: right;\">0.1   </td><td style=\"text-align: right;\">          6</td></tr>\n",
       "<tr><td>train_AE_00005</td><td>PENDING </td><td>     </td><td style=\"text-align: right;\">0.0001</td><td style=\"text-align: right;\">          6</td></tr>\n",
       "<tr><td>train_AE_00006</td><td>PENDING </td><td>     </td><td style=\"text-align: right;\">0.1   </td><td style=\"text-align: right;\">          8</td></tr>\n",
       "<tr><td>train_AE_00007</td><td>PENDING </td><td>     </td><td style=\"text-align: right;\">0.0001</td><td style=\"text-align: right;\">          8</td></tr>\n",
       "</tbody>\n",
       "</table><br><br>"
      ],
      "text/plain": [
       "<IPython.core.display.HTML object>"
      ]
     },
     "metadata": {},
     "output_type": "display_data"
    },
    {
     "name": "stderr",
     "output_type": "stream",
     "text": [
      "2020-07-08 17:11:30,551\tINFO trainable.py:217 -- Getting current IP.\n"
     ]
    },
    {
     "name": "stdout",
     "output_type": "stream",
     "text": [
      "batch_size 32\n"
     ]
    },
    {
     "name": "stderr",
     "output_type": "stream",
     "text": [
      "2020-07-08 17:11:47,323\tWARNING util.py:137 -- The `start_trial` operation took 16.785745859146118 seconds to complete, which may be a performance bottleneck.\n"
     ]
    },
    {
     "name": "stdout",
     "output_type": "stream",
     "text": [
      "f1 0.30031149805448354\n"
     ]
    },
    {
     "data": {
      "text/html": [
       "== Status ==<br>Memory usage on this node: 18.7/32.0 GiB<br>Using AsyncHyperBand: num_stopped=0\n",
       "Bracket: Iter 64.000: None | Iter 16.000: None | Iter 4.000: None | Iter 1.000: None<br>Resources requested: 12/12 CPUs, 0/0 GPUs, 0.0/9.33 GiB heap, 0.0/3.22 GiB objects<br>Result logdir: /Users/natasha/ray_results/exp_1<br>Number of trials: 8 (2 PENDING, 6 RUNNING)<br><table>\n",
       "<thead>\n",
       "<tr><th>Trial name    </th><th>status  </th><th>loc  </th><th style=\"text-align: right;\">    lr</th><th style=\"text-align: right;\">  nn_layers</th></tr>\n",
       "</thead>\n",
       "<tbody>\n",
       "<tr><td>train_AE_00000</td><td>RUNNING </td><td>     </td><td style=\"text-align: right;\">0.1   </td><td style=\"text-align: right;\">          6</td></tr>\n",
       "<tr><td>train_AE_00001</td><td>RUNNING </td><td>     </td><td style=\"text-align: right;\">0.0001</td><td style=\"text-align: right;\">          6</td></tr>\n",
       "<tr><td>train_AE_00002</td><td>RUNNING </td><td>     </td><td style=\"text-align: right;\">0.1   </td><td style=\"text-align: right;\">          8</td></tr>\n",
       "<tr><td>train_AE_00003</td><td>RUNNING </td><td>     </td><td style=\"text-align: right;\">0.0001</td><td style=\"text-align: right;\">          8</td></tr>\n",
       "<tr><td>train_AE_00004</td><td>RUNNING </td><td>     </td><td style=\"text-align: right;\">0.1   </td><td style=\"text-align: right;\">          6</td></tr>\n",
       "<tr><td>train_AE_00005</td><td>RUNNING </td><td>     </td><td style=\"text-align: right;\">0.0001</td><td style=\"text-align: right;\">          6</td></tr>\n",
       "<tr><td>train_AE_00006</td><td>PENDING </td><td>     </td><td style=\"text-align: right;\">0.1   </td><td style=\"text-align: right;\">          8</td></tr>\n",
       "<tr><td>train_AE_00007</td><td>PENDING </td><td>     </td><td style=\"text-align: right;\">0.0001</td><td style=\"text-align: right;\">          8</td></tr>\n",
       "</tbody>\n",
       "</table><br><br>"
      ],
      "text/plain": [
       "<IPython.core.display.HTML object>"
      ]
     },
     "metadata": {},
     "output_type": "display_data"
    },
    {
     "name": "stdout",
     "output_type": "stream",
     "text": [
      "Result for train_AE_00005:\n",
      "  date: 2020-07-08_17-11-47\n",
      "  done: false\n",
      "  experiment_id: de5a18fc1f4044a385c22af28482d383\n",
      "  experiment_tag: 5_lr=0.0001,nn_layers=6\n",
      "  hostname: natashas-MacBook-Pro.local\n",
      "  iterations_since_restore: 1\n",
      "  node_ip: 192.168.2.23\n",
      "  pid: 58940\n",
      "  test_f1: 0.30031149805448354\n",
      "  test_loss: 156439.40625\n",
      "  time_since_restore: 16.768501043319702\n",
      "  time_this_iter_s: 16.768501043319702\n",
      "  time_total_s: 16.768501043319702\n",
      "  timestamp: 1594242707\n",
      "  timesteps_since_restore: 0\n",
      "  train_f1: 0.28876764198215177\n",
      "  train_loss: 156707.046875\n",
      "  training_iteration: 1\n",
      "  trial_id: '00005'\n",
      "  \n"
     ]
    },
    {
     "name": "stderr",
     "output_type": "stream",
     "text": [
      "2020-07-08 17:11:54,081\tWARNING util.py:137 -- The `process_trial` operation took 6.738569974899292 seconds to complete, which may be a performance bottleneck.\n"
     ]
    },
    {
     "name": "stdout",
     "output_type": "stream",
     "text": [
      "f1 0.5910411687091207\n"
     ]
    },
    {
     "data": {
      "text/html": [
       "== Status ==<br>Memory usage on this node: 18.6/32.0 GiB<br>Using AsyncHyperBand: num_stopped=0\n",
       "Bracket: Iter 64.000: None | Iter 16.000: None | Iter 4.000: None | Iter 1.000: 0.30031149805448354<br>Resources requested: 12/12 CPUs, 0/0 GPUs, 0.0/9.33 GiB heap, 0.0/3.22 GiB objects<br>Result logdir: /Users/natasha/ray_results/exp_1<br>Number of trials: 8 (2 PENDING, 6 RUNNING)<br><table>\n",
       "<thead>\n",
       "<tr><th>Trial name    </th><th>status  </th><th>loc               </th><th style=\"text-align: right;\">    lr</th><th style=\"text-align: right;\">  nn_layers</th><th style=\"text-align: right;\">  iter</th><th style=\"text-align: right;\">  total time (s)</th></tr>\n",
       "</thead>\n",
       "<tbody>\n",
       "<tr><td>train_AE_00000</td><td>RUNNING </td><td>                  </td><td style=\"text-align: right;\">0.1   </td><td style=\"text-align: right;\">          6</td><td style=\"text-align: right;\">      </td><td style=\"text-align: right;\">                </td></tr>\n",
       "<tr><td>train_AE_00001</td><td>RUNNING </td><td>                  </td><td style=\"text-align: right;\">0.0001</td><td style=\"text-align: right;\">          6</td><td style=\"text-align: right;\">      </td><td style=\"text-align: right;\">                </td></tr>\n",
       "<tr><td>train_AE_00002</td><td>RUNNING </td><td>                  </td><td style=\"text-align: right;\">0.1   </td><td style=\"text-align: right;\">          8</td><td style=\"text-align: right;\">      </td><td style=\"text-align: right;\">                </td></tr>\n",
       "<tr><td>train_AE_00003</td><td>RUNNING </td><td>                  </td><td style=\"text-align: right;\">0.0001</td><td style=\"text-align: right;\">          8</td><td style=\"text-align: right;\">      </td><td style=\"text-align: right;\">                </td></tr>\n",
       "<tr><td>train_AE_00004</td><td>RUNNING </td><td>                  </td><td style=\"text-align: right;\">0.1   </td><td style=\"text-align: right;\">          6</td><td style=\"text-align: right;\">      </td><td style=\"text-align: right;\">                </td></tr>\n",
       "<tr><td>train_AE_00005</td><td>RUNNING </td><td>192.168.2.23:58940</td><td style=\"text-align: right;\">0.0001</td><td style=\"text-align: right;\">          6</td><td style=\"text-align: right;\">     1</td><td style=\"text-align: right;\">         16.7685</td></tr>\n",
       "<tr><td>train_AE_00006</td><td>PENDING </td><td>                  </td><td style=\"text-align: right;\">0.1   </td><td style=\"text-align: right;\">          8</td><td style=\"text-align: right;\">      </td><td style=\"text-align: right;\">                </td></tr>\n",
       "<tr><td>train_AE_00007</td><td>PENDING </td><td>                  </td><td style=\"text-align: right;\">0.0001</td><td style=\"text-align: right;\">          8</td><td style=\"text-align: right;\">      </td><td style=\"text-align: right;\">                </td></tr>\n",
       "</tbody>\n",
       "</table><br><br>"
      ],
      "text/plain": [
       "<IPython.core.display.HTML object>"
      ]
     },
     "metadata": {},
     "output_type": "display_data"
    },
    {
     "name": "stdout",
     "output_type": "stream",
     "text": [
      "Result for train_AE_00000:\n",
      "  date: 2020-07-08_17-10-29\n",
      "  done: false\n",
      "  experiment_id: 6bba8a3605ff4553a7a836765d68fcea\n",
      "  experiment_tag: 0_lr=0.1,nn_layers=6\n",
      "  hostname: natashas-MacBook-Pro.local\n",
      "  iterations_since_restore: 1\n",
      "  node_ip: 192.168.2.23\n",
      "  pid: 58940\n",
      "  test_f1: 0.5944921353772368\n",
      "  test_loss: 3354100.0\n",
      "  time_since_restore: 14.228111028671265\n",
      "  time_this_iter_s: 14.228111028671265\n",
      "  time_total_s: 14.228111028671265\n",
      "  timestamp: 1594242629\n",
      "  timesteps_since_restore: 0\n",
      "  train_f1: 0.28589784085278447\n",
      "  train_loss: 156709.78125\n",
      "  training_iteration: 1\n",
      "  trial_id: '00000'\n",
      "  \n"
     ]
    },
    {
     "name": "stderr",
     "output_type": "stream",
     "text": [
      "2020-07-08 17:12:06,812\tWARNING util.py:137 -- The `process_trial` operation took 12.713914155960083 seconds to complete, which may be a performance bottleneck.\n"
     ]
    },
    {
     "name": "stdout",
     "output_type": "stream",
     "text": [
      "f1 0.6029716476853839\n"
     ]
    },
    {
     "data": {
      "text/html": [
       "== Status ==<br>Memory usage on this node: 19.0/32.0 GiB<br>Using AsyncHyperBand: num_stopped=0\n",
       "Bracket: Iter 64.000: None | Iter 16.000: None | Iter 4.000: None | Iter 1.000: 0.5209469760465485<br>Resources requested: 12/12 CPUs, 0/0 GPUs, 0.0/9.33 GiB heap, 0.0/3.22 GiB objects<br>Result logdir: /Users/natasha/ray_results/exp_1<br>Number of trials: 8 (2 PENDING, 6 RUNNING)<br><table>\n",
       "<thead>\n",
       "<tr><th>Trial name    </th><th>status  </th><th>loc               </th><th style=\"text-align: right;\">    lr</th><th style=\"text-align: right;\">  nn_layers</th><th style=\"text-align: right;\">  iter</th><th style=\"text-align: right;\">  total time (s)</th></tr>\n",
       "</thead>\n",
       "<tbody>\n",
       "<tr><td>train_AE_00000</td><td>RUNNING </td><td>192.168.2.23:58940</td><td style=\"text-align: right;\">0.1   </td><td style=\"text-align: right;\">          6</td><td style=\"text-align: right;\">     1</td><td style=\"text-align: right;\">         14.2281</td></tr>\n",
       "<tr><td>train_AE_00001</td><td>RUNNING </td><td>                  </td><td style=\"text-align: right;\">0.0001</td><td style=\"text-align: right;\">          6</td><td style=\"text-align: right;\">      </td><td style=\"text-align: right;\">                </td></tr>\n",
       "<tr><td>train_AE_00002</td><td>RUNNING </td><td>                  </td><td style=\"text-align: right;\">0.1   </td><td style=\"text-align: right;\">          8</td><td style=\"text-align: right;\">      </td><td style=\"text-align: right;\">                </td></tr>\n",
       "<tr><td>train_AE_00003</td><td>RUNNING </td><td>                  </td><td style=\"text-align: right;\">0.0001</td><td style=\"text-align: right;\">          8</td><td style=\"text-align: right;\">      </td><td style=\"text-align: right;\">                </td></tr>\n",
       "<tr><td>train_AE_00004</td><td>RUNNING </td><td>                  </td><td style=\"text-align: right;\">0.1   </td><td style=\"text-align: right;\">          6</td><td style=\"text-align: right;\">      </td><td style=\"text-align: right;\">                </td></tr>\n",
       "<tr><td>train_AE_00005</td><td>RUNNING </td><td>192.168.2.23:58940</td><td style=\"text-align: right;\">0.0001</td><td style=\"text-align: right;\">          6</td><td style=\"text-align: right;\">     1</td><td style=\"text-align: right;\">         16.7685</td></tr>\n",
       "<tr><td>train_AE_00006</td><td>PENDING </td><td>                  </td><td style=\"text-align: right;\">0.1   </td><td style=\"text-align: right;\">          8</td><td style=\"text-align: right;\">      </td><td style=\"text-align: right;\">                </td></tr>\n",
       "<tr><td>train_AE_00007</td><td>PENDING </td><td>                  </td><td style=\"text-align: right;\">0.0001</td><td style=\"text-align: right;\">          8</td><td style=\"text-align: right;\">      </td><td style=\"text-align: right;\">                </td></tr>\n",
       "</tbody>\n",
       "</table><br><br>"
      ],
      "text/plain": [
       "<IPython.core.display.HTML object>"
      ]
     },
     "metadata": {},
     "output_type": "display_data"
    },
    {
     "name": "stdout",
     "output_type": "stream",
     "text": [
      "Result for train_AE_00002:\n",
      "  date: 2020-07-08_17-10-58\n",
      "  done: false\n",
      "  experiment_id: 82f2cef2bec94969b9de9f35b3ace649\n",
      "  experiment_tag: 2_lr=0.1,nn_layers=8\n",
      "  hostname: natashas-MacBook-Pro.local\n",
      "  iterations_since_restore: 1\n",
      "  node_ip: 192.168.2.23\n",
      "  pid: 58940\n",
      "  test_f1: 0.600763873646841\n",
      "  test_loss: 2885600.0\n",
      "  time_since_restore: 15.652647018432617\n",
      "  time_this_iter_s: 15.652647018432617\n",
      "  time_total_s: 15.652647018432617\n",
      "  timestamp: 1594242658\n",
      "  timesteps_since_restore: 0\n",
      "  train_f1: 0.28253367033731963\n",
      "  train_loss: 156707.703125\n",
      "  training_iteration: 1\n",
      "  trial_id: '00002'\n",
      "  \n"
     ]
    },
    {
     "name": "stderr",
     "output_type": "stream",
     "text": [
      "2020-07-08 17:12:16,515\tWARNING util.py:137 -- The `process_trial` operation took 9.694600820541382 seconds to complete, which may be a performance bottleneck.\n"
     ]
    },
    {
     "name": "stdout",
     "output_type": "stream",
     "text": [
      "f1 0.5730485581162065\n"
     ]
    },
    {
     "data": {
      "text/html": [
       "== Status ==<br>Memory usage on this node: 18.8/32.0 GiB<br>Using AsyncHyperBand: num_stopped=0\n",
       "Bracket: Iter 64.000: None | Iter 16.000: None | Iter 4.000: None | Iter 1.000: 0.5976280045120389<br>Resources requested: 12/12 CPUs, 0/0 GPUs, 0.0/9.33 GiB heap, 0.0/3.22 GiB objects<br>Result logdir: /Users/natasha/ray_results/exp_1<br>Number of trials: 8 (2 PENDING, 6 RUNNING)<br><table>\n",
       "<thead>\n",
       "<tr><th>Trial name    </th><th>status  </th><th>loc               </th><th style=\"text-align: right;\">    lr</th><th style=\"text-align: right;\">  nn_layers</th><th style=\"text-align: right;\">  iter</th><th style=\"text-align: right;\">  total time (s)</th></tr>\n",
       "</thead>\n",
       "<tbody>\n",
       "<tr><td>train_AE_00000</td><td>RUNNING </td><td>192.168.2.23:58940</td><td style=\"text-align: right;\">0.1   </td><td style=\"text-align: right;\">          6</td><td style=\"text-align: right;\">     1</td><td style=\"text-align: right;\">         14.2281</td></tr>\n",
       "<tr><td>train_AE_00001</td><td>RUNNING </td><td>                  </td><td style=\"text-align: right;\">0.0001</td><td style=\"text-align: right;\">          6</td><td style=\"text-align: right;\">      </td><td style=\"text-align: right;\">                </td></tr>\n",
       "<tr><td>train_AE_00002</td><td>RUNNING </td><td>192.168.2.23:58940</td><td style=\"text-align: right;\">0.1   </td><td style=\"text-align: right;\">          8</td><td style=\"text-align: right;\">     1</td><td style=\"text-align: right;\">         15.6526</td></tr>\n",
       "<tr><td>train_AE_00003</td><td>RUNNING </td><td>                  </td><td style=\"text-align: right;\">0.0001</td><td style=\"text-align: right;\">          8</td><td style=\"text-align: right;\">      </td><td style=\"text-align: right;\">                </td></tr>\n",
       "<tr><td>train_AE_00004</td><td>RUNNING </td><td>                  </td><td style=\"text-align: right;\">0.1   </td><td style=\"text-align: right;\">          6</td><td style=\"text-align: right;\">      </td><td style=\"text-align: right;\">                </td></tr>\n",
       "<tr><td>train_AE_00005</td><td>RUNNING </td><td>192.168.2.23:58940</td><td style=\"text-align: right;\">0.0001</td><td style=\"text-align: right;\">          6</td><td style=\"text-align: right;\">     1</td><td style=\"text-align: right;\">         16.7685</td></tr>\n",
       "<tr><td>train_AE_00006</td><td>PENDING </td><td>                  </td><td style=\"text-align: right;\">0.1   </td><td style=\"text-align: right;\">          8</td><td style=\"text-align: right;\">      </td><td style=\"text-align: right;\">                </td></tr>\n",
       "<tr><td>train_AE_00007</td><td>PENDING </td><td>                  </td><td style=\"text-align: right;\">0.0001</td><td style=\"text-align: right;\">          8</td><td style=\"text-align: right;\">      </td><td style=\"text-align: right;\">                </td></tr>\n",
       "</tbody>\n",
       "</table><br><br>"
      ],
      "text/plain": [
       "<IPython.core.display.HTML object>"
      ]
     },
     "metadata": {},
     "output_type": "display_data"
    },
    {
     "name": "stdout",
     "output_type": "stream",
     "text": [
      "Result for train_AE_00005:\n",
      "  date: 2020-07-08_17-11-54\n",
      "  done: false\n",
      "  experiment_id: de5a18fc1f4044a385c22af28482d383\n",
      "  experiment_tag: 5_lr=0.0001,nn_layers=6\n",
      "  hostname: natashas-MacBook-Pro.local\n",
      "  iterations_since_restore: 2\n",
      "  node_ip: 192.168.2.23\n",
      "  pid: 58940\n",
      "  test_f1: 0.5910411687091207\n",
      "  test_loss: 104213.2421875\n",
      "  time_since_restore: 23.52645182609558\n",
      "  time_this_iter_s: 6.757950782775879\n",
      "  time_total_s: 23.52645182609558\n",
      "  timestamp: 1594242714\n",
      "  timesteps_since_restore: 0\n",
      "  train_f1: 0.5998765920020829\n",
      "  train_loss: 99002.0546875\n",
      "  training_iteration: 2\n",
      "  trial_id: '00005'\n",
      "  \n"
     ]
    },
    {
     "name": "stderr",
     "output_type": "stream",
     "text": [
      "2020-07-08 17:12:23,419\tWARNING util.py:137 -- The `process_trial` operation took 6.89916205406189 seconds to complete, which may be a performance bottleneck.\n"
     ]
    },
    {
     "name": "stdout",
     "output_type": "stream",
     "text": [
      "f1 0.5837562737600376\n"
     ]
    },
    {
     "data": {
      "text/html": [
       "== Status ==<br>Memory usage on this node: 18.6/32.0 GiB<br>Using AsyncHyperBand: num_stopped=0\n",
       "Bracket: Iter 64.000: None | Iter 16.000: None | Iter 4.000: None | Iter 1.000: 0.5976280045120389<br>Resources requested: 12/12 CPUs, 0/0 GPUs, 0.0/9.33 GiB heap, 0.0/3.22 GiB objects<br>Result logdir: /Users/natasha/ray_results/exp_1<br>Number of trials: 8 (2 PENDING, 6 RUNNING)<br><table>\n",
       "<thead>\n",
       "<tr><th>Trial name    </th><th>status  </th><th>loc               </th><th style=\"text-align: right;\">    lr</th><th style=\"text-align: right;\">  nn_layers</th><th style=\"text-align: right;\">  iter</th><th style=\"text-align: right;\">  total time (s)</th></tr>\n",
       "</thead>\n",
       "<tbody>\n",
       "<tr><td>train_AE_00000</td><td>RUNNING </td><td>192.168.2.23:58940</td><td style=\"text-align: right;\">0.1   </td><td style=\"text-align: right;\">          6</td><td style=\"text-align: right;\">     1</td><td style=\"text-align: right;\">         14.2281</td></tr>\n",
       "<tr><td>train_AE_00001</td><td>RUNNING </td><td>                  </td><td style=\"text-align: right;\">0.0001</td><td style=\"text-align: right;\">          6</td><td style=\"text-align: right;\">      </td><td style=\"text-align: right;\">                </td></tr>\n",
       "<tr><td>train_AE_00002</td><td>RUNNING </td><td>192.168.2.23:58940</td><td style=\"text-align: right;\">0.1   </td><td style=\"text-align: right;\">          8</td><td style=\"text-align: right;\">     1</td><td style=\"text-align: right;\">         15.6526</td></tr>\n",
       "<tr><td>train_AE_00003</td><td>RUNNING </td><td>                  </td><td style=\"text-align: right;\">0.0001</td><td style=\"text-align: right;\">          8</td><td style=\"text-align: right;\">      </td><td style=\"text-align: right;\">                </td></tr>\n",
       "<tr><td>train_AE_00004</td><td>RUNNING </td><td>                  </td><td style=\"text-align: right;\">0.1   </td><td style=\"text-align: right;\">          6</td><td style=\"text-align: right;\">      </td><td style=\"text-align: right;\">                </td></tr>\n",
       "<tr><td>train_AE_00005</td><td>RUNNING </td><td>192.168.2.23:58940</td><td style=\"text-align: right;\">0.0001</td><td style=\"text-align: right;\">          6</td><td style=\"text-align: right;\">     2</td><td style=\"text-align: right;\">         23.5265</td></tr>\n",
       "<tr><td>train_AE_00006</td><td>PENDING </td><td>                  </td><td style=\"text-align: right;\">0.1   </td><td style=\"text-align: right;\">          8</td><td style=\"text-align: right;\">      </td><td style=\"text-align: right;\">                </td></tr>\n",
       "<tr><td>train_AE_00007</td><td>PENDING </td><td>                  </td><td style=\"text-align: right;\">0.0001</td><td style=\"text-align: right;\">          8</td><td style=\"text-align: right;\">      </td><td style=\"text-align: right;\">                </td></tr>\n",
       "</tbody>\n",
       "</table><br><br>"
      ],
      "text/plain": [
       "<IPython.core.display.HTML object>"
      ]
     },
     "metadata": {},
     "output_type": "display_data"
    },
    {
     "name": "stdout",
     "output_type": "stream",
     "text": [
      "Result for train_AE_00005:\n",
      "  date: 2020-07-08_17-12-23\n",
      "  done: false\n",
      "  experiment_id: de5a18fc1f4044a385c22af28482d383\n",
      "  experiment_tag: 5_lr=0.0001,nn_layers=6\n",
      "  hostname: natashas-MacBook-Pro.local\n",
      "  iterations_since_restore: 3\n",
      "  node_ip: 192.168.2.23\n",
      "  pid: 58940\n",
      "  test_f1: 0.5837562737600376\n",
      "  test_loss: 84038.59375\n",
      "  time_since_restore: 52.86550807952881\n",
      "  time_this_iter_s: 29.339056253433228\n",
      "  time_total_s: 52.86550807952881\n",
      "  timestamp: 1594242743\n",
      "  timesteps_since_restore: 0\n",
      "  train_f1: 0.5845946663848861\n",
      "  train_loss: 85436.7421875\n",
      "  training_iteration: 3\n",
      "  trial_id: '00005'\n",
      "  \n"
     ]
    },
    {
     "name": "stderr",
     "output_type": "stream",
     "text": [
      "2020-07-08 17:12:29,864\tWARNING util.py:137 -- The `process_trial` operation took 6.434922933578491 seconds to complete, which may be a performance bottleneck.\n"
     ]
    },
    {
     "data": {
      "text/html": [
       "== Status ==<br>Memory usage on this node: 16.0/32.0 GiB<br>Using AsyncHyperBand: num_stopped=0\n",
       "Bracket: Iter 64.000: None | Iter 16.000: None | Iter 4.000: None | Iter 1.000: 0.5976280045120389<br>Resources requested: 12/12 CPUs, 0/0 GPUs, 0.0/9.33 GiB heap, 0.0/3.22 GiB objects<br>Result logdir: /Users/natasha/ray_results/exp_1<br>Number of trials: 8 (2 PENDING, 6 RUNNING)<br><table>\n",
       "<thead>\n",
       "<tr><th>Trial name    </th><th>status  </th><th>loc               </th><th style=\"text-align: right;\">    lr</th><th style=\"text-align: right;\">  nn_layers</th><th style=\"text-align: right;\">  iter</th><th style=\"text-align: right;\">  total time (s)</th></tr>\n",
       "</thead>\n",
       "<tbody>\n",
       "<tr><td>train_AE_00000</td><td>RUNNING </td><td>192.168.2.23:58940</td><td style=\"text-align: right;\">0.1   </td><td style=\"text-align: right;\">          6</td><td style=\"text-align: right;\">     1</td><td style=\"text-align: right;\">         14.2281</td></tr>\n",
       "<tr><td>train_AE_00001</td><td>RUNNING </td><td>                  </td><td style=\"text-align: right;\">0.0001</td><td style=\"text-align: right;\">          6</td><td style=\"text-align: right;\">      </td><td style=\"text-align: right;\">                </td></tr>\n",
       "<tr><td>train_AE_00002</td><td>RUNNING </td><td>192.168.2.23:58940</td><td style=\"text-align: right;\">0.1   </td><td style=\"text-align: right;\">          8</td><td style=\"text-align: right;\">     1</td><td style=\"text-align: right;\">         15.6526</td></tr>\n",
       "<tr><td>train_AE_00003</td><td>RUNNING </td><td>                  </td><td style=\"text-align: right;\">0.0001</td><td style=\"text-align: right;\">          8</td><td style=\"text-align: right;\">      </td><td style=\"text-align: right;\">                </td></tr>\n",
       "<tr><td>train_AE_00004</td><td>RUNNING </td><td>                  </td><td style=\"text-align: right;\">0.1   </td><td style=\"text-align: right;\">          6</td><td style=\"text-align: right;\">      </td><td style=\"text-align: right;\">                </td></tr>\n",
       "<tr><td>train_AE_00005</td><td>RUNNING </td><td>192.168.2.23:58940</td><td style=\"text-align: right;\">0.0001</td><td style=\"text-align: right;\">          6</td><td style=\"text-align: right;\">     3</td><td style=\"text-align: right;\">         52.8655</td></tr>\n",
       "<tr><td>train_AE_00006</td><td>PENDING </td><td>                  </td><td style=\"text-align: right;\">0.1   </td><td style=\"text-align: right;\">          8</td><td style=\"text-align: right;\">      </td><td style=\"text-align: right;\">                </td></tr>\n",
       "<tr><td>train_AE_00007</td><td>PENDING </td><td>                  </td><td style=\"text-align: right;\">0.0001</td><td style=\"text-align: right;\">          8</td><td style=\"text-align: right;\">      </td><td style=\"text-align: right;\">                </td></tr>\n",
       "</tbody>\n",
       "</table><br><br>"
      ],
      "text/plain": [
       "<IPython.core.display.HTML object>"
      ]
     },
     "metadata": {},
     "output_type": "display_data"
    },
    {
     "name": "stdout",
     "output_type": "stream",
     "text": [
      "Result for train_AE_00002:\n",
      "  date: 2020-07-08_17-12-16\n",
      "  done: false\n",
      "  experiment_id: 82f2cef2bec94969b9de9f35b3ace649\n",
      "  experiment_tag: 2_lr=0.1,nn_layers=8\n",
      "  hostname: natashas-MacBook-Pro.local\n",
      "  iterations_since_restore: 2\n",
      "  node_ip: 192.168.2.23\n",
      "  pid: 58940\n",
      "  test_f1: 0.5730485581162065\n",
      "  test_loss: 3351700.0\n",
      "  time_since_restore: 93.7168710231781\n",
      "  time_this_iter_s: 78.06422400474548\n",
      "  time_total_s: 93.7168710231781\n",
      "  timestamp: 1594242736\n",
      "  timesteps_since_restore: 0\n",
      "  train_f1: 0.5853477729076427\n",
      "  train_loss: 3316900.0\n",
      "  training_iteration: 2\n",
      "  trial_id: '00002'\n",
      "  \n"
     ]
    },
    {
     "name": "stderr",
     "output_type": "stream",
     "text": [
      "2020-07-08 17:12:37,318\tWARNING util.py:137 -- The `process_trial` operation took 7.448609828948975 seconds to complete, which may be a performance bottleneck.\n"
     ]
    },
    {
     "name": "stdout",
     "output_type": "stream",
     "text": [
      "f1 0.56563255570547\n"
     ]
    },
    {
     "data": {
      "text/html": [
       "== Status ==<br>Memory usage on this node: 16.1/32.0 GiB<br>Using AsyncHyperBand: num_stopped=0\n",
       "Bracket: Iter 64.000: None | Iter 16.000: None | Iter 4.000: None | Iter 1.000: 0.5976280045120389<br>Resources requested: 12/12 CPUs, 0/0 GPUs, 0.0/9.33 GiB heap, 0.0/3.22 GiB objects<br>Result logdir: /Users/natasha/ray_results/exp_1<br>Number of trials: 8 (2 PENDING, 6 RUNNING)<br><table>\n",
       "<thead>\n",
       "<tr><th>Trial name    </th><th>status  </th><th>loc               </th><th style=\"text-align: right;\">    lr</th><th style=\"text-align: right;\">  nn_layers</th><th style=\"text-align: right;\">  iter</th><th style=\"text-align: right;\">  total time (s)</th></tr>\n",
       "</thead>\n",
       "<tbody>\n",
       "<tr><td>train_AE_00000</td><td>RUNNING </td><td>192.168.2.23:58940</td><td style=\"text-align: right;\">0.1   </td><td style=\"text-align: right;\">          6</td><td style=\"text-align: right;\">     1</td><td style=\"text-align: right;\">         14.2281</td></tr>\n",
       "<tr><td>train_AE_00001</td><td>RUNNING </td><td>                  </td><td style=\"text-align: right;\">0.0001</td><td style=\"text-align: right;\">          6</td><td style=\"text-align: right;\">      </td><td style=\"text-align: right;\">                </td></tr>\n",
       "<tr><td>train_AE_00002</td><td>RUNNING </td><td>192.168.2.23:58940</td><td style=\"text-align: right;\">0.1   </td><td style=\"text-align: right;\">          8</td><td style=\"text-align: right;\">     2</td><td style=\"text-align: right;\">         93.7169</td></tr>\n",
       "<tr><td>train_AE_00003</td><td>RUNNING </td><td>                  </td><td style=\"text-align: right;\">0.0001</td><td style=\"text-align: right;\">          8</td><td style=\"text-align: right;\">      </td><td style=\"text-align: right;\">                </td></tr>\n",
       "<tr><td>train_AE_00004</td><td>RUNNING </td><td>                  </td><td style=\"text-align: right;\">0.1   </td><td style=\"text-align: right;\">          6</td><td style=\"text-align: right;\">      </td><td style=\"text-align: right;\">                </td></tr>\n",
       "<tr><td>train_AE_00005</td><td>RUNNING </td><td>192.168.2.23:58940</td><td style=\"text-align: right;\">0.0001</td><td style=\"text-align: right;\">          6</td><td style=\"text-align: right;\">     3</td><td style=\"text-align: right;\">         52.8655</td></tr>\n",
       "<tr><td>train_AE_00006</td><td>PENDING </td><td>                  </td><td style=\"text-align: right;\">0.1   </td><td style=\"text-align: right;\">          8</td><td style=\"text-align: right;\">      </td><td style=\"text-align: right;\">                </td></tr>\n",
       "<tr><td>train_AE_00007</td><td>PENDING </td><td>                  </td><td style=\"text-align: right;\">0.0001</td><td style=\"text-align: right;\">          8</td><td style=\"text-align: right;\">      </td><td style=\"text-align: right;\">                </td></tr>\n",
       "</tbody>\n",
       "</table><br><br>"
      ],
      "text/plain": [
       "<IPython.core.display.HTML object>"
      ]
     },
     "metadata": {},
     "output_type": "display_data"
    },
    {
     "name": "stderr",
     "output_type": "stream",
     "text": [
      "2020-07-08 17:12:37,401\tINFO trainable.py:217 -- Getting current IP.\n"
     ]
    },
    {
     "name": "stdout",
     "output_type": "stream",
     "text": [
      "Result for train_AE_00001:\n",
      "  date: 2020-07-08_17-10-42\n",
      "  done: true\n",
      "  experiment_id: 449a0f0d2c15462baa2c414c886d7f07\n",
      "  experiment_tag: 1_lr=0.0001,nn_layers=6\n",
      "  hostname: natashas-MacBook-Pro.local\n",
      "  iterations_since_restore: 1\n",
      "  node_ip: 192.168.2.23\n",
      "  pid: 58940\n",
      "  test_f1: 0.2988640965336136\n",
      "  test_loss: 156441.5\n",
      "  time_since_restore: 13.368964910507202\n",
      "  time_this_iter_s: 13.368964910507202\n",
      "  time_total_s: 13.368964910507202\n",
      "  timestamp: 1594242642\n",
      "  timesteps_since_restore: 0\n",
      "  train_f1: 0.2571027686822127\n",
      "  train_loss: 156708.78125\n",
      "  training_iteration: 1\n",
      "  trial_id: '00001'\n",
      "  \n",
      "batch_size 32\n"
     ]
    },
    {
     "name": "stderr",
     "output_type": "stream",
     "text": [
      "2020-07-08 17:12:54,544\tWARNING util.py:137 -- The `start_trial` operation took 17.15739369392395 seconds to complete, which may be a performance bottleneck.\n"
     ]
    },
    {
     "name": "stdout",
     "output_type": "stream",
     "text": [
      "f1 0.5652108893915286\n"
     ]
    },
    {
     "data": {
      "text/html": [
       "== Status ==<br>Memory usage on this node: 18.3/32.0 GiB<br>Using AsyncHyperBand: num_stopped=1\n",
       "Bracket: Iter 64.000: None | Iter 16.000: None | Iter 4.000: None | Iter 1.000: 0.5960600699446379<br>Resources requested: 12/12 CPUs, 0/0 GPUs, 0.0/9.33 GiB heap, 0.0/3.22 GiB objects<br>Result logdir: /Users/natasha/ray_results/exp_1<br>Number of trials: 8 (1 PENDING, 6 RUNNING, 1 TERMINATED)<br><table>\n",
       "<thead>\n",
       "<tr><th>Trial name    </th><th>status    </th><th>loc               </th><th style=\"text-align: right;\">    lr</th><th style=\"text-align: right;\">  nn_layers</th><th style=\"text-align: right;\">  iter</th><th style=\"text-align: right;\">  total time (s)</th></tr>\n",
       "</thead>\n",
       "<tbody>\n",
       "<tr><td>train_AE_00000</td><td>RUNNING   </td><td>192.168.2.23:58940</td><td style=\"text-align: right;\">0.1   </td><td style=\"text-align: right;\">          6</td><td style=\"text-align: right;\">     1</td><td style=\"text-align: right;\">         14.2281</td></tr>\n",
       "<tr><td>train_AE_00001</td><td>TERMINATED</td><td>                  </td><td style=\"text-align: right;\">0.0001</td><td style=\"text-align: right;\">          6</td><td style=\"text-align: right;\">     1</td><td style=\"text-align: right;\">         13.369 </td></tr>\n",
       "<tr><td>train_AE_00002</td><td>RUNNING   </td><td>192.168.2.23:58940</td><td style=\"text-align: right;\">0.1   </td><td style=\"text-align: right;\">          8</td><td style=\"text-align: right;\">     2</td><td style=\"text-align: right;\">         93.7169</td></tr>\n",
       "<tr><td>train_AE_00003</td><td>RUNNING   </td><td>                  </td><td style=\"text-align: right;\">0.0001</td><td style=\"text-align: right;\">          8</td><td style=\"text-align: right;\">      </td><td style=\"text-align: right;\">                </td></tr>\n",
       "<tr><td>train_AE_00004</td><td>RUNNING   </td><td>                  </td><td style=\"text-align: right;\">0.1   </td><td style=\"text-align: right;\">          6</td><td style=\"text-align: right;\">      </td><td style=\"text-align: right;\">                </td></tr>\n",
       "<tr><td>train_AE_00005</td><td>RUNNING   </td><td>192.168.2.23:58940</td><td style=\"text-align: right;\">0.0001</td><td style=\"text-align: right;\">          6</td><td style=\"text-align: right;\">     3</td><td style=\"text-align: right;\">         52.8655</td></tr>\n",
       "<tr><td>train_AE_00006</td><td>RUNNING   </td><td>                  </td><td style=\"text-align: right;\">0.1   </td><td style=\"text-align: right;\">          8</td><td style=\"text-align: right;\">      </td><td style=\"text-align: right;\">                </td></tr>\n",
       "<tr><td>train_AE_00007</td><td>PENDING   </td><td>                  </td><td style=\"text-align: right;\">0.0001</td><td style=\"text-align: right;\">          8</td><td style=\"text-align: right;\">      </td><td style=\"text-align: right;\">                </td></tr>\n",
       "</tbody>\n",
       "</table><br><br>"
      ],
      "text/plain": [
       "<IPython.core.display.HTML object>"
      ]
     },
     "metadata": {},
     "output_type": "display_data"
    },
    {
     "name": "stderr",
     "output_type": "stream",
     "text": [
      "2020-07-08 17:12:54,554\tWARNING ray_trial_executor.py:415 -- Over the last 60 seconds, the Tune event loop has been backlogged processing new results. Consider increasing your period of result reporting to improve performance.\n",
      "2020-07-08 17:12:54,577\tINFO trainable.py:217 -- Getting current IP.\n"
     ]
    },
    {
     "name": "stdout",
     "output_type": "stream",
     "text": [
      "Result for train_AE_00006:\n",
      "  date: 2020-07-08_17-12-54\n",
      "  done: true\n",
      "  experiment_id: 209be8c965f0435c95dcfcc6f0bc25a5\n",
      "  experiment_tag: 6_lr=0.1,nn_layers=8\n",
      "  hostname: natashas-MacBook-Pro.local\n",
      "  iterations_since_restore: 1\n",
      "  node_ip: 192.168.2.23\n",
      "  pid: 58940\n",
      "  test_f1: 0.5652108893915286\n",
      "  test_loss: 3167400.0\n",
      "  time_since_restore: 17.140177011489868\n",
      "  time_this_iter_s: 17.140177011489868\n",
      "  time_total_s: 17.140177011489868\n",
      "  timestamp: 1594242774\n",
      "  timesteps_since_restore: 0\n",
      "  train_f1: 0.25374919051782696\n",
      "  train_loss: 156717.921875\n",
      "  training_iteration: 1\n",
      "  trial_id: '00006'\n",
      "  \n",
      "batch_size 32\n"
     ]
    },
    {
     "name": "stderr",
     "output_type": "stream",
     "text": [
      "2020-07-08 17:13:11,899\tWARNING util.py:137 -- The `start_trial` operation took 17.33521008491516 seconds to complete, which may be a performance bottleneck.\n"
     ]
    },
    {
     "name": "stdout",
     "output_type": "stream",
     "text": [
      "f1 0.30540800438639404\n"
     ]
    },
    {
     "data": {
      "text/html": [
       "== Status ==<br>Memory usage on this node: 18.2/32.0 GiB<br>Using AsyncHyperBand: num_stopped=2\n",
       "Bracket: Iter 64.000: None | Iter 16.000: None | Iter 4.000: None | Iter 1.000: 0.5944921353772368<br>Resources requested: 12/12 CPUs, 0/0 GPUs, 0.0/9.33 GiB heap, 0.0/3.22 GiB objects<br>Result logdir: /Users/natasha/ray_results/exp_1<br>Number of trials: 8 (6 RUNNING, 2 TERMINATED)<br><table>\n",
       "<thead>\n",
       "<tr><th>Trial name    </th><th>status    </th><th>loc               </th><th style=\"text-align: right;\">    lr</th><th style=\"text-align: right;\">  nn_layers</th><th style=\"text-align: right;\">  iter</th><th style=\"text-align: right;\">  total time (s)</th></tr>\n",
       "</thead>\n",
       "<tbody>\n",
       "<tr><td>train_AE_00000</td><td>RUNNING   </td><td>192.168.2.23:58940</td><td style=\"text-align: right;\">0.1   </td><td style=\"text-align: right;\">          6</td><td style=\"text-align: right;\">     1</td><td style=\"text-align: right;\">         14.2281</td></tr>\n",
       "<tr><td>train_AE_00001</td><td>TERMINATED</td><td>                  </td><td style=\"text-align: right;\">0.0001</td><td style=\"text-align: right;\">          6</td><td style=\"text-align: right;\">     1</td><td style=\"text-align: right;\">         13.369 </td></tr>\n",
       "<tr><td>train_AE_00002</td><td>RUNNING   </td><td>192.168.2.23:58940</td><td style=\"text-align: right;\">0.1   </td><td style=\"text-align: right;\">          8</td><td style=\"text-align: right;\">     2</td><td style=\"text-align: right;\">         93.7169</td></tr>\n",
       "<tr><td>train_AE_00003</td><td>RUNNING   </td><td>                  </td><td style=\"text-align: right;\">0.0001</td><td style=\"text-align: right;\">          8</td><td style=\"text-align: right;\">      </td><td style=\"text-align: right;\">                </td></tr>\n",
       "<tr><td>train_AE_00004</td><td>RUNNING   </td><td>                  </td><td style=\"text-align: right;\">0.1   </td><td style=\"text-align: right;\">          6</td><td style=\"text-align: right;\">      </td><td style=\"text-align: right;\">                </td></tr>\n",
       "<tr><td>train_AE_00005</td><td>RUNNING   </td><td>192.168.2.23:58940</td><td style=\"text-align: right;\">0.0001</td><td style=\"text-align: right;\">          6</td><td style=\"text-align: right;\">     3</td><td style=\"text-align: right;\">         52.8655</td></tr>\n",
       "<tr><td>train_AE_00006</td><td>TERMINATED</td><td>                  </td><td style=\"text-align: right;\">0.1   </td><td style=\"text-align: right;\">          8</td><td style=\"text-align: right;\">     1</td><td style=\"text-align: right;\">         17.1402</td></tr>\n",
       "<tr><td>train_AE_00007</td><td>RUNNING   </td><td>                  </td><td style=\"text-align: right;\">0.0001</td><td style=\"text-align: right;\">          8</td><td style=\"text-align: right;\">      </td><td style=\"text-align: right;\">                </td></tr>\n",
       "</tbody>\n",
       "</table><br><br>"
      ],
      "text/plain": [
       "<IPython.core.display.HTML object>"
      ]
     },
     "metadata": {},
     "output_type": "display_data"
    },
    {
     "name": "stdout",
     "output_type": "stream",
     "text": [
      "Result for train_AE_00000:\n",
      "  date: 2020-07-08_17-12-06\n",
      "  done: false\n",
      "  experiment_id: 6bba8a3605ff4553a7a836765d68fcea\n",
      "  experiment_tag: 0_lr=0.1,nn_layers=6\n",
      "  hostname: natashas-MacBook-Pro.local\n",
      "  iterations_since_restore: 2\n",
      "  node_ip: 192.168.2.23\n",
      "  pid: 58940\n",
      "  test_f1: 0.6029716476853839\n",
      "  test_loss: 2922100.0\n",
      "  time_since_restore: 111.64963984489441\n",
      "  time_this_iter_s: 97.42152881622314\n",
      "  time_total_s: 111.64963984489441\n",
      "  timestamp: 1594242726\n",
      "  timesteps_since_restore: 0\n",
      "  train_f1: 0.5833041461201092\n",
      "  train_loss: 3284900.0\n",
      "  training_iteration: 2\n",
      "  trial_id: '00000'\n",
      "  \n"
     ]
    },
    {
     "name": "stderr",
     "output_type": "stream",
     "text": [
      "2020-07-08 17:13:20,549\tWARNING util.py:137 -- The `process_trial` operation took 8.632413148880005 seconds to complete, which may be a performance bottleneck.\n"
     ]
    },
    {
     "name": "stdout",
     "output_type": "stream",
     "text": [
      "f1 0.6149506642876658\n"
     ]
    },
    {
     "data": {
      "text/html": [
       "== Status ==<br>Memory usage on this node: 18.1/32.0 GiB<br>Using AsyncHyperBand: num_stopped=2\n",
       "Bracket: Iter 64.000: None | Iter 16.000: None | Iter 4.000: None | Iter 1.000: 0.5944921353772368<br>Resources requested: 12/12 CPUs, 0/0 GPUs, 0.0/9.33 GiB heap, 0.0/3.22 GiB objects<br>Result logdir: /Users/natasha/ray_results/exp_1<br>Number of trials: 8 (6 RUNNING, 2 TERMINATED)<br><table>\n",
       "<thead>\n",
       "<tr><th>Trial name    </th><th>status    </th><th>loc               </th><th style=\"text-align: right;\">    lr</th><th style=\"text-align: right;\">  nn_layers</th><th style=\"text-align: right;\">  iter</th><th style=\"text-align: right;\">  total time (s)</th></tr>\n",
       "</thead>\n",
       "<tbody>\n",
       "<tr><td>train_AE_00000</td><td>RUNNING   </td><td>192.168.2.23:58940</td><td style=\"text-align: right;\">0.1   </td><td style=\"text-align: right;\">          6</td><td style=\"text-align: right;\">     2</td><td style=\"text-align: right;\">        111.65  </td></tr>\n",
       "<tr><td>train_AE_00001</td><td>TERMINATED</td><td>                  </td><td style=\"text-align: right;\">0.0001</td><td style=\"text-align: right;\">          6</td><td style=\"text-align: right;\">     1</td><td style=\"text-align: right;\">         13.369 </td></tr>\n",
       "<tr><td>train_AE_00002</td><td>RUNNING   </td><td>192.168.2.23:58940</td><td style=\"text-align: right;\">0.1   </td><td style=\"text-align: right;\">          8</td><td style=\"text-align: right;\">     2</td><td style=\"text-align: right;\">         93.7169</td></tr>\n",
       "<tr><td>train_AE_00003</td><td>RUNNING   </td><td>                  </td><td style=\"text-align: right;\">0.0001</td><td style=\"text-align: right;\">          8</td><td style=\"text-align: right;\">      </td><td style=\"text-align: right;\">                </td></tr>\n",
       "<tr><td>train_AE_00004</td><td>RUNNING   </td><td>                  </td><td style=\"text-align: right;\">0.1   </td><td style=\"text-align: right;\">          6</td><td style=\"text-align: right;\">      </td><td style=\"text-align: right;\">                </td></tr>\n",
       "<tr><td>train_AE_00005</td><td>RUNNING   </td><td>192.168.2.23:58940</td><td style=\"text-align: right;\">0.0001</td><td style=\"text-align: right;\">          6</td><td style=\"text-align: right;\">     3</td><td style=\"text-align: right;\">         52.8655</td></tr>\n",
       "<tr><td>train_AE_00006</td><td>TERMINATED</td><td>                  </td><td style=\"text-align: right;\">0.1   </td><td style=\"text-align: right;\">          8</td><td style=\"text-align: right;\">     1</td><td style=\"text-align: right;\">         17.1402</td></tr>\n",
       "<tr><td>train_AE_00007</td><td>RUNNING   </td><td>                  </td><td style=\"text-align: right;\">0.0001</td><td style=\"text-align: right;\">          8</td><td style=\"text-align: right;\">      </td><td style=\"text-align: right;\">                </td></tr>\n",
       "</tbody>\n",
       "</table><br><br>"
      ],
      "text/plain": [
       "<IPython.core.display.HTML object>"
      ]
     },
     "metadata": {},
     "output_type": "display_data"
    },
    {
     "name": "stdout",
     "output_type": "stream",
     "text": [
      "Result for train_AE_00004:\n",
      "  date: 2020-07-08_17-11-30\n",
      "  done: true\n",
      "  experiment_id: a864cddeffc24b70b59fdb5031495ee9\n",
      "  experiment_tag: 4_lr=0.1,nn_layers=6\n",
      "  hostname: natashas-MacBook-Pro.local\n",
      "  iterations_since_restore: 1\n",
      "  node_ip: 192.168.2.23\n",
      "  pid: 58940\n",
      "  test_f1: 0.5729289520160429\n",
      "  test_loss: 3172200.0\n",
      "  time_since_restore: 15.377494812011719\n",
      "  time_this_iter_s: 15.377494812011719\n",
      "  time_total_s: 15.377494812011719\n",
      "  timestamp: 1594242690\n",
      "  timesteps_since_restore: 0\n",
      "  train_f1: 0.2605166431397041\n",
      "  train_loss: 156725.0625\n",
      "  training_iteration: 1\n",
      "  trial_id: '00004'\n",
      "  \n",
      "Result for train_AE_00003:\n",
      "  date: 2020-07-08_17-11-15\n",
      "  done: true\n",
      "  experiment_id: b3bcd96d54db4bae9f56d0872e2f1bce\n",
      "  experiment_tag: 3_lr=0.0001,nn_layers=8\n",
      "  hostname: natashas-MacBook-Pro.local\n",
      "  iterations_since_restore: 1\n",
      "  node_ip: 192.168.2.23\n",
      "  pid: 58940\n",
      "  test_f1: 0.3096855610980153\n",
      "  test_loss: 156471.5\n",
      "  time_since_restore: 16.63039803504944\n",
      "  time_this_iter_s: 16.63039803504944\n",
      "  time_total_s: 16.63039803504944\n",
      "  timestamp: 1594242675\n",
      "  timesteps_since_restore: 0\n",
      "  train_f1: 0.2784573130435649\n",
      "  train_loss: 156706.015625\n",
      "  training_iteration: 1\n",
      "  trial_id: '00003'\n",
      "  \n",
      "Result for train_AE_00007:\n",
      "  date: 2020-07-08_17-13-11\n",
      "  done: true\n",
      "  experiment_id: 597b2467ff4742529e0642d045e385e8\n",
      "  experiment_tag: 7_lr=0.0001,nn_layers=8\n",
      "  hostname: natashas-MacBook-Pro.local\n",
      "  iterations_since_restore: 1\n",
      "  node_ip: 192.168.2.23\n",
      "  pid: 58940\n",
      "  test_f1: 0.30540800438639404\n",
      "  test_loss: 156504.5\n",
      "  time_since_restore: 17.32003402709961\n",
      "  time_this_iter_s: 17.32003402709961\n",
      "  time_total_s: 17.32003402709961\n",
      "  timestamp: 1594242791\n",
      "  timesteps_since_restore: 0\n",
      "  train_f1: 0.27124737129793314\n",
      "  train_loss: 156734.328125\n",
      "  training_iteration: 1\n",
      "  trial_id: '00007'\n",
      "  \n",
      "Result for train_AE_00000:\n",
      "  date: 2020-07-08_17-13-20\n",
      "  done: false\n",
      "  experiment_id: 6bba8a3605ff4553a7a836765d68fcea\n",
      "  experiment_tag: 0_lr=0.1,nn_layers=6\n",
      "  hostname: natashas-MacBook-Pro.local\n",
      "  iterations_since_restore: 3\n",
      "  node_ip: 192.168.2.23\n",
      "  pid: 58940\n",
      "  test_f1: 0.6149506642876658\n",
      "  test_loss: 2931600.0\n",
      "  time_since_restore: 185.38828206062317\n",
      "  time_this_iter_s: 73.73864221572876\n",
      "  time_total_s: 185.38828206062317\n",
      "  timestamp: 1594242800\n",
      "  timesteps_since_restore: 0\n",
      "  train_f1: 0.5943826021824401\n",
      "  train_loss: 3044800.0\n",
      "  training_iteration: 3\n",
      "  trial_id: '00000'\n",
      "  \n"
     ]
    },
    {
     "name": "stderr",
     "output_type": "stream",
     "text": [
      "2020-07-08 17:13:27,028\tWARNING util.py:137 -- The `process_trial` operation took 6.445087909698486 seconds to complete, which may be a performance bottleneck.\n"
     ]
    },
    {
     "data": {
      "text/html": [
       "== Status ==<br>Memory usage on this node: 17.5/32.0 GiB<br>Using AsyncHyperBand: num_stopped=5\n",
       "Bracket: Iter 64.000: None | Iter 16.000: None | Iter 4.000: None | Iter 1.000: 0.5783197478563413<br>Resources requested: 6/12 CPUs, 0/0 GPUs, 0.0/9.33 GiB heap, 0.0/3.22 GiB objects<br>Result logdir: /Users/natasha/ray_results/exp_1<br>Number of trials: 8 (3 RUNNING, 5 TERMINATED)<br><table>\n",
       "<thead>\n",
       "<tr><th>Trial name    </th><th>status    </th><th>loc               </th><th style=\"text-align: right;\">    lr</th><th style=\"text-align: right;\">  nn_layers</th><th style=\"text-align: right;\">  iter</th><th style=\"text-align: right;\">  total time (s)</th></tr>\n",
       "</thead>\n",
       "<tbody>\n",
       "<tr><td>train_AE_00000</td><td>RUNNING   </td><td>192.168.2.23:58940</td><td style=\"text-align: right;\">0.1   </td><td style=\"text-align: right;\">          6</td><td style=\"text-align: right;\">     3</td><td style=\"text-align: right;\">        185.388 </td></tr>\n",
       "<tr><td>train_AE_00001</td><td>TERMINATED</td><td>                  </td><td style=\"text-align: right;\">0.0001</td><td style=\"text-align: right;\">          6</td><td style=\"text-align: right;\">     1</td><td style=\"text-align: right;\">         13.369 </td></tr>\n",
       "<tr><td>train_AE_00002</td><td>RUNNING   </td><td>192.168.2.23:58940</td><td style=\"text-align: right;\">0.1   </td><td style=\"text-align: right;\">          8</td><td style=\"text-align: right;\">     2</td><td style=\"text-align: right;\">         93.7169</td></tr>\n",
       "<tr><td>train_AE_00003</td><td>TERMINATED</td><td>                  </td><td style=\"text-align: right;\">0.0001</td><td style=\"text-align: right;\">          8</td><td style=\"text-align: right;\">     1</td><td style=\"text-align: right;\">         16.6304</td></tr>\n",
       "<tr><td>train_AE_00004</td><td>TERMINATED</td><td>                  </td><td style=\"text-align: right;\">0.1   </td><td style=\"text-align: right;\">          6</td><td style=\"text-align: right;\">     1</td><td style=\"text-align: right;\">         15.3775</td></tr>\n",
       "<tr><td>train_AE_00005</td><td>RUNNING   </td><td>192.168.2.23:58940</td><td style=\"text-align: right;\">0.0001</td><td style=\"text-align: right;\">          6</td><td style=\"text-align: right;\">     3</td><td style=\"text-align: right;\">         52.8655</td></tr>\n",
       "<tr><td>train_AE_00006</td><td>TERMINATED</td><td>                  </td><td style=\"text-align: right;\">0.1   </td><td style=\"text-align: right;\">          8</td><td style=\"text-align: right;\">     1</td><td style=\"text-align: right;\">         17.1402</td></tr>\n",
       "<tr><td>train_AE_00007</td><td>TERMINATED</td><td>                  </td><td style=\"text-align: right;\">0.0001</td><td style=\"text-align: right;\">          8</td><td style=\"text-align: right;\">     1</td><td style=\"text-align: right;\">         17.32  </td></tr>\n",
       "</tbody>\n",
       "</table><br><br>"
      ],
      "text/plain": [
       "<IPython.core.display.HTML object>"
      ]
     },
     "metadata": {},
     "output_type": "display_data"
    },
    {
     "name": "stdout",
     "output_type": "stream",
     "text": [
      "Result for train_AE_00002:\n",
      "  date: 2020-07-08_17-12-37\n",
      "  done: false\n",
      "  experiment_id: 82f2cef2bec94969b9de9f35b3ace649\n",
      "  experiment_tag: 2_lr=0.1,nn_layers=8\n",
      "  hostname: natashas-MacBook-Pro.local\n",
      "  iterations_since_restore: 3\n",
      "  node_ip: 192.168.2.23\n",
      "  pid: 58940\n",
      "  test_f1: 0.56563255570547\n",
      "  test_loss: 3399200.0\n",
      "  time_since_restore: 114.52008390426636\n",
      "  time_this_iter_s: 20.803212881088257\n",
      "  time_total_s: 114.52008390426636\n",
      "  timestamp: 1594242757\n",
      "  timesteps_since_restore: 0\n",
      "  train_f1: 0.5851657660862161\n",
      "  train_loss: 3134900.0\n",
      "  training_iteration: 3\n",
      "  trial_id: '00002'\n",
      "  \n"
     ]
    },
    {
     "name": "stderr",
     "output_type": "stream",
     "text": [
      "2020-07-08 17:13:34,001\tWARNING util.py:137 -- The `process_trial` operation took 6.9412171840667725 seconds to complete, which may be a performance bottleneck.\n"
     ]
    },
    {
     "data": {
      "text/html": [
       "== Status ==<br>Memory usage on this node: 17.1/32.0 GiB<br>Using AsyncHyperBand: num_stopped=5\n",
       "Bracket: Iter 64.000: None | Iter 16.000: None | Iter 4.000: None | Iter 1.000: 0.5783197478563413<br>Resources requested: 2/12 CPUs, 0/0 GPUs, 0.0/9.33 GiB heap, 0.0/3.22 GiB objects<br>Result logdir: /Users/natasha/ray_results/exp_1<br>Number of trials: 8 (1 RUNNING, 7 TERMINATED)<br><table>\n",
       "<thead>\n",
       "<tr><th>Trial name    </th><th>status    </th><th>loc               </th><th style=\"text-align: right;\">    lr</th><th style=\"text-align: right;\">  nn_layers</th><th style=\"text-align: right;\">  iter</th><th style=\"text-align: right;\">  total time (s)</th></tr>\n",
       "</thead>\n",
       "<tbody>\n",
       "<tr><td>train_AE_00000</td><td>TERMINATED</td><td>                  </td><td style=\"text-align: right;\">0.1   </td><td style=\"text-align: right;\">          6</td><td style=\"text-align: right;\">     3</td><td style=\"text-align: right;\">        185.388 </td></tr>\n",
       "<tr><td>train_AE_00001</td><td>TERMINATED</td><td>                  </td><td style=\"text-align: right;\">0.0001</td><td style=\"text-align: right;\">          6</td><td style=\"text-align: right;\">     1</td><td style=\"text-align: right;\">         13.369 </td></tr>\n",
       "<tr><td>train_AE_00002</td><td>RUNNING   </td><td>192.168.2.23:58940</td><td style=\"text-align: right;\">0.1   </td><td style=\"text-align: right;\">          8</td><td style=\"text-align: right;\">     3</td><td style=\"text-align: right;\">        114.52  </td></tr>\n",
       "<tr><td>train_AE_00003</td><td>TERMINATED</td><td>                  </td><td style=\"text-align: right;\">0.0001</td><td style=\"text-align: right;\">          8</td><td style=\"text-align: right;\">     1</td><td style=\"text-align: right;\">         16.6304</td></tr>\n",
       "<tr><td>train_AE_00004</td><td>TERMINATED</td><td>                  </td><td style=\"text-align: right;\">0.1   </td><td style=\"text-align: right;\">          6</td><td style=\"text-align: right;\">     1</td><td style=\"text-align: right;\">         15.3775</td></tr>\n",
       "<tr><td>train_AE_00005</td><td>TERMINATED</td><td>                  </td><td style=\"text-align: right;\">0.0001</td><td style=\"text-align: right;\">          6</td><td style=\"text-align: right;\">     3</td><td style=\"text-align: right;\">         52.8655</td></tr>\n",
       "<tr><td>train_AE_00006</td><td>TERMINATED</td><td>                  </td><td style=\"text-align: right;\">0.1   </td><td style=\"text-align: right;\">          8</td><td style=\"text-align: right;\">     1</td><td style=\"text-align: right;\">         17.1402</td></tr>\n",
       "<tr><td>train_AE_00007</td><td>TERMINATED</td><td>                  </td><td style=\"text-align: right;\">0.0001</td><td style=\"text-align: right;\">          8</td><td style=\"text-align: right;\">     1</td><td style=\"text-align: right;\">         17.32  </td></tr>\n",
       "</tbody>\n",
       "</table><br><br>"
      ],
      "text/plain": [
       "<IPython.core.display.HTML object>"
      ]
     },
     "metadata": {},
     "output_type": "display_data"
    },
    {
     "data": {
      "text/html": [
       "== Status ==<br>Memory usage on this node: 17.1/32.0 GiB<br>Using AsyncHyperBand: num_stopped=5\n",
       "Bracket: Iter 64.000: None | Iter 16.000: None | Iter 4.000: None | Iter 1.000: 0.5783197478563413<br>Resources requested: 0/12 CPUs, 0/0 GPUs, 0.0/9.33 GiB heap, 0.0/3.22 GiB objects<br>Result logdir: /Users/natasha/ray_results/exp_1<br>Number of trials: 8 (8 TERMINATED)<br><table>\n",
       "<thead>\n",
       "<tr><th>Trial name    </th><th>status    </th><th>loc  </th><th style=\"text-align: right;\">    lr</th><th style=\"text-align: right;\">  nn_layers</th><th style=\"text-align: right;\">  iter</th><th style=\"text-align: right;\">  total time (s)</th></tr>\n",
       "</thead>\n",
       "<tbody>\n",
       "<tr><td>train_AE_00000</td><td>TERMINATED</td><td>     </td><td style=\"text-align: right;\">0.1   </td><td style=\"text-align: right;\">          6</td><td style=\"text-align: right;\">     3</td><td style=\"text-align: right;\">        185.388 </td></tr>\n",
       "<tr><td>train_AE_00001</td><td>TERMINATED</td><td>     </td><td style=\"text-align: right;\">0.0001</td><td style=\"text-align: right;\">          6</td><td style=\"text-align: right;\">     1</td><td style=\"text-align: right;\">         13.369 </td></tr>\n",
       "<tr><td>train_AE_00002</td><td>TERMINATED</td><td>     </td><td style=\"text-align: right;\">0.1   </td><td style=\"text-align: right;\">          8</td><td style=\"text-align: right;\">     3</td><td style=\"text-align: right;\">        114.52  </td></tr>\n",
       "<tr><td>train_AE_00003</td><td>TERMINATED</td><td>     </td><td style=\"text-align: right;\">0.0001</td><td style=\"text-align: right;\">          8</td><td style=\"text-align: right;\">     1</td><td style=\"text-align: right;\">         16.6304</td></tr>\n",
       "<tr><td>train_AE_00004</td><td>TERMINATED</td><td>     </td><td style=\"text-align: right;\">0.1   </td><td style=\"text-align: right;\">          6</td><td style=\"text-align: right;\">     1</td><td style=\"text-align: right;\">         15.3775</td></tr>\n",
       "<tr><td>train_AE_00005</td><td>TERMINATED</td><td>     </td><td style=\"text-align: right;\">0.0001</td><td style=\"text-align: right;\">          6</td><td style=\"text-align: right;\">     3</td><td style=\"text-align: right;\">         52.8655</td></tr>\n",
       "<tr><td>train_AE_00006</td><td>TERMINATED</td><td>     </td><td style=\"text-align: right;\">0.1   </td><td style=\"text-align: right;\">          8</td><td style=\"text-align: right;\">     1</td><td style=\"text-align: right;\">         17.1402</td></tr>\n",
       "<tr><td>train_AE_00007</td><td>TERMINATED</td><td>     </td><td style=\"text-align: right;\">0.0001</td><td style=\"text-align: right;\">          8</td><td style=\"text-align: right;\">     1</td><td style=\"text-align: right;\">         17.32  </td></tr>\n",
       "</tbody>\n",
       "</table><br><br>"
      ],
      "text/plain": [
       "<IPython.core.display.HTML object>"
      ]
     },
     "metadata": {},
     "output_type": "display_data"
    },
    {
     "name": "stdout",
     "output_type": "stream",
     "text": [
      "Best config is: {'batch_size': 32, 'num_epochs': 3, 'replacement_threshold': 0.5, 'kfolds': 10, 'lr': 0.1, 'weight_decay': 0.01, 'nn_layers': 6}\n"
     ]
    }
   ],
   "source": [
    "analysis = tune.run(\n",
    "    trainable.train_AE, \n",
    "    name=\"exp_1\",\n",
    "    config=train_vars, \n",
    "    verbose=2, \n",
    "    resources_per_trial={\n",
    "            \"cpu\": 2,\n",
    "            \"gpu\": 0\n",
    "    },\n",
    "    num_samples=2,\n",
    "    scheduler=ASHAScheduler(metric=\"test_f1\", mode=\"max\", grace_period=1)\n",
    "    )\n",
    "\n",
    "print(\"Best config is:\", analysis.get_best_config(metric=\"test_f1\"))"
   ]
  },
  {
   "cell_type": "code",
   "execution_count": 33,
   "metadata": {
    "scrolled": true
   },
   "outputs": [
    {
     "name": "stdout",
     "output_type": "stream",
     "text": [
      "Best lr: 0.1\n",
      "Best nn_layers: 6\n"
     ]
    }
   ],
   "source": [
    "for i in train_vars:\n",
    "    if isinstance(train_vars[i], dict):\n",
    "        print(\"Best \"+i+\":\", analysis.get_best_config(metric=\"test_f1\")[i])"
   ]
  },
  {
   "cell_type": "code",
   "execution_count": null,
   "metadata": {},
   "outputs": [],
   "source": [
    "analysis.dataframe()[\"logdir\"][0]"
   ]
  },
  {
   "cell_type": "code",
   "execution_count": null,
   "metadata": {},
   "outputs": [],
   "source": [
    "# train the model\n",
    "# train_losses, test_losses, train_f1_scores, test_f1_scores = train_test.train_model(loaders, \n",
    "#         model, flags.num_epochs, flags.print_every,\n",
    "#         flags.SAVE_FP, flags.replacement_threshold, cluster_names, flags.cirriculum, train_data[:,:len(cluster_names)],\n",
    "#         search_space)\n",
    "#train_losses, test_losses, train_f1_scores, test_f1_scores = train_test.train_model(train_vars, hyperparams)"
   ]
  },
  {
   "cell_type": "markdown",
   "metadata": {},
   "source": [
    "### Evaluate model performance"
   ]
  },
  {
   "cell_type": "code",
   "execution_count": null,
   "metadata": {},
   "outputs": [],
   "source": [
    "# evaluate model performance\n",
    "perf_lc = data_viz.learning_curve(train_f1_scores, test_f1_scores, \"performance\", flags.cirriculum)"
   ]
  },
  {
   "cell_type": "code",
   "execution_count": null,
   "metadata": {},
   "outputs": [],
   "source": [
    "# evaluate model performance\n",
    "optim_lc = data_viz.learning_curve(train_losses, test_losses, \"optimization\", flags.cirriculum)"
   ]
  },
  {
   "cell_type": "code",
   "execution_count": null,
   "metadata": {},
   "outputs": [],
   "source": [
    "# first convert test_data from subset -> tensor, split corrupt vs target sets\n",
    "tensor_test_data = torch.tensor([i.numpy() for i in test_data]).float()\n",
    "corrupt_test_data = tensor_test_data[:,:len(cluster_names)]\n",
    "target = tensor_test_data[:,len(cluster_names):].detach().numpy()"
   ]
  },
  {
   "cell_type": "code",
   "execution_count": null,
   "metadata": {},
   "outputs": [],
   "source": [
    "# Generate probabilities for ROC curve\n",
    "model.eval()\n",
    "with torch.no_grad():\n",
    "    y_probas = model(corrupt_test_data) # predicted probabilities generated by model"
   ]
  },
  {
   "cell_type": "code",
   "execution_count": null,
   "metadata": {},
   "outputs": [],
   "source": [
    "roc = data_viz.my_roc_curve(target, y_probas.numpy())"
   ]
  },
  {
   "cell_type": "code",
   "execution_count": null,
   "metadata": {},
   "outputs": [],
   "source": [
    "util.log_results(roc, optim_lc, perf_lc, flags, model)"
   ]
  },
  {
   "cell_type": "code",
   "execution_count": null,
   "metadata": {},
   "outputs": [],
   "source": []
  },
  {
   "cell_type": "code",
   "execution_count": null,
   "metadata": {},
   "outputs": [],
   "source": []
  },
  {
   "cell_type": "code",
   "execution_count": null,
   "metadata": {},
   "outputs": [],
   "source": [
    "# create embeddings for test set\n",
    "#uncorrupt_test_data = tensor_test_data[:,len(cluster_names):]\n",
    "#tensor_test_data = torch.tensor([i.numpy() for i in test_data]).float()\n",
    "embeddings = train_test.generate_embeddings(model, corrupt_test_data)"
   ]
  },
  {
   "cell_type": "code",
   "execution_count": null,
   "metadata": {},
   "outputs": [],
   "source": [
    "#data_viz.plot_tSNE(embeddings, test_data, num_to_genome, genome_to_tax, test_tax_dict)"
   ]
  },
  {
   "cell_type": "code",
   "execution_count": null,
   "metadata": {},
   "outputs": [],
   "source": [
    "# tSNE for corrupted genomes passed through untrained model\n",
    "untrained_model = models.AutoEncoder(len(cluster_names))\n",
    "untr_embeddings = train_test.generate_embeddings(untrained_model, corrupt_test_data)"
   ]
  },
  {
   "cell_type": "code",
   "execution_count": null,
   "metadata": {},
   "outputs": [],
   "source": [
    "#data_viz.plot_tSNE(untr_embeddings, test_data, num_to_genome, genome_to_tax, test_tax_dict)\n",
    "# data_viz.plot_tSNE(untr_embeddings, test_data, num_to_genome, genome_to_tax, genome_idx_test)"
   ]
  },
  {
   "cell_type": "code",
   "execution_count": null,
   "metadata": {},
   "outputs": [],
   "source": [
    "# Evaluate model and compare against baselines\n",
    "# Get corrupted input set, target set, and predictions set (binarized to 1's and 0's)\n",
    "#corrupt_test_data = tensor_test_data[:,:len(cluster_names)]\n",
    "\n",
    "model.eval()\n",
    "with torch.no_grad():\n",
    "    pred = model.forward(corrupt_test_data).detach().numpy()\n",
    "b_pred = train_test.binarize(pred, flags.replacement_threshold)"
   ]
  },
  {
   "cell_type": "code",
   "execution_count": null,
   "metadata": {},
   "outputs": [],
   "source": [
    "# Generate confusion matrix\n",
    "cm = evaluate.dom_confusion_matrix(b_pred, target, num_to_genome, genome_to_tax, test_tax_dict, genome_idx_test)"
   ]
  },
  {
   "cell_type": "code",
   "execution_count": null,
   "metadata": {},
   "outputs": [],
   "source": [
    "util.log_results(roc, optim_lc, perf_lc, flags, model, cm)"
   ]
  },
  {
   "cell_type": "code",
   "execution_count": null,
   "metadata": {},
   "outputs": [],
   "source": [
    "# Baseline 1: untrained DAE\n",
    "# Generate predictions using an untrained DAE model\n",
    "model.eval()\n",
    "with torch.no_grad():\n",
    "    untr_pred = untrained_model.forward(corrupt_test_data).detach().numpy()\n",
    "untr_b_preds = train_test.binarize(untr_pred, flags.replacement_threshold)"
   ]
  },
  {
   "cell_type": "code",
   "execution_count": null,
   "metadata": {},
   "outputs": [],
   "source": [
    "# if os.path.isfile(flags.DATA_FP+\"rand_b_pred.pt\"):\n",
    "#     print(\"Loading random predictions from file\")\n",
    "#     rand_b_pred = torch.load(flags.DATA_FP+\"rand_b_pred.pt\")\n",
    "# else: \n",
    "#     # This is slow\n",
    "#     print(\"Generating random predictions, this will take a while (~30 min)\")\n",
    "#     rand_b_pred = evaluate.generate_baseline(num_features, train_data, \n",
    "#                                              corrupt_test_data, \"base_random\", cluster_names)\n",
    "#     torch.save(rand_b_pred, flags.DATA_FP+\"rand_b_pred.pt\")\n",
    "\n",
    "rand_b_pred = evaluate.generate_baseline(num_features, train_data, \n",
    "                                         corrupt_test_data, \"base_random\", cluster_names)"
   ]
  },
  {
   "cell_type": "code",
   "execution_count": null,
   "metadata": {},
   "outputs": [],
   "source": [
    "torch.save(rand_b_pred, flags.DATA_FP+\"rand_b_pred.pt\")"
   ]
  },
  {
   "cell_type": "code",
   "execution_count": null,
   "metadata": {},
   "outputs": [],
   "source": [
    "# if os.path.isfile(flags.DATA_FP+\"smart_b_pred.pt\"):\n",
    "#     print(\"Loading smart random predictions from file\")\n",
    "#     smart_b_pred = torch.load(flags.DATA_FP+\"smart_b_pred.pt\")\n",
    "# else:\n",
    "#     print(\"Generating smart random predictions, this will take a while (~30 min)\")\n",
    "#     smart_b_pred = evaluate.generate_baseline(num_features, train_data, \n",
    "#                                           corrupt_test_data, \"smart_random\", cluster_names)\n",
    "#     torch.save(smart_b_pred, flags.DATA_FP+\"smart_b_pred.pt\")\n",
    "\n",
    "smart_b_pred = evaluate.generate_baseline(num_features, train_data, \n",
    "                                      corrupt_test_data, \"smart_random\", cluster_names)"
   ]
  },
  {
   "cell_type": "code",
   "execution_count": null,
   "metadata": {},
   "outputs": [],
   "source": [
    "torch.save(smart_b_pred, flags.DATA_FP+\"smart_b_pred.pt\")"
   ]
  },
  {
   "cell_type": "code",
   "execution_count": null,
   "metadata": {},
   "outputs": [],
   "source": [
    "import numpy as np\n",
    "np.sum(smart_b_pred == rand_b_pred), np.sum(smart_b_pred != rand_b_pred)"
   ]
  },
  {
   "cell_type": "code",
   "execution_count": null,
   "metadata": {},
   "outputs": [],
   "source": [
    "import pandas as pd\n",
    "hs = evaluate.hamming(target, b_pred)\n",
    "hs_stats = [round(sum(hs)/len(hs),2), round(min(hs),2), round(max(hs),2)]\n",
    "\n",
    "untr_hs = evaluate.hamming(target, untr_b_preds)\n",
    "untr_hs_stats = [round(sum(untr_hs)/len(untr_hs),2), round(min(untr_hs),2), round(max(untr_hs),2)]\n",
    "\n",
    "rand_hs = evaluate.hamming(target, rand_b_pred)\n",
    "rand_hs_stats = [round(sum(rand_hs)/len(rand_hs),2), round(min(rand_hs),2), round(max(rand_hs),2)]\n",
    "\n",
    "smart_hs = evaluate.hamming(target, smart_b_pred)\n",
    "smart_hs_stats = [round(sum(smart_hs)/len(smart_hs),2), round(min(smart_hs),2), round(max(smart_hs),2)]\n",
    "\n",
    "\n",
    "hamming_df = pd.DataFrame([hs_stats, untr_hs_stats, rand_hs_stats, smart_hs_stats], columns=['mean', 'min', 'max'], \n",
    "                            index=[\"DAE trained\", \"DAE untrained\", \"Random chance\", \"Smart random chance\"])\n",
    "hamming_df"
   ]
  },
  {
   "cell_type": "code",
   "execution_count": null,
   "metadata": {},
   "outputs": [],
   "source": [
    "hs[:15]"
   ]
  },
  {
   "cell_type": "code",
   "execution_count": null,
   "metadata": {},
   "outputs": [],
   "source": [
    "evaluate.hamming([1,1,1,1], [1,1,0,0])"
   ]
  },
  {
   "cell_type": "code",
   "execution_count": null,
   "metadata": {},
   "outputs": [],
   "source": [
    "from sklearn.metrics import hamming_loss"
   ]
  },
  {
   "cell_type": "code",
   "execution_count": null,
   "metadata": {},
   "outputs": [],
   "source": [
    "hamming_loss([1,1,1,1,0,0,0], [1,1,0,0,0,0,0])"
   ]
  },
  {
   "cell_type": "code",
   "execution_count": null,
   "metadata": {},
   "outputs": [],
   "source": []
  }
 ],
 "metadata": {
  "kernelspec": {
   "display_name": "Python 3",
   "language": "python",
   "name": "python3"
  },
  "language_info": {
   "codemirror_mode": {
    "name": "ipython",
    "version": 3
   },
   "file_extension": ".py",
   "mimetype": "text/x-python",
   "name": "python",
   "nbconvert_exporter": "python",
   "pygments_lexer": "ipython3",
   "version": "3.7.6"
  }
 },
 "nbformat": 4,
 "nbformat_minor": 4
}
