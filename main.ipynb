{
 "cells": [
  {
   "cell_type": "code",
   "execution_count": 1,
   "metadata": {},
   "outputs": [],
   "source": [
    "# automatically upload modules\n",
    "%load_ext autoreload\n",
    "%autoreload 2"
   ]
  },
  {
   "cell_type": "code",
   "execution_count": 2,
   "metadata": {},
   "outputs": [],
   "source": [
    "from argparse import Namespace\n",
    "from collections import defaultdict\n",
    "import re\n",
    "\n",
    "import matplotlib.pyplot as plt\n",
    "import numpy as np\n",
    "import pickle\n",
    "from ray import tune\n",
    "import torch\n",
    "\n",
    "from genome_embeddings import trainable # import before ray (?)\n",
    "from genome_embeddings import pre_process\n",
    "from genome_embeddings import corrupt\n",
    "import ray"
   ]
  },
  {
   "cell_type": "code",
   "execution_count": 3,
   "metadata": {},
   "outputs": [],
   "source": [
    "#from importlib import reload\n",
    "import sys"
   ]
  },
  {
   "cell_type": "code",
   "execution_count": 4,
   "metadata": {},
   "outputs": [],
   "source": [
    "#mode = \"Desktop\" \n",
    "mode = \"CC\"\n",
    "\n",
    "# must change local_dir=\"/Users/natasha/Desktop/TUNE_RESULT_DIR\"\n",
    "# local_dir=\"/home/ndudek/projects/def-dprecup/ndudek/hp_tuning_22-09-2020//TUNE_RESULT_DIR\""
   ]
  },
  {
   "cell_type": "code",
   "execution_count": 5,
   "metadata": {},
   "outputs": [],
   "source": [
    "if mode == \"Desktop\":\n",
    "    settings = Namespace(\n",
    "        DATA_FP = '/Users/natasha/Desktop/mcgill_postdoc/ncbi_genomes/genome_embeddings/data/', \n",
    "        SAVE_FP = '/Users/natasha/Desktop/',\n",
    "        num_epochs = 2,\n",
    "        num_cpus=5, \n",
    "        replacement_threshold = 0.5, # probability over which binarizer converts to a 1\n",
    "        num_corruptions = 100, # number of corrupted versions of a genome to produce\n",
    "    )\n",
    "elif mode == \"CC\":\n",
    "    settings = Namespace(\n",
    "        DATA_FP = '/home/ndudek/projects/def-dprecup/ndudek/hp_tuning_01-10-2020/',\n",
    "        SAVE_FP = '/home/ndudek/projects/def-dprecup/ndudek/hp_tuning_01-10-2020/',\n",
    "        num_epochs = 2,\n",
    "        num_cpus=5, \n",
    "        replacement_threshold = 0.5, # probability over which binarizer converts to a 1\n",
    "        num_corruptions = 100, # number of corrupted versions of a genome to produce\n",
    "    )\n",
    "    "
   ]
  },
  {
   "cell_type": "markdown",
   "metadata": {},
   "source": [
    "# Load data needed to make corrupted train + test datasets"
   ]
  },
  {
   "cell_type": "code",
   "execution_count": 6,
   "metadata": {},
   "outputs": [
    {
     "name": "stdout",
     "output_type": "stream",
     "text": [
      "Total number of bacterial genomes in dataset: 2718\n",
      "Total number of KOs in dataset: 9874\n"
     ]
    }
   ],
   "source": [
    "create_new = False\n",
    "from_scratch = False # controls where in creation process to jump in\n",
    "\n",
    "# Create list of which genomes from KEGG to include in dataset\n",
    "tla_to_tnum, keepers = pre_process.genomes2include()\n",
    "org_to_kos, n_kos_tot, all_kos = pre_process.load_kos(tla_to_tnum)\n",
    "org_to_mod_to_kos, mod_sets = pre_process.load_mods()\n",
    "\n",
    "if create_new:\n",
    "    if from_scratch:\n",
    "        # Load list mods and KOs per genome\n",
    "        data, genome_order = pre_process.make_tensor(org_to_mod_to_kos, org_to_kos, n_kos_tot, tla_to_tnum, all_kos)\n",
    "        torch.save(data, \"/Users/natasha/Desktop/kegg_v2.pt\")\n",
    "        torch.save(genome_order, \"/Users/natasha/Desktop/genome_order.pt\")\n",
    "    else:\n",
    "        # load data -- tensor (genomes + which KOs are encoded) + genome_order in tensor (tla)\n",
    "        data = torch.load(\"/Users/natasha/Desktop/kegg_v2.pt\")\n",
    "        genome_order = torch.load(\"/Users/natasha/Desktop/genome_order.pt\")\n",
    "    \n",
    "    # Create test-train split\n",
    "    train_genomes, test_genomes = pre_process.train_test_split(keepers) # list of IDs to keep\n",
    "    train_data = pre_process.prep_data(train_genomes, all_kos, org_to_kos, \"train\")\n",
    "    test_data = pre_process.prep_data(test_genomes, all_kos, org_to_kos, \"test\")\n",
    "    \n",
    "    torch.save(org_to_mod_to_kos, \"/Users/natasha/Desktop/all_kos_2020-09-29.pt\")\n",
    "    torch.save(org_to_mod_to_kos, \"/Users/natasha/Desktop/org_to_mod_to_kos_2020-09-29.pt\")\n",
    "    torch.save(train_data, \"/Users/natasha/Desktop/kegg_v2_train_2020-09-29.pt\")\n",
    "    torch.save(test_data, \"/Users/natasha/Desktop/kegg_v2_test_2020-09-29.pt\")\n",
    "    torch.save(train_genomes, \"/Users/natasha/Desktop/kegg_v2_train_genomes_2020-09-29.pt\")\n",
    "else:\n",
    "    all_kos = torch.load(\"/Users/natasha/Desktop/all_kos_2020-09-29.pt\")\n",
    "    org_to_mod_to_kos = torch.load(\"/Users/natasha/Desktop/org_to_mod_to_kos_2020-09-29.pt\")\n",
    "    train_data = torch.load(\"/Users/natasha/Desktop/kegg_v2_train_2020-09-29.pt\")\n",
    "    test_data = torch.load(\"/Users/natasha/Desktop/kegg_v2_test_2020-09-29.pt\")\n",
    "    train_genomes = torch.load(\"/Users/natasha/Desktop/kegg_v2_train_genomes_2020-09-29.pt\")\n",
    "    test_genomes = torch.load(\"/Users/natasha/Desktop/kegg_v2_test_genomes_2020-09-29.pt\")\n",
    "\n",
    "mod_to_ko_clean = pre_process.clean_kos(mod_sets)"
   ]
  },
  {
   "cell_type": "code",
   "execution_count": 7,
   "metadata": {},
   "outputs": [
    {
     "data": {
      "text/plain": [
       "((2430, 9874), (288, 9874))"
      ]
     },
     "execution_count": 7,
     "metadata": {},
     "output_type": "execute_result"
    }
   ],
   "source": [
    "train_data.shape, test_data.shape"
   ]
  },
  {
   "cell_type": "markdown",
   "metadata": {},
   "source": [
    "# Data exploration"
   ]
  },
  {
   "cell_type": "code",
   "execution_count": null,
   "metadata": {},
   "outputs": [],
   "source": [
    "# mod = 'M00001'\n",
    "# a = list(mod_sets[mod].values())\n",
    "# a.sort(reverse=True)\n",
    "# x_labels = [i for i in range(len(mod_sets[mod].values()))]\n",
    "# plt.bar(x_labels, a)\n",
    "# plt.yscale('log')\n",
    "# plt.title(\"Variants of module \"+mod)\n",
    "# plt.xlabel(\"Variant (n=\"+str(len(mod_sets[mod].values()))+\" )\")\n",
    "# plt.ylabel(\"Count across all genomes (n=\"+str(len(org_to_mod_to_kos))+\")\")\n",
    "# print(max(mod_sets[mod].values()), len(a))"
   ]
  },
  {
   "cell_type": "code",
   "execution_count": 8,
   "metadata": {},
   "outputs": [
    {
     "data": {
      "image/png": "[encoded data removed]",
      "text/plain": [
       "<Figure size 432x288 with 1 Axes>"
      ]
     },
     "metadata": {
      "needs_background": "light"
     },
     "output_type": "display_data"
    }
   ],
   "source": [
    "# Plot the number of KOs encoded by each genome\n",
    "plt.hist([len(org_to_kos[i]) for i in org_to_kos], 50)\n",
    "plt.xlabel(\"Number of KOs per genome\")\n",
    "plt.ylabel(\"Frequency\")\n",
    "plt.savefig(\"/Users/natasha/Desktop/fig.png\")"
   ]
  },
  {
   "cell_type": "code",
   "execution_count": null,
   "metadata": {
    "scrolled": false
   },
   "outputs": [],
   "source": [
    "# # Plot the number of modules encoded by each genome\n",
    "# n_genomes = len(org_to_mod_to_kos)\n",
    "# temp = [list(org_to_mod_to_kos[i].keys()) for i in org_to_mod_to_kos]\n",
    "# n_mods = len(list(set([item for sublist in temp for item in sublist])))\n",
    "# plt.hist([len(org_to_mod_to_kos[i]) for i in org_to_mod_to_kos], 50)\n",
    "# plt.xlabel(\"Number of modules per genome\")\n",
    "# plt.ylabel(\"Frequency\")\n",
    "# plt.title(\"Distribution of the # of modules (n=\"+str(n_mods)+\") per genome (n=\"+str(n_genomes)+\")\")"
   ]
  },
  {
   "cell_type": "code",
   "execution_count": null,
   "metadata": {},
   "outputs": [],
   "source": [
    "# a = [len(org_to_mod_to_kos[org]) for org in org_to_mod_to_kos]\n",
    "# a.sort()\n",
    "# print(\"There are \"+str(a.count(0))+\" genomes with zero modules\")\n",
    "\n",
    "# # Red\n",
    "# # Rue\n",
    "# # pvac\n",
    "# # cgw"
   ]
  },
  {
   "cell_type": "code",
   "execution_count": null,
   "metadata": {},
   "outputs": [],
   "source": [
    "# NOTE THAT SOME GENOMES DO NOT HAVE A SINGLE MOD AND AREN'T EVEN IN THE DICT (n= 2717-2713 = 5)\n",
    "# E.G.: clap "
   ]
  },
  {
   "cell_type": "code",
   "execution_count": null,
   "metadata": {
    "scrolled": true
   },
   "outputs": [],
   "source": [
    "# # Count and plot the number of genomes that encode each module\n",
    "# mods_count = defaultdict(int)\n",
    "# for org in org_to_mod_to_kos:\n",
    "#     for mod in org_to_mod_to_kos[org]:\n",
    "#         mods_count[mod] += 1\n",
    "        \n",
    "# plt.hist(mods_count.values(), 50)\n",
    "# plt.xlabel(\"Number of genomes encoding each module\")\n",
    "# plt.ylabel(\"Frequency\")\n",
    "# plt.title(\"Distribution of the # of genomes (n=\"+str(n_genomes)+\") encoding each module (n=\"+str(n_mods)+\")\")\n",
    "# plt.yscale('log')\n",
    "# print(\"Number of mods encoded in only one genome:\",list(mods_count.values()).count(1))"
   ]
  },
  {
   "cell_type": "code",
   "execution_count": null,
   "metadata": {},
   "outputs": [],
   "source": [
    "# DO NOT LET INPUT BE SUPER RARE MODS\n",
    "# NN SHOULD JUST MEMORIZE THAT GENOME"
   ]
  },
  {
   "cell_type": "code",
   "execution_count": null,
   "metadata": {},
   "outputs": [],
   "source": [
    "# # Plot the percentage of genes per genome that contribute to modules\n",
    "# perc_mod = []\n",
    "# for org in org_to_mod_to_kos:\n",
    "#     try:\n",
    "#         tla = tla_to_tnum[org]\n",
    "#         n_kos = len(org_to_kos[tla])\n",
    "#         n_mod_kos = len([org_to_mod_to_kos[org][mod] for mod in org_to_mod_to_kos[org]])\n",
    "#         perc_mod.append(n_mod_kos/n_kos*100)\n",
    "#     except: KeyError\n",
    "\n",
    "# plt.hist(perc_mod, 50)\n",
    "# plt.xlabel(\"Percent of KOs contributing to modules\")\n",
    "# plt.ylabel(\"Frequency\")\n",
    "# plt.title(\"Distribution of the % of KOs (n_all=\"+str(n_kos_tot)+\") represented by modules (n=\"+str(n_mods)+\") per genome (n=\"+str(n_genomes)+\")\")\n"
   ]
  },
  {
   "cell_type": "code",
   "execution_count": null,
   "metadata": {},
   "outputs": [],
   "source": [
    "# # Percentage of KOs that are / are not part of a module\n",
    "\n",
    "# kos_in_mods = []\n",
    "\n",
    "# for org in org_to_mod_to_kos:\n",
    "#     for mod in org_to_mod_to_kos[org]:\n",
    "#         kos_in_mods.extend(org_to_mod_to_kos[org][mod])\n",
    "\n",
    "# kos_in_mods = list(set(kos_in_mods))\n",
    "\n",
    "# print(len(kos_in_mods), len(all_kos), len(kos_in_mods)/len(all_kos)*100)"
   ]
  },
  {
   "cell_type": "code",
   "execution_count": null,
   "metadata": {},
   "outputs": [],
   "source": [
    "# # Number of KOs that are part of 1 module, 2 modules, 3 modules, etc\n",
    "# #all_kos # unique list of all KOs\n",
    "# ko_counter = defaultdict(list)\n",
    "\n",
    "# for ko in all_kos:\n",
    "#     for org in org_to_mod_to_kos:\n",
    "#         for mod in org_to_mod_to_kos[org]:\n",
    "#             if ko in org_to_mod_to_kos[org][mod]:\n",
    "#                 if mod not in ko_counter[ko]:\n",
    "#                     ko_counter[ko].append(mod)"
   ]
  },
  {
   "cell_type": "code",
   "execution_count": null,
   "metadata": {},
   "outputs": [],
   "source": [
    "# ko_counter2 = {}\n",
    "# for ko in ko_counter:\n",
    "#     ko_counter2[ko] = len(ko_counter[ko])\n",
    "\n",
    "# for ko in all_kos:\n",
    "#     if ko not in ko_counter2:\n",
    "#         ko_counter2[ko] = 0"
   ]
  },
  {
   "cell_type": "code",
   "execution_count": null,
   "metadata": {},
   "outputs": [],
   "source": [
    "# a = defaultdict(int)\n",
    "# for i in ko_counter2.values():\n",
    "#     a[i] += 1\n",
    "# a, sum(a.values())"
   ]
  },
  {
   "cell_type": "code",
   "execution_count": null,
   "metadata": {},
   "outputs": [],
   "source": [
    "# plt.hist(ko_counter2.values())\n",
    "# plt.yscale('log')\n",
    "# plt.title(\"Number of modules each KO contributes to\")\n",
    "# plt.xlabel(\"Number of modules\")\n",
    "# plt.ylabel(\"Frequency (# of KOs)\")"
   ]
  },
  {
   "cell_type": "markdown",
   "metadata": {},
   "source": [
    "# New corruption process"
   ]
  },
  {
   "cell_type": "code",
   "execution_count": 11,
   "metadata": {},
   "outputs": [],
   "source": [
    "# Remove any genomes with fewer than 500 KOs \n",
    "# Esp. important to remove genomes with 0 KOs (n=35)\n",
    "\n",
    "good_idx_train = train_data.sum(axis=1) > 500\n",
    "good_idx_test = test_data.sum(axis=1) > 500\n",
    "train_data = train_data[good_idx_train,:]\n",
    "test_data = test_data[good_idx_test,:]\n",
    "\n",
    "# to numpy for indexing, then back to list for using\n",
    "train_genomes = list(np.array(train_genomes)[good_idx_train])\n",
    "test_genomes = list(np.array(test_genomes)[good_idx_train])"
   ]
  },
  {
   "cell_type": "code",
   "execution_count": 15,
   "metadata": {},
   "outputs": [],
   "source": [
    "# Remove columns of all zeros in training set from train + test\n",
    "good_idx_train = train_data.sum(axis=0) > 0\n",
    "train_data = train_data[:,good_idx_train]\n",
    "test_data = test_data[:,good_idx_train]"
   ]
  },
  {
   "cell_type": "code",
   "execution_count": 18,
   "metadata": {},
   "outputs": [
    {
     "data": {
      "text/plain": [
       "(0, 0)"
      ]
     },
     "execution_count": 18,
     "metadata": {},
     "output_type": "execute_result"
    }
   ],
   "source": [
    "(train_data.sum(axis=1) == 0).sum(), (train_data.sum(axis=0) == 0).sum()"
   ]
  },
  {
   "cell_type": "code",
   "execution_count": 21,
   "metadata": {},
   "outputs": [
    {
     "data": {
      "text/plain": [
       "(0, 1595)"
      ]
     },
     "execution_count": 21,
     "metadata": {},
     "output_type": "execute_result"
    }
   ],
   "source": [
    "(test_data.sum(axis=1) == 0).sum(), (test_data.sum(axis=0) == 0).sum()"
   ]
  },
  {
   "cell_type": "code",
   "execution_count": 22,
   "metadata": {},
   "outputs": [],
   "source": [
    "# original version of corrupt used with DAE (pre-DVAE)\n",
    "\n",
    "new_corrupt = False\n",
    "\n",
    "if new_corrupt:\n",
    "    corrupted_train, train_genome_idx = corrupt.corrupt_orig(train_data, settings.num_corruptions, 0.5)\n",
    "    corrupted_test, test_genome_idx = corrupt.corrupt_orig(test_data, settings.num_corruptions, 0.5)\n",
    "    torch.save(corrupted_train, \"/Users/natasha/Desktop/corruptedv0_train_2020-10-02.pt\")\n",
    "    torch.save(corrupted_test, \"/Users/natasha/Desktop/corruptedv0_test_2020-10-02.pt\")\n",
    "    torch.save(train_genome_idx, \"/Users/natasha/Desktop/corruptedv0_train_genome_idx_2020-10-02.pt\")\n",
    "    torch.save(test_genome_idx, \"/Users/natasha/Desktop/corruptedv0_test_genome_idx_2020-10-02.pt\")\n",
    "else:\n",
    "    corrupted_train = torch.load(\"/Users/natasha/Desktop/corruptedv0_train_2020-10-02.pt\")\n",
    "    corrupted_test = torch.load(\"/Users/natasha/Desktop/corruptedv0_test_2020-10-02.pt\")\n",
    "    train_genome_idx = torch.load(\"/Users/natasha/Desktop/corruptedv0_train_genome_idx_2020-10-02.pt\")\n",
    "    test_genome_idx = torch.load(\"/Users/natasha/Desktop/corruptedv0_test_genome_idx_2020-10-02.pt\")"
   ]
  },
  {
   "cell_type": "code",
   "execution_count": null,
   "metadata": {},
   "outputs": [],
   "source": [
    "# # corrupt version 1 -- extreme corruption\n",
    "# new_corrupt = True\n",
    "\n",
    "# if new_corrupt:\n",
    "#     tnum_to_tla = {v:k for k,v in tla_to_tnum.items()}\n",
    "#     corrupted_train, c_train_genomes = corrupt.corrupt(train_data, train_genomes, settings.num_corruptions, tnum_to_tla, \"v1\")\n",
    "#     corrupted_test, c_test_genomes = corrupt.corrupt(test_data, test_genomes, settings.num_corruptions, tnum_to_tla, \"v1\")\n",
    "#     torch.save(corrupted_train, \"/Users/natasha/Desktop/corrupted_train_2020-09-04.pt\")\n",
    "#     torch.save(c_train_genomes, \"/Users/natasha/Desktop/c_train_genomes_2020-09-04.pt\")\n",
    "#     torch.save(corrupted_test, \"/Users/natasha/Desktop/corrupted_test_2020-09-04.pt.pt\")\n",
    "#     torch.save(c_test_genomes, \"/Users/natasha/Desktop/c_test_genomes_2020-09-04.pt\")\n",
    "# else:\n",
    "#     corrupted_train = torch.load(\"/Users/natasha/Desktop/corrupted_train_2020-09-04.pt\")\n",
    "#     c_train_genomes = torch.load(\"/Users/natasha/Desktop/c_train_genomes_2020-09-04.pt\")\n",
    "#     corrupted_test = torch.load(\"/Users/natasha/Desktop/corrupted_test_2020-09-04.pt\")\n",
    "#     c_test_genomes = torch.load(\"/Users/natasha/Desktop/c_test_genomes_2020-09-04.pt\")\n",
    "    "
   ]
  },
  {
   "cell_type": "code",
   "execution_count": null,
   "metadata": {},
   "outputs": [],
   "source": [
    "# # Corrupt version 2\n",
    "# # For each genome, remove only one KO \n",
    "# new_corrupt = False\n",
    "\n",
    "# if new_corrupt:\n",
    "#     tnum_to_tla = {v:k for k,v in tla_to_tnum.items()}\n",
    "#     corrupted_train, c_train_genomes = corrupt.corrupt(train_data, train_genomes, settings.num_corruptions, tnum_to_tla, org_to_mod_to_kos, all_kos, mod_to_ko_clean, \"v2\")\n",
    "#     corrupted_test, c_test_genomes = corrupt.corrupt(test_data, test_genomes, settings.num_corruptions, tnum_to_tla, org_to_mod_to_kos, all_kos, mod_to_ko_clean,\"v2\")\n",
    "#     torch.save(corrupted_train, \"/Users/natasha/Desktop/corruptedv2_train_2020-09-30.pt\")\n",
    "#     torch.save(corrupted_train, \"/Users/natasha/Desktop/c_train_genomesv2_train_2020-09-30.pt\")\n",
    "#     torch.save(corrupted_test, \"/Users/natasha/Desktop/corruptedv2_test_2020-09-30.pt\")\n",
    "#     torch.save(corrupted_train, \"/Users/natasha/Desktop/c_test_genomesv2_train_2020-09-30.pt\")\n",
    "# else:\n",
    "#     corrupted_train = torch.load(\"/Users/natasha/Desktop/corruptedv2_train_2020-09-30.pt\")\n",
    "#     c_train_genomes = torch.load(\"/Users/natasha/Desktop/c_train_genomesv2_train_2020-09-30.pt\")\n",
    "#     corrupted_test = torch.load(\"/Users/natasha/Desktop/corruptedv2_test_2020-09-30.pt\")\n",
    "#     c_test_genomes = torch.load(\"/Users/natasha/Desktop/c_test_genomesv2_train_2020-09-30.pt\")\n",
    "   "
   ]
  },
  {
   "cell_type": "code",
   "execution_count": null,
   "metadata": {},
   "outputs": [],
   "source": [
    "# # corrupt version 3\n",
    "# new_corrupt = True\n",
    "\n",
    "# if new_corrupt:\n",
    "#     tnum_to_tla = {v:k for k,v in tla_to_tnum.items()}\n",
    "#     corrupted_train, c_train_genomes = corrupt.corrupt(train_data, train_genomes, settings.num_corruptions, tnum_to_tla, org_to_mod_to_kos, all_kos, mod_to_ko_clean, \"v3\")\n",
    "#     corrupted_test, c_test_genomes = corrupt.corrupt(test_data, test_genomes, settings.num_corruptions, tnum_to_tla, org_to_mod_to_kos, all_kos, mod_to_ko_clean,\"v3\")\n",
    "#     torch.save(corrupted_train, \"/Users/natasha/Desktop/corruptedv3_train_2020-10-01.pt\")\n",
    "#     torch.save(corrupted_train, \"/Users/natasha/Desktop/c_train_genomesv3_train_2020-10-01.pt\")\n",
    "#     torch.save(corrupted_test, \"/Users/natasha/Desktop/corruptedv3_test_2020-10-01.pt\")\n",
    "#     torch.save(corrupted_train, \"/Users/natasha/Desktop/c_test_genomesv3_train_2020-10-01.pt\")\n",
    "# else:\n",
    "#     corrupted_train = torch.load(\"/Users/natasha/Desktop/corruptedv3_train_2020-10-01.pt\")\n",
    "#     c_train_genomes = torch.load(\"/Users/natasha/Desktop/c_train_genomesv3_train_2020-10-01.pt\")\n",
    "#     corrupted_test = torch.load(\"/Users/natasha/Desktop/corruptedv3_test_2020-10-01.pt\")\n",
    "#     c_test_genomes = torch.load(\"/Users/natasha/Desktop/c_test_genomesv3_train_2020-10-01.pt\")\n",
    "   "
   ]
  },
  {
   "cell_type": "markdown",
   "metadata": {},
   "source": [
    "# Make sure there are no all-zero rows\n",
    "### Note that this will mess up dictionaries mapping rows back to genome IDs"
   ]
  },
  {
   "cell_type": "code",
   "execution_count": 23,
   "metadata": {},
   "outputs": [
    {
     "data": {
      "text/plain": [
       "(torch.Size([233200, 19582]), torch.Size([28200, 19582]))"
      ]
     },
     "execution_count": 23,
     "metadata": {},
     "output_type": "execute_result"
    }
   ],
   "source": [
    "corrupted_train.shape, corrupted_test.shape"
   ]
  },
  {
   "cell_type": "markdown",
   "metadata": {},
   "source": [
    "# Define and train network"
   ]
  },
  {
   "cell_type": "code",
   "execution_count": null,
   "metadata": {},
   "outputs": [],
   "source": [
    "memory = 2000 * 1024 * 1024\n",
    "object_store_memory = 200 * 1024 * 1024\n",
    "driver_object_store_memory=100 * 1024 * 1024\n",
    "ray.shutdown()\n",
    "ray.init(local_mode=True, memory=memory, \n",
    "        object_store_memory=object_store_memory,\n",
    "        driver_object_store_memory=driver_object_store_memory,\n",
    "        num_cpus=10)"
   ]
  },
  {
   "cell_type": "code",
   "execution_count": null,
   "metadata": {},
   "outputs": [],
   "source": [
    "config = {\"num_epochs\": 10,\n",
    "         \"kfolds\": 10,\n",
    "         \"replacement_threshold\": settings.replacement_threshold,\n",
    "         \"nn_layers\": tune.choice([1, 2, 3, 4]),\n",
    "         \"batch_size\": tune.choice([32, 64, 128, 256]),\n",
    "          \"lr\": tune.loguniform(1e-4, 1e-1), \n",
    "          \"weight_decay\": tune.loguniform(1e-5, 1e-2) \n",
    "         }"
   ]
  },
  {
   "cell_type": "code",
   "execution_count": null,
   "metadata": {},
   "outputs": [],
   "source": [
    "analysis = tune.run(\n",
    "    trainable.train_AE, \n",
    "    name=\"sept_22_vae\",\n",
    "    config=config,\n",
    "    verbose=2, \n",
    "    resources_per_trial={\n",
    "            \"cpu\": 10,\n",
    "            \"gpu\": 0\n",
    "    },\n",
    "    num_samples=20,  \n",
    "    queue_trials=True,\n",
    "    #local_dir=\"/Users/natasha/Desktop/TUNE_RESULT_DIR\",\n",
    "    local_dir=\"/home/ndudek/projects/def-dprecup/ndudek/hp_tuning_01-10-2020/TUNE_RESULT_DIR\"\n",
    "    )"
   ]
  },
  {
   "cell_type": "code",
   "execution_count": null,
   "metadata": {},
   "outputs": [],
   "source": [
    "print(\"Best config is:\", analysis.get_best_config(metric=\"test_f1\"))"
   ]
  },
  {
   "cell_type": "code",
   "execution_count": null,
   "metadata": {},
   "outputs": [],
   "source": [
    "analysis.get_best_config(metric=\"test_f1\")"
   ]
  },
  {
   "cell_type": "markdown",
   "metadata": {},
   "source": [
    "# Evaluate model performance"
   ]
  },
  {
   "cell_type": "code",
   "execution_count": null,
   "metadata": {},
   "outputs": [],
   "source": [
    "trainable.train_single_dae(3, 0.01, 0.001, 128, 10, 10, 0.5)"
   ]
  },
  {
   "cell_type": "code",
   "execution_count": 27,
   "metadata": {},
   "outputs": [
    {
     "name": "stderr",
     "output_type": "stream",
     "text": [
      "[autoreload of genome_embeddings.trainable failed: Traceback (most recent call last):\n",
      "  File \"/usr/local/lib/python3.7/site-packages/IPython/extensions/autoreload.py\", line 245, in check\n",
      "    superreload(m, reload, self.old_objects)\n",
      "  File \"/usr/local/lib/python3.7/site-packages/IPython/extensions/autoreload.py\", line 410, in superreload\n",
      "    update_generic(old_obj, new_obj)\n",
      "  File \"/usr/local/lib/python3.7/site-packages/IPython/extensions/autoreload.py\", line 347, in update_generic\n",
      "    update(a, b)\n",
      "  File \"/usr/local/lib/python3.7/site-packages/IPython/extensions/autoreload.py\", line 292, in update_class\n",
      "    if (old_obj == new_obj) is True:\n",
      "  File \"/usr/local/lib/python3.7/site-packages/torch/tensor.py\", line 28, in wrapped\n",
      "    return f(*args, **kwargs)\n",
      "RuntimeError: The size of tensor a (19748) must match the size of tensor b (19582) at non-singleton dimension 1\n",
      "]\n"
     ]
    },
    {
     "name": "stdout",
     "output_type": "stream",
     "text": [
      "11:32\n",
      "num_features2 9791\n",
      "epoch 0 batch 0\n",
      "train_loss 887310.9375 train_f1 0.22550997620802118 test_loss 5965897.5 test_f1 0.36686454691408454\n",
      "epoch 0 batch 100\n",
      "train_loss 187179.8125 train_f1 0.7777988703988464 test_loss 1442406.875 test_f1 0.780422208566882\n",
      "epoch 0 batch 200\n",
      "train_loss 157275.578125 train_f1 0.8201746661090893 test_loss 1261118.875 test_f1 0.814280119931615\n",
      "epoch 0 batch 300\n",
      "train_loss 149088.28125 train_f1 0.8241856247644594 test_loss 363642.625 test_f1 0.8380199066317788\n",
      "epoch 0 batch 400\n",
      "train_loss 144524.8125 train_f1 0.8410483279168254 test_loss 1076725.375 test_f1 0.8498762076846295\n",
      "epoch 0 batch 500\n",
      "train_loss 131867.875 train_f1 0.8586289453964104 test_loss 1002286.0 test_f1 0.8601139605976619\n",
      "epoch 0 batch 600\n",
      "train_loss 125293.265625 train_f1 0.8714959995815142 test_loss 967742.625 test_f1 0.8672274562213732\n",
      "epoch 0 batch 700\n",
      "train_loss 113229.5625 train_f1 0.8782403202612845 test_loss 897890.375 test_f1 0.8770523107523018\n",
      "epoch 0 batch 800\n",
      "train_loss 113916.453125 train_f1 0.8767708322987469 test_loss 883262.25 test_f1 0.8807218855625472\n",
      "epoch 0 batch 900\n",
      "train_loss 108548.4140625 train_f1 0.8833687939493915 test_loss 835845.3125 test_f1 0.8894535239771707\n",
      "epoch 0 batch 1000\n",
      "train_loss 105469.9375 train_f1 0.8938218071233301 test_loss 824448.9375 test_f1 0.8904702917768021\n",
      "epoch 0 batch 1100\n",
      "train_loss 99666.421875 train_f1 0.8938621366097004 test_loss 783667.25 test_f1 0.8965246630168553\n",
      "epoch 0 batch 1200\n",
      "train_loss 97486.640625 train_f1 0.8984469693112848 test_loss 758481.375 test_f1 0.8997293045394488\n",
      "epoch 0 batch 1300\n",
      "train_loss 92408.484375 train_f1 0.9051999787031513 test_loss 746883.8125 test_f1 0.9046720856320801\n",
      "epoch 0 batch 1400\n",
      "train_loss 90775.671875 train_f1 0.9066512073323462 test_loss 715265.0625 test_f1 0.9068732121007561\n",
      "epoch 0 batch 1500\n",
      "train_loss 89549.3828125 train_f1 0.9108902958325886 test_loss 224837.25 test_f1 0.909884754754154\n",
      "epoch 0 batch 1600\n",
      "train_loss 87978.4375 train_f1 0.9094812186322327 test_loss 668671.875 test_f1 0.9153067083447228\n",
      "epoch 1 batch 0\n",
      "train_loss 85908.0703125 train_f1 0.9179190787071886 test_loss 669168.6875 test_f1 0.9156779334491197\n",
      "epoch 1 batch 100\n",
      "train_loss 85380.2421875 train_f1 0.9208354498070475 test_loss 653560.0 test_f1 0.9182532721610325\n",
      "epoch 1 batch 200\n",
      "train_loss 84739.2734375 train_f1 0.9181579952334498 test_loss 632625.0625 test_f1 0.9202468530977919\n",
      "epoch 1 batch 300\n",
      "train_loss 79917.7734375 train_f1 0.9267666039500118 test_loss 617672.625 test_f1 0.9228977828768054\n",
      "epoch 1 batch 400\n",
      "train_loss 78135.3671875 train_f1 0.9252330441975716 test_loss 604108.6875 test_f1 0.9260778024821534\n",
      "epoch 1 batch 500\n",
      "train_loss 76871.2734375 train_f1 0.9278611801948471 test_loss 598921.625 test_f1 0.9268517051825326\n",
      "epoch 1 batch 600\n",
      "train_loss 72366.828125 train_f1 0.93123856560677 test_loss 184529.65625 test_f1 0.931939622689903\n",
      "epoch 1 batch 700\n",
      "train_loss 73281.125 train_f1 0.9321140648804798 test_loss 558806.75 test_f1 0.9330547484589695\n",
      "epoch 1 batch 800\n",
      "train_loss 70035.953125 train_f1 0.9337707447665918 test_loss 558066.75 test_f1 0.9330132346178244\n",
      "epoch 1 batch 900\n",
      "train_loss 69038.1484375 train_f1 0.9369834499394805 test_loss 541483.625 test_f1 0.9373428961619595\n",
      "epoch 1 batch 1000\n",
      "train_loss 68073.4921875 train_f1 0.9363257037281963 test_loss 544167.875 test_f1 0.9345959876592181\n",
      "epoch 1 batch 1100\n",
      "train_loss 66582.875 train_f1 0.9369175631806934 test_loss 534615.8125 test_f1 0.9367336378063174\n",
      "epoch 1 batch 1200\n",
      "train_loss 69896.78125 train_f1 0.936161611800854 test_loss 521509.5 test_f1 0.9391852280114911\n",
      "epoch 1 batch 1300\n",
      "train_loss 61823.578125 train_f1 0.9423403924608512 test_loss 521011.4375 test_f1 0.939465335313839\n",
      "epoch 1 batch 1400\n",
      "train_loss 64380.46875 train_f1 0.9434093311335171 test_loss 503757.3125 test_f1 0.9417085649827781\n",
      "epoch 1 batch 1500\n",
      "train_loss 62442.484375 train_f1 0.9449617391215835 test_loss 500212.21875 test_f1 0.9420792308813016\n",
      "epoch 1 batch 1600\n",
      "train_loss 63773.25390625 train_f1 0.9449866069110305 test_loss 485459.3125 test_f1 0.9445221064673152\n",
      "epoch 2 batch 0\n",
      "train_loss 63208.3671875 train_f1 0.9434367273917811 test_loss 158621.59375 test_f1 0.9420311605419567\n",
      "epoch 2 batch 100\n",
      "train_loss 58570.91015625 train_f1 0.9492774893276461 test_loss 473646.0 test_f1 0.9469945894846912\n",
      "epoch 2 batch 200\n",
      "train_loss 60786.5 train_f1 0.9469221935118131 test_loss 472585.3125 test_f1 0.9475246508535374\n",
      "epoch 2 batch 300\n",
      "train_loss 57207.5546875 train_f1 0.951795862681441 test_loss 465256.125 test_f1 0.9471139700321848\n",
      "epoch 2 batch 400\n",
      "train_loss 56552.8046875 train_f1 0.951872423790179 test_loss 461291.03125 test_f1 0.9483508493283616\n",
      "epoch 2 batch 500\n",
      "train_loss 55911.57421875 train_f1 0.9520061878314182 test_loss 449171.59375 test_f1 0.949637856875669\n",
      "epoch 2 batch 600\n",
      "train_loss 53963.78125 train_f1 0.9540368904700303 test_loss 444111.78125 test_f1 0.9507042529442729\n",
      "epoch 2 batch 700\n",
      "train_loss 55100.890625 train_f1 0.9530802226106816 test_loss 442554.0 test_f1 0.9525504257631114\n",
      "epoch 2 batch 800\n",
      "train_loss 55608.12890625 train_f1 0.953442824205338 test_loss 433643.1875 test_f1 0.9527175663918732\n",
      "epoch 2 batch 900\n",
      "train_loss 53012.43359375 train_f1 0.9555143445366501 test_loss 435142.84375 test_f1 0.9526617583972277\n",
      "epoch 2 batch 1000\n",
      "train_loss 53901.1328125 train_f1 0.9552518571636379 test_loss 426062.25 test_f1 0.9540148582614404\n",
      "epoch 2 batch 1100\n",
      "train_loss 52242.375 train_f1 0.9580684568538269 test_loss 419109.1875 test_f1 0.9549878451510451\n",
      "epoch 2 batch 1200\n",
      "train_loss 54026.87890625 train_f1 0.9575069369321164 test_loss 414267.375 test_f1 0.9557522894804162\n",
      "epoch 2 batch 1300\n",
      "train_loss 52394.65234375 train_f1 0.9581765805039869 test_loss 417267.375 test_f1 0.9550165406374195\n",
      "epoch 2 batch 1400\n",
      "train_loss 53596.41796875 train_f1 0.9576197935541364 test_loss 406510.46875 test_f1 0.9563714587397282\n",
      "epoch 2 batch 1500\n",
      "train_loss 52673.2265625 train_f1 0.956789356181306 test_loss 400395.40625 test_f1 0.9580078587678601\n",
      "epoch 2 batch 1600\n",
      "train_loss 49915.5625 train_f1 0.958565053418209 test_loss 405523.1875 test_f1 0.956545560038021\n"
     ]
    }
   ],
   "source": [
    "kld0, bce0, train_losses, test_losses, train_f1s, test_f1s, model = trainable.train_single_vae(3, 0.1, 0.001, 128, 10, 3, 0.5)\n",
    "torch.save(model.state_dict(), \"/Users/natasha/Desktop/model.pt\")"
   ]
  },
  {
   "cell_type": "code",
   "execution_count": null,
   "metadata": {},
   "outputs": [],
   "source": [
    "load_model = False\n",
    "if load_model:\n",
    "    from genome_embeddings import models\n",
    "    n_features = int(corrupted_train.shape[1]/2)\n",
    "    model = models.VariationalAutoEncoder(n_features, 3)\n",
    "    model.load_state_dict(torch.load(\"/Users/natasha/Desktop/model.pt\"))\n",
    "    model.eval()"
   ]
  },
  {
   "cell_type": "code",
   "execution_count": 28,
   "metadata": {},
   "outputs": [],
   "source": [
    "x = [i for i in range(len(kld0))]\n",
    "kld0 = [int(i) for i in kld0]\n",
    "bce0 = [int(i) for i in bce0]\n",
    "# plt.scatter(x, kld0)\n",
    "# plt.xlabel(\"Experience (batch)\")\n",
    "# plt.ylabel(\"KL Divergence\")"
   ]
  },
  {
   "cell_type": "code",
   "execution_count": 29,
   "metadata": {},
   "outputs": [
    {
     "data": {
      "image/png": "[encoded data removed]",
      "text/plain": [
       "<Figure size 432x288 with 1 Axes>"
      ]
     },
     "metadata": {
      "needs_background": "light"
     },
     "output_type": "display_data"
    }
   ],
   "source": [
    "plt.scatter(x,kld0, c='b', marker='.', label='KLD')\n",
    "plt.scatter(x,bce0, c='r', marker='.', label='BCE')\n",
    "plt.legend(loc='upper right')\n",
    "plt.xlabel(\"Experience\")\n",
    "plt.ylabel(\"Loss\")\n",
    "plt.yscale('log')\n",
    "plt.savefig(\"/Users/natasha/Desktop/fig2.png\")\n",
    "plt.show()"
   ]
  },
  {
   "cell_type": "code",
   "execution_count": 30,
   "metadata": {},
   "outputs": [],
   "source": [
    "from genome_embeddings import data_viz"
   ]
  },
  {
   "cell_type": "code",
   "execution_count": 31,
   "metadata": {},
   "outputs": [
    {
     "data": {
      "image/png": "[encoded data removed]",
      "text/plain": [
       "<Figure size 1440x504 with 1 Axes>"
      ]
     },
     "metadata": {
      "needs_background": "light"
     },
     "output_type": "display_data"
    }
   ],
   "source": [
    "fig = data_viz.learning_curve(train_losses, test_losses, \"optimization\", False)"
   ]
  },
  {
   "cell_type": "code",
   "execution_count": 32,
   "metadata": {},
   "outputs": [
    {
     "data": {
      "image/png": "[encoded data removed]",
      "text/plain": [
       "<Figure size 1440x504 with 1 Axes>"
      ]
     },
     "metadata": {
      "needs_background": "light"
     },
     "output_type": "display_data"
    }
   ],
   "source": [
    "fig = data_viz.learning_curve(train_f1s, test_f1s, \"performance\", False)"
   ]
  },
  {
   "cell_type": "code",
   "execution_count": 33,
   "metadata": {},
   "outputs": [],
   "source": [
    "import matplotlib.pyplot as plt"
   ]
  },
  {
   "cell_type": "code",
   "execution_count": 34,
   "metadata": {},
   "outputs": [],
   "source": [
    "def genome_heatmap(corrupted_train, idx):\n",
    "    n_features = int(corrupted_train.shape[1]/2)\n",
    "    n_extension = 100*100 - n_features\n",
    "    genome_rectangle1 = corrupted_train[idx][:n_features].tolist()\n",
    "    genome_rectangle1.extend([2] * n_extension) # 100*100 - n_features\n",
    "    genome_rectangle1 = np.reshape(genome_rectangle1, (100, 100))\n",
    "\n",
    "    genome_rectangle2 = corrupted_train[idx][n_features:].tolist()\n",
    "    genome_rectangle2.extend([2] * n_extension) # 100*100 - n_features\n",
    "    genome_rectangle2 = np.reshape(genome_rectangle2, (100, 100))   \n",
    "\n",
    "    fig, (ax1, ax2) = plt.subplots(1, 2)\n",
    "    ax1.imshow(genome_rectangle2, cmap='hot', interpolation='nearest')\n",
    "    ax2.imshow(genome_rectangle1, cmap='hot', interpolation='nearest')\n",
    "    ax1.set_title(\"Uncorrupt\")\n",
    "    ax2.set_title(\"Corrupt\")"
   ]
  },
  {
   "cell_type": "code",
   "execution_count": 35,
   "metadata": {},
   "outputs": [
    {
     "data": {
      "image/png": "[encoded data removed]",
      "text/plain": [
       "<Figure size 432x288 with 2 Axes>"
      ]
     },
     "metadata": {
      "needs_background": "light"
     },
     "output_type": "display_data"
    }
   ],
   "source": [
    "genome_heatmap(corrupted_train, 60000)"
   ]
  },
  {
   "cell_type": "code",
   "execution_count": 36,
   "metadata": {},
   "outputs": [],
   "source": [
    "def genome_heatmap2(corrupted_test, idx):\n",
    "    from matplotlib.colors import LinearSegmentedColormap\n",
    "    import sklearn as sk\n",
    "    #colours = [(1, 0, 0), (0, 1, 0), (0, 0, 1)]  # R -> G -> B\n",
    "    colours = ['black', 'green', 'orange', 'yellow', 'white']\n",
    "    cmap_name = 'my_list'\n",
    "    \n",
    "    n_features = int(corrupted_test.shape[1]/2)\n",
    "    n_extension = 100*100 - n_features\n",
    "    \n",
    "    # Get corrupted version of genome\n",
    "    corrupted = corrupted_test[idx][:n_features].tolist()\n",
    "    corrupted.extend([4] * n_extension) # 100*100 - n_features\n",
    "    corrupted = np.reshape(corrupted, (100, 100))\n",
    "    cm = LinearSegmentedColormap.from_list(cmap_name, colours, N=len(colours))\n",
    "    # Get uncorrupted version of genome\n",
    "    uncorrupted = corrupted_test[idx][n_features:].tolist()\n",
    "    uncorrupted.extend([4] * n_extension) # 100*100 - n_features\n",
    "    uncorrupted = np.reshape(uncorrupted, (100, 100))  \n",
    "    \n",
    "    # Get predicted uncorrupted version of genome\n",
    "    corr_genome = corrupted_test[idx][:n_features]\n",
    "    true_genome = corrupted_test[idx][n_features:]\n",
    "    model.eval()\n",
    "    pred = model.forward(corr_genome)\n",
    "    pred = pred[0].tolist()\n",
    "    binary_pred = [1 if i > 0.5 else 0 for i in pred]\n",
    "    \n",
    "    \n",
    "    tn, fp, fn, tp = sk.metrics.confusion_matrix(true_genome, binary_pred).flatten()\n",
    "    print(\"tn\",tn, \"fp\",fp, \"fn\",fn, \"tp\",tp)\n",
    "    \n",
    "    colour_pred = []\n",
    "    for i in zip(binary_pred, corr_genome, true_genome):\n",
    "        if i[0] == i[2] == 1: # TP\n",
    "            colour_pred.append(1) \n",
    "        elif i[0] == i[2] == 0: # TN\n",
    "            colour_pred.append(0) \n",
    "        elif i[0] == 0 and i[2] == 1: # False negative\n",
    "            colour_pred.append(2)\n",
    "        else: # False positive\n",
    "            colour_pred.append(3)\n",
    "            \n",
    "    print(len(colour_pred))\n",
    "    print(\"n_features\",n_features,\"len(colour_pred)\",len(colour_pred),\"n_extension\",n_extension)\n",
    "    colour_pred.extend([4] * n_extension) # 100*100 - n_features\n",
    "    print(len(colour_pred))\n",
    "    colour_pred = np.reshape(colour_pred, (100, 100))  \n",
    "\n",
    "    fig, (ax1, ax2, ax3) = plt.subplots(1, 3, figsize=(15,5))\n",
    "    ax1.imshow(uncorrupted, cmap=cm, interpolation='nearest')\n",
    "    ax2.imshow(corrupted, cmap=cm, interpolation='nearest')  \n",
    "    ax3.imshow(colour_pred, cmap=cm, interpolation='nearest')\n",
    "    ax1.set_title(\"Uncorrupt\")\n",
    "    ax2.set_title(\"Corrupt\")\n",
    "    ax3.set_title(\"Predicted\")\n",
    "    return fig"
   ]
  },
  {
   "cell_type": "code",
   "execution_count": 37,
   "metadata": {},
   "outputs": [
    {
     "name": "stdout",
     "output_type": "stream",
     "text": [
      "tn 7734 fp 150 fn 169 tp 1738\n",
      "9791\n",
      "n_features 9791 len(colour_pred) 9791 n_extension 209\n",
      "10000\n"
     ]
    },
    {
     "data": {
      "image/png": "[encoded data removed]",
      "text/plain": [
       "<Figure size 1080x360 with 3 Axes>"
      ]
     },
     "metadata": {
      "needs_background": "light"
     },
     "output_type": "display_data"
    }
   ],
   "source": [
    "fig = genome_heatmap2(corrupted_test, 0)\n",
    "fig.savefig(\"/Users/natasha/Desktop/fig4.png\", bbox_inches='tight', dpi=200)"
   ]
  },
  {
   "cell_type": "code",
   "execution_count": 38,
   "metadata": {},
   "outputs": [],
   "source": [
    "# Get predicted uncorrupted version of genome\n",
    "n_features = int(corrupted_test.shape[1]/2)\n",
    "corr_genome = corrupted_test[:,:n_features]\n",
    "true_genome = corrupted_test[:,n_features:]\n",
    "model.eval()\n",
    "pred = model.forward(corr_genome)\n",
    "#binary_preds = torch.zeros([true_genome.shape[0], true_genome.shape[1]])\n",
    "binary_preds = trainable.binarize(pred[0], 0.5)"
   ]
  },
  {
   "cell_type": "code",
   "execution_count": 39,
   "metadata": {},
   "outputs": [
    {
     "data": {
      "text/plain": [
       "False"
      ]
     },
     "execution_count": 39,
     "metadata": {},
     "output_type": "execute_result"
    }
   ],
   "source": [
    "np.min(np.isnan(pred[0].detach().numpy()))"
   ]
  },
  {
   "cell_type": "code",
   "execution_count": 40,
   "metadata": {},
   "outputs": [
    {
     "data": {
      "text/plain": [
       "False"
      ]
     },
     "execution_count": 40,
     "metadata": {},
     "output_type": "execute_result"
    }
   ],
   "source": [
    "np.max(np.isnan(binary_preds))"
   ]
  },
  {
   "cell_type": "code",
   "execution_count": 41,
   "metadata": {},
   "outputs": [
    {
     "data": {
      "text/plain": [
       "list"
      ]
     },
     "execution_count": 41,
     "metadata": {},
     "output_type": "execute_result"
    }
   ],
   "source": [
    "type(binary_preds)"
   ]
  },
  {
   "cell_type": "code",
   "execution_count": 43,
   "metadata": {},
   "outputs": [
    {
     "name": "stdout",
     "output_type": "stream",
     "text": [
      "9791 torch.Size([28200, 9791])\n"
     ]
    }
   ],
   "source": [
    "from sklearn.metrics import roc_auc_score\n",
    "num_features = int(corrupted_test.shape[1]/2)\n",
    "true_genomes = corrupted_test[:,num_features:]\n",
    "print(num_features, true_genomes.shape)"
   ]
  },
  {
   "cell_type": "code",
   "execution_count": 45,
   "metadata": {},
   "outputs": [
    {
     "data": {
      "text/plain": [
       "(torch.Size([28200, 9791]), torch.Size([28200, 9791]))"
      ]
     },
     "execution_count": 45,
     "metadata": {},
     "output_type": "execute_result"
    }
   ],
   "source": [
    "true_genomes.shape, pred[0].shape"
   ]
  },
  {
   "cell_type": "code",
   "execution_count": 46,
   "metadata": {},
   "outputs": [
    {
     "name": "stdout",
     "output_type": "stream",
     "text": [
      "num 1s 1000.0\n",
      "num 0s 8791.0\n",
      "sum 1s and 0s 9791\n",
      "target[:, i] False\n",
      "y_probas[:, i] False\n",
      "num 1s 15500.0\n",
      "num 0s -5709.0\n",
      "sum 1s and 0s 9791\n",
      "target[:, i] False\n",
      "y_probas[:, i] False\n",
      "num 1s 1400.0\n",
      "num 0s 8391.0\n",
      "sum 1s and 0s 9791\n",
      "target[:, i] False\n",
      "y_probas[:, i] False\n",
      "num 1s 5500.0\n",
      "num 0s 4291.0\n",
      "sum 1s and 0s 9791\n",
      "target[:, i] False\n",
      "y_probas[:, i] False\n",
      "num 1s 8600.0\n",
      "num 0s 1191.0\n",
      "sum 1s and 0s 9791\n",
      "target[:, i] False\n",
      "y_probas[:, i] False\n",
      "num 1s 1300.0\n",
      "num 0s 8491.0\n",
      "sum 1s and 0s 9791\n",
      "target[:, i] False\n",
      "y_probas[:, i] False\n",
      "num 1s 0.0\n",
      "num 0s 9791.0\n",
      "sum 1s and 0s 9791\n",
      "target[:, i] False\n",
      "y_probas[:, i] False\n",
      "num 1s 9800.0\n",
      "num 0s -9.0\n",
      "sum 1s and 0s 9791\n",
      "target[:, i] False\n",
      "y_probas[:, i] False\n",
      "num 1s 1900.0\n",
      "num 0s 7891.0\n",
      "sum 1s and 0s 9791\n",
      "target[:, i] False\n",
      "y_probas[:, i] False\n",
      "num 1s 800.0\n",
      "num 0s 8991.0\n",
      "sum 1s and 0s 9791\n",
      "target[:, i] False\n",
      "y_probas[:, i] False\n",
      "num 1s 200.0\n",
      "num 0s 9591.0\n",
      "sum 1s and 0s 9791\n",
      "target[:, i] False\n",
      "y_probas[:, i] False\n",
      "num 1s 8900.0\n",
      "num 0s 891.0\n",
      "sum 1s and 0s 9791\n",
      "target[:, i] False\n",
      "y_probas[:, i] False\n",
      "num 1s 28200.0\n",
      "num 0s -18409.0\n",
      "sum 1s and 0s 9791\n",
      "target[:, i] False\n",
      "y_probas[:, i] False\n"
     ]
    },
    {
     "ename": "FloatingPointError",
     "evalue": "invalid value encountered in less",
     "output_type": "error",
     "traceback": [
      "\u001b[0;31m---------------------------------------------------------------------------\u001b[0m",
      "\u001b[0;31mFloatingPointError\u001b[0m                        Traceback (most recent call last)",
      "\u001b[0;32m<ipython-input-46-5dca2cb1ba73>\u001b[0m in \u001b[0;36m<module>\u001b[0;34m\u001b[0m\n\u001b[0;32m----> 1\u001b[0;31m \u001b[0mdata_viz\u001b[0m\u001b[0;34m.\u001b[0m\u001b[0mmy_roc_curve\u001b[0m\u001b[0;34m(\u001b[0m\u001b[0mtrue_genomes\u001b[0m\u001b[0;34m.\u001b[0m\u001b[0mnumpy\u001b[0m\u001b[0;34m(\u001b[0m\u001b[0;34m)\u001b[0m\u001b[0;34m,\u001b[0m \u001b[0mpred\u001b[0m\u001b[0;34m[\u001b[0m\u001b[0;36m0\u001b[0m\u001b[0;34m]\u001b[0m\u001b[0;34m.\u001b[0m\u001b[0mdetach\u001b[0m\u001b[0;34m(\u001b[0m\u001b[0;34m)\u001b[0m\u001b[0;34m.\u001b[0m\u001b[0mnumpy\u001b[0m\u001b[0;34m(\u001b[0m\u001b[0;34m)\u001b[0m\u001b[0;34m)\u001b[0m\u001b[0;34m\u001b[0m\u001b[0;34m\u001b[0m\u001b[0m\n\u001b[0m",
      "\u001b[0;32m~/Desktop/mcgill_postdoc/ncbi_genomes/genome_embeddings/data_viz.py\u001b[0m in \u001b[0;36mmy_roc_curve\u001b[0;34m(target, y_probas)\u001b[0m\n\u001b[1;32m    379\u001b[0m \u001b[0;31m#        print(\"thresh\",thresh)\u001b[0m\u001b[0;34m\u001b[0m\u001b[0;34m\u001b[0m\u001b[0;34m\u001b[0m\u001b[0m\n\u001b[1;32m    380\u001b[0m         \u001b[0;31m#print(fpr[i], tpr[i])\u001b[0m\u001b[0;34m\u001b[0m\u001b[0;34m\u001b[0m\u001b[0;34m\u001b[0m\u001b[0m\n\u001b[0;32m--> 381\u001b[0;31m         \u001b[0mroc_auc\u001b[0m\u001b[0;34m[\u001b[0m\u001b[0mi\u001b[0m\u001b[0;34m]\u001b[0m \u001b[0;34m=\u001b[0m \u001b[0mauc\u001b[0m\u001b[0;34m(\u001b[0m\u001b[0mfpr\u001b[0m\u001b[0;34m[\u001b[0m\u001b[0mi\u001b[0m\u001b[0;34m]\u001b[0m\u001b[0;34m,\u001b[0m \u001b[0mtpr\u001b[0m\u001b[0;34m[\u001b[0m\u001b[0mi\u001b[0m\u001b[0;34m]\u001b[0m\u001b[0;34m)\u001b[0m\u001b[0;34m\u001b[0m\u001b[0;34m\u001b[0m\u001b[0m\n\u001b[0m\u001b[1;32m    382\u001b[0m \u001b[0;34m\u001b[0m\u001b[0m\n\u001b[1;32m    383\u001b[0m     \u001b[0mfpr\u001b[0m\u001b[0;34m[\u001b[0m\u001b[0;34m\"micro\"\u001b[0m\u001b[0;34m]\u001b[0m\u001b[0;34m,\u001b[0m \u001b[0mtpr\u001b[0m\u001b[0;34m[\u001b[0m\u001b[0;34m\"micro\"\u001b[0m\u001b[0;34m]\u001b[0m\u001b[0;34m,\u001b[0m \u001b[0m_\u001b[0m \u001b[0;34m=\u001b[0m \u001b[0mroc_curve\u001b[0m\u001b[0;34m(\u001b[0m\u001b[0mtarget\u001b[0m\u001b[0;34m.\u001b[0m\u001b[0mravel\u001b[0m\u001b[0;34m(\u001b[0m\u001b[0;34m)\u001b[0m\u001b[0;34m,\u001b[0m \u001b[0my_probas\u001b[0m\u001b[0;34m.\u001b[0m\u001b[0mravel\u001b[0m\u001b[0;34m(\u001b[0m\u001b[0;34m)\u001b[0m\u001b[0;34m)\u001b[0m\u001b[0;34m\u001b[0m\u001b[0;34m\u001b[0m\u001b[0m\n",
      "\u001b[0;32m/usr/local/lib/python3.7/site-packages/sklearn/metrics/_ranking.py\u001b[0m in \u001b[0;36mauc\u001b[0;34m(x, y)\u001b[0m\n\u001b[1;32m     86\u001b[0m     \u001b[0mdirection\u001b[0m \u001b[0;34m=\u001b[0m \u001b[0;36m1\u001b[0m\u001b[0;34m\u001b[0m\u001b[0;34m\u001b[0m\u001b[0m\n\u001b[1;32m     87\u001b[0m     \u001b[0mdx\u001b[0m \u001b[0;34m=\u001b[0m \u001b[0mnp\u001b[0m\u001b[0;34m.\u001b[0m\u001b[0mdiff\u001b[0m\u001b[0;34m(\u001b[0m\u001b[0mx\u001b[0m\u001b[0;34m)\u001b[0m\u001b[0;34m\u001b[0m\u001b[0;34m\u001b[0m\u001b[0m\n\u001b[0;32m---> 88\u001b[0;31m     \u001b[0;32mif\u001b[0m \u001b[0mnp\u001b[0m\u001b[0;34m.\u001b[0m\u001b[0many\u001b[0m\u001b[0;34m(\u001b[0m\u001b[0mdx\u001b[0m \u001b[0;34m<\u001b[0m \u001b[0;36m0\u001b[0m\u001b[0;34m)\u001b[0m\u001b[0;34m:\u001b[0m\u001b[0;34m\u001b[0m\u001b[0;34m\u001b[0m\u001b[0m\n\u001b[0m\u001b[1;32m     89\u001b[0m         \u001b[0;32mif\u001b[0m \u001b[0mnp\u001b[0m\u001b[0;34m.\u001b[0m\u001b[0mall\u001b[0m\u001b[0;34m(\u001b[0m\u001b[0mdx\u001b[0m \u001b[0;34m<=\u001b[0m \u001b[0;36m0\u001b[0m\u001b[0;34m)\u001b[0m\u001b[0;34m:\u001b[0m\u001b[0;34m\u001b[0m\u001b[0;34m\u001b[0m\u001b[0m\n\u001b[1;32m     90\u001b[0m             \u001b[0mdirection\u001b[0m \u001b[0;34m=\u001b[0m \u001b[0;34m-\u001b[0m\u001b[0;36m1\u001b[0m\u001b[0;34m\u001b[0m\u001b[0;34m\u001b[0m\u001b[0m\n",
      "\u001b[0;31mFloatingPointError\u001b[0m: invalid value encountered in less"
     ]
    }
   ],
   "source": [
    "data_viz.my_roc_curve(true_genomes.numpy(), pred[0].detach().numpy())"
   ]
  },
  {
   "cell_type": "code",
   "execution_count": null,
   "metadata": {},
   "outputs": [],
   "source": [
    "#a = np.array([i.tolist() for i in binary_preds])"
   ]
  },
  {
   "cell_type": "code",
   "execution_count": null,
   "metadata": {},
   "outputs": [],
   "source": [
    "#a[0]"
   ]
  },
  {
   "cell_type": "code",
   "execution_count": null,
   "metadata": {},
   "outputs": [],
   "source": [
    "#true_genomes.numpy()"
   ]
  },
  {
   "cell_type": "code",
   "execution_count": null,
   "metadata": {},
   "outputs": [],
   "source": [
    "type(pred[3])"
   ]
  },
  {
   "cell_type": "code",
   "execution_count": null,
   "metadata": {},
   "outputs": [],
   "source": []
  }
 ],
 "metadata": {
  "kernelspec": {
   "display_name": "Python 3",
   "language": "python",
   "name": "python3"
  },
  "language_info": {
   "codemirror_mode": {
    "name": "ipython",
    "version": 3
   },
   "file_extension": ".py",
   "mimetype": "text/x-python",
   "name": "python",
   "nbconvert_exporter": "python",
   "pygments_lexer": "ipython3",
   "version": "3.7.6"
  }
 },
 "nbformat": 4,
 "nbformat_minor": 4
}
