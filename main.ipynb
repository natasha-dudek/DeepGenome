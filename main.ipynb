{
 "cells": [
  {
   "cell_type": "code",
   "execution_count": 9,
   "metadata": {},
   "outputs": [
    {
     "name": "stdout",
     "output_type": "stream",
     "text": [
      "The autoreload extension is already loaded. To reload it, use:\n",
      "  %reload_ext autoreload\n"
     ]
    }
   ],
   "source": [
    "# automatically upload modules\n",
    "%load_ext autoreload\n",
    "%autoreload 2"
   ]
  },
  {
   "cell_type": "code",
   "execution_count": 10,
   "metadata": {},
   "outputs": [],
   "source": [
    "from argparse import Namespace\n",
    "from collections import defaultdict\n",
    "import random\n",
    "import re\n",
    "import sys\n",
    "\n",
    "import matplotlib.pyplot as plt\n",
    "import numpy as np\n",
    "import pandas as pd\n",
    "import pickle\n",
    "import ray\n",
    "from ray import tune\n",
    "from scipy import stats\n",
    "import sklearn as sk\n",
    "import torch\n",
    "\n",
    "from genome_embeddings import corrupt\n",
    "from genome_embeddings import data_viz\n",
    "from genome_embeddings import evaluate\n",
    "from genome_embeddings import models\n",
    "from genome_embeddings import pathways\n",
    "from genome_embeddings import pre_process\n",
    "from genome_embeddings import trainable # import before ray (?)"
   ]
  },
  {
   "cell_type": "code",
   "execution_count": 11,
   "metadata": {},
   "outputs": [],
   "source": [
    "mode = \"Desktop\" # \"CC\" | \"Desktop\"\n",
    "# must change local_dir=\"/Users/natasha/Desktop/TUNE_RESULT_DIR\"\n",
    "#local_dir=\"/home/ndudek/projects/def-dprecup/ndudek/hp_tuning_04-12-2020/TUNE_RESULT_DIR\"\n",
    "\n",
    "BASE_DIR = '/Users/natasha/Desktop/vae/'\n",
    "#BASE_DIR =\"/home/ndudek/projects/def-dprecup/ndudek/hp_tuning_04-12-2020/TUNE_RESULT_DIR\"\n",
    "\n",
    "if mode == \"Desktop\":\n",
    "    settings = Namespace(\n",
    "        DATA_FP = '/Users/natasha/Desktop/mcgill_postdoc/ncbi_genomes/genome_embeddings/data/', \n",
    "        SAVE_FP = '/Users/natasha/Desktop/',\n",
    "        num_epochs = 2,\n",
    "        num_cpus=5, \n",
    "        replacement_threshold = 0.5, # probability over which binarizer converts to a 1\n",
    "        num_corruptions = 100, # number of corrupted versions of a genome to produce\n",
    "    )\n",
    "elif mode == \"CC\":\n",
    "    settings = Namespace(\n",
    "        DATA_FP = '/home/ndudek/projects/def-dprecup/ndudek/hp_tuning_04-12-2020/',\n",
    "        SAVE_FP = '/home/ndudek/projects/def-dprecup/ndudek/hp_tuning_04-12-2020/',\n",
    "        num_epochs = 2,\n",
    "        num_cpus=5, \n",
    "        replacement_threshold = 0.5, # probability over which binarizer converts to a 1\n",
    "        num_corruptions = 100, # number of corrupted versions of a genome to produce\n",
    "    )\n",
    "    "
   ]
  },
  {
   "cell_type": "code",
   "execution_count": 12,
   "metadata": {},
   "outputs": [
    {
     "name": "stdout",
     "output_type": "stream",
     "text": [
      "Total number of bacterial genomes in dataset: 2718\n",
      "Total number of KOs in dataset: 9874\n"
     ]
    }
   ],
   "source": [
    "tla_to_tnum, keepers = pre_process.genomes2include(mode)\n",
    "tnum_to_tla = {v:k for k,v in tla_to_tnum.items()}\n",
    "org_to_kos, n_kos_tot, all_kos = pre_process.load_kos(tla_to_tnum, mode)\n",
    "org_to_mod_to_kos, mod_sets = pre_process.load_mods(mode)\n",
    "mod_to_kos = pre_process.create_mod_to_kos(org_to_mod_to_kos)"
   ]
  },
  {
   "cell_type": "markdown",
   "metadata": {},
   "source": [
    "# Load data needed to make corrupted train + test datasets"
   ]
  },
  {
   "cell_type": "code",
   "execution_count": 13,
   "metadata": {},
   "outputs": [
    {
     "name": "stdout",
     "output_type": "stream",
     "text": [
      "Total number of bacterial genomes in dataset: 2718\n"
     ]
    }
   ],
   "source": [
    "tla_to_tnum, keepers = pre_process.genomes2include(mode)"
   ]
  },
  {
   "cell_type": "code",
   "execution_count": 14,
   "metadata": {},
   "outputs": [
    {
     "name": "stdout",
     "output_type": "stream",
     "text": [
      "Total number of bacterial genomes in dataset: 2718\n",
      "Total number of KOs in dataset: 9874\n"
     ]
    }
   ],
   "source": [
    "create_new = False\n",
    "from_scratch = False # controls where in creation process to jump in\n",
    "\n",
    "# Create list of which genomes from KEGG to include in dataset\n",
    "tla_to_tnum, keepers = pre_process.genomes2include(mode)\n",
    "tnum_to_tla = {v:k for k,v in tla_to_tnum.items()}\n",
    "org_to_kos, n_kos_tot, all_kos = pre_process.load_kos(tla_to_tnum, mode)\n",
    "org_to_mod_to_kos, mod_sets = pre_process.load_mods(mode)\n",
    "mod_to_kos = pre_process.create_mod_to_kos(org_to_mod_to_kos)\n",
    "\n",
    "if create_new:\n",
    "    if from_scratch:\n",
    "        # Load list mods and KOs per genome\n",
    "        data, genome_order = pre_process.make_tensor(org_to_mod_to_kos, org_to_kos, n_kos_tot, tla_to_tnum, all_kos)\n",
    "        torch.save(data, BASE_DIR+\"kegg_v2.pt\")\n",
    "        torch.save(genome_order, BASE_DIR+\"genome_order.pt\")\n",
    "    else:\n",
    "        # load data -- tensor (genomes + which KOs are encoded) + genome_order in tensor (tla)\n",
    "        data = torch.load(BASE_DIR+\"kegg_v2.pt\")\n",
    "        genome_order = torch.load(BASE_DIR+\"genome_order.pt\")\n",
    "    \n",
    "    # Create test-train split\n",
    "    train_genomes, test_genomes = pre_process.train_test_split(keepers) # list of IDs to keep\n",
    "    train_data = pre_process.prep_data(train_genomes, all_kos, org_to_kos, \"train\")\n",
    "    test_data = pre_process.prep_data(test_genomes, all_kos, org_to_kos, \"test\")\n",
    "    \n",
    "    torch.save(all_kos, BASE_DIR+\"all_kos_2020-09-29.pt\")\n",
    "    torch.save(org_to_mod_to_kos, BASE_DIR+\"org_to_mod_to_kos_2020-09-29.pt\")\n",
    "    torch.save(train_data, BASE_DIR+\"kegg_v2_train_2020-09-29.pt\")\n",
    "    torch.save(test_data, BASE_DIR+\"kegg_v2_test_2020-09-29.pt\")\n",
    "    torch.save(train_genomes, BASE_DIR+\"kegg_v2_train_genomes_2020-09-29.pt\")\n",
    "    torch.save(test_genomes, BASE_DIR+\"kegg_v2_test_genomes_2020-09-29.pt\")\n",
    "else:\n",
    "    all_kos = torch.load(BASE_DIR+\"all_kos_2020-09-29.pt\")\n",
    "    org_to_mod_to_kos = torch.load(BASE_DIR+\"org_to_mod_to_kos_2020-09-29.pt\")\n",
    "    train_data = torch.load(BASE_DIR+\"kegg_v2_train_2020-09-29.pt\")\n",
    "    test_data = torch.load(BASE_DIR+\"kegg_v2_test_2020-09-29.pt\")\n",
    "    train_genomes = torch.load(BASE_DIR+\"kegg_v2_train_genomes_2020-09-29.pt\")\n",
    "    test_genomes = torch.load(BASE_DIR+\"kegg_v2_test_genomes_2020-09-29.pt\")\n",
    "\n",
    "mod_to_ko_clean = pre_process.clean_kos(mod_sets)"
   ]
  },
  {
   "cell_type": "code",
   "execution_count": 15,
   "metadata": {},
   "outputs": [
    {
     "data": {
      "text/plain": [
       "(2430, 9874)"
      ]
     },
     "execution_count": 15,
     "metadata": {},
     "output_type": "execute_result"
    }
   ],
   "source": [
    "train_data.shape"
   ]
  },
  {
   "cell_type": "markdown",
   "metadata": {},
   "source": [
    "# Filter dataset"
   ]
  },
  {
   "cell_type": "code",
   "execution_count": 16,
   "metadata": {},
   "outputs": [],
   "source": [
    "# Remove any genomes with fewer than n_min KOs (endosymbionts)\n",
    "n_min = 500\n",
    "good_idx_train = train_data.sum(axis=1) >= n_min\n",
    "good_idx_test = test_data.sum(axis=1) >= n_min\n",
    "train_data = train_data[good_idx_train,:]\n",
    "test_data = test_data[good_idx_test,:]\n",
    "\n",
    "# to numpy for indexing, then back to list for using\n",
    "train_genomes = list(np.array(train_genomes)[good_idx_train])\n",
    "test_genomes = list(np.array(test_genomes)[good_idx_test])"
   ]
  },
  {
   "cell_type": "code",
   "execution_count": 17,
   "metadata": {},
   "outputs": [],
   "source": [
    "# get rid of genomes that encode fewer than n_mods modules\n",
    "n_mods = 10\n",
    "train_data, train_genomes = pre_process.remove_duds(train_data, train_genomes, tnum_to_tla, org_to_mod_to_kos, n_mods)\n",
    "test_data, test_genomes = pre_process.remove_duds(test_data, test_genomes, tnum_to_tla, org_to_mod_to_kos, n_mods)"
   ]
  },
  {
   "cell_type": "code",
   "execution_count": 18,
   "metadata": {},
   "outputs": [],
   "source": [
    "# Are there any columns that are all zeros in both the train and test sets (TL;DR yes)\n",
    "good_cols = ((train_data.sum(axis=0) != 0) | (test_data.sum(axis=0) != 0))\n",
    "train_data = train_data[:,good_cols]\n",
    "test_data = test_data[:,good_cols]\n",
    "all_kos = np.array(all_kos)[good_cols].tolist()"
   ]
  },
  {
   "cell_type": "code",
   "execution_count": 19,
   "metadata": {},
   "outputs": [
    {
     "data": {
      "text/plain": [
       "(0, 77)"
      ]
     },
     "execution_count": 19,
     "metadata": {},
     "output_type": "execute_result"
    }
   ],
   "source": [
    "(train_data.sum(axis=1) == 0).sum(), (train_data.sum(axis=0) == 0).sum()"
   ]
  },
  {
   "cell_type": "code",
   "execution_count": 20,
   "metadata": {},
   "outputs": [
    {
     "data": {
      "text/plain": [
       "(0, 1595)"
      ]
     },
     "execution_count": 20,
     "metadata": {},
     "output_type": "execute_result"
    }
   ],
   "source": [
    "(test_data.sum(axis=1) == 0).sum(), (test_data.sum(axis=0) == 0).sum()"
   ]
  },
  {
   "cell_type": "code",
   "execution_count": 21,
   "metadata": {},
   "outputs": [
    {
     "data": {
      "text/plain": [
       "((2305, 9863), (279, 9863), 2584)"
      ]
     },
     "execution_count": 21,
     "metadata": {},
     "output_type": "execute_result"
    }
   ],
   "source": [
    "train_data.shape, test_data.shape, train_data.shape[0]+test_data.shape[0]"
   ]
  },
  {
   "cell_type": "code",
   "execution_count": 22,
   "metadata": {},
   "outputs": [
    {
     "data": {
      "text/plain": [
       "2584"
      ]
     },
     "execution_count": 22,
     "metadata": {},
     "output_type": "execute_result"
    }
   ],
   "source": [
    "train_data.shape[0] + test_data.shape[0]"
   ]
  },
  {
   "cell_type": "markdown",
   "metadata": {},
   "source": [
    "# Data exploration"
   ]
  },
  {
   "cell_type": "code",
   "execution_count": null,
   "metadata": {},
   "outputs": [],
   "source": [
    "plt.rcParams.update({'font.size': 14})"
   ]
  },
  {
   "cell_type": "code",
   "execution_count": null,
   "metadata": {},
   "outputs": [],
   "source": [
    "mod = 'M00001'\n",
    "a = list(mod_sets[mod].values())\n",
    "a.sort(reverse=True)\n",
    "x_labels = [i for i in range(len(mod_sets[mod].values()))]\n",
    "plt.bar(x_labels, a)\n",
    "plt.yscale('log')\n",
    "plt.title(\"Variants of module \"+mod)\n",
    "plt.xlabel(\"Variant (n=\"+str(len(mod_sets[mod].values()))+\" )\")\n",
    "plt.ylabel(\"Count across all genomes (n=\"+str(len(org_to_mod_to_kos))+\")\")\n",
    "print(max(mod_sets[mod].values()), len(a))"
   ]
  },
  {
   "cell_type": "code",
   "execution_count": null,
   "metadata": {},
   "outputs": [],
   "source": [
    "# Plot the number of KOs encoded by each genome\n",
    "# Note: this includes genomes excluded from the final dataset!\n",
    "plt.hist([len(org_to_kos[i]) for i in org_to_kos], 50)\n",
    "plt.xlabel(\"Number of KOs per genome\")\n",
    "plt.ylabel(\"Frequency\")\n",
    "plt.savefig(BASE_DIR+\"fig.png\")"
   ]
  },
  {
   "cell_type": "code",
   "execution_count": null,
   "metadata": {},
   "outputs": [],
   "source": [
    "# Median, min, and max # KOs per genome\n",
    "lens = [len(org_to_kos[i]) for i in org_to_kos if i in train_genomes or i in test_genomes]\n",
    "print(np.median(lens), min(lens), max(lens))"
   ]
  },
  {
   "cell_type": "code",
   "execution_count": null,
   "metadata": {
    "scrolled": false
   },
   "outputs": [],
   "source": [
    "# Plot the number of modules encoded by each genome\n",
    "n_genomes = len(org_to_mod_to_kos)\n",
    "temp = [list(org_to_mod_to_kos[i].keys()) for i in org_to_mod_to_kos]\n",
    "n_mods_ = len(list(set([item for sublist in temp for item in sublist])))\n",
    "plt.hist([len(org_to_mod_to_kos[i]) for i in org_to_mod_to_kos], 50)\n",
    "plt.xlabel(\"Number of modules per genome\")\n",
    "plt.ylabel(\"Frequency\")\n",
    "plt.title(\"Distribution of the # of modules (n=\"+str(n_mods_)+\") per genome (n=\"+str(n_genomes)+\")\")"
   ]
  },
  {
   "cell_type": "code",
   "execution_count": null,
   "metadata": {},
   "outputs": [],
   "source": [
    "# a = [len(org_to_mod_to_kos[org]) for org in org_to_mod_to_kos]\n",
    "# a.sort()\n",
    "# print(\"There are \"+str(a.count(0))+\" genomes with zero modules\")\n",
    "\n",
    "# # Red\n",
    "# # Rue\n",
    "# # pvac\n",
    "# # cgw"
   ]
  },
  {
   "cell_type": "code",
   "execution_count": null,
   "metadata": {},
   "outputs": [],
   "source": [
    "# NOTE THAT SOME GENOMES DO NOT HAVE A SINGLE MOD AND AREN'T EVEN IN THE DICT (n= 2717-2713 = 5)\n",
    "# E.G.: clap "
   ]
  },
  {
   "cell_type": "code",
   "execution_count": null,
   "metadata": {
    "scrolled": true
   },
   "outputs": [],
   "source": [
    "# # Count and plot the number of genomes that encode each module\n",
    "# mods_count = defaultdict(int)\n",
    "# for org in org_to_mod_to_kos:\n",
    "#     for mod in org_to_mod_to_kos[org]:\n",
    "#         mods_count[mod] += 1\n",
    "        \n",
    "# plt.hist(mods_count.values(), 50)\n",
    "# plt.xlabel(\"Number of genomes encoding each module\")\n",
    "# plt.ylabel(\"Frequency\")\n",
    "# plt.title(\"Distribution of the # of genomes (n=\"+str(n_genomes)+\") encoding each module (n=\"+str(n_mods)+\")\")\n",
    "# plt.yscale('log')\n",
    "# print(\"Number of mods encoded in only one genome:\",list(mods_count.values()).count(1))"
   ]
  },
  {
   "cell_type": "code",
   "execution_count": null,
   "metadata": {},
   "outputs": [],
   "source": [
    "# # Plot the percentage of genes per genome that contribute to modules\n",
    "# perc_mod = []\n",
    "# for org in org_to_mod_to_kos:\n",
    "#     try:\n",
    "#         tla = tla_to_tnum[org]\n",
    "#         n_kos = len(org_to_kos[tla])\n",
    "#         n_mod_kos = len([org_to_mod_to_kos[org][mod] for mod in org_to_mod_to_kos[org]])\n",
    "#         perc_mod.append(n_mod_kos/n_kos*100)\n",
    "#     except: KeyError\n",
    "\n",
    "# plt.hist(perc_mod, 50)\n",
    "# plt.xlabel(\"Percent of KOs contributing to modules\")\n",
    "# plt.ylabel(\"Frequency\")\n",
    "# plt.title(\"Distribution of the % of KOs (n_all=\"+str(n_kos_tot)+\") represented by modules (n=\"+str(n_mods)+\") per genome (n=\"+str(n_genomes)+\")\")\n"
   ]
  },
  {
   "cell_type": "code",
   "execution_count": null,
   "metadata": {},
   "outputs": [],
   "source": [
    "# # Percentage of KOs that are / are not part of a module\n",
    "\n",
    "# kos_in_mods = []\n",
    "\n",
    "# for org in org_to_mod_to_kos:\n",
    "#     for mod in org_to_mod_to_kos[org]:\n",
    "#         kos_in_mods.extend(org_to_mod_to_kos[org][mod])\n",
    "\n",
    "# kos_in_mods = list(set(kos_in_mods))\n",
    "\n",
    "# print(len(kos_in_mods), len(all_kos), len(kos_in_mods)/len(all_kos)*100)"
   ]
  },
  {
   "cell_type": "code",
   "execution_count": null,
   "metadata": {},
   "outputs": [],
   "source": [
    "# # Number of KOs that are part of 1 module, 2 modules, 3 modules, etc\n",
    "# #all_kos # unique list of all KOs\n",
    "# ko_counter = defaultdict(list)\n",
    "\n",
    "# for ko in all_kos:\n",
    "#     for org in org_to_mod_to_kos:\n",
    "#         for mod in org_to_mod_to_kos[org]:\n",
    "#             if ko in org_to_mod_to_kos[org][mod]:\n",
    "#                 if mod not in ko_counter[ko]:\n",
    "#                     ko_counter[ko].append(mod)"
   ]
  },
  {
   "cell_type": "code",
   "execution_count": null,
   "metadata": {},
   "outputs": [],
   "source": [
    "# ko_counter2 = {}\n",
    "# for ko in ko_counter:\n",
    "#     ko_counter2[ko] = len(ko_counter[ko])\n",
    "\n",
    "# for ko in all_kos:\n",
    "#     if ko not in ko_counter2:\n",
    "#         ko_counter2[ko] = 0"
   ]
  },
  {
   "cell_type": "code",
   "execution_count": null,
   "metadata": {},
   "outputs": [],
   "source": [
    "# a = defaultdict(int)\n",
    "# for i in ko_counter2.values():\n",
    "#     a[i] += 1\n",
    "# a, sum(a.values())"
   ]
  },
  {
   "cell_type": "code",
   "execution_count": null,
   "metadata": {},
   "outputs": [],
   "source": [
    "# plt.hist(ko_counter2.values())\n",
    "# plt.yscale('log')\n",
    "# plt.title(\"Number of modules each KO contributes to\")\n",
    "# plt.xlabel(\"Number of modules\")\n",
    "# plt.ylabel(\"Frequency (# of KOs)\")"
   ]
  },
  {
   "cell_type": "markdown",
   "metadata": {},
   "source": [
    "# Corrupt input genomes"
   ]
  },
  {
   "cell_type": "code",
   "execution_count": 23,
   "metadata": {},
   "outputs": [
    {
     "name": "stdout",
     "output_type": "stream",
     "text": [
      "Loading 2021-01-05_10mods\n",
      "done\n"
     ]
    }
   ],
   "source": [
    "# corrupt version 1 -- extreme corruption\n",
    "# 2020-09-04: select 1-10 mods for input\n",
    "# 2020-10-16_10mods: select 10 mods for input, genomes with fewer than 10 mods are eliminated\n",
    "# 2020-10-16_1mods: select 1 mods for input, genomes with fewer than 10 mods are eliminated \n",
    "\n",
    "new_corrupt = False\n",
    "n_corrupt = 100\n",
    "date_to_save = \"2021-01-05_\"+str(n_mods)+\"mods\"\n",
    "date_to_load = \"2021-01-05_10mods\"\n",
    "\n",
    "tnum_to_tla = {v:k for k,v in tla_to_tnum.items()}\n",
    "\n",
    "if new_corrupt:\n",
    "    print (\"Creating new corruptions\")\n",
    "    print (str(n_corrupt),\"corruptions per genome\")\n",
    "    print (\"With\",str(n_mods),\"modules as input per genome\")\n",
    "    print (\"Saved as\",date_to_save)\n",
    "    #tnum_to_tla = {v:k for k,v in tla_to_tnum.items()}\n",
    "    corrupted_train, c_train_genomes, train_input_mods = corrupt.corrupt(train_data, train_genomes, n_corrupt, tnum_to_tla, org_to_mod_to_kos, all_kos, mod_to_ko_clean, org_to_kos, n_mods)\n",
    "    corrupted_test, c_test_genomes, test_input_mods = corrupt.corrupt(test_data, test_genomes, n_corrupt, tnum_to_tla, org_to_mod_to_kos, all_kos, mod_to_ko_clean, org_to_kos, n_mods)\n",
    "    torch.save(corrupted_train, BASE_DIR+\"corrupted_train_\"+date_to_save+\".pt\")\n",
    "    torch.save(c_train_genomes, BASE_DIR+\"c_train_genomes_\"+date_to_save+\".pt\")\n",
    "    torch.save(corrupted_test, BASE_DIR+\"corrupted_test_\"+date_to_save+\".pt\")\n",
    "    torch.save(c_test_genomes, BASE_DIR+\"c_test_genomes_\"+date_to_save+\".pt\")\n",
    "    torch.save(train_input_mods, BASE_DIR+\"train_input_mods_\"+date_to_save+\".pt\")\n",
    "    torch.save(test_input_mods, BASE_DIR+\"test_input_mods_\"+date_to_save+\".pt\")\n",
    "else:\n",
    "    print(\"Loading \"+date_to_load)\n",
    "    corrupted_train = torch.load(BASE_DIR+\"corrupted_train_\"+date_to_load+\".pt\")\n",
    "    c_train_genomes = torch.load(BASE_DIR+\"c_train_genomes_\"+date_to_load+\".pt\")\n",
    "    corrupted_test = torch.load(BASE_DIR+\"corrupted_test_\"+date_to_load+\".pt\")\n",
    "    c_test_genomes = torch.load(BASE_DIR+\"c_test_genomes_\"+date_to_load+\".pt\")\n",
    "    train_input_mods = torch.load(BASE_DIR+\"train_input_mods_\"+date_to_load+\".pt\")\n",
    "    test_input_mods = torch.load(BASE_DIR+\"test_input_mods_\"+date_to_load+\".pt\")\n",
    "    \n",
    "print (\"done\")"
   ]
  },
  {
   "cell_type": "code",
   "execution_count": 24,
   "metadata": {},
   "outputs": [
    {
     "data": {
      "text/plain": [
       "(230500, 230500)"
      ]
     },
     "execution_count": 24,
     "metadata": {},
     "output_type": "execute_result"
    }
   ],
   "source": [
    "# confirm that there are no all-zero rows\n",
    "non_zero_idx = corrupted_train.sum(axis=1) > n_min\n",
    "len(non_zero_idx), corrupted_train.shape[0]"
   ]
  },
  {
   "cell_type": "code",
   "execution_count": 25,
   "metadata": {},
   "outputs": [
    {
     "data": {
      "text/plain": [
       "(torch.Size([230500, 19726]), torch.Size([27900, 19726]))"
      ]
     },
     "execution_count": 25,
     "metadata": {},
     "output_type": "execute_result"
    }
   ],
   "source": [
    "corrupted_train.shape, corrupted_test.shape"
   ]
  },
  {
   "cell_type": "markdown",
   "metadata": {},
   "source": [
    "# Visualization of final datasets"
   ]
  },
  {
   "cell_type": "code",
   "execution_count": null,
   "metadata": {},
   "outputs": [],
   "source": [
    "fig, labels, y3 = data_viz.plot_tax_dist(c_train_genomes, c_test_genomes, 'Desktop')\n",
    "plt.savefig(BASE_DIR+\"fig_dist.png\", bbox_inches='tight')"
   ]
  },
  {
   "cell_type": "code",
   "execution_count": null,
   "metadata": {},
   "outputs": [],
   "source": [
    "def get_lengths(c_genomes, org_to_kos):\n",
    "    lens = []\n",
    "    for i in list(set(c_genomes)):\n",
    "        tnum = tla_to_tnum[i]\n",
    "        lens.append(len(org_to_kos[tnum]))\n",
    "    return lens\n",
    "\n",
    "train_lens = get_lengths(c_train_genomes, org_to_kos)\n",
    "test_lens = get_lengths(c_test_genomes, org_to_kos)"
   ]
  },
  {
   "cell_type": "code",
   "execution_count": null,
   "metadata": {},
   "outputs": [],
   "source": [
    "# Plot the number of KOs encoded by each genome\n",
    "fig, ax = plt.subplots()\n",
    "plt.hist(train_lens, 50, color='#3385ff')\n",
    "plt.hist(test_lens, 50, color='#bb99ff')\n",
    "ax.legend(['Train', 'Test'])\n",
    "plt.xlabel(\"# annotated genes / genome\")\n",
    "plt.ylabel(\"Count\")\n",
    "plt.ylim(0,125)\n",
    "plt.xlim(min(train_lens),max(train_lens)+10)\n",
    "plt.savefig(BASE_DIR+\"fig_ko_dist.pdf\", figsize=(370.336, 245.416), bbox_inches='tight')"
   ]
  },
  {
   "cell_type": "code",
   "execution_count": null,
   "metadata": {},
   "outputs": [],
   "source": [
    "# How many modules are there per training genome?\n",
    "from collections import defaultdict\n",
    "mods_count = defaultdict(int)\n",
    "for org in org_to_mod_to_kos:\n",
    "    if org in c_train_genomes:\n",
    "        mods_count[org] = len(org_to_mod_to_kos[org])\n",
    "plt.hist(mods_count.values())\n",
    "plt.xlabel('Number of modules')\n",
    "plt.ylabel('Number of genomes')"
   ]
  },
  {
   "cell_type": "markdown",
   "metadata": {},
   "source": [
    "# HPO w/ Ray Tune: Define and train network"
   ]
  },
  {
   "cell_type": "code",
   "execution_count": 3,
   "metadata": {},
   "outputs": [
    {
     "data": {
      "text/plain": [
       "{}"
      ]
     },
     "execution_count": 3,
     "metadata": {},
     "output_type": "execute_result"
    }
   ],
   "source": [
    "memory = 2000 * 1024 * 1024\n",
    "object_store_memory = 200 * 1024 * 1024\n",
    "driver_object_store_memory=100 * 1024 * 1024\n",
    "ray.shutdown()\n",
    "ray.init(local_mode=True, memory=memory, \n",
    "        object_store_memory=object_store_memory,\n",
    "        driver_object_store_memory=driver_object_store_memory,\n",
    "        num_cpus=10)"
   ]
  },
  {
   "cell_type": "code",
   "execution_count": 5,
   "metadata": {},
   "outputs": [],
   "source": [
    "config = {\"num_epochs\": 10,\n",
    "         \"kfolds\": 10,\n",
    "         \"replacement_threshold\": 0.5,\n",
    "         \"nn_layers\": tune.choice([1, 2, 3, 4]),\n",
    "         \"batch_size\": tune.choice([32, 64, 128, 256]),\n",
    "          \"lr\": tune.loguniform(1e-4, 1e-1), \n",
    "          \"weight_decay\": tune.loguniform(1e-5, 1e-2) \n",
    "         }"
   ]
  },
  {
   "cell_type": "code",
   "execution_count": 4,
   "metadata": {},
   "outputs": [],
   "source": [
    "config_corruption = {\"num_epochs\": 10,\n",
    "         \"kfolds\": 10,\n",
    "         \"replacement_threshold\": 0.5,\n",
    "         \"nn_layers\": 3,\n",
    "         \"batch_size\": 128,\n",
    "          \"lr\": 0.001, \n",
    "          \"weight_decay\": 0.1\n",
    "         }"
   ]
  },
  {
   "cell_type": "code",
   "execution_count": 5,
   "metadata": {
    "scrolled": true
   },
   "outputs": [
    {
     "name": "stderr",
     "output_type": "stream",
     "text": [
      "2021-02-19 17:06:33,723\tINFO resource_spec.py:212 -- Starting Ray with 9.18 GiB memory available for workers and up to 4.59 GiB for objects. You can adjust these settings with ray.init(memory=<bytes>, object_store_memory=<bytes>).\n",
      "2021-02-19 17:06:33,727\tINFO resource_spec.py:212 -- Starting Ray with 9.18 GiB memory available for workers and up to 4.59 GiB for objects. You can adjust these settings with ray.init(memory=<bytes>, object_store_memory=<bytes>).\n",
      "2021-02-19 17:06:33,728\tINFO resource_spec.py:212 -- Starting Ray with 9.18 GiB memory available for workers and up to 4.59 GiB for objects. You can adjust these settings with ray.init(memory=<bytes>, object_store_memory=<bytes>).\n"
     ]
    },
    {
     "name": "stdout",
     "output_type": "stream",
     "text": [
      "9574\n",
      "config[\"replacement_threshold\"] 0.5\n"
     ]
    },
    {
     "data": {
      "text/html": [
       "== Status ==<br>Memory usage on this node: 18.2/32.0 GiB<br>Using FIFO scheduling algorithm.<br>Resources requested: 10/12 CPUs, 0/0 GPUs, 0.0/9.18 GiB heap, 0.0/3.12 GiB objects<br>Result logdir: /Users/natasha/Desktop/TUNE_RESULT_DIR/17_02_2021_40mods<br>Number of trials: 1 (1 RUNNING)<br><table>\n",
       "<thead>\n",
       "<tr><th>Trial name       </th><th>status  </th><th>loc  </th></tr>\n",
       "</thead>\n",
       "<tbody>\n",
       "<tr><td>train_AE_ba455998</td><td>RUNNING </td><td>     </td></tr>\n",
       "</tbody>\n",
       "</table><br><br>"
      ],
      "text/plain": [
       "<IPython.core.display.HTML object>"
      ]
     },
     "metadata": {},
     "output_type": "display_data"
    },
    {
     "name": "stderr",
     "output_type": "stream",
     "text": [
      "2021-02-19 17:06:47,222\tINFO resource_spec.py:212 -- Starting Ray with 9.18 GiB memory available for workers and up to 4.61 GiB for objects. You can adjust these settings with ray.init(memory=<bytes>, object_store_memory=<bytes>).\n"
     ]
    },
    {
     "name": "stdout",
     "output_type": "stream",
     "text": [
      "Result for train_AE_ba455998:\n",
      "  date: 2021-02-19_17-06-47\n",
      "  done: false\n",
      "  experiment_id: 69b3fbd9f9144deca47ded7ddb48fff7\n",
      "  experiment_tag: '0'\n",
      "  hostname: natashas-MacBook-Pro.local\n",
      "  iterations_since_restore: 1\n",
      "  node_ip: 192.168.68.106\n",
      "  pid: 32472\n",
      "  test_f1: 0.4175658771214026\n",
      "  test_loss: tensor(5901444.)\n",
      "  time_since_restore: 13.386452913284302\n",
      "  time_this_iter_s: 13.386452913284302\n",
      "  time_total_s: 13.386452913284302\n",
      "  timestamp: 1613772407\n",
      "  timesteps_since_restore: 0\n",
      "  train_f1: 0.26044937117725253\n",
      "  train_loss: 862428.0625\n",
      "  training_iteration: 1\n",
      "  trial_id: ba455998\n",
      "  \n"
     ]
    },
    {
     "data": {
      "text/html": [
       "== Status ==<br>Memory usage on this node: 18.2/32.0 GiB<br>Using FIFO scheduling algorithm.<br>Resources requested: 10/12 CPUs, 0/0 GPUs, 0.0/9.18 GiB heap, 0.0/3.17 GiB objects<br>Result logdir: /Users/natasha/Desktop/TUNE_RESULT_DIR/17_02_2021_40mods<br>Number of trials: 1 (1 RUNNING)<br><table>\n",
       "<thead>\n",
       "<tr><th>Trial name       </th><th>status  </th><th>loc                 </th><th style=\"text-align: right;\">  total time (s)</th><th style=\"text-align: right;\">  iter</th></tr>\n",
       "</thead>\n",
       "<tbody>\n",
       "<tr><td>train_AE_ba455998</td><td>RUNNING </td><td>192.168.68.106:32472</td><td style=\"text-align: right;\">         13.3865</td><td style=\"text-align: right;\">     1</td></tr>\n",
       "</tbody>\n",
       "</table><br><br>"
      ],
      "text/plain": [
       "<IPython.core.display.HTML object>"
      ]
     },
     "metadata": {},
     "output_type": "display_data"
    },
    {
     "name": "stderr",
     "output_type": "stream",
     "text": [
      "2021-02-19 17:07:13,514\tINFO resource_spec.py:212 -- Starting Ray with 9.23 GiB memory available for workers and up to 4.62 GiB for objects. You can adjust these settings with ray.init(memory=<bytes>, object_store_memory=<bytes>).\n"
     ]
    },
    {
     "name": "stdout",
     "output_type": "stream",
     "text": [
      "Result for train_AE_ba455998:\n",
      "  date: 2021-02-19_17-07-13\n",
      "  done: false\n",
      "  experiment_id: 69b3fbd9f9144deca47ded7ddb48fff7\n",
      "  experiment_tag: '0'\n",
      "  hostname: natashas-MacBook-Pro.local\n",
      "  iterations_since_restore: 2\n",
      "  node_ip: 192.168.68.106\n",
      "  pid: 32472\n",
      "  test_f1: 0.7821556022495828\n",
      "  test_loss: tensor(1646944.5000)\n",
      "  time_since_restore: 39.678390979766846\n",
      "  time_this_iter_s: 26.291938066482544\n",
      "  time_total_s: 39.678390979766846\n",
      "  timestamp: 1613772433\n",
      "  timesteps_since_restore: 0\n",
      "  train_f1: 0.7963656883571928\n",
      "  train_loss: 206039.71875\n",
      "  training_iteration: 2\n",
      "  trial_id: ba455998\n",
      "  \n"
     ]
    },
    {
     "name": "stderr",
     "output_type": "stream",
     "text": [
      "2021-02-19 17:07:39,386\tWARNING util.py:132 -- The `process_trial` operation took 25.871381282806396 seconds to complete, which may be a performance bottleneck.\n"
     ]
    },
    {
     "data": {
      "text/html": [
       "== Status ==<br>Memory usage on this node: 18.2/32.0 GiB<br>Using FIFO scheduling algorithm.<br>Resources requested: 10/12 CPUs, 0/0 GPUs, 0.0/9.23 GiB heap, 0.0/3.17 GiB objects<br>Result logdir: /Users/natasha/Desktop/TUNE_RESULT_DIR/17_02_2021_40mods<br>Number of trials: 1 (1 RUNNING)<br><table>\n",
       "<thead>\n",
       "<tr><th>Trial name       </th><th>status  </th><th>loc                 </th><th style=\"text-align: right;\">  total time (s)</th><th style=\"text-align: right;\">  iter</th></tr>\n",
       "</thead>\n",
       "<tbody>\n",
       "<tr><td>train_AE_ba455998</td><td>RUNNING </td><td>192.168.68.106:32472</td><td style=\"text-align: right;\">         39.6784</td><td style=\"text-align: right;\">     2</td></tr>\n",
       "</tbody>\n",
       "</table><br><br>"
      ],
      "text/plain": [
       "<IPython.core.display.HTML object>"
      ]
     },
     "metadata": {},
     "output_type": "display_data"
    },
    {
     "name": "stderr",
     "output_type": "stream",
     "text": [
      "2021-02-19 17:07:39,390\tINFO resource_spec.py:212 -- Starting Ray with 9.23 GiB memory available for workers and up to 4.62 GiB for objects. You can adjust these settings with ray.init(memory=<bytes>, object_store_memory=<bytes>).\n",
      "2021-02-19 17:07:39,391\tWARNING ray_trial_executor.py:361 -- Over the last 60 seconds, the Tune event loop has been backlogged processing new results. Consider increasing your period of result reporting to improve performance.\n"
     ]
    },
    {
     "name": "stdout",
     "output_type": "stream",
     "text": [
      "Result for train_AE_ba455998:\n",
      "  date: 2021-02-19_17-07-39\n",
      "  done: false\n",
      "  experiment_id: 69b3fbd9f9144deca47ded7ddb48fff7\n",
      "  experiment_tag: '0'\n",
      "  hostname: natashas-MacBook-Pro.local\n",
      "  iterations_since_restore: 3\n",
      "  node_ip: 192.168.68.106\n",
      "  pid: 32472\n",
      "  test_f1: 0.8187590374915448\n",
      "  test_loss: tensor(1431274.7500)\n",
      "  time_since_restore: 65.55283999443054\n",
      "  time_this_iter_s: 25.874449014663696\n",
      "  time_total_s: 65.55283999443054\n",
      "  timestamp: 1613772459\n",
      "  timesteps_since_restore: 0\n",
      "  train_f1: 0.8161399215348548\n",
      "  train_loss: 180292.8125\n",
      "  training_iteration: 3\n",
      "  trial_id: ba455998\n",
      "  \n"
     ]
    },
    {
     "name": "stderr",
     "output_type": "stream",
     "text": [
      "2021-02-19 17:08:05,836\tWARNING util.py:132 -- The `process_trial` operation took 26.444602012634277 seconds to complete, which may be a performance bottleneck.\n"
     ]
    },
    {
     "data": {
      "text/html": [
       "== Status ==<br>Memory usage on this node: 18.2/32.0 GiB<br>Using FIFO scheduling algorithm.<br>Resources requested: 10/12 CPUs, 0/0 GPUs, 0.0/9.23 GiB heap, 0.0/3.17 GiB objects<br>Result logdir: /Users/natasha/Desktop/TUNE_RESULT_DIR/17_02_2021_40mods<br>Number of trials: 1 (1 RUNNING)<br><table>\n",
       "<thead>\n",
       "<tr><th>Trial name       </th><th>status  </th><th>loc                 </th><th style=\"text-align: right;\">  total time (s)</th><th style=\"text-align: right;\">  iter</th></tr>\n",
       "</thead>\n",
       "<tbody>\n",
       "<tr><td>train_AE_ba455998</td><td>RUNNING </td><td>192.168.68.106:32472</td><td style=\"text-align: right;\">         65.5528</td><td style=\"text-align: right;\">     3</td></tr>\n",
       "</tbody>\n",
       "</table><br><br>"
      ],
      "text/plain": [
       "<IPython.core.display.HTML object>"
      ]
     },
     "metadata": {},
     "output_type": "display_data"
    },
    {
     "name": "stderr",
     "output_type": "stream",
     "text": [
      "2021-02-19 17:08:05,840\tINFO resource_spec.py:212 -- Starting Ray with 9.18 GiB memory available for workers and up to 4.61 GiB for objects. You can adjust these settings with ray.init(memory=<bytes>, object_store_memory=<bytes>).\n"
     ]
    },
    {
     "name": "stdout",
     "output_type": "stream",
     "text": [
      "Result for train_AE_ba455998:\n",
      "  date: 2021-02-19_17-08-05\n",
      "  done: false\n",
      "  experiment_id: 69b3fbd9f9144deca47ded7ddb48fff7\n",
      "  experiment_tag: '0'\n",
      "  hostname: natashas-MacBook-Pro.local\n",
      "  iterations_since_restore: 4\n",
      "  node_ip: 192.168.68.106\n",
      "  pid: 32472\n",
      "  test_f1: 0.8358308929463275\n",
      "  test_loss: tensor(1302981.7500)\n",
      "  time_since_restore: 92.00297594070435\n",
      "  time_this_iter_s: 26.450135946273804\n",
      "  time_total_s: 92.00297594070435\n",
      "  timestamp: 1613772485\n",
      "  timesteps_since_restore: 0\n",
      "  train_f1: 0.8321076463060921\n",
      "  train_loss: 175634.953125\n",
      "  training_iteration: 4\n",
      "  trial_id: ba455998\n",
      "  \n"
     ]
    },
    {
     "name": "stderr",
     "output_type": "stream",
     "text": [
      "2021-02-19 17:08:31,844\tWARNING util.py:132 -- The `process_trial` operation took 26.002474546432495 seconds to complete, which may be a performance bottleneck.\n"
     ]
    },
    {
     "data": {
      "text/html": [
       "== Status ==<br>Memory usage on this node: 18.2/32.0 GiB<br>Using FIFO scheduling algorithm.<br>Resources requested: 10/12 CPUs, 0/0 GPUs, 0.0/9.18 GiB heap, 0.0/3.17 GiB objects<br>Result logdir: /Users/natasha/Desktop/TUNE_RESULT_DIR/17_02_2021_40mods<br>Number of trials: 1 (1 RUNNING)<br><table>\n",
       "<thead>\n",
       "<tr><th>Trial name       </th><th>status  </th><th>loc                 </th><th style=\"text-align: right;\">  total time (s)</th><th style=\"text-align: right;\">  iter</th></tr>\n",
       "</thead>\n",
       "<tbody>\n",
       "<tr><td>train_AE_ba455998</td><td>RUNNING </td><td>192.168.68.106:32472</td><td style=\"text-align: right;\">          92.003</td><td style=\"text-align: right;\">     4</td></tr>\n",
       "</tbody>\n",
       "</table><br><br>"
      ],
      "text/plain": [
       "<IPython.core.display.HTML object>"
      ]
     },
     "metadata": {},
     "output_type": "display_data"
    },
    {
     "name": "stderr",
     "output_type": "stream",
     "text": [
      "2021-02-19 17:08:31,848\tINFO resource_spec.py:212 -- Starting Ray with 9.23 GiB memory available for workers and up to 4.62 GiB for objects. You can adjust these settings with ray.init(memory=<bytes>, object_store_memory=<bytes>).\n"
     ]
    },
    {
     "name": "stdout",
     "output_type": "stream",
     "text": [
      "Result for train_AE_ba455998:\n",
      "  date: 2021-02-19_17-08-31\n",
      "  done: false\n",
      "  experiment_id: 69b3fbd9f9144deca47ded7ddb48fff7\n",
      "  experiment_tag: '0'\n",
      "  hostname: natashas-MacBook-Pro.local\n",
      "  iterations_since_restore: 5\n",
      "  node_ip: 192.168.68.106\n",
      "  pid: 32472\n",
      "  test_f1: 0.8476889968137343\n",
      "  test_loss: tensor(1221154.)\n",
      "  time_since_restore: 118.01060795783997\n",
      "  time_this_iter_s: 26.00763201713562\n",
      "  time_total_s: 118.01060795783997\n",
      "  timestamp: 1613772511\n",
      "  timesteps_since_restore: 0\n",
      "  train_f1: 0.8432223102844518\n",
      "  train_loss: 155898.484375\n",
      "  training_iteration: 5\n",
      "  trial_id: ba455998\n",
      "  \n"
     ]
    },
    {
     "name": "stderr",
     "output_type": "stream",
     "text": [
      "2021-02-19 17:08:57,952\tWARNING util.py:132 -- The `process_trial` operation took 26.102556943893433 seconds to complete, which may be a performance bottleneck.\n"
     ]
    },
    {
     "data": {
      "text/html": [
       "== Status ==<br>Memory usage on this node: 18.2/32.0 GiB<br>Using FIFO scheduling algorithm.<br>Resources requested: 10/12 CPUs, 0/0 GPUs, 0.0/9.23 GiB heap, 0.0/3.17 GiB objects<br>Result logdir: /Users/natasha/Desktop/TUNE_RESULT_DIR/17_02_2021_40mods<br>Number of trials: 1 (1 RUNNING)<br><table>\n",
       "<thead>\n",
       "<tr><th>Trial name       </th><th>status  </th><th>loc                 </th><th style=\"text-align: right;\">  total time (s)</th><th style=\"text-align: right;\">  iter</th></tr>\n",
       "</thead>\n",
       "<tbody>\n",
       "<tr><td>train_AE_ba455998</td><td>RUNNING </td><td>192.168.68.106:32472</td><td style=\"text-align: right;\">         118.011</td><td style=\"text-align: right;\">     5</td></tr>\n",
       "</tbody>\n",
       "</table><br><br>"
      ],
      "text/plain": [
       "<IPython.core.display.HTML object>"
      ]
     },
     "metadata": {},
     "output_type": "display_data"
    },
    {
     "name": "stderr",
     "output_type": "stream",
     "text": [
      "2021-02-19 17:08:57,955\tINFO resource_spec.py:212 -- Starting Ray with 9.18 GiB memory available for workers and up to 4.61 GiB for objects. You can adjust these settings with ray.init(memory=<bytes>, object_store_memory=<bytes>).\n",
      "2021-02-19 17:08:57,955\tWARNING ray_trial_executor.py:361 -- Over the last 60 seconds, the Tune event loop has been backlogged processing new results. Consider increasing your period of result reporting to improve performance.\n"
     ]
    },
    {
     "name": "stdout",
     "output_type": "stream",
     "text": [
      "Result for train_AE_ba455998:\n",
      "  date: 2021-02-19_17-08-57\n",
      "  done: false\n",
      "  experiment_id: 69b3fbd9f9144deca47ded7ddb48fff7\n",
      "  experiment_tag: '0'\n",
      "  hostname: natashas-MacBook-Pro.local\n",
      "  iterations_since_restore: 6\n",
      "  node_ip: 192.168.68.106\n",
      "  pid: 32472\n",
      "  test_f1: 0.8558133982835224\n",
      "  test_loss: tensor(1157569.7500)\n",
      "  time_since_restore: 144.1185450553894\n",
      "  time_this_iter_s: 26.10793709754944\n",
      "  time_total_s: 144.1185450553894\n",
      "  timestamp: 1613772537\n",
      "  timesteps_since_restore: 0\n",
      "  train_f1: 0.8621500568688778\n",
      "  train_loss: 141302.828125\n",
      "  training_iteration: 6\n",
      "  trial_id: ba455998\n",
      "  \n"
     ]
    },
    {
     "name": "stderr",
     "output_type": "stream",
     "text": [
      "2021-02-19 17:09:24,746\tWARNING util.py:132 -- The `process_trial` operation took 26.790091037750244 seconds to complete, which may be a performance bottleneck.\n"
     ]
    },
    {
     "data": {
      "text/html": [
       "== Status ==<br>Memory usage on this node: 18.2/32.0 GiB<br>Using FIFO scheduling algorithm.<br>Resources requested: 10/12 CPUs, 0/0 GPUs, 0.0/9.18 GiB heap, 0.0/3.17 GiB objects<br>Result logdir: /Users/natasha/Desktop/TUNE_RESULT_DIR/17_02_2021_40mods<br>Number of trials: 1 (1 RUNNING)<br><table>\n",
       "<thead>\n",
       "<tr><th>Trial name       </th><th>status  </th><th>loc                 </th><th style=\"text-align: right;\">  total time (s)</th><th style=\"text-align: right;\">  iter</th></tr>\n",
       "</thead>\n",
       "<tbody>\n",
       "<tr><td>train_AE_ba455998</td><td>RUNNING </td><td>192.168.68.106:32472</td><td style=\"text-align: right;\">         144.119</td><td style=\"text-align: right;\">     6</td></tr>\n",
       "</tbody>\n",
       "</table><br><br>"
      ],
      "text/plain": [
       "<IPython.core.display.HTML object>"
      ]
     },
     "metadata": {},
     "output_type": "display_data"
    },
    {
     "name": "stderr",
     "output_type": "stream",
     "text": [
      "2021-02-19 17:09:24,751\tINFO resource_spec.py:212 -- Starting Ray with 9.18 GiB memory available for workers and up to 4.61 GiB for objects. You can adjust these settings with ray.init(memory=<bytes>, object_store_memory=<bytes>).\n"
     ]
    },
    {
     "name": "stdout",
     "output_type": "stream",
     "text": [
      "Result for train_AE_ba455998:\n",
      "  date: 2021-02-19_17-09-24\n",
      "  done: false\n",
      "  experiment_id: 69b3fbd9f9144deca47ded7ddb48fff7\n",
      "  experiment_tag: '0'\n",
      "  hostname: natashas-MacBook-Pro.local\n",
      "  iterations_since_restore: 7\n",
      "  node_ip: 192.168.68.106\n",
      "  pid: 32472\n",
      "  test_f1: 0.8681149702932\n",
      "  test_loss: tensor(1088555.)\n",
      "  time_since_restore: 170.91316080093384\n",
      "  time_this_iter_s: 26.794615745544434\n",
      "  time_total_s: 170.91316080093384\n",
      "  timestamp: 1613772564\n",
      "  timesteps_since_restore: 0\n",
      "  train_f1: 0.865236120093664\n",
      "  train_loss: 143246.203125\n",
      "  training_iteration: 7\n",
      "  trial_id: ba455998\n",
      "  \n"
     ]
    },
    {
     "name": "stderr",
     "output_type": "stream",
     "text": [
      "2021-02-19 17:09:51,720\tWARNING util.py:132 -- The `process_trial` operation took 26.96825408935547 seconds to complete, which may be a performance bottleneck.\n"
     ]
    },
    {
     "data": {
      "text/html": [
       "== Status ==<br>Memory usage on this node: 18.2/32.0 GiB<br>Using FIFO scheduling algorithm.<br>Resources requested: 10/12 CPUs, 0/0 GPUs, 0.0/9.18 GiB heap, 0.0/3.17 GiB objects<br>Result logdir: /Users/natasha/Desktop/TUNE_RESULT_DIR/17_02_2021_40mods<br>Number of trials: 1 (1 RUNNING)<br><table>\n",
       "<thead>\n",
       "<tr><th>Trial name       </th><th>status  </th><th>loc                 </th><th style=\"text-align: right;\">  total time (s)</th><th style=\"text-align: right;\">  iter</th></tr>\n",
       "</thead>\n",
       "<tbody>\n",
       "<tr><td>train_AE_ba455998</td><td>RUNNING </td><td>192.168.68.106:32472</td><td style=\"text-align: right;\">         170.913</td><td style=\"text-align: right;\">     7</td></tr>\n",
       "</tbody>\n",
       "</table><br><br>"
      ],
      "text/plain": [
       "<IPython.core.display.HTML object>"
      ]
     },
     "metadata": {},
     "output_type": "display_data"
    },
    {
     "name": "stderr",
     "output_type": "stream",
     "text": [
      "2021-02-19 17:09:51,723\tINFO resource_spec.py:212 -- Starting Ray with 9.18 GiB memory available for workers and up to 4.61 GiB for objects. You can adjust these settings with ray.init(memory=<bytes>, object_store_memory=<bytes>).\n"
     ]
    },
    {
     "name": "stdout",
     "output_type": "stream",
     "text": [
      "Result for train_AE_ba455998:\n",
      "  date: 2021-02-19_17-09-51\n",
      "  done: false\n",
      "  experiment_id: 69b3fbd9f9144deca47ded7ddb48fff7\n",
      "  experiment_tag: '0'\n",
      "  hostname: natashas-MacBook-Pro.local\n",
      "  iterations_since_restore: 8\n",
      "  node_ip: 192.168.68.106\n",
      "  pid: 32472\n",
      "  test_f1: 0.8725472071329143\n",
      "  test_loss: tensor(1043815.8125)\n",
      "  time_since_restore: 197.88685607910156\n",
      "  time_this_iter_s: 26.973695278167725\n",
      "  time_total_s: 197.88685607910156\n",
      "  timestamp: 1613772591\n",
      "  timesteps_since_restore: 0\n",
      "  train_f1: 0.8685089030066463\n",
      "  train_loss: 137605.6875\n",
      "  training_iteration: 8\n",
      "  trial_id: ba455998\n",
      "  \n"
     ]
    },
    {
     "name": "stderr",
     "output_type": "stream",
     "text": [
      "2021-02-19 17:10:18,517\tWARNING util.py:132 -- The `process_trial` operation took 26.793988943099976 seconds to complete, which may be a performance bottleneck.\n"
     ]
    },
    {
     "data": {
      "text/html": [
       "== Status ==<br>Memory usage on this node: 18.2/32.0 GiB<br>Using FIFO scheduling algorithm.<br>Resources requested: 10/12 CPUs, 0/0 GPUs, 0.0/9.18 GiB heap, 0.0/3.17 GiB objects<br>Result logdir: /Users/natasha/Desktop/TUNE_RESULT_DIR/17_02_2021_40mods<br>Number of trials: 1 (1 RUNNING)<br><table>\n",
       "<thead>\n",
       "<tr><th>Trial name       </th><th>status  </th><th>loc                 </th><th style=\"text-align: right;\">  total time (s)</th><th style=\"text-align: right;\">  iter</th></tr>\n",
       "</thead>\n",
       "<tbody>\n",
       "<tr><td>train_AE_ba455998</td><td>RUNNING </td><td>192.168.68.106:32472</td><td style=\"text-align: right;\">         197.887</td><td style=\"text-align: right;\">     8</td></tr>\n",
       "</tbody>\n",
       "</table><br><br>"
      ],
      "text/plain": [
       "<IPython.core.display.HTML object>"
      ]
     },
     "metadata": {},
     "output_type": "display_data"
    },
    {
     "name": "stderr",
     "output_type": "stream",
     "text": [
      "2021-02-19 17:10:18,522\tINFO resource_spec.py:212 -- Starting Ray with 9.18 GiB memory available for workers and up to 4.61 GiB for objects. You can adjust these settings with ray.init(memory=<bytes>, object_store_memory=<bytes>).\n",
      "2021-02-19 17:10:18,523\tWARNING ray_trial_executor.py:361 -- Over the last 60 seconds, the Tune event loop has been backlogged processing new results. Consider increasing your period of result reporting to improve performance.\n"
     ]
    },
    {
     "name": "stdout",
     "output_type": "stream",
     "text": [
      "Result for train_AE_ba455998:\n",
      "  date: 2021-02-19_17-10-18\n",
      "  done: false\n",
      "  experiment_id: 69b3fbd9f9144deca47ded7ddb48fff7\n",
      "  experiment_tag: '0'\n",
      "  hostname: natashas-MacBook-Pro.local\n",
      "  iterations_since_restore: 9\n",
      "  node_ip: 192.168.68.106\n",
      "  pid: 32472\n",
      "  test_f1: 0.880125141381947\n",
      "  test_loss: tensor(995444.4375)\n",
      "  time_since_restore: 224.68451714515686\n",
      "  time_this_iter_s: 26.797661066055298\n",
      "  time_total_s: 224.68451714515686\n",
      "  timestamp: 1613772618\n",
      "  timesteps_since_restore: 0\n",
      "  train_f1: 0.8793845007092537\n",
      "  train_loss: 129684.390625\n",
      "  training_iteration: 9\n",
      "  trial_id: ba455998\n",
      "  \n"
     ]
    },
    {
     "name": "stderr",
     "output_type": "stream",
     "text": [
      "2021-02-19 17:10:45,665\tWARNING util.py:132 -- The `process_trial` operation took 27.14179301261902 seconds to complete, which may be a performance bottleneck.\n"
     ]
    },
    {
     "data": {
      "text/html": [
       "== Status ==<br>Memory usage on this node: 18.2/32.0 GiB<br>Using FIFO scheduling algorithm.<br>Resources requested: 10/12 CPUs, 0/0 GPUs, 0.0/9.18 GiB heap, 0.0/3.17 GiB objects<br>Result logdir: /Users/natasha/Desktop/TUNE_RESULT_DIR/17_02_2021_40mods<br>Number of trials: 1 (1 RUNNING)<br><table>\n",
       "<thead>\n",
       "<tr><th>Trial name       </th><th>status  </th><th>loc                 </th><th style=\"text-align: right;\">  total time (s)</th><th style=\"text-align: right;\">  iter</th></tr>\n",
       "</thead>\n",
       "<tbody>\n",
       "<tr><td>train_AE_ba455998</td><td>RUNNING </td><td>192.168.68.106:32472</td><td style=\"text-align: right;\">         224.685</td><td style=\"text-align: right;\">     9</td></tr>\n",
       "</tbody>\n",
       "</table><br><br>"
      ],
      "text/plain": [
       "<IPython.core.display.HTML object>"
      ]
     },
     "metadata": {},
     "output_type": "display_data"
    },
    {
     "name": "stderr",
     "output_type": "stream",
     "text": [
      "2021-02-19 17:10:45,668\tINFO resource_spec.py:212 -- Starting Ray with 9.18 GiB memory available for workers and up to 4.61 GiB for objects. You can adjust these settings with ray.init(memory=<bytes>, object_store_memory=<bytes>).\n"
     ]
    },
    {
     "name": "stdout",
     "output_type": "stream",
     "text": [
      "Result for train_AE_ba455998:\n",
      "  date: 2021-02-19_17-10-45\n",
      "  done: false\n",
      "  experiment_id: 69b3fbd9f9144deca47ded7ddb48fff7\n",
      "  experiment_tag: '0'\n",
      "  hostname: natashas-MacBook-Pro.local\n",
      "  iterations_since_restore: 10\n",
      "  node_ip: 192.168.68.106\n",
      "  pid: 32472\n",
      "  test_f1: 0.8855452407778627\n",
      "  test_loss: tensor(965832.1250)\n",
      "  time_since_restore: 251.83229303359985\n",
      "  time_this_iter_s: 27.147775888442993\n",
      "  time_total_s: 251.83229303359985\n",
      "  timestamp: 1613772645\n",
      "  timesteps_since_restore: 0\n",
      "  train_f1: 0.8826378587923103\n",
      "  train_loss: 125160.3671875\n",
      "  training_iteration: 10\n",
      "  trial_id: ba455998\n",
      "  \n"
     ]
    },
    {
     "name": "stderr",
     "output_type": "stream",
     "text": [
      "2021-02-19 17:11:12,657\tWARNING util.py:132 -- The `process_trial` operation took 26.988362073898315 seconds to complete, which may be a performance bottleneck.\n"
     ]
    },
    {
     "data": {
      "text/html": [
       "== Status ==<br>Memory usage on this node: 18.2/32.0 GiB<br>Using FIFO scheduling algorithm.<br>Resources requested: 10/12 CPUs, 0/0 GPUs, 0.0/9.18 GiB heap, 0.0/3.17 GiB objects<br>Result logdir: /Users/natasha/Desktop/TUNE_RESULT_DIR/17_02_2021_40mods<br>Number of trials: 1 (1 RUNNING)<br><table>\n",
       "<thead>\n",
       "<tr><th>Trial name       </th><th>status  </th><th>loc                 </th><th style=\"text-align: right;\">  total time (s)</th><th style=\"text-align: right;\">  iter</th></tr>\n",
       "</thead>\n",
       "<tbody>\n",
       "<tr><td>train_AE_ba455998</td><td>RUNNING </td><td>192.168.68.106:32472</td><td style=\"text-align: right;\">         251.832</td><td style=\"text-align: right;\">    10</td></tr>\n",
       "</tbody>\n",
       "</table><br><br>"
      ],
      "text/plain": [
       "<IPython.core.display.HTML object>"
      ]
     },
     "metadata": {},
     "output_type": "display_data"
    },
    {
     "name": "stderr",
     "output_type": "stream",
     "text": [
      "2021-02-19 17:11:12,662\tINFO resource_spec.py:212 -- Starting Ray with 9.18 GiB memory available for workers and up to 4.6 GiB for objects. You can adjust these settings with ray.init(memory=<bytes>, object_store_memory=<bytes>).\n"
     ]
    },
    {
     "name": "stdout",
     "output_type": "stream",
     "text": [
      "Result for train_AE_ba455998:\n",
      "  date: 2021-02-19_17-11-12\n",
      "  done: false\n",
      "  experiment_id: 69b3fbd9f9144deca47ded7ddb48fff7\n",
      "  experiment_tag: '0'\n",
      "  hostname: natashas-MacBook-Pro.local\n",
      "  iterations_since_restore: 11\n",
      "  node_ip: 192.168.68.106\n",
      "  pid: 32472\n",
      "  test_f1: 0.8905257107520499\n",
      "  test_loss: tensor(739300.8125)\n",
      "  time_since_restore: 278.8244569301605\n",
      "  time_this_iter_s: 26.99216389656067\n",
      "  time_total_s: 278.8244569301605\n",
      "  timestamp: 1613772672\n",
      "  timesteps_since_restore: 0\n",
      "  train_f1: 0.8941114717950291\n",
      "  train_loss: 117964.25\n",
      "  training_iteration: 11\n",
      "  trial_id: ba455998\n",
      "  \n"
     ]
    },
    {
     "name": "stderr",
     "output_type": "stream",
     "text": [
      "2021-02-19 17:11:38,406\tWARNING util.py:132 -- The `process_trial` operation took 25.743451833724976 seconds to complete, which may be a performance bottleneck.\n"
     ]
    },
    {
     "data": {
      "text/html": [
       "== Status ==<br>Memory usage on this node: 18.2/32.0 GiB<br>Using FIFO scheduling algorithm.<br>Resources requested: 10/12 CPUs, 0/0 GPUs, 0.0/9.18 GiB heap, 0.0/3.17 GiB objects<br>Result logdir: /Users/natasha/Desktop/TUNE_RESULT_DIR/17_02_2021_40mods<br>Number of trials: 1 (1 RUNNING)<br><table>\n",
       "<thead>\n",
       "<tr><th>Trial name       </th><th>status  </th><th>loc                 </th><th style=\"text-align: right;\">  total time (s)</th><th style=\"text-align: right;\">  iter</th></tr>\n",
       "</thead>\n",
       "<tbody>\n",
       "<tr><td>train_AE_ba455998</td><td>RUNNING </td><td>192.168.68.106:32472</td><td style=\"text-align: right;\">         278.824</td><td style=\"text-align: right;\">    11</td></tr>\n",
       "</tbody>\n",
       "</table><br><br>"
      ],
      "text/plain": [
       "<IPython.core.display.HTML object>"
      ]
     },
     "metadata": {},
     "output_type": "display_data"
    },
    {
     "name": "stderr",
     "output_type": "stream",
     "text": [
      "2021-02-19 17:11:38,410\tINFO resource_spec.py:212 -- Starting Ray with 9.18 GiB memory available for workers and up to 4.61 GiB for objects. You can adjust these settings with ray.init(memory=<bytes>, object_store_memory=<bytes>).\n",
      "2021-02-19 17:11:38,411\tWARNING ray_trial_executor.py:361 -- Over the last 60 seconds, the Tune event loop has been backlogged processing new results. Consider increasing your period of result reporting to improve performance.\n"
     ]
    },
    {
     "name": "stdout",
     "output_type": "stream",
     "text": [
      "Result for train_AE_ba455998:\n",
      "  date: 2021-02-19_17-11-38\n",
      "  done: false\n",
      "  experiment_id: 69b3fbd9f9144deca47ded7ddb48fff7\n",
      "  experiment_tag: '0'\n",
      "  hostname: natashas-MacBook-Pro.local\n",
      "  iterations_since_restore: 12\n",
      "  node_ip: 192.168.68.106\n",
      "  pid: 32472\n",
      "  test_f1: 0.8946814230480032\n",
      "  test_loss: tensor(884030.8125)\n",
      "  time_since_restore: 304.5730719566345\n",
      "  time_this_iter_s: 25.748615026474\n",
      "  time_total_s: 304.5730719566345\n",
      "  timestamp: 1613772698\n",
      "  timesteps_since_restore: 0\n",
      "  train_f1: 0.8980633471407997\n",
      "  train_loss: 112338.828125\n",
      "  training_iteration: 12\n",
      "  trial_id: ba455998\n",
      "  \n"
     ]
    },
    {
     "name": "stderr",
     "output_type": "stream",
     "text": [
      "2021-02-19 17:11:45,376\tWARNING util.py:132 -- The `process_trial` operation took 6.964585781097412 seconds to complete, which may be a performance bottleneck.\n"
     ]
    },
    {
     "data": {
      "text/html": [
       "== Status ==<br>Memory usage on this node: 18.2/32.0 GiB<br>Using FIFO scheduling algorithm.<br>Resources requested: 10/12 CPUs, 0/0 GPUs, 0.0/9.18 GiB heap, 0.0/3.17 GiB objects<br>Result logdir: /Users/natasha/Desktop/TUNE_RESULT_DIR/17_02_2021_40mods<br>Number of trials: 1 (1 RUNNING)<br><table>\n",
       "<thead>\n",
       "<tr><th>Trial name       </th><th>status  </th><th>loc                 </th><th style=\"text-align: right;\">  total time (s)</th><th style=\"text-align: right;\">  iter</th></tr>\n",
       "</thead>\n",
       "<tbody>\n",
       "<tr><td>train_AE_ba455998</td><td>RUNNING </td><td>192.168.68.106:32472</td><td style=\"text-align: right;\">         304.573</td><td style=\"text-align: right;\">    12</td></tr>\n",
       "</tbody>\n",
       "</table><br><br>"
      ],
      "text/plain": [
       "<IPython.core.display.HTML object>"
      ]
     },
     "metadata": {},
     "output_type": "display_data"
    },
    {
     "name": "stderr",
     "output_type": "stream",
     "text": [
      "2021-02-19 17:11:45,378\tINFO resource_spec.py:212 -- Starting Ray with 9.18 GiB memory available for workers and up to 4.61 GiB for objects. You can adjust these settings with ray.init(memory=<bytes>, object_store_memory=<bytes>).\n"
     ]
    },
    {
     "name": "stdout",
     "output_type": "stream",
     "text": [
      "Result for train_AE_ba455998:\n",
      "  date: 2021-02-19_17-11-45\n",
      "  done: false\n",
      "  experiment_id: 69b3fbd9f9144deca47ded7ddb48fff7\n",
      "  experiment_tag: '0'\n",
      "  hostname: natashas-MacBook-Pro.local\n",
      "  iterations_since_restore: 13\n",
      "  node_ip: 192.168.68.106\n",
      "  pid: 32472\n",
      "  test_f1: 0.8953844936608972\n",
      "  test_loss: tensor(892361.0625)\n",
      "  time_since_restore: 311.54308009147644\n",
      "  time_this_iter_s: 6.970008134841919\n",
      "  time_total_s: 311.54308009147644\n",
      "  timestamp: 1613772705\n",
      "  timesteps_since_restore: 0\n",
      "  train_f1: 0.8919992014814206\n",
      "  train_loss: 116262.390625\n",
      "  training_iteration: 13\n",
      "  trial_id: ba455998\n",
      "  \n"
     ]
    },
    {
     "name": "stderr",
     "output_type": "stream",
     "text": [
      "2021-02-19 17:12:11,194\tWARNING util.py:132 -- The `process_trial` operation took 25.815047025680542 seconds to complete, which may be a performance bottleneck.\n"
     ]
    },
    {
     "data": {
      "text/html": [
       "== Status ==<br>Memory usage on this node: 18.2/32.0 GiB<br>Using FIFO scheduling algorithm.<br>Resources requested: 10/12 CPUs, 0/0 GPUs, 0.0/9.18 GiB heap, 0.0/3.17 GiB objects<br>Result logdir: /Users/natasha/Desktop/TUNE_RESULT_DIR/17_02_2021_40mods<br>Number of trials: 1 (1 RUNNING)<br><table>\n",
       "<thead>\n",
       "<tr><th>Trial name       </th><th>status  </th><th>loc                 </th><th style=\"text-align: right;\">  total time (s)</th><th style=\"text-align: right;\">  iter</th></tr>\n",
       "</thead>\n",
       "<tbody>\n",
       "<tr><td>train_AE_ba455998</td><td>RUNNING </td><td>192.168.68.106:32472</td><td style=\"text-align: right;\">         311.543</td><td style=\"text-align: right;\">    13</td></tr>\n",
       "</tbody>\n",
       "</table><br><br>"
      ],
      "text/plain": [
       "<IPython.core.display.HTML object>"
      ]
     },
     "metadata": {},
     "output_type": "display_data"
    },
    {
     "name": "stderr",
     "output_type": "stream",
     "text": [
      "2021-02-19 17:12:11,200\tINFO resource_spec.py:212 -- Starting Ray with 9.18 GiB memory available for workers and up to 4.61 GiB for objects. You can adjust these settings with ray.init(memory=<bytes>, object_store_memory=<bytes>).\n"
     ]
    },
    {
     "name": "stdout",
     "output_type": "stream",
     "text": [
      "Result for train_AE_ba455998:\n",
      "  date: 2021-02-19_17-12-11\n",
      "  done: false\n",
      "  experiment_id: 69b3fbd9f9144deca47ded7ddb48fff7\n",
      "  experiment_tag: '0'\n",
      "  hostname: natashas-MacBook-Pro.local\n",
      "  iterations_since_restore: 14\n",
      "  node_ip: 192.168.68.106\n",
      "  pid: 32472\n",
      "  test_f1: 0.899283123281731\n",
      "  test_loss: tensor(857837.2500)\n",
      "  time_since_restore: 337.3610751628876\n",
      "  time_this_iter_s: 25.817995071411133\n",
      "  time_total_s: 337.3610751628876\n",
      "  timestamp: 1613772731\n",
      "  timesteps_since_restore: 0\n",
      "  train_f1: 0.8962350099037318\n",
      "  train_loss: 110122.8984375\n",
      "  training_iteration: 14\n",
      "  trial_id: ba455998\n",
      "  \n"
     ]
    },
    {
     "name": "stderr",
     "output_type": "stream",
     "text": [
      "2021-02-19 17:12:37,426\tWARNING util.py:132 -- The `process_trial` operation took 26.225517749786377 seconds to complete, which may be a performance bottleneck.\n"
     ]
    },
    {
     "data": {
      "text/html": [
       "== Status ==<br>Memory usage on this node: 18.2/32.0 GiB<br>Using FIFO scheduling algorithm.<br>Resources requested: 10/12 CPUs, 0/0 GPUs, 0.0/9.18 GiB heap, 0.0/3.17 GiB objects<br>Result logdir: /Users/natasha/Desktop/TUNE_RESULT_DIR/17_02_2021_40mods<br>Number of trials: 1 (1 RUNNING)<br><table>\n",
       "<thead>\n",
       "<tr><th>Trial name       </th><th>status  </th><th>loc                 </th><th style=\"text-align: right;\">  total time (s)</th><th style=\"text-align: right;\">  iter</th></tr>\n",
       "</thead>\n",
       "<tbody>\n",
       "<tr><td>train_AE_ba455998</td><td>RUNNING </td><td>192.168.68.106:32472</td><td style=\"text-align: right;\">         337.361</td><td style=\"text-align: right;\">    14</td></tr>\n",
       "</tbody>\n",
       "</table><br><br>"
      ],
      "text/plain": [
       "<IPython.core.display.HTML object>"
      ]
     },
     "metadata": {},
     "output_type": "display_data"
    },
    {
     "name": "stderr",
     "output_type": "stream",
     "text": [
      "2021-02-19 17:12:37,430\tINFO resource_spec.py:212 -- Starting Ray with 9.18 GiB memory available for workers and up to 4.61 GiB for objects. You can adjust these settings with ray.init(memory=<bytes>, object_store_memory=<bytes>).\n"
     ]
    },
    {
     "name": "stdout",
     "output_type": "stream",
     "text": [
      "Result for train_AE_ba455998:\n",
      "  date: 2021-02-19_17-12-37\n",
      "  done: false\n",
      "  experiment_id: 69b3fbd9f9144deca47ded7ddb48fff7\n",
      "  experiment_tag: '0'\n",
      "  hostname: natashas-MacBook-Pro.local\n",
      "  iterations_since_restore: 15\n",
      "  node_ip: 192.168.68.106\n",
      "  pid: 32472\n",
      "  test_f1: 0.902620365529133\n",
      "  test_loss: tensor(682101.1875)\n",
      "  time_since_restore: 363.5925328731537\n",
      "  time_this_iter_s: 26.231457710266113\n",
      "  time_total_s: 363.5925328731537\n",
      "  timestamp: 1613772757\n",
      "  timesteps_since_restore: 0\n",
      "  train_f1: 0.9069316554529961\n",
      "  train_loss: 101729.84375\n",
      "  training_iteration: 15\n",
      "  trial_id: ba455998\n",
      "  \n"
     ]
    },
    {
     "name": "stderr",
     "output_type": "stream",
     "text": [
      "2021-02-19 17:13:04,600\tWARNING util.py:132 -- The `process_trial` operation took 27.169312953948975 seconds to complete, which may be a performance bottleneck.\n"
     ]
    },
    {
     "data": {
      "text/html": [
       "== Status ==<br>Memory usage on this node: 18.2/32.0 GiB<br>Using FIFO scheduling algorithm.<br>Resources requested: 10/12 CPUs, 0/0 GPUs, 0.0/9.18 GiB heap, 0.0/3.17 GiB objects<br>Result logdir: /Users/natasha/Desktop/TUNE_RESULT_DIR/17_02_2021_40mods<br>Number of trials: 1 (1 RUNNING)<br><table>\n",
       "<thead>\n",
       "<tr><th>Trial name       </th><th>status  </th><th>loc                 </th><th style=\"text-align: right;\">  total time (s)</th><th style=\"text-align: right;\">  iter</th></tr>\n",
       "</thead>\n",
       "<tbody>\n",
       "<tr><td>train_AE_ba455998</td><td>RUNNING </td><td>192.168.68.106:32472</td><td style=\"text-align: right;\">         363.593</td><td style=\"text-align: right;\">    15</td></tr>\n",
       "</tbody>\n",
       "</table><br><br>"
      ],
      "text/plain": [
       "<IPython.core.display.HTML object>"
      ]
     },
     "metadata": {},
     "output_type": "display_data"
    },
    {
     "name": "stderr",
     "output_type": "stream",
     "text": [
      "2021-02-19 17:13:04,604\tINFO resource_spec.py:212 -- Starting Ray with 9.18 GiB memory available for workers and up to 4.61 GiB for objects. You can adjust these settings with ray.init(memory=<bytes>, object_store_memory=<bytes>).\n",
      "2021-02-19 17:13:04,605\tWARNING ray_trial_executor.py:361 -- Over the last 60 seconds, the Tune event loop has been backlogged processing new results. Consider increasing your period of result reporting to improve performance.\n"
     ]
    },
    {
     "name": "stdout",
     "output_type": "stream",
     "text": [
      "Result for train_AE_ba455998:\n",
      "  date: 2021-02-19_17-13-04\n",
      "  done: false\n",
      "  experiment_id: 69b3fbd9f9144deca47ded7ddb48fff7\n",
      "  experiment_tag: '0'\n",
      "  hostname: natashas-MacBook-Pro.local\n",
      "  iterations_since_restore: 16\n",
      "  node_ip: 192.168.68.106\n",
      "  pid: 32472\n",
      "  test_f1: 0.9056587493368656\n",
      "  test_loss: tensor(813882.5000)\n",
      "  time_since_restore: 390.76667404174805\n",
      "  time_this_iter_s: 27.17414116859436\n",
      "  time_total_s: 390.76667404174805\n",
      "  timestamp: 1613772784\n",
      "  timesteps_since_restore: 0\n",
      "  train_f1: 0.907644971223039\n",
      "  train_loss: 102484.9296875\n",
      "  training_iteration: 16\n",
      "  trial_id: ba455998\n",
      "  \n"
     ]
    },
    {
     "name": "stderr",
     "output_type": "stream",
     "text": [
      "2021-02-19 17:13:31,544\tWARNING util.py:132 -- The `process_trial` operation took 26.938361167907715 seconds to complete, which may be a performance bottleneck.\n"
     ]
    },
    {
     "data": {
      "text/html": [
       "== Status ==<br>Memory usage on this node: 18.1/32.0 GiB<br>Using FIFO scheduling algorithm.<br>Resources requested: 10/12 CPUs, 0/0 GPUs, 0.0/9.18 GiB heap, 0.0/3.17 GiB objects<br>Result logdir: /Users/natasha/Desktop/TUNE_RESULT_DIR/17_02_2021_40mods<br>Number of trials: 1 (1 RUNNING)<br><table>\n",
       "<thead>\n",
       "<tr><th>Trial name       </th><th>status  </th><th>loc                 </th><th style=\"text-align: right;\">  total time (s)</th><th style=\"text-align: right;\">  iter</th></tr>\n",
       "</thead>\n",
       "<tbody>\n",
       "<tr><td>train_AE_ba455998</td><td>RUNNING </td><td>192.168.68.106:32472</td><td style=\"text-align: right;\">         390.767</td><td style=\"text-align: right;\">    16</td></tr>\n",
       "</tbody>\n",
       "</table><br><br>"
      ],
      "text/plain": [
       "<IPython.core.display.HTML object>"
      ]
     },
     "metadata": {},
     "output_type": "display_data"
    },
    {
     "name": "stderr",
     "output_type": "stream",
     "text": [
      "2021-02-19 17:13:31,549\tINFO resource_spec.py:212 -- Starting Ray with 9.18 GiB memory available for workers and up to 4.61 GiB for objects. You can adjust these settings with ray.init(memory=<bytes>, object_store_memory=<bytes>).\n"
     ]
    },
    {
     "name": "stdout",
     "output_type": "stream",
     "text": [
      "Result for train_AE_ba455998:\n",
      "  date: 2021-02-19_17-13-31\n",
      "  done: false\n",
      "  experiment_id: 69b3fbd9f9144deca47ded7ddb48fff7\n",
      "  experiment_tag: '0'\n",
      "  hostname: natashas-MacBook-Pro.local\n",
      "  iterations_since_restore: 17\n",
      "  node_ip: 192.168.68.106\n",
      "  pid: 32472\n",
      "  test_f1: 0.9091803783347803\n",
      "  test_loss: tensor(790441.2500)\n",
      "  time_since_restore: 417.710746049881\n",
      "  time_this_iter_s: 26.944072008132935\n",
      "  time_total_s: 417.710746049881\n",
      "  timestamp: 1613772811\n",
      "  timesteps_since_restore: 0\n",
      "  train_f1: 0.9107596265913588\n",
      "  train_loss: 100374.453125\n",
      "  training_iteration: 17\n",
      "  trial_id: ba455998\n",
      "  \n"
     ]
    },
    {
     "name": "stderr",
     "output_type": "stream",
     "text": [
      "2021-02-19 17:13:58,257\tWARNING util.py:132 -- The `process_trial` operation took 26.707414865493774 seconds to complete, which may be a performance bottleneck.\n"
     ]
    },
    {
     "data": {
      "text/html": [
       "== Status ==<br>Memory usage on this node: 18.2/32.0 GiB<br>Using FIFO scheduling algorithm.<br>Resources requested: 10/12 CPUs, 0/0 GPUs, 0.0/9.18 GiB heap, 0.0/3.17 GiB objects<br>Result logdir: /Users/natasha/Desktop/TUNE_RESULT_DIR/17_02_2021_40mods<br>Number of trials: 1 (1 RUNNING)<br><table>\n",
       "<thead>\n",
       "<tr><th>Trial name       </th><th>status  </th><th>loc                 </th><th style=\"text-align: right;\">  total time (s)</th><th style=\"text-align: right;\">  iter</th></tr>\n",
       "</thead>\n",
       "<tbody>\n",
       "<tr><td>train_AE_ba455998</td><td>RUNNING </td><td>192.168.68.106:32472</td><td style=\"text-align: right;\">         417.711</td><td style=\"text-align: right;\">    17</td></tr>\n",
       "</tbody>\n",
       "</table><br><br>"
      ],
      "text/plain": [
       "<IPython.core.display.HTML object>"
      ]
     },
     "metadata": {},
     "output_type": "display_data"
    },
    {
     "name": "stderr",
     "output_type": "stream",
     "text": [
      "2021-02-19 17:13:58,263\tINFO resource_spec.py:212 -- Starting Ray with 9.18 GiB memory available for workers and up to 4.6 GiB for objects. You can adjust these settings with ray.init(memory=<bytes>, object_store_memory=<bytes>).\n"
     ]
    },
    {
     "name": "stdout",
     "output_type": "stream",
     "text": [
      "Result for train_AE_ba455998:\n",
      "  date: 2021-02-19_17-13-58\n",
      "  done: false\n",
      "  experiment_id: 69b3fbd9f9144deca47ded7ddb48fff7\n",
      "  experiment_tag: '0'\n",
      "  hostname: natashas-MacBook-Pro.local\n",
      "  iterations_since_restore: 18\n",
      "  node_ip: 192.168.68.106\n",
      "  pid: 32472\n",
      "  test_f1: 0.9130957115640338\n",
      "  test_loss: tensor(767893.2500)\n",
      "  time_since_restore: 444.424516916275\n",
      "  time_this_iter_s: 26.713770866394043\n",
      "  time_total_s: 444.424516916275\n",
      "  timestamp: 1613772838\n",
      "  timesteps_since_restore: 0\n",
      "  train_f1: 0.9220754825926821\n",
      "  train_loss: 88119.0703125\n",
      "  training_iteration: 18\n",
      "  trial_id: ba455998\n",
      "  \n"
     ]
    },
    {
     "name": "stderr",
     "output_type": "stream",
     "text": [
      "2021-02-19 17:14:25,125\tWARNING util.py:132 -- The `process_trial` operation took 26.861846923828125 seconds to complete, which may be a performance bottleneck.\n"
     ]
    },
    {
     "data": {
      "text/html": [
       "== Status ==<br>Memory usage on this node: 18.2/32.0 GiB<br>Using FIFO scheduling algorithm.<br>Resources requested: 10/12 CPUs, 0/0 GPUs, 0.0/9.18 GiB heap, 0.0/3.17 GiB objects<br>Result logdir: /Users/natasha/Desktop/TUNE_RESULT_DIR/17_02_2021_40mods<br>Number of trials: 1 (1 RUNNING)<br><table>\n",
       "<thead>\n",
       "<tr><th>Trial name       </th><th>status  </th><th>loc                 </th><th style=\"text-align: right;\">  total time (s)</th><th style=\"text-align: right;\">  iter</th></tr>\n",
       "</thead>\n",
       "<tbody>\n",
       "<tr><td>train_AE_ba455998</td><td>RUNNING </td><td>192.168.68.106:32472</td><td style=\"text-align: right;\">         444.425</td><td style=\"text-align: right;\">    18</td></tr>\n",
       "</tbody>\n",
       "</table><br><br>"
      ],
      "text/plain": [
       "<IPython.core.display.HTML object>"
      ]
     },
     "metadata": {},
     "output_type": "display_data"
    },
    {
     "name": "stderr",
     "output_type": "stream",
     "text": [
      "2021-02-19 17:14:25,128\tINFO resource_spec.py:212 -- Starting Ray with 9.18 GiB memory available for workers and up to 4.6 GiB for objects. You can adjust these settings with ray.init(memory=<bytes>, object_store_memory=<bytes>).\n",
      "2021-02-19 17:14:25,129\tWARNING ray_trial_executor.py:361 -- Over the last 60 seconds, the Tune event loop has been backlogged processing new results. Consider increasing your period of result reporting to improve performance.\n"
     ]
    },
    {
     "name": "stdout",
     "output_type": "stream",
     "text": [
      "Result for train_AE_ba455998:\n",
      "  date: 2021-02-19_17-14-25\n",
      "  done: false\n",
      "  experiment_id: 69b3fbd9f9144deca47ded7ddb48fff7\n",
      "  experiment_tag: '0'\n",
      "  hostname: natashas-MacBook-Pro.local\n",
      "  iterations_since_restore: 19\n",
      "  node_ip: 192.168.68.106\n",
      "  pid: 32472\n",
      "  test_f1: 0.916461035322316\n",
      "  test_loss: tensor(743082.3750)\n",
      "  time_since_restore: 471.29204177856445\n",
      "  time_this_iter_s: 26.86752486228943\n",
      "  time_total_s: 471.29204177856445\n",
      "  timestamp: 1613772865\n",
      "  timesteps_since_restore: 0\n",
      "  train_f1: 0.9177105550047956\n",
      "  train_loss: 92863.015625\n",
      "  training_iteration: 19\n",
      "  trial_id: ba455998\n",
      "  \n"
     ]
    },
    {
     "name": "stderr",
     "output_type": "stream",
     "text": [
      "2021-02-19 17:14:50,659\tWARNING util.py:132 -- The `process_trial` operation took 25.529081106185913 seconds to complete, which may be a performance bottleneck.\n"
     ]
    },
    {
     "data": {
      "text/html": [
       "== Status ==<br>Memory usage on this node: 18.2/32.0 GiB<br>Using FIFO scheduling algorithm.<br>Resources requested: 10/12 CPUs, 0/0 GPUs, 0.0/9.18 GiB heap, 0.0/3.17 GiB objects<br>Result logdir: /Users/natasha/Desktop/TUNE_RESULT_DIR/17_02_2021_40mods<br>Number of trials: 1 (1 RUNNING)<br><table>\n",
       "<thead>\n",
       "<tr><th>Trial name       </th><th>status  </th><th>loc                 </th><th style=\"text-align: right;\">  total time (s)</th><th style=\"text-align: right;\">  iter</th></tr>\n",
       "</thead>\n",
       "<tbody>\n",
       "<tr><td>train_AE_ba455998</td><td>RUNNING </td><td>192.168.68.106:32472</td><td style=\"text-align: right;\">         471.292</td><td style=\"text-align: right;\">    19</td></tr>\n",
       "</tbody>\n",
       "</table><br><br>"
      ],
      "text/plain": [
       "<IPython.core.display.HTML object>"
      ]
     },
     "metadata": {},
     "output_type": "display_data"
    },
    {
     "name": "stderr",
     "output_type": "stream",
     "text": [
      "2021-02-19 17:14:50,663\tINFO resource_spec.py:212 -- Starting Ray with 9.18 GiB memory available for workers and up to 4.61 GiB for objects. You can adjust these settings with ray.init(memory=<bytes>, object_store_memory=<bytes>).\n"
     ]
    },
    {
     "name": "stdout",
     "output_type": "stream",
     "text": [
      "Result for train_AE_ba455998:\n",
      "  date: 2021-02-19_17-14-50\n",
      "  done: false\n",
      "  experiment_id: 69b3fbd9f9144deca47ded7ddb48fff7\n",
      "  experiment_tag: '0'\n",
      "  hostname: natashas-MacBook-Pro.local\n",
      "  iterations_since_restore: 20\n",
      "  node_ip: 192.168.68.106\n",
      "  pid: 32472\n",
      "  test_f1: 0.9204290330993107\n",
      "  test_loss: tensor(720372.3125)\n",
      "  time_since_restore: 496.82564401626587\n",
      "  time_this_iter_s: 25.533602237701416\n",
      "  time_total_s: 496.82564401626587\n",
      "  timestamp: 1613772890\n",
      "  timesteps_since_restore: 0\n",
      "  train_f1: 0.9213710605677533\n",
      "  train_loss: 91818.3359375\n",
      "  training_iteration: 20\n",
      "  trial_id: ba455998\n",
      "  \n"
     ]
    },
    {
     "name": "stderr",
     "output_type": "stream",
     "text": [
      "2021-02-19 17:15:17,206\tWARNING util.py:132 -- The `process_trial` operation took 26.542216777801514 seconds to complete, which may be a performance bottleneck.\n"
     ]
    },
    {
     "data": {
      "text/html": [
       "== Status ==<br>Memory usage on this node: 18.2/32.0 GiB<br>Using FIFO scheduling algorithm.<br>Resources requested: 10/12 CPUs, 0/0 GPUs, 0.0/9.18 GiB heap, 0.0/3.17 GiB objects<br>Result logdir: /Users/natasha/Desktop/TUNE_RESULT_DIR/17_02_2021_40mods<br>Number of trials: 1 (1 RUNNING)<br><table>\n",
       "<thead>\n",
       "<tr><th>Trial name       </th><th>status  </th><th>loc                 </th><th style=\"text-align: right;\">  total time (s)</th><th style=\"text-align: right;\">  iter</th></tr>\n",
       "</thead>\n",
       "<tbody>\n",
       "<tr><td>train_AE_ba455998</td><td>RUNNING </td><td>192.168.68.106:32472</td><td style=\"text-align: right;\">         496.826</td><td style=\"text-align: right;\">    20</td></tr>\n",
       "</tbody>\n",
       "</table><br><br>"
      ],
      "text/plain": [
       "<IPython.core.display.HTML object>"
      ]
     },
     "metadata": {},
     "output_type": "display_data"
    },
    {
     "name": "stderr",
     "output_type": "stream",
     "text": [
      "2021-02-19 17:15:17,209\tINFO resource_spec.py:212 -- Starting Ray with 9.23 GiB memory available for workers and up to 4.62 GiB for objects. You can adjust these settings with ray.init(memory=<bytes>, object_store_memory=<bytes>).\n"
     ]
    },
    {
     "name": "stdout",
     "output_type": "stream",
     "text": [
      "Result for train_AE_ba455998:\n",
      "  date: 2021-02-19_17-15-17\n",
      "  done: false\n",
      "  experiment_id: 69b3fbd9f9144deca47ded7ddb48fff7\n",
      "  experiment_tag: '0'\n",
      "  hostname: natashas-MacBook-Pro.local\n",
      "  iterations_since_restore: 21\n",
      "  node_ip: 192.168.68.106\n",
      "  pid: 32472\n",
      "  test_f1: 0.9224465320342912\n",
      "  test_loss: tensor(706076.7500)\n",
      "  time_since_restore: 523.3726289272308\n",
      "  time_this_iter_s: 26.546984910964966\n",
      "  time_total_s: 523.3726289272308\n",
      "  timestamp: 1613772917\n",
      "  timesteps_since_restore: 0\n",
      "  train_f1: 0.9211312973718748\n",
      "  train_loss: 92875.09375\n",
      "  training_iteration: 21\n",
      "  trial_id: ba455998\n",
      "  \n"
     ]
    },
    {
     "name": "stderr",
     "output_type": "stream",
     "text": [
      "2021-02-19 17:15:43,121\tWARNING util.py:132 -- The `process_trial` operation took 25.911617040634155 seconds to complete, which may be a performance bottleneck.\n"
     ]
    },
    {
     "data": {
      "text/html": [
       "== Status ==<br>Memory usage on this node: 18.2/32.0 GiB<br>Using FIFO scheduling algorithm.<br>Resources requested: 10/12 CPUs, 0/0 GPUs, 0.0/9.23 GiB heap, 0.0/3.17 GiB objects<br>Result logdir: /Users/natasha/Desktop/TUNE_RESULT_DIR/17_02_2021_40mods<br>Number of trials: 1 (1 RUNNING)<br><table>\n",
       "<thead>\n",
       "<tr><th>Trial name       </th><th>status  </th><th>loc                 </th><th style=\"text-align: right;\">  total time (s)</th><th style=\"text-align: right;\">  iter</th></tr>\n",
       "</thead>\n",
       "<tbody>\n",
       "<tr><td>train_AE_ba455998</td><td>RUNNING </td><td>192.168.68.106:32472</td><td style=\"text-align: right;\">         523.373</td><td style=\"text-align: right;\">    21</td></tr>\n",
       "</tbody>\n",
       "</table><br><br>"
      ],
      "text/plain": [
       "<IPython.core.display.HTML object>"
      ]
     },
     "metadata": {},
     "output_type": "display_data"
    },
    {
     "name": "stderr",
     "output_type": "stream",
     "text": [
      "2021-02-19 17:15:43,124\tINFO resource_spec.py:212 -- Starting Ray with 9.18 GiB memory available for workers and up to 4.61 GiB for objects. You can adjust these settings with ray.init(memory=<bytes>, object_store_memory=<bytes>).\n",
      "2021-02-19 17:15:43,125\tWARNING ray_trial_executor.py:361 -- Over the last 60 seconds, the Tune event loop has been backlogged processing new results. Consider increasing your period of result reporting to improve performance.\n"
     ]
    },
    {
     "name": "stdout",
     "output_type": "stream",
     "text": [
      "Result for train_AE_ba455998:\n",
      "  date: 2021-02-19_17-15-43\n",
      "  done: false\n",
      "  experiment_id: 69b3fbd9f9144deca47ded7ddb48fff7\n",
      "  experiment_tag: '0'\n",
      "  hostname: natashas-MacBook-Pro.local\n",
      "  iterations_since_restore: 22\n",
      "  node_ip: 192.168.68.106\n",
      "  pid: 32472\n",
      "  test_f1: 0.9231960133679256\n",
      "  test_loss: tensor(696293.4375)\n",
      "  time_since_restore: 549.2879359722137\n",
      "  time_this_iter_s: 25.91530704498291\n",
      "  time_total_s: 549.2879359722137\n",
      "  timestamp: 1613772943\n",
      "  timesteps_since_restore: 0\n",
      "  train_f1: 0.9271861713478516\n",
      "  train_loss: 87525.46875\n",
      "  training_iteration: 22\n",
      "  trial_id: ba455998\n",
      "  \n"
     ]
    },
    {
     "name": "stderr",
     "output_type": "stream",
     "text": [
      "2021-02-19 17:16:09,027\tWARNING util.py:132 -- The `process_trial` operation took 25.901710271835327 seconds to complete, which may be a performance bottleneck.\n"
     ]
    },
    {
     "data": {
      "text/html": [
       "== Status ==<br>Memory usage on this node: 18.2/32.0 GiB<br>Using FIFO scheduling algorithm.<br>Resources requested: 10/12 CPUs, 0/0 GPUs, 0.0/9.18 GiB heap, 0.0/3.17 GiB objects<br>Result logdir: /Users/natasha/Desktop/TUNE_RESULT_DIR/17_02_2021_40mods<br>Number of trials: 1 (1 RUNNING)<br><table>\n",
       "<thead>\n",
       "<tr><th>Trial name       </th><th>status  </th><th>loc                 </th><th style=\"text-align: right;\">  total time (s)</th><th style=\"text-align: right;\">  iter</th></tr>\n",
       "</thead>\n",
       "<tbody>\n",
       "<tr><td>train_AE_ba455998</td><td>RUNNING </td><td>192.168.68.106:32472</td><td style=\"text-align: right;\">         549.288</td><td style=\"text-align: right;\">    22</td></tr>\n",
       "</tbody>\n",
       "</table><br><br>"
      ],
      "text/plain": [
       "<IPython.core.display.HTML object>"
      ]
     },
     "metadata": {},
     "output_type": "display_data"
    },
    {
     "name": "stderr",
     "output_type": "stream",
     "text": [
      "2021-02-19 17:16:09,030\tINFO resource_spec.py:212 -- Starting Ray with 9.18 GiB memory available for workers and up to 4.61 GiB for objects. You can adjust these settings with ray.init(memory=<bytes>, object_store_memory=<bytes>).\n"
     ]
    },
    {
     "name": "stdout",
     "output_type": "stream",
     "text": [
      "Result for train_AE_ba455998:\n",
      "  date: 2021-02-19_17-16-09\n",
      "  done: false\n",
      "  experiment_id: 69b3fbd9f9144deca47ded7ddb48fff7\n",
      "  experiment_tag: '0'\n",
      "  hostname: natashas-MacBook-Pro.local\n",
      "  iterations_since_restore: 23\n",
      "  node_ip: 192.168.68.106\n",
      "  pid: 32472\n",
      "  test_f1: 0.9282715242361536\n",
      "  test_loss: tensor(671140.2500)\n",
      "  time_since_restore: 575.1939549446106\n",
      "  time_this_iter_s: 25.90601897239685\n",
      "  time_total_s: 575.1939549446106\n",
      "  timestamp: 1613772969\n",
      "  timesteps_since_restore: 0\n",
      "  train_f1: 0.9275188216614118\n",
      "  train_loss: 86404.6953125\n",
      "  training_iteration: 23\n",
      "  trial_id: ba455998\n",
      "  \n"
     ]
    },
    {
     "name": "stderr",
     "output_type": "stream",
     "text": [
      "2021-02-19 17:16:35,046\tWARNING util.py:132 -- The `process_trial` operation took 26.014894008636475 seconds to complete, which may be a performance bottleneck.\n"
     ]
    },
    {
     "data": {
      "text/html": [
       "== Status ==<br>Memory usage on this node: 18.2/32.0 GiB<br>Using FIFO scheduling algorithm.<br>Resources requested: 10/12 CPUs, 0/0 GPUs, 0.0/9.18 GiB heap, 0.0/3.17 GiB objects<br>Result logdir: /Users/natasha/Desktop/TUNE_RESULT_DIR/17_02_2021_40mods<br>Number of trials: 1 (1 RUNNING)<br><table>\n",
       "<thead>\n",
       "<tr><th>Trial name       </th><th>status  </th><th>loc                 </th><th style=\"text-align: right;\">  total time (s)</th><th style=\"text-align: right;\">  iter</th></tr>\n",
       "</thead>\n",
       "<tbody>\n",
       "<tr><td>train_AE_ba455998</td><td>RUNNING </td><td>192.168.68.106:32472</td><td style=\"text-align: right;\">         575.194</td><td style=\"text-align: right;\">    23</td></tr>\n",
       "</tbody>\n",
       "</table><br><br>"
      ],
      "text/plain": [
       "<IPython.core.display.HTML object>"
      ]
     },
     "metadata": {},
     "output_type": "display_data"
    },
    {
     "name": "stderr",
     "output_type": "stream",
     "text": [
      "2021-02-19 17:16:35,050\tINFO resource_spec.py:212 -- Starting Ray with 9.18 GiB memory available for workers and up to 4.61 GiB for objects. You can adjust these settings with ray.init(memory=<bytes>, object_store_memory=<bytes>).\n"
     ]
    },
    {
     "name": "stdout",
     "output_type": "stream",
     "text": [
      "Result for train_AE_ba455998:\n",
      "  date: 2021-02-19_17-16-35\n",
      "  done: false\n",
      "  experiment_id: 69b3fbd9f9144deca47ded7ddb48fff7\n",
      "  experiment_tag: '0'\n",
      "  hostname: natashas-MacBook-Pro.local\n",
      "  iterations_since_restore: 24\n",
      "  node_ip: 192.168.68.106\n",
      "  pid: 32472\n",
      "  test_f1: 0.9306921642393706\n",
      "  test_loss: tensor(651564.7500)\n",
      "  time_since_restore: 601.2126319408417\n",
      "  time_this_iter_s: 26.01867699623108\n",
      "  time_total_s: 601.2126319408417\n",
      "  timestamp: 1613772995\n",
      "  timesteps_since_restore: 0\n",
      "  train_f1: 0.9308015191489736\n",
      "  train_loss: 82472.2421875\n",
      "  training_iteration: 24\n",
      "  trial_id: ba455998\n",
      "  \n"
     ]
    },
    {
     "name": "stderr",
     "output_type": "stream",
     "text": [
      "2021-02-19 17:16:41,323\tWARNING util.py:132 -- The `process_trial` operation took 6.271616220474243 seconds to complete, which may be a performance bottleneck.\n"
     ]
    },
    {
     "data": {
      "text/html": [
       "== Status ==<br>Memory usage on this node: 18.2/32.0 GiB<br>Using FIFO scheduling algorithm.<br>Resources requested: 10/12 CPUs, 0/0 GPUs, 0.0/9.18 GiB heap, 0.0/3.17 GiB objects<br>Result logdir: /Users/natasha/Desktop/TUNE_RESULT_DIR/17_02_2021_40mods<br>Number of trials: 1 (1 RUNNING)<br><table>\n",
       "<thead>\n",
       "<tr><th>Trial name       </th><th>status  </th><th>loc                 </th><th style=\"text-align: right;\">  total time (s)</th><th style=\"text-align: right;\">  iter</th></tr>\n",
       "</thead>\n",
       "<tbody>\n",
       "<tr><td>train_AE_ba455998</td><td>RUNNING </td><td>192.168.68.106:32472</td><td style=\"text-align: right;\">         601.213</td><td style=\"text-align: right;\">    24</td></tr>\n",
       "</tbody>\n",
       "</table><br><br>"
      ],
      "text/plain": [
       "<IPython.core.display.HTML object>"
      ]
     },
     "metadata": {},
     "output_type": "display_data"
    },
    {
     "name": "stderr",
     "output_type": "stream",
     "text": [
      "2021-02-19 17:16:41,325\tINFO resource_spec.py:212 -- Starting Ray with 9.18 GiB memory available for workers and up to 4.61 GiB for objects. You can adjust these settings with ray.init(memory=<bytes>, object_store_memory=<bytes>).\n"
     ]
    },
    {
     "name": "stdout",
     "output_type": "stream",
     "text": [
      "Result for train_AE_ba455998:\n",
      "  date: 2021-02-19_17-16-41\n",
      "  done: false\n",
      "  experiment_id: 69b3fbd9f9144deca47ded7ddb48fff7\n",
      "  experiment_tag: '0'\n",
      "  hostname: natashas-MacBook-Pro.local\n",
      "  iterations_since_restore: 25\n",
      "  node_ip: 192.168.68.106\n",
      "  pid: 32472\n",
      "  test_f1: 0.9301784718731583\n",
      "  test_loss: tensor(515522.3125)\n",
      "  time_since_restore: 607.4897220134735\n",
      "  time_this_iter_s: 6.277090072631836\n",
      "  time_total_s: 607.4897220134735\n",
      "  timestamp: 1613773001\n",
      "  timesteps_since_restore: 0\n",
      "  train_f1: 0.92818947318401\n",
      "  train_loss: 83885.7109375\n",
      "  training_iteration: 25\n",
      "  trial_id: ba455998\n",
      "  \n"
     ]
    },
    {
     "name": "stderr",
     "output_type": "stream",
     "text": [
      "2021-02-19 17:17:07,500\tWARNING util.py:132 -- The `process_trial` operation took 26.174540758132935 seconds to complete, which may be a performance bottleneck.\n"
     ]
    },
    {
     "data": {
      "text/html": [
       "== Status ==<br>Memory usage on this node: 18.2/32.0 GiB<br>Using FIFO scheduling algorithm.<br>Resources requested: 10/12 CPUs, 0/0 GPUs, 0.0/9.18 GiB heap, 0.0/3.17 GiB objects<br>Result logdir: /Users/natasha/Desktop/TUNE_RESULT_DIR/17_02_2021_40mods<br>Number of trials: 1 (1 RUNNING)<br><table>\n",
       "<thead>\n",
       "<tr><th>Trial name       </th><th>status  </th><th>loc                 </th><th style=\"text-align: right;\">  total time (s)</th><th style=\"text-align: right;\">  iter</th></tr>\n",
       "</thead>\n",
       "<tbody>\n",
       "<tr><td>train_AE_ba455998</td><td>RUNNING </td><td>192.168.68.106:32472</td><td style=\"text-align: right;\">          607.49</td><td style=\"text-align: right;\">    25</td></tr>\n",
       "</tbody>\n",
       "</table><br><br>"
      ],
      "text/plain": [
       "<IPython.core.display.HTML object>"
      ]
     },
     "metadata": {},
     "output_type": "display_data"
    },
    {
     "name": "stderr",
     "output_type": "stream",
     "text": [
      "2021-02-19 17:17:07,503\tINFO resource_spec.py:212 -- Starting Ray with 9.18 GiB memory available for workers and up to 4.61 GiB for objects. You can adjust these settings with ray.init(memory=<bytes>, object_store_memory=<bytes>).\n",
      "2021-02-19 17:17:07,504\tWARNING ray_trial_executor.py:361 -- Over the last 60 seconds, the Tune event loop has been backlogged processing new results. Consider increasing your period of result reporting to improve performance.\n"
     ]
    },
    {
     "name": "stdout",
     "output_type": "stream",
     "text": [
      "Result for train_AE_ba455998:\n",
      "  date: 2021-02-19_17-17-07\n",
      "  done: false\n",
      "  experiment_id: 69b3fbd9f9144deca47ded7ddb48fff7\n",
      "  experiment_tag: '0'\n",
      "  hostname: natashas-MacBook-Pro.local\n",
      "  iterations_since_restore: 26\n",
      "  node_ip: 192.168.68.106\n",
      "  pid: 32472\n",
      "  test_f1: 0.9306683037677341\n",
      "  test_loss: tensor(644962.3750)\n",
      "  time_since_restore: 633.6671841144562\n",
      "  time_this_iter_s: 26.177462100982666\n",
      "  time_total_s: 633.6671841144562\n",
      "  timestamp: 1613773027\n",
      "  timesteps_since_restore: 0\n",
      "  train_f1: 0.9312966802359272\n",
      "  train_loss: 83719.71875\n",
      "  training_iteration: 26\n",
      "  trial_id: ba455998\n",
      "  \n"
     ]
    },
    {
     "name": "stderr",
     "output_type": "stream",
     "text": [
      "2021-02-19 17:17:34,564\tWARNING util.py:132 -- The `process_trial` operation took 27.059285163879395 seconds to complete, which may be a performance bottleneck.\n"
     ]
    },
    {
     "data": {
      "text/html": [
       "== Status ==<br>Memory usage on this node: 18.2/32.0 GiB<br>Using FIFO scheduling algorithm.<br>Resources requested: 10/12 CPUs, 0/0 GPUs, 0.0/9.18 GiB heap, 0.0/3.17 GiB objects<br>Result logdir: /Users/natasha/Desktop/TUNE_RESULT_DIR/17_02_2021_40mods<br>Number of trials: 1 (1 RUNNING)<br><table>\n",
       "<thead>\n",
       "<tr><th>Trial name       </th><th>status  </th><th>loc                 </th><th style=\"text-align: right;\">  total time (s)</th><th style=\"text-align: right;\">  iter</th></tr>\n",
       "</thead>\n",
       "<tbody>\n",
       "<tr><td>train_AE_ba455998</td><td>RUNNING </td><td>192.168.68.106:32472</td><td style=\"text-align: right;\">         633.667</td><td style=\"text-align: right;\">    26</td></tr>\n",
       "</tbody>\n",
       "</table><br><br>"
      ],
      "text/plain": [
       "<IPython.core.display.HTML object>"
      ]
     },
     "metadata": {},
     "output_type": "display_data"
    },
    {
     "name": "stderr",
     "output_type": "stream",
     "text": [
      "2021-02-19 17:17:34,568\tINFO resource_spec.py:212 -- Starting Ray with 9.18 GiB memory available for workers and up to 4.61 GiB for objects. You can adjust these settings with ray.init(memory=<bytes>, object_store_memory=<bytes>).\n"
     ]
    },
    {
     "name": "stdout",
     "output_type": "stream",
     "text": [
      "Result for train_AE_ba455998:\n",
      "  date: 2021-02-19_17-17-34\n",
      "  done: false\n",
      "  experiment_id: 69b3fbd9f9144deca47ded7ddb48fff7\n",
      "  experiment_tag: '0'\n",
      "  hostname: natashas-MacBook-Pro.local\n",
      "  iterations_since_restore: 27\n",
      "  node_ip: 192.168.68.106\n",
      "  pid: 32472\n",
      "  test_f1: 0.932763453728541\n",
      "  test_loss: tensor(635009.4375)\n",
      "  time_since_restore: 660.7307729721069\n",
      "  time_this_iter_s: 27.063588857650757\n",
      "  time_total_s: 660.7307729721069\n",
      "  timestamp: 1613773054\n",
      "  timesteps_since_restore: 0\n",
      "  train_f1: 0.9397461138776075\n",
      "  train_loss: 72404.515625\n",
      "  training_iteration: 27\n",
      "  trial_id: ba455998\n",
      "  \n"
     ]
    },
    {
     "name": "stderr",
     "output_type": "stream",
     "text": [
      "2021-02-19 17:17:59,719\tWARNING util.py:132 -- The `process_trial` operation took 25.150454998016357 seconds to complete, which may be a performance bottleneck.\n"
     ]
    },
    {
     "data": {
      "text/html": [
       "== Status ==<br>Memory usage on this node: 18.2/32.0 GiB<br>Using FIFO scheduling algorithm.<br>Resources requested: 10/12 CPUs, 0/0 GPUs, 0.0/9.18 GiB heap, 0.0/3.17 GiB objects<br>Result logdir: /Users/natasha/Desktop/TUNE_RESULT_DIR/17_02_2021_40mods<br>Number of trials: 1 (1 RUNNING)<br><table>\n",
       "<thead>\n",
       "<tr><th>Trial name       </th><th>status  </th><th>loc                 </th><th style=\"text-align: right;\">  total time (s)</th><th style=\"text-align: right;\">  iter</th></tr>\n",
       "</thead>\n",
       "<tbody>\n",
       "<tr><td>train_AE_ba455998</td><td>RUNNING </td><td>192.168.68.106:32472</td><td style=\"text-align: right;\">         660.731</td><td style=\"text-align: right;\">    27</td></tr>\n",
       "</tbody>\n",
       "</table><br><br>"
      ],
      "text/plain": [
       "<IPython.core.display.HTML object>"
      ]
     },
     "metadata": {},
     "output_type": "display_data"
    },
    {
     "name": "stderr",
     "output_type": "stream",
     "text": [
      "2021-02-19 17:17:59,722\tINFO resource_spec.py:212 -- Starting Ray with 9.23 GiB memory available for workers and up to 4.62 GiB for objects. You can adjust these settings with ray.init(memory=<bytes>, object_store_memory=<bytes>).\n"
     ]
    },
    {
     "name": "stdout",
     "output_type": "stream",
     "text": [
      "Result for train_AE_ba455998:\n",
      "  date: 2021-02-19_17-17-59\n",
      "  done: false\n",
      "  experiment_id: 69b3fbd9f9144deca47ded7ddb48fff7\n",
      "  experiment_tag: '0'\n",
      "  hostname: natashas-MacBook-Pro.local\n",
      "  iterations_since_restore: 28\n",
      "  node_ip: 192.168.68.106\n",
      "  pid: 32472\n",
      "  test_f1: 0.9366453875771802\n",
      "  test_loss: tensor(485050.4375)\n",
      "  time_since_restore: 685.8856978416443\n",
      "  time_this_iter_s: 25.154924869537354\n",
      "  time_total_s: 685.8856978416443\n",
      "  timestamp: 1613773079\n",
      "  timesteps_since_restore: 0\n",
      "  train_f1: 0.9376750266632914\n",
      "  train_loss: 75779.109375\n",
      "  training_iteration: 28\n",
      "  trial_id: ba455998\n",
      "  \n"
     ]
    },
    {
     "name": "stderr",
     "output_type": "stream",
     "text": [
      "2021-02-19 17:18:26,374\tWARNING util.py:132 -- The `process_trial` operation took 26.651323795318604 seconds to complete, which may be a performance bottleneck.\n"
     ]
    },
    {
     "data": {
      "text/html": [
       "== Status ==<br>Memory usage on this node: 18.2/32.0 GiB<br>Using FIFO scheduling algorithm.<br>Resources requested: 10/12 CPUs, 0/0 GPUs, 0.0/9.23 GiB heap, 0.0/3.17 GiB objects<br>Result logdir: /Users/natasha/Desktop/TUNE_RESULT_DIR/17_02_2021_40mods<br>Number of trials: 1 (1 RUNNING)<br><table>\n",
       "<thead>\n",
       "<tr><th>Trial name       </th><th>status  </th><th>loc                 </th><th style=\"text-align: right;\">  total time (s)</th><th style=\"text-align: right;\">  iter</th></tr>\n",
       "</thead>\n",
       "<tbody>\n",
       "<tr><td>train_AE_ba455998</td><td>RUNNING </td><td>192.168.68.106:32472</td><td style=\"text-align: right;\">         685.886</td><td style=\"text-align: right;\">    28</td></tr>\n",
       "</tbody>\n",
       "</table><br><br>"
      ],
      "text/plain": [
       "<IPython.core.display.HTML object>"
      ]
     },
     "metadata": {},
     "output_type": "display_data"
    },
    {
     "name": "stderr",
     "output_type": "stream",
     "text": [
      "2021-02-19 17:18:26,377\tINFO resource_spec.py:212 -- Starting Ray with 9.23 GiB memory available for workers and up to 4.62 GiB for objects. You can adjust these settings with ray.init(memory=<bytes>, object_store_memory=<bytes>).\n",
      "2021-02-19 17:18:26,378\tWARNING ray_trial_executor.py:361 -- Over the last 60 seconds, the Tune event loop has been backlogged processing new results. Consider increasing your period of result reporting to improve performance.\n"
     ]
    },
    {
     "name": "stdout",
     "output_type": "stream",
     "text": [
      "Result for train_AE_ba455998:\n",
      "  date: 2021-02-19_17-18-26\n",
      "  done: false\n",
      "  experiment_id: 69b3fbd9f9144deca47ded7ddb48fff7\n",
      "  experiment_tag: '0'\n",
      "  hostname: natashas-MacBook-Pro.local\n",
      "  iterations_since_restore: 29\n",
      "  node_ip: 192.168.68.106\n",
      "  pid: 32472\n",
      "  test_f1: 0.9390927148055781\n",
      "  test_loss: tensor(594968.3750)\n",
      "  time_since_restore: 712.5408821105957\n",
      "  time_this_iter_s: 26.655184268951416\n",
      "  time_total_s: 712.5408821105957\n",
      "  timestamp: 1613773106\n",
      "  timesteps_since_restore: 0\n",
      "  train_f1: 0.9428070638513023\n",
      "  train_loss: 73036.625\n",
      "  training_iteration: 29\n",
      "  trial_id: ba455998\n",
      "  \n"
     ]
    },
    {
     "name": "stderr",
     "output_type": "stream",
     "text": [
      "2021-02-19 17:18:53,568\tWARNING util.py:132 -- The `process_trial` operation took 27.18974804878235 seconds to complete, which may be a performance bottleneck.\n"
     ]
    },
    {
     "data": {
      "text/html": [
       "== Status ==<br>Memory usage on this node: 18.2/32.0 GiB<br>Using FIFO scheduling algorithm.<br>Resources requested: 10/12 CPUs, 0/0 GPUs, 0.0/9.23 GiB heap, 0.0/3.17 GiB objects<br>Result logdir: /Users/natasha/Desktop/TUNE_RESULT_DIR/17_02_2021_40mods<br>Number of trials: 1 (1 RUNNING)<br><table>\n",
       "<thead>\n",
       "<tr><th>Trial name       </th><th>status  </th><th>loc                 </th><th style=\"text-align: right;\">  total time (s)</th><th style=\"text-align: right;\">  iter</th></tr>\n",
       "</thead>\n",
       "<tbody>\n",
       "<tr><td>train_AE_ba455998</td><td>RUNNING </td><td>192.168.68.106:32472</td><td style=\"text-align: right;\">         712.541</td><td style=\"text-align: right;\">    29</td></tr>\n",
       "</tbody>\n",
       "</table><br><br>"
      ],
      "text/plain": [
       "<IPython.core.display.HTML object>"
      ]
     },
     "metadata": {},
     "output_type": "display_data"
    },
    {
     "name": "stderr",
     "output_type": "stream",
     "text": [
      "2021-02-19 17:18:53,572\tINFO resource_spec.py:212 -- Starting Ray with 9.18 GiB memory available for workers and up to 4.61 GiB for objects. You can adjust these settings with ray.init(memory=<bytes>, object_store_memory=<bytes>).\n"
     ]
    },
    {
     "name": "stdout",
     "output_type": "stream",
     "text": [
      "Result for train_AE_ba455998:\n",
      "  date: 2021-02-19_17-18-53\n",
      "  done: false\n",
      "  experiment_id: 69b3fbd9f9144deca47ded7ddb48fff7\n",
      "  experiment_tag: '0'\n",
      "  hostname: natashas-MacBook-Pro.local\n",
      "  iterations_since_restore: 30\n",
      "  node_ip: 192.168.68.106\n",
      "  pid: 32472\n",
      "  test_f1: 0.9407713302438244\n",
      "  test_loss: tensor(577831.)\n",
      "  time_since_restore: 739.7349269390106\n",
      "  time_this_iter_s: 27.194044828414917\n",
      "  time_total_s: 739.7349269390106\n",
      "  timestamp: 1613773133\n",
      "  timesteps_since_restore: 0\n",
      "  train_f1: 0.9415831142243505\n",
      "  train_loss: 72947.0859375\n",
      "  training_iteration: 30\n",
      "  trial_id: ba455998\n",
      "  \n"
     ]
    },
    {
     "name": "stderr",
     "output_type": "stream",
     "text": [
      "2021-02-19 17:19:20,594\tWARNING util.py:132 -- The `process_trial` operation took 27.0219829082489 seconds to complete, which may be a performance bottleneck.\n"
     ]
    },
    {
     "data": {
      "text/html": [
       "== Status ==<br>Memory usage on this node: 18.2/32.0 GiB<br>Using FIFO scheduling algorithm.<br>Resources requested: 10/12 CPUs, 0/0 GPUs, 0.0/9.18 GiB heap, 0.0/3.17 GiB objects<br>Result logdir: /Users/natasha/Desktop/TUNE_RESULT_DIR/17_02_2021_40mods<br>Number of trials: 1 (1 RUNNING)<br><table>\n",
       "<thead>\n",
       "<tr><th>Trial name       </th><th>status  </th><th>loc                 </th><th style=\"text-align: right;\">  total time (s)</th><th style=\"text-align: right;\">  iter</th></tr>\n",
       "</thead>\n",
       "<tbody>\n",
       "<tr><td>train_AE_ba455998</td><td>RUNNING </td><td>192.168.68.106:32472</td><td style=\"text-align: right;\">         739.735</td><td style=\"text-align: right;\">    30</td></tr>\n",
       "</tbody>\n",
       "</table><br><br>"
      ],
      "text/plain": [
       "<IPython.core.display.HTML object>"
      ]
     },
     "metadata": {},
     "output_type": "display_data"
    },
    {
     "name": "stderr",
     "output_type": "stream",
     "text": [
      "2021-02-19 17:19:20,599\tINFO resource_spec.py:212 -- Starting Ray with 9.23 GiB memory available for workers and up to 4.62 GiB for objects. You can adjust these settings with ray.init(memory=<bytes>, object_store_memory=<bytes>).\n"
     ]
    },
    {
     "name": "stdout",
     "output_type": "stream",
     "text": [
      "Result for train_AE_ba455998:\n",
      "  date: 2021-02-19_17-19-20\n",
      "  done: false\n",
      "  experiment_id: 69b3fbd9f9144deca47ded7ddb48fff7\n",
      "  experiment_tag: '0'\n",
      "  hostname: natashas-MacBook-Pro.local\n",
      "  iterations_since_restore: 31\n",
      "  node_ip: 192.168.68.106\n",
      "  pid: 32472\n",
      "  test_f1: 0.9407386984625026\n",
      "  test_loss: tensor(583919.8750)\n",
      "  time_since_restore: 766.761125087738\n",
      "  time_this_iter_s: 27.026198148727417\n",
      "  time_total_s: 766.761125087738\n",
      "  timestamp: 1613773160\n",
      "  timesteps_since_restore: 0\n",
      "  train_f1: 0.9397328783217826\n",
      "  train_loss: 74209.7265625\n",
      "  training_iteration: 31\n",
      "  trial_id: ba455998\n",
      "  \n"
     ]
    },
    {
     "name": "stderr",
     "output_type": "stream",
     "text": [
      "2021-02-19 17:19:47,227\tWARNING util.py:132 -- The `process_trial` operation took 26.62798500061035 seconds to complete, which may be a performance bottleneck.\n"
     ]
    },
    {
     "data": {
      "text/html": [
       "== Status ==<br>Memory usage on this node: 18.2/32.0 GiB<br>Using FIFO scheduling algorithm.<br>Resources requested: 10/12 CPUs, 0/0 GPUs, 0.0/9.23 GiB heap, 0.0/3.17 GiB objects<br>Result logdir: /Users/natasha/Desktop/TUNE_RESULT_DIR/17_02_2021_40mods<br>Number of trials: 1 (1 RUNNING)<br><table>\n",
       "<thead>\n",
       "<tr><th>Trial name       </th><th>status  </th><th>loc                 </th><th style=\"text-align: right;\">  total time (s)</th><th style=\"text-align: right;\">  iter</th></tr>\n",
       "</thead>\n",
       "<tbody>\n",
       "<tr><td>train_AE_ba455998</td><td>RUNNING </td><td>192.168.68.106:32472</td><td style=\"text-align: right;\">         766.761</td><td style=\"text-align: right;\">    31</td></tr>\n",
       "</tbody>\n",
       "</table><br><br>"
      ],
      "text/plain": [
       "<IPython.core.display.HTML object>"
      ]
     },
     "metadata": {},
     "output_type": "display_data"
    },
    {
     "name": "stderr",
     "output_type": "stream",
     "text": [
      "2021-02-19 17:19:47,231\tINFO resource_spec.py:212 -- Starting Ray with 9.23 GiB memory available for workers and up to 4.62 GiB for objects. You can adjust these settings with ray.init(memory=<bytes>, object_store_memory=<bytes>).\n",
      "2021-02-19 17:19:47,232\tWARNING ray_trial_executor.py:361 -- Over the last 60 seconds, the Tune event loop has been backlogged processing new results. Consider increasing your period of result reporting to improve performance.\n"
     ]
    },
    {
     "name": "stdout",
     "output_type": "stream",
     "text": [
      "Result for train_AE_ba455998:\n",
      "  date: 2021-02-19_17-19-47\n",
      "  done: false\n",
      "  experiment_id: 69b3fbd9f9144deca47ded7ddb48fff7\n",
      "  experiment_tag: '0'\n",
      "  hostname: natashas-MacBook-Pro.local\n",
      "  iterations_since_restore: 32\n",
      "  node_ip: 192.168.68.106\n",
      "  pid: 32472\n",
      "  test_f1: 0.9441956594580917\n",
      "  test_loss: tensor(552883.8125)\n",
      "  time_since_restore: 793.3944931030273\n",
      "  time_this_iter_s: 26.633368015289307\n",
      "  time_total_s: 793.3944931030273\n",
      "  timestamp: 1613773187\n",
      "  timesteps_since_restore: 0\n",
      "  train_f1: 0.9455388603803117\n",
      "  train_loss: 70101.34375\n",
      "  training_iteration: 32\n",
      "  trial_id: ba455998\n",
      "  \n"
     ]
    },
    {
     "name": "stderr",
     "output_type": "stream",
     "text": [
      "2021-02-19 17:20:14,173\tWARNING util.py:132 -- The `process_trial` operation took 26.94069504737854 seconds to complete, which may be a performance bottleneck.\n"
     ]
    },
    {
     "data": {
      "text/html": [
       "== Status ==<br>Memory usage on this node: 18.2/32.0 GiB<br>Using FIFO scheduling algorithm.<br>Resources requested: 10/12 CPUs, 0/0 GPUs, 0.0/9.23 GiB heap, 0.0/3.17 GiB objects<br>Result logdir: /Users/natasha/Desktop/TUNE_RESULT_DIR/17_02_2021_40mods<br>Number of trials: 1 (1 RUNNING)<br><table>\n",
       "<thead>\n",
       "<tr><th>Trial name       </th><th>status  </th><th>loc                 </th><th style=\"text-align: right;\">  total time (s)</th><th style=\"text-align: right;\">  iter</th></tr>\n",
       "</thead>\n",
       "<tbody>\n",
       "<tr><td>train_AE_ba455998</td><td>RUNNING </td><td>192.168.68.106:32472</td><td style=\"text-align: right;\">         793.394</td><td style=\"text-align: right;\">    32</td></tr>\n",
       "</tbody>\n",
       "</table><br><br>"
      ],
      "text/plain": [
       "<IPython.core.display.HTML object>"
      ]
     },
     "metadata": {},
     "output_type": "display_data"
    },
    {
     "name": "stderr",
     "output_type": "stream",
     "text": [
      "2021-02-19 17:20:14,177\tINFO resource_spec.py:212 -- Starting Ray with 9.23 GiB memory available for workers and up to 4.62 GiB for objects. You can adjust these settings with ray.init(memory=<bytes>, object_store_memory=<bytes>).\n"
     ]
    },
    {
     "name": "stdout",
     "output_type": "stream",
     "text": [
      "Result for train_AE_ba455998:\n",
      "  date: 2021-02-19_17-20-14\n",
      "  done: false\n",
      "  experiment_id: 69b3fbd9f9144deca47ded7ddb48fff7\n",
      "  experiment_tag: '0'\n",
      "  hostname: natashas-MacBook-Pro.local\n",
      "  iterations_since_restore: 33\n",
      "  node_ip: 192.168.68.106\n",
      "  pid: 32472\n",
      "  test_f1: 0.9444184446354907\n",
      "  test_loss: tensor(549763.7500)\n",
      "  time_since_restore: 820.3398840427399\n",
      "  time_this_iter_s: 26.945390939712524\n",
      "  time_total_s: 820.3398840427399\n",
      "  timestamp: 1613773214\n",
      "  timesteps_since_restore: 0\n",
      "  train_f1: 0.9443329775017695\n",
      "  train_loss: 71844.828125\n",
      "  training_iteration: 33\n",
      "  trial_id: ba455998\n",
      "  \n"
     ]
    },
    {
     "name": "stderr",
     "output_type": "stream",
     "text": [
      "2021-02-19 17:20:40,579\tWARNING util.py:132 -- The `process_trial` operation took 26.401386976242065 seconds to complete, which may be a performance bottleneck.\n"
     ]
    },
    {
     "data": {
      "text/html": [
       "== Status ==<br>Memory usage on this node: 18.1/32.0 GiB<br>Using FIFO scheduling algorithm.<br>Resources requested: 10/12 CPUs, 0/0 GPUs, 0.0/9.23 GiB heap, 0.0/3.17 GiB objects<br>Result logdir: /Users/natasha/Desktop/TUNE_RESULT_DIR/17_02_2021_40mods<br>Number of trials: 1 (1 RUNNING)<br><table>\n",
       "<thead>\n",
       "<tr><th>Trial name       </th><th>status  </th><th>loc                 </th><th style=\"text-align: right;\">  total time (s)</th><th style=\"text-align: right;\">  iter</th></tr>\n",
       "</thead>\n",
       "<tbody>\n",
       "<tr><td>train_AE_ba455998</td><td>RUNNING </td><td>192.168.68.106:32472</td><td style=\"text-align: right;\">          820.34</td><td style=\"text-align: right;\">    33</td></tr>\n",
       "</tbody>\n",
       "</table><br><br>"
      ],
      "text/plain": [
       "<IPython.core.display.HTML object>"
      ]
     },
     "metadata": {},
     "output_type": "display_data"
    },
    {
     "name": "stderr",
     "output_type": "stream",
     "text": [
      "2021-02-19 17:20:40,584\tINFO resource_spec.py:212 -- Starting Ray with 9.23 GiB memory available for workers and up to 4.64 GiB for objects. You can adjust these settings with ray.init(memory=<bytes>, object_store_memory=<bytes>).\n"
     ]
    },
    {
     "name": "stdout",
     "output_type": "stream",
     "text": [
      "Result for train_AE_ba455998:\n",
      "  date: 2021-02-19_17-20-40\n",
      "  done: false\n",
      "  experiment_id: 69b3fbd9f9144deca47ded7ddb48fff7\n",
      "  experiment_tag: '0'\n",
      "  hostname: natashas-MacBook-Pro.local\n",
      "  iterations_since_restore: 34\n",
      "  node_ip: 192.168.68.106\n",
      "  pid: 32472\n",
      "  test_f1: 0.9466998980402525\n",
      "  test_loss: tensor(532682.3750)\n",
      "  time_since_restore: 846.7463600635529\n",
      "  time_this_iter_s: 26.40647602081299\n",
      "  time_total_s: 846.7463600635529\n",
      "  timestamp: 1613773240\n",
      "  timesteps_since_restore: 0\n",
      "  train_f1: 0.9488471058247882\n",
      "  train_loss: 65403.9765625\n",
      "  training_iteration: 34\n",
      "  trial_id: ba455998\n",
      "  \n"
     ]
    },
    {
     "name": "stderr",
     "output_type": "stream",
     "text": [
      "2021-02-19 17:21:07,246\tWARNING util.py:132 -- The `process_trial` operation took 26.661365032196045 seconds to complete, which may be a performance bottleneck.\n"
     ]
    },
    {
     "data": {
      "text/html": [
       "== Status ==<br>Memory usage on this node: 18.2/32.0 GiB<br>Using FIFO scheduling algorithm.<br>Resources requested: 10/12 CPUs, 0/0 GPUs, 0.0/9.23 GiB heap, 0.0/3.17 GiB objects<br>Result logdir: /Users/natasha/Desktop/TUNE_RESULT_DIR/17_02_2021_40mods<br>Number of trials: 1 (1 RUNNING)<br><table>\n",
       "<thead>\n",
       "<tr><th>Trial name       </th><th>status  </th><th>loc                 </th><th style=\"text-align: right;\">  total time (s)</th><th style=\"text-align: right;\">  iter</th></tr>\n",
       "</thead>\n",
       "<tbody>\n",
       "<tr><td>train_AE_ba455998</td><td>RUNNING </td><td>192.168.68.106:32472</td><td style=\"text-align: right;\">         846.746</td><td style=\"text-align: right;\">    34</td></tr>\n",
       "</tbody>\n",
       "</table><br><br>"
      ],
      "text/plain": [
       "<IPython.core.display.HTML object>"
      ]
     },
     "metadata": {},
     "output_type": "display_data"
    },
    {
     "name": "stderr",
     "output_type": "stream",
     "text": [
      "2021-02-19 17:21:07,249\tINFO resource_spec.py:212 -- Starting Ray with 9.23 GiB memory available for workers and up to 4.62 GiB for objects. You can adjust these settings with ray.init(memory=<bytes>, object_store_memory=<bytes>).\n",
      "2021-02-19 17:21:07,250\tWARNING ray_trial_executor.py:361 -- Over the last 60 seconds, the Tune event loop has been backlogged processing new results. Consider increasing your period of result reporting to improve performance.\n"
     ]
    },
    {
     "name": "stdout",
     "output_type": "stream",
     "text": [
      "Result for train_AE_ba455998:\n",
      "  date: 2021-02-19_17-21-07\n",
      "  done: false\n",
      "  experiment_id: 69b3fbd9f9144deca47ded7ddb48fff7\n",
      "  experiment_tag: '0'\n",
      "  hostname: natashas-MacBook-Pro.local\n",
      "  iterations_since_restore: 35\n",
      "  node_ip: 192.168.68.106\n",
      "  pid: 32472\n",
      "  test_f1: 0.9482322051851428\n",
      "  test_loss: tensor(519794.5625)\n",
      "  time_since_restore: 873.4131009578705\n",
      "  time_this_iter_s: 26.666740894317627\n",
      "  time_total_s: 873.4131009578705\n",
      "  timestamp: 1613773267\n",
      "  timesteps_since_restore: 0\n",
      "  train_f1: 0.9467532943731872\n",
      "  train_loss: 67006.1328125\n",
      "  training_iteration: 35\n",
      "  trial_id: ba455998\n",
      "  \n"
     ]
    },
    {
     "name": "stderr",
     "output_type": "stream",
     "text": [
      "2021-02-19 17:21:34,358\tWARNING util.py:132 -- The `process_trial` operation took 27.10780692100525 seconds to complete, which may be a performance bottleneck.\n"
     ]
    },
    {
     "data": {
      "text/html": [
       "== Status ==<br>Memory usage on this node: 18.2/32.0 GiB<br>Using FIFO scheduling algorithm.<br>Resources requested: 10/12 CPUs, 0/0 GPUs, 0.0/9.23 GiB heap, 0.0/3.17 GiB objects<br>Result logdir: /Users/natasha/Desktop/TUNE_RESULT_DIR/17_02_2021_40mods<br>Number of trials: 1 (1 RUNNING)<br><table>\n",
       "<thead>\n",
       "<tr><th>Trial name       </th><th>status  </th><th>loc                 </th><th style=\"text-align: right;\">  total time (s)</th><th style=\"text-align: right;\">  iter</th></tr>\n",
       "</thead>\n",
       "<tbody>\n",
       "<tr><td>train_AE_ba455998</td><td>RUNNING </td><td>192.168.68.106:32472</td><td style=\"text-align: right;\">         873.413</td><td style=\"text-align: right;\">    35</td></tr>\n",
       "</tbody>\n",
       "</table><br><br>"
      ],
      "text/plain": [
       "<IPython.core.display.HTML object>"
      ]
     },
     "metadata": {},
     "output_type": "display_data"
    },
    {
     "name": "stderr",
     "output_type": "stream",
     "text": [
      "2021-02-19 17:21:34,362\tINFO resource_spec.py:212 -- Starting Ray with 9.23 GiB memory available for workers and up to 4.63 GiB for objects. You can adjust these settings with ray.init(memory=<bytes>, object_store_memory=<bytes>).\n"
     ]
    },
    {
     "name": "stdout",
     "output_type": "stream",
     "text": [
      "Result for train_AE_ba455998:\n",
      "  date: 2021-02-19_17-21-34\n",
      "  done: false\n",
      "  experiment_id: 69b3fbd9f9144deca47ded7ddb48fff7\n",
      "  experiment_tag: '0'\n",
      "  hostname: natashas-MacBook-Pro.local\n",
      "  iterations_since_restore: 36\n",
      "  node_ip: 192.168.68.106\n",
      "  pid: 32472\n",
      "  test_f1: 0.9472522336834355\n",
      "  test_loss: tensor(533990.3750)\n",
      "  time_since_restore: 900.5254189968109\n",
      "  time_this_iter_s: 27.11231803894043\n",
      "  time_total_s: 900.5254189968109\n",
      "  timestamp: 1613773294\n",
      "  timesteps_since_restore: 0\n",
      "  train_f1: 0.949101618034974\n",
      "  train_loss: 66379.9375\n",
      "  training_iteration: 36\n",
      "  trial_id: ba455998\n",
      "  \n"
     ]
    },
    {
     "name": "stderr",
     "output_type": "stream",
     "text": [
      "2021-02-19 17:21:41,389\tWARNING util.py:132 -- The `process_trial` operation took 7.026477813720703 seconds to complete, which may be a performance bottleneck.\n"
     ]
    },
    {
     "data": {
      "text/html": [
       "== Status ==<br>Memory usage on this node: 18.2/32.0 GiB<br>Using FIFO scheduling algorithm.<br>Resources requested: 10/12 CPUs, 0/0 GPUs, 0.0/9.23 GiB heap, 0.0/3.17 GiB objects<br>Result logdir: /Users/natasha/Desktop/TUNE_RESULT_DIR/17_02_2021_40mods<br>Number of trials: 1 (1 RUNNING)<br><table>\n",
       "<thead>\n",
       "<tr><th>Trial name       </th><th>status  </th><th>loc                 </th><th style=\"text-align: right;\">  total time (s)</th><th style=\"text-align: right;\">  iter</th></tr>\n",
       "</thead>\n",
       "<tbody>\n",
       "<tr><td>train_AE_ba455998</td><td>RUNNING </td><td>192.168.68.106:32472</td><td style=\"text-align: right;\">         900.525</td><td style=\"text-align: right;\">    36</td></tr>\n",
       "</tbody>\n",
       "</table><br><br>"
      ],
      "text/plain": [
       "<IPython.core.display.HTML object>"
      ]
     },
     "metadata": {},
     "output_type": "display_data"
    },
    {
     "name": "stderr",
     "output_type": "stream",
     "text": [
      "2021-02-19 17:21:41,391\tINFO resource_spec.py:212 -- Starting Ray with 9.23 GiB memory available for workers and up to 4.63 GiB for objects. You can adjust these settings with ray.init(memory=<bytes>, object_store_memory=<bytes>).\n"
     ]
    },
    {
     "name": "stdout",
     "output_type": "stream",
     "text": [
      "Result for train_AE_ba455998:\n",
      "  date: 2021-02-19_17-21-41\n",
      "  done: false\n",
      "  experiment_id: 69b3fbd9f9144deca47ded7ddb48fff7\n",
      "  experiment_tag: '0'\n",
      "  hostname: natashas-MacBook-Pro.local\n",
      "  iterations_since_restore: 37\n",
      "  node_ip: 192.168.68.106\n",
      "  pid: 32472\n",
      "  test_f1: 0.9479407827561654\n",
      "  test_loss: tensor(520571.3125)\n",
      "  time_since_restore: 907.5556221008301\n",
      "  time_this_iter_s: 7.030203104019165\n",
      "  time_total_s: 907.5556221008301\n",
      "  timestamp: 1613773301\n",
      "  timesteps_since_restore: 0\n",
      "  train_f1: 0.9429170420996267\n",
      "  train_loss: 70476.515625\n",
      "  training_iteration: 37\n",
      "  trial_id: ba455998\n",
      "  \n"
     ]
    },
    {
     "name": "stderr",
     "output_type": "stream",
     "text": [
      "2021-02-19 17:22:07,795\tWARNING util.py:132 -- The `process_trial` operation took 26.403545141220093 seconds to complete, which may be a performance bottleneck.\n"
     ]
    },
    {
     "data": {
      "text/html": [
       "== Status ==<br>Memory usage on this node: 18.2/32.0 GiB<br>Using FIFO scheduling algorithm.<br>Resources requested: 10/12 CPUs, 0/0 GPUs, 0.0/9.23 GiB heap, 0.0/3.17 GiB objects<br>Result logdir: /Users/natasha/Desktop/TUNE_RESULT_DIR/17_02_2021_40mods<br>Number of trials: 1 (1 RUNNING)<br><table>\n",
       "<thead>\n",
       "<tr><th>Trial name       </th><th>status  </th><th>loc                 </th><th style=\"text-align: right;\">  total time (s)</th><th style=\"text-align: right;\">  iter</th></tr>\n",
       "</thead>\n",
       "<tbody>\n",
       "<tr><td>train_AE_ba455998</td><td>RUNNING </td><td>192.168.68.106:32472</td><td style=\"text-align: right;\">         907.556</td><td style=\"text-align: right;\">    37</td></tr>\n",
       "</tbody>\n",
       "</table><br><br>"
      ],
      "text/plain": [
       "<IPython.core.display.HTML object>"
      ]
     },
     "metadata": {},
     "output_type": "display_data"
    },
    {
     "name": "stderr",
     "output_type": "stream",
     "text": [
      "2021-02-19 17:22:07,798\tINFO resource_spec.py:212 -- Starting Ray with 9.23 GiB memory available for workers and up to 4.62 GiB for objects. You can adjust these settings with ray.init(memory=<bytes>, object_store_memory=<bytes>).\n",
      "2021-02-19 17:22:07,799\tWARNING ray_trial_executor.py:361 -- Over the last 60 seconds, the Tune event loop has been backlogged processing new results. Consider increasing your period of result reporting to improve performance.\n"
     ]
    },
    {
     "name": "stdout",
     "output_type": "stream",
     "text": [
      "Result for train_AE_ba455998:\n",
      "  date: 2021-02-19_17-22-07\n",
      "  done: false\n",
      "  experiment_id: 69b3fbd9f9144deca47ded7ddb48fff7\n",
      "  experiment_tag: '0'\n",
      "  hostname: natashas-MacBook-Pro.local\n",
      "  iterations_since_restore: 38\n",
      "  node_ip: 192.168.68.106\n",
      "  pid: 32472\n",
      "  test_f1: 0.9504634819650737\n",
      "  test_loss: tensor(504755.1562)\n",
      "  time_since_restore: 933.9620850086212\n",
      "  time_this_iter_s: 26.406462907791138\n",
      "  time_total_s: 933.9620850086212\n",
      "  timestamp: 1613773327\n",
      "  timesteps_since_restore: 0\n",
      "  train_f1: 0.9529429093163261\n",
      "  train_loss: 63825.5234375\n",
      "  training_iteration: 38\n",
      "  trial_id: ba455998\n",
      "  \n"
     ]
    },
    {
     "name": "stderr",
     "output_type": "stream",
     "text": [
      "2021-02-19 17:22:34,652\tWARNING util.py:132 -- The `process_trial` operation took 26.85254693031311 seconds to complete, which may be a performance bottleneck.\n"
     ]
    },
    {
     "data": {
      "text/html": [
       "== Status ==<br>Memory usage on this node: 18.2/32.0 GiB<br>Using FIFO scheduling algorithm.<br>Resources requested: 10/12 CPUs, 0/0 GPUs, 0.0/9.23 GiB heap, 0.0/3.17 GiB objects<br>Result logdir: /Users/natasha/Desktop/TUNE_RESULT_DIR/17_02_2021_40mods<br>Number of trials: 1 (1 RUNNING)<br><table>\n",
       "<thead>\n",
       "<tr><th>Trial name       </th><th>status  </th><th>loc                 </th><th style=\"text-align: right;\">  total time (s)</th><th style=\"text-align: right;\">  iter</th></tr>\n",
       "</thead>\n",
       "<tbody>\n",
       "<tr><td>train_AE_ba455998</td><td>RUNNING </td><td>192.168.68.106:32472</td><td style=\"text-align: right;\">         933.962</td><td style=\"text-align: right;\">    38</td></tr>\n",
       "</tbody>\n",
       "</table><br><br>"
      ],
      "text/plain": [
       "<IPython.core.display.HTML object>"
      ]
     },
     "metadata": {},
     "output_type": "display_data"
    },
    {
     "name": "stderr",
     "output_type": "stream",
     "text": [
      "2021-02-19 17:22:34,655\tINFO resource_spec.py:212 -- Starting Ray with 9.23 GiB memory available for workers and up to 4.62 GiB for objects. You can adjust these settings with ray.init(memory=<bytes>, object_store_memory=<bytes>).\n"
     ]
    },
    {
     "name": "stdout",
     "output_type": "stream",
     "text": [
      "Result for train_AE_ba455998:\n",
      "  date: 2021-02-19_17-22-34\n",
      "  done: false\n",
      "  experiment_id: 69b3fbd9f9144deca47ded7ddb48fff7\n",
      "  experiment_tag: '0'\n",
      "  hostname: natashas-MacBook-Pro.local\n",
      "  iterations_since_restore: 39\n",
      "  node_ip: 192.168.68.106\n",
      "  pid: 32472\n",
      "  test_f1: 0.951659924110231\n",
      "  test_loss: tensor(499293.0625)\n",
      "  time_since_restore: 960.819000005722\n",
      "  time_this_iter_s: 26.85691499710083\n",
      "  time_total_s: 960.819000005722\n",
      "  timestamp: 1613773354\n",
      "  timesteps_since_restore: 0\n",
      "  train_f1: 0.9564293015782908\n",
      "  train_loss: 58863.32421875\n",
      "  training_iteration: 39\n",
      "  trial_id: ba455998\n",
      "  \n"
     ]
    },
    {
     "name": "stderr",
     "output_type": "stream",
     "text": [
      "2021-02-19 17:23:01,693\tWARNING util.py:132 -- The `process_trial` operation took 27.03686785697937 seconds to complete, which may be a performance bottleneck.\n"
     ]
    },
    {
     "data": {
      "text/html": [
       "== Status ==<br>Memory usage on this node: 18.1/32.0 GiB<br>Using FIFO scheduling algorithm.<br>Resources requested: 10/12 CPUs, 0/0 GPUs, 0.0/9.23 GiB heap, 0.0/3.17 GiB objects<br>Result logdir: /Users/natasha/Desktop/TUNE_RESULT_DIR/17_02_2021_40mods<br>Number of trials: 1 (1 RUNNING)<br><table>\n",
       "<thead>\n",
       "<tr><th>Trial name       </th><th>status  </th><th>loc                 </th><th style=\"text-align: right;\">  total time (s)</th><th style=\"text-align: right;\">  iter</th></tr>\n",
       "</thead>\n",
       "<tbody>\n",
       "<tr><td>train_AE_ba455998</td><td>RUNNING </td><td>192.168.68.106:32472</td><td style=\"text-align: right;\">         960.819</td><td style=\"text-align: right;\">    39</td></tr>\n",
       "</tbody>\n",
       "</table><br><br>"
      ],
      "text/plain": [
       "<IPython.core.display.HTML object>"
      ]
     },
     "metadata": {},
     "output_type": "display_data"
    },
    {
     "name": "stderr",
     "output_type": "stream",
     "text": [
      "2021-02-19 17:23:01,696\tINFO resource_spec.py:212 -- Starting Ray with 9.23 GiB memory available for workers and up to 4.62 GiB for objects. You can adjust these settings with ray.init(memory=<bytes>, object_store_memory=<bytes>).\n"
     ]
    },
    {
     "name": "stdout",
     "output_type": "stream",
     "text": [
      "Result for train_AE_ba455998:\n",
      "  date: 2021-02-19_17-23-01\n",
      "  done: false\n",
      "  experiment_id: 69b3fbd9f9144deca47ded7ddb48fff7\n",
      "  experiment_tag: '0'\n",
      "  hostname: natashas-MacBook-Pro.local\n",
      "  iterations_since_restore: 40\n",
      "  node_ip: 192.168.68.106\n",
      "  pid: 32472\n",
      "  test_f1: 0.9514711811198625\n",
      "  test_loss: tensor(506753.8750)\n",
      "  time_since_restore: 987.859699010849\n",
      "  time_this_iter_s: 27.040699005126953\n",
      "  time_total_s: 987.859699010849\n",
      "  timestamp: 1613773381\n",
      "  timesteps_since_restore: 0\n",
      "  train_f1: 0.9523842392568213\n",
      "  train_loss: 62983.515625\n",
      "  training_iteration: 40\n",
      "  trial_id: ba455998\n",
      "  \n"
     ]
    },
    {
     "name": "stderr",
     "output_type": "stream",
     "text": [
      "2021-02-19 17:23:28,085\tWARNING util.py:132 -- The `process_trial` operation took 26.3889319896698 seconds to complete, which may be a performance bottleneck.\n"
     ]
    },
    {
     "data": {
      "text/html": [
       "== Status ==<br>Memory usage on this node: 18.1/32.0 GiB<br>Using FIFO scheduling algorithm.<br>Resources requested: 10/12 CPUs, 0/0 GPUs, 0.0/9.23 GiB heap, 0.0/3.17 GiB objects<br>Result logdir: /Users/natasha/Desktop/TUNE_RESULT_DIR/17_02_2021_40mods<br>Number of trials: 1 (1 RUNNING)<br><table>\n",
       "<thead>\n",
       "<tr><th>Trial name       </th><th>status  </th><th>loc                 </th><th style=\"text-align: right;\">  total time (s)</th><th style=\"text-align: right;\">  iter</th></tr>\n",
       "</thead>\n",
       "<tbody>\n",
       "<tr><td>train_AE_ba455998</td><td>RUNNING </td><td>192.168.68.106:32472</td><td style=\"text-align: right;\">          987.86</td><td style=\"text-align: right;\">    40</td></tr>\n",
       "</tbody>\n",
       "</table><br><br>"
      ],
      "text/plain": [
       "<IPython.core.display.HTML object>"
      ]
     },
     "metadata": {},
     "output_type": "display_data"
    },
    {
     "name": "stderr",
     "output_type": "stream",
     "text": [
      "2021-02-19 17:23:28,088\tINFO resource_spec.py:212 -- Starting Ray with 9.23 GiB memory available for workers and up to 4.63 GiB for objects. You can adjust these settings with ray.init(memory=<bytes>, object_store_memory=<bytes>).\n",
      "2021-02-19 17:23:28,089\tWARNING ray_trial_executor.py:361 -- Over the last 60 seconds, the Tune event loop has been backlogged processing new results. Consider increasing your period of result reporting to improve performance.\n"
     ]
    },
    {
     "name": "stdout",
     "output_type": "stream",
     "text": [
      "Result for train_AE_ba455998:\n",
      "  date: 2021-02-19_17-23-28\n",
      "  done: false\n",
      "  experiment_id: 69b3fbd9f9144deca47ded7ddb48fff7\n",
      "  experiment_tag: '0'\n",
      "  hostname: natashas-MacBook-Pro.local\n",
      "  iterations_since_restore: 41\n",
      "  node_ip: 192.168.68.106\n",
      "  pid: 32472\n",
      "  test_f1: 0.9531969773341012\n",
      "  test_loss: tensor(486085.4375)\n",
      "  time_since_restore: 1014.252329826355\n",
      "  time_this_iter_s: 26.39263081550598\n",
      "  time_total_s: 1014.252329826355\n",
      "  timestamp: 1613773408\n",
      "  timesteps_since_restore: 0\n",
      "  train_f1: 0.955224302419718\n",
      "  train_loss: 60163.31640625\n",
      "  training_iteration: 41\n",
      "  trial_id: ba455998\n",
      "  \n"
     ]
    },
    {
     "name": "stderr",
     "output_type": "stream",
     "text": [
      "2021-02-19 17:23:55,252\tWARNING util.py:132 -- The `process_trial` operation took 27.16292691230774 seconds to complete, which may be a performance bottleneck.\n"
     ]
    },
    {
     "data": {
      "text/html": [
       "== Status ==<br>Memory usage on this node: 18.2/32.0 GiB<br>Using FIFO scheduling algorithm.<br>Resources requested: 10/12 CPUs, 0/0 GPUs, 0.0/9.23 GiB heap, 0.0/3.17 GiB objects<br>Result logdir: /Users/natasha/Desktop/TUNE_RESULT_DIR/17_02_2021_40mods<br>Number of trials: 1 (1 RUNNING)<br><table>\n",
       "<thead>\n",
       "<tr><th>Trial name       </th><th>status  </th><th>loc                 </th><th style=\"text-align: right;\">  total time (s)</th><th style=\"text-align: right;\">  iter</th></tr>\n",
       "</thead>\n",
       "<tbody>\n",
       "<tr><td>train_AE_ba455998</td><td>RUNNING </td><td>192.168.68.106:32472</td><td style=\"text-align: right;\">         1014.25</td><td style=\"text-align: right;\">    41</td></tr>\n",
       "</tbody>\n",
       "</table><br><br>"
      ],
      "text/plain": [
       "<IPython.core.display.HTML object>"
      ]
     },
     "metadata": {},
     "output_type": "display_data"
    },
    {
     "name": "stderr",
     "output_type": "stream",
     "text": [
      "2021-02-19 17:23:55,257\tINFO resource_spec.py:212 -- Starting Ray with 9.18 GiB memory available for workers and up to 4.6 GiB for objects. You can adjust these settings with ray.init(memory=<bytes>, object_store_memory=<bytes>).\n"
     ]
    },
    {
     "name": "stdout",
     "output_type": "stream",
     "text": [
      "Result for train_AE_ba455998:\n",
      "  date: 2021-02-19_17-23-55\n",
      "  done: false\n",
      "  experiment_id: 69b3fbd9f9144deca47ded7ddb48fff7\n",
      "  experiment_tag: '0'\n",
      "  hostname: natashas-MacBook-Pro.local\n",
      "  iterations_since_restore: 42\n",
      "  node_ip: 192.168.68.106\n",
      "  pid: 32472\n",
      "  test_f1: 0.9524496866614558\n",
      "  test_loss: tensor(495758.9375)\n",
      "  time_since_restore: 1041.4194478988647\n",
      "  time_this_iter_s: 27.167118072509766\n",
      "  time_total_s: 1041.4194478988647\n",
      "  timestamp: 1613773435\n",
      "  timesteps_since_restore: 0\n",
      "  train_f1: 0.9522548444275173\n",
      "  train_loss: 63513.5078125\n",
      "  training_iteration: 42\n",
      "  trial_id: ba455998\n",
      "  \n"
     ]
    },
    {
     "name": "stderr",
     "output_type": "stream",
     "text": [
      "2021-02-19 17:24:22,432\tWARNING util.py:132 -- The `process_trial` operation took 27.174622058868408 seconds to complete, which may be a performance bottleneck.\n"
     ]
    },
    {
     "data": {
      "text/html": [
       "== Status ==<br>Memory usage on this node: 18.2/32.0 GiB<br>Using FIFO scheduling algorithm.<br>Resources requested: 10/12 CPUs, 0/0 GPUs, 0.0/9.18 GiB heap, 0.0/3.12 GiB objects<br>Result logdir: /Users/natasha/Desktop/TUNE_RESULT_DIR/17_02_2021_40mods<br>Number of trials: 1 (1 RUNNING)<br><table>\n",
       "<thead>\n",
       "<tr><th>Trial name       </th><th>status  </th><th>loc                 </th><th style=\"text-align: right;\">  total time (s)</th><th style=\"text-align: right;\">  iter</th></tr>\n",
       "</thead>\n",
       "<tbody>\n",
       "<tr><td>train_AE_ba455998</td><td>RUNNING </td><td>192.168.68.106:32472</td><td style=\"text-align: right;\">         1041.42</td><td style=\"text-align: right;\">    42</td></tr>\n",
       "</tbody>\n",
       "</table><br><br>"
      ],
      "text/plain": [
       "<IPython.core.display.HTML object>"
      ]
     },
     "metadata": {},
     "output_type": "display_data"
    },
    {
     "name": "stderr",
     "output_type": "stream",
     "text": [
      "2021-02-19 17:24:22,435\tINFO resource_spec.py:212 -- Starting Ray with 9.18 GiB memory available for workers and up to 4.6 GiB for objects. You can adjust these settings with ray.init(memory=<bytes>, object_store_memory=<bytes>).\n"
     ]
    },
    {
     "name": "stdout",
     "output_type": "stream",
     "text": [
      "Result for train_AE_ba455998:\n",
      "  date: 2021-02-19_17-24-22\n",
      "  done: false\n",
      "  experiment_id: 69b3fbd9f9144deca47ded7ddb48fff7\n",
      "  experiment_tag: '0'\n",
      "  hostname: natashas-MacBook-Pro.local\n",
      "  iterations_since_restore: 43\n",
      "  node_ip: 192.168.68.106\n",
      "  pid: 32472\n",
      "  test_f1: 0.9540679737919414\n",
      "  test_loss: tensor(477418.9062)\n",
      "  time_since_restore: 1068.5991368293762\n",
      "  time_this_iter_s: 27.179688930511475\n",
      "  time_total_s: 1068.5991368293762\n",
      "  timestamp: 1613773462\n",
      "  timesteps_since_restore: 0\n",
      "  train_f1: 0.9569194160827678\n",
      "  train_loss: 59270.3984375\n",
      "  training_iteration: 43\n",
      "  trial_id: ba455998\n",
      "  \n"
     ]
    },
    {
     "name": "stderr",
     "output_type": "stream",
     "text": [
      "2021-02-19 17:24:49,582\tWARNING util.py:132 -- The `process_trial` operation took 27.14577603340149 seconds to complete, which may be a performance bottleneck.\n"
     ]
    },
    {
     "data": {
      "text/html": [
       "== Status ==<br>Memory usage on this node: 18.2/32.0 GiB<br>Using FIFO scheduling algorithm.<br>Resources requested: 10/12 CPUs, 0/0 GPUs, 0.0/9.18 GiB heap, 0.0/3.17 GiB objects<br>Result logdir: /Users/natasha/Desktop/TUNE_RESULT_DIR/17_02_2021_40mods<br>Number of trials: 1 (1 RUNNING)<br><table>\n",
       "<thead>\n",
       "<tr><th>Trial name       </th><th>status  </th><th>loc                 </th><th style=\"text-align: right;\">  total time (s)</th><th style=\"text-align: right;\">  iter</th></tr>\n",
       "</thead>\n",
       "<tbody>\n",
       "<tr><td>train_AE_ba455998</td><td>RUNNING </td><td>192.168.68.106:32472</td><td style=\"text-align: right;\">          1068.6</td><td style=\"text-align: right;\">    43</td></tr>\n",
       "</tbody>\n",
       "</table><br><br>"
      ],
      "text/plain": [
       "<IPython.core.display.HTML object>"
      ]
     },
     "metadata": {},
     "output_type": "display_data"
    },
    {
     "name": "stderr",
     "output_type": "stream",
     "text": [
      "2021-02-19 17:24:49,585\tINFO resource_spec.py:212 -- Starting Ray with 9.18 GiB memory available for workers and up to 4.6 GiB for objects. You can adjust these settings with ray.init(memory=<bytes>, object_store_memory=<bytes>).\n",
      "2021-02-19 17:24:49,585\tWARNING ray_trial_executor.py:361 -- Over the last 60 seconds, the Tune event loop has been backlogged processing new results. Consider increasing your period of result reporting to improve performance.\n"
     ]
    },
    {
     "name": "stdout",
     "output_type": "stream",
     "text": [
      "Result for train_AE_ba455998:\n",
      "  date: 2021-02-19_17-24-49\n",
      "  done: false\n",
      "  experiment_id: 69b3fbd9f9144deca47ded7ddb48fff7\n",
      "  experiment_tag: '0'\n",
      "  hostname: natashas-MacBook-Pro.local\n",
      "  iterations_since_restore: 44\n",
      "  node_ip: 192.168.68.106\n",
      "  pid: 32472\n",
      "  test_f1: 0.9550019277770851\n",
      "  test_loss: tensor(470492.4688)\n",
      "  time_since_restore: 1095.7486708164215\n",
      "  time_this_iter_s: 27.149533987045288\n",
      "  time_total_s: 1095.7486708164215\n",
      "  timestamp: 1613773489\n",
      "  timesteps_since_restore: 0\n",
      "  train_f1: 0.9578602347637453\n",
      "  train_loss: 58955.4453125\n",
      "  training_iteration: 44\n",
      "  trial_id: ba455998\n",
      "  \n"
     ]
    },
    {
     "name": "stderr",
     "output_type": "stream",
     "text": [
      "2021-02-19 17:25:16,815\tWARNING util.py:132 -- The `process_trial` operation took 27.22864270210266 seconds to complete, which may be a performance bottleneck.\n"
     ]
    },
    {
     "data": {
      "text/html": [
       "== Status ==<br>Memory usage on this node: 18.2/32.0 GiB<br>Using FIFO scheduling algorithm.<br>Resources requested: 10/12 CPUs, 0/0 GPUs, 0.0/9.18 GiB heap, 0.0/3.17 GiB objects<br>Result logdir: /Users/natasha/Desktop/TUNE_RESULT_DIR/17_02_2021_40mods<br>Number of trials: 1 (1 RUNNING)<br><table>\n",
       "<thead>\n",
       "<tr><th>Trial name       </th><th>status  </th><th>loc                 </th><th style=\"text-align: right;\">  total time (s)</th><th style=\"text-align: right;\">  iter</th></tr>\n",
       "</thead>\n",
       "<tbody>\n",
       "<tr><td>train_AE_ba455998</td><td>RUNNING </td><td>192.168.68.106:32472</td><td style=\"text-align: right;\">         1095.75</td><td style=\"text-align: right;\">    44</td></tr>\n",
       "</tbody>\n",
       "</table><br><br>"
      ],
      "text/plain": [
       "<IPython.core.display.HTML object>"
      ]
     },
     "metadata": {},
     "output_type": "display_data"
    },
    {
     "name": "stderr",
     "output_type": "stream",
     "text": [
      "2021-02-19 17:25:16,819\tINFO resource_spec.py:212 -- Starting Ray with 9.23 GiB memory available for workers and up to 4.62 GiB for objects. You can adjust these settings with ray.init(memory=<bytes>, object_store_memory=<bytes>).\n"
     ]
    },
    {
     "name": "stdout",
     "output_type": "stream",
     "text": [
      "Result for train_AE_ba455998:\n",
      "  date: 2021-02-19_17-25-16\n",
      "  done: false\n",
      "  experiment_id: 69b3fbd9f9144deca47ded7ddb48fff7\n",
      "  experiment_tag: '0'\n",
      "  hostname: natashas-MacBook-Pro.local\n",
      "  iterations_since_restore: 45\n",
      "  node_ip: 192.168.68.106\n",
      "  pid: 32472\n",
      "  test_f1: 0.9566637010108551\n",
      "  test_loss: tensor(461814.6875)\n",
      "  time_since_restore: 1122.9816930294037\n",
      "  time_this_iter_s: 27.233022212982178\n",
      "  time_total_s: 1122.9816930294037\n",
      "  timestamp: 1613773516\n",
      "  timesteps_since_restore: 0\n",
      "  train_f1: 0.9567855101737092\n",
      "  train_loss: 58816.95703125\n",
      "  training_iteration: 45\n",
      "  trial_id: ba455998\n",
      "  \n"
     ]
    },
    {
     "name": "stderr",
     "output_type": "stream",
     "text": [
      "2021-02-19 17:25:43,726\tWARNING util.py:132 -- The `process_trial` operation took 26.906537294387817 seconds to complete, which may be a performance bottleneck.\n"
     ]
    },
    {
     "data": {
      "text/html": [
       "== Status ==<br>Memory usage on this node: 18.2/32.0 GiB<br>Using FIFO scheduling algorithm.<br>Resources requested: 10/12 CPUs, 0/0 GPUs, 0.0/9.23 GiB heap, 0.0/3.17 GiB objects<br>Result logdir: /Users/natasha/Desktop/TUNE_RESULT_DIR/17_02_2021_40mods<br>Number of trials: 1 (1 RUNNING)<br><table>\n",
       "<thead>\n",
       "<tr><th>Trial name       </th><th>status  </th><th>loc                 </th><th style=\"text-align: right;\">  total time (s)</th><th style=\"text-align: right;\">  iter</th></tr>\n",
       "</thead>\n",
       "<tbody>\n",
       "<tr><td>train_AE_ba455998</td><td>RUNNING </td><td>192.168.68.106:32472</td><td style=\"text-align: right;\">         1122.98</td><td style=\"text-align: right;\">    45</td></tr>\n",
       "</tbody>\n",
       "</table><br><br>"
      ],
      "text/plain": [
       "<IPython.core.display.HTML object>"
      ]
     },
     "metadata": {},
     "output_type": "display_data"
    },
    {
     "name": "stderr",
     "output_type": "stream",
     "text": [
      "2021-02-19 17:25:43,730\tINFO resource_spec.py:212 -- Starting Ray with 9.18 GiB memory available for workers and up to 4.61 GiB for objects. You can adjust these settings with ray.init(memory=<bytes>, object_store_memory=<bytes>).\n"
     ]
    },
    {
     "name": "stdout",
     "output_type": "stream",
     "text": [
      "Result for train_AE_ba455998:\n",
      "  date: 2021-02-19_17-25-43\n",
      "  done: false\n",
      "  experiment_id: 69b3fbd9f9144deca47ded7ddb48fff7\n",
      "  experiment_tag: '0'\n",
      "  hostname: natashas-MacBook-Pro.local\n",
      "  iterations_since_restore: 46\n",
      "  node_ip: 192.168.68.106\n",
      "  pid: 32472\n",
      "  test_f1: 0.9567271505907952\n",
      "  test_loss: tensor(461424.0938)\n",
      "  time_since_restore: 1149.8932478427887\n",
      "  time_this_iter_s: 26.91155481338501\n",
      "  time_total_s: 1149.8932478427887\n",
      "  timestamp: 1613773543\n",
      "  timesteps_since_restore: 0\n",
      "  train_f1: 0.9578685381832598\n",
      "  train_loss: 57016.62109375\n",
      "  training_iteration: 46\n",
      "  trial_id: ba455998\n",
      "  \n"
     ]
    },
    {
     "name": "stderr",
     "output_type": "stream",
     "text": [
      "2021-02-19 17:26:12,210\tWARNING util.py:132 -- The `process_trial` operation took 28.479971885681152 seconds to complete, which may be a performance bottleneck.\n"
     ]
    },
    {
     "data": {
      "text/html": [
       "== Status ==<br>Memory usage on this node: 18.2/32.0 GiB<br>Using FIFO scheduling algorithm.<br>Resources requested: 10/12 CPUs, 0/0 GPUs, 0.0/9.18 GiB heap, 0.0/3.17 GiB objects<br>Result logdir: /Users/natasha/Desktop/TUNE_RESULT_DIR/17_02_2021_40mods<br>Number of trials: 1 (1 RUNNING)<br><table>\n",
       "<thead>\n",
       "<tr><th>Trial name       </th><th>status  </th><th>loc                 </th><th style=\"text-align: right;\">  total time (s)</th><th style=\"text-align: right;\">  iter</th></tr>\n",
       "</thead>\n",
       "<tbody>\n",
       "<tr><td>train_AE_ba455998</td><td>RUNNING </td><td>192.168.68.106:32472</td><td style=\"text-align: right;\">         1149.89</td><td style=\"text-align: right;\">    46</td></tr>\n",
       "</tbody>\n",
       "</table><br><br>"
      ],
      "text/plain": [
       "<IPython.core.display.HTML object>"
      ]
     },
     "metadata": {},
     "output_type": "display_data"
    },
    {
     "name": "stderr",
     "output_type": "stream",
     "text": [
      "2021-02-19 17:26:12,214\tINFO resource_spec.py:212 -- Starting Ray with 9.18 GiB memory available for workers and up to 4.6 GiB for objects. You can adjust these settings with ray.init(memory=<bytes>, object_store_memory=<bytes>).\n",
      "2021-02-19 17:26:12,215\tWARNING ray_trial_executor.py:361 -- Over the last 60 seconds, the Tune event loop has been backlogged processing new results. Consider increasing your period of result reporting to improve performance.\n"
     ]
    },
    {
     "name": "stdout",
     "output_type": "stream",
     "text": [
      "Result for train_AE_ba455998:\n",
      "  date: 2021-02-19_17-26-12\n",
      "  done: false\n",
      "  experiment_id: 69b3fbd9f9144deca47ded7ddb48fff7\n",
      "  experiment_tag: '0'\n",
      "  hostname: natashas-MacBook-Pro.local\n",
      "  iterations_since_restore: 47\n",
      "  node_ip: 192.168.68.106\n",
      "  pid: 32472\n",
      "  test_f1: 0.9571590195653994\n",
      "  test_loss: tensor(455625.1250)\n",
      "  time_since_restore: 1178.3772311210632\n",
      "  time_this_iter_s: 28.483983278274536\n",
      "  time_total_s: 1178.3772311210632\n",
      "  timestamp: 1613773572\n",
      "  timesteps_since_restore: 0\n",
      "  train_f1: 0.9595179812651509\n",
      "  train_loss: 56566.58203125\n",
      "  training_iteration: 47\n",
      "  trial_id: ba455998\n",
      "  \n"
     ]
    },
    {
     "name": "stderr",
     "output_type": "stream",
     "text": [
      "2021-02-19 17:26:39,922\tWARNING util.py:132 -- The `process_trial` operation took 27.70668315887451 seconds to complete, which may be a performance bottleneck.\n"
     ]
    },
    {
     "data": {
      "text/html": [
       "== Status ==<br>Memory usage on this node: 18.2/32.0 GiB<br>Using FIFO scheduling algorithm.<br>Resources requested: 10/12 CPUs, 0/0 GPUs, 0.0/9.18 GiB heap, 0.0/3.17 GiB objects<br>Result logdir: /Users/natasha/Desktop/TUNE_RESULT_DIR/17_02_2021_40mods<br>Number of trials: 1 (1 RUNNING)<br><table>\n",
       "<thead>\n",
       "<tr><th>Trial name       </th><th>status  </th><th>loc                 </th><th style=\"text-align: right;\">  total time (s)</th><th style=\"text-align: right;\">  iter</th></tr>\n",
       "</thead>\n",
       "<tbody>\n",
       "<tr><td>train_AE_ba455998</td><td>RUNNING </td><td>192.168.68.106:32472</td><td style=\"text-align: right;\">         1178.38</td><td style=\"text-align: right;\">    47</td></tr>\n",
       "</tbody>\n",
       "</table><br><br>"
      ],
      "text/plain": [
       "<IPython.core.display.HTML object>"
      ]
     },
     "metadata": {},
     "output_type": "display_data"
    },
    {
     "name": "stderr",
     "output_type": "stream",
     "text": [
      "2021-02-19 17:26:39,926\tINFO resource_spec.py:212 -- Starting Ray with 9.23 GiB memory available for workers and up to 4.62 GiB for objects. You can adjust these settings with ray.init(memory=<bytes>, object_store_memory=<bytes>).\n"
     ]
    },
    {
     "name": "stdout",
     "output_type": "stream",
     "text": [
      "Result for train_AE_ba455998:\n",
      "  date: 2021-02-19_17-26-39\n",
      "  done: false\n",
      "  experiment_id: 69b3fbd9f9144deca47ded7ddb48fff7\n",
      "  experiment_tag: '0'\n",
      "  hostname: natashas-MacBook-Pro.local\n",
      "  iterations_since_restore: 48\n",
      "  node_ip: 192.168.68.106\n",
      "  pid: 32472\n",
      "  test_f1: 0.9582383880881573\n",
      "  test_loss: tensor(449219.2812)\n",
      "  time_since_restore: 1206.0887191295624\n",
      "  time_this_iter_s: 27.711488008499146\n",
      "  time_total_s: 1206.0887191295624\n",
      "  timestamp: 1613773599\n",
      "  timesteps_since_restore: 0\n",
      "  train_f1: 0.9609754451565642\n",
      "  train_loss: 54007.87109375\n",
      "  training_iteration: 48\n",
      "  trial_id: ba455998\n",
      "  \n"
     ]
    },
    {
     "name": "stderr",
     "output_type": "stream",
     "text": [
      "2021-02-19 17:26:47,185\tWARNING util.py:132 -- The `process_trial` operation took 7.259428024291992 seconds to complete, which may be a performance bottleneck.\n"
     ]
    },
    {
     "data": {
      "text/html": [
       "== Status ==<br>Memory usage on this node: 18.2/32.0 GiB<br>Using FIFO scheduling algorithm.<br>Resources requested: 10/12 CPUs, 0/0 GPUs, 0.0/9.23 GiB heap, 0.0/3.17 GiB objects<br>Result logdir: /Users/natasha/Desktop/TUNE_RESULT_DIR/17_02_2021_40mods<br>Number of trials: 1 (1 RUNNING)<br><table>\n",
       "<thead>\n",
       "<tr><th>Trial name       </th><th>status  </th><th>loc                 </th><th style=\"text-align: right;\">  total time (s)</th><th style=\"text-align: right;\">  iter</th></tr>\n",
       "</thead>\n",
       "<tbody>\n",
       "<tr><td>train_AE_ba455998</td><td>RUNNING </td><td>192.168.68.106:32472</td><td style=\"text-align: right;\">         1206.09</td><td style=\"text-align: right;\">    48</td></tr>\n",
       "</tbody>\n",
       "</table><br><br>"
      ],
      "text/plain": [
       "<IPython.core.display.HTML object>"
      ]
     },
     "metadata": {},
     "output_type": "display_data"
    },
    {
     "name": "stderr",
     "output_type": "stream",
     "text": [
      "2021-02-19 17:26:47,188\tINFO resource_spec.py:212 -- Starting Ray with 9.23 GiB memory available for workers and up to 4.62 GiB for objects. You can adjust these settings with ray.init(memory=<bytes>, object_store_memory=<bytes>).\n"
     ]
    },
    {
     "name": "stdout",
     "output_type": "stream",
     "text": [
      "Result for train_AE_ba455998:\n",
      "  date: 2021-02-19_17-26-47\n",
      "  done: false\n",
      "  experiment_id: 69b3fbd9f9144deca47ded7ddb48fff7\n",
      "  experiment_tag: '0'\n",
      "  hostname: natashas-MacBook-Pro.local\n",
      "  iterations_since_restore: 49\n",
      "  node_ip: 192.168.68.106\n",
      "  pid: 32472\n",
      "  test_f1: 0.9591644114143951\n",
      "  test_loss: tensor(440776.4375)\n",
      "  time_since_restore: 1213.3525149822235\n",
      "  time_this_iter_s: 7.263795852661133\n",
      "  time_total_s: 1213.3525149822235\n",
      "  timestamp: 1613773607\n",
      "  timesteps_since_restore: 0\n",
      "  train_f1: 0.9624031717513567\n",
      "  train_loss: 53817.33203125\n",
      "  training_iteration: 49\n",
      "  trial_id: ba455998\n",
      "  \n"
     ]
    },
    {
     "name": "stderr",
     "output_type": "stream",
     "text": [
      "2021-02-19 17:27:14,262\tWARNING util.py:132 -- The `process_trial` operation took 27.07345414161682 seconds to complete, which may be a performance bottleneck.\n"
     ]
    },
    {
     "data": {
      "text/html": [
       "== Status ==<br>Memory usage on this node: 18.2/32.0 GiB<br>Using FIFO scheduling algorithm.<br>Resources requested: 10/12 CPUs, 0/0 GPUs, 0.0/9.23 GiB heap, 0.0/3.17 GiB objects<br>Result logdir: /Users/natasha/Desktop/TUNE_RESULT_DIR/17_02_2021_40mods<br>Number of trials: 1 (1 RUNNING)<br><table>\n",
       "<thead>\n",
       "<tr><th>Trial name       </th><th>status  </th><th>loc                 </th><th style=\"text-align: right;\">  total time (s)</th><th style=\"text-align: right;\">  iter</th></tr>\n",
       "</thead>\n",
       "<tbody>\n",
       "<tr><td>train_AE_ba455998</td><td>RUNNING </td><td>192.168.68.106:32472</td><td style=\"text-align: right;\">         1213.35</td><td style=\"text-align: right;\">    49</td></tr>\n",
       "</tbody>\n",
       "</table><br><br>"
      ],
      "text/plain": [
       "<IPython.core.display.HTML object>"
      ]
     },
     "metadata": {},
     "output_type": "display_data"
    },
    {
     "name": "stderr",
     "output_type": "stream",
     "text": [
      "2021-02-19 17:27:14,266\tINFO resource_spec.py:212 -- Starting Ray with 9.18 GiB memory available for workers and up to 4.61 GiB for objects. You can adjust these settings with ray.init(memory=<bytes>, object_store_memory=<bytes>).\n",
      "2021-02-19 17:27:14,267\tWARNING ray_trial_executor.py:361 -- Over the last 60 seconds, the Tune event loop has been backlogged processing new results. Consider increasing your period of result reporting to improve performance.\n"
     ]
    },
    {
     "name": "stdout",
     "output_type": "stream",
     "text": [
      "Result for train_AE_ba455998:\n",
      "  date: 2021-02-19_17-27-14\n",
      "  done: false\n",
      "  experiment_id: 69b3fbd9f9144deca47ded7ddb48fff7\n",
      "  experiment_tag: '0'\n",
      "  hostname: natashas-MacBook-Pro.local\n",
      "  iterations_since_restore: 50\n",
      "  node_ip: 192.168.68.106\n",
      "  pid: 32472\n",
      "  test_f1: 0.9593595753645846\n",
      "  test_loss: tensor(438242.6875)\n",
      "  time_since_restore: 1240.4288909435272\n",
      "  time_this_iter_s: 27.07637596130371\n",
      "  time_total_s: 1240.4288909435272\n",
      "  timestamp: 1613773634\n",
      "  timesteps_since_restore: 0\n",
      "  train_f1: 0.9614116638991029\n",
      "  train_loss: 53286.1796875\n",
      "  training_iteration: 50\n",
      "  trial_id: ba455998\n",
      "  \n"
     ]
    },
    {
     "name": "stderr",
     "output_type": "stream",
     "text": [
      "2021-02-19 17:27:42,513\tWARNING util.py:132 -- The `process_trial` operation took 28.245797872543335 seconds to complete, which may be a performance bottleneck.\n"
     ]
    },
    {
     "data": {
      "text/html": [
       "== Status ==<br>Memory usage on this node: 18.2/32.0 GiB<br>Using FIFO scheduling algorithm.<br>Resources requested: 10/12 CPUs, 0/0 GPUs, 0.0/9.18 GiB heap, 0.0/3.17 GiB objects<br>Result logdir: /Users/natasha/Desktop/TUNE_RESULT_DIR/17_02_2021_40mods<br>Number of trials: 1 (1 RUNNING)<br><table>\n",
       "<thead>\n",
       "<tr><th>Trial name       </th><th>status  </th><th>loc                 </th><th style=\"text-align: right;\">  total time (s)</th><th style=\"text-align: right;\">  iter</th></tr>\n",
       "</thead>\n",
       "<tbody>\n",
       "<tr><td>train_AE_ba455998</td><td>RUNNING </td><td>192.168.68.106:32472</td><td style=\"text-align: right;\">         1240.43</td><td style=\"text-align: right;\">    50</td></tr>\n",
       "</tbody>\n",
       "</table><br><br>"
      ],
      "text/plain": [
       "<IPython.core.display.HTML object>"
      ]
     },
     "metadata": {},
     "output_type": "display_data"
    },
    {
     "name": "stderr",
     "output_type": "stream",
     "text": [
      "2021-02-19 17:27:42,517\tINFO resource_spec.py:212 -- Starting Ray with 9.18 GiB memory available for workers and up to 4.61 GiB for objects. You can adjust these settings with ray.init(memory=<bytes>, object_store_memory=<bytes>).\n"
     ]
    },
    {
     "name": "stdout",
     "output_type": "stream",
     "text": [
      "Result for train_AE_ba455998:\n",
      "  date: 2021-02-19_17-27-42\n",
      "  done: false\n",
      "  experiment_id: 69b3fbd9f9144deca47ded7ddb48fff7\n",
      "  experiment_tag: '0'\n",
      "  hostname: natashas-MacBook-Pro.local\n",
      "  iterations_since_restore: 51\n",
      "  node_ip: 192.168.68.106\n",
      "  pid: 32472\n",
      "  test_f1: 0.9608244468458201\n",
      "  test_loss: tensor(435093.3750)\n",
      "  time_since_restore: 1268.6801719665527\n",
      "  time_this_iter_s: 28.251281023025513\n",
      "  time_total_s: 1268.6801719665527\n",
      "  timestamp: 1613773662\n",
      "  timesteps_since_restore: 0\n",
      "  train_f1: 0.9598844677587504\n",
      "  train_loss: 54223.8515625\n",
      "  training_iteration: 51\n",
      "  trial_id: ba455998\n",
      "  \n"
     ]
    },
    {
     "name": "stderr",
     "output_type": "stream",
     "text": [
      "2021-02-19 17:28:10,310\tWARNING util.py:132 -- The `process_trial` operation took 27.792205810546875 seconds to complete, which may be a performance bottleneck.\n"
     ]
    },
    {
     "data": {
      "text/html": [
       "== Status ==<br>Memory usage on this node: 18.2/32.0 GiB<br>Using FIFO scheduling algorithm.<br>Resources requested: 10/12 CPUs, 0/0 GPUs, 0.0/9.18 GiB heap, 0.0/3.17 GiB objects<br>Result logdir: /Users/natasha/Desktop/TUNE_RESULT_DIR/17_02_2021_40mods<br>Number of trials: 1 (1 RUNNING)<br><table>\n",
       "<thead>\n",
       "<tr><th>Trial name       </th><th>status  </th><th>loc                 </th><th style=\"text-align: right;\">  total time (s)</th><th style=\"text-align: right;\">  iter</th></tr>\n",
       "</thead>\n",
       "<tbody>\n",
       "<tr><td>train_AE_ba455998</td><td>RUNNING </td><td>192.168.68.106:32472</td><td style=\"text-align: right;\">         1268.68</td><td style=\"text-align: right;\">    51</td></tr>\n",
       "</tbody>\n",
       "</table><br><br>"
      ],
      "text/plain": [
       "<IPython.core.display.HTML object>"
      ]
     },
     "metadata": {},
     "output_type": "display_data"
    },
    {
     "name": "stderr",
     "output_type": "stream",
     "text": [
      "2021-02-19 17:28:10,314\tINFO resource_spec.py:212 -- Starting Ray with 9.23 GiB memory available for workers and up to 4.62 GiB for objects. You can adjust these settings with ray.init(memory=<bytes>, object_store_memory=<bytes>).\n"
     ]
    },
    {
     "name": "stdout",
     "output_type": "stream",
     "text": [
      "Result for train_AE_ba455998:\n",
      "  date: 2021-02-19_17-28-10\n",
      "  done: false\n",
      "  experiment_id: 69b3fbd9f9144deca47ded7ddb48fff7\n",
      "  experiment_tag: '0'\n",
      "  hostname: natashas-MacBook-Pro.local\n",
      "  iterations_since_restore: 52\n",
      "  node_ip: 192.168.68.106\n",
      "  pid: 32472\n",
      "  test_f1: 0.9620949832509466\n",
      "  test_loss: tensor(419266.3750)\n",
      "  time_since_restore: 1296.4773530960083\n",
      "  time_this_iter_s: 27.797181129455566\n",
      "  time_total_s: 1296.4773530960083\n",
      "  timestamp: 1613773690\n",
      "  timesteps_since_restore: 0\n",
      "  train_f1: 0.9610984831223903\n",
      "  train_loss: 53200.57421875\n",
      "  training_iteration: 52\n",
      "  trial_id: ba455998\n",
      "  \n"
     ]
    },
    {
     "name": "stderr",
     "output_type": "stream",
     "text": [
      "2021-02-19 17:28:38,459\tWARNING util.py:132 -- The `process_trial` operation took 28.144218683242798 seconds to complete, which may be a performance bottleneck.\n"
     ]
    },
    {
     "data": {
      "text/html": [
       "== Status ==<br>Memory usage on this node: 18.2/32.0 GiB<br>Using FIFO scheduling algorithm.<br>Resources requested: 10/12 CPUs, 0/0 GPUs, 0.0/9.23 GiB heap, 0.0/3.17 GiB objects<br>Result logdir: /Users/natasha/Desktop/TUNE_RESULT_DIR/17_02_2021_40mods<br>Number of trials: 1 (1 RUNNING)<br><table>\n",
       "<thead>\n",
       "<tr><th>Trial name       </th><th>status  </th><th>loc                 </th><th style=\"text-align: right;\">  total time (s)</th><th style=\"text-align: right;\">  iter</th></tr>\n",
       "</thead>\n",
       "<tbody>\n",
       "<tr><td>train_AE_ba455998</td><td>RUNNING </td><td>192.168.68.106:32472</td><td style=\"text-align: right;\">         1296.48</td><td style=\"text-align: right;\">    52</td></tr>\n",
       "</tbody>\n",
       "</table><br><br>"
      ],
      "text/plain": [
       "<IPython.core.display.HTML object>"
      ]
     },
     "metadata": {},
     "output_type": "display_data"
    },
    {
     "name": "stderr",
     "output_type": "stream",
     "text": [
      "2021-02-19 17:28:38,465\tINFO resource_spec.py:212 -- Starting Ray with 9.18 GiB memory available for workers and up to 4.61 GiB for objects. You can adjust these settings with ray.init(memory=<bytes>, object_store_memory=<bytes>).\n",
      "2021-02-19 17:28:38,465\tWARNING ray_trial_executor.py:361 -- Over the last 60 seconds, the Tune event loop has been backlogged processing new results. Consider increasing your period of result reporting to improve performance.\n"
     ]
    },
    {
     "name": "stdout",
     "output_type": "stream",
     "text": [
      "Result for train_AE_ba455998:\n",
      "  date: 2021-02-19_17-28-38\n",
      "  done: false\n",
      "  experiment_id: 69b3fbd9f9144deca47ded7ddb48fff7\n",
      "  experiment_tag: '0'\n",
      "  hostname: natashas-MacBook-Pro.local\n",
      "  iterations_since_restore: 53\n",
      "  node_ip: 192.168.68.106\n",
      "  pid: 32472\n",
      "  test_f1: 0.9619105861733778\n",
      "  test_loss: tensor(417997.5625)\n",
      "  time_since_restore: 1324.6261019706726\n",
      "  time_this_iter_s: 28.148748874664307\n",
      "  time_total_s: 1324.6261019706726\n",
      "  timestamp: 1613773718\n",
      "  timesteps_since_restore: 0\n",
      "  train_f1: 0.9643136607244632\n",
      "  train_loss: 50475.42578125\n",
      "  training_iteration: 53\n",
      "  trial_id: ba455998\n",
      "  \n"
     ]
    },
    {
     "name": "stderr",
     "output_type": "stream",
     "text": [
      "2021-02-19 17:29:05,063\tWARNING util.py:132 -- The `process_trial` operation took 26.597748041152954 seconds to complete, which may be a performance bottleneck.\n"
     ]
    },
    {
     "data": {
      "text/html": [
       "== Status ==<br>Memory usage on this node: 18.2/32.0 GiB<br>Using FIFO scheduling algorithm.<br>Resources requested: 10/12 CPUs, 0/0 GPUs, 0.0/9.18 GiB heap, 0.0/3.17 GiB objects<br>Result logdir: /Users/natasha/Desktop/TUNE_RESULT_DIR/17_02_2021_40mods<br>Number of trials: 1 (1 RUNNING)<br><table>\n",
       "<thead>\n",
       "<tr><th>Trial name       </th><th>status  </th><th>loc                 </th><th style=\"text-align: right;\">  total time (s)</th><th style=\"text-align: right;\">  iter</th></tr>\n",
       "</thead>\n",
       "<tbody>\n",
       "<tr><td>train_AE_ba455998</td><td>RUNNING </td><td>192.168.68.106:32472</td><td style=\"text-align: right;\">         1324.63</td><td style=\"text-align: right;\">    53</td></tr>\n",
       "</tbody>\n",
       "</table><br><br>"
      ],
      "text/plain": [
       "<IPython.core.display.HTML object>"
      ]
     },
     "metadata": {},
     "output_type": "display_data"
    },
    {
     "name": "stderr",
     "output_type": "stream",
     "text": [
      "2021-02-19 17:29:05,072\tINFO resource_spec.py:212 -- Starting Ray with 9.23 GiB memory available for workers and up to 4.62 GiB for objects. You can adjust these settings with ray.init(memory=<bytes>, object_store_memory=<bytes>).\n"
     ]
    },
    {
     "name": "stdout",
     "output_type": "stream",
     "text": [
      "Result for train_AE_ba455998:\n",
      "  date: 2021-02-19_17-29-05\n",
      "  done: false\n",
      "  experiment_id: 69b3fbd9f9144deca47ded7ddb48fff7\n",
      "  experiment_tag: '0'\n",
      "  hostname: natashas-MacBook-Pro.local\n",
      "  iterations_since_restore: 54\n",
      "  node_ip: 192.168.68.106\n",
      "  pid: 32472\n",
      "  test_f1: 0.9623915217029124\n",
      "  test_loss: tensor(410239.3750)\n",
      "  time_since_restore: 1351.2305250167847\n",
      "  time_this_iter_s: 26.60442304611206\n",
      "  time_total_s: 1351.2305250167847\n",
      "  timestamp: 1613773745\n",
      "  timesteps_since_restore: 0\n",
      "  train_f1: 0.9644014899031161\n",
      "  train_loss: 52502.8515625\n",
      "  training_iteration: 54\n",
      "  trial_id: ba455998\n",
      "  \n"
     ]
    },
    {
     "name": "stderr",
     "output_type": "stream",
     "text": [
      "2021-02-19 17:29:32,375\tWARNING util.py:132 -- The `process_trial` operation took 27.303039073944092 seconds to complete, which may be a performance bottleneck.\n"
     ]
    },
    {
     "data": {
      "text/html": [
       "== Status ==<br>Memory usage on this node: 18.2/32.0 GiB<br>Using FIFO scheduling algorithm.<br>Resources requested: 10/12 CPUs, 0/0 GPUs, 0.0/9.23 GiB heap, 0.0/3.17 GiB objects<br>Result logdir: /Users/natasha/Desktop/TUNE_RESULT_DIR/17_02_2021_40mods<br>Number of trials: 1 (1 RUNNING)<br><table>\n",
       "<thead>\n",
       "<tr><th>Trial name       </th><th>status  </th><th>loc                 </th><th style=\"text-align: right;\">  total time (s)</th><th style=\"text-align: right;\">  iter</th></tr>\n",
       "</thead>\n",
       "<tbody>\n",
       "<tr><td>train_AE_ba455998</td><td>RUNNING </td><td>192.168.68.106:32472</td><td style=\"text-align: right;\">         1351.23</td><td style=\"text-align: right;\">    54</td></tr>\n",
       "</tbody>\n",
       "</table><br><br>"
      ],
      "text/plain": [
       "<IPython.core.display.HTML object>"
      ]
     },
     "metadata": {},
     "output_type": "display_data"
    },
    {
     "name": "stderr",
     "output_type": "stream",
     "text": [
      "2021-02-19 17:29:32,379\tINFO resource_spec.py:212 -- Starting Ray with 9.23 GiB memory available for workers and up to 4.63 GiB for objects. You can adjust these settings with ray.init(memory=<bytes>, object_store_memory=<bytes>).\n"
     ]
    },
    {
     "name": "stdout",
     "output_type": "stream",
     "text": [
      "Result for train_AE_ba455998:\n",
      "  date: 2021-02-19_17-29-32\n",
      "  done: false\n",
      "  experiment_id: 69b3fbd9f9144deca47ded7ddb48fff7\n",
      "  experiment_tag: '0'\n",
      "  hostname: natashas-MacBook-Pro.local\n",
      "  iterations_since_restore: 55\n",
      "  node_ip: 192.168.68.106\n",
      "  pid: 32472\n",
      "  test_f1: 0.9631904253897743\n",
      "  test_loss: tensor(410782.0625)\n",
      "  time_since_restore: 1378.542503118515\n",
      "  time_this_iter_s: 27.311978101730347\n",
      "  time_total_s: 1378.542503118515\n",
      "  timestamp: 1613773772\n",
      "  timesteps_since_restore: 0\n",
      "  train_f1: 0.962576562490172\n",
      "  train_loss: 54674.33984375\n",
      "  training_iteration: 55\n",
      "  trial_id: ba455998\n",
      "  \n"
     ]
    },
    {
     "name": "stderr",
     "output_type": "stream",
     "text": [
      "2021-02-19 17:29:59,237\tWARNING util.py:132 -- The `process_trial` operation took 26.85804319381714 seconds to complete, which may be a performance bottleneck.\n"
     ]
    },
    {
     "data": {
      "text/html": [
       "== Status ==<br>Memory usage on this node: 18.2/32.0 GiB<br>Using FIFO scheduling algorithm.<br>Resources requested: 10/12 CPUs, 0/0 GPUs, 0.0/9.23 GiB heap, 0.0/3.17 GiB objects<br>Result logdir: /Users/natasha/Desktop/TUNE_RESULT_DIR/17_02_2021_40mods<br>Number of trials: 1 (1 RUNNING)<br><table>\n",
       "<thead>\n",
       "<tr><th>Trial name       </th><th>status  </th><th>loc                 </th><th style=\"text-align: right;\">  total time (s)</th><th style=\"text-align: right;\">  iter</th></tr>\n",
       "</thead>\n",
       "<tbody>\n",
       "<tr><td>train_AE_ba455998</td><td>RUNNING </td><td>192.168.68.106:32472</td><td style=\"text-align: right;\">         1378.54</td><td style=\"text-align: right;\">    55</td></tr>\n",
       "</tbody>\n",
       "</table><br><br>"
      ],
      "text/plain": [
       "<IPython.core.display.HTML object>"
      ]
     },
     "metadata": {},
     "output_type": "display_data"
    },
    {
     "name": "stderr",
     "output_type": "stream",
     "text": [
      "2021-02-19 17:29:59,240\tINFO resource_spec.py:212 -- Starting Ray with 9.18 GiB memory available for workers and up to 4.61 GiB for objects. You can adjust these settings with ray.init(memory=<bytes>, object_store_memory=<bytes>).\n",
      "2021-02-19 17:29:59,241\tWARNING ray_trial_executor.py:361 -- Over the last 60 seconds, the Tune event loop has been backlogged processing new results. Consider increasing your period of result reporting to improve performance.\n"
     ]
    },
    {
     "name": "stdout",
     "output_type": "stream",
     "text": [
      "Result for train_AE_ba455998:\n",
      "  date: 2021-02-19_17-29-59\n",
      "  done: false\n",
      "  experiment_id: 69b3fbd9f9144deca47ded7ddb48fff7\n",
      "  experiment_tag: '0'\n",
      "  hostname: natashas-MacBook-Pro.local\n",
      "  iterations_since_restore: 56\n",
      "  node_ip: 192.168.68.106\n",
      "  pid: 32472\n",
      "  test_f1: 0.9626091857359291\n",
      "  test_loss: tensor(414434.6875)\n",
      "  time_since_restore: 1405.40438914299\n",
      "  time_this_iter_s: 26.861886024475098\n",
      "  time_total_s: 1405.40438914299\n",
      "  timestamp: 1613773799\n",
      "  timesteps_since_restore: 0\n",
      "  train_f1: 0.965374387383215\n",
      "  train_loss: 51303.2734375\n",
      "  training_iteration: 56\n",
      "  trial_id: ba455998\n",
      "  \n"
     ]
    },
    {
     "name": "stderr",
     "output_type": "stream",
     "text": [
      "2021-02-19 17:30:26,199\tWARNING util.py:132 -- The `process_trial` operation took 26.95754599571228 seconds to complete, which may be a performance bottleneck.\n"
     ]
    },
    {
     "data": {
      "text/html": [
       "== Status ==<br>Memory usage on this node: 18.2/32.0 GiB<br>Using FIFO scheduling algorithm.<br>Resources requested: 10/12 CPUs, 0/0 GPUs, 0.0/9.18 GiB heap, 0.0/3.17 GiB objects<br>Result logdir: /Users/natasha/Desktop/TUNE_RESULT_DIR/17_02_2021_40mods<br>Number of trials: 1 (1 RUNNING)<br><table>\n",
       "<thead>\n",
       "<tr><th>Trial name       </th><th>status  </th><th>loc                 </th><th style=\"text-align: right;\">  total time (s)</th><th style=\"text-align: right;\">  iter</th></tr>\n",
       "</thead>\n",
       "<tbody>\n",
       "<tr><td>train_AE_ba455998</td><td>RUNNING </td><td>192.168.68.106:32472</td><td style=\"text-align: right;\">          1405.4</td><td style=\"text-align: right;\">    56</td></tr>\n",
       "</tbody>\n",
       "</table><br><br>"
      ],
      "text/plain": [
       "<IPython.core.display.HTML object>"
      ]
     },
     "metadata": {},
     "output_type": "display_data"
    },
    {
     "name": "stderr",
     "output_type": "stream",
     "text": [
      "2021-02-19 17:30:26,202\tINFO resource_spec.py:212 -- Starting Ray with 9.23 GiB memory available for workers and up to 4.63 GiB for objects. You can adjust these settings with ray.init(memory=<bytes>, object_store_memory=<bytes>).\n"
     ]
    },
    {
     "name": "stdout",
     "output_type": "stream",
     "text": [
      "Result for train_AE_ba455998:\n",
      "  date: 2021-02-19_17-30-26\n",
      "  done: false\n",
      "  experiment_id: 69b3fbd9f9144deca47ded7ddb48fff7\n",
      "  experiment_tag: '0'\n",
      "  hostname: natashas-MacBook-Pro.local\n",
      "  iterations_since_restore: 57\n",
      "  node_ip: 192.168.68.106\n",
      "  pid: 32472\n",
      "  test_f1: 0.9635517083630595\n",
      "  test_loss: tensor(404545.2500)\n",
      "  time_since_restore: 1432.366178035736\n",
      "  time_this_iter_s: 26.96178889274597\n",
      "  time_total_s: 1432.366178035736\n",
      "  timestamp: 1613773826\n",
      "  timesteps_since_restore: 0\n",
      "  train_f1: 0.9665505025421977\n",
      "  train_loss: 50272.81640625\n",
      "  training_iteration: 57\n",
      "  trial_id: ba455998\n",
      "  \n"
     ]
    },
    {
     "name": "stderr",
     "output_type": "stream",
     "text": [
      "2021-02-19 17:30:53,397\tWARNING util.py:132 -- The `process_trial` operation took 27.193592071533203 seconds to complete, which may be a performance bottleneck.\n"
     ]
    },
    {
     "data": {
      "text/html": [
       "== Status ==<br>Memory usage on this node: 18.2/32.0 GiB<br>Using FIFO scheduling algorithm.<br>Resources requested: 10/12 CPUs, 0/0 GPUs, 0.0/9.23 GiB heap, 0.0/3.17 GiB objects<br>Result logdir: /Users/natasha/Desktop/TUNE_RESULT_DIR/17_02_2021_40mods<br>Number of trials: 1 (1 RUNNING)<br><table>\n",
       "<thead>\n",
       "<tr><th>Trial name       </th><th>status  </th><th>loc                 </th><th style=\"text-align: right;\">  total time (s)</th><th style=\"text-align: right;\">  iter</th></tr>\n",
       "</thead>\n",
       "<tbody>\n",
       "<tr><td>train_AE_ba455998</td><td>RUNNING </td><td>192.168.68.106:32472</td><td style=\"text-align: right;\">         1432.37</td><td style=\"text-align: right;\">    57</td></tr>\n",
       "</tbody>\n",
       "</table><br><br>"
      ],
      "text/plain": [
       "<IPython.core.display.HTML object>"
      ]
     },
     "metadata": {},
     "output_type": "display_data"
    },
    {
     "name": "stderr",
     "output_type": "stream",
     "text": [
      "2021-02-19 17:30:53,400\tINFO resource_spec.py:212 -- Starting Ray with 9.23 GiB memory available for workers and up to 4.62 GiB for objects. You can adjust these settings with ray.init(memory=<bytes>, object_store_memory=<bytes>).\n"
     ]
    },
    {
     "name": "stdout",
     "output_type": "stream",
     "text": [
      "Result for train_AE_ba455998:\n",
      "  date: 2021-02-19_17-30-53\n",
      "  done: false\n",
      "  experiment_id: 69b3fbd9f9144deca47ded7ddb48fff7\n",
      "  experiment_tag: '0'\n",
      "  hostname: natashas-MacBook-Pro.local\n",
      "  iterations_since_restore: 58\n",
      "  node_ip: 192.168.68.106\n",
      "  pid: 32472\n",
      "  test_f1: 0.9645120432846951\n",
      "  test_loss: tensor(396596.4688)\n",
      "  time_since_restore: 1459.5636320114136\n",
      "  time_this_iter_s: 27.19745397567749\n",
      "  time_total_s: 1459.5636320114136\n",
      "  timestamp: 1613773853\n",
      "  timesteps_since_restore: 0\n",
      "  train_f1: 0.9635940220089857\n",
      "  train_loss: 51374.2109375\n",
      "  training_iteration: 58\n",
      "  trial_id: ba455998\n",
      "  \n"
     ]
    },
    {
     "name": "stderr",
     "output_type": "stream",
     "text": [
      "2021-02-19 17:31:21,049\tWARNING util.py:132 -- The `process_trial` operation took 27.648491144180298 seconds to complete, which may be a performance bottleneck.\n"
     ]
    },
    {
     "data": {
      "text/html": [
       "== Status ==<br>Memory usage on this node: 18.2/32.0 GiB<br>Using FIFO scheduling algorithm.<br>Resources requested: 10/12 CPUs, 0/0 GPUs, 0.0/9.23 GiB heap, 0.0/3.17 GiB objects<br>Result logdir: /Users/natasha/Desktop/TUNE_RESULT_DIR/17_02_2021_40mods<br>Number of trials: 1 (1 RUNNING)<br><table>\n",
       "<thead>\n",
       "<tr><th>Trial name       </th><th>status  </th><th>loc                 </th><th style=\"text-align: right;\">  total time (s)</th><th style=\"text-align: right;\">  iter</th></tr>\n",
       "</thead>\n",
       "<tbody>\n",
       "<tr><td>train_AE_ba455998</td><td>RUNNING </td><td>192.168.68.106:32472</td><td style=\"text-align: right;\">         1459.56</td><td style=\"text-align: right;\">    58</td></tr>\n",
       "</tbody>\n",
       "</table><br><br>"
      ],
      "text/plain": [
       "<IPython.core.display.HTML object>"
      ]
     },
     "metadata": {},
     "output_type": "display_data"
    },
    {
     "name": "stderr",
     "output_type": "stream",
     "text": [
      "2021-02-19 17:31:21,053\tINFO resource_spec.py:212 -- Starting Ray with 9.23 GiB memory available for workers and up to 4.62 GiB for objects. You can adjust these settings with ray.init(memory=<bytes>, object_store_memory=<bytes>).\n",
      "2021-02-19 17:31:21,053\tWARNING ray_trial_executor.py:361 -- Over the last 60 seconds, the Tune event loop has been backlogged processing new results. Consider increasing your period of result reporting to improve performance.\n"
     ]
    },
    {
     "name": "stdout",
     "output_type": "stream",
     "text": [
      "Result for train_AE_ba455998:\n",
      "  date: 2021-02-19_17-31-21\n",
      "  done: false\n",
      "  experiment_id: 69b3fbd9f9144deca47ded7ddb48fff7\n",
      "  experiment_tag: '0'\n",
      "  hostname: natashas-MacBook-Pro.local\n",
      "  iterations_since_restore: 59\n",
      "  node_ip: 192.168.68.106\n",
      "  pid: 32472\n",
      "  test_f1: 0.9652232950428153\n",
      "  test_loss: tensor(394866.2188)\n",
      "  time_since_restore: 1487.2159359455109\n",
      "  time_this_iter_s: 27.65230393409729\n",
      "  time_total_s: 1487.2159359455109\n",
      "  timestamp: 1613773881\n",
      "  timesteps_since_restore: 0\n",
      "  train_f1: 0.9645109217416217\n",
      "  train_loss: 52672.40234375\n",
      "  training_iteration: 59\n",
      "  trial_id: ba455998\n",
      "  \n"
     ]
    },
    {
     "name": "stderr",
     "output_type": "stream",
     "text": [
      "2021-02-19 17:31:49,012\tWARNING util.py:132 -- The `process_trial` operation took 27.958171129226685 seconds to complete, which may be a performance bottleneck.\n"
     ]
    },
    {
     "data": {
      "text/html": [
       "== Status ==<br>Memory usage on this node: 18.2/32.0 GiB<br>Using FIFO scheduling algorithm.<br>Resources requested: 10/12 CPUs, 0/0 GPUs, 0.0/9.23 GiB heap, 0.0/3.17 GiB objects<br>Result logdir: /Users/natasha/Desktop/TUNE_RESULT_DIR/17_02_2021_40mods<br>Number of trials: 1 (1 RUNNING)<br><table>\n",
       "<thead>\n",
       "<tr><th>Trial name       </th><th>status  </th><th>loc                 </th><th style=\"text-align: right;\">  total time (s)</th><th style=\"text-align: right;\">  iter</th></tr>\n",
       "</thead>\n",
       "<tbody>\n",
       "<tr><td>train_AE_ba455998</td><td>RUNNING </td><td>192.168.68.106:32472</td><td style=\"text-align: right;\">         1487.22</td><td style=\"text-align: right;\">    59</td></tr>\n",
       "</tbody>\n",
       "</table><br><br>"
      ],
      "text/plain": [
       "<IPython.core.display.HTML object>"
      ]
     },
     "metadata": {},
     "output_type": "display_data"
    },
    {
     "name": "stderr",
     "output_type": "stream",
     "text": [
      "2021-02-19 17:31:49,016\tINFO resource_spec.py:212 -- Starting Ray with 9.28 GiB memory available for workers and up to 4.64 GiB for objects. You can adjust these settings with ray.init(memory=<bytes>, object_store_memory=<bytes>).\n"
     ]
    },
    {
     "name": "stdout",
     "output_type": "stream",
     "text": [
      "Result for train_AE_ba455998:\n",
      "  date: 2021-02-19_17-31-49\n",
      "  done: false\n",
      "  experiment_id: 69b3fbd9f9144deca47ded7ddb48fff7\n",
      "  experiment_tag: '0'\n",
      "  hostname: natashas-MacBook-Pro.local\n",
      "  iterations_since_restore: 60\n",
      "  node_ip: 192.168.68.106\n",
      "  pid: 32472\n",
      "  test_f1: 0.9660793534415101\n",
      "  test_loss: tensor(387639.5938)\n",
      "  time_since_restore: 1515.1786489486694\n",
      "  time_this_iter_s: 27.96271300315857\n",
      "  time_total_s: 1515.1786489486694\n",
      "  timestamp: 1613773909\n",
      "  timesteps_since_restore: 0\n",
      "  train_f1: 0.9672959595832685\n",
      "  train_loss: 47952.0546875\n",
      "  training_iteration: 60\n",
      "  trial_id: ba455998\n",
      "  \n"
     ]
    },
    {
     "name": "stderr",
     "output_type": "stream",
     "text": [
      "2021-02-19 17:31:55,977\tWARNING util.py:132 -- The `process_trial` operation took 6.960377216339111 seconds to complete, which may be a performance bottleneck.\n"
     ]
    },
    {
     "data": {
      "text/html": [
       "== Status ==<br>Memory usage on this node: 18.2/32.0 GiB<br>Using FIFO scheduling algorithm.<br>Resources requested: 10/12 CPUs, 0/0 GPUs, 0.0/9.28 GiB heap, 0.0/3.17 GiB objects<br>Result logdir: /Users/natasha/Desktop/TUNE_RESULT_DIR/17_02_2021_40mods<br>Number of trials: 1 (1 RUNNING)<br><table>\n",
       "<thead>\n",
       "<tr><th>Trial name       </th><th>status  </th><th>loc                 </th><th style=\"text-align: right;\">  total time (s)</th><th style=\"text-align: right;\">  iter</th></tr>\n",
       "</thead>\n",
       "<tbody>\n",
       "<tr><td>train_AE_ba455998</td><td>RUNNING </td><td>192.168.68.106:32472</td><td style=\"text-align: right;\">         1515.18</td><td style=\"text-align: right;\">    60</td></tr>\n",
       "</tbody>\n",
       "</table><br><br>"
      ],
      "text/plain": [
       "<IPython.core.display.HTML object>"
      ]
     },
     "metadata": {},
     "output_type": "display_data"
    },
    {
     "name": "stderr",
     "output_type": "stream",
     "text": [
      "2021-02-19 17:31:55,979\tINFO resource_spec.py:212 -- Starting Ray with 9.23 GiB memory available for workers and up to 4.63 GiB for objects. You can adjust these settings with ray.init(memory=<bytes>, object_store_memory=<bytes>).\n"
     ]
    },
    {
     "name": "stdout",
     "output_type": "stream",
     "text": [
      "Result for train_AE_ba455998:\n",
      "  date: 2021-02-19_17-31-55\n",
      "  done: false\n",
      "  experiment_id: 69b3fbd9f9144deca47ded7ddb48fff7\n",
      "  experiment_tag: '0'\n",
      "  hostname: natashas-MacBook-Pro.local\n",
      "  iterations_since_restore: 61\n",
      "  node_ip: 192.168.68.106\n",
      "  pid: 32472\n",
      "  test_f1: 0.9664095046296337\n",
      "  test_loss: tensor(378336.6875)\n",
      "  time_since_restore: 1522.1437921524048\n",
      "  time_this_iter_s: 6.965143203735352\n",
      "  time_total_s: 1522.1437921524048\n",
      "  timestamp: 1613773915\n",
      "  timesteps_since_restore: 0\n",
      "  train_f1: 0.9678719404431227\n",
      "  train_loss: 49036.1640625\n",
      "  training_iteration: 61\n",
      "  trial_id: ba455998\n",
      "  \n"
     ]
    },
    {
     "name": "stderr",
     "output_type": "stream",
     "text": [
      "2021-02-19 17:32:22,416\tWARNING util.py:132 -- The `process_trial` operation took 26.436625957489014 seconds to complete, which may be a performance bottleneck.\n"
     ]
    },
    {
     "data": {
      "text/html": [
       "== Status ==<br>Memory usage on this node: 18.2/32.0 GiB<br>Using FIFO scheduling algorithm.<br>Resources requested: 10/12 CPUs, 0/0 GPUs, 0.0/9.23 GiB heap, 0.0/3.17 GiB objects<br>Result logdir: /Users/natasha/Desktop/TUNE_RESULT_DIR/17_02_2021_40mods<br>Number of trials: 1 (1 RUNNING)<br><table>\n",
       "<thead>\n",
       "<tr><th>Trial name       </th><th>status  </th><th>loc                 </th><th style=\"text-align: right;\">  total time (s)</th><th style=\"text-align: right;\">  iter</th></tr>\n",
       "</thead>\n",
       "<tbody>\n",
       "<tr><td>train_AE_ba455998</td><td>RUNNING </td><td>192.168.68.106:32472</td><td style=\"text-align: right;\">         1522.14</td><td style=\"text-align: right;\">    61</td></tr>\n",
       "</tbody>\n",
       "</table><br><br>"
      ],
      "text/plain": [
       "<IPython.core.display.HTML object>"
      ]
     },
     "metadata": {},
     "output_type": "display_data"
    },
    {
     "name": "stderr",
     "output_type": "stream",
     "text": [
      "2021-02-19 17:32:22,420\tINFO resource_spec.py:212 -- Starting Ray with 9.18 GiB memory available for workers and up to 4.61 GiB for objects. You can adjust these settings with ray.init(memory=<bytes>, object_store_memory=<bytes>).\n",
      "2021-02-19 17:32:22,421\tWARNING ray_trial_executor.py:361 -- Over the last 60 seconds, the Tune event loop has been backlogged processing new results. Consider increasing your period of result reporting to improve performance.\n"
     ]
    },
    {
     "name": "stdout",
     "output_type": "stream",
     "text": [
      "Result for train_AE_ba455998:\n",
      "  date: 2021-02-19_17-32-22\n",
      "  done: false\n",
      "  experiment_id: 69b3fbd9f9144deca47ded7ddb48fff7\n",
      "  experiment_tag: '0'\n",
      "  hostname: natashas-MacBook-Pro.local\n",
      "  iterations_since_restore: 62\n",
      "  node_ip: 192.168.68.106\n",
      "  pid: 32472\n",
      "  test_f1: 0.9657160664918437\n",
      "  test_loss: tensor(387027.)\n",
      "  time_since_restore: 1548.5833010673523\n",
      "  time_this_iter_s: 26.43950891494751\n",
      "  time_total_s: 1548.5833010673523\n",
      "  timestamp: 1613773942\n",
      "  timesteps_since_restore: 0\n",
      "  train_f1: 0.9692162620578112\n",
      "  train_loss: 46215.64453125\n",
      "  training_iteration: 62\n",
      "  trial_id: ba455998\n",
      "  \n"
     ]
    },
    {
     "name": "stderr",
     "output_type": "stream",
     "text": [
      "2021-02-19 17:32:49,569\tWARNING util.py:132 -- The `process_trial` operation took 27.147874116897583 seconds to complete, which may be a performance bottleneck.\n"
     ]
    },
    {
     "data": {
      "text/html": [
       "== Status ==<br>Memory usage on this node: 18.3/32.0 GiB<br>Using FIFO scheduling algorithm.<br>Resources requested: 10/12 CPUs, 0/0 GPUs, 0.0/9.18 GiB heap, 0.0/3.17 GiB objects<br>Result logdir: /Users/natasha/Desktop/TUNE_RESULT_DIR/17_02_2021_40mods<br>Number of trials: 1 (1 RUNNING)<br><table>\n",
       "<thead>\n",
       "<tr><th>Trial name       </th><th>status  </th><th>loc                 </th><th style=\"text-align: right;\">  total time (s)</th><th style=\"text-align: right;\">  iter</th></tr>\n",
       "</thead>\n",
       "<tbody>\n",
       "<tr><td>train_AE_ba455998</td><td>RUNNING </td><td>192.168.68.106:32472</td><td style=\"text-align: right;\">         1548.58</td><td style=\"text-align: right;\">    62</td></tr>\n",
       "</tbody>\n",
       "</table><br><br>"
      ],
      "text/plain": [
       "<IPython.core.display.HTML object>"
      ]
     },
     "metadata": {},
     "output_type": "display_data"
    },
    {
     "name": "stderr",
     "output_type": "stream",
     "text": [
      "2021-02-19 17:32:49,572\tINFO resource_spec.py:212 -- Starting Ray with 9.18 GiB memory available for workers and up to 4.61 GiB for objects. You can adjust these settings with ray.init(memory=<bytes>, object_store_memory=<bytes>).\n"
     ]
    },
    {
     "name": "stdout",
     "output_type": "stream",
     "text": [
      "Result for train_AE_ba455998:\n",
      "  date: 2021-02-19_17-32-49\n",
      "  done: false\n",
      "  experiment_id: 69b3fbd9f9144deca47ded7ddb48fff7\n",
      "  experiment_tag: '0'\n",
      "  hostname: natashas-MacBook-Pro.local\n",
      "  iterations_since_restore: 63\n",
      "  node_ip: 192.168.68.106\n",
      "  pid: 32472\n",
      "  test_f1: 0.9659802555882046\n",
      "  test_loss: tensor(384748.0312)\n",
      "  time_since_restore: 1575.7361660003662\n",
      "  time_this_iter_s: 27.152864933013916\n",
      "  time_total_s: 1575.7361660003662\n",
      "  timestamp: 1613773969\n",
      "  timesteps_since_restore: 0\n",
      "  train_f1: 0.9688557792802716\n",
      "  train_loss: 46579.32421875\n",
      "  training_iteration: 63\n",
      "  trial_id: ba455998\n",
      "  \n"
     ]
    },
    {
     "name": "stderr",
     "output_type": "stream",
     "text": [
      "2021-02-19 17:33:16,882\tWARNING util.py:132 -- The `process_trial` operation took 27.309043884277344 seconds to complete, which may be a performance bottleneck.\n"
     ]
    },
    {
     "data": {
      "text/html": [
       "== Status ==<br>Memory usage on this node: 18.3/32.0 GiB<br>Using FIFO scheduling algorithm.<br>Resources requested: 10/12 CPUs, 0/0 GPUs, 0.0/9.18 GiB heap, 0.0/3.17 GiB objects<br>Result logdir: /Users/natasha/Desktop/TUNE_RESULT_DIR/17_02_2021_40mods<br>Number of trials: 1 (1 RUNNING)<br><table>\n",
       "<thead>\n",
       "<tr><th>Trial name       </th><th>status  </th><th>loc                 </th><th style=\"text-align: right;\">  total time (s)</th><th style=\"text-align: right;\">  iter</th></tr>\n",
       "</thead>\n",
       "<tbody>\n",
       "<tr><td>train_AE_ba455998</td><td>RUNNING </td><td>192.168.68.106:32472</td><td style=\"text-align: right;\">         1575.74</td><td style=\"text-align: right;\">    63</td></tr>\n",
       "</tbody>\n",
       "</table><br><br>"
      ],
      "text/plain": [
       "<IPython.core.display.HTML object>"
      ]
     },
     "metadata": {},
     "output_type": "display_data"
    },
    {
     "name": "stderr",
     "output_type": "stream",
     "text": [
      "2021-02-19 17:33:16,885\tINFO resource_spec.py:212 -- Starting Ray with 9.18 GiB memory available for workers and up to 4.61 GiB for objects. You can adjust these settings with ray.init(memory=<bytes>, object_store_memory=<bytes>).\n"
     ]
    },
    {
     "name": "stdout",
     "output_type": "stream",
     "text": [
      "Result for train_AE_ba455998:\n",
      "  date: 2021-02-19_17-33-16\n",
      "  done: false\n",
      "  experiment_id: 69b3fbd9f9144deca47ded7ddb48fff7\n",
      "  experiment_tag: '0'\n",
      "  hostname: natashas-MacBook-Pro.local\n",
      "  iterations_since_restore: 64\n",
      "  node_ip: 192.168.68.106\n",
      "  pid: 32472\n",
      "  test_f1: 0.9666311701987651\n",
      "  test_loss: tensor(381022.6562)\n",
      "  time_since_restore: 1603.0490989685059\n",
      "  time_this_iter_s: 27.31293296813965\n",
      "  time_total_s: 1603.0490989685059\n",
      "  timestamp: 1613773996\n",
      "  timesteps_since_restore: 0\n",
      "  train_f1: 0.968746811578767\n",
      "  train_loss: 46633.28515625\n",
      "  training_iteration: 64\n",
      "  trial_id: ba455998\n",
      "  \n"
     ]
    },
    {
     "name": "stderr",
     "output_type": "stream",
     "text": [
      "2021-02-19 17:33:43,938\tWARNING util.py:132 -- The `process_trial` operation took 27.051659107208252 seconds to complete, which may be a performance bottleneck.\n"
     ]
    },
    {
     "data": {
      "text/html": [
       "== Status ==<br>Memory usage on this node: 18.2/32.0 GiB<br>Using FIFO scheduling algorithm.<br>Resources requested: 10/12 CPUs, 0/0 GPUs, 0.0/9.18 GiB heap, 0.0/3.17 GiB objects<br>Result logdir: /Users/natasha/Desktop/TUNE_RESULT_DIR/17_02_2021_40mods<br>Number of trials: 1 (1 RUNNING)<br><table>\n",
       "<thead>\n",
       "<tr><th>Trial name       </th><th>status  </th><th>loc                 </th><th style=\"text-align: right;\">  total time (s)</th><th style=\"text-align: right;\">  iter</th></tr>\n",
       "</thead>\n",
       "<tbody>\n",
       "<tr><td>train_AE_ba455998</td><td>RUNNING </td><td>192.168.68.106:32472</td><td style=\"text-align: right;\">         1603.05</td><td style=\"text-align: right;\">    64</td></tr>\n",
       "</tbody>\n",
       "</table><br><br>"
      ],
      "text/plain": [
       "<IPython.core.display.HTML object>"
      ]
     },
     "metadata": {},
     "output_type": "display_data"
    },
    {
     "name": "stderr",
     "output_type": "stream",
     "text": [
      "2021-02-19 17:33:43,942\tINFO resource_spec.py:212 -- Starting Ray with 9.23 GiB memory available for workers and up to 4.63 GiB for objects. You can adjust these settings with ray.init(memory=<bytes>, object_store_memory=<bytes>).\n",
      "2021-02-19 17:33:43,943\tWARNING ray_trial_executor.py:361 -- Over the last 60 seconds, the Tune event loop has been backlogged processing new results. Consider increasing your period of result reporting to improve performance.\n"
     ]
    },
    {
     "name": "stdout",
     "output_type": "stream",
     "text": [
      "Result for train_AE_ba455998:\n",
      "  date: 2021-02-19_17-33-43\n",
      "  done: false\n",
      "  experiment_id: 69b3fbd9f9144deca47ded7ddb48fff7\n",
      "  experiment_tag: '0'\n",
      "  hostname: natashas-MacBook-Pro.local\n",
      "  iterations_since_restore: 65\n",
      "  node_ip: 192.168.68.106\n",
      "  pid: 32472\n",
      "  test_f1: 0.9682602162555828\n",
      "  test_loss: tensor(291976.0938)\n",
      "  time_since_restore: 1630.104789018631\n",
      "  time_this_iter_s: 27.055690050125122\n",
      "  time_total_s: 1630.104789018631\n",
      "  timestamp: 1613774023\n",
      "  timesteps_since_restore: 0\n",
      "  train_f1: 0.969033821217595\n",
      "  train_loss: 46564.1796875\n",
      "  training_iteration: 65\n",
      "  trial_id: ba455998\n",
      "  \n"
     ]
    },
    {
     "name": "stderr",
     "output_type": "stream",
     "text": [
      "2021-02-19 17:34:10,638\tWARNING util.py:132 -- The `process_trial` operation took 26.694314002990723 seconds to complete, which may be a performance bottleneck.\n"
     ]
    },
    {
     "data": {
      "text/html": [
       "== Status ==<br>Memory usage on this node: 18.3/32.0 GiB<br>Using FIFO scheduling algorithm.<br>Resources requested: 10/12 CPUs, 0/0 GPUs, 0.0/9.23 GiB heap, 0.0/3.17 GiB objects<br>Result logdir: /Users/natasha/Desktop/TUNE_RESULT_DIR/17_02_2021_40mods<br>Number of trials: 1 (1 RUNNING)<br><table>\n",
       "<thead>\n",
       "<tr><th>Trial name       </th><th>status  </th><th>loc                 </th><th style=\"text-align: right;\">  total time (s)</th><th style=\"text-align: right;\">  iter</th></tr>\n",
       "</thead>\n",
       "<tbody>\n",
       "<tr><td>train_AE_ba455998</td><td>RUNNING </td><td>192.168.68.106:32472</td><td style=\"text-align: right;\">          1630.1</td><td style=\"text-align: right;\">    65</td></tr>\n",
       "</tbody>\n",
       "</table><br><br>"
      ],
      "text/plain": [
       "<IPython.core.display.HTML object>"
      ]
     },
     "metadata": {},
     "output_type": "display_data"
    },
    {
     "name": "stderr",
     "output_type": "stream",
     "text": [
      "2021-02-19 17:34:10,642\tINFO resource_spec.py:212 -- Starting Ray with 9.18 GiB memory available for workers and up to 4.61 GiB for objects. You can adjust these settings with ray.init(memory=<bytes>, object_store_memory=<bytes>).\n"
     ]
    },
    {
     "name": "stdout",
     "output_type": "stream",
     "text": [
      "Result for train_AE_ba455998:\n",
      "  date: 2021-02-19_17-34-10\n",
      "  done: false\n",
      "  experiment_id: 69b3fbd9f9144deca47ded7ddb48fff7\n",
      "  experiment_tag: '0'\n",
      "  hostname: natashas-MacBook-Pro.local\n",
      "  iterations_since_restore: 66\n",
      "  node_ip: 192.168.68.106\n",
      "  pid: 32472\n",
      "  test_f1: 0.9677740720389081\n",
      "  test_loss: tensor(374694.7812)\n",
      "  time_since_restore: 1656.8048858642578\n",
      "  time_this_iter_s: 26.70009684562683\n",
      "  time_total_s: 1656.8048858642578\n",
      "  timestamp: 1613774050\n",
      "  timesteps_since_restore: 0\n",
      "  train_f1: 0.9686891515831071\n",
      "  train_loss: 45634.0625\n",
      "  training_iteration: 66\n",
      "  trial_id: ba455998\n",
      "  \n"
     ]
    },
    {
     "name": "stderr",
     "output_type": "stream",
     "text": [
      "2021-02-19 17:34:38,768\tWARNING util.py:132 -- The `process_trial` operation took 28.125291109085083 seconds to complete, which may be a performance bottleneck.\n"
     ]
    },
    {
     "data": {
      "text/html": [
       "== Status ==<br>Memory usage on this node: 18.3/32.0 GiB<br>Using FIFO scheduling algorithm.<br>Resources requested: 10/12 CPUs, 0/0 GPUs, 0.0/9.18 GiB heap, 0.0/3.17 GiB objects<br>Result logdir: /Users/natasha/Desktop/TUNE_RESULT_DIR/17_02_2021_40mods<br>Number of trials: 1 (1 RUNNING)<br><table>\n",
       "<thead>\n",
       "<tr><th>Trial name       </th><th>status  </th><th>loc                 </th><th style=\"text-align: right;\">  total time (s)</th><th style=\"text-align: right;\">  iter</th></tr>\n",
       "</thead>\n",
       "<tbody>\n",
       "<tr><td>train_AE_ba455998</td><td>RUNNING </td><td>192.168.68.106:32472</td><td style=\"text-align: right;\">          1656.8</td><td style=\"text-align: right;\">    66</td></tr>\n",
       "</tbody>\n",
       "</table><br><br>"
      ],
      "text/plain": [
       "<IPython.core.display.HTML object>"
      ]
     },
     "metadata": {},
     "output_type": "display_data"
    },
    {
     "name": "stderr",
     "output_type": "stream",
     "text": [
      "2021-02-19 17:34:38,773\tINFO resource_spec.py:212 -- Starting Ray with 9.23 GiB memory available for workers and up to 4.61 GiB for objects. You can adjust these settings with ray.init(memory=<bytes>, object_store_memory=<bytes>).\n"
     ]
    },
    {
     "name": "stdout",
     "output_type": "stream",
     "text": [
      "Result for train_AE_ba455998:\n",
      "  date: 2021-02-19_17-34-38\n",
      "  done: false\n",
      "  experiment_id: 69b3fbd9f9144deca47ded7ddb48fff7\n",
      "  experiment_tag: '0'\n",
      "  hostname: natashas-MacBook-Pro.local\n",
      "  iterations_since_restore: 67\n",
      "  node_ip: 192.168.68.106\n",
      "  pid: 32472\n",
      "  test_f1: 0.9677908300560814\n",
      "  test_loss: tensor(373727.7500)\n",
      "  time_since_restore: 1684.9350399971008\n",
      "  time_this_iter_s: 28.130154132843018\n",
      "  time_total_s: 1684.9350399971008\n",
      "  timestamp: 1613774078\n",
      "  timesteps_since_restore: 0\n",
      "  train_f1: 0.9696801408273497\n",
      "  train_loss: 45393.12890625\n",
      "  training_iteration: 67\n",
      "  trial_id: ba455998\n",
      "  \n"
     ]
    },
    {
     "name": "stderr",
     "output_type": "stream",
     "text": [
      "2021-02-19 17:35:07,848\tWARNING util.py:132 -- The `process_trial` operation took 29.074071884155273 seconds to complete, which may be a performance bottleneck.\n"
     ]
    },
    {
     "data": {
      "text/html": [
       "== Status ==<br>Memory usage on this node: 18.2/32.0 GiB<br>Using FIFO scheduling algorithm.<br>Resources requested: 10/12 CPUs, 0/0 GPUs, 0.0/9.23 GiB heap, 0.0/3.17 GiB objects<br>Result logdir: /Users/natasha/Desktop/TUNE_RESULT_DIR/17_02_2021_40mods<br>Number of trials: 1 (1 RUNNING)<br><table>\n",
       "<thead>\n",
       "<tr><th>Trial name       </th><th>status  </th><th>loc                 </th><th style=\"text-align: right;\">  total time (s)</th><th style=\"text-align: right;\">  iter</th></tr>\n",
       "</thead>\n",
       "<tbody>\n",
       "<tr><td>train_AE_ba455998</td><td>RUNNING </td><td>192.168.68.106:32472</td><td style=\"text-align: right;\">         1684.94</td><td style=\"text-align: right;\">    67</td></tr>\n",
       "</tbody>\n",
       "</table><br><br>"
      ],
      "text/plain": [
       "<IPython.core.display.HTML object>"
      ]
     },
     "metadata": {},
     "output_type": "display_data"
    },
    {
     "name": "stderr",
     "output_type": "stream",
     "text": [
      "2021-02-19 17:35:07,851\tINFO resource_spec.py:212 -- Starting Ray with 9.23 GiB memory available for workers and up to 4.63 GiB for objects. You can adjust these settings with ray.init(memory=<bytes>, object_store_memory=<bytes>).\n",
      "2021-02-19 17:35:07,851\tWARNING ray_trial_executor.py:361 -- Over the last 60 seconds, the Tune event loop has been backlogged processing new results. Consider increasing your period of result reporting to improve performance.\n"
     ]
    },
    {
     "name": "stdout",
     "output_type": "stream",
     "text": [
      "Result for train_AE_ba455998:\n",
      "  date: 2021-02-19_17-35-07\n",
      "  done: false\n",
      "  experiment_id: 69b3fbd9f9144deca47ded7ddb48fff7\n",
      "  experiment_tag: '0'\n",
      "  hostname: natashas-MacBook-Pro.local\n",
      "  iterations_since_restore: 68\n",
      "  node_ip: 192.168.68.106\n",
      "  pid: 32472\n",
      "  test_f1: 0.9696643212427127\n",
      "  test_loss: tensor(358808.8750)\n",
      "  time_since_restore: 1714.014554977417\n",
      "  time_this_iter_s: 29.079514980316162\n",
      "  time_total_s: 1714.014554977417\n",
      "  timestamp: 1613774107\n",
      "  timesteps_since_restore: 0\n",
      "  train_f1: 0.9713388616035158\n",
      "  train_loss: 43630.125\n",
      "  training_iteration: 68\n",
      "  trial_id: ba455998\n",
      "  \n"
     ]
    },
    {
     "name": "stderr",
     "output_type": "stream",
     "text": [
      "2021-02-19 17:35:37,291\tWARNING util.py:132 -- The `process_trial` operation took 29.439133882522583 seconds to complete, which may be a performance bottleneck.\n"
     ]
    },
    {
     "data": {
      "text/html": [
       "== Status ==<br>Memory usage on this node: 18.3/32.0 GiB<br>Using FIFO scheduling algorithm.<br>Resources requested: 10/12 CPUs, 0/0 GPUs, 0.0/9.23 GiB heap, 0.0/3.17 GiB objects<br>Result logdir: /Users/natasha/Desktop/TUNE_RESULT_DIR/17_02_2021_40mods<br>Number of trials: 1 (1 RUNNING)<br><table>\n",
       "<thead>\n",
       "<tr><th>Trial name       </th><th>status  </th><th>loc                 </th><th style=\"text-align: right;\">  total time (s)</th><th style=\"text-align: right;\">  iter</th></tr>\n",
       "</thead>\n",
       "<tbody>\n",
       "<tr><td>train_AE_ba455998</td><td>RUNNING </td><td>192.168.68.106:32472</td><td style=\"text-align: right;\">         1714.01</td><td style=\"text-align: right;\">    68</td></tr>\n",
       "</tbody>\n",
       "</table><br><br>"
      ],
      "text/plain": [
       "<IPython.core.display.HTML object>"
      ]
     },
     "metadata": {},
     "output_type": "display_data"
    },
    {
     "name": "stderr",
     "output_type": "stream",
     "text": [
      "2021-02-19 17:35:37,295\tINFO resource_spec.py:212 -- Starting Ray with 9.23 GiB memory available for workers and up to 4.63 GiB for objects. You can adjust these settings with ray.init(memory=<bytes>, object_store_memory=<bytes>).\n"
     ]
    },
    {
     "name": "stdout",
     "output_type": "stream",
     "text": [
      "Result for train_AE_ba455998:\n",
      "  date: 2021-02-19_17-35-37\n",
      "  done: false\n",
      "  experiment_id: 69b3fbd9f9144deca47ded7ddb48fff7\n",
      "  experiment_tag: '0'\n",
      "  hostname: natashas-MacBook-Pro.local\n",
      "  iterations_since_restore: 69\n",
      "  node_ip: 192.168.68.106\n",
      "  pid: 32472\n",
      "  test_f1: 0.9694201910731436\n",
      "  test_loss: tensor(362684.3438)\n",
      "  time_since_restore: 1743.4581360816956\n",
      "  time_this_iter_s: 29.443581104278564\n",
      "  time_total_s: 1743.4581360816956\n",
      "  timestamp: 1613774137\n",
      "  timesteps_since_restore: 0\n",
      "  train_f1: 0.9699420396295347\n",
      "  train_loss: 45933.00390625\n",
      "  training_iteration: 69\n",
      "  trial_id: ba455998\n",
      "  \n"
     ]
    },
    {
     "name": "stderr",
     "output_type": "stream",
     "text": [
      "2021-02-19 17:36:05,173\tWARNING util.py:132 -- The `process_trial` operation took 27.878138780593872 seconds to complete, which may be a performance bottleneck.\n"
     ]
    },
    {
     "data": {
      "text/html": [
       "== Status ==<br>Memory usage on this node: 18.2/32.0 GiB<br>Using FIFO scheduling algorithm.<br>Resources requested: 10/12 CPUs, 0/0 GPUs, 0.0/9.23 GiB heap, 0.0/3.17 GiB objects<br>Result logdir: /Users/natasha/Desktop/TUNE_RESULT_DIR/17_02_2021_40mods<br>Number of trials: 1 (1 RUNNING)<br><table>\n",
       "<thead>\n",
       "<tr><th>Trial name       </th><th>status  </th><th>loc                 </th><th style=\"text-align: right;\">  total time (s)</th><th style=\"text-align: right;\">  iter</th></tr>\n",
       "</thead>\n",
       "<tbody>\n",
       "<tr><td>train_AE_ba455998</td><td>RUNNING </td><td>192.168.68.106:32472</td><td style=\"text-align: right;\">         1743.46</td><td style=\"text-align: right;\">    69</td></tr>\n",
       "</tbody>\n",
       "</table><br><br>"
      ],
      "text/plain": [
       "<IPython.core.display.HTML object>"
      ]
     },
     "metadata": {},
     "output_type": "display_data"
    },
    {
     "name": "stderr",
     "output_type": "stream",
     "text": [
      "2021-02-19 17:36:05,177\tINFO resource_spec.py:212 -- Starting Ray with 9.23 GiB memory available for workers and up to 4.64 GiB for objects. You can adjust these settings with ray.init(memory=<bytes>, object_store_memory=<bytes>).\n"
     ]
    },
    {
     "name": "stdout",
     "output_type": "stream",
     "text": [
      "Result for train_AE_ba455998:\n",
      "  date: 2021-02-19_17-36-05\n",
      "  done: false\n",
      "  experiment_id: 69b3fbd9f9144deca47ded7ddb48fff7\n",
      "  experiment_tag: '0'\n",
      "  hostname: natashas-MacBook-Pro.local\n",
      "  iterations_since_restore: 70\n",
      "  node_ip: 192.168.68.106\n",
      "  pid: 32472\n",
      "  test_f1: 0.970997541282415\n",
      "  test_loss: tensor(350267.0625)\n",
      "  time_since_restore: 1771.3403780460358\n",
      "  time_this_iter_s: 27.88224196434021\n",
      "  time_total_s: 1771.3403780460358\n",
      "  timestamp: 1613774165\n",
      "  timesteps_since_restore: 0\n",
      "  train_f1: 0.9725060946205986\n",
      "  train_loss: 42863.0625\n",
      "  training_iteration: 70\n",
      "  trial_id: ba455998\n",
      "  \n"
     ]
    },
    {
     "name": "stderr",
     "output_type": "stream",
     "text": [
      "2021-02-19 17:36:34,421\tWARNING util.py:132 -- The `process_trial` operation took 29.24332904815674 seconds to complete, which may be a performance bottleneck.\n"
     ]
    },
    {
     "data": {
      "text/html": [
       "== Status ==<br>Memory usage on this node: 18.2/32.0 GiB<br>Using FIFO scheduling algorithm.<br>Resources requested: 10/12 CPUs, 0/0 GPUs, 0.0/9.23 GiB heap, 0.0/3.17 GiB objects<br>Result logdir: /Users/natasha/Desktop/TUNE_RESULT_DIR/17_02_2021_40mods<br>Number of trials: 1 (1 RUNNING)<br><table>\n",
       "<thead>\n",
       "<tr><th>Trial name       </th><th>status  </th><th>loc                 </th><th style=\"text-align: right;\">  total time (s)</th><th style=\"text-align: right;\">  iter</th></tr>\n",
       "</thead>\n",
       "<tbody>\n",
       "<tr><td>train_AE_ba455998</td><td>RUNNING </td><td>192.168.68.106:32472</td><td style=\"text-align: right;\">         1771.34</td><td style=\"text-align: right;\">    70</td></tr>\n",
       "</tbody>\n",
       "</table><br><br>"
      ],
      "text/plain": [
       "<IPython.core.display.HTML object>"
      ]
     },
     "metadata": {},
     "output_type": "display_data"
    },
    {
     "name": "stderr",
     "output_type": "stream",
     "text": [
      "2021-02-19 17:36:34,425\tINFO resource_spec.py:212 -- Starting Ray with 9.28 GiB memory available for workers and up to 4.65 GiB for objects. You can adjust these settings with ray.init(memory=<bytes>, object_store_memory=<bytes>).\n",
      "2021-02-19 17:36:34,425\tWARNING ray_trial_executor.py:361 -- Over the last 60 seconds, the Tune event loop has been backlogged processing new results. Consider increasing your period of result reporting to improve performance.\n"
     ]
    },
    {
     "name": "stdout",
     "output_type": "stream",
     "text": [
      "Result for train_AE_ba455998:\n",
      "  date: 2021-02-19_17-36-34\n",
      "  done: false\n",
      "  experiment_id: 69b3fbd9f9144deca47ded7ddb48fff7\n",
      "  experiment_tag: '0'\n",
      "  hostname: natashas-MacBook-Pro.local\n",
      "  iterations_since_restore: 71\n",
      "  node_ip: 192.168.68.106\n",
      "  pid: 32472\n",
      "  test_f1: 0.9695903964577438\n",
      "  test_loss: tensor(354556.8438)\n",
      "  time_since_restore: 1800.5881760120392\n",
      "  time_this_iter_s: 29.247797966003418\n",
      "  time_total_s: 1800.5881760120392\n",
      "  timestamp: 1613774194\n",
      "  timesteps_since_restore: 0\n",
      "  train_f1: 0.9693669598169942\n",
      "  train_loss: 45460.88671875\n",
      "  training_iteration: 71\n",
      "  trial_id: ba455998\n",
      "  \n"
     ]
    },
    {
     "name": "stderr",
     "output_type": "stream",
     "text": [
      "2021-02-19 17:37:04,350\tWARNING util.py:132 -- The `process_trial` operation took 29.924193143844604 seconds to complete, which may be a performance bottleneck.\n"
     ]
    },
    {
     "data": {
      "text/html": [
       "== Status ==<br>Memory usage on this node: 18.2/32.0 GiB<br>Using FIFO scheduling algorithm.<br>Resources requested: 10/12 CPUs, 0/0 GPUs, 0.0/9.28 GiB heap, 0.0/3.17 GiB objects<br>Result logdir: /Users/natasha/Desktop/TUNE_RESULT_DIR/17_02_2021_40mods<br>Number of trials: 1 (1 RUNNING)<br><table>\n",
       "<thead>\n",
       "<tr><th>Trial name       </th><th>status  </th><th>loc                 </th><th style=\"text-align: right;\">  total time (s)</th><th style=\"text-align: right;\">  iter</th></tr>\n",
       "</thead>\n",
       "<tbody>\n",
       "<tr><td>train_AE_ba455998</td><td>RUNNING </td><td>192.168.68.106:32472</td><td style=\"text-align: right;\">         1800.59</td><td style=\"text-align: right;\">    71</td></tr>\n",
       "</tbody>\n",
       "</table><br><br>"
      ],
      "text/plain": [
       "<IPython.core.display.HTML object>"
      ]
     },
     "metadata": {},
     "output_type": "display_data"
    },
    {
     "name": "stderr",
     "output_type": "stream",
     "text": [
      "2021-02-19 17:37:04,353\tINFO resource_spec.py:212 -- Starting Ray with 9.28 GiB memory available for workers and up to 4.64 GiB for objects. You can adjust these settings with ray.init(memory=<bytes>, object_store_memory=<bytes>).\n"
     ]
    },
    {
     "name": "stdout",
     "output_type": "stream",
     "text": [
      "Result for train_AE_ba455998:\n",
      "  date: 2021-02-19_17-37-04\n",
      "  done: false\n",
      "  experiment_id: 69b3fbd9f9144deca47ded7ddb48fff7\n",
      "  experiment_tag: '0'\n",
      "  hostname: natashas-MacBook-Pro.local\n",
      "  iterations_since_restore: 72\n",
      "  node_ip: 192.168.68.106\n",
      "  pid: 32472\n",
      "  test_f1: 0.9701650541713511\n",
      "  test_loss: tensor(353081.8125)\n",
      "  time_since_restore: 1830.5171160697937\n",
      "  time_this_iter_s: 29.928940057754517\n",
      "  time_total_s: 1830.5171160697937\n",
      "  timestamp: 1613774224\n",
      "  timesteps_since_restore: 0\n",
      "  train_f1: 0.9712251775050433\n",
      "  train_loss: 43711.33203125\n",
      "  training_iteration: 72\n",
      "  trial_id: ba455998\n",
      "  \n"
     ]
    },
    {
     "name": "stderr",
     "output_type": "stream",
     "text": [
      "2021-02-19 17:37:11,625\tWARNING util.py:132 -- The `process_trial` operation took 7.2711780071258545 seconds to complete, which may be a performance bottleneck.\n"
     ]
    },
    {
     "data": {
      "text/html": [
       "== Status ==<br>Memory usage on this node: 18.2/32.0 GiB<br>Using FIFO scheduling algorithm.<br>Resources requested: 10/12 CPUs, 0/0 GPUs, 0.0/9.28 GiB heap, 0.0/3.17 GiB objects<br>Result logdir: /Users/natasha/Desktop/TUNE_RESULT_DIR/17_02_2021_40mods<br>Number of trials: 1 (1 RUNNING)<br><table>\n",
       "<thead>\n",
       "<tr><th>Trial name       </th><th>status  </th><th>loc                 </th><th style=\"text-align: right;\">  total time (s)</th><th style=\"text-align: right;\">  iter</th></tr>\n",
       "</thead>\n",
       "<tbody>\n",
       "<tr><td>train_AE_ba455998</td><td>RUNNING </td><td>192.168.68.106:32472</td><td style=\"text-align: right;\">         1830.52</td><td style=\"text-align: right;\">    72</td></tr>\n",
       "</tbody>\n",
       "</table><br><br>"
      ],
      "text/plain": [
       "<IPython.core.display.HTML object>"
      ]
     },
     "metadata": {},
     "output_type": "display_data"
    },
    {
     "name": "stderr",
     "output_type": "stream",
     "text": [
      "2021-02-19 17:37:11,628\tINFO resource_spec.py:212 -- Starting Ray with 9.28 GiB memory available for workers and up to 4.65 GiB for objects. You can adjust these settings with ray.init(memory=<bytes>, object_store_memory=<bytes>).\n"
     ]
    },
    {
     "name": "stdout",
     "output_type": "stream",
     "text": [
      "Result for train_AE_ba455998:\n",
      "  date: 2021-02-19_17-37-11\n",
      "  done: false\n",
      "  experiment_id: 69b3fbd9f9144deca47ded7ddb48fff7\n",
      "  experiment_tag: '0'\n",
      "  hostname: natashas-MacBook-Pro.local\n",
      "  iterations_since_restore: 73\n",
      "  node_ip: 192.168.68.106\n",
      "  pid: 32472\n",
      "  test_f1: 0.9704656791602749\n",
      "  test_loss: tensor(354333.0938)\n",
      "  time_since_restore: 1837.7924230098724\n",
      "  time_this_iter_s: 7.275306940078735\n",
      "  time_total_s: 1837.7924230098724\n",
      "  timestamp: 1613774231\n",
      "  timesteps_since_restore: 0\n",
      "  train_f1: 0.9711465129461733\n",
      "  train_loss: 45345.578125\n",
      "  training_iteration: 73\n",
      "  trial_id: ba455998\n",
      "  \n"
     ]
    },
    {
     "name": "stderr",
     "output_type": "stream",
     "text": [
      "2021-02-19 17:37:39,833\tWARNING util.py:132 -- The `process_trial` operation took 28.204375982284546 seconds to complete, which may be a performance bottleneck.\n"
     ]
    },
    {
     "data": {
      "text/html": [
       "== Status ==<br>Memory usage on this node: 18.2/32.0 GiB<br>Using FIFO scheduling algorithm.<br>Resources requested: 10/12 CPUs, 0/0 GPUs, 0.0/9.28 GiB heap, 0.0/3.17 GiB objects<br>Result logdir: /Users/natasha/Desktop/TUNE_RESULT_DIR/17_02_2021_40mods<br>Number of trials: 1 (1 RUNNING)<br><table>\n",
       "<thead>\n",
       "<tr><th>Trial name       </th><th>status  </th><th>loc                 </th><th style=\"text-align: right;\">  total time (s)</th><th style=\"text-align: right;\">  iter</th></tr>\n",
       "</thead>\n",
       "<tbody>\n",
       "<tr><td>train_AE_ba455998</td><td>RUNNING </td><td>192.168.68.106:32472</td><td style=\"text-align: right;\">         1837.79</td><td style=\"text-align: right;\">    73</td></tr>\n",
       "</tbody>\n",
       "</table><br><br>"
      ],
      "text/plain": [
       "<IPython.core.display.HTML object>"
      ]
     },
     "metadata": {},
     "output_type": "display_data"
    },
    {
     "name": "stderr",
     "output_type": "stream",
     "text": [
      "2021-02-19 17:37:39,836\tINFO resource_spec.py:212 -- Starting Ray with 9.23 GiB memory available for workers and up to 4.64 GiB for objects. You can adjust these settings with ray.init(memory=<bytes>, object_store_memory=<bytes>).\n",
      "2021-02-19 17:37:39,836\tWARNING ray_trial_executor.py:361 -- Over the last 60 seconds, the Tune event loop has been backlogged processing new results. Consider increasing your period of result reporting to improve performance.\n"
     ]
    },
    {
     "name": "stdout",
     "output_type": "stream",
     "text": [
      "Result for train_AE_ba455998:\n",
      "  date: 2021-02-19_17-37-39\n",
      "  done: false\n",
      "  experiment_id: 69b3fbd9f9144deca47ded7ddb48fff7\n",
      "  experiment_tag: '0'\n",
      "  hostname: natashas-MacBook-Pro.local\n",
      "  iterations_since_restore: 74\n",
      "  node_ip: 192.168.68.106\n",
      "  pid: 32472\n",
      "  test_f1: 0.9711080931884641\n",
      "  test_loss: tensor(343732.8125)\n",
      "  time_since_restore: 1865.999634027481\n",
      "  time_this_iter_s: 28.207211017608643\n",
      "  time_total_s: 1865.999634027481\n",
      "  timestamp: 1613774259\n",
      "  timesteps_since_restore: 0\n",
      "  train_f1: 0.9717085989149639\n",
      "  train_loss: 44296.10546875\n",
      "  training_iteration: 74\n",
      "  trial_id: ba455998\n",
      "  \n"
     ]
    },
    {
     "name": "stderr",
     "output_type": "stream",
     "text": [
      "2021-02-19 17:38:07,392\tWARNING util.py:132 -- The `process_trial` operation took 27.555517196655273 seconds to complete, which may be a performance bottleneck.\n"
     ]
    },
    {
     "data": {
      "text/html": [
       "== Status ==<br>Memory usage on this node: 18.2/32.0 GiB<br>Using FIFO scheduling algorithm.<br>Resources requested: 10/12 CPUs, 0/0 GPUs, 0.0/9.23 GiB heap, 0.0/3.17 GiB objects<br>Result logdir: /Users/natasha/Desktop/TUNE_RESULT_DIR/17_02_2021_40mods<br>Number of trials: 1 (1 RUNNING)<br><table>\n",
       "<thead>\n",
       "<tr><th>Trial name       </th><th>status  </th><th>loc                 </th><th style=\"text-align: right;\">  total time (s)</th><th style=\"text-align: right;\">  iter</th></tr>\n",
       "</thead>\n",
       "<tbody>\n",
       "<tr><td>train_AE_ba455998</td><td>RUNNING </td><td>192.168.68.106:32472</td><td style=\"text-align: right;\">            1866</td><td style=\"text-align: right;\">    74</td></tr>\n",
       "</tbody>\n",
       "</table><br><br>"
      ],
      "text/plain": [
       "<IPython.core.display.HTML object>"
      ]
     },
     "metadata": {},
     "output_type": "display_data"
    },
    {
     "name": "stderr",
     "output_type": "stream",
     "text": [
      "2021-02-19 17:38:07,396\tINFO resource_spec.py:212 -- Starting Ray with 9.28 GiB memory available for workers and up to 4.64 GiB for objects. You can adjust these settings with ray.init(memory=<bytes>, object_store_memory=<bytes>).\n"
     ]
    },
    {
     "name": "stdout",
     "output_type": "stream",
     "text": [
      "Result for train_AE_ba455998:\n",
      "  date: 2021-02-19_17-38-07\n",
      "  done: false\n",
      "  experiment_id: 69b3fbd9f9144deca47ded7ddb48fff7\n",
      "  experiment_tag: '0'\n",
      "  hostname: natashas-MacBook-Pro.local\n",
      "  iterations_since_restore: 75\n",
      "  node_ip: 192.168.68.106\n",
      "  pid: 32472\n",
      "  test_f1: 0.9722464112410263\n",
      "  test_loss: tensor(338976.5938)\n",
      "  time_since_restore: 1893.5593740940094\n",
      "  time_this_iter_s: 27.55974006652832\n",
      "  time_total_s: 1893.5593740940094\n",
      "  timestamp: 1613774287\n",
      "  timesteps_since_restore: 0\n",
      "  train_f1: 0.972073452223131\n",
      "  train_loss: 42162.03515625\n",
      "  training_iteration: 75\n",
      "  trial_id: ba455998\n",
      "  \n"
     ]
    },
    {
     "name": "stderr",
     "output_type": "stream",
     "text": [
      "2021-02-19 17:38:35,124\tWARNING util.py:132 -- The `process_trial` operation took 27.727933883666992 seconds to complete, which may be a performance bottleneck.\n"
     ]
    },
    {
     "data": {
      "text/html": [
       "== Status ==<br>Memory usage on this node: 18.3/32.0 GiB<br>Using FIFO scheduling algorithm.<br>Resources requested: 10/12 CPUs, 0/0 GPUs, 0.0/9.28 GiB heap, 0.0/3.17 GiB objects<br>Result logdir: /Users/natasha/Desktop/TUNE_RESULT_DIR/17_02_2021_40mods<br>Number of trials: 1 (1 RUNNING)<br><table>\n",
       "<thead>\n",
       "<tr><th>Trial name       </th><th>status  </th><th>loc                 </th><th style=\"text-align: right;\">  total time (s)</th><th style=\"text-align: right;\">  iter</th></tr>\n",
       "</thead>\n",
       "<tbody>\n",
       "<tr><td>train_AE_ba455998</td><td>RUNNING </td><td>192.168.68.106:32472</td><td style=\"text-align: right;\">         1893.56</td><td style=\"text-align: right;\">    75</td></tr>\n",
       "</tbody>\n",
       "</table><br><br>"
      ],
      "text/plain": [
       "<IPython.core.display.HTML object>"
      ]
     },
     "metadata": {},
     "output_type": "display_data"
    },
    {
     "name": "stderr",
     "output_type": "stream",
     "text": [
      "2021-02-19 17:38:35,127\tINFO resource_spec.py:212 -- Starting Ray with 9.23 GiB memory available for workers and up to 4.63 GiB for objects. You can adjust these settings with ray.init(memory=<bytes>, object_store_memory=<bytes>).\n"
     ]
    },
    {
     "name": "stdout",
     "output_type": "stream",
     "text": [
      "Result for train_AE_ba455998:\n",
      "  date: 2021-02-19_17-38-35\n",
      "  done: false\n",
      "  experiment_id: 69b3fbd9f9144deca47ded7ddb48fff7\n",
      "  experiment_tag: '0'\n",
      "  hostname: natashas-MacBook-Pro.local\n",
      "  iterations_since_restore: 76\n",
      "  node_ip: 192.168.68.106\n",
      "  pid: 32472\n",
      "  test_f1: 0.9721738644755019\n",
      "  test_loss: tensor(334415.1562)\n",
      "  time_since_restore: 1921.2911479473114\n",
      "  time_this_iter_s: 27.731773853302002\n",
      "  time_total_s: 1921.2911479473114\n",
      "  timestamp: 1613774315\n",
      "  timesteps_since_restore: 0\n",
      "  train_f1: 0.9745725103492036\n",
      "  train_loss: 40025.23828125\n",
      "  training_iteration: 76\n",
      "  trial_id: ba455998\n",
      "  \n"
     ]
    },
    {
     "name": "stderr",
     "output_type": "stream",
     "text": [
      "2021-02-19 17:39:03,968\tWARNING util.py:132 -- The `process_trial` operation took 28.840343236923218 seconds to complete, which may be a performance bottleneck.\n"
     ]
    },
    {
     "data": {
      "text/html": [
       "== Status ==<br>Memory usage on this node: 18.2/32.0 GiB<br>Using FIFO scheduling algorithm.<br>Resources requested: 10/12 CPUs, 0/0 GPUs, 0.0/9.23 GiB heap, 0.0/3.17 GiB objects<br>Result logdir: /Users/natasha/Desktop/TUNE_RESULT_DIR/17_02_2021_40mods<br>Number of trials: 1 (1 RUNNING)<br><table>\n",
       "<thead>\n",
       "<tr><th>Trial name       </th><th>status  </th><th>loc                 </th><th style=\"text-align: right;\">  total time (s)</th><th style=\"text-align: right;\">  iter</th></tr>\n",
       "</thead>\n",
       "<tbody>\n",
       "<tr><td>train_AE_ba455998</td><td>RUNNING </td><td>192.168.68.106:32472</td><td style=\"text-align: right;\">         1921.29</td><td style=\"text-align: right;\">    76</td></tr>\n",
       "</tbody>\n",
       "</table><br><br>"
      ],
      "text/plain": [
       "<IPython.core.display.HTML object>"
      ]
     },
     "metadata": {},
     "output_type": "display_data"
    },
    {
     "name": "stderr",
     "output_type": "stream",
     "text": [
      "2021-02-19 17:39:03,972\tINFO resource_spec.py:212 -- Starting Ray with 9.28 GiB memory available for workers and up to 4.65 GiB for objects. You can adjust these settings with ray.init(memory=<bytes>, object_store_memory=<bytes>).\n",
      "2021-02-19 17:39:03,972\tWARNING ray_trial_executor.py:361 -- Over the last 60 seconds, the Tune event loop has been backlogged processing new results. Consider increasing your period of result reporting to improve performance.\n"
     ]
    },
    {
     "name": "stdout",
     "output_type": "stream",
     "text": [
      "Result for train_AE_ba455998:\n",
      "  date: 2021-02-19_17-39-03\n",
      "  done: false\n",
      "  experiment_id: 69b3fbd9f9144deca47ded7ddb48fff7\n",
      "  experiment_tag: '0'\n",
      "  hostname: natashas-MacBook-Pro.local\n",
      "  iterations_since_restore: 77\n",
      "  node_ip: 192.168.68.106\n",
      "  pid: 32472\n",
      "  test_f1: 0.97178283911131\n",
      "  test_loss: tensor(339040.9375)\n",
      "  time_since_restore: 1950.1354279518127\n",
      "  time_this_iter_s: 28.844280004501343\n",
      "  time_total_s: 1950.1354279518127\n",
      "  timestamp: 1613774343\n",
      "  timesteps_since_restore: 0\n",
      "  train_f1: 0.9741215909423125\n",
      "  train_loss: 41402.0234375\n",
      "  training_iteration: 77\n",
      "  trial_id: ba455998\n",
      "  \n"
     ]
    },
    {
     "name": "stderr",
     "output_type": "stream",
     "text": [
      "2021-02-19 17:39:33,173\tWARNING util.py:132 -- The `process_trial` operation took 29.20044708251953 seconds to complete, which may be a performance bottleneck.\n"
     ]
    },
    {
     "data": {
      "text/html": [
       "== Status ==<br>Memory usage on this node: 17.7/32.0 GiB<br>Using FIFO scheduling algorithm.<br>Resources requested: 10/12 CPUs, 0/0 GPUs, 0.0/9.28 GiB heap, 0.0/3.17 GiB objects<br>Result logdir: /Users/natasha/Desktop/TUNE_RESULT_DIR/17_02_2021_40mods<br>Number of trials: 1 (1 RUNNING)<br><table>\n",
       "<thead>\n",
       "<tr><th>Trial name       </th><th>status  </th><th>loc                 </th><th style=\"text-align: right;\">  total time (s)</th><th style=\"text-align: right;\">  iter</th></tr>\n",
       "</thead>\n",
       "<tbody>\n",
       "<tr><td>train_AE_ba455998</td><td>RUNNING </td><td>192.168.68.106:32472</td><td style=\"text-align: right;\">         1950.14</td><td style=\"text-align: right;\">    77</td></tr>\n",
       "</tbody>\n",
       "</table><br><br>"
      ],
      "text/plain": [
       "<IPython.core.display.HTML object>"
      ]
     },
     "metadata": {},
     "output_type": "display_data"
    },
    {
     "name": "stderr",
     "output_type": "stream",
     "text": [
      "2021-02-19 17:39:33,177\tINFO resource_spec.py:212 -- Starting Ray with 9.57 GiB memory available for workers and up to 4.8 GiB for objects. You can adjust these settings with ray.init(memory=<bytes>, object_store_memory=<bytes>).\n"
     ]
    },
    {
     "name": "stdout",
     "output_type": "stream",
     "text": [
      "Result for train_AE_ba455998:\n",
      "  date: 2021-02-19_17-39-33\n",
      "  done: false\n",
      "  experiment_id: 69b3fbd9f9144deca47ded7ddb48fff7\n",
      "  experiment_tag: '0'\n",
      "  hostname: natashas-MacBook-Pro.local\n",
      "  iterations_since_restore: 78\n",
      "  node_ip: 192.168.68.106\n",
      "  pid: 32472\n",
      "  test_f1: 0.9727307010117388\n",
      "  test_loss: tensor(334109.7188)\n",
      "  time_since_restore: 1979.340031862259\n",
      "  time_this_iter_s: 29.204603910446167\n",
      "  time_total_s: 1979.340031862259\n",
      "  timestamp: 1613774373\n",
      "  timesteps_since_restore: 0\n",
      "  train_f1: 0.9758728761247932\n",
      "  train_loss: 39830.28125\n",
      "  training_iteration: 78\n",
      "  trial_id: ba455998\n",
      "  \n"
     ]
    },
    {
     "name": "stderr",
     "output_type": "stream",
     "text": [
      "2021-02-19 17:40:01,922\tWARNING util.py:132 -- The `process_trial` operation took 28.744344234466553 seconds to complete, which may be a performance bottleneck.\n"
     ]
    },
    {
     "data": {
      "text/html": [
       "== Status ==<br>Memory usage on this node: 17.5/32.0 GiB<br>Using FIFO scheduling algorithm.<br>Resources requested: 10/12 CPUs, 0/0 GPUs, 0.0/9.57 GiB heap, 0.0/3.27 GiB objects<br>Result logdir: /Users/natasha/Desktop/TUNE_RESULT_DIR/17_02_2021_40mods<br>Number of trials: 1 (1 RUNNING)<br><table>\n",
       "<thead>\n",
       "<tr><th>Trial name       </th><th>status  </th><th>loc                 </th><th style=\"text-align: right;\">  total time (s)</th><th style=\"text-align: right;\">  iter</th></tr>\n",
       "</thead>\n",
       "<tbody>\n",
       "<tr><td>train_AE_ba455998</td><td>RUNNING </td><td>192.168.68.106:32472</td><td style=\"text-align: right;\">         1979.34</td><td style=\"text-align: right;\">    78</td></tr>\n",
       "</tbody>\n",
       "</table><br><br>"
      ],
      "text/plain": [
       "<IPython.core.display.HTML object>"
      ]
     },
     "metadata": {},
     "output_type": "display_data"
    },
    {
     "name": "stderr",
     "output_type": "stream",
     "text": [
      "2021-02-19 17:40:01,925\tINFO resource_spec.py:212 -- Starting Ray with 9.67 GiB memory available for workers and up to 4.84 GiB for objects. You can adjust these settings with ray.init(memory=<bytes>, object_store_memory=<bytes>).\n"
     ]
    },
    {
     "name": "stdout",
     "output_type": "stream",
     "text": [
      "Result for train_AE_ba455998:\n",
      "  date: 2021-02-19_17-40-01\n",
      "  done: false\n",
      "  experiment_id: 69b3fbd9f9144deca47ded7ddb48fff7\n",
      "  experiment_tag: '0'\n",
      "  hostname: natashas-MacBook-Pro.local\n",
      "  iterations_since_restore: 79\n",
      "  node_ip: 192.168.68.106\n",
      "  pid: 32472\n",
      "  test_f1: 0.9718822350146298\n",
      "  test_loss: tensor(338042.1875)\n",
      "  time_since_restore: 2008.088840007782\n",
      "  time_this_iter_s: 28.74880814552307\n",
      "  time_total_s: 2008.088840007782\n",
      "  timestamp: 1613774401\n",
      "  timesteps_since_restore: 0\n",
      "  train_f1: 0.9735902499843974\n",
      "  train_loss: 41258.9921875\n",
      "  training_iteration: 79\n",
      "  trial_id: ba455998\n",
      "  \n"
     ]
    },
    {
     "name": "stderr",
     "output_type": "stream",
     "text": [
      "2021-02-19 17:40:30,129\tWARNING util.py:132 -- The `process_trial` operation took 28.20371913909912 seconds to complete, which may be a performance bottleneck.\n"
     ]
    },
    {
     "data": {
      "text/html": [
       "== Status ==<br>Memory usage on this node: 17.6/32.0 GiB<br>Using FIFO scheduling algorithm.<br>Resources requested: 10/12 CPUs, 0/0 GPUs, 0.0/9.67 GiB heap, 0.0/3.32 GiB objects<br>Result logdir: /Users/natasha/Desktop/TUNE_RESULT_DIR/17_02_2021_40mods<br>Number of trials: 1 (1 RUNNING)<br><table>\n",
       "<thead>\n",
       "<tr><th>Trial name       </th><th>status  </th><th>loc                 </th><th style=\"text-align: right;\">  total time (s)</th><th style=\"text-align: right;\">  iter</th></tr>\n",
       "</thead>\n",
       "<tbody>\n",
       "<tr><td>train_AE_ba455998</td><td>RUNNING </td><td>192.168.68.106:32472</td><td style=\"text-align: right;\">         2008.09</td><td style=\"text-align: right;\">    79</td></tr>\n",
       "</tbody>\n",
       "</table><br><br>"
      ],
      "text/plain": [
       "<IPython.core.display.HTML object>"
      ]
     },
     "metadata": {},
     "output_type": "display_data"
    },
    {
     "name": "stderr",
     "output_type": "stream",
     "text": [
      "2021-02-19 17:40:30,133\tINFO resource_spec.py:212 -- Starting Ray with 9.62 GiB memory available for workers and up to 4.83 GiB for objects. You can adjust these settings with ray.init(memory=<bytes>, object_store_memory=<bytes>).\n",
      "2021-02-19 17:40:30,133\tWARNING ray_trial_executor.py:361 -- Over the last 60 seconds, the Tune event loop has been backlogged processing new results. Consider increasing your period of result reporting to improve performance.\n"
     ]
    },
    {
     "name": "stdout",
     "output_type": "stream",
     "text": [
      "Result for train_AE_ba455998:\n",
      "  date: 2021-02-19_17-40-30\n",
      "  done: false\n",
      "  experiment_id: 69b3fbd9f9144deca47ded7ddb48fff7\n",
      "  experiment_tag: '0'\n",
      "  hostname: natashas-MacBook-Pro.local\n",
      "  iterations_since_restore: 80\n",
      "  node_ip: 192.168.68.106\n",
      "  pid: 32472\n",
      "  test_f1: 0.9720345112908165\n",
      "  test_loss: tensor(334964.4375)\n",
      "  time_since_restore: 2036.2963180541992\n",
      "  time_this_iter_s: 28.207478046417236\n",
      "  time_total_s: 2036.2963180541992\n",
      "  timestamp: 1613774430\n",
      "  timesteps_since_restore: 0\n",
      "  train_f1: 0.9739250669235197\n",
      "  train_loss: 42481.98046875\n",
      "  training_iteration: 80\n",
      "  trial_id: ba455998\n",
      "  \n"
     ]
    },
    {
     "name": "stderr",
     "output_type": "stream",
     "text": [
      "2021-02-19 17:41:00,116\tWARNING util.py:132 -- The `process_trial` operation took 29.982717275619507 seconds to complete, which may be a performance bottleneck.\n"
     ]
    },
    {
     "data": {
      "text/html": [
       "== Status ==<br>Memory usage on this node: 17.9/32.0 GiB<br>Using FIFO scheduling algorithm.<br>Resources requested: 10/12 CPUs, 0/0 GPUs, 0.0/9.62 GiB heap, 0.0/3.32 GiB objects<br>Result logdir: /Users/natasha/Desktop/TUNE_RESULT_DIR/17_02_2021_40mods<br>Number of trials: 1 (1 RUNNING)<br><table>\n",
       "<thead>\n",
       "<tr><th>Trial name       </th><th>status  </th><th>loc                 </th><th style=\"text-align: right;\">  total time (s)</th><th style=\"text-align: right;\">  iter</th></tr>\n",
       "</thead>\n",
       "<tbody>\n",
       "<tr><td>train_AE_ba455998</td><td>RUNNING </td><td>192.168.68.106:32472</td><td style=\"text-align: right;\">          2036.3</td><td style=\"text-align: right;\">    80</td></tr>\n",
       "</tbody>\n",
       "</table><br><br>"
      ],
      "text/plain": [
       "<IPython.core.display.HTML object>"
      ]
     },
     "metadata": {},
     "output_type": "display_data"
    },
    {
     "name": "stderr",
     "output_type": "stream",
     "text": [
      "2021-02-19 17:41:00,120\tINFO resource_spec.py:212 -- Starting Ray with 9.42 GiB memory available for workers and up to 4.72 GiB for objects. You can adjust these settings with ray.init(memory=<bytes>, object_store_memory=<bytes>).\n"
     ]
    },
    {
     "name": "stdout",
     "output_type": "stream",
     "text": [
      "Result for train_AE_ba455998:\n",
      "  date: 2021-02-19_17-41-00\n",
      "  done: false\n",
      "  experiment_id: 69b3fbd9f9144deca47ded7ddb48fff7\n",
      "  experiment_tag: '0'\n",
      "  hostname: natashas-MacBook-Pro.local\n",
      "  iterations_since_restore: 81\n",
      "  node_ip: 192.168.68.106\n",
      "  pid: 32472\n",
      "  test_f1: 0.9725219711775206\n",
      "  test_loss: tensor(336902.3125)\n",
      "  time_since_restore: 2066.2835149765015\n",
      "  time_this_iter_s: 29.987196922302246\n",
      "  time_total_s: 2066.2835149765015\n",
      "  timestamp: 1613774460\n",
      "  timesteps_since_restore: 0\n",
      "  train_f1: 0.9734832870695834\n",
      "  train_loss: 40538.1484375\n",
      "  training_iteration: 81\n",
      "  trial_id: ba455998\n",
      "  \n"
     ]
    },
    {
     "name": "stderr",
     "output_type": "stream",
     "text": [
      "2021-02-19 17:41:29,380\tWARNING util.py:132 -- The `process_trial` operation took 29.259429216384888 seconds to complete, which may be a performance bottleneck.\n"
     ]
    },
    {
     "data": {
      "text/html": [
       "== Status ==<br>Memory usage on this node: 17.9/32.0 GiB<br>Using FIFO scheduling algorithm.<br>Resources requested: 10/12 CPUs, 0/0 GPUs, 0.0/9.42 GiB heap, 0.0/3.22 GiB objects<br>Result logdir: /Users/natasha/Desktop/TUNE_RESULT_DIR/17_02_2021_40mods<br>Number of trials: 1 (1 RUNNING)<br><table>\n",
       "<thead>\n",
       "<tr><th>Trial name       </th><th>status  </th><th>loc                 </th><th style=\"text-align: right;\">  total time (s)</th><th style=\"text-align: right;\">  iter</th></tr>\n",
       "</thead>\n",
       "<tbody>\n",
       "<tr><td>train_AE_ba455998</td><td>RUNNING </td><td>192.168.68.106:32472</td><td style=\"text-align: right;\">         2066.28</td><td style=\"text-align: right;\">    81</td></tr>\n",
       "</tbody>\n",
       "</table><br><br>"
      ],
      "text/plain": [
       "<IPython.core.display.HTML object>"
      ]
     },
     "metadata": {},
     "output_type": "display_data"
    },
    {
     "name": "stderr",
     "output_type": "stream",
     "text": [
      "2021-02-19 17:41:29,383\tINFO resource_spec.py:212 -- Starting Ray with 9.42 GiB memory available for workers and up to 4.72 GiB for objects. You can adjust these settings with ray.init(memory=<bytes>, object_store_memory=<bytes>).\n"
     ]
    },
    {
     "name": "stdout",
     "output_type": "stream",
     "text": [
      "Result for train_AE_ba455998:\n",
      "  date: 2021-02-19_17-41-29\n",
      "  done: false\n",
      "  experiment_id: 69b3fbd9f9144deca47ded7ddb48fff7\n",
      "  experiment_tag: '0'\n",
      "  hostname: natashas-MacBook-Pro.local\n",
      "  iterations_since_restore: 82\n",
      "  node_ip: 192.168.68.106\n",
      "  pid: 32472\n",
      "  test_f1: 0.9730816496373235\n",
      "  test_loss: tensor(330367.2500)\n",
      "  time_since_restore: 2095.547231912613\n",
      "  time_this_iter_s: 29.26371693611145\n",
      "  time_total_s: 2095.547231912613\n",
      "  timestamp: 1613774489\n",
      "  timesteps_since_restore: 0\n",
      "  train_f1: 0.9720191572005112\n",
      "  train_loss: 44398.40234375\n",
      "  training_iteration: 82\n",
      "  trial_id: ba455998\n",
      "  \n"
     ]
    },
    {
     "name": "stderr",
     "output_type": "stream",
     "text": [
      "2021-02-19 17:41:58,563\tWARNING util.py:132 -- The `process_trial` operation took 29.178751945495605 seconds to complete, which may be a performance bottleneck.\n"
     ]
    },
    {
     "data": {
      "text/html": [
       "== Status ==<br>Memory usage on this node: 18.0/32.0 GiB<br>Using FIFO scheduling algorithm.<br>Resources requested: 10/12 CPUs, 0/0 GPUs, 0.0/9.42 GiB heap, 0.0/3.22 GiB objects<br>Result logdir: /Users/natasha/Desktop/TUNE_RESULT_DIR/17_02_2021_40mods<br>Number of trials: 1 (1 RUNNING)<br><table>\n",
       "<thead>\n",
       "<tr><th>Trial name       </th><th>status  </th><th>loc                 </th><th style=\"text-align: right;\">  total time (s)</th><th style=\"text-align: right;\">  iter</th></tr>\n",
       "</thead>\n",
       "<tbody>\n",
       "<tr><td>train_AE_ba455998</td><td>RUNNING </td><td>192.168.68.106:32472</td><td style=\"text-align: right;\">         2095.55</td><td style=\"text-align: right;\">    82</td></tr>\n",
       "</tbody>\n",
       "</table><br><br>"
      ],
      "text/plain": [
       "<IPython.core.display.HTML object>"
      ]
     },
     "metadata": {},
     "output_type": "display_data"
    },
    {
     "name": "stderr",
     "output_type": "stream",
     "text": [
      "2021-02-19 17:41:58,568\tINFO resource_spec.py:212 -- Starting Ray with 9.38 GiB memory available for workers and up to 4.69 GiB for objects. You can adjust these settings with ray.init(memory=<bytes>, object_store_memory=<bytes>).\n",
      "2021-02-19 17:41:58,568\tWARNING ray_trial_executor.py:361 -- Over the last 60 seconds, the Tune event loop has been backlogged processing new results. Consider increasing your period of result reporting to improve performance.\n"
     ]
    },
    {
     "name": "stdout",
     "output_type": "stream",
     "text": [
      "Result for train_AE_ba455998:\n",
      "  date: 2021-02-19_17-41-58\n",
      "  done: false\n",
      "  experiment_id: 69b3fbd9f9144deca47ded7ddb48fff7\n",
      "  experiment_tag: '0'\n",
      "  hostname: natashas-MacBook-Pro.local\n",
      "  iterations_since_restore: 83\n",
      "  node_ip: 192.168.68.106\n",
      "  pid: 32472\n",
      "  test_f1: 0.9738376094675316\n",
      "  test_loss: tensor(323014.3125)\n",
      "  time_since_restore: 2124.729864835739\n",
      "  time_this_iter_s: 29.18263292312622\n",
      "  time_total_s: 2124.729864835739\n",
      "  timestamp: 1613774518\n",
      "  timesteps_since_restore: 0\n",
      "  train_f1: 0.9770033902417045\n",
      "  train_loss: 37534.28515625\n",
      "  training_iteration: 83\n",
      "  trial_id: ba455998\n",
      "  \n"
     ]
    },
    {
     "name": "stderr",
     "output_type": "stream",
     "text": [
      "2021-02-19 17:42:27,695\tWARNING util.py:132 -- The `process_trial` operation took 29.12662386894226 seconds to complete, which may be a performance bottleneck.\n"
     ]
    },
    {
     "data": {
      "text/html": [
       "== Status ==<br>Memory usage on this node: 18.0/32.0 GiB<br>Using FIFO scheduling algorithm.<br>Resources requested: 10/12 CPUs, 0/0 GPUs, 0.0/9.38 GiB heap, 0.0/3.22 GiB objects<br>Result logdir: /Users/natasha/Desktop/TUNE_RESULT_DIR/17_02_2021_40mods<br>Number of trials: 1 (1 RUNNING)<br><table>\n",
       "<thead>\n",
       "<tr><th>Trial name       </th><th>status  </th><th>loc                 </th><th style=\"text-align: right;\">  total time (s)</th><th style=\"text-align: right;\">  iter</th></tr>\n",
       "</thead>\n",
       "<tbody>\n",
       "<tr><td>train_AE_ba455998</td><td>RUNNING </td><td>192.168.68.106:32472</td><td style=\"text-align: right;\">         2124.73</td><td style=\"text-align: right;\">    83</td></tr>\n",
       "</tbody>\n",
       "</table><br><br>"
      ],
      "text/plain": [
       "<IPython.core.display.HTML object>"
      ]
     },
     "metadata": {},
     "output_type": "display_data"
    },
    {
     "name": "stderr",
     "output_type": "stream",
     "text": [
      "2021-02-19 17:42:27,699\tINFO resource_spec.py:212 -- Starting Ray with 9.38 GiB memory available for workers and up to 4.7 GiB for objects. You can adjust these settings with ray.init(memory=<bytes>, object_store_memory=<bytes>).\n"
     ]
    },
    {
     "name": "stdout",
     "output_type": "stream",
     "text": [
      "Result for train_AE_ba455998:\n",
      "  date: 2021-02-19_17-42-27\n",
      "  done: false\n",
      "  experiment_id: 69b3fbd9f9144deca47ded7ddb48fff7\n",
      "  experiment_tag: '0'\n",
      "  hostname: natashas-MacBook-Pro.local\n",
      "  iterations_since_restore: 84\n",
      "  node_ip: 192.168.68.106\n",
      "  pid: 32472\n",
      "  test_f1: 0.9735632298796947\n",
      "  test_loss: tensor(320620.7812)\n",
      "  time_since_restore: 2153.8622708320618\n",
      "  time_this_iter_s: 29.132405996322632\n",
      "  time_total_s: 2153.8622708320618\n",
      "  timestamp: 1613774547\n",
      "  timesteps_since_restore: 0\n",
      "  train_f1: 0.9756360372056271\n",
      "  train_loss: 39938.2265625\n",
      "  training_iteration: 84\n",
      "  trial_id: ba455998\n",
      "  \n"
     ]
    },
    {
     "name": "stderr",
     "output_type": "stream",
     "text": [
      "2021-02-19 17:42:35,149\tWARNING util.py:132 -- The `process_trial` operation took 7.449320077896118 seconds to complete, which may be a performance bottleneck.\n"
     ]
    },
    {
     "data": {
      "text/html": [
       "== Status ==<br>Memory usage on this node: 18.1/32.0 GiB<br>Using FIFO scheduling algorithm.<br>Resources requested: 10/12 CPUs, 0/0 GPUs, 0.0/9.38 GiB heap, 0.0/3.22 GiB objects<br>Result logdir: /Users/natasha/Desktop/TUNE_RESULT_DIR/17_02_2021_40mods<br>Number of trials: 1 (1 RUNNING)<br><table>\n",
       "<thead>\n",
       "<tr><th>Trial name       </th><th>status  </th><th>loc                 </th><th style=\"text-align: right;\">  total time (s)</th><th style=\"text-align: right;\">  iter</th></tr>\n",
       "</thead>\n",
       "<tbody>\n",
       "<tr><td>train_AE_ba455998</td><td>RUNNING </td><td>192.168.68.106:32472</td><td style=\"text-align: right;\">         2153.86</td><td style=\"text-align: right;\">    84</td></tr>\n",
       "</tbody>\n",
       "</table><br><br>"
      ],
      "text/plain": [
       "<IPython.core.display.HTML object>"
      ]
     },
     "metadata": {},
     "output_type": "display_data"
    },
    {
     "name": "stderr",
     "output_type": "stream",
     "text": [
      "2021-02-19 17:42:35,151\tINFO resource_spec.py:212 -- Starting Ray with 9.33 GiB memory available for workers and up to 4.68 GiB for objects. You can adjust these settings with ray.init(memory=<bytes>, object_store_memory=<bytes>).\n"
     ]
    },
    {
     "name": "stdout",
     "output_type": "stream",
     "text": [
      "Result for train_AE_ba455998:\n",
      "  date: 2021-02-19_17-42-35\n",
      "  done: false\n",
      "  experiment_id: 69b3fbd9f9144deca47ded7ddb48fff7\n",
      "  experiment_tag: '0'\n",
      "  hostname: natashas-MacBook-Pro.local\n",
      "  iterations_since_restore: 85\n",
      "  node_ip: 192.168.68.106\n",
      "  pid: 32472\n",
      "  test_f1: 0.9726169616065724\n",
      "  test_loss: tensor(336297.0312)\n",
      "  time_since_restore: 2161.315953016281\n",
      "  time_this_iter_s: 7.45368218421936\n",
      "  time_total_s: 2161.315953016281\n",
      "  timestamp: 1613774555\n",
      "  timesteps_since_restore: 0\n",
      "  train_f1: 0.9772349243678415\n",
      "  train_loss: 37626.12890625\n",
      "  training_iteration: 85\n",
      "  trial_id: ba455998\n",
      "  \n"
     ]
    },
    {
     "name": "stderr",
     "output_type": "stream",
     "text": [
      "2021-02-19 17:43:04,516\tWARNING util.py:132 -- The `process_trial` operation took 29.364525079727173 seconds to complete, which may be a performance bottleneck.\n"
     ]
    },
    {
     "data": {
      "text/html": [
       "== Status ==<br>Memory usage on this node: 18.1/32.0 GiB<br>Using FIFO scheduling algorithm.<br>Resources requested: 10/12 CPUs, 0/0 GPUs, 0.0/9.33 GiB heap, 0.0/3.22 GiB objects<br>Result logdir: /Users/natasha/Desktop/TUNE_RESULT_DIR/17_02_2021_40mods<br>Number of trials: 1 (1 RUNNING)<br><table>\n",
       "<thead>\n",
       "<tr><th>Trial name       </th><th>status  </th><th>loc                 </th><th style=\"text-align: right;\">  total time (s)</th><th style=\"text-align: right;\">  iter</th></tr>\n",
       "</thead>\n",
       "<tbody>\n",
       "<tr><td>train_AE_ba455998</td><td>RUNNING </td><td>192.168.68.106:32472</td><td style=\"text-align: right;\">         2161.32</td><td style=\"text-align: right;\">    85</td></tr>\n",
       "</tbody>\n",
       "</table><br><br>"
      ],
      "text/plain": [
       "<IPython.core.display.HTML object>"
      ]
     },
     "metadata": {},
     "output_type": "display_data"
    },
    {
     "name": "stderr",
     "output_type": "stream",
     "text": [
      "2021-02-19 17:43:04,519\tINFO resource_spec.py:212 -- Starting Ray with 9.28 GiB memory available for workers and up to 4.66 GiB for objects. You can adjust these settings with ray.init(memory=<bytes>, object_store_memory=<bytes>).\n",
      "2021-02-19 17:43:04,520\tWARNING ray_trial_executor.py:361 -- Over the last 60 seconds, the Tune event loop has been backlogged processing new results. Consider increasing your period of result reporting to improve performance.\n"
     ]
    },
    {
     "name": "stdout",
     "output_type": "stream",
     "text": [
      "Result for train_AE_ba455998:\n",
      "  date: 2021-02-19_17-43-04\n",
      "  done: false\n",
      "  experiment_id: 69b3fbd9f9144deca47ded7ddb48fff7\n",
      "  experiment_tag: '0'\n",
      "  hostname: natashas-MacBook-Pro.local\n",
      "  iterations_since_restore: 86\n",
      "  node_ip: 192.168.68.106\n",
      "  pid: 32472\n",
      "  test_f1: 0.9743846978499978\n",
      "  test_loss: tensor(319843.6562)\n",
      "  time_since_restore: 2190.6833069324493\n",
      "  time_this_iter_s: 29.367353916168213\n",
      "  time_total_s: 2190.6833069324493\n",
      "  timestamp: 1613774584\n",
      "  timesteps_since_restore: 0\n",
      "  train_f1: 0.9756376001249222\n",
      "  train_loss: 39689.9296875\n",
      "  training_iteration: 86\n",
      "  trial_id: ba455998\n",
      "  \n"
     ]
    },
    {
     "name": "stderr",
     "output_type": "stream",
     "text": [
      "2021-02-19 17:43:33,668\tWARNING util.py:132 -- The `process_trial` operation took 29.1472806930542 seconds to complete, which may be a performance bottleneck.\n"
     ]
    },
    {
     "data": {
      "text/html": [
       "== Status ==<br>Memory usage on this node: 18.2/32.0 GiB<br>Using FIFO scheduling algorithm.<br>Resources requested: 10/12 CPUs, 0/0 GPUs, 0.0/9.28 GiB heap, 0.0/3.17 GiB objects<br>Result logdir: /Users/natasha/Desktop/TUNE_RESULT_DIR/17_02_2021_40mods<br>Number of trials: 1 (1 RUNNING)<br><table>\n",
       "<thead>\n",
       "<tr><th>Trial name       </th><th>status  </th><th>loc                 </th><th style=\"text-align: right;\">  total time (s)</th><th style=\"text-align: right;\">  iter</th></tr>\n",
       "</thead>\n",
       "<tbody>\n",
       "<tr><td>train_AE_ba455998</td><td>RUNNING </td><td>192.168.68.106:32472</td><td style=\"text-align: right;\">         2190.68</td><td style=\"text-align: right;\">    86</td></tr>\n",
       "</tbody>\n",
       "</table><br><br>"
      ],
      "text/plain": [
       "<IPython.core.display.HTML object>"
      ]
     },
     "metadata": {},
     "output_type": "display_data"
    },
    {
     "name": "stderr",
     "output_type": "stream",
     "text": [
      "2021-02-19 17:43:33,671\tINFO resource_spec.py:212 -- Starting Ray with 9.23 GiB memory available for workers and up to 4.63 GiB for objects. You can adjust these settings with ray.init(memory=<bytes>, object_store_memory=<bytes>).\n"
     ]
    },
    {
     "name": "stdout",
     "output_type": "stream",
     "text": [
      "Result for train_AE_ba455998:\n",
      "  date: 2021-02-19_17-43-33\n",
      "  done: false\n",
      "  experiment_id: 69b3fbd9f9144deca47ded7ddb48fff7\n",
      "  experiment_tag: '0'\n",
      "  hostname: natashas-MacBook-Pro.local\n",
      "  iterations_since_restore: 87\n",
      "  node_ip: 192.168.68.106\n",
      "  pid: 32472\n",
      "  test_f1: 0.97520753322884\n",
      "  test_loss: tensor(314257.0625)\n",
      "  time_since_restore: 2219.8348479270935\n",
      "  time_this_iter_s: 29.151540994644165\n",
      "  time_total_s: 2219.8348479270935\n",
      "  timestamp: 1613774613\n",
      "  timesteps_since_restore: 0\n",
      "  train_f1: 0.976782181317428\n",
      "  train_loss: 38366.984375\n",
      "  training_iteration: 87\n",
      "  trial_id: ba455998\n",
      "  \n"
     ]
    },
    {
     "name": "stderr",
     "output_type": "stream",
     "text": [
      "2021-02-19 17:44:02,541\tWARNING util.py:132 -- The `process_trial` operation took 28.86939311027527 seconds to complete, which may be a performance bottleneck.\n"
     ]
    },
    {
     "data": {
      "text/html": [
       "== Status ==<br>Memory usage on this node: 18.3/32.0 GiB<br>Using FIFO scheduling algorithm.<br>Resources requested: 10/12 CPUs, 0/0 GPUs, 0.0/9.23 GiB heap, 0.0/3.17 GiB objects<br>Result logdir: /Users/natasha/Desktop/TUNE_RESULT_DIR/17_02_2021_40mods<br>Number of trials: 1 (1 RUNNING)<br><table>\n",
       "<thead>\n",
       "<tr><th>Trial name       </th><th>status  </th><th>loc                 </th><th style=\"text-align: right;\">  total time (s)</th><th style=\"text-align: right;\">  iter</th></tr>\n",
       "</thead>\n",
       "<tbody>\n",
       "<tr><td>train_AE_ba455998</td><td>RUNNING </td><td>192.168.68.106:32472</td><td style=\"text-align: right;\">         2219.83</td><td style=\"text-align: right;\">    87</td></tr>\n",
       "</tbody>\n",
       "</table><br><br>"
      ],
      "text/plain": [
       "<IPython.core.display.HTML object>"
      ]
     },
     "metadata": {},
     "output_type": "display_data"
    },
    {
     "name": "stderr",
     "output_type": "stream",
     "text": [
      "2021-02-19 17:44:02,544\tINFO resource_spec.py:212 -- Starting Ray with 9.23 GiB memory available for workers and up to 4.62 GiB for objects. You can adjust these settings with ray.init(memory=<bytes>, object_store_memory=<bytes>).\n"
     ]
    },
    {
     "name": "stdout",
     "output_type": "stream",
     "text": [
      "Result for train_AE_ba455998:\n",
      "  date: 2021-02-19_17-44-02\n",
      "  done: false\n",
      "  experiment_id: 69b3fbd9f9144deca47ded7ddb48fff7\n",
      "  experiment_tag: '0'\n",
      "  hostname: natashas-MacBook-Pro.local\n",
      "  iterations_since_restore: 88\n",
      "  node_ip: 192.168.68.106\n",
      "  pid: 32472\n",
      "  test_f1: 0.974731075122028\n",
      "  test_loss: tensor(318572.5625)\n",
      "  time_since_restore: 2248.7081351280212\n",
      "  time_this_iter_s: 28.873287200927734\n",
      "  time_total_s: 2248.7081351280212\n",
      "  timestamp: 1613774642\n",
      "  timesteps_since_restore: 0\n",
      "  train_f1: 0.975593983797911\n",
      "  train_loss: 38734.5078125\n",
      "  training_iteration: 88\n",
      "  trial_id: ba455998\n",
      "  \n"
     ]
    },
    {
     "name": "stderr",
     "output_type": "stream",
     "text": [
      "2021-02-19 17:44:31,570\tWARNING util.py:132 -- The `process_trial` operation took 29.025174140930176 seconds to complete, which may be a performance bottleneck.\n"
     ]
    },
    {
     "data": {
      "text/html": [
       "== Status ==<br>Memory usage on this node: 18.2/32.0 GiB<br>Using FIFO scheduling algorithm.<br>Resources requested: 10/12 CPUs, 0/0 GPUs, 0.0/9.23 GiB heap, 0.0/3.17 GiB objects<br>Result logdir: /Users/natasha/Desktop/TUNE_RESULT_DIR/17_02_2021_40mods<br>Number of trials: 1 (1 RUNNING)<br><table>\n",
       "<thead>\n",
       "<tr><th>Trial name       </th><th>status  </th><th>loc                 </th><th style=\"text-align: right;\">  total time (s)</th><th style=\"text-align: right;\">  iter</th></tr>\n",
       "</thead>\n",
       "<tbody>\n",
       "<tr><td>train_AE_ba455998</td><td>RUNNING </td><td>192.168.68.106:32472</td><td style=\"text-align: right;\">         2248.71</td><td style=\"text-align: right;\">    88</td></tr>\n",
       "</tbody>\n",
       "</table><br><br>"
      ],
      "text/plain": [
       "<IPython.core.display.HTML object>"
      ]
     },
     "metadata": {},
     "output_type": "display_data"
    },
    {
     "name": "stderr",
     "output_type": "stream",
     "text": [
      "2021-02-19 17:44:31,573\tINFO resource_spec.py:212 -- Starting Ray with 9.28 GiB memory available for workers and up to 4.64 GiB for objects. You can adjust these settings with ray.init(memory=<bytes>, object_store_memory=<bytes>).\n",
      "2021-02-19 17:44:31,574\tWARNING ray_trial_executor.py:361 -- Over the last 60 seconds, the Tune event loop has been backlogged processing new results. Consider increasing your period of result reporting to improve performance.\n"
     ]
    },
    {
     "name": "stdout",
     "output_type": "stream",
     "text": [
      "Result for train_AE_ba455998:\n",
      "  date: 2021-02-19_17-44-31\n",
      "  done: false\n",
      "  experiment_id: 69b3fbd9f9144deca47ded7ddb48fff7\n",
      "  experiment_tag: '0'\n",
      "  hostname: natashas-MacBook-Pro.local\n",
      "  iterations_since_restore: 89\n",
      "  node_ip: 192.168.68.106\n",
      "  pid: 32472\n",
      "  test_f1: 0.9758543837783311\n",
      "  test_loss: tensor(306027.7500)\n",
      "  time_since_restore: 2277.7370228767395\n",
      "  time_this_iter_s: 29.02888774871826\n",
      "  time_total_s: 2277.7370228767395\n",
      "  timestamp: 1613774671\n",
      "  timesteps_since_restore: 0\n",
      "  train_f1: 0.9748372170295629\n",
      "  train_loss: 40613.86328125\n",
      "  training_iteration: 89\n",
      "  trial_id: ba455998\n",
      "  \n"
     ]
    },
    {
     "name": "stderr",
     "output_type": "stream",
     "text": [
      "2021-02-19 17:45:00,084\tWARNING util.py:132 -- The `process_trial` operation took 28.509416818618774 seconds to complete, which may be a performance bottleneck.\n"
     ]
    },
    {
     "data": {
      "text/html": [
       "== Status ==<br>Memory usage on this node: 18.3/32.0 GiB<br>Using FIFO scheduling algorithm.<br>Resources requested: 10/12 CPUs, 0/0 GPUs, 0.0/9.28 GiB heap, 0.0/3.17 GiB objects<br>Result logdir: /Users/natasha/Desktop/TUNE_RESULT_DIR/17_02_2021_40mods<br>Number of trials: 1 (1 RUNNING)<br><table>\n",
       "<thead>\n",
       "<tr><th>Trial name       </th><th>status  </th><th>loc                 </th><th style=\"text-align: right;\">  total time (s)</th><th style=\"text-align: right;\">  iter</th></tr>\n",
       "</thead>\n",
       "<tbody>\n",
       "<tr><td>train_AE_ba455998</td><td>RUNNING </td><td>192.168.68.106:32472</td><td style=\"text-align: right;\">         2277.74</td><td style=\"text-align: right;\">    89</td></tr>\n",
       "</tbody>\n",
       "</table><br><br>"
      ],
      "text/plain": [
       "<IPython.core.display.HTML object>"
      ]
     },
     "metadata": {},
     "output_type": "display_data"
    },
    {
     "name": "stderr",
     "output_type": "stream",
     "text": [
      "2021-02-19 17:45:00,089\tINFO resource_spec.py:212 -- Starting Ray with 9.23 GiB memory available for workers and up to 4.62 GiB for objects. You can adjust these settings with ray.init(memory=<bytes>, object_store_memory=<bytes>).\n"
     ]
    },
    {
     "name": "stdout",
     "output_type": "stream",
     "text": [
      "Result for train_AE_ba455998:\n",
      "  date: 2021-02-19_17-45-00\n",
      "  done: false\n",
      "  experiment_id: 69b3fbd9f9144deca47ded7ddb48fff7\n",
      "  experiment_tag: '0'\n",
      "  hostname: natashas-MacBook-Pro.local\n",
      "  iterations_since_restore: 90\n",
      "  node_ip: 192.168.68.106\n",
      "  pid: 32472\n",
      "  test_f1: 0.9751267841214458\n",
      "  test_loss: tensor(247105.7969)\n",
      "  time_since_restore: 2306.2507240772247\n",
      "  time_this_iter_s: 28.51370120048523\n",
      "  time_total_s: 2306.2507240772247\n",
      "  timestamp: 1613774700\n",
      "  timesteps_since_restore: 0\n",
      "  train_f1: 0.9769122777455934\n",
      "  train_loss: 38990.33203125\n",
      "  training_iteration: 90\n",
      "  trial_id: ba455998\n",
      "  \n"
     ]
    },
    {
     "name": "stderr",
     "output_type": "stream",
     "text": [
      "2021-02-19 17:45:28,066\tWARNING util.py:132 -- The `process_trial` operation took 27.976482152938843 seconds to complete, which may be a performance bottleneck.\n"
     ]
    },
    {
     "data": {
      "text/html": [
       "== Status ==<br>Memory usage on this node: 18.2/32.0 GiB<br>Using FIFO scheduling algorithm.<br>Resources requested: 10/12 CPUs, 0/0 GPUs, 0.0/9.23 GiB heap, 0.0/3.17 GiB objects<br>Result logdir: /Users/natasha/Desktop/TUNE_RESULT_DIR/17_02_2021_40mods<br>Number of trials: 1 (1 RUNNING)<br><table>\n",
       "<thead>\n",
       "<tr><th>Trial name       </th><th>status  </th><th>loc                 </th><th style=\"text-align: right;\">  total time (s)</th><th style=\"text-align: right;\">  iter</th></tr>\n",
       "</thead>\n",
       "<tbody>\n",
       "<tr><td>train_AE_ba455998</td><td>RUNNING </td><td>192.168.68.106:32472</td><td style=\"text-align: right;\">         2306.25</td><td style=\"text-align: right;\">    90</td></tr>\n",
       "</tbody>\n",
       "</table><br><br>"
      ],
      "text/plain": [
       "<IPython.core.display.HTML object>"
      ]
     },
     "metadata": {},
     "output_type": "display_data"
    },
    {
     "name": "stderr",
     "output_type": "stream",
     "text": [
      "2021-02-19 17:45:28,069\tINFO resource_spec.py:212 -- Starting Ray with 9.28 GiB memory available for workers and up to 4.65 GiB for objects. You can adjust these settings with ray.init(memory=<bytes>, object_store_memory=<bytes>).\n"
     ]
    },
    {
     "name": "stdout",
     "output_type": "stream",
     "text": [
      "Result for train_AE_ba455998:\n",
      "  date: 2021-02-19_17-45-28\n",
      "  done: false\n",
      "  experiment_id: 69b3fbd9f9144deca47ded7ddb48fff7\n",
      "  experiment_tag: '0'\n",
      "  hostname: natashas-MacBook-Pro.local\n",
      "  iterations_since_restore: 91\n",
      "  node_ip: 192.168.68.106\n",
      "  pid: 32472\n",
      "  test_f1: 0.9753907443448149\n",
      "  test_loss: tensor(311921.4688)\n",
      "  time_since_restore: 2334.2333059310913\n",
      "  time_this_iter_s: 27.982581853866577\n",
      "  time_total_s: 2334.2333059310913\n",
      "  timestamp: 1613774728\n",
      "  timesteps_since_restore: 0\n",
      "  train_f1: 0.9780650251410816\n",
      "  train_loss: 36905.5859375\n",
      "  training_iteration: 91\n",
      "  trial_id: ba455998\n",
      "  \n"
     ]
    },
    {
     "name": "stderr",
     "output_type": "stream",
     "text": [
      "2021-02-19 17:45:56,641\tWARNING util.py:132 -- The `process_trial` operation took 28.57077717781067 seconds to complete, which may be a performance bottleneck.\n"
     ]
    },
    {
     "data": {
      "text/html": [
       "== Status ==<br>Memory usage on this node: 18.2/32.0 GiB<br>Using FIFO scheduling algorithm.<br>Resources requested: 10/12 CPUs, 0/0 GPUs, 0.0/9.28 GiB heap, 0.0/3.17 GiB objects<br>Result logdir: /Users/natasha/Desktop/TUNE_RESULT_DIR/17_02_2021_40mods<br>Number of trials: 1 (1 RUNNING)<br><table>\n",
       "<thead>\n",
       "<tr><th>Trial name       </th><th>status  </th><th>loc                 </th><th style=\"text-align: right;\">  total time (s)</th><th style=\"text-align: right;\">  iter</th></tr>\n",
       "</thead>\n",
       "<tbody>\n",
       "<tr><td>train_AE_ba455998</td><td>RUNNING </td><td>192.168.68.106:32472</td><td style=\"text-align: right;\">         2334.23</td><td style=\"text-align: right;\">    91</td></tr>\n",
       "</tbody>\n",
       "</table><br><br>"
      ],
      "text/plain": [
       "<IPython.core.display.HTML object>"
      ]
     },
     "metadata": {},
     "output_type": "display_data"
    },
    {
     "name": "stderr",
     "output_type": "stream",
     "text": [
      "2021-02-19 17:45:56,644\tINFO resource_spec.py:212 -- Starting Ray with 9.28 GiB memory available for workers and up to 4.64 GiB for objects. You can adjust these settings with ray.init(memory=<bytes>, object_store_memory=<bytes>).\n",
      "2021-02-19 17:45:56,644\tWARNING ray_trial_executor.py:361 -- Over the last 60 seconds, the Tune event loop has been backlogged processing new results. Consider increasing your period of result reporting to improve performance.\n"
     ]
    },
    {
     "name": "stdout",
     "output_type": "stream",
     "text": [
      "Result for train_AE_ba455998:\n",
      "  date: 2021-02-19_17-45-56\n",
      "  done: false\n",
      "  experiment_id: 69b3fbd9f9144deca47ded7ddb48fff7\n",
      "  experiment_tag: '0'\n",
      "  hostname: natashas-MacBook-Pro.local\n",
      "  iterations_since_restore: 92\n",
      "  node_ip: 192.168.68.106\n",
      "  pid: 32472\n",
      "  test_f1: 0.9755853245527756\n",
      "  test_loss: tensor(308786.0625)\n",
      "  time_since_restore: 2362.8078219890594\n",
      "  time_this_iter_s: 28.57451605796814\n",
      "  time_total_s: 2362.8078219890594\n",
      "  timestamp: 1613774756\n",
      "  timesteps_since_restore: 0\n",
      "  train_f1: 0.977420189446571\n",
      "  train_loss: 38049.4453125\n",
      "  training_iteration: 92\n",
      "  trial_id: ba455998\n",
      "  \n"
     ]
    },
    {
     "name": "stderr",
     "output_type": "stream",
     "text": [
      "2021-02-19 17:46:25,778\tWARNING util.py:132 -- The `process_trial` operation took 29.132838010787964 seconds to complete, which may be a performance bottleneck.\n"
     ]
    },
    {
     "data": {
      "text/html": [
       "== Status ==<br>Memory usage on this node: 18.3/32.0 GiB<br>Using FIFO scheduling algorithm.<br>Resources requested: 10/12 CPUs, 0/0 GPUs, 0.0/9.28 GiB heap, 0.0/3.17 GiB objects<br>Result logdir: /Users/natasha/Desktop/TUNE_RESULT_DIR/17_02_2021_40mods<br>Number of trials: 1 (1 RUNNING)<br><table>\n",
       "<thead>\n",
       "<tr><th>Trial name       </th><th>status  </th><th>loc                 </th><th style=\"text-align: right;\">  total time (s)</th><th style=\"text-align: right;\">  iter</th></tr>\n",
       "</thead>\n",
       "<tbody>\n",
       "<tr><td>train_AE_ba455998</td><td>RUNNING </td><td>192.168.68.106:32472</td><td style=\"text-align: right;\">         2362.81</td><td style=\"text-align: right;\">    92</td></tr>\n",
       "</tbody>\n",
       "</table><br><br>"
      ],
      "text/plain": [
       "<IPython.core.display.HTML object>"
      ]
     },
     "metadata": {},
     "output_type": "display_data"
    },
    {
     "name": "stderr",
     "output_type": "stream",
     "text": [
      "2021-02-19 17:46:25,781\tINFO resource_spec.py:212 -- Starting Ray with 9.18 GiB memory available for workers and up to 4.6 GiB for objects. You can adjust these settings with ray.init(memory=<bytes>, object_store_memory=<bytes>).\n"
     ]
    },
    {
     "name": "stdout",
     "output_type": "stream",
     "text": [
      "Result for train_AE_ba455998:\n",
      "  date: 2021-02-19_17-46-25\n",
      "  done: false\n",
      "  experiment_id: 69b3fbd9f9144deca47ded7ddb48fff7\n",
      "  experiment_tag: '0'\n",
      "  hostname: natashas-MacBook-Pro.local\n",
      "  iterations_since_restore: 93\n",
      "  node_ip: 192.168.68.106\n",
      "  pid: 32472\n",
      "  test_f1: 0.9757719481377213\n",
      "  test_loss: tensor(307242.5625)\n",
      "  time_since_restore: 2391.9446849823\n",
      "  time_this_iter_s: 29.136862993240356\n",
      "  time_total_s: 2391.9446849823\n",
      "  timestamp: 1613774785\n",
      "  timesteps_since_restore: 0\n",
      "  train_f1: 0.9770361114375916\n",
      "  train_loss: 38375.921875\n",
      "  training_iteration: 93\n",
      "  trial_id: ba455998\n",
      "  \n"
     ]
    },
    {
     "name": "stderr",
     "output_type": "stream",
     "text": [
      "2021-02-19 17:46:55,169\tWARNING util.py:132 -- The `process_trial` operation took 29.387691020965576 seconds to complete, which may be a performance bottleneck.\n"
     ]
    },
    {
     "data": {
      "text/html": [
       "== Status ==<br>Memory usage on this node: 18.2/32.0 GiB<br>Using FIFO scheduling algorithm.<br>Resources requested: 10/12 CPUs, 0/0 GPUs, 0.0/9.18 GiB heap, 0.0/3.17 GiB objects<br>Result logdir: /Users/natasha/Desktop/TUNE_RESULT_DIR/17_02_2021_40mods<br>Number of trials: 1 (1 RUNNING)<br><table>\n",
       "<thead>\n",
       "<tr><th>Trial name       </th><th>status  </th><th>loc                 </th><th style=\"text-align: right;\">  total time (s)</th><th style=\"text-align: right;\">  iter</th></tr>\n",
       "</thead>\n",
       "<tbody>\n",
       "<tr><td>train_AE_ba455998</td><td>RUNNING </td><td>192.168.68.106:32472</td><td style=\"text-align: right;\">         2391.94</td><td style=\"text-align: right;\">    93</td></tr>\n",
       "</tbody>\n",
       "</table><br><br>"
      ],
      "text/plain": [
       "<IPython.core.display.HTML object>"
      ]
     },
     "metadata": {},
     "output_type": "display_data"
    },
    {
     "name": "stderr",
     "output_type": "stream",
     "text": [
      "2021-02-19 17:46:55,173\tINFO resource_spec.py:212 -- Starting Ray with 9.23 GiB memory available for workers and up to 4.63 GiB for objects. You can adjust these settings with ray.init(memory=<bytes>, object_store_memory=<bytes>).\n"
     ]
    },
    {
     "name": "stdout",
     "output_type": "stream",
     "text": [
      "Result for train_AE_ba455998:\n",
      "  date: 2021-02-19_17-46-55\n",
      "  done: false\n",
      "  experiment_id: 69b3fbd9f9144deca47ded7ddb48fff7\n",
      "  experiment_tag: '0'\n",
      "  hostname: natashas-MacBook-Pro.local\n",
      "  iterations_since_restore: 94\n",
      "  node_ip: 192.168.68.106\n",
      "  pid: 32472\n",
      "  test_f1: 0.975282803069807\n",
      "  test_loss: tensor(312394.9062)\n",
      "  time_since_restore: 2421.3362448215485\n",
      "  time_this_iter_s: 29.391559839248657\n",
      "  time_total_s: 2421.3362448215485\n",
      "  timestamp: 1613774815\n",
      "  timesteps_since_restore: 0\n",
      "  train_f1: 0.9783999940944582\n",
      "  train_loss: 37165.6484375\n",
      "  training_iteration: 94\n",
      "  trial_id: ba455998\n",
      "  \n"
     ]
    },
    {
     "name": "stderr",
     "output_type": "stream",
     "text": [
      "2021-02-19 17:47:24,468\tWARNING util.py:132 -- The `process_trial` operation took 29.294437885284424 seconds to complete, which may be a performance bottleneck.\n"
     ]
    },
    {
     "data": {
      "text/html": [
       "== Status ==<br>Memory usage on this node: 18.2/32.0 GiB<br>Using FIFO scheduling algorithm.<br>Resources requested: 10/12 CPUs, 0/0 GPUs, 0.0/9.23 GiB heap, 0.0/3.17 GiB objects<br>Result logdir: /Users/natasha/Desktop/TUNE_RESULT_DIR/17_02_2021_40mods<br>Number of trials: 1 (1 RUNNING)<br><table>\n",
       "<thead>\n",
       "<tr><th>Trial name       </th><th>status  </th><th>loc                 </th><th style=\"text-align: right;\">  total time (s)</th><th style=\"text-align: right;\">  iter</th></tr>\n",
       "</thead>\n",
       "<tbody>\n",
       "<tr><td>train_AE_ba455998</td><td>RUNNING </td><td>192.168.68.106:32472</td><td style=\"text-align: right;\">         2421.34</td><td style=\"text-align: right;\">    94</td></tr>\n",
       "</tbody>\n",
       "</table><br><br>"
      ],
      "text/plain": [
       "<IPython.core.display.HTML object>"
      ]
     },
     "metadata": {},
     "output_type": "display_data"
    },
    {
     "name": "stderr",
     "output_type": "stream",
     "text": [
      "2021-02-19 17:47:24,471\tINFO resource_spec.py:212 -- Starting Ray with 9.28 GiB memory available for workers and up to 4.64 GiB for objects. You can adjust these settings with ray.init(memory=<bytes>, object_store_memory=<bytes>).\n",
      "2021-02-19 17:47:24,472\tWARNING ray_trial_executor.py:361 -- Over the last 60 seconds, the Tune event loop has been backlogged processing new results. Consider increasing your period of result reporting to improve performance.\n"
     ]
    },
    {
     "name": "stdout",
     "output_type": "stream",
     "text": [
      "Result for train_AE_ba455998:\n",
      "  date: 2021-02-19_17-47-24\n",
      "  done: false\n",
      "  experiment_id: 69b3fbd9f9144deca47ded7ddb48fff7\n",
      "  experiment_tag: '0'\n",
      "  hostname: natashas-MacBook-Pro.local\n",
      "  iterations_since_restore: 95\n",
      "  node_ip: 192.168.68.106\n",
      "  pid: 32472\n",
      "  test_f1: 0.9758893552391984\n",
      "  test_loss: tensor(307563.5625)\n",
      "  time_since_restore: 2450.6351778507233\n",
      "  time_this_iter_s: 29.298933029174805\n",
      "  time_total_s: 2450.6351778507233\n",
      "  timestamp: 1613774844\n",
      "  timesteps_since_restore: 0\n",
      "  train_f1: 0.9763854041171776\n",
      "  train_loss: 38583.15625\n",
      "  training_iteration: 95\n",
      "  trial_id: ba455998\n",
      "  \n"
     ]
    },
    {
     "name": "stderr",
     "output_type": "stream",
     "text": [
      "2021-02-19 17:47:52,599\tWARNING util.py:132 -- The `process_trial` operation took 28.126245260238647 seconds to complete, which may be a performance bottleneck.\n"
     ]
    },
    {
     "data": {
      "text/html": [
       "== Status ==<br>Memory usage on this node: 18.2/32.0 GiB<br>Using FIFO scheduling algorithm.<br>Resources requested: 10/12 CPUs, 0/0 GPUs, 0.0/9.28 GiB heap, 0.0/3.17 GiB objects<br>Result logdir: /Users/natasha/Desktop/TUNE_RESULT_DIR/17_02_2021_40mods<br>Number of trials: 1 (1 RUNNING)<br><table>\n",
       "<thead>\n",
       "<tr><th>Trial name       </th><th>status  </th><th>loc                 </th><th style=\"text-align: right;\">  total time (s)</th><th style=\"text-align: right;\">  iter</th></tr>\n",
       "</thead>\n",
       "<tbody>\n",
       "<tr><td>train_AE_ba455998</td><td>RUNNING </td><td>192.168.68.106:32472</td><td style=\"text-align: right;\">         2450.64</td><td style=\"text-align: right;\">    95</td></tr>\n",
       "</tbody>\n",
       "</table><br><br>"
      ],
      "text/plain": [
       "<IPython.core.display.HTML object>"
      ]
     },
     "metadata": {},
     "output_type": "display_data"
    },
    {
     "name": "stderr",
     "output_type": "stream",
     "text": [
      "2021-02-19 17:47:52,602\tINFO resource_spec.py:212 -- Starting Ray with 9.28 GiB memory available for workers and up to 4.65 GiB for objects. You can adjust these settings with ray.init(memory=<bytes>, object_store_memory=<bytes>).\n"
     ]
    },
    {
     "name": "stdout",
     "output_type": "stream",
     "text": [
      "Result for train_AE_ba455998:\n",
      "  date: 2021-02-19_17-47-52\n",
      "  done: false\n",
      "  experiment_id: 69b3fbd9f9144deca47ded7ddb48fff7\n",
      "  experiment_tag: '0'\n",
      "  hostname: natashas-MacBook-Pro.local\n",
      "  iterations_since_restore: 96\n",
      "  node_ip: 192.168.68.106\n",
      "  pid: 32472\n",
      "  test_f1: 0.9756013143836905\n",
      "  test_loss: tensor(303027.2812)\n",
      "  time_since_restore: 2478.7657010555267\n",
      "  time_this_iter_s: 28.130523204803467\n",
      "  time_total_s: 2478.7657010555267\n",
      "  timestamp: 1613774872\n",
      "  timesteps_since_restore: 0\n",
      "  train_f1: 0.976159172049799\n",
      "  train_loss: 39369.2734375\n",
      "  training_iteration: 96\n",
      "  trial_id: ba455998\n",
      "  \n"
     ]
    },
    {
     "name": "stderr",
     "output_type": "stream",
     "text": [
      "2021-02-19 17:47:59,606\tWARNING util.py:132 -- The `process_trial` operation took 7.0038840770721436 seconds to complete, which may be a performance bottleneck.\n"
     ]
    },
    {
     "data": {
      "text/html": [
       "== Status ==<br>Memory usage on this node: 18.2/32.0 GiB<br>Using FIFO scheduling algorithm.<br>Resources requested: 10/12 CPUs, 0/0 GPUs, 0.0/9.28 GiB heap, 0.0/3.17 GiB objects<br>Result logdir: /Users/natasha/Desktop/TUNE_RESULT_DIR/17_02_2021_40mods<br>Number of trials: 1 (1 RUNNING)<br><table>\n",
       "<thead>\n",
       "<tr><th>Trial name       </th><th>status  </th><th>loc                 </th><th style=\"text-align: right;\">  total time (s)</th><th style=\"text-align: right;\">  iter</th></tr>\n",
       "</thead>\n",
       "<tbody>\n",
       "<tr><td>train_AE_ba455998</td><td>RUNNING </td><td>192.168.68.106:32472</td><td style=\"text-align: right;\">         2478.77</td><td style=\"text-align: right;\">    96</td></tr>\n",
       "</tbody>\n",
       "</table><br><br>"
      ],
      "text/plain": [
       "<IPython.core.display.HTML object>"
      ]
     },
     "metadata": {},
     "output_type": "display_data"
    },
    {
     "name": "stderr",
     "output_type": "stream",
     "text": [
      "2021-02-19 17:47:59,609\tINFO resource_spec.py:212 -- Starting Ray with 9.28 GiB memory available for workers and up to 4.65 GiB for objects. You can adjust these settings with ray.init(memory=<bytes>, object_store_memory=<bytes>).\n"
     ]
    },
    {
     "name": "stdout",
     "output_type": "stream",
     "text": [
      "Result for train_AE_ba455998:\n",
      "  date: 2021-02-19_17-47-59\n",
      "  done: false\n",
      "  experiment_id: 69b3fbd9f9144deca47ded7ddb48fff7\n",
      "  experiment_tag: '0'\n",
      "  hostname: natashas-MacBook-Pro.local\n",
      "  iterations_since_restore: 97\n",
      "  node_ip: 192.168.68.106\n",
      "  pid: 32472\n",
      "  test_f1: 0.9766798488626459\n",
      "  test_loss: tensor(300799.2188)\n",
      "  time_since_restore: 2485.7733709812164\n",
      "  time_this_iter_s: 7.007669925689697\n",
      "  time_total_s: 2485.7733709812164\n",
      "  timestamp: 1613774879\n",
      "  timesteps_since_restore: 0\n",
      "  train_f1: 0.9793642470252876\n",
      "  train_loss: 36222.9375\n",
      "  training_iteration: 97\n",
      "  trial_id: ba455998\n",
      "  \n"
     ]
    },
    {
     "name": "stderr",
     "output_type": "stream",
     "text": [
      "2021-02-19 17:48:27,878\tWARNING util.py:132 -- The `process_trial` operation took 28.26834988594055 seconds to complete, which may be a performance bottleneck.\n"
     ]
    },
    {
     "data": {
      "text/html": [
       "== Status ==<br>Memory usage on this node: 18.2/32.0 GiB<br>Using FIFO scheduling algorithm.<br>Resources requested: 10/12 CPUs, 0/0 GPUs, 0.0/9.28 GiB heap, 0.0/3.17 GiB objects<br>Result logdir: /Users/natasha/Desktop/TUNE_RESULT_DIR/17_02_2021_40mods<br>Number of trials: 1 (1 RUNNING)<br><table>\n",
       "<thead>\n",
       "<tr><th>Trial name       </th><th>status  </th><th>loc                 </th><th style=\"text-align: right;\">  total time (s)</th><th style=\"text-align: right;\">  iter</th></tr>\n",
       "</thead>\n",
       "<tbody>\n",
       "<tr><td>train_AE_ba455998</td><td>RUNNING </td><td>192.168.68.106:32472</td><td style=\"text-align: right;\">         2485.77</td><td style=\"text-align: right;\">    97</td></tr>\n",
       "</tbody>\n",
       "</table><br><br>"
      ],
      "text/plain": [
       "<IPython.core.display.HTML object>"
      ]
     },
     "metadata": {},
     "output_type": "display_data"
    },
    {
     "name": "stderr",
     "output_type": "stream",
     "text": [
      "2021-02-19 17:48:27,881\tINFO resource_spec.py:212 -- Starting Ray with 9.28 GiB memory available for workers and up to 4.65 GiB for objects. You can adjust these settings with ray.init(memory=<bytes>, object_store_memory=<bytes>).\n",
      "2021-02-19 17:48:27,881\tWARNING ray_trial_executor.py:361 -- Over the last 60 seconds, the Tune event loop has been backlogged processing new results. Consider increasing your period of result reporting to improve performance.\n"
     ]
    },
    {
     "name": "stdout",
     "output_type": "stream",
     "text": [
      "Result for train_AE_ba455998:\n",
      "  date: 2021-02-19_17-48-27\n",
      "  done: false\n",
      "  experiment_id: 69b3fbd9f9144deca47ded7ddb48fff7\n",
      "  experiment_tag: '0'\n",
      "  hostname: natashas-MacBook-Pro.local\n",
      "  iterations_since_restore: 98\n",
      "  node_ip: 192.168.68.106\n",
      "  pid: 32472\n",
      "  test_f1: 0.9747428040487123\n",
      "  test_loss: tensor(316248.3750)\n",
      "  time_since_restore: 2514.0446441173553\n",
      "  time_this_iter_s: 28.271273136138916\n",
      "  time_total_s: 2514.0446441173553\n",
      "  timestamp: 1613774907\n",
      "  timesteps_since_restore: 0\n",
      "  train_f1: 0.978917999281567\n",
      "  train_loss: 35310.7578125\n",
      "  training_iteration: 98\n",
      "  trial_id: ba455998\n",
      "  \n"
     ]
    },
    {
     "name": "stderr",
     "output_type": "stream",
     "text": [
      "2021-02-19 17:48:56,235\tWARNING util.py:132 -- The `process_trial` operation took 28.353060960769653 seconds to complete, which may be a performance bottleneck.\n"
     ]
    },
    {
     "data": {
      "text/html": [
       "== Status ==<br>Memory usage on this node: 18.2/32.0 GiB<br>Using FIFO scheduling algorithm.<br>Resources requested: 10/12 CPUs, 0/0 GPUs, 0.0/9.28 GiB heap, 0.0/3.17 GiB objects<br>Result logdir: /Users/natasha/Desktop/TUNE_RESULT_DIR/17_02_2021_40mods<br>Number of trials: 1 (1 RUNNING)<br><table>\n",
       "<thead>\n",
       "<tr><th>Trial name       </th><th>status  </th><th>loc                 </th><th style=\"text-align: right;\">  total time (s)</th><th style=\"text-align: right;\">  iter</th></tr>\n",
       "</thead>\n",
       "<tbody>\n",
       "<tr><td>train_AE_ba455998</td><td>RUNNING </td><td>192.168.68.106:32472</td><td style=\"text-align: right;\">         2514.04</td><td style=\"text-align: right;\">    98</td></tr>\n",
       "</tbody>\n",
       "</table><br><br>"
      ],
      "text/plain": [
       "<IPython.core.display.HTML object>"
      ]
     },
     "metadata": {},
     "output_type": "display_data"
    },
    {
     "name": "stderr",
     "output_type": "stream",
     "text": [
      "2021-02-19 17:48:56,238\tINFO resource_spec.py:212 -- Starting Ray with 9.28 GiB memory available for workers and up to 4.64 GiB for objects. You can adjust these settings with ray.init(memory=<bytes>, object_store_memory=<bytes>).\n"
     ]
    },
    {
     "name": "stdout",
     "output_type": "stream",
     "text": [
      "Result for train_AE_ba455998:\n",
      "  date: 2021-02-19_17-48-56\n",
      "  done: false\n",
      "  experiment_id: 69b3fbd9f9144deca47ded7ddb48fff7\n",
      "  experiment_tag: '0'\n",
      "  hostname: natashas-MacBook-Pro.local\n",
      "  iterations_since_restore: 99\n",
      "  node_ip: 192.168.68.106\n",
      "  pid: 32472\n",
      "  test_f1: 0.9759045454296975\n",
      "  test_loss: tensor(304771.8750)\n",
      "  time_since_restore: 2542.401787996292\n",
      "  time_this_iter_s: 28.357143878936768\n",
      "  time_total_s: 2542.401787996292\n",
      "  timestamp: 1613774936\n",
      "  timesteps_since_restore: 0\n",
      "  train_f1: 0.9792803549173739\n",
      "  train_loss: 35256.3046875\n",
      "  training_iteration: 99\n",
      "  trial_id: ba455998\n",
      "  \n"
     ]
    },
    {
     "name": "stderr",
     "output_type": "stream",
     "text": [
      "2021-02-19 17:49:24,605\tWARNING util.py:132 -- The `process_trial` operation took 28.366419076919556 seconds to complete, which may be a performance bottleneck.\n"
     ]
    },
    {
     "data": {
      "text/html": [
       "== Status ==<br>Memory usage on this node: 18.2/32.0 GiB<br>Using FIFO scheduling algorithm.<br>Resources requested: 10/12 CPUs, 0/0 GPUs, 0.0/9.28 GiB heap, 0.0/3.17 GiB objects<br>Result logdir: /Users/natasha/Desktop/TUNE_RESULT_DIR/17_02_2021_40mods<br>Number of trials: 1 (1 RUNNING)<br><table>\n",
       "<thead>\n",
       "<tr><th>Trial name       </th><th>status  </th><th>loc                 </th><th style=\"text-align: right;\">  total time (s)</th><th style=\"text-align: right;\">  iter</th></tr>\n",
       "</thead>\n",
       "<tbody>\n",
       "<tr><td>train_AE_ba455998</td><td>RUNNING </td><td>192.168.68.106:32472</td><td style=\"text-align: right;\">          2542.4</td><td style=\"text-align: right;\">    99</td></tr>\n",
       "</tbody>\n",
       "</table><br><br>"
      ],
      "text/plain": [
       "<IPython.core.display.HTML object>"
      ]
     },
     "metadata": {},
     "output_type": "display_data"
    },
    {
     "name": "stderr",
     "output_type": "stream",
     "text": [
      "2021-02-19 17:49:24,608\tINFO resource_spec.py:212 -- Starting Ray with 9.28 GiB memory available for workers and up to 4.64 GiB for objects. You can adjust these settings with ray.init(memory=<bytes>, object_store_memory=<bytes>).\n"
     ]
    },
    {
     "name": "stdout",
     "output_type": "stream",
     "text": [
      "Result for train_AE_ba455998:\n",
      "  date: 2021-02-19_17-49-24\n",
      "  done: false\n",
      "  experiment_id: 69b3fbd9f9144deca47ded7ddb48fff7\n",
      "  experiment_tag: '0'\n",
      "  hostname: natashas-MacBook-Pro.local\n",
      "  iterations_since_restore: 100\n",
      "  node_ip: 192.168.68.106\n",
      "  pid: 32472\n",
      "  test_f1: 0.9772349680065846\n",
      "  test_loss: tensor(296859.3125)\n",
      "  time_since_restore: 2570.771826028824\n",
      "  time_this_iter_s: 28.37003803253174\n",
      "  time_total_s: 2570.771826028824\n",
      "  timestamp: 1613774964\n",
      "  timesteps_since_restore: 0\n",
      "  train_f1: 0.9770040718722283\n",
      "  train_loss: 38269.4765625\n",
      "  training_iteration: 100\n",
      "  trial_id: ba455998\n",
      "  \n"
     ]
    },
    {
     "name": "stderr",
     "output_type": "stream",
     "text": [
      "2021-02-19 17:49:54,389\tWARNING util.py:132 -- The `process_trial` operation took 29.780386924743652 seconds to complete, which may be a performance bottleneck.\n"
     ]
    },
    {
     "data": {
      "text/html": [
       "== Status ==<br>Memory usage on this node: 18.3/32.0 GiB<br>Using FIFO scheduling algorithm.<br>Resources requested: 10/12 CPUs, 0/0 GPUs, 0.0/9.28 GiB heap, 0.0/3.17 GiB objects<br>Result logdir: /Users/natasha/Desktop/TUNE_RESULT_DIR/17_02_2021_40mods<br>Number of trials: 1 (1 RUNNING)<br><table>\n",
       "<thead>\n",
       "<tr><th>Trial name       </th><th>status  </th><th>loc                 </th><th style=\"text-align: right;\">  total time (s)</th><th style=\"text-align: right;\">  iter</th></tr>\n",
       "</thead>\n",
       "<tbody>\n",
       "<tr><td>train_AE_ba455998</td><td>RUNNING </td><td>192.168.68.106:32472</td><td style=\"text-align: right;\">         2570.77</td><td style=\"text-align: right;\">   100</td></tr>\n",
       "</tbody>\n",
       "</table><br><br>"
      ],
      "text/plain": [
       "<IPython.core.display.HTML object>"
      ]
     },
     "metadata": {},
     "output_type": "display_data"
    },
    {
     "name": "stderr",
     "output_type": "stream",
     "text": [
      "2021-02-19 17:49:54,392\tINFO resource_spec.py:212 -- Starting Ray with 9.18 GiB memory available for workers and up to 4.61 GiB for objects. You can adjust these settings with ray.init(memory=<bytes>, object_store_memory=<bytes>).\n",
      "2021-02-19 17:49:54,393\tWARNING ray_trial_executor.py:361 -- Over the last 60 seconds, the Tune event loop has been backlogged processing new results. Consider increasing your period of result reporting to improve performance.\n"
     ]
    },
    {
     "name": "stdout",
     "output_type": "stream",
     "text": [
      "Result for train_AE_ba455998:\n",
      "  date: 2021-02-19_17-49-54\n",
      "  done: false\n",
      "  experiment_id: 69b3fbd9f9144deca47ded7ddb48fff7\n",
      "  experiment_tag: '0'\n",
      "  hostname: natashas-MacBook-Pro.local\n",
      "  iterations_since_restore: 101\n",
      "  node_ip: 192.168.68.106\n",
      "  pid: 32472\n",
      "  test_f1: 0.9769457752287181\n",
      "  test_loss: tensor(296493.5000)\n",
      "  time_since_restore: 2600.555998802185\n",
      "  time_this_iter_s: 29.784172773361206\n",
      "  time_total_s: 2600.555998802185\n",
      "  timestamp: 1613774994\n",
      "  timesteps_since_restore: 0\n",
      "  train_f1: 0.977970942381725\n",
      "  train_loss: 36969.36328125\n",
      "  training_iteration: 101\n",
      "  trial_id: ba455998\n",
      "  \n"
     ]
    },
    {
     "name": "stderr",
     "output_type": "stream",
     "text": [
      "2021-02-19 17:50:23,154\tWARNING util.py:132 -- The `process_trial` operation took 28.760212898254395 seconds to complete, which may be a performance bottleneck.\n"
     ]
    },
    {
     "data": {
      "text/html": [
       "== Status ==<br>Memory usage on this node: 18.2/32.0 GiB<br>Using FIFO scheduling algorithm.<br>Resources requested: 10/12 CPUs, 0/0 GPUs, 0.0/9.18 GiB heap, 0.0/3.17 GiB objects<br>Result logdir: /Users/natasha/Desktop/TUNE_RESULT_DIR/17_02_2021_40mods<br>Number of trials: 1 (1 RUNNING)<br><table>\n",
       "<thead>\n",
       "<tr><th>Trial name       </th><th>status  </th><th>loc                 </th><th style=\"text-align: right;\">  total time (s)</th><th style=\"text-align: right;\">  iter</th></tr>\n",
       "</thead>\n",
       "<tbody>\n",
       "<tr><td>train_AE_ba455998</td><td>RUNNING </td><td>192.168.68.106:32472</td><td style=\"text-align: right;\">         2600.56</td><td style=\"text-align: right;\">   101</td></tr>\n",
       "</tbody>\n",
       "</table><br><br>"
      ],
      "text/plain": [
       "<IPython.core.display.HTML object>"
      ]
     },
     "metadata": {},
     "output_type": "display_data"
    },
    {
     "name": "stderr",
     "output_type": "stream",
     "text": [
      "2021-02-19 17:50:23,157\tINFO resource_spec.py:212 -- Starting Ray with 9.28 GiB memory available for workers and up to 4.64 GiB for objects. You can adjust these settings with ray.init(memory=<bytes>, object_store_memory=<bytes>).\n"
     ]
    },
    {
     "name": "stdout",
     "output_type": "stream",
     "text": [
      "Result for train_AE_ba455998:\n",
      "  date: 2021-02-19_17-50-23\n",
      "  done: false\n",
      "  experiment_id: 69b3fbd9f9144deca47ded7ddb48fff7\n",
      "  experiment_tag: '0'\n",
      "  hostname: natashas-MacBook-Pro.local\n",
      "  iterations_since_restore: 102\n",
      "  node_ip: 192.168.68.106\n",
      "  pid: 32472\n",
      "  test_f1: 0.9782670836359657\n",
      "  test_loss: tensor(287258.2812)\n",
      "  time_since_restore: 2629.3206329345703\n",
      "  time_this_iter_s: 28.764634132385254\n",
      "  time_total_s: 2629.3206329345703\n",
      "  timestamp: 1613775023\n",
      "  timesteps_since_restore: 0\n",
      "  train_f1: 0.980325761905639\n",
      "  train_loss: 34510.73046875\n",
      "  training_iteration: 102\n",
      "  trial_id: ba455998\n",
      "  \n"
     ]
    },
    {
     "name": "stderr",
     "output_type": "stream",
     "text": [
      "2021-02-19 17:50:52,221\tWARNING util.py:132 -- The `process_trial` operation took 29.06404972076416 seconds to complete, which may be a performance bottleneck.\n"
     ]
    },
    {
     "data": {
      "text/html": [
       "== Status ==<br>Memory usage on this node: 18.2/32.0 GiB<br>Using FIFO scheduling algorithm.<br>Resources requested: 10/12 CPUs, 0/0 GPUs, 0.0/9.28 GiB heap, 0.0/3.17 GiB objects<br>Result logdir: /Users/natasha/Desktop/TUNE_RESULT_DIR/17_02_2021_40mods<br>Number of trials: 1 (1 RUNNING)<br><table>\n",
       "<thead>\n",
       "<tr><th>Trial name       </th><th>status  </th><th>loc                 </th><th style=\"text-align: right;\">  total time (s)</th><th style=\"text-align: right;\">  iter</th></tr>\n",
       "</thead>\n",
       "<tbody>\n",
       "<tr><td>train_AE_ba455998</td><td>RUNNING </td><td>192.168.68.106:32472</td><td style=\"text-align: right;\">         2629.32</td><td style=\"text-align: right;\">   102</td></tr>\n",
       "</tbody>\n",
       "</table><br><br>"
      ],
      "text/plain": [
       "<IPython.core.display.HTML object>"
      ]
     },
     "metadata": {},
     "output_type": "display_data"
    },
    {
     "name": "stderr",
     "output_type": "stream",
     "text": [
      "2021-02-19 17:50:52,225\tINFO resource_spec.py:212 -- Starting Ray with 9.28 GiB memory available for workers and up to 4.64 GiB for objects. You can adjust these settings with ray.init(memory=<bytes>, object_store_memory=<bytes>).\n"
     ]
    },
    {
     "name": "stdout",
     "output_type": "stream",
     "text": [
      "Result for train_AE_ba455998:\n",
      "  date: 2021-02-19_17-50-52\n",
      "  done: false\n",
      "  experiment_id: 69b3fbd9f9144deca47ded7ddb48fff7\n",
      "  experiment_tag: '0'\n",
      "  hostname: natashas-MacBook-Pro.local\n",
      "  iterations_since_restore: 103\n",
      "  node_ip: 192.168.68.106\n",
      "  pid: 32472\n",
      "  test_f1: 0.9773555510038517\n",
      "  test_loss: tensor(291233.7500)\n",
      "  time_since_restore: 2658.38845205307\n",
      "  time_this_iter_s: 29.067819118499756\n",
      "  time_total_s: 2658.38845205307\n",
      "  timestamp: 1613775052\n",
      "  timesteps_since_restore: 0\n",
      "  train_f1: 0.9795518037381096\n",
      "  train_loss: 35265.9921875\n",
      "  training_iteration: 103\n",
      "  trial_id: ba455998\n",
      "  \n"
     ]
    },
    {
     "name": "stderr",
     "output_type": "stream",
     "text": [
      "2021-02-19 17:51:21,845\tWARNING util.py:132 -- The `process_trial` operation took 29.61961603164673 seconds to complete, which may be a performance bottleneck.\n"
     ]
    },
    {
     "data": {
      "text/html": [
       "== Status ==<br>Memory usage on this node: 18.3/32.0 GiB<br>Using FIFO scheduling algorithm.<br>Resources requested: 10/12 CPUs, 0/0 GPUs, 0.0/9.28 GiB heap, 0.0/3.17 GiB objects<br>Result logdir: /Users/natasha/Desktop/TUNE_RESULT_DIR/17_02_2021_40mods<br>Number of trials: 1 (1 RUNNING)<br><table>\n",
       "<thead>\n",
       "<tr><th>Trial name       </th><th>status  </th><th>loc                 </th><th style=\"text-align: right;\">  total time (s)</th><th style=\"text-align: right;\">  iter</th></tr>\n",
       "</thead>\n",
       "<tbody>\n",
       "<tr><td>train_AE_ba455998</td><td>RUNNING </td><td>192.168.68.106:32472</td><td style=\"text-align: right;\">         2658.39</td><td style=\"text-align: right;\">   103</td></tr>\n",
       "</tbody>\n",
       "</table><br><br>"
      ],
      "text/plain": [
       "<IPython.core.display.HTML object>"
      ]
     },
     "metadata": {},
     "output_type": "display_data"
    },
    {
     "name": "stderr",
     "output_type": "stream",
     "text": [
      "2021-02-19 17:51:21,848\tINFO resource_spec.py:212 -- Starting Ray with 9.18 GiB memory available for workers and up to 4.6 GiB for objects. You can adjust these settings with ray.init(memory=<bytes>, object_store_memory=<bytes>).\n",
      "2021-02-19 17:51:21,849\tWARNING ray_trial_executor.py:361 -- Over the last 60 seconds, the Tune event loop has been backlogged processing new results. Consider increasing your period of result reporting to improve performance.\n"
     ]
    },
    {
     "name": "stdout",
     "output_type": "stream",
     "text": [
      "Result for train_AE_ba455998:\n",
      "  date: 2021-02-19_17-51-21\n",
      "  done: false\n",
      "  experiment_id: 69b3fbd9f9144deca47ded7ddb48fff7\n",
      "  experiment_tag: '0'\n",
      "  hostname: natashas-MacBook-Pro.local\n",
      "  iterations_since_restore: 104\n",
      "  node_ip: 192.168.68.106\n",
      "  pid: 32472\n",
      "  test_f1: 0.9779684109409617\n",
      "  test_loss: tensor(291474.8438)\n",
      "  time_since_restore: 2688.011859178543\n",
      "  time_this_iter_s: 29.623407125473022\n",
      "  time_total_s: 2688.011859178543\n",
      "  timestamp: 1613775081\n",
      "  timesteps_since_restore: 0\n",
      "  train_f1: 0.9803976043278714\n",
      "  train_loss: 33893.56640625\n",
      "  training_iteration: 104\n",
      "  trial_id: ba455998\n",
      "  \n"
     ]
    },
    {
     "name": "stderr",
     "output_type": "stream",
     "text": [
      "2021-02-19 17:51:51,860\tWARNING util.py:132 -- The `process_trial` operation took 30.010967016220093 seconds to complete, which may be a performance bottleneck.\n"
     ]
    },
    {
     "data": {
      "text/html": [
       "== Status ==<br>Memory usage on this node: 18.2/32.0 GiB<br>Using FIFO scheduling algorithm.<br>Resources requested: 10/12 CPUs, 0/0 GPUs, 0.0/9.18 GiB heap, 0.0/3.17 GiB objects<br>Result logdir: /Users/natasha/Desktop/TUNE_RESULT_DIR/17_02_2021_40mods<br>Number of trials: 1 (1 RUNNING)<br><table>\n",
       "<thead>\n",
       "<tr><th>Trial name       </th><th>status  </th><th>loc                 </th><th style=\"text-align: right;\">  total time (s)</th><th style=\"text-align: right;\">  iter</th></tr>\n",
       "</thead>\n",
       "<tbody>\n",
       "<tr><td>train_AE_ba455998</td><td>RUNNING </td><td>192.168.68.106:32472</td><td style=\"text-align: right;\">         2688.01</td><td style=\"text-align: right;\">   104</td></tr>\n",
       "</tbody>\n",
       "</table><br><br>"
      ],
      "text/plain": [
       "<IPython.core.display.HTML object>"
      ]
     },
     "metadata": {},
     "output_type": "display_data"
    },
    {
     "name": "stderr",
     "output_type": "stream",
     "text": [
      "2021-02-19 17:51:51,863\tINFO resource_spec.py:212 -- Starting Ray with 9.23 GiB memory available for workers and up to 4.64 GiB for objects. You can adjust these settings with ray.init(memory=<bytes>, object_store_memory=<bytes>).\n"
     ]
    },
    {
     "name": "stdout",
     "output_type": "stream",
     "text": [
      "Result for train_AE_ba455998:\n",
      "  date: 2021-02-19_17-51-51\n",
      "  done: false\n",
      "  experiment_id: 69b3fbd9f9144deca47ded7ddb48fff7\n",
      "  experiment_tag: '0'\n",
      "  hostname: natashas-MacBook-Pro.local\n",
      "  iterations_since_restore: 105\n",
      "  node_ip: 192.168.68.106\n",
      "  pid: 32472\n",
      "  test_f1: 0.9786206459717052\n",
      "  test_loss: tensor(280966.4062)\n",
      "  time_since_restore: 2718.02716088295\n",
      "  time_this_iter_s: 30.01530170440674\n",
      "  time_total_s: 2718.02716088295\n",
      "  timestamp: 1613775111\n",
      "  timesteps_since_restore: 0\n",
      "  train_f1: 0.980082579278676\n",
      "  train_loss: 35108.4453125\n",
      "  training_iteration: 105\n",
      "  trial_id: ba455998\n",
      "  \n"
     ]
    },
    {
     "name": "stderr",
     "output_type": "stream",
     "text": [
      "2021-02-19 17:52:21,411\tWARNING util.py:132 -- The `process_trial` operation took 29.547311067581177 seconds to complete, which may be a performance bottleneck.\n"
     ]
    },
    {
     "data": {
      "text/html": [
       "== Status ==<br>Memory usage on this node: 18.2/32.0 GiB<br>Using FIFO scheduling algorithm.<br>Resources requested: 10/12 CPUs, 0/0 GPUs, 0.0/9.23 GiB heap, 0.0/3.17 GiB objects<br>Result logdir: /Users/natasha/Desktop/TUNE_RESULT_DIR/17_02_2021_40mods<br>Number of trials: 1 (1 RUNNING)<br><table>\n",
       "<thead>\n",
       "<tr><th>Trial name       </th><th>status  </th><th>loc                 </th><th style=\"text-align: right;\">  total time (s)</th><th style=\"text-align: right;\">  iter</th></tr>\n",
       "</thead>\n",
       "<tbody>\n",
       "<tr><td>train_AE_ba455998</td><td>RUNNING </td><td>192.168.68.106:32472</td><td style=\"text-align: right;\">         2718.03</td><td style=\"text-align: right;\">   105</td></tr>\n",
       "</tbody>\n",
       "</table><br><br>"
      ],
      "text/plain": [
       "<IPython.core.display.HTML object>"
      ]
     },
     "metadata": {},
     "output_type": "display_data"
    },
    {
     "name": "stderr",
     "output_type": "stream",
     "text": [
      "2021-02-19 17:52:21,415\tINFO resource_spec.py:212 -- Starting Ray with 9.28 GiB memory available for workers and up to 4.64 GiB for objects. You can adjust these settings with ray.init(memory=<bytes>, object_store_memory=<bytes>).\n"
     ]
    },
    {
     "name": "stdout",
     "output_type": "stream",
     "text": [
      "Result for train_AE_ba455998:\n",
      "  date: 2021-02-19_17-52-21\n",
      "  done: false\n",
      "  experiment_id: 69b3fbd9f9144deca47ded7ddb48fff7\n",
      "  experiment_tag: '0'\n",
      "  hostname: natashas-MacBook-Pro.local\n",
      "  iterations_since_restore: 106\n",
      "  node_ip: 192.168.68.106\n",
      "  pid: 32472\n",
      "  test_f1: 0.9786273912330455\n",
      "  test_loss: tensor(283266.1875)\n",
      "  time_since_restore: 2747.578006029129\n",
      "  time_this_iter_s: 29.5508451461792\n",
      "  time_total_s: 2747.578006029129\n",
      "  timestamp: 1613775141\n",
      "  timesteps_since_restore: 0\n",
      "  train_f1: 0.9795414641213713\n",
      "  train_loss: 36562.97265625\n",
      "  training_iteration: 106\n",
      "  trial_id: ba455998\n",
      "  \n"
     ]
    },
    {
     "name": "stderr",
     "output_type": "stream",
     "text": [
      "2021-02-19 17:52:51,390\tWARNING util.py:132 -- The `process_trial` operation took 29.973792791366577 seconds to complete, which may be a performance bottleneck.\n"
     ]
    },
    {
     "data": {
      "text/html": [
       "== Status ==<br>Memory usage on this node: 18.2/32.0 GiB<br>Using FIFO scheduling algorithm.<br>Resources requested: 10/12 CPUs, 0/0 GPUs, 0.0/9.28 GiB heap, 0.0/3.17 GiB objects<br>Result logdir: /Users/natasha/Desktop/TUNE_RESULT_DIR/17_02_2021_40mods<br>Number of trials: 1 (1 RUNNING)<br><table>\n",
       "<thead>\n",
       "<tr><th>Trial name       </th><th>status  </th><th>loc                 </th><th style=\"text-align: right;\">  total time (s)</th><th style=\"text-align: right;\">  iter</th></tr>\n",
       "</thead>\n",
       "<tbody>\n",
       "<tr><td>train_AE_ba455998</td><td>RUNNING </td><td>192.168.68.106:32472</td><td style=\"text-align: right;\">         2747.58</td><td style=\"text-align: right;\">   106</td></tr>\n",
       "</tbody>\n",
       "</table><br><br>"
      ],
      "text/plain": [
       "<IPython.core.display.HTML object>"
      ]
     },
     "metadata": {},
     "output_type": "display_data"
    },
    {
     "name": "stderr",
     "output_type": "stream",
     "text": [
      "2021-02-19 17:52:51,393\tINFO resource_spec.py:212 -- Starting Ray with 9.23 GiB memory available for workers and up to 4.63 GiB for objects. You can adjust these settings with ray.init(memory=<bytes>, object_store_memory=<bytes>).\n",
      "2021-02-19 17:52:51,394\tWARNING ray_trial_executor.py:361 -- Over the last 60 seconds, the Tune event loop has been backlogged processing new results. Consider increasing your period of result reporting to improve performance.\n"
     ]
    },
    {
     "name": "stdout",
     "output_type": "stream",
     "text": [
      "Result for train_AE_ba455998:\n",
      "  date: 2021-02-19_17-52-51\n",
      "  done: false\n",
      "  experiment_id: 69b3fbd9f9144deca47ded7ddb48fff7\n",
      "  experiment_tag: '0'\n",
      "  hostname: natashas-MacBook-Pro.local\n",
      "  iterations_since_restore: 107\n",
      "  node_ip: 192.168.68.106\n",
      "  pid: 32472\n",
      "  test_f1: 0.978485803116012\n",
      "  test_loss: tensor(283544.5625)\n",
      "  time_since_restore: 2777.5567309856415\n",
      "  time_this_iter_s: 29.97872495651245\n",
      "  time_total_s: 2777.5567309856415\n",
      "  timestamp: 1613775171\n",
      "  timesteps_since_restore: 0\n",
      "  train_f1: 0.9813777952236269\n",
      "  train_loss: 34059.6015625\n",
      "  training_iteration: 107\n",
      "  trial_id: ba455998\n",
      "  \n"
     ]
    },
    {
     "name": "stderr",
     "output_type": "stream",
     "text": [
      "2021-02-19 17:53:21,392\tWARNING util.py:132 -- The `process_trial` operation took 29.99754309654236 seconds to complete, which may be a performance bottleneck.\n"
     ]
    },
    {
     "data": {
      "text/html": [
       "== Status ==<br>Memory usage on this node: 18.3/32.0 GiB<br>Using FIFO scheduling algorithm.<br>Resources requested: 10/12 CPUs, 0/0 GPUs, 0.0/9.23 GiB heap, 0.0/3.17 GiB objects<br>Result logdir: /Users/natasha/Desktop/TUNE_RESULT_DIR/17_02_2021_40mods<br>Number of trials: 1 (1 RUNNING)<br><table>\n",
       "<thead>\n",
       "<tr><th>Trial name       </th><th>status  </th><th>loc                 </th><th style=\"text-align: right;\">  total time (s)</th><th style=\"text-align: right;\">  iter</th></tr>\n",
       "</thead>\n",
       "<tbody>\n",
       "<tr><td>train_AE_ba455998</td><td>RUNNING </td><td>192.168.68.106:32472</td><td style=\"text-align: right;\">         2777.56</td><td style=\"text-align: right;\">   107</td></tr>\n",
       "</tbody>\n",
       "</table><br><br>"
      ],
      "text/plain": [
       "<IPython.core.display.HTML object>"
      ]
     },
     "metadata": {},
     "output_type": "display_data"
    },
    {
     "name": "stderr",
     "output_type": "stream",
     "text": [
      "2021-02-19 17:53:21,395\tINFO resource_spec.py:212 -- Starting Ray with 9.18 GiB memory available for workers and up to 4.6 GiB for objects. You can adjust these settings with ray.init(memory=<bytes>, object_store_memory=<bytes>).\n"
     ]
    },
    {
     "name": "stdout",
     "output_type": "stream",
     "text": [
      "Result for train_AE_ba455998:\n",
      "  date: 2021-02-19_17-53-21\n",
      "  done: false\n",
      "  experiment_id: 69b3fbd9f9144deca47ded7ddb48fff7\n",
      "  experiment_tag: '0'\n",
      "  hostname: natashas-MacBook-Pro.local\n",
      "  iterations_since_restore: 108\n",
      "  node_ip: 192.168.68.106\n",
      "  pid: 32472\n",
      "  test_f1: 0.9787927128623908\n",
      "  test_loss: tensor(279874.1250)\n",
      "  time_since_restore: 2807.558610200882\n",
      "  time_this_iter_s: 30.00187921524048\n",
      "  time_total_s: 2807.558610200882\n",
      "  timestamp: 1613775201\n",
      "  timesteps_since_restore: 0\n",
      "  train_f1: 0.9786342428498264\n",
      "  train_loss: 35730.9453125\n",
      "  training_iteration: 108\n",
      "  trial_id: ba455998\n",
      "  \n"
     ]
    },
    {
     "name": "stderr",
     "output_type": "stream",
     "text": [
      "2021-02-19 17:53:28,353\tWARNING util.py:132 -- The `process_trial` operation took 6.9572718143463135 seconds to complete, which may be a performance bottleneck.\n"
     ]
    },
    {
     "data": {
      "text/html": [
       "== Status ==<br>Memory usage on this node: 18.2/32.0 GiB<br>Using FIFO scheduling algorithm.<br>Resources requested: 10/12 CPUs, 0/0 GPUs, 0.0/9.18 GiB heap, 0.0/3.17 GiB objects<br>Result logdir: /Users/natasha/Desktop/TUNE_RESULT_DIR/17_02_2021_40mods<br>Number of trials: 1 (1 RUNNING)<br><table>\n",
       "<thead>\n",
       "<tr><th>Trial name       </th><th>status  </th><th>loc                 </th><th style=\"text-align: right;\">  total time (s)</th><th style=\"text-align: right;\">  iter</th></tr>\n",
       "</thead>\n",
       "<tbody>\n",
       "<tr><td>train_AE_ba455998</td><td>RUNNING </td><td>192.168.68.106:32472</td><td style=\"text-align: right;\">         2807.56</td><td style=\"text-align: right;\">   108</td></tr>\n",
       "</tbody>\n",
       "</table><br><br>"
      ],
      "text/plain": [
       "<IPython.core.display.HTML object>"
      ]
     },
     "metadata": {},
     "output_type": "display_data"
    },
    {
     "name": "stderr",
     "output_type": "stream",
     "text": [
      "2021-02-19 17:53:28,355\tINFO resource_spec.py:212 -- Starting Ray with 9.28 GiB memory available for workers and up to 4.64 GiB for objects. You can adjust these settings with ray.init(memory=<bytes>, object_store_memory=<bytes>).\n"
     ]
    },
    {
     "name": "stdout",
     "output_type": "stream",
     "text": [
      "Result for train_AE_ba455998:\n",
      "  date: 2021-02-19_17-53-28\n",
      "  done: false\n",
      "  experiment_id: 69b3fbd9f9144deca47ded7ddb48fff7\n",
      "  experiment_tag: '0'\n",
      "  hostname: natashas-MacBook-Pro.local\n",
      "  iterations_since_restore: 109\n",
      "  node_ip: 192.168.68.106\n",
      "  pid: 32472\n",
      "  test_f1: 0.9779370697495424\n",
      "  test_loss: tensor(286738.9688)\n",
      "  time_since_restore: 2814.519689798355\n",
      "  time_this_iter_s: 6.9610795974731445\n",
      "  time_total_s: 2814.519689798355\n",
      "  timestamp: 1613775208\n",
      "  timesteps_since_restore: 0\n",
      "  train_f1: 0.9783764617602326\n",
      "  train_loss: 35557.8203125\n",
      "  training_iteration: 109\n",
      "  trial_id: ba455998\n",
      "  \n"
     ]
    },
    {
     "name": "stderr",
     "output_type": "stream",
     "text": [
      "2021-02-19 17:53:57,791\tWARNING util.py:132 -- The `process_trial` operation took 29.435518980026245 seconds to complete, which may be a performance bottleneck.\n"
     ]
    },
    {
     "data": {
      "text/html": [
       "== Status ==<br>Memory usage on this node: 18.2/32.0 GiB<br>Using FIFO scheduling algorithm.<br>Resources requested: 10/12 CPUs, 0/0 GPUs, 0.0/9.28 GiB heap, 0.0/3.17 GiB objects<br>Result logdir: /Users/natasha/Desktop/TUNE_RESULT_DIR/17_02_2021_40mods<br>Number of trials: 1 (1 RUNNING)<br><table>\n",
       "<thead>\n",
       "<tr><th>Trial name       </th><th>status  </th><th>loc                 </th><th style=\"text-align: right;\">  total time (s)</th><th style=\"text-align: right;\">  iter</th></tr>\n",
       "</thead>\n",
       "<tbody>\n",
       "<tr><td>train_AE_ba455998</td><td>RUNNING </td><td>192.168.68.106:32472</td><td style=\"text-align: right;\">         2814.52</td><td style=\"text-align: right;\">   109</td></tr>\n",
       "</tbody>\n",
       "</table><br><br>"
      ],
      "text/plain": [
       "<IPython.core.display.HTML object>"
      ]
     },
     "metadata": {},
     "output_type": "display_data"
    },
    {
     "name": "stderr",
     "output_type": "stream",
     "text": [
      "2021-02-19 17:53:57,794\tINFO resource_spec.py:212 -- Starting Ray with 9.28 GiB memory available for workers and up to 4.65 GiB for objects. You can adjust these settings with ray.init(memory=<bytes>, object_store_memory=<bytes>).\n",
      "2021-02-19 17:53:57,795\tWARNING ray_trial_executor.py:361 -- Over the last 60 seconds, the Tune event loop has been backlogged processing new results. Consider increasing your period of result reporting to improve performance.\n"
     ]
    },
    {
     "name": "stdout",
     "output_type": "stream",
     "text": [
      "Result for train_AE_ba455998:\n",
      "  date: 2021-02-19_17-53-57\n",
      "  done: false\n",
      "  experiment_id: 69b3fbd9f9144deca47ded7ddb48fff7\n",
      "  experiment_tag: '0'\n",
      "  hostname: natashas-MacBook-Pro.local\n",
      "  iterations_since_restore: 110\n",
      "  node_ip: 192.168.68.106\n",
      "  pid: 32472\n",
      "  test_f1: 0.977895942503861\n",
      "  test_loss: tensor(286879.1250)\n",
      "  time_since_restore: 2843.958065032959\n",
      "  time_this_iter_s: 29.438375234603882\n",
      "  time_total_s: 2843.958065032959\n",
      "  timestamp: 1613775237\n",
      "  timesteps_since_restore: 0\n",
      "  train_f1: 0.9812978494378541\n",
      "  train_loss: 33201.23828125\n",
      "  training_iteration: 110\n",
      "  trial_id: ba455998\n",
      "  \n"
     ]
    },
    {
     "name": "stderr",
     "output_type": "stream",
     "text": [
      "2021-02-19 17:54:27,894\tWARNING util.py:132 -- The `process_trial` operation took 30.09807014465332 seconds to complete, which may be a performance bottleneck.\n"
     ]
    },
    {
     "data": {
      "text/html": [
       "== Status ==<br>Memory usage on this node: 18.3/32.0 GiB<br>Using FIFO scheduling algorithm.<br>Resources requested: 10/12 CPUs, 0/0 GPUs, 0.0/9.28 GiB heap, 0.0/3.17 GiB objects<br>Result logdir: /Users/natasha/Desktop/TUNE_RESULT_DIR/17_02_2021_40mods<br>Number of trials: 1 (1 RUNNING)<br><table>\n",
       "<thead>\n",
       "<tr><th>Trial name       </th><th>status  </th><th>loc                 </th><th style=\"text-align: right;\">  total time (s)</th><th style=\"text-align: right;\">  iter</th></tr>\n",
       "</thead>\n",
       "<tbody>\n",
       "<tr><td>train_AE_ba455998</td><td>RUNNING </td><td>192.168.68.106:32472</td><td style=\"text-align: right;\">         2843.96</td><td style=\"text-align: right;\">   110</td></tr>\n",
       "</tbody>\n",
       "</table><br><br>"
      ],
      "text/plain": [
       "<IPython.core.display.HTML object>"
      ]
     },
     "metadata": {},
     "output_type": "display_data"
    },
    {
     "name": "stderr",
     "output_type": "stream",
     "text": [
      "2021-02-19 17:54:27,897\tINFO resource_spec.py:212 -- Starting Ray with 9.18 GiB memory available for workers and up to 4.61 GiB for objects. You can adjust these settings with ray.init(memory=<bytes>, object_store_memory=<bytes>).\n"
     ]
    },
    {
     "name": "stdout",
     "output_type": "stream",
     "text": [
      "Result for train_AE_ba455998:\n",
      "  date: 2021-02-19_17-54-27\n",
      "  done: false\n",
      "  experiment_id: 69b3fbd9f9144deca47ded7ddb48fff7\n",
      "  experiment_tag: '0'\n",
      "  hostname: natashas-MacBook-Pro.local\n",
      "  iterations_since_restore: 111\n",
      "  node_ip: 192.168.68.106\n",
      "  pid: 32472\n",
      "  test_f1: 0.9781356878779799\n",
      "  test_loss: tensor(283756.3750)\n",
      "  time_since_restore: 2874.0605080127716\n",
      "  time_this_iter_s: 30.102442979812622\n",
      "  time_total_s: 2874.0605080127716\n",
      "  timestamp: 1613775267\n",
      "  timesteps_since_restore: 0\n",
      "  train_f1: 0.9793472975310858\n",
      "  train_loss: 35834.9765625\n",
      "  training_iteration: 111\n",
      "  trial_id: ba455998\n",
      "  \n"
     ]
    },
    {
     "name": "stderr",
     "output_type": "stream",
     "text": [
      "2021-02-19 17:54:57,614\tWARNING util.py:132 -- The `process_trial` operation took 29.71698522567749 seconds to complete, which may be a performance bottleneck.\n"
     ]
    },
    {
     "data": {
      "text/html": [
       "== Status ==<br>Memory usage on this node: 18.3/32.0 GiB<br>Using FIFO scheduling algorithm.<br>Resources requested: 10/12 CPUs, 0/0 GPUs, 0.0/9.18 GiB heap, 0.0/3.17 GiB objects<br>Result logdir: /Users/natasha/Desktop/TUNE_RESULT_DIR/17_02_2021_40mods<br>Number of trials: 1 (1 RUNNING)<br><table>\n",
       "<thead>\n",
       "<tr><th>Trial name       </th><th>status  </th><th>loc                 </th><th style=\"text-align: right;\">  total time (s)</th><th style=\"text-align: right;\">  iter</th></tr>\n",
       "</thead>\n",
       "<tbody>\n",
       "<tr><td>train_AE_ba455998</td><td>RUNNING </td><td>192.168.68.106:32472</td><td style=\"text-align: right;\">         2874.06</td><td style=\"text-align: right;\">   111</td></tr>\n",
       "</tbody>\n",
       "</table><br><br>"
      ],
      "text/plain": [
       "<IPython.core.display.HTML object>"
      ]
     },
     "metadata": {},
     "output_type": "display_data"
    },
    {
     "name": "stderr",
     "output_type": "stream",
     "text": [
      "2021-02-19 17:54:57,618\tINFO resource_spec.py:212 -- Starting Ray with 9.18 GiB memory available for workers and up to 4.61 GiB for objects. You can adjust these settings with ray.init(memory=<bytes>, object_store_memory=<bytes>).\n"
     ]
    },
    {
     "name": "stdout",
     "output_type": "stream",
     "text": [
      "Result for train_AE_ba455998:\n",
      "  date: 2021-02-19_17-54-57\n",
      "  done: false\n",
      "  experiment_id: 69b3fbd9f9144deca47ded7ddb48fff7\n",
      "  experiment_tag: '0'\n",
      "  hostname: natashas-MacBook-Pro.local\n",
      "  iterations_since_restore: 112\n",
      "  node_ip: 192.168.68.106\n",
      "  pid: 32472\n",
      "  test_f1: 0.9792124382531143\n",
      "  test_loss: tensor(275182.0938)\n",
      "  time_since_restore: 2903.7813081741333\n",
      "  time_this_iter_s: 29.720800161361694\n",
      "  time_total_s: 2903.7813081741333\n",
      "  timestamp: 1613775297\n",
      "  timesteps_since_restore: 0\n",
      "  train_f1: 0.9811119688162989\n",
      "  train_loss: 33319.375\n",
      "  training_iteration: 112\n",
      "  trial_id: ba455998\n",
      "  \n"
     ]
    },
    {
     "name": "stderr",
     "output_type": "stream",
     "text": [
      "2021-02-19 17:55:26,797\tWARNING util.py:132 -- The `process_trial` operation took 29.17911195755005 seconds to complete, which may be a performance bottleneck.\n"
     ]
    },
    {
     "data": {
      "text/html": [
       "== Status ==<br>Memory usage on this node: 18.3/32.0 GiB<br>Using FIFO scheduling algorithm.<br>Resources requested: 10/12 CPUs, 0/0 GPUs, 0.0/9.18 GiB heap, 0.0/3.17 GiB objects<br>Result logdir: /Users/natasha/Desktop/TUNE_RESULT_DIR/17_02_2021_40mods<br>Number of trials: 1 (1 RUNNING)<br><table>\n",
       "<thead>\n",
       "<tr><th>Trial name       </th><th>status  </th><th>loc                 </th><th style=\"text-align: right;\">  total time (s)</th><th style=\"text-align: right;\">  iter</th></tr>\n",
       "</thead>\n",
       "<tbody>\n",
       "<tr><td>train_AE_ba455998</td><td>RUNNING </td><td>192.168.68.106:32472</td><td style=\"text-align: right;\">         2903.78</td><td style=\"text-align: right;\">   112</td></tr>\n",
       "</tbody>\n",
       "</table><br><br>"
      ],
      "text/plain": [
       "<IPython.core.display.HTML object>"
      ]
     },
     "metadata": {},
     "output_type": "display_data"
    },
    {
     "name": "stderr",
     "output_type": "stream",
     "text": [
      "2021-02-19 17:55:26,801\tINFO resource_spec.py:212 -- Starting Ray with 9.23 GiB memory available for workers and up to 4.62 GiB for objects. You can adjust these settings with ray.init(memory=<bytes>, object_store_memory=<bytes>).\n",
      "2021-02-19 17:55:26,802\tWARNING ray_trial_executor.py:361 -- Over the last 60 seconds, the Tune event loop has been backlogged processing new results. Consider increasing your period of result reporting to improve performance.\n"
     ]
    },
    {
     "name": "stdout",
     "output_type": "stream",
     "text": [
      "Result for train_AE_ba455998:\n",
      "  date: 2021-02-19_17-55-26\n",
      "  done: false\n",
      "  experiment_id: 69b3fbd9f9144deca47ded7ddb48fff7\n",
      "  experiment_tag: '0'\n",
      "  hostname: natashas-MacBook-Pro.local\n",
      "  iterations_since_restore: 113\n",
      "  node_ip: 192.168.68.106\n",
      "  pid: 32472\n",
      "  test_f1: 0.9789321137223603\n",
      "  test_loss: tensor(278806.)\n",
      "  time_since_restore: 2932.964292049408\n",
      "  time_this_iter_s: 29.182983875274658\n",
      "  time_total_s: 2932.964292049408\n",
      "  timestamp: 1613775326\n",
      "  timesteps_since_restore: 0\n",
      "  train_f1: 0.9802225689420974\n",
      "  train_loss: 34822.46484375\n",
      "  training_iteration: 113\n",
      "  trial_id: ba455998\n",
      "  \n"
     ]
    },
    {
     "name": "stderr",
     "output_type": "stream",
     "text": [
      "2021-02-19 17:55:56,452\tWARNING util.py:132 -- The `process_trial` operation took 29.649558067321777 seconds to complete, which may be a performance bottleneck.\n"
     ]
    },
    {
     "data": {
      "text/html": [
       "== Status ==<br>Memory usage on this node: 18.1/32.0 GiB<br>Using FIFO scheduling algorithm.<br>Resources requested: 10/12 CPUs, 0/0 GPUs, 0.0/9.23 GiB heap, 0.0/3.17 GiB objects<br>Result logdir: /Users/natasha/Desktop/TUNE_RESULT_DIR/17_02_2021_40mods<br>Number of trials: 1 (1 RUNNING)<br><table>\n",
       "<thead>\n",
       "<tr><th>Trial name       </th><th>status  </th><th>loc                 </th><th style=\"text-align: right;\">  total time (s)</th><th style=\"text-align: right;\">  iter</th></tr>\n",
       "</thead>\n",
       "<tbody>\n",
       "<tr><td>train_AE_ba455998</td><td>RUNNING </td><td>192.168.68.106:32472</td><td style=\"text-align: right;\">         2932.96</td><td style=\"text-align: right;\">   113</td></tr>\n",
       "</tbody>\n",
       "</table><br><br>"
      ],
      "text/plain": [
       "<IPython.core.display.HTML object>"
      ]
     },
     "metadata": {},
     "output_type": "display_data"
    },
    {
     "name": "stderr",
     "output_type": "stream",
     "text": [
      "2021-02-19 17:55:56,455\tINFO resource_spec.py:212 -- Starting Ray with 9.33 GiB memory available for workers and up to 4.67 GiB for objects. You can adjust these settings with ray.init(memory=<bytes>, object_store_memory=<bytes>).\n"
     ]
    },
    {
     "name": "stdout",
     "output_type": "stream",
     "text": [
      "Result for train_AE_ba455998:\n",
      "  date: 2021-02-19_17-55-56\n",
      "  done: false\n",
      "  experiment_id: 69b3fbd9f9144deca47ded7ddb48fff7\n",
      "  experiment_tag: '0'\n",
      "  hostname: natashas-MacBook-Pro.local\n",
      "  iterations_since_restore: 114\n",
      "  node_ip: 192.168.68.106\n",
      "  pid: 32472\n",
      "  test_f1: 0.9792168392399601\n",
      "  test_loss: tensor(279142.6250)\n",
      "  time_since_restore: 2962.618931055069\n",
      "  time_this_iter_s: 29.65463900566101\n",
      "  time_total_s: 2962.618931055069\n",
      "  timestamp: 1613775356\n",
      "  timesteps_since_restore: 0\n",
      "  train_f1: 0.9820910858806082\n",
      "  train_loss: 32465.552734375\n",
      "  training_iteration: 114\n",
      "  trial_id: ba455998\n",
      "  \n"
     ]
    },
    {
     "name": "stderr",
     "output_type": "stream",
     "text": [
      "2021-02-19 17:56:25,887\tWARNING util.py:132 -- The `process_trial` operation took 29.431190967559814 seconds to complete, which may be a performance bottleneck.\n"
     ]
    },
    {
     "data": {
      "text/html": [
       "== Status ==<br>Memory usage on this node: 18.1/32.0 GiB<br>Using FIFO scheduling algorithm.<br>Resources requested: 10/12 CPUs, 0/0 GPUs, 0.0/9.33 GiB heap, 0.0/3.22 GiB objects<br>Result logdir: /Users/natasha/Desktop/TUNE_RESULT_DIR/17_02_2021_40mods<br>Number of trials: 1 (1 RUNNING)<br><table>\n",
       "<thead>\n",
       "<tr><th>Trial name       </th><th>status  </th><th>loc                 </th><th style=\"text-align: right;\">  total time (s)</th><th style=\"text-align: right;\">  iter</th></tr>\n",
       "</thead>\n",
       "<tbody>\n",
       "<tr><td>train_AE_ba455998</td><td>RUNNING </td><td>192.168.68.106:32472</td><td style=\"text-align: right;\">         2962.62</td><td style=\"text-align: right;\">   114</td></tr>\n",
       "</tbody>\n",
       "</table><br><br>"
      ],
      "text/plain": [
       "<IPython.core.display.HTML object>"
      ]
     },
     "metadata": {},
     "output_type": "display_data"
    },
    {
     "name": "stderr",
     "output_type": "stream",
     "text": [
      "2021-02-19 17:56:25,890\tINFO resource_spec.py:212 -- Starting Ray with 9.33 GiB memory available for workers and up to 4.67 GiB for objects. You can adjust these settings with ray.init(memory=<bytes>, object_store_memory=<bytes>).\n"
     ]
    },
    {
     "name": "stdout",
     "output_type": "stream",
     "text": [
      "Result for train_AE_ba455998:\n",
      "  date: 2021-02-19_17-56-25\n",
      "  done: false\n",
      "  experiment_id: 69b3fbd9f9144deca47ded7ddb48fff7\n",
      "  experiment_tag: '0'\n",
      "  hostname: natashas-MacBook-Pro.local\n",
      "  iterations_since_restore: 115\n",
      "  node_ip: 192.168.68.106\n",
      "  pid: 32472\n",
      "  test_f1: 0.9799491953134266\n",
      "  test_loss: tensor(274789.5000)\n",
      "  time_since_restore: 2992.053824901581\n",
      "  time_this_iter_s: 29.43489384651184\n",
      "  time_total_s: 2992.053824901581\n",
      "  timestamp: 1613775385\n",
      "  timesteps_since_restore: 0\n",
      "  train_f1: 0.9790595378294368\n",
      "  train_loss: 35172.7734375\n",
      "  training_iteration: 115\n",
      "  trial_id: ba455998\n",
      "  \n"
     ]
    },
    {
     "name": "stderr",
     "output_type": "stream",
     "text": [
      "2021-02-19 17:56:56,056\tWARNING util.py:132 -- The `process_trial` operation took 30.165223836898804 seconds to complete, which may be a performance bottleneck.\n"
     ]
    },
    {
     "data": {
      "text/html": [
       "== Status ==<br>Memory usage on this node: 18.2/32.0 GiB<br>Using FIFO scheduling algorithm.<br>Resources requested: 10/12 CPUs, 0/0 GPUs, 0.0/9.33 GiB heap, 0.0/3.17 GiB objects<br>Result logdir: /Users/natasha/Desktop/TUNE_RESULT_DIR/17_02_2021_40mods<br>Number of trials: 1 (1 RUNNING)<br><table>\n",
       "<thead>\n",
       "<tr><th>Trial name       </th><th>status  </th><th>loc                 </th><th style=\"text-align: right;\">  total time (s)</th><th style=\"text-align: right;\">  iter</th></tr>\n",
       "</thead>\n",
       "<tbody>\n",
       "<tr><td>train_AE_ba455998</td><td>RUNNING </td><td>192.168.68.106:32472</td><td style=\"text-align: right;\">         2992.05</td><td style=\"text-align: right;\">   115</td></tr>\n",
       "</tbody>\n",
       "</table><br><br>"
      ],
      "text/plain": [
       "<IPython.core.display.HTML object>"
      ]
     },
     "metadata": {},
     "output_type": "display_data"
    },
    {
     "name": "stderr",
     "output_type": "stream",
     "text": [
      "2021-02-19 17:56:56,061\tINFO resource_spec.py:212 -- Starting Ray with 9.18 GiB memory available for workers and up to 4.61 GiB for objects. You can adjust these settings with ray.init(memory=<bytes>, object_store_memory=<bytes>).\n",
      "2021-02-19 17:56:56,061\tWARNING ray_trial_executor.py:361 -- Over the last 60 seconds, the Tune event loop has been backlogged processing new results. Consider increasing your period of result reporting to improve performance.\n"
     ]
    },
    {
     "name": "stdout",
     "output_type": "stream",
     "text": [
      "Result for train_AE_ba455998:\n",
      "  date: 2021-02-19_17-56-56\n",
      "  done: false\n",
      "  experiment_id: 69b3fbd9f9144deca47ded7ddb48fff7\n",
      "  experiment_tag: '0'\n",
      "  hostname: natashas-MacBook-Pro.local\n",
      "  iterations_since_restore: 116\n",
      "  node_ip: 192.168.68.106\n",
      "  pid: 32472\n",
      "  test_f1: 0.9796193210453685\n",
      "  test_loss: tensor(274020.2500)\n",
      "  time_since_restore: 3022.222778081894\n",
      "  time_this_iter_s: 30.16895318031311\n",
      "  time_total_s: 3022.222778081894\n",
      "  timestamp: 1613775416\n",
      "  timesteps_since_restore: 0\n",
      "  train_f1: 0.9784281596694002\n",
      "  train_loss: 36585.86328125\n",
      "  training_iteration: 116\n",
      "  trial_id: ba455998\n",
      "  \n"
     ]
    },
    {
     "name": "stderr",
     "output_type": "stream",
     "text": [
      "2021-02-19 17:57:25,904\tWARNING util.py:132 -- The `process_trial` operation took 29.84217095375061 seconds to complete, which may be a performance bottleneck.\n"
     ]
    },
    {
     "data": {
      "text/html": [
       "== Status ==<br>Memory usage on this node: 18.2/32.0 GiB<br>Using FIFO scheduling algorithm.<br>Resources requested: 10/12 CPUs, 0/0 GPUs, 0.0/9.18 GiB heap, 0.0/3.17 GiB objects<br>Result logdir: /Users/natasha/Desktop/TUNE_RESULT_DIR/17_02_2021_40mods<br>Number of trials: 1 (1 RUNNING)<br><table>\n",
       "<thead>\n",
       "<tr><th>Trial name       </th><th>status  </th><th>loc                 </th><th style=\"text-align: right;\">  total time (s)</th><th style=\"text-align: right;\">  iter</th></tr>\n",
       "</thead>\n",
       "<tbody>\n",
       "<tr><td>train_AE_ba455998</td><td>RUNNING </td><td>192.168.68.106:32472</td><td style=\"text-align: right;\">         3022.22</td><td style=\"text-align: right;\">   116</td></tr>\n",
       "</tbody>\n",
       "</table><br><br>"
      ],
      "text/plain": [
       "<IPython.core.display.HTML object>"
      ]
     },
     "metadata": {},
     "output_type": "display_data"
    },
    {
     "name": "stderr",
     "output_type": "stream",
     "text": [
      "2021-02-19 17:57:25,909\tINFO resource_spec.py:212 -- Starting Ray with 9.18 GiB memory available for workers and up to 4.61 GiB for objects. You can adjust these settings with ray.init(memory=<bytes>, object_store_memory=<bytes>).\n"
     ]
    },
    {
     "name": "stdout",
     "output_type": "stream",
     "text": [
      "Result for train_AE_ba455998:\n",
      "  date: 2021-02-19_17-57-25\n",
      "  done: false\n",
      "  experiment_id: 69b3fbd9f9144deca47ded7ddb48fff7\n",
      "  experiment_tag: '0'\n",
      "  hostname: natashas-MacBook-Pro.local\n",
      "  iterations_since_restore: 117\n",
      "  node_ip: 192.168.68.106\n",
      "  pid: 32472\n",
      "  test_f1: 0.978895463744201\n",
      "  test_loss: tensor(278391.7188)\n",
      "  time_since_restore: 3052.0713019371033\n",
      "  time_this_iter_s: 29.84852385520935\n",
      "  time_total_s: 3052.0713019371033\n",
      "  timestamp: 1613775445\n",
      "  timesteps_since_restore: 0\n",
      "  train_f1: 0.9800268392756998\n",
      "  train_loss: 34223.34375\n",
      "  training_iteration: 117\n",
      "  trial_id: ba455998\n",
      "  \n"
     ]
    },
    {
     "name": "stderr",
     "output_type": "stream",
     "text": [
      "2021-02-19 17:57:56,599\tWARNING util.py:132 -- The `process_trial` operation took 30.68943428993225 seconds to complete, which may be a performance bottleneck.\n"
     ]
    },
    {
     "data": {
      "text/html": [
       "== Status ==<br>Memory usage on this node: 18.2/32.0 GiB<br>Using FIFO scheduling algorithm.<br>Resources requested: 10/12 CPUs, 0/0 GPUs, 0.0/9.18 GiB heap, 0.0/3.17 GiB objects<br>Result logdir: /Users/natasha/Desktop/TUNE_RESULT_DIR/17_02_2021_40mods<br>Number of trials: 1 (1 RUNNING)<br><table>\n",
       "<thead>\n",
       "<tr><th>Trial name       </th><th>status  </th><th>loc                 </th><th style=\"text-align: right;\">  total time (s)</th><th style=\"text-align: right;\">  iter</th></tr>\n",
       "</thead>\n",
       "<tbody>\n",
       "<tr><td>train_AE_ba455998</td><td>RUNNING </td><td>192.168.68.106:32472</td><td style=\"text-align: right;\">         3052.07</td><td style=\"text-align: right;\">   117</td></tr>\n",
       "</tbody>\n",
       "</table><br><br>"
      ],
      "text/plain": [
       "<IPython.core.display.HTML object>"
      ]
     },
     "metadata": {},
     "output_type": "display_data"
    },
    {
     "name": "stderr",
     "output_type": "stream",
     "text": [
      "2021-02-19 17:57:56,602\tINFO resource_spec.py:212 -- Starting Ray with 9.18 GiB memory available for workers and up to 4.61 GiB for objects. You can adjust these settings with ray.init(memory=<bytes>, object_store_memory=<bytes>).\n",
      "2021-02-19 17:57:56,603\tWARNING ray_trial_executor.py:361 -- Over the last 60 seconds, the Tune event loop has been backlogged processing new results. Consider increasing your period of result reporting to improve performance.\n"
     ]
    },
    {
     "name": "stdout",
     "output_type": "stream",
     "text": [
      "Result for train_AE_ba455998:\n",
      "  date: 2021-02-19_17-57-56\n",
      "  done: false\n",
      "  experiment_id: 69b3fbd9f9144deca47ded7ddb48fff7\n",
      "  experiment_tag: '0'\n",
      "  hostname: natashas-MacBook-Pro.local\n",
      "  iterations_since_restore: 118\n",
      "  node_ip: 192.168.68.106\n",
      "  pid: 32472\n",
      "  test_f1: 0.9800556199716741\n",
      "  test_loss: tensor(272616.4688)\n",
      "  time_since_restore: 3082.766247034073\n",
      "  time_this_iter_s: 30.694945096969604\n",
      "  time_total_s: 3082.766247034073\n",
      "  timestamp: 1613775476\n",
      "  timesteps_since_restore: 0\n",
      "  train_f1: 0.9800615644364669\n",
      "  train_loss: 34264.703125\n",
      "  training_iteration: 118\n",
      "  trial_id: ba455998\n",
      "  \n"
     ]
    },
    {
     "name": "stderr",
     "output_type": "stream",
     "text": [
      "2021-02-19 17:58:25,548\tWARNING util.py:132 -- The `process_trial` operation took 28.944200038909912 seconds to complete, which may be a performance bottleneck.\n"
     ]
    },
    {
     "data": {
      "text/html": [
       "== Status ==<br>Memory usage on this node: 18.0/32.0 GiB<br>Using FIFO scheduling algorithm.<br>Resources requested: 10/12 CPUs, 0/0 GPUs, 0.0/9.18 GiB heap, 0.0/3.17 GiB objects<br>Result logdir: /Users/natasha/Desktop/TUNE_RESULT_DIR/17_02_2021_40mods<br>Number of trials: 1 (1 RUNNING)<br><table>\n",
       "<thead>\n",
       "<tr><th>Trial name       </th><th>status  </th><th>loc                 </th><th style=\"text-align: right;\">  total time (s)</th><th style=\"text-align: right;\">  iter</th></tr>\n",
       "</thead>\n",
       "<tbody>\n",
       "<tr><td>train_AE_ba455998</td><td>RUNNING </td><td>192.168.68.106:32472</td><td style=\"text-align: right;\">         3082.77</td><td style=\"text-align: right;\">   118</td></tr>\n",
       "</tbody>\n",
       "</table><br><br>"
      ],
      "text/plain": [
       "<IPython.core.display.HTML object>"
      ]
     },
     "metadata": {},
     "output_type": "display_data"
    },
    {
     "name": "stderr",
     "output_type": "stream",
     "text": [
      "2021-02-19 17:58:25,552\tINFO resource_spec.py:212 -- Starting Ray with 9.33 GiB memory available for workers and up to 4.67 GiB for objects. You can adjust these settings with ray.init(memory=<bytes>, object_store_memory=<bytes>).\n"
     ]
    },
    {
     "name": "stdout",
     "output_type": "stream",
     "text": [
      "Result for train_AE_ba455998:\n",
      "  date: 2021-02-19_17-58-25\n",
      "  done: false\n",
      "  experiment_id: 69b3fbd9f9144deca47ded7ddb48fff7\n",
      "  experiment_tag: '0'\n",
      "  hostname: natashas-MacBook-Pro.local\n",
      "  iterations_since_restore: 119\n",
      "  node_ip: 192.168.68.106\n",
      "  pid: 32472\n",
      "  test_f1: 0.979067754210745\n",
      "  test_loss: tensor(220735.6562)\n",
      "  time_since_restore: 3111.714798927307\n",
      "  time_this_iter_s: 28.948551893234253\n",
      "  time_total_s: 3111.714798927307\n",
      "  timestamp: 1613775505\n",
      "  timesteps_since_restore: 0\n",
      "  train_f1: 0.979935652624038\n",
      "  train_loss: 34672.5390625\n",
      "  training_iteration: 119\n",
      "  trial_id: ba455998\n",
      "  \n"
     ]
    },
    {
     "name": "stderr",
     "output_type": "stream",
     "text": [
      "2021-02-19 17:58:55,301\tWARNING util.py:132 -- The `process_trial` operation took 29.74756669998169 seconds to complete, which may be a performance bottleneck.\n"
     ]
    },
    {
     "data": {
      "text/html": [
       "== Status ==<br>Memory usage on this node: 18.1/32.0 GiB<br>Using FIFO scheduling algorithm.<br>Resources requested: 10/12 CPUs, 0/0 GPUs, 0.0/9.33 GiB heap, 0.0/3.22 GiB objects<br>Result logdir: /Users/natasha/Desktop/TUNE_RESULT_DIR/17_02_2021_40mods<br>Number of trials: 1 (1 RUNNING)<br><table>\n",
       "<thead>\n",
       "<tr><th>Trial name       </th><th>status  </th><th>loc                 </th><th style=\"text-align: right;\">  total time (s)</th><th style=\"text-align: right;\">  iter</th></tr>\n",
       "</thead>\n",
       "<tbody>\n",
       "<tr><td>train_AE_ba455998</td><td>RUNNING </td><td>192.168.68.106:32472</td><td style=\"text-align: right;\">         3111.71</td><td style=\"text-align: right;\">   119</td></tr>\n",
       "</tbody>\n",
       "</table><br><br>"
      ],
      "text/plain": [
       "<IPython.core.display.HTML object>"
      ]
     },
     "metadata": {},
     "output_type": "display_data"
    },
    {
     "name": "stderr",
     "output_type": "stream",
     "text": [
      "2021-02-19 17:58:55,304\tINFO resource_spec.py:212 -- Starting Ray with 9.23 GiB memory available for workers and up to 4.64 GiB for objects. You can adjust these settings with ray.init(memory=<bytes>, object_store_memory=<bytes>).\n"
     ]
    },
    {
     "name": "stdout",
     "output_type": "stream",
     "text": [
      "Result for train_AE_ba455998:\n",
      "  date: 2021-02-19_17-58-55\n",
      "  done: false\n",
      "  experiment_id: 69b3fbd9f9144deca47ded7ddb48fff7\n",
      "  experiment_tag: '0'\n",
      "  hostname: natashas-MacBook-Pro.local\n",
      "  iterations_since_restore: 120\n",
      "  node_ip: 192.168.68.106\n",
      "  pid: 32472\n",
      "  test_f1: 0.9810875743168316\n",
      "  test_loss: tensor(260888.8125)\n",
      "  time_since_restore: 3141.4677789211273\n",
      "  time_this_iter_s: 29.75297999382019\n",
      "  time_total_s: 3141.4677789211273\n",
      "  timestamp: 1613775535\n",
      "  timesteps_since_restore: 0\n",
      "  train_f1: 0.9820663318475144\n",
      "  train_loss: 32768.3203125\n",
      "  training_iteration: 120\n",
      "  trial_id: ba455998\n",
      "  \n"
     ]
    },
    {
     "name": "stderr",
     "output_type": "stream",
     "text": [
      "2021-02-19 17:58:58,601\tWARNING util.py:132 -- The `process_trial` operation took 3.2964859008789062 seconds to complete, which may be a performance bottleneck.\n",
      "2021-02-19 17:58:58,602\tINFO resource_spec.py:212 -- Starting Ray with 16.02 GiB memory available for workers and up to 8.01 GiB for objects. You can adjust these settings with ray.init(memory=<bytes>, object_store_memory=<bytes>).\n",
      "2021-02-19 17:58:58,603\tWARNING ray_trial_executor.py:361 -- Over the last 60 seconds, the Tune event loop has been backlogged processing new results. Consider increasing your period of result reporting to improve performance.\n",
      "/usr/local/lib/python3.7/site-packages/torch/storage.py:34: FutureWarning: pickle support for Storage will be removed in 1.5. Use `torch.save` instead\n",
      "  warnings.warn(\"pickle support for Storage will be removed in 1.5. Use `torch.save` instead\", FutureWarning)\n"
     ]
    },
    {
     "data": {
      "text/html": [
       "== Status ==<br>Memory usage on this node: 6.9/32.0 GiB<br>Using FIFO scheduling algorithm.<br>Resources requested: 0/12 CPUs, 0/0 GPUs, 0.0/16.02 GiB heap, 0.0/5.52 GiB objects<br>Result logdir: /Users/natasha/Desktop/TUNE_RESULT_DIR/17_02_2021_40mods<br>Number of trials: 1 (1 TERMINATED)<br><table>\n",
       "<thead>\n",
       "<tr><th>Trial name       </th><th>status    </th><th>loc  </th><th style=\"text-align: right;\">  total time (s)</th><th style=\"text-align: right;\">  iter</th></tr>\n",
       "</thead>\n",
       "<tbody>\n",
       "<tr><td>train_AE_ba455998</td><td>TERMINATED</td><td>     </td><td style=\"text-align: right;\">         3141.47</td><td style=\"text-align: right;\">   120</td></tr>\n",
       "</tbody>\n",
       "</table><br><br>"
      ],
      "text/plain": [
       "<IPython.core.display.HTML object>"
      ]
     },
     "metadata": {},
     "output_type": "display_data"
    },
    {
     "name": "stderr",
     "output_type": "stream",
     "text": [
      "2021-02-19 17:58:58,617\tINFO tune.py:352 -- Returning an analysis object by default. You can call `analysis.trials` to retrieve a list of trials. This message will be removed in future versions of Tune.\n"
     ]
    }
   ],
   "source": [
    "analysis = tune.run(\n",
    "    trainable.train_AE, \n",
    "    name=\"17_02_2021_40mods\",\n",
    "    config=config_corruption,\n",
    "    verbose=2, \n",
    "    resources_per_trial={\n",
    "            \"cpu\": 10,\n",
    "            \"gpu\": 0\n",
    "    },\n",
    "    #num_samples=20,\n",
    "    num_samples=1,\n",
    "    queue_trials=True,\n",
    "    local_dir=\"/Users/natasha/Desktop/TUNE_RESULT_DIR\",\n",
    "    #local_dir=\"/home/ndudek/projects/def-dprecup/ndudek/hp_tuning_01-10-2020/TUNE_RESULT_DIR\"\n",
    "    )"
   ]
  },
  {
   "cell_type": "code",
   "execution_count": null,
   "metadata": {},
   "outputs": [],
   "source": [
    "# print(\"Best config is:\", analysis.get_best_config(metric=\"test_f1\"))"
   ]
  },
  {
   "cell_type": "code",
   "execution_count": null,
   "metadata": {},
   "outputs": [],
   "source": [
    "# analysis.get_best_config(metric=\"test_f1\")"
   ]
  },
  {
   "cell_type": "markdown",
   "metadata": {},
   "source": [
    "# Single model: Define and train network"
   ]
  },
  {
   "cell_type": "code",
   "execution_count": null,
   "metadata": {},
   "outputs": [],
   "source": [
    "# nn_layers = 3\n",
    "# weight_decay = 0.1\n",
    "# lr = 0.001\n",
    "# batch_size = 128\n",
    "# kfolds = 10\n",
    "# num_epochs = 10\n",
    "# replacement_threshold = 0.5\n",
    "\n",
    "# kld0, bce0, train_losses, test_losses, train_f1s, test_f1s, model = trainable.train_single_vae(nn_layers, weight_decay, lr, batch_size, kfolds, num_epochs, replacement_threshold, corrupted_train, corrupted_test)\n"
   ]
  },
  {
   "cell_type": "code",
   "execution_count": null,
   "metadata": {},
   "outputs": [],
   "source": [
    "# version = \"0mod\"\n",
    "# torch.save(model.state_dict(), BASE_DIR+\"_\"+version+\"_model.pt\")\n",
    "\n",
    "# torch.save(train_losses, BASE_DIR+\"_\"+version+\"_train_losses.pt\")\n",
    "# torch.save(test_losses, BASE_DIR+\"_\"+version+\"_test_losses.pt\")\n",
    "# torch.save(bce0, BASE_DIR+\"_\"+version+\"_bce0.pt\")\n",
    "# torch.save(kld0, BASE_DIR+\"_\"+version+\"_kld0.pt\")\n",
    "# torch.save(train_f1s, BASE_DIR+\"_\"+version+\"_train_f1s.pt\")\n",
    "# torch.save(test_f1s, BASE_DIR+\"_\"+version+\"_test_f1s.pt\")"
   ]
  },
  {
   "cell_type": "code",
   "execution_count": 26,
   "metadata": {},
   "outputs": [],
   "source": [
    "load_model = True\n",
    "version = \"10mod\"\n",
    "if load_model:\n",
    "    from genome_embeddings import models\n",
    "    n_features = int(corrupted_train.shape[1]/2)\n",
    "    model = models.VariationalAutoEncoder(n_features, 3)\n",
    "    model.load_state_dict(torch.load(BASE_DIR+\"_\"+version+\"_model.pt\"))\n",
    "    train_losses = torch.load(BASE_DIR+\"_\"+version+\"_train_losses.pt\")\n",
    "    test_losses = torch.load(BASE_DIR+\"_\"+version+\"_test_losses.pt\")\n",
    "    train_f1s = torch.load(BASE_DIR+\"_\"+version+\"_train_f1s.pt\")\n",
    "    test_f1s = torch.load(BASE_DIR+\"_\"+version+\"_test_f1s.pt\")\n",
    "    bce0 = torch.load(BASE_DIR+\"_\"+version+\"_bce0.pt\")\n",
    "    kld0 = torch.load(BASE_DIR+\"_\"+version+\"_kld0.pt\")"
   ]
  },
  {
   "cell_type": "markdown",
   "metadata": {},
   "source": [
    "# Evaluate model performance"
   ]
  },
  {
   "cell_type": "markdown",
   "metadata": {},
   "source": [
    "### Generate predictions on test set"
   ]
  },
  {
   "cell_type": "code",
   "execution_count": 27,
   "metadata": {},
   "outputs": [],
   "source": [
    "# 1-10 modules per input genome: 0.74\n",
    "# 1 module per input genome: 0.64\n",
    "# 10 modules per input genome: 0.81\n",
    "n_features = int(corrupted_test.shape[1]/2)\n",
    "corrupted = corrupted_test[:,:n_features]\n",
    "uncorrupted = corrupted_test[:,n_features:]"
   ]
  },
  {
   "cell_type": "code",
   "execution_count": 28,
   "metadata": {},
   "outputs": [],
   "source": [
    "new_preds = False\n",
    "\n",
    "model.eval()\n",
    "\n",
    "if new_preds:\n",
    "    with torch.no_grad():\n",
    "        pred = model.forward(corrupted)[0].detach()\n",
    "    binary_pred = evaluate.eval_binarize(pred, 0.5)\n",
    "    torch.save(pred, BASE_DIR+\"_preds.pt\")\n",
    "    torch.save(binary_pred, BASE_DIR+\"_binary_preds.pt\")\n",
    "else:\n",
    "    pred = torch.load(BASE_DIR+\"_preds.pt\")\n",
    "    binary_pred = torch.load(BASE_DIR+\"_binary_preds.pt\")"
   ]
  },
  {
   "cell_type": "markdown",
   "metadata": {},
   "source": [
    "### Investigate test set F1 score (micro-average) and calculate TNs, FPs, FNs, TPs"
   ]
  },
  {
   "cell_type": "code",
   "execution_count": null,
   "metadata": {},
   "outputs": [],
   "source": [
    "f1 = sk.metrics.f1_score(uncorrupted, binary_pred, zero_division=0, average='micro')\n",
    "print(\"Test set F1 score\",f1)"
   ]
  },
  {
   "cell_type": "code",
   "execution_count": null,
   "metadata": {},
   "outputs": [],
   "source": [
    "f1s, fig = evaluate.test_f1s(uncorrupted, binary_pred)\n",
    "plt.savefig(BASE_DIR+\"f1_dist.pdf\", bbox_inches='tight')"
   ]
  },
  {
   "cell_type": "code",
   "execution_count": null,
   "metadata": {},
   "outputs": [],
   "source": [
    "tns, fps, fns, tps, total = evaluate.glom_confusion(uncorrupted, binary_pred)\n",
    "print(round(sum(tns)/total*100,2), round(sum(fps)/total*100,2), round(sum(fns)/total*100,2), round(sum(tps)/total*100,2))\n"
   ]
  },
  {
   "cell_type": "code",
   "execution_count": null,
   "metadata": {},
   "outputs": [],
   "source": [
    "tns[0]"
   ]
  },
  {
   "cell_type": "markdown",
   "metadata": {},
   "source": [
    "### Examine at BCE vs KLD loss"
   ]
  },
  {
   "cell_type": "code",
   "execution_count": null,
   "metadata": {},
   "outputs": [],
   "source": [
    "# Plot BCE and KLD vs experience\n",
    "data_viz.kld_vs_bce(kld0,bce0)"
   ]
  },
  {
   "cell_type": "markdown",
   "metadata": {},
   "source": [
    "### Plot learning curves"
   ]
  },
  {
   "cell_type": "code",
   "execution_count": null,
   "metadata": {},
   "outputs": [],
   "source": [
    "fig = data_viz.learning_curve(train_losses, test_losses, train_f1s, test_f1s)\n",
    "plt.savefig(BASE_DIR+\"learning_curves.pdf\", bbox_inches='tight')"
   ]
  },
  {
   "cell_type": "markdown",
   "metadata": {},
   "source": [
    "### Plot ROC curve and generate AUC score (micro-average)"
   ]
  },
  {
   "cell_type": "code",
   "execution_count": null,
   "metadata": {},
   "outputs": [],
   "source": [
    "num_features = int(corrupted_test.shape[1]/2)\n",
    "true_genomes = corrupted_test[:,num_features:]\n",
    "fig = data_viz.my_roc_curve(true_genomes.numpy(), pred.numpy())\n",
    "fig.savefig(BASE_DIR+\"roc_fig.pdf\", dpi=200, bbox_inches='tight')"
   ]
  },
  {
   "cell_type": "markdown",
   "metadata": {},
   "source": [
    "### Are the input genes present in the output?"
   ]
  },
  {
   "cell_type": "code",
   "execution_count": 21,
   "metadata": {},
   "outputs": [
    {
     "name": "stdout",
     "output_type": "stream",
     "text": [
      "There are 6675 instance of inputs being 100% present in output\n",
      "This is out of 27900 instances or 23.92% of cases\n",
      "There are 23774 instance of inputs being >=90% present in output (85.21%)\n"
     ]
    },
    {
     "data": {
      "image/png": "[encoded data removed]",
      "text/plain": [
       "<Figure size 432x288 with 1 Axes>"
      ]
     },
     "metadata": {
      "needs_background": "light"
     },
     "output_type": "display_data"
    }
   ],
   "source": [
    "# relabel y axis by % rather than count\n",
    "fig, _ = evaluate.compare_in_n_out(binary_pred, corrupted)\n",
    "fig.savefig(BASE_DIR+\"input_vs_output.pdf\", bbox_inches='tight', dpi=200)"
   ]
  },
  {
   "cell_type": "markdown",
   "metadata": {},
   "source": [
    "### What are the best and worst performing instances?"
   ]
  },
  {
   "cell_type": "code",
   "execution_count": null,
   "metadata": {},
   "outputs": [],
   "source": [
    "# babt = Brucella abortus\n",
    "idx_best = f1s.index(max(f1s))\n",
    "tla_best = c_test_genomes[idx_best]\n",
    "idx_best, tla_best, f1s[idx_best], tla_to_tnum[tla_best]"
   ]
  },
  {
   "cell_type": "code",
   "execution_count": null,
   "metadata": {},
   "outputs": [],
   "source": [
    "# nmv = Nitrospira moscoviensis\n",
    "# seny = Pectobacteriaceae sodalis (Gammaprot), endosymbiont of Henestaris halophilus\n",
    "# bmx\n",
    "idx_worst = f1s.index(min(f1s))\n",
    "tla_worst = c_test_genomes[idx_worst]\n",
    "idx_worst, tla_worst, f1s[idx_worst], tla_to_tnum[tla_worst]"
   ]
  },
  {
   "cell_type": "markdown",
   "metadata": {},
   "source": [
    "### For the best scoring instance, plot pixel diagram"
   ]
  },
  {
   "cell_type": "code",
   "execution_count": null,
   "metadata": {},
   "outputs": [],
   "source": [
    "idx = idx_best\n",
    "fig = data_viz.genome_heatmap2(corrupted_test, idx, model, f1s, tns, fps, fns, tps, binary_pred)\n",
    "fig.savefig(BASE_DIR+\"fig4.pdf\", bbox_inches='tight', dpi=200)"
   ]
  },
  {
   "cell_type": "code",
   "execution_count": null,
   "metadata": {},
   "outputs": [],
   "source": [
    "print(\"Num genes on in uncorrupted idx_best genome\", torch.sum(uncorrupted[idx_best,:]))\n",
    "print(\"Num genes off in uncorrupted idx_best genome\", n_features - torch.sum(uncorrupted[idx_best,:]))\n",
    "print(\"Num genes on in corrupted idx_best genome\", torch.sum(corrupted[idx_best,:]))"
   ]
  },
  {
   "cell_type": "code",
   "execution_count": null,
   "metadata": {},
   "outputs": [],
   "source": [
    "fig = evaluate.snowplot(f1s, c_test_genomes, tns, fps, fns, tps, uncorrupted, corrupted, idx_best)\n",
    "fig.savefig(BASE_DIR+\"barh.pdf\", bbox_inches='tight', dpi=200)"
   ]
  },
  {
   "cell_type": "markdown",
   "metadata": {},
   "source": [
    "### For the worst scoring instance, plot pixel diagram"
   ]
  },
  {
   "cell_type": "code",
   "execution_count": null,
   "metadata": {
    "scrolled": true
   },
   "outputs": [],
   "source": [
    "idx = idx_worst\n",
    "fig = data_viz.genome_heatmap2(corrupted_test, idx, model, f1s, tns, fps, fns, tps, binary_pred)\n",
    "fig.savefig(BASE_DIR+\"fig4.png\", bbox_inches='tight', dpi=200)"
   ]
  },
  {
   "cell_type": "code",
   "execution_count": null,
   "metadata": {},
   "outputs": [],
   "source": [
    "# print median TNs, FPs, FNs, TPs\n",
    "np.median(tns), np.median(fps), np.median(fns), np.median(tps)"
   ]
  },
  {
   "cell_type": "markdown",
   "metadata": {},
   "source": [
    "### How does the model perform on inputs originating from different phyla"
   ]
  },
  {
   "cell_type": "code",
   "execution_count": null,
   "metadata": {},
   "outputs": [],
   "source": [
    "# get dicts to map genome tla back to list of phylum, class, etc\n",
    "train_tax_dict, test_tax_dict = data_viz.tax_distribution(c_train_genomes, c_test_genomes, 'Desktop')"
   ]
  },
  {
   "cell_type": "code",
   "execution_count": null,
   "metadata": {},
   "outputs": [],
   "source": [
    "count_per_phy = defaultdict(int)\n",
    "for tnum in test_genomes:\n",
    "    tla = tnum_to_tla[tnum]\n",
    "    phylum = test_tax_dict[tla][1]\n",
    "    if phylum == 'Proteobacteria':\n",
    "        phylum = test_tax_dict[tla][2]\n",
    "    count_per_phy[phylum] += 1\n",
    "count_per_phy"
   ]
  },
  {
   "cell_type": "code",
   "execution_count": null,
   "metadata": {},
   "outputs": [],
   "source": [
    "train_phyla, test_phyla = evaluate.f1s_per_phylum(train_tax_dict, test_tax_dict, c_test_genomes, f1s)"
   ]
  },
  {
   "cell_type": "code",
   "execution_count": null,
   "metadata": {},
   "outputs": [],
   "source": [
    "# number of phyla in train + test sets\n",
    "len(set(list(train_phyla.keys()) + list(test_phyla.keys())))"
   ]
  },
  {
   "cell_type": "code",
   "execution_count": null,
   "metadata": {},
   "outputs": [],
   "source": [
    "# Bars represent median absolute deviation\n",
    "fig_save_for_later = evaluate.plot_f1_per_phylum(test_phyla, (5,10))\n",
    "fig_save_for_later.savefig(BASE_DIR+\"f1_per_phylum.png\", dpi=200, bbox_inches='tight')"
   ]
  },
  {
   "cell_type": "code",
   "execution_count": null,
   "metadata": {},
   "outputs": [],
   "source": [
    "# Are the results between phyla statistically significant?\n",
    "stats.kruskal(*test_phyla.values())"
   ]
  },
  {
   "cell_type": "code",
   "execution_count": null,
   "metadata": {},
   "outputs": [],
   "source": [
    "fig = evaluate.plot_count_vs_f1s(train_phyla, test_phyla)"
   ]
  },
  {
   "cell_type": "markdown",
   "metadata": {},
   "source": [
    "There appears to be an effect of number of training genomes / phylum on test set per phylum F1 score "
   ]
  },
  {
   "cell_type": "markdown",
   "metadata": {},
   "source": [
    "### How many times is each mod used in the various corrupted inputs?"
   ]
  },
  {
   "cell_type": "code",
   "execution_count": null,
   "metadata": {},
   "outputs": [],
   "source": [
    "# Number of times each mod occurs in the training set corrupted genomes\n",
    "train_out = evaluate.train_out(train_input_mods)"
   ]
  },
  {
   "cell_type": "code",
   "execution_count": null,
   "metadata": {},
   "outputs": [],
   "source": [
    "fig = evaluate.plot_train_count_hist(train_out)"
   ]
  },
  {
   "cell_type": "markdown",
   "metadata": {},
   "source": [
    "### How does genome size correlate with F1 score"
   ]
  },
  {
   "cell_type": "code",
   "execution_count": null,
   "metadata": {},
   "outputs": [],
   "source": [
    "# x-axis = # genes in input genome\n",
    "# y-axis = F1 score of reconstructed genomes"
   ]
  },
  {
   "cell_type": "code",
   "execution_count": null,
   "metadata": {},
   "outputs": [],
   "source": [
    "n_genes_uncorrupted = torch.sum(uncorrupted, 1).numpy().tolist() # get sum of each row"
   ]
  },
  {
   "cell_type": "code",
   "execution_count": null,
   "metadata": {},
   "outputs": [],
   "source": [
    "plt.scatter(n_genes_uncorrupted, f1s, marker='.', s = 1)\n",
    "plt.xlabel(\"# genes in uncorrupted genome\")\n",
    "plt.ylabel(\"F1 score\")"
   ]
  },
  {
   "cell_type": "code",
   "execution_count": null,
   "metadata": {},
   "outputs": [],
   "source": [
    "n_genes_corrupted = torch.sum(corrupted, 1).numpy().tolist() # get sum of each row"
   ]
  },
  {
   "cell_type": "code",
   "execution_count": null,
   "metadata": {},
   "outputs": [],
   "source": [
    "plt.scatter(n_genes_corrupted, f1s, marker='.', s = 1)\n",
    "plt.xlabel(\"# genes in corrupted input\")\n",
    "plt.ylabel(\"F1 score\")"
   ]
  },
  {
   "cell_type": "markdown",
   "metadata": {},
   "source": [
    "### How much variance is there in the F1 score of genomes encoding certain modules?\n",
    "Do some modules / lifestyles get reconstructed better than others?"
   ]
  },
  {
   "cell_type": "code",
   "execution_count": null,
   "metadata": {},
   "outputs": [],
   "source": [
    "process_to_mod, mod_to_proc = evaluate.map_proc_mod()"
   ]
  },
  {
   "cell_type": "code",
   "execution_count": null,
   "metadata": {},
   "outputs": [],
   "source": [
    "#fig, done = evaluate.plot_mod_count_vs_f1(test_input_mods, c_test_genomes, train_input_mods, f1s)"
   ]
  },
  {
   "cell_type": "code",
   "execution_count": null,
   "metadata": {},
   "outputs": [],
   "source": [
    "#fig = evaluate.plot_mod_vs_f1(test_input_mods, f1s)"
   ]
  },
  {
   "cell_type": "code",
   "execution_count": null,
   "metadata": {},
   "outputs": [],
   "source": [
    "# Plot whether number of modules in process correlates with F1 score\n",
    "# More interchangeable options = worse performance?"
   ]
  },
  {
   "cell_type": "code",
   "execution_count": null,
   "metadata": {},
   "outputs": [],
   "source": [
    "subprocess_to_mod, mod_to_subproc = evaluate.map_subproc_mod()"
   ]
  },
  {
   "cell_type": "code",
   "execution_count": null,
   "metadata": {},
   "outputs": [],
   "source": [
    "# fig = evaluate.plot_metab_pathway_f1(subprocess_to_mod, test_input_mods, f1s)"
   ]
  },
  {
   "cell_type": "markdown",
   "metadata": {},
   "source": [
    "### Analyze F1 scores of actual KOs"
   ]
  },
  {
   "cell_type": "code",
   "execution_count": null,
   "metadata": {},
   "outputs": [],
   "source": [
    "### THIS MUST BE USED IN MULTIPLE PLACES\n",
    "ko_f1s = []\n",
    "for i in range(uncorrupted.shape[1]): # for every column\n",
    "    f1 = sk.metrics.f1_score(uncorrupted[:,i], binary_pred[:,i], zero_division=0)\n",
    "    ko_f1s.append(f1)"
   ]
  },
  {
   "cell_type": "code",
   "execution_count": null,
   "metadata": {},
   "outputs": [],
   "source": [
    "zeros = 0\n",
    "for i in ko_f1s:\n",
    "    if i == 0:\n",
    "        zeros += 1\n",
    "print(zeros, len(ko_f1s), zeros/len(ko_f1s)*100)"
   ]
  },
  {
   "cell_type": "code",
   "execution_count": null,
   "metadata": {},
   "outputs": [],
   "source": [
    "# In the training set, how many KOs are always zero?\n",
    "zeros_train = train_data.sum(axis=0) > 0\n",
    "n_ones = np.sum(zeros_train)\n",
    "n_zeros_train = len(zeros_train) - n_ones\n",
    "print(\"There are\",n_zeros_train,\"genes that are always off in the training set\")"
   ]
  },
  {
   "cell_type": "code",
   "execution_count": null,
   "metadata": {},
   "outputs": [],
   "source": [
    "fig = plt.figure()\n",
    "plt.hist(ko_f1s, bins = 50)\n",
    "plt.xlabel(\"F1 score per gene\")\n",
    "plt.ylabel(\"Count\")"
   ]
  },
  {
   "cell_type": "code",
   "execution_count": null,
   "metadata": {},
   "outputs": [],
   "source": [
    "# gene occurence in uncorrupted ds vs F1 score\n",
    "#ko_counts = torch.sum(uncorrupted, 0)\n",
    "# get gene occurence in uncorrupted training set\n",
    "tr_uncorrupted = corrupted_train[:,n_features:]\n",
    "ko_counts = torch.sum(tr_uncorrupted, 0)\n",
    "\n",
    "fig, ax = plt.subplots()\n",
    "plt.scatter(ko_counts, ko_f1s, marker='.', s = 1)\n",
    "ax.set_xlim(0, tr_uncorrupted.shape[0])\n",
    "ax.set_ylim(0,1)\n",
    "plt.xlabel(\"gene count in uncorrupted train set\")\n",
    "plt.ylabel(\"per gene test F1 score\")\n",
    "plt.xticks(rotation=-70)\n",
    "print(\"max KO count:\",int(max(ko_counts)), \", total number of training genomes:\",tr_uncorrupted.shape[0])"
   ]
  },
  {
   "cell_type": "markdown",
   "metadata": {},
   "source": [
    "### Generate figure for paper"
   ]
  },
  {
   "cell_type": "code",
   "execution_count": null,
   "metadata": {},
   "outputs": [],
   "source": [
    "fig, (ax1, ax2, ax3) = plt.subplots(1,3, figsize=(15, 5))\n",
    "\n",
    "phylum_f1s = [np.median(test_phyla[i]) for i in test_phyla]\n",
    "phylum_count = [train_phyla[i] for i in test_phyla]\n",
    "ax1.scatter(phylum_count, phylum_f1s)\n",
    "ax1.set_xlabel(\"Number of genomes in train set\")\n",
    "ax1.set_ylabel(\"F1 score on test set\")\n",
    "ax1.set_xscale('log')\n",
    "\n",
    "tr_uncorrupted = corrupted_train[:,n_features:]\n",
    "ko_counts = torch.sum(tr_uncorrupted, 0)\n",
    "ax2.scatter(ko_counts, ko_f1s, marker='.', s = 1)\n",
    "ax2.set_xlim(0, tr_uncorrupted.shape[0])\n",
    "ax2.set_ylim(0,1)\n",
    "ax2.set_xlabel(\"Gene count in uncorrupted train set\")\n",
    "ax2.set_ylabel(\"Ger gene test F1 score\")\n",
    "\n",
    "n_genes_uncorrupted = torch.sum(uncorrupted, 1).numpy().tolist() # get sum of each row\n",
    "ax3.scatter(n_genes_uncorrupted, f1s, marker='.', s = 1)\n",
    "ax3.set_xlabel(\"# genes in original test genome\")\n",
    "ax3.set_ylabel(\"F1 score on test set\")\n",
    "\n",
    "plt.tight_layout()\n",
    "\n",
    "fig.savefig(BASE_DIR+\"bio_insights_contd.pdf\", dpi=200, bbox_inches='tight')"
   ]
  },
  {
   "cell_type": "code",
   "execution_count": null,
   "metadata": {},
   "outputs": [],
   "source": []
  },
  {
   "cell_type": "code",
   "execution_count": null,
   "metadata": {},
   "outputs": [],
   "source": [
    "# F1 score on KOs + what metab pathway they are part of"
   ]
  },
  {
   "cell_type": "code",
   "execution_count": null,
   "metadata": {},
   "outputs": [],
   "source": [
    "fig = evaluate.plot_metab_pathway_f1_v2(process_to_mod, mod_to_ko_clean, all_kos, ko_f1s, (7,5))"
   ]
  },
  {
   "cell_type": "code",
   "execution_count": null,
   "metadata": {
    "scrolled": true
   },
   "outputs": [],
   "source": [
    "# can also do horizontal boxplot with fig = evaluate.plot_metab_pathway_f1_v2\n",
    "fig, proc_to_ko_F1s = evaluate.plot_metab_pathway_f1_v2_horizontal(subprocess_to_mod, mod_to_ko_clean, all_kos, ko_f1s, (5,10))\n",
    "#fig.savefig(BASE_DIR+\"f1_per_proc.png\", dpi=200, bbox_inches='tight')"
   ]
  },
  {
   "cell_type": "code",
   "execution_count": null,
   "metadata": {},
   "outputs": [],
   "source": [
    "stats.kruskal(*proc_to_ko_F1s.values())"
   ]
  },
  {
   "cell_type": "code",
   "execution_count": null,
   "metadata": {},
   "outputs": [],
   "source": [
    "### How does the model do on different types of genes (kinases vs transferases, etc) "
   ]
  },
  {
   "cell_type": "code",
   "execution_count": null,
   "metadata": {},
   "outputs": [],
   "source": [
    "fig = evaluate.bio_insights_fig(test_phyla, subprocess_to_mod, all_kos, ko_f1s, mod_to_ko_clean)\n",
    "fig.savefig(BASE_DIR+\"bio_insights_fig.pdf\", dpi=200, bbox_inches='tight')"
   ]
  },
  {
   "cell_type": "markdown",
   "metadata": {},
   "source": [
    "### How does the count of each mod in training set (pre-corruption) correlate with median F1 score"
   ]
  },
  {
   "cell_type": "code",
   "execution_count": null,
   "metadata": {},
   "outputs": [],
   "source": [
    "fig = evaluate.plot_mod_count_vs_f1_v2(test_input_mods, f1s, train_out)"
   ]
  },
  {
   "cell_type": "markdown",
   "metadata": {},
   "source": [
    "# Qualitatively compare distance of real vs generated genomes"
   ]
  },
  {
   "cell_type": "code",
   "execution_count": 29,
   "metadata": {},
   "outputs": [],
   "source": [
    "# Generate 100 genomes using random sets of 10 modules\n",
    "new_genomes = False\n",
    "\n",
    "if new_genomes:\n",
    "    from datetime import date\n",
    "    date = date.today()\n",
    "    generated, generated_inputs = evaluate.generate_genomes(100, all_kos, mod_to_ko_clean, 10, model)\n",
    "    torch.save(generated, BASE_DIR+\"generated_genomes_\"+str(date)+\".pt\")\n",
    "    torch.save(generated_inputs, BASE_DIR+\"generated_genome_inputs_\"+str(date)+\".pt\")\n",
    "else:\n",
    "#     generated = torch.load(BASE_DIR+\"generated_genomes_11_01_2020.pt\")\n",
    "#     generated_inputs = torch.load(BASE_DIR+\"generated_genome_inputs_11_01_2020.pt\")\n",
    "    generated = torch.load(BASE_DIR+\"generated_genomes_2021-02-01.pt\")\n",
    "    generated_inputs = torch.load(BASE_DIR+\"generated_genome_inputs_2021-02-01.pt\")"
   ]
  },
  {
   "cell_type": "markdown",
   "metadata": {},
   "source": [
    "### Plot PCA of Jaccard similarity between genomes, using Hamming distances as a metric"
   ]
  },
  {
   "cell_type": "code",
   "execution_count": 30,
   "metadata": {},
   "outputs": [
    {
     "name": "stdout",
     "output_type": "stream",
     "text": [
      "idx 292 Num genes in selected genome 2015\n"
     ]
    },
    {
     "data": {
      "image/png": "[encoded data removed]",
      "text/plain": [
       "<Figure size 540x216 with 1 Axes>"
      ]
     },
     "metadata": {
      "needs_background": "light"
     },
     "output_type": "display_data"
    }
   ],
   "source": [
    "idx = random.randint(279, 379) # assumes 279 test genomes + 100 generated genomes, 0-indexed\n",
    "#idx = 368 # pathogen\n",
    "#idx = 282 # heme biosyn\n",
    "idx = 292\n",
    "gen_idx = idx - test_data.shape[0] # generated genomes follow test set genomes in tensor\n",
    "print(\"idx\",str(idx),\"Num genes in selected genome\", int(torch.sum(generated[gen_idx])))\n",
    "plt.rcParams.update({'font.size': 12})\n",
    "#fig = evaluate.plot_dist(generated_genomes, all_kos, mod_to_ko_clean, model, test_data)\n",
    "fig = evaluate.plot_dist(generated, all_kos, mod_to_ko_clean, model, test_data, idx)\n",
    "fig.savefig(BASE_DIR+\"pca_jaccard.pdf\", dpi=200, bbox_inches='tight');"
   ]
  },
  {
   "cell_type": "code",
   "execution_count": 32,
   "metadata": {},
   "outputs": [],
   "source": [
    "gen_corrupted = np.zeros((len(generated_inputs), n_features))\n",
    "\n",
    "for i in range(len(generated_inputs)):\n",
    "    kos_in = generated_inputs[i][1] # get KOs used as inputs\n",
    "    ko_idx = [all_kos.index(i) for i in kos_in] # get col index of those KOs in the data tensor\n",
    "    gen_corrupted[i][ko_idx] = 1 # turn on genes at those indices\n",
    "\n",
    "gen_corrupted = torch.Tensor(gen_corrupted).type(torch.LongTensor)"
   ]
  },
  {
   "cell_type": "code",
   "execution_count": 33,
   "metadata": {},
   "outputs": [
    {
     "name": "stdout",
     "output_type": "stream",
     "text": [
      "There are 100 instance of inputs being 100% present in output\n",
      "This is out of 100 instances or 100.0% of cases\n",
      "There are 100 instance of inputs being >=90% present in output (100.0%)\n"
     ]
    },
    {
     "data": {
      "image/png": "[encoded data removed]",
      "text/plain": [
       "<Figure size 432x288 with 1 Axes>"
      ]
     },
     "metadata": {
      "needs_background": "light"
     },
     "output_type": "display_data"
    }
   ],
   "source": [
    "fig, out = evaluate.compare_in_n_out(generated, gen_corrupted)"
   ]
  },
  {
   "cell_type": "raw",
   "metadata": {},
   "source": [
    "# generate protein output for a genome generated in set of 100 above\n",
    "#save_to = BASE_DIR+'prot_out_'+str(idx)+'.txt'\n",
    "#evaluate.generate_out2(generated, gen_idx, all_kos, BASE_DIR, save_to)\n",
    "print('Genome was generated using the following mods as input')\n",
    "generated_inputs[gen_idx][0]"
   ]
  },
  {
   "cell_type": "code",
   "execution_count": null,
   "metadata": {},
   "outputs": [],
   "source": []
  },
  {
   "cell_type": "code",
   "execution_count": null,
   "metadata": {},
   "outputs": [],
   "source": [
    "len(generated_inputs)"
   ]
  },
  {
   "cell_type": "code",
   "execution_count": null,
   "metadata": {},
   "outputs": [],
   "source": [
    "# Make list of KOs in generated genome\n",
    "gen_ko_idx = [int(i) for i in (generated[gen_idx] == 1).nonzero()]\n",
    "gen_kos = [all_kos[i] for i in gen_ko_idx]\n",
    "len(gen_kos)"
   ]
  },
  {
   "cell_type": "code",
   "execution_count": null,
   "metadata": {},
   "outputs": [],
   "source": [
    "# Assess ribosomal completeness\n",
    "pathways.confirm_ribosome(gen_kos)"
   ]
  },
  {
   "cell_type": "code",
   "execution_count": null,
   "metadata": {},
   "outputs": [],
   "source": [
    "# Assess rRNA gene completeness\n",
    "pathways.confirm_rrna(gen_kos)"
   ]
  },
  {
   "cell_type": "code",
   "execution_count": null,
   "metadata": {},
   "outputs": [],
   "source": [
    "assert 'K21254' in gen_kos"
   ]
  },
  {
   "cell_type": "code",
   "execution_count": null,
   "metadata": {},
   "outputs": [],
   "source": [
    "# for each mod number, get its name\n",
    "mod_to_name = pre_process.mod_names()"
   ]
  },
  {
   "cell_type": "code",
   "execution_count": null,
   "metadata": {},
   "outputs": [],
   "source": []
  },
  {
   "cell_type": "code",
   "execution_count": null,
   "metadata": {},
   "outputs": [],
   "source": [
    "def mod_completeness(genome_vector, mod_to_ko_clean, mod):\n",
    "    count = 0\n",
    "    for i in mod_to_ko_clean[mod]:\n",
    "        if i in genome_vector:\n",
    "            count += 1\n",
    "        else:\n",
    "            print(\"missing\", i)\n",
    "    print(count,\"/\",len(mod_to_ko_clean[mod]),\"genes in the mod are present\")"
   ]
  },
  {
   "cell_type": "code",
   "execution_count": null,
   "metadata": {},
   "outputs": [],
   "source": [
    "for mod in generated_inputs[gen_idx][0]:\n",
    "    print(mod, mod_to_name[mod])\n",
    "    print(mod_to_ko_clean[mod])\n",
    "    mod_completeness(gen_kos, mod_to_ko_clean, mod)\n",
    "    print(\"--------------------------------------------\")"
   ]
  },
  {
   "cell_type": "code",
   "execution_count": null,
   "metadata": {},
   "outputs": [],
   "source": [
    "save_to = BASE_DIR+\"prot_out_\"+str(gen_idx)+\".txt\"\n",
    "\n",
    "with open(BASE_DIR+'seq_dict.pkl', 'rb') as handle:\n",
    "    seq_dict = pickle.load(handle)\n",
    "\n",
    "with open(save_to, 'w') as handle:\n",
    "    for prot in gen_kos:\n",
    "        handle.write(\">\"+prot+\"\\n\")\n",
    "        handle.write(seq_dict[prot]+\"\\n\")\n",
    "\n",
    "print(gen_idx)"
   ]
  },
  {
   "cell_type": "code",
   "execution_count": null,
   "metadata": {},
   "outputs": [],
   "source": [
    "# Prepare input to KEGG Mapper\n",
    "for i, ko in enumerate(gen_kos):\n",
    "    print(\"gene\"+str(i), ko)"
   ]
  },
  {
   "cell_type": "markdown",
   "metadata": {},
   "source": [
    "### Distributions of genes and modules per genome for real vs generated genomes"
   ]
  },
  {
   "cell_type": "code",
   "execution_count": null,
   "metadata": {},
   "outputs": [],
   "source": [
    "def complete_mods(generated, all_kos, mod_to_ko_clean):\n",
    "    gen_kos = defaultdict(list)\n",
    "    for i, row in enumerate(generated):\n",
    "        for j in range(len(row)):\n",
    "            if row[j] == 1:\n",
    "                gen_kos[i].append(all_kos[j])\n",
    "\n",
    "    gen_mods = defaultdict(list)\n",
    "    for genome in gen_kos:\n",
    "        my_kos = gen_kos[genome]\n",
    "\n",
    "        for mod in mod_to_ko_clean:\n",
    "            complete = True\n",
    "            for ko in mod_to_ko_clean[mod]:\n",
    "                if ko not in my_kos: \n",
    "                    complete = False\n",
    "\n",
    "            if complete:\n",
    "                gen_mods[genome].append(mod)\n",
    "                \n",
    "    return gen_mods"
   ]
  },
  {
   "cell_type": "code",
   "execution_count": null,
   "metadata": {},
   "outputs": [],
   "source": [
    "def mod_freqs(mod_to_ko_clean, test_data, generated):\n",
    "\n",
    "    real_mod_freq = []\n",
    "    gen_mod_freq = []\n",
    "    for mod in mod_to_ko_clean:\n",
    "        real_count = 0\n",
    "        gen_count = 0\n",
    "        for genome in gen_mods:\n",
    "            if mod in gen_mods[genome]:\n",
    "                gen_count += 1\n",
    "            if mod in real_mods[genome]:\n",
    "                real_count += 1\n",
    "        real_mod_freq.append(real_count / len(test_data))\n",
    "        gen_mod_freq.append(gen_count / len(generated))\n",
    "\n",
    "    # sort in descending order of real genome mods\n",
    "    real_mod_freq, gen_mod_freq = zip(*sorted(zip(real_mod_freq, gen_mod_freq), reverse=True))\n",
    "\n",
    "    return real_mod_freq, gen_mod_freq"
   ]
  },
  {
   "cell_type": "code",
   "execution_count": null,
   "metadata": {},
   "outputs": [],
   "source": [
    "gen_mods = complete_mods(generated, all_kos, mod_to_ko_clean)\n",
    "real_mods = complete_mods(test_data, all_kos, mod_to_ko_clean)\n",
    "gen_mod_lens = [len(gen_mods[i]) for i in gen_mods]\n",
    "real_mod_lens = [len(real_mods[i]) for i in gen_mods]\n",
    "\n",
    "real_mod_freq, gen_mod_freq = mod_freqs(mod_to_ko_clean, test_data, generated)\n",
    "labels = [i for i in range(len(gen_mod_freq))]\n",
    "\n",
    "len_gen = []\n",
    "for genome in generated:\n",
    "    len_gen.append(torch.sum(genome))\n",
    "len_real = []\n",
    "for genome in test_data:\n",
    "    len_real.append(np.sum(genome))"
   ]
  },
  {
   "cell_type": "code",
   "execution_count": null,
   "metadata": {},
   "outputs": [],
   "source": [
    "plt.rcParams.update({'font.size': 18})\n",
    "fig, (ax1, ax2, ax3) = plt.subplots(1, 3, figsize=(15,5))\n",
    "#plt.yticks(fontsize=20) \n",
    "\n",
    "# Plot number of genes per genome\n",
    "ax1.hist(len_real, 50, color='g', alpha=0.5)\n",
    "ax1.hist(len_gen, 50, color='b', alpha=0.5)\n",
    "#ax1.legend(['Real', 'Generated'])\n",
    "ax1.set_xlabel(\"Number of genes\")\n",
    "ax1.set_ylabel(\"Genome count\")\n",
    "\n",
    "# Plot number of complete mods per genome\n",
    "ax2.hist(gen_mod_lens, 50, color='b', alpha=0.5)\n",
    "ax2.hist(real_mod_lens, 50, color='g', alpha=0.5)\n",
    "#ax2.legend(['Real', 'Generated'])\n",
    "ax2.set_xlabel(\"Number of complete modules\")\n",
    "ax2.set_ylabel(\"Genome count\")\n",
    "\n",
    "# Plot the fraction of genomes encoding each mod\n",
    "ax3.bar(labels, gen_mod_freq, color='b', alpha=0.5)\n",
    "ax3.bar(labels, real_mod_freq, color='g', alpha=0.5)\n",
    "ax3.legend(['Real', 'Generated'])\n",
    "ax3.set_xlabel(\"Module\")\n",
    "ax3.set_ylabel(\"Fraction of genomes \\n encoding module\")\n",
    "ax3.set_xlim(0,len(labels))\n",
    "\n",
    "plt.tight_layout()\n",
    "\n",
    "fig.savefig(BASE_DIR+\"count_dists.pdf\", dpi=200, bbox_inches='tight')\n",
    "fig.savefig(BASE_DIR+\"count_dists.png\", dpi=200, bbox_inches='tight')"
   ]
  },
  {
   "cell_type": "markdown",
   "metadata": {},
   "source": [
    "### Create files needed to infer and visualize a dendrogram based on gene prescence/abscence\n",
    "Will use phylip to infer a parsimony-based dendrogram (mix program)\n",
    "\n",
    "Will use iTOL for visualization (display, add colour strips, remove taxon labels)"
   ]
  },
  {
   "cell_type": "code",
   "execution_count": null,
   "metadata": {},
   "outputs": [],
   "source": [
    "barc_vec = evaluate.arch_root(all_kos)"
   ]
  },
  {
   "cell_type": "code",
   "execution_count": null,
   "metadata": {},
   "outputs": [],
   "source": [
    "# Reformat tensor for input to phylip\n",
    "df = evaluate.df_for_phylip(generated, test_data, test_genomes, all_kos)\n",
    "df = df.append(pd.DataFrame({col: [val] for col, val in zip(df.columns, barc_vec)}, ['outgroup_T04065']))\n",
    "phylum_dict = evaluate.write_out_for_phylip(BASE_DIR, df, tnum_to_tla, test_tax_dict) # phylip_in.txt\n",
    "#df.to_csv(BASE_DIR+'generated_genomes.csv', index = True)"
   ]
  },
  {
   "cell_type": "code",
   "execution_count": null,
   "metadata": {},
   "outputs": [],
   "source": [
    "# Sanity check\n",
    "same = True\n",
    "for i in range(len(generated[13])):\n",
    "    if int(df.iloc[292][i]) != int(generated[13][i]):\n",
    "        same = False\n",
    "same"
   ]
  },
  {
   "cell_type": "code",
   "execution_count": null,
   "metadata": {},
   "outputs": [],
   "source": [
    "# Find \"phylip-3.695-vol\", double click \"mix\" program\n",
    "# Enter file name with path to dir ---> delete space at the end of the file name"
   ]
  },
  {
   "cell_type": "code",
   "execution_count": null,
   "metadata": {},
   "outputs": [],
   "source": [
    "# For parsimony dendrogram: generate real genomes' phylum-level colour strip file for iTOL \n",
    "phyla_colours = evaluate.get_phyla_colours()\n",
    "evaluate.colour_real_itol(BASE_DIR, phyla_colours, phylum_dict) # vae_dendro_colours_real.txt\n",
    "#colour = tuple(np.random.randint(256, size=3))"
   ]
  },
  {
   "cell_type": "code",
   "execution_count": null,
   "metadata": {},
   "outputs": [],
   "source": [
    "# For parsimony dendrogram: generate generated genomes' colour strip file for iTOL\n",
    "evaluate.colour_generated_itol(BASE_DIR, phylum_dict) # vae_dendro_colours_generated.txt"
   ]
  },
  {
   "cell_type": "markdown",
   "metadata": {},
   "source": [
    "# Baseline models"
   ]
  },
  {
   "cell_type": "code",
   "execution_count": null,
   "metadata": {},
   "outputs": [],
   "source": [
    "import sklearn as sk\n",
    "from sklearn.metrics import confusion_matrix"
   ]
  },
  {
   "cell_type": "markdown",
   "metadata": {},
   "source": [
    "### Baseline 1: randomly turn on n_rand bits"
   ]
  },
  {
   "cell_type": "code",
   "execution_count": null,
   "metadata": {},
   "outputs": [],
   "source": [
    "new = False\n",
    "\n",
    "if new:\n",
    "    print(\"Generating new baseline 1\")\n",
    "    baseline1 = evaluate.baseline1(corrupted_train, org_to_mod_to_kos, org_to_kos, tla_to_tnum, c_train_genomes, corrupted_test)\n",
    "    torch.save(baseline1, BASE_DIR+\"baseline1.pt\")\n",
    "else:\n",
    "    print(\"Loading previously made baseline 1\")\n",
    "    baseline1 = torch.load(BASE_DIR+\"baseline1.pt\")"
   ]
  },
  {
   "cell_type": "code",
   "execution_count": null,
   "metadata": {},
   "outputs": [],
   "source": [
    "baseline1.shape"
   ]
  },
  {
   "cell_type": "code",
   "execution_count": null,
   "metadata": {},
   "outputs": [],
   "source": [
    "f1 = sk.metrics.f1_score(uncorrupted, baseline1, zero_division=0, average='micro')\n",
    "f1"
   ]
  },
  {
   "cell_type": "code",
   "execution_count": null,
   "metadata": {
    "scrolled": true
   },
   "outputs": [],
   "source": [
    "tns, fps, fns, tps, total = evaluate.glom_confusion(uncorrupted, baseline1)\n",
    "print(round(sum(tns)/total*100,2), round(sum(fps)/total*100,2), round(sum(fns)/total*100,2), round(sum(tps)/total*100,2))\n"
   ]
  },
  {
   "cell_type": "code",
   "execution_count": null,
   "metadata": {},
   "outputs": [],
   "source": [
    "# Plot ROC curve, generate AUC score (micro-average)\n",
    "num_features = int(corrupted_test.shape[1]/2)\n",
    "fig = data_viz.my_roc_curve(uncorrupted.numpy(), baseline1.numpy())"
   ]
  },
  {
   "cell_type": "markdown",
   "metadata": {},
   "source": [
    "### Baseline 2: randomly turn on n_rand bits with the highest probability of being on across the entire training set"
   ]
  },
  {
   "cell_type": "code",
   "execution_count": null,
   "metadata": {},
   "outputs": [],
   "source": [
    "new = True\n",
    "\n",
    "if new:\n",
    "    print(\"Generating new baseline 2\")\n",
    "    baseline2 = evaluate.baseline2(corrupted_test, org_to_mod_to_kos, org_to_kos, tla_to_tnum, c_train_genomes, corrupted_test)\n",
    "    torch.save(baseline2, BASE_DIR+\"baseline2.pt\")\n",
    "else:\n",
    "    print(\"Loading previously made baseline 2\")\n",
    "    baseline2 = torch.load(BASE_DIR+\"baseline2.pt\")\n",
    "    "
   ]
  },
  {
   "cell_type": "code",
   "execution_count": null,
   "metadata": {},
   "outputs": [],
   "source": [
    "f1 = sk.metrics.f1_score(uncorrupted, baseline2, zero_division=0, average='micro')\n",
    "f1"
   ]
  },
  {
   "cell_type": "code",
   "execution_count": null,
   "metadata": {},
   "outputs": [],
   "source": [
    "tns, fps, fns, tps, total = evaluate.glom_confusion(uncorrupted, baseline2)\n",
    "print(round(sum(tns)/total*100,2), round(sum(fps)/total*100,2), round(sum(fns)/total*100,2), round(sum(tps)/total*100,2))\n"
   ]
  },
  {
   "cell_type": "code",
   "execution_count": null,
   "metadata": {},
   "outputs": [],
   "source": [
    "# Plot ROC curve, generate AUC score (micro-average)\n",
    "num_features = int(corrupted_test.shape[1]/2)\n",
    "fig = data_viz.my_roc_curve(uncorrupted.numpy(), baseline2.numpy())"
   ]
  },
  {
   "cell_type": "markdown",
   "metadata": {},
   "source": [
    "### Baseline 3: Create predictions using an untrained version of the VAE model"
   ]
  },
  {
   "cell_type": "code",
   "execution_count": null,
   "metadata": {},
   "outputs": [],
   "source": [
    "new = True\n",
    "\n",
    "if new:\n",
    "    print(\"Generating new baseline 3\")\n",
    "    n_features = int(corrupted_test.shape[1]/2)\n",
    "    fake_model = models.VariationalAutoEncoder(n_features, 3)\n",
    "    fake_model.eval()\n",
    "    with torch.no_grad():\n",
    "        pred = fake_model.forward(corrupted_test[:,:n_features])[0].detach()\n",
    "    baseline3 = evaluate.eval_binarize(pred, 0.5)\n",
    "    torch.save(baseline3, BASE_DIR+\"baseline3.pt\")\n",
    "else:\n",
    "    print(\"Loading previously made baseline 3\")\n",
    "    baseline3 = torch.load(BASE_DIR+\"baseline3.pt\")"
   ]
  },
  {
   "cell_type": "code",
   "execution_count": null,
   "metadata": {},
   "outputs": [],
   "source": [
    "f1 = sk.metrics.f1_score(uncorrupted.long(), baseline3.long(), zero_division=0, average='micro')\n",
    "f1"
   ]
  },
  {
   "cell_type": "code",
   "execution_count": null,
   "metadata": {},
   "outputs": [],
   "source": [
    "tns, fps, fns, tps, total = evaluate.glom_confusion(uncorrupted, baseline3)\n",
    "print(round(sum(tns)/total*100,2), round(sum(fps)/total*100,2), round(sum(fns)/total*100,2), round(sum(tps)/total*100,2))\n"
   ]
  },
  {
   "cell_type": "code",
   "execution_count": null,
   "metadata": {},
   "outputs": [],
   "source": [
    "# Plot ROC curve, generate AUC score (micro-average)\n",
    "num_features = int(corrupted_test.shape[1]/2)\n",
    "fig = data_viz.my_roc_curve(uncorrupted.numpy(), baseline3.numpy())"
   ]
  },
  {
   "cell_type": "markdown",
   "metadata": {},
   "source": [
    "### Baseline 4: Always predict the smallest genome in the training set (Hoaglandella endobia -- hed)"
   ]
  },
  {
   "cell_type": "code",
   "execution_count": null,
   "metadata": {},
   "outputs": [],
   "source": [
    "new = True\n",
    "\n",
    "if new:\n",
    "    print(\"Generating new baseline 4\")\n",
    "    baseline4 = evaluate.baseline4(corrupted_train, corrupted_test, tla_to_tnum, org_to_kos, c_train_genomes)\n",
    "    torch.save(baseline4, BASE_DIR+\"baseline4.pt\")\n",
    "else:\n",
    "    print(\"Loading previously made baseline 4\")\n",
    "    baseline4 = torch.load(BASE_DIR+\"baseline4.pt\")"
   ]
  },
  {
   "cell_type": "code",
   "execution_count": null,
   "metadata": {},
   "outputs": [],
   "source": [
    "f1 = sk.metrics.f1_score(uncorrupted, baseline4, zero_division=0, average='micro')\n",
    "f1"
   ]
  },
  {
   "cell_type": "code",
   "execution_count": null,
   "metadata": {},
   "outputs": [],
   "source": [
    "tns, fps, fns, tps, total = evaluate.glom_confusion(uncorrupted, baseline4)\n",
    "print(round(sum(tns)/total*100,2), round(sum(fps)/total*100,2), round(sum(fns)/total*100,2), round(sum(tps)/total*100,2))\n"
   ]
  },
  {
   "cell_type": "code",
   "execution_count": null,
   "metadata": {},
   "outputs": [],
   "source": [
    "# Plot ROC curve, generate AUC score (micro-average)\n",
    "num_features = int(corrupted_test.shape[1]/2)\n",
    "fig = data_viz.my_roc_curve(uncorrupted.numpy(), baseline4.numpy())"
   ]
  },
  {
   "cell_type": "markdown",
   "metadata": {},
   "source": [
    "### Baseline 5: Always predict the largest genome in the training set (Paraburkholderia caribensis -- bcai)"
   ]
  },
  {
   "cell_type": "code",
   "execution_count": null,
   "metadata": {},
   "outputs": [],
   "source": [
    "new = True\n",
    "\n",
    "if new:\n",
    "    print(\"Generating new baseline 5\")\n",
    "    baseline5, largest_tla = evaluate.baseline5(corrupted_train, corrupted_test, tla_to_tnum, org_to_kos, c_train_genomes)\n",
    "    torch.save(baseline5, BASE_DIR+\"baseline5.pt\")\n",
    "else:\n",
    "    print(\"Loading previously made baseline 5\")\n",
    "    baseline5 = torch.load(BASE_DIR+\"baseline5.pt\")"
   ]
  },
  {
   "cell_type": "code",
   "execution_count": null,
   "metadata": {},
   "outputs": [],
   "source": [
    "f1 = sk.metrics.f1_score(uncorrupted, baseline5, zero_division=0, average='micro')\n",
    "f1"
   ]
  },
  {
   "cell_type": "code",
   "execution_count": null,
   "metadata": {},
   "outputs": [],
   "source": [
    "tns, fps, fns, tps, total = evaluate.glom_confusion(uncorrupted, baseline5)\n",
    "print(round(sum(tns)/total*100,2), round(sum(fps)/total*100,2), round(sum(fns)/total*100,2), round(sum(tps)/total*100,2))\n"
   ]
  },
  {
   "cell_type": "code",
   "execution_count": null,
   "metadata": {},
   "outputs": [],
   "source": [
    "# Plot ROC curve, generate AUC score (micro-average)\n",
    "num_features = int(corrupted_test.shape[1]/2)\n",
    "fig = data_viz.my_roc_curve(uncorrupted.numpy(), baseline5.numpy())"
   ]
  },
  {
   "cell_type": "markdown",
   "metadata": {},
   "source": [
    "# Potential model improvements"
   ]
  },
  {
   "cell_type": "code",
   "execution_count": null,
   "metadata": {},
   "outputs": [],
   "source": [
    "# Increase dataset set (more corruptions per genome)\n",
    "# For genomes it does poorly on, make more copies\n",
    "# HP tuning\n",
    "# Remove genomes with <1000 KOs ---> get rid of endosymbionts --- will need to redo small genome baseline\n",
    "# Apply different amounts of KLD importance during training\n",
    "# Make 100% of input genes in output (currently ~20% have 100% in and out). Loss mod?"
   ]
  },
  {
   "cell_type": "code",
   "execution_count": null,
   "metadata": {},
   "outputs": [],
   "source": [
    "# We performed a parameter sweep over warmups (κ) (0.01, 0.05, 0.1, and 1). \n",
    "# κ controls how much the KL divergence loss contributes to learning, \n",
    "# which effectively transitions a deterministic autoencoder to a VAE.28,29 \n",
    "# For instance, a κ = 0.1 would add 0.1 to a weight on the KL loss after each epoch. \n",
    "# After 10 epochs, the KL loss will have equal weight as the reconstruction loss. \n",
    "# We did not observe κ to influence model training (Figure 1B), so we kept κ = 1 for downstream analyses."
   ]
  },
  {
   "cell_type": "markdown",
   "metadata": {},
   "source": [
    "# Model output to KAAS input"
   ]
  },
  {
   "cell_type": "code",
   "execution_count": null,
   "metadata": {},
   "outputs": [],
   "source": [
    "# generate NEW genome from 10 random modules\n",
    "\n",
    "######### ensure desired KOs are in output file --- did not happen when used above with tensor instead of df\n",
    "\n",
    "save_to = BASE_DIR+'prot_out_'+str(gen_idx)+'.txt'\n",
    "ko_new = evaluate.new_genome_random(mod_to_ko_clean, model, all_kos, save_to, BASE_DIR)"
   ]
  },
  {
   "cell_type": "code",
   "execution_count": null,
   "metadata": {},
   "outputs": [],
   "source": [
    "gen_idx"
   ]
  },
  {
   "cell_type": "code",
   "execution_count": null,
   "metadata": {},
   "outputs": [],
   "source": []
  },
  {
   "cell_type": "code",
   "execution_count": null,
   "metadata": {},
   "outputs": [],
   "source": []
  },
  {
   "cell_type": "code",
   "execution_count": null,
   "metadata": {},
   "outputs": [],
   "source": []
  },
  {
   "cell_type": "code",
   "execution_count": null,
   "metadata": {},
   "outputs": [],
   "source": []
  },
  {
   "cell_type": "code",
   "execution_count": null,
   "metadata": {},
   "outputs": [],
   "source": []
  }
 ],
 "metadata": {
  "kernelspec": {
   "display_name": "Python 3",
   "language": "python",
   "name": "python3"
  },
  "language_info": {
   "codemirror_mode": {
    "name": "ipython",
    "version": 3
   },
   "file_extension": ".py",
   "mimetype": "text/x-python",
   "name": "python",
   "nbconvert_exporter": "python",
   "pygments_lexer": "ipython3",
   "version": "3.7.6"
  }
 },
 "nbformat": 4,
 "nbformat_minor": 4
}
