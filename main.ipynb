{
 "cells": [
  {
   "cell_type": "code",
   "execution_count": 2,
   "metadata": {},
   "outputs": [],
   "source": [
    "# automatically upload modules\n",
    "%load_ext autoreload\n",
    "%autoreload 2"
   ]
  },
  {
   "cell_type": "code",
   "execution_count": 3,
   "metadata": {},
   "outputs": [],
   "source": [
    "from argparse import Namespace\n",
    "import os\n",
    "import pandas as pd\n",
    "import pickle\n",
    "from ray import tune\n",
    "#from ray.tune.schedulers import ASHAScheduler\n",
    "import torch\n",
    "import pickle\n",
    "\n",
    "from genome_embeddings import data_viz\n",
    "from genome_embeddings import evaluate\n",
    "from genome_embeddings import models\n",
    "from genome_embeddings import train_test\n",
    "from genome_embeddings import util\n",
    "from genome_embeddings import trainable # import before ray (?)\n",
    "import ray"
   ]
  },
  {
   "cell_type": "code",
   "execution_count": 4,
   "metadata": {},
   "outputs": [],
   "source": [
    "flags = Namespace(\n",
    "    DATA_FP = '/Users/natasha/Desktop/mcgill_postdoc/ncbi_genomes/genome_embeddings/data/', \n",
    "    SAVE_FP = '/Users/natasha/Desktop/mcgill_postdoc/ncbi_genomes/genome_embeddings/',\n",
    "    KEGG_FP = '/Users/natasha/Desktop/mcgill_postdoc/ncbi_genomes/kegg_dataset/',\n",
    "    data_source = 'kegg', #['get_homologues' | 'kegg']\n",
    "    n_test = 0.1, # train-test split, n * 100 = % of data that goes into test set (e.g.: 0.1 -> 10%)\n",
    "    num_epochs = 3, # IF CIRRICULUM, DO NOT SET < 3\n",
    "    batch_size = 128,\n",
    "    lr = 1e-3,\n",
    "    kfolds = 10, # number of folds for cross-validation\n",
    "    print_every = 50, # print loss every n batches during training (5)\n",
    "    replacement_threshold = 0.5, # probability over which binarizer converts to a 1\n",
    "    num_corruptions = 100, # number of corrupted versions of a genome to produce\n",
    "    corruption_fraction = 0.5, # fraction of genes to retain during corruption process\n",
    "    phy_mode = \"bacteria_only\", # training with only bacteria vs also euk/arch\n",
    "    cirriculum = False, # implement cirriculum learning based on gene count\n",
    "    rare_threshold = 10, # drop features that occur fewer than this times in training ds \n",
    "    weight_decay=0.1 # L2 regularization\n",
    "    )"
   ]
  },
  {
   "cell_type": "markdown",
   "metadata": {},
   "source": [
    "### Data exploration + preprocessing "
   ]
  },
  {
   "cell_type": "code",
   "execution_count": 5,
   "metadata": {
    "scrolled": true
   },
   "outputs": [
    {
     "name": "stdout",
     "output_type": "stream",
     "text": [
      "Genome representations already exist\n"
     ]
    }
   ],
   "source": [
    "# First create genome representations (very slow)\n",
    "# Each genome is a list of KO's and/or KEGG modules\n",
    "if os.path.isfile(flags.DATA_FP+'genome_to_mod.csv'):\n",
    "    print(\"Genome representations already exist\")\n",
    "else:\n",
    "    genome_rep.genome_kos(flags.KEGG_FP)\n",
    "    print(\"Must generate genome representations from scratch. This will take several hours.\")"
   ]
  },
  {
   "cell_type": "code",
   "execution_count": 6,
   "metadata": {},
   "outputs": [],
   "source": [
    "df, cluster_names = util.load_data(flags.DATA_FP, flags.data_source)\n",
    "genome_to_tax = util.genome_to_tax(df)\n",
    "with open('cluster_names.txt', 'wb') as filehandle:\n",
    "    pickle.dump(cluster_names, filehandle)\n"
   ]
  },
  {
   "cell_type": "code",
   "execution_count": 7,
   "metadata": {},
   "outputs": [],
   "source": [
    "#data_viz.tax_distrib(df, genome_to_tax)"
   ]
  },
  {
   "cell_type": "code",
   "execution_count": 8,
   "metadata": {},
   "outputs": [],
   "source": [
    "#data_viz.module_stats(df)"
   ]
  },
  {
   "cell_type": "code",
   "execution_count": 9,
   "metadata": {},
   "outputs": [],
   "source": [
    "#data_viz.genes_per_genome(df)"
   ]
  },
  {
   "cell_type": "code",
   "execution_count": 10,
   "metadata": {},
   "outputs": [
    {
     "name": "stdout",
     "output_type": "stream",
     "text": [
      "Train-test split already exists, loading from file\n"
     ]
    }
   ],
   "source": [
    "# Split train-test sets in a phylogenetically balanced manner \n",
    "if os.path.isfile(flags.DATA_FP+'uncorrupted_train_balanced.csv'):\n",
    "    print(\"Train-test split already exists, loading from file\")\n",
    "    train_orig = pd.read_csv(flags.DATA_FP+\"uncorrupted_train_balanced.csv\", index_col=0)    \n",
    "    test_orig = pd.read_csv(flags.DATA_FP+\"uncorrupted_test_balanced.csv\", index_col=0)    \n",
    "\n",
    "else:\n",
    "    # Create dict mapping each genome to a unique numerical ID\n",
    "    genome_to_num ={}\n",
    "    for i,genome in enumerate(df.index):\n",
    "        genome_to_num[genome] = i\n",
    "\n",
    "    num_to_genome = {v: k for k, v in genome_to_num.items()}\n",
    "        \n",
    "    print(\"Generating train-test split\")\n",
    "    train_orig, test_orig = util.balanced_split(df, flags.n_test, genome_to_tax, \n",
    "                                                num_to_genome, flags.DATA_FP)    \n",
    "    train_orig.to_csv(flags.DATA_FP+'uncorrupted_train_balanced.csv')\n",
    "    test_orig.to_csv(flags.DATA_FP+'uncorrupted_test_balanced.csv')"
   ]
  },
  {
   "cell_type": "code",
   "execution_count": 11,
   "metadata": {},
   "outputs": [],
   "source": [
    "#data_viz.hist_prob_ko(train_orig)"
   ]
  },
  {
   "cell_type": "code",
   "execution_count": 12,
   "metadata": {},
   "outputs": [],
   "source": [
    "if flags.phy_mode == \"bacteria_only\":\n",
    "    train_genomes = train_orig.index.to_list()\n",
    "    test_genomes = test_orig.index.to_list()\n",
    "    \n",
    "    unf_train_data, train_tax_dict = util.bacteria_only(train_orig, train_genomes, genome_to_tax)\n",
    "    unf_test_data, test_tax_dict = util.bacteria_only(test_orig, test_genomes, genome_to_tax)"
   ]
  },
  {
   "cell_type": "code",
   "execution_count": 13,
   "metadata": {},
   "outputs": [],
   "source": [
    "# Remove rare features from train + test datasets\n",
    "# Rare = fewer than n occurences in training dataset\n",
    "# Last argument specifies n, set to correspond to 1% of genomes (3432 genomes -> n = 34)\n",
    "train_data, test_data, cluster_names = util.remove_rare(unf_train_data, unf_test_data, \n",
    "                                                        cluster_names, unf_train_data.shape[0]*0.01)"
   ]
  },
  {
   "cell_type": "code",
   "execution_count": 14,
   "metadata": {},
   "outputs": [
    {
     "data": {
      "text/plain": [
       "(2395, 7065)"
      ]
     },
     "execution_count": 14,
     "metadata": {},
     "output_type": "execute_result"
    }
   ],
   "source": [
    "train_data.shape"
   ]
  },
  {
   "cell_type": "code",
   "execution_count": 15,
   "metadata": {},
   "outputs": [
    {
     "name": "stdout",
     "output_type": "stream",
     "text": [
      "Corrupted genomes already exist\n"
     ]
    }
   ],
   "source": [
    "# Produce corrupted genomes\n",
    "# Could eventually do re-sampling / extra-corrupting to have more examples of \"rare\" genome types\n",
    "#    e.g.: those from underrepresented groups M00003   \n",
    "\n",
    "if os.path.isfile(flags.DATA_FP+'corrupted_train_0607.pt'):\n",
    "    print(\"Corrupted genomes already exist\")\n",
    "    train_data = torch.load(flags.DATA_FP+\"corrupted_train_0607.pt\")\n",
    "    test_data = torch.load(flags.DATA_FP+\"corrupted_test_0607.pt\")\n",
    "    genome_idx_train = torch.load(flags.DATA_FP+\"genome_idx_train_0607.pt\")\n",
    "    genome_idx_test = torch.load(flags.DATA_FP+\"genome_idx_test_0607.pt\")\n",
    "else:\n",
    "    print(\"Generating corrupted dataset from scratch with\",flags.num_corruptions,\"corrupted versions of each genome\")\n",
    "    train_data, genome_idx_train = util.corrupt(train_data, flags.num_corruptions, flags.corruption_fraction, \n",
    "                                                cluster_names, \"train\", flags.DATA_FP)\n",
    "\n",
    "    test_data, genome_idx_test = util.corrupt(test_data, flags.num_corruptions, flags.corruption_fraction, \n",
    "                                              cluster_names, \"test\", flags.DATA_FP)"
   ]
  },
  {
   "cell_type": "code",
   "execution_count": null,
   "metadata": {},
   "outputs": [],
   "source": []
  },
  {
   "cell_type": "code",
   "execution_count": 16,
   "metadata": {},
   "outputs": [],
   "source": [
    "# print((\"There are %s genomes and %s features in the training dataset\") % \n",
    "#       (train_data.shape[0],int(train_data.shape[1]/2)))\n",
    "\n",
    "# print((\"There are %s genomes and %s features in the test dataset\") % \n",
    "#       (test_data.shape[0],int(test_data.shape[1]/2)))"
   ]
  },
  {
   "cell_type": "code",
   "execution_count": 17,
   "metadata": {},
   "outputs": [],
   "source": [
    "# if flags.cirriculum:\n",
    "#     loaders = util.cirriculum_load(train_data, test_data, flags.batch_size, \n",
    "#                            flags.batch_size, cluster_names)\n",
    "# else:\n",
    "#     loaders = util.dataloaders(train_data, test_data, flags.batch_size, \n",
    "#                                flags.batch_size, cluster_names)"
   ]
  },
  {
   "cell_type": "code",
   "execution_count": 18,
   "metadata": {},
   "outputs": [],
   "source": [
    "# from skorch.dataset import CVSplit\n",
    "# from torch.utils.data import DataLoader, TensorDataset"
   ]
  },
  {
   "cell_type": "code",
   "execution_count": 19,
   "metadata": {},
   "outputs": [],
   "source": [
    "# num_features = int(train_data.shape[1]/2)\n",
    "# X = train_data[:,:num_features] # corrupted genomes in first half of matrix columns\n",
    "# y = train_data[:,num_features:] # uncorrupted in second half of matrix columns"
   ]
  },
  {
   "cell_type": "code",
   "execution_count": 20,
   "metadata": {},
   "outputs": [],
   "source": [
    "# # Create dataloader with folds \n",
    "# train_ds = TensorDataset(X, y)\n",
    "# splitter = CVSplit(cv=3)\n",
    "# train_dl = splitter(train_ds)"
   ]
  },
  {
   "cell_type": "code",
   "execution_count": 21,
   "metadata": {},
   "outputs": [],
   "source": [
    "# type(train_dl), type(train_dl[0])"
   ]
  },
  {
   "cell_type": "code",
   "execution_count": 22,
   "metadata": {},
   "outputs": [],
   "source": [
    "# import numpy as np\n",
    "# k = 3\n",
    "# idx_genomes = [i for i in range(len(X))]\n",
    "# num_test = int(len(idx_genomes) / k )\n",
    "# num_train = len(idx_genomes) - num_test"
   ]
  },
  {
   "cell_type": "code",
   "execution_count": 23,
   "metadata": {},
   "outputs": [],
   "source": [
    "# test_idx = np.random.choice(idx_genomes, num_test, replace=False)\n",
    "# train_idx = list(set(idx_genomes) - set(test_idx))"
   ]
  },
  {
   "cell_type": "code",
   "execution_count": 24,
   "metadata": {},
   "outputs": [],
   "source": [
    "# a = X[train_idx]"
   ]
  },
  {
   "cell_type": "code",
   "execution_count": 25,
   "metadata": {},
   "outputs": [],
   "source": [
    "# a.shape"
   ]
  },
  {
   "cell_type": "code",
   "execution_count": 26,
   "metadata": {},
   "outputs": [],
   "source": [
    "# train_set = train_dl[0]\n",
    "# cv_set = train_dl[1]"
   ]
  },
  {
   "cell_type": "code",
   "execution_count": null,
   "metadata": {},
   "outputs": [],
   "source": []
  },
  {
   "cell_type": "markdown",
   "metadata": {},
   "source": [
    "### Define and train network"
   ]
  },
  {
   "cell_type": "code",
   "execution_count": 27,
   "metadata": {},
   "outputs": [
    {
     "data": {
      "text/plain": [
       "14130"
      ]
     },
     "execution_count": 27,
     "metadata": {},
     "output_type": "execute_result"
    }
   ],
   "source": [
    "train_data.shape[1]"
   ]
  },
  {
   "cell_type": "code",
   "execution_count": 28,
   "metadata": {},
   "outputs": [],
   "source": [
    "num_features = int(train_data.shape[1]/2) # Number of features in the entire dataset (train + test)"
   ]
  },
  {
   "cell_type": "code",
   "execution_count": 29,
   "metadata": {},
   "outputs": [
    {
     "name": "stdout",
     "output_type": "stream",
     "text": [
      "AutoEncoder(\n",
      "  (layers): ModuleList(\n",
      "    (0): Linear(in_features=7065, out_features=3532, bias=True)\n",
      "    (1): Linear(in_features=3532, out_features=1766, bias=True)\n",
      "    (2): Linear(in_features=1766, out_features=1177, bias=True)\n",
      "    (3): Linear(in_features=1177, out_features=883, bias=True)\n",
      "    (4): Linear(in_features=883, out_features=706, bias=True)\n",
      "    (5): Linear(in_features=706, out_features=588, bias=True)\n",
      "    (6): Linear(in_features=588, out_features=706, bias=True)\n",
      "    (7): Linear(in_features=706, out_features=883, bias=True)\n",
      "    (8): Linear(in_features=883, out_features=1177, bias=True)\n",
      "    (9): Linear(in_features=1177, out_features=1766, bias=True)\n",
      "    (10): Linear(in_features=1766, out_features=3532, bias=True)\n",
      "    (11): Linear(in_features=3532, out_features=7065, bias=True)\n",
      "  )\n",
      ")\n"
     ]
    }
   ],
   "source": [
    "# define the network\n",
    "model = models.AutoEncoder(num_features, 12)\n",
    "print(model)"
   ]
  },
  {
   "cell_type": "code",
   "execution_count": 30,
   "metadata": {},
   "outputs": [],
   "source": [
    "train_vars = {\"batch_size\": 32, #tune.grid_search([32, 64]), # [32, 64, 128, 256]\n",
    "              \"num_epochs\": flags.num_epochs,\n",
    "              \"replacement_threshold\": flags.replacement_threshold,\n",
    "              \"kfolds\": flags.kfolds,\n",
    "              \"lr\": 0.1, #tune.grid_search([0.1, 0.0001]),\n",
    "              \"weight_decay\": 0.01, #tune.grid_search([0.01, 0.00001]),\n",
    "              \"nn_layers\": tune.grid_search([6,8])\n",
    "}"
   ]
  },
  {
   "cell_type": "code",
   "execution_count": 31,
   "metadata": {},
   "outputs": [
    {
     "data": {
      "text/plain": [
       "3"
      ]
     },
     "execution_count": 31,
     "metadata": {},
     "output_type": "execute_result"
    }
   ],
   "source": [
    "flags.num_epochs"
   ]
  },
  {
   "cell_type": "code",
   "execution_count": 32,
   "metadata": {},
   "outputs": [
    {
     "name": "stderr",
     "output_type": "stream",
     "text": [
      "2020-07-08 16:11:58,933\tINFO resource_spec.py:212 -- Starting Ray with 9.28 GiB memory available for workers and up to 4.66 GiB for objects. You can adjust these settings with ray.init(memory=<bytes>, object_store_memory=<bytes>).\n",
      "2020-07-08 16:11:59,311\tINFO services.py:1170 -- View the Ray dashboard at \u001b[1m\u001b[32mlocalhost:8265\u001b[39m\u001b[22m\n"
     ]
    },
    {
     "data": {
      "text/plain": [
       "{'node_ip_address': '192.168.2.23',\n",
       " 'raylet_ip_address': '192.168.2.23',\n",
       " 'redis_address': '192.168.2.23:13834',\n",
       " 'object_store_address': '/tmp/ray/session_2020-07-08_16-11-58_845580_57626/sockets/plasma_store',\n",
       " 'raylet_socket_name': '/tmp/ray/session_2020-07-08_16-11-58_845580_57626/sockets/raylet',\n",
       " 'webui_url': 'localhost:8265',\n",
       " 'session_dir': '/tmp/ray/session_2020-07-08_16-11-58_845580_57626'}"
      ]
     },
     "execution_count": 32,
     "metadata": {},
     "output_type": "execute_result"
    }
   ],
   "source": [
    "ray.shutdown()\n",
    "ray.init(local_mode=True)"
   ]
  },
  {
   "cell_type": "code",
   "execution_count": 33,
   "metadata": {},
   "outputs": [
    {
     "name": "stderr",
     "output_type": "stream",
     "text": [
      "2020-07-08 16:12:00,174\tINFO trainable.py:217 -- Getting current IP.\n"
     ]
    },
    {
     "name": "stdout",
     "output_type": "stream",
     "text": [
      "batch_size 32\n"
     ]
    },
    {
     "name": "stderr",
     "output_type": "stream",
     "text": [
      "2020-07-08 16:12:14,360\tWARNING util.py:137 -- The `start_trial` operation took 14.4151029586792 seconds to complete, which may be a performance bottleneck.\n"
     ]
    },
    {
     "name": "stdout",
     "output_type": "stream",
     "text": [
      "f1 0.5908411881364808\n"
     ]
    },
    {
     "data": {
      "text/html": [
       "== Status ==<br>Memory usage on this node: 18.7/32.0 GiB<br>Using FIFO scheduling algorithm.<br>Resources requested: 2/12 CPUs, 0/0 GPUs, 0.0/9.28 GiB heap, 0.0/3.17 GiB objects<br>Result logdir: /Users/natasha/ray_results/exp_1<br>Number of trials: 2 (1 PENDING, 1 RUNNING)<br><table>\n",
       "<thead>\n",
       "<tr><th>Trial name    </th><th>status  </th><th>loc  </th><th style=\"text-align: right;\">  nn_layers</th></tr>\n",
       "</thead>\n",
       "<tbody>\n",
       "<tr><td>train_AE_00000</td><td>RUNNING </td><td>     </td><td style=\"text-align: right;\">          6</td></tr>\n",
       "<tr><td>train_AE_00001</td><td>PENDING </td><td>     </td><td style=\"text-align: right;\">          8</td></tr>\n",
       "</tbody>\n",
       "</table><br><br>"
      ],
      "text/plain": [
       "<IPython.core.display.HTML object>"
      ]
     },
     "metadata": {},
     "output_type": "display_data"
    },
    {
     "name": "stderr",
     "output_type": "stream",
     "text": [
      "2020-07-08 16:12:14,373\tINFO trainable.py:217 -- Getting current IP.\n"
     ]
    },
    {
     "name": "stdout",
     "output_type": "stream",
     "text": [
      "batch_size 32\n"
     ]
    },
    {
     "name": "stderr",
     "output_type": "stream",
     "text": [
      "2020-07-08 16:12:28,734\tWARNING util.py:137 -- The `start_trial` operation took 14.3672513961792 seconds to complete, which may be a performance bottleneck.\n"
     ]
    },
    {
     "name": "stdout",
     "output_type": "stream",
     "text": [
      "f1 0.6138039181430186\n"
     ]
    },
    {
     "data": {
      "text/html": [
       "== Status ==<br>Memory usage on this node: 17.9/32.0 GiB<br>Using FIFO scheduling algorithm.<br>Resources requested: 4/12 CPUs, 0/0 GPUs, 0.0/9.28 GiB heap, 0.0/3.17 GiB objects<br>Result logdir: /Users/natasha/ray_results/exp_1<br>Number of trials: 2 (2 RUNNING)<br><table>\n",
       "<thead>\n",
       "<tr><th>Trial name    </th><th>status  </th><th>loc  </th><th style=\"text-align: right;\">  nn_layers</th></tr>\n",
       "</thead>\n",
       "<tbody>\n",
       "<tr><td>train_AE_00000</td><td>RUNNING </td><td>     </td><td style=\"text-align: right;\">          6</td></tr>\n",
       "<tr><td>train_AE_00001</td><td>RUNNING </td><td>     </td><td style=\"text-align: right;\">          8</td></tr>\n",
       "</tbody>\n",
       "</table><br><br>"
      ],
      "text/plain": [
       "<IPython.core.display.HTML object>"
      ]
     },
     "metadata": {},
     "output_type": "display_data"
    },
    {
     "name": "stdout",
     "output_type": "stream",
     "text": [
      "Result for train_AE_00001:\n",
      "  date: 2020-07-08_16-12-28\n",
      "  done: false\n",
      "  experiment_id: 4195250e483c4de8aa920fe08748fbb1\n",
      "  experiment_tag: 1_nn_layers=8\n",
      "  hostname: natashas-MacBook-Pro.local\n",
      "  iterations_since_restore: 1\n",
      "  node_ip: 192.168.2.23\n",
      "  pid: 57626\n",
      "  test_f1: 0.6138039181430186\n",
      "  test_loss: 2839100.0\n",
      "  time_since_restore: 14.359586715698242\n",
      "  time_this_iter_s: 14.359586715698242\n",
      "  time_total_s: 14.359586715698242\n",
      "  timestamp: 1594239148\n",
      "  timesteps_since_restore: 0\n",
      "  train_f1: 0.29146366635888615\n",
      "  train_loss: 156720.0625\n",
      "  training_iteration: 1\n",
      "  trial_id: '00001'\n",
      "  \n"
     ]
    },
    {
     "name": "stderr",
     "output_type": "stream",
     "text": [
      "2020-07-08 16:12:29,740\tWARNING util.py:137 -- The `process_trial` operation took 1.0025100708007812 seconds to complete, which may be a performance bottleneck.\n"
     ]
    },
    {
     "name": "stdout",
     "output_type": "stream",
     "text": [
      "f1 0.5783558445397116\n",
      "Result for train_AE_00000:\n",
      "  date: 2020-07-08_16-12-14\n",
      "  done: false\n",
      "  experiment_id: 6516151da6434f718cb74544cb9f43b5\n",
      "  experiment_tag: 0_nn_layers=6\n",
      "  hostname: natashas-MacBook-Pro.local\n",
      "  iterations_since_restore: 1\n",
      "  node_ip: 192.168.2.23\n",
      "  pid: 57626\n",
      "  test_f1: 0.5908411881364808\n",
      "  test_loss: 2911100.0\n",
      "  time_since_restore: 14.183434963226318\n",
      "  time_this_iter_s: 14.183434963226318\n",
      "  time_total_s: 14.183434963226318\n",
      "  timestamp: 1594239134\n",
      "  timesteps_since_restore: 0\n",
      "  train_f1: 0.270381813383025\n",
      "  train_loss: 156723.65625\n",
      "  training_iteration: 1\n",
      "  trial_id: '00000'\n",
      "  \n"
     ]
    },
    {
     "name": "stderr",
     "output_type": "stream",
     "text": [
      "2020-07-08 16:12:31,437\tWARNING util.py:137 -- The `process_trial` operation took 1.695084810256958 seconds to complete, which may be a performance bottleneck.\n"
     ]
    },
    {
     "name": "stdout",
     "output_type": "stream",
     "text": [
      "f1 0.5914477265491866\n"
     ]
    },
    {
     "name": "stderr",
     "output_type": "stream",
     "text": [
      "2020-07-08 16:12:32,777\tWARNING util.py:137 -- The `process_trial` operation took 1.3386139869689941 seconds to complete, which may be a performance bottleneck.\n"
     ]
    },
    {
     "name": "stdout",
     "output_type": "stream",
     "text": [
      "f1 0.5832961610463021\n"
     ]
    },
    {
     "name": "stderr",
     "output_type": "stream",
     "text": [
      "2020-07-08 16:12:33,968\tWARNING util.py:137 -- The `process_trial` operation took 1.1902520656585693 seconds to complete, which may be a performance bottleneck.\n"
     ]
    },
    {
     "name": "stdout",
     "output_type": "stream",
     "text": [
      "f1 0.5793164613804218\n"
     ]
    },
    {
     "data": {
      "text/html": [
       "== Status ==<br>Memory usage on this node: 17.9/32.0 GiB<br>Using FIFO scheduling algorithm.<br>Resources requested: 4/12 CPUs, 0/0 GPUs, 0.0/9.28 GiB heap, 0.0/3.17 GiB objects<br>Result logdir: /Users/natasha/ray_results/exp_1<br>Number of trials: 2 (2 RUNNING)<br><table>\n",
       "<thead>\n",
       "<tr><th>Trial name    </th><th>status  </th><th>loc               </th><th style=\"text-align: right;\">  nn_layers</th><th style=\"text-align: right;\">  iter</th><th style=\"text-align: right;\">  total time (s)</th></tr>\n",
       "</thead>\n",
       "<tbody>\n",
       "<tr><td>train_AE_00000</td><td>RUNNING </td><td>192.168.2.23:57626</td><td style=\"text-align: right;\">          6</td><td style=\"text-align: right;\">     1</td><td style=\"text-align: right;\">         14.1834</td></tr>\n",
       "<tr><td>train_AE_00001</td><td>RUNNING </td><td>192.168.2.23:57626</td><td style=\"text-align: right;\">          8</td><td style=\"text-align: right;\">     3</td><td style=\"text-align: right;\">         18.4022</td></tr>\n",
       "</tbody>\n",
       "</table><br><br>"
      ],
      "text/plain": [
       "<IPython.core.display.HTML object>"
      ]
     },
     "metadata": {},
     "output_type": "display_data"
    },
    {
     "name": "stdout",
     "output_type": "stream",
     "text": [
      "Result for train_AE_00001:\n",
      "  date: 2020-07-08_16-12-33\n",
      "  done: false\n",
      "  experiment_id: 4195250e483c4de8aa920fe08748fbb1\n",
      "  experiment_tag: 1_nn_layers=8\n",
      "  hostname: natashas-MacBook-Pro.local\n",
      "  iterations_since_restore: 4\n",
      "  node_ip: 192.168.2.23\n",
      "  pid: 57626\n",
      "  test_f1: 0.5793164613804218\n",
      "  test_loss: 3427700.0\n",
      "  time_since_restore: 19.59365177154541\n",
      "  time_this_iter_s: 1.1914961338043213\n",
      "  time_total_s: 19.59365177154541\n",
      "  timestamp: 1594239153\n",
      "  timesteps_since_restore: 0\n",
      "  train_f1: 0.5977718423650157\n",
      "  train_loss: 3262200.0\n",
      "  training_iteration: 4\n",
      "  trial_id: '00001'\n",
      "  \n"
     ]
    },
    {
     "name": "stderr",
     "output_type": "stream",
     "text": [
      "2020-07-08 16:12:35,246\tWARNING util.py:137 -- The `process_trial` operation took 1.2742767333984375 seconds to complete, which may be a performance bottleneck.\n"
     ]
    },
    {
     "name": "stdout",
     "output_type": "stream",
     "text": [
      "f1 0.5930084951804879\n"
     ]
    },
    {
     "name": "stderr",
     "output_type": "stream",
     "text": [
      "2020-07-08 16:12:36,466\tWARNING util.py:137 -- The `process_trial` operation took 1.2188599109649658 seconds to complete, which may be a performance bottleneck.\n"
     ]
    },
    {
     "name": "stdout",
     "output_type": "stream",
     "text": [
      "f1 0.5846415975449378\n",
      "Result for train_AE_00000:\n",
      "  date: 2020-07-08_16-12-31\n",
      "  done: false\n",
      "  experiment_id: 6516151da6434f718cb74544cb9f43b5\n",
      "  experiment_tag: 0_nn_layers=6\n",
      "  hostname: natashas-MacBook-Pro.local\n",
      "  iterations_since_restore: 2\n",
      "  node_ip: 192.168.2.23\n",
      "  pid: 57626\n",
      "  test_f1: 0.5914477265491866\n",
      "  test_loss: 3031700.0\n",
      "  time_since_restore: 31.260090827941895\n",
      "  time_this_iter_s: 17.076655864715576\n",
      "  time_total_s: 31.260090827941895\n",
      "  timestamp: 1594239151\n",
      "  timesteps_since_restore: 0\n",
      "  train_f1: 0.5939277678032253\n",
      "  train_loss: 2948900.0\n",
      "  training_iteration: 2\n",
      "  trial_id: '00000'\n",
      "  \n"
     ]
    },
    {
     "name": "stderr",
     "output_type": "stream",
     "text": [
      "2020-07-08 16:12:37,721\tWARNING util.py:137 -- The `process_trial` operation took 1.254206895828247 seconds to complete, which may be a performance bottleneck.\n"
     ]
    },
    {
     "name": "stdout",
     "output_type": "stream",
     "text": [
      "f1 0.5758323245628215\n"
     ]
    },
    {
     "name": "stderr",
     "output_type": "stream",
     "text": [
      "2020-07-08 16:12:38,969\tWARNING util.py:137 -- The `process_trial` operation took 1.2467331886291504 seconds to complete, which may be a performance bottleneck.\n"
     ]
    },
    {
     "name": "stdout",
     "output_type": "stream",
     "text": [
      "f1 0.5888671968901893\n"
     ]
    },
    {
     "data": {
      "text/html": [
       "== Status ==<br>Memory usage on this node: 17.7/32.0 GiB<br>Using FIFO scheduling algorithm.<br>Resources requested: 4/12 CPUs, 0/0 GPUs, 0.0/9.28 GiB heap, 0.0/3.17 GiB objects<br>Result logdir: /Users/natasha/ray_results/exp_1<br>Number of trials: 2 (2 RUNNING)<br><table>\n",
       "<thead>\n",
       "<tr><th>Trial name    </th><th>status  </th><th>loc               </th><th style=\"text-align: right;\">  nn_layers</th><th style=\"text-align: right;\">  iter</th><th style=\"text-align: right;\">  total time (s)</th></tr>\n",
       "</thead>\n",
       "<tbody>\n",
       "<tr><td>train_AE_00000</td><td>RUNNING </td><td>192.168.2.23:57626</td><td style=\"text-align: right;\">          6</td><td style=\"text-align: right;\">     3</td><td style=\"text-align: right;\">         37.5449</td></tr>\n",
       "<tr><td>train_AE_00001</td><td>RUNNING </td><td>192.168.2.23:57626</td><td style=\"text-align: right;\">          8</td><td style=\"text-align: right;\">     5</td><td style=\"text-align: right;\">         20.8713</td></tr>\n",
       "</tbody>\n",
       "</table><br><br>"
      ],
      "text/plain": [
       "<IPython.core.display.HTML object>"
      ]
     },
     "metadata": {},
     "output_type": "display_data"
    },
    {
     "name": "stderr",
     "output_type": "stream",
     "text": [
      "2020-07-08 16:12:40,120\tWARNING util.py:137 -- The `process_trial` operation took 1.142765760421753 seconds to complete, which may be a performance bottleneck.\n"
     ]
    },
    {
     "name": "stdout",
     "output_type": "stream",
     "text": [
      "f1 0.5673226757209927\n"
     ]
    },
    {
     "name": "stderr",
     "output_type": "stream",
     "text": [
      "2020-07-08 16:12:41,399\tWARNING util.py:137 -- The `process_trial` operation took 1.2769451141357422 seconds to complete, which may be a performance bottleneck.\n"
     ]
    },
    {
     "name": "stdout",
     "output_type": "stream",
     "text": [
      "f1 0.5907085308321477\n"
     ]
    },
    {
     "name": "stderr",
     "output_type": "stream",
     "text": [
      "2020-07-08 16:12:42,649\tWARNING util.py:137 -- The `process_trial` operation took 1.2490530014038086 seconds to complete, which may be a performance bottleneck.\n"
     ]
    },
    {
     "name": "stdout",
     "output_type": "stream",
     "text": [
      "f1 0.5703123819349821\n",
      "Result for train_AE_00001:\n",
      "  date: 2020-07-08_16-12-36\n",
      "  done: false\n",
      "  experiment_id: 4195250e483c4de8aa920fe08748fbb1\n",
      "  experiment_tag: 1_nn_layers=8\n",
      "  hostname: natashas-MacBook-Pro.local\n",
      "  iterations_since_restore: 6\n",
      "  node_ip: 192.168.2.23\n",
      "  pid: 57626\n",
      "  test_f1: 0.5846415975449378\n",
      "  test_loss: 3011100.0\n",
      "  time_since_restore: 22.0913028717041\n",
      "  time_this_iter_s: 1.2199912071228027\n",
      "  time_total_s: 22.0913028717041\n",
      "  timestamp: 1594239156\n",
      "  timesteps_since_restore: 0\n",
      "  train_f1: 0.5914143198203783\n",
      "  train_loss: 3107800.0\n",
      "  training_iteration: 6\n",
      "  trial_id: '00001'\n",
      "  \n"
     ]
    },
    {
     "name": "stderr",
     "output_type": "stream",
     "text": [
      "2020-07-08 16:12:43,711\tWARNING util.py:137 -- The `process_trial` operation took 1.0605039596557617 seconds to complete, which may be a performance bottleneck.\n"
     ]
    },
    {
     "name": "stdout",
     "output_type": "stream",
     "text": [
      "f1 0.6003393589757587\n",
      "Result for train_AE_00000:\n",
      "  date: 2020-07-08_16-12-42\n",
      "  done: false\n",
      "  experiment_id: 6516151da6434f718cb74544cb9f43b5\n",
      "  experiment_tag: 0_nn_layers=6\n",
      "  hostname: natashas-MacBook-Pro.local\n",
      "  iterations_since_restore: 7\n",
      "  node_ip: 192.168.2.23\n",
      "  pid: 57626\n",
      "  test_f1: 0.5703123819349821\n",
      "  test_loss: 3262800.0\n",
      "  time_since_restore: 42.47246479988098\n",
      "  time_this_iter_s: 1.2501728534698486\n",
      "  time_total_s: 42.47246479988098\n",
      "  timestamp: 1594239162\n",
      "  timesteps_since_restore: 0\n",
      "  train_f1: 0.5786245498564117\n",
      "  train_loss: 3205400.0\n",
      "  training_iteration: 7\n",
      "  trial_id: '00000'\n",
      "  \n"
     ]
    },
    {
     "name": "stderr",
     "output_type": "stream",
     "text": [
      "2020-07-08 16:12:45,014\tWARNING util.py:137 -- The `process_trial` operation took 1.302044153213501 seconds to complete, which may be a performance bottleneck.\n"
     ]
    },
    {
     "name": "stdout",
     "output_type": "stream",
     "text": [
      "f1 0.5829882779072016\n"
     ]
    },
    {
     "data": {
      "text/html": [
       "== Status ==<br>Memory usage on this node: 17.9/32.0 GiB<br>Using FIFO scheduling algorithm.<br>Resources requested: 4/12 CPUs, 0/0 GPUs, 0.0/9.28 GiB heap, 0.0/3.17 GiB objects<br>Result logdir: /Users/natasha/ray_results/exp_1<br>Number of trials: 2 (2 RUNNING)<br><table>\n",
       "<thead>\n",
       "<tr><th>Trial name    </th><th>status  </th><th>loc               </th><th style=\"text-align: right;\">  nn_layers</th><th style=\"text-align: right;\">  iter</th><th style=\"text-align: right;\">  total time (s)</th></tr>\n",
       "</thead>\n",
       "<tbody>\n",
       "<tr><td>train_AE_00000</td><td>RUNNING </td><td>192.168.2.23:57626</td><td style=\"text-align: right;\">          6</td><td style=\"text-align: right;\">     7</td><td style=\"text-align: right;\">         42.4725</td></tr>\n",
       "<tr><td>train_AE_00001</td><td>RUNNING </td><td>192.168.2.23:57626</td><td style=\"text-align: right;\">          8</td><td style=\"text-align: right;\">     6</td><td style=\"text-align: right;\">         22.0913</td></tr>\n",
       "</tbody>\n",
       "</table><br><br>"
      ],
      "text/plain": [
       "<IPython.core.display.HTML object>"
      ]
     },
     "metadata": {},
     "output_type": "display_data"
    },
    {
     "name": "stderr",
     "output_type": "stream",
     "text": [
      "2020-07-08 16:12:46,092\tWARNING util.py:137 -- The `process_trial` operation took 1.0742700099945068 seconds to complete, which may be a performance bottleneck.\n"
     ]
    },
    {
     "name": "stdout",
     "output_type": "stream",
     "text": [
      "f1 0.5788672391763937\n"
     ]
    },
    {
     "name": "stderr",
     "output_type": "stream",
     "text": [
      "2020-07-08 16:12:47,336\tWARNING util.py:137 -- The `process_trial` operation took 1.2434191703796387 seconds to complete, which may be a performance bottleneck.\n"
     ]
    },
    {
     "name": "stdout",
     "output_type": "stream",
     "text": [
      "f1 0.5962723582061041\n"
     ]
    },
    {
     "name": "stderr",
     "output_type": "stream",
     "text": [
      "2020-07-08 16:12:48,281\tWARNING util.py:137 -- The `process_trial` operation took 0.9436218738555908 seconds to complete, which may be a performance bottleneck.\n"
     ]
    },
    {
     "name": "stdout",
     "output_type": "stream",
     "text": [
      "f1 0.6004625244857115\n",
      "Result for train_AE_00001:\n",
      "  date: 2020-07-08_16-12-48\n",
      "  done: false\n",
      "  experiment_id: 4195250e483c4de8aa920fe08748fbb1\n",
      "  experiment_tag: 1_nn_layers=8\n",
      "  hostname: natashas-MacBook-Pro.local\n",
      "  iterations_since_restore: 8\n",
      "  node_ip: 192.168.2.23\n",
      "  pid: 57626\n",
      "  test_f1: 0.6004625244857115\n",
      "  test_loss: 3207300.0\n",
      "  time_since_restore: 33.906495809555054\n",
      "  time_this_iter_s: 4.570137977600098\n",
      "  time_total_s: 33.906495809555054\n",
      "  timestamp: 1594239168\n",
      "  timesteps_since_restore: 0\n",
      "  train_f1: 0.5911820921945767\n",
      "  train_loss: 3117000.0\n",
      "  training_iteration: 8\n",
      "  trial_id: '00001'\n",
      "  \n"
     ]
    },
    {
     "name": "stderr",
     "output_type": "stream",
     "text": [
      "2020-07-08 16:12:49,553\tWARNING util.py:137 -- The `process_trial` operation took 1.2708680629730225 seconds to complete, which may be a performance bottleneck.\n"
     ]
    },
    {
     "name": "stdout",
     "output_type": "stream",
     "text": [
      "f1 0.6065330833912594\n"
     ]
    },
    {
     "name": "stderr",
     "output_type": "stream",
     "text": [
      "2020-07-08 16:12:50,801\tWARNING util.py:137 -- The `process_trial` operation took 1.2405140399932861 seconds to complete, which may be a performance bottleneck.\n"
     ]
    },
    {
     "name": "stdout",
     "output_type": "stream",
     "text": [
      "f1 0.5874787816785326\n"
     ]
    },
    {
     "data": {
      "text/html": [
       "== Status ==<br>Memory usage on this node: 18.0/32.0 GiB<br>Using FIFO scheduling algorithm.<br>Resources requested: 4/12 CPUs, 0/0 GPUs, 0.0/9.28 GiB heap, 0.0/3.17 GiB objects<br>Result logdir: /Users/natasha/ray_results/exp_1<br>Number of trials: 2 (2 RUNNING)<br><table>\n",
       "<thead>\n",
       "<tr><th>Trial name    </th><th>status  </th><th>loc               </th><th style=\"text-align: right;\">  nn_layers</th><th style=\"text-align: right;\">  iter</th><th style=\"text-align: right;\">  total time (s)</th></tr>\n",
       "</thead>\n",
       "<tbody>\n",
       "<tr><td>train_AE_00000</td><td>RUNNING </td><td>192.168.2.23:57626</td><td style=\"text-align: right;\">          6</td><td style=\"text-align: right;\">     9</td><td style=\"text-align: right;\">         45.9153</td></tr>\n",
       "<tr><td>train_AE_00001</td><td>RUNNING </td><td>192.168.2.23:57626</td><td style=\"text-align: right;\">          8</td><td style=\"text-align: right;\">     9</td><td style=\"text-align: right;\">         35.1787</td></tr>\n",
       "</tbody>\n",
       "</table><br><br>"
      ],
      "text/plain": [
       "<IPython.core.display.HTML object>"
      ]
     },
     "metadata": {},
     "output_type": "display_data"
    },
    {
     "name": "stdout",
     "output_type": "stream",
     "text": [
      "Result for train_AE_00000:\n",
      "  date: 2020-07-08_16-12-47\n",
      "  done: false\n",
      "  experiment_id: 6516151da6434f718cb74544cb9f43b5\n",
      "  experiment_tag: 0_nn_layers=6\n",
      "  hostname: natashas-MacBook-Pro.local\n",
      "  iterations_since_restore: 10\n",
      "  node_ip: 192.168.2.23\n",
      "  pid: 57626\n",
      "  test_f1: 0.5962723582061041\n",
      "  test_loss: 3118000.0\n",
      "  time_since_restore: 47.15982270240784\n",
      "  time_this_iter_s: 1.2445058822631836\n",
      "  time_total_s: 47.15982270240784\n",
      "  timestamp: 1594239167\n",
      "  timesteps_since_restore: 0\n",
      "  train_f1: 0.5725013134956739\n",
      "  train_loss: 2977500.0\n",
      "  training_iteration: 10\n",
      "  trial_id: '00000'\n",
      "  \n"
     ]
    },
    {
     "name": "stderr",
     "output_type": "stream",
     "text": [
      "2020-07-08 16:12:51,873\tWARNING util.py:137 -- The `process_trial` operation took 1.0679402351379395 seconds to complete, which may be a performance bottleneck.\n"
     ]
    },
    {
     "name": "stdout",
     "output_type": "stream",
     "text": [
      "f1 0.5802379659021046\n"
     ]
    },
    {
     "name": "stderr",
     "output_type": "stream",
     "text": [
      "2020-07-08 16:12:52,876\tWARNING util.py:137 -- The `process_trial` operation took 1.002263069152832 seconds to complete, which may be a performance bottleneck.\n"
     ]
    },
    {
     "name": "stdout",
     "output_type": "stream",
     "text": [
      "f1 0.6077244648415059\n"
     ]
    },
    {
     "name": "stderr",
     "output_type": "stream",
     "text": [
      "2020-07-08 16:12:54,049\tWARNING util.py:137 -- The `process_trial` operation took 1.1714630126953125 seconds to complete, which may be a performance bottleneck.\n"
     ]
    },
    {
     "name": "stdout",
     "output_type": "stream",
     "text": [
      "f1 0.5887198769037788\n",
      "Result for train_AE_00001:\n",
      "  date: 2020-07-08_16-12-52\n",
      "  done: false\n",
      "  experiment_id: 4195250e483c4de8aa920fe08748fbb1\n",
      "  experiment_tag: 1_nn_layers=8\n",
      "  hostname: natashas-MacBook-Pro.local\n",
      "  iterations_since_restore: 11\n",
      "  node_ip: 192.168.2.23\n",
      "  pid: 57626\n",
      "  test_f1: 0.6077244648415059\n",
      "  test_loss: 3008500.0\n",
      "  time_since_restore: 38.5017569065094\n",
      "  time_this_iter_s: 2.0748941898345947\n",
      "  time_total_s: 38.5017569065094\n",
      "  timestamp: 1594239172\n",
      "  timesteps_since_restore: 0\n",
      "  train_f1: 0.5805978299797494\n",
      "  train_loss: 3345900.0\n",
      "  training_iteration: 11\n",
      "  trial_id: '00001'\n",
      "  \n"
     ]
    },
    {
     "name": "stderr",
     "output_type": "stream",
     "text": [
      "2020-07-08 16:12:55,714\tWARNING util.py:137 -- The `process_trial` operation took 1.1851089000701904 seconds to complete, which may be a performance bottleneck.\n"
     ]
    },
    {
     "name": "stdout",
     "output_type": "stream",
     "text": [
      "f1 0.5835981333773005\n"
     ]
    },
    {
     "name": "stderr",
     "output_type": "stream",
     "text": [
      "2020-07-08 16:12:56,740\tWARNING util.py:137 -- The `process_trial` operation took 1.0249650478363037 seconds to complete, which may be a performance bottleneck.\n"
     ]
    },
    {
     "data": {
      "text/html": [
       "== Status ==<br>Memory usage on this node: 13.1/32.0 GiB<br>Using FIFO scheduling algorithm.<br>Resources requested: 2/12 CPUs, 0/0 GPUs, 0.0/9.28 GiB heap, 0.0/3.17 GiB objects<br>Result logdir: /Users/natasha/ray_results/exp_1<br>Number of trials: 2 (1 RUNNING, 1 TERMINATED)<br><table>\n",
       "<thead>\n",
       "<tr><th>Trial name    </th><th>status    </th><th>loc               </th><th style=\"text-align: right;\">  nn_layers</th><th style=\"text-align: right;\">  iter</th><th style=\"text-align: right;\">  total time (s)</th></tr>\n",
       "</thead>\n",
       "<tbody>\n",
       "<tr><td>train_AE_00000</td><td>TERMINATED</td><td>                  </td><td style=\"text-align: right;\">          6</td><td style=\"text-align: right;\">    12</td><td style=\"text-align: right;\">         53.8726</td></tr>\n",
       "<tr><td>train_AE_00001</td><td>RUNNING   </td><td>192.168.2.23:57626</td><td style=\"text-align: right;\">          8</td><td style=\"text-align: right;\">    12</td><td style=\"text-align: right;\">         41.3398</td></tr>\n",
       "</tbody>\n",
       "</table><br><br>"
      ],
      "text/plain": [
       "<IPython.core.display.HTML object>"
      ]
     },
     "metadata": {},
     "output_type": "display_data"
    },
    {
     "data": {
      "text/html": [
       "== Status ==<br>Memory usage on this node: 13.1/32.0 GiB<br>Using FIFO scheduling algorithm.<br>Resources requested: 0/12 CPUs, 0/0 GPUs, 0.0/9.28 GiB heap, 0.0/3.17 GiB objects<br>Result logdir: /Users/natasha/ray_results/exp_1<br>Number of trials: 2 (2 TERMINATED)<br><table>\n",
       "<thead>\n",
       "<tr><th>Trial name    </th><th>status    </th><th>loc  </th><th style=\"text-align: right;\">  nn_layers</th><th style=\"text-align: right;\">  iter</th><th style=\"text-align: right;\">  total time (s)</th></tr>\n",
       "</thead>\n",
       "<tbody>\n",
       "<tr><td>train_AE_00000</td><td>TERMINATED</td><td>     </td><td style=\"text-align: right;\">          6</td><td style=\"text-align: right;\">    12</td><td style=\"text-align: right;\">         53.8726</td></tr>\n",
       "<tr><td>train_AE_00001</td><td>TERMINATED</td><td>     </td><td style=\"text-align: right;\">          8</td><td style=\"text-align: right;\">    12</td><td style=\"text-align: right;\">         41.3398</td></tr>\n",
       "</tbody>\n",
       "</table><br><br>"
      ],
      "text/plain": [
       "<IPython.core.display.HTML object>"
      ]
     },
     "metadata": {},
     "output_type": "display_data"
    },
    {
     "name": "stdout",
     "output_type": "stream",
     "text": [
      "Best config is: {'batch_size': 32, 'num_epochs': 3, 'replacement_threshold': 0.5, 'kfolds': 10, 'lr': 0.1, 'weight_decay': 0.01, 'nn_layers': 8}\n"
     ]
    }
   ],
   "source": [
    "analysis = tune.run(\n",
    "    trainable.train_AE, \n",
    "    name=\"exp_1\",\n",
    "    config=train_vars, \n",
    "    verbose=2, \n",
    "    resources_per_trial={\n",
    "            \"cpu\": 2,\n",
    "            \"gpu\": 0\n",
    "    },\n",
    "    num_samples=1)\n",
    "\n",
    "print(\"Best config is:\", analysis.get_best_config(metric=\"test_f1\"))"
   ]
  },
  {
   "cell_type": "code",
   "execution_count": 34,
   "metadata": {},
   "outputs": [
    {
     "data": {
      "text/html": [
       "<div>\n",
       "<style scoped>\n",
       "    .dataframe tbody tr th:only-of-type {\n",
       "        vertical-align: middle;\n",
       "    }\n",
       "\n",
       "    .dataframe tbody tr th {\n",
       "        vertical-align: top;\n",
       "    }\n",
       "\n",
       "    .dataframe thead th {\n",
       "        text-align: right;\n",
       "    }\n",
       "</style>\n",
       "<table border=\"1\" class=\"dataframe\">\n",
       "  <thead>\n",
       "    <tr style=\"text-align: right;\">\n",
       "      <th></th>\n",
       "      <th>test_f1</th>\n",
       "      <th>train_f1</th>\n",
       "      <th>test_loss</th>\n",
       "      <th>train_loss</th>\n",
       "      <th>time_this_iter_s</th>\n",
       "      <th>done</th>\n",
       "      <th>timesteps_total</th>\n",
       "      <th>episodes_total</th>\n",
       "      <th>training_iteration</th>\n",
       "      <th>experiment_id</th>\n",
       "      <th>...</th>\n",
       "      <th>trial_id</th>\n",
       "      <th>experiment_tag</th>\n",
       "      <th>config/batch_size</th>\n",
       "      <th>config/kfolds</th>\n",
       "      <th>config/lr</th>\n",
       "      <th>config/nn_layers</th>\n",
       "      <th>config/num_epochs</th>\n",
       "      <th>config/replacement_threshold</th>\n",
       "      <th>config/weight_decay</th>\n",
       "      <th>logdir</th>\n",
       "    </tr>\n",
       "  </thead>\n",
       "  <tbody>\n",
       "    <tr>\n",
       "      <th>0</th>\n",
       "      <td>0.588720</td>\n",
       "      <td>0.581771</td>\n",
       "      <td>2953000.0</td>\n",
       "      <td>3189900.0</td>\n",
       "      <td>2.176416</td>\n",
       "      <td>False</td>\n",
       "      <td>NaN</td>\n",
       "      <td>NaN</td>\n",
       "      <td>12</td>\n",
       "      <td>6516151da6434f718cb74544cb9f43b5</td>\n",
       "      <td>...</td>\n",
       "      <td>0</td>\n",
       "      <td>0_nn_layers=6</td>\n",
       "      <td>32</td>\n",
       "      <td>10</td>\n",
       "      <td>0.1</td>\n",
       "      <td>6</td>\n",
       "      <td>3</td>\n",
       "      <td>0.5</td>\n",
       "      <td>0.01</td>\n",
       "      <td>/Users/natasha/ray_results/exp_1/train_AE_0_nn...</td>\n",
       "    </tr>\n",
       "    <tr>\n",
       "      <th>1</th>\n",
       "      <td>0.583598</td>\n",
       "      <td>0.594977</td>\n",
       "      <td>3097400.0</td>\n",
       "      <td>3255300.0</td>\n",
       "      <td>2.837994</td>\n",
       "      <td>False</td>\n",
       "      <td>NaN</td>\n",
       "      <td>NaN</td>\n",
       "      <td>12</td>\n",
       "      <td>4195250e483c4de8aa920fe08748fbb1</td>\n",
       "      <td>...</td>\n",
       "      <td>1</td>\n",
       "      <td>1_nn_layers=8</td>\n",
       "      <td>32</td>\n",
       "      <td>10</td>\n",
       "      <td>0.1</td>\n",
       "      <td>8</td>\n",
       "      <td>3</td>\n",
       "      <td>0.5</td>\n",
       "      <td>0.01</td>\n",
       "      <td>/Users/natasha/ray_results/exp_1/train_AE_1_nn...</td>\n",
       "    </tr>\n",
       "  </tbody>\n",
       "</table>\n",
       "<p>2 rows × 29 columns</p>\n",
       "</div>"
      ],
      "text/plain": [
       "    test_f1  train_f1  test_loss  train_loss  time_this_iter_s   done  \\\n",
       "0  0.588720  0.581771  2953000.0   3189900.0          2.176416  False   \n",
       "1  0.583598  0.594977  3097400.0   3255300.0          2.837994  False   \n",
       "\n",
       "   timesteps_total  episodes_total  training_iteration  \\\n",
       "0              NaN             NaN                  12   \n",
       "1              NaN             NaN                  12   \n",
       "\n",
       "                      experiment_id  ... trial_id  experiment_tag  \\\n",
       "0  6516151da6434f718cb74544cb9f43b5  ...        0   0_nn_layers=6   \n",
       "1  4195250e483c4de8aa920fe08748fbb1  ...        1   1_nn_layers=8   \n",
       "\n",
       "   config/batch_size  config/kfolds config/lr config/nn_layers  \\\n",
       "0                 32             10       0.1                6   \n",
       "1                 32             10       0.1                8   \n",
       "\n",
       "   config/num_epochs  config/replacement_threshold  config/weight_decay  \\\n",
       "0                  3                           0.5                 0.01   \n",
       "1                  3                           0.5                 0.01   \n",
       "\n",
       "                                              logdir  \n",
       "0  /Users/natasha/ray_results/exp_1/train_AE_0_nn...  \n",
       "1  /Users/natasha/ray_results/exp_1/train_AE_1_nn...  \n",
       "\n",
       "[2 rows x 29 columns]"
      ]
     },
     "execution_count": 34,
     "metadata": {},
     "output_type": "execute_result"
    }
   ],
   "source": [
    "analysis.dataframe()"
   ]
  },
  {
   "cell_type": "code",
   "execution_count": 35,
   "metadata": {
    "scrolled": true
   },
   "outputs": [
    {
     "name": "stdout",
     "output_type": "stream",
     "text": [
      "Best nn_layers: 8\n"
     ]
    }
   ],
   "source": [
    "for i in train_vars:\n",
    "    if isinstance(train_vars[i], dict):\n",
    "        print(\"Best \"+i+\":\", analysis.get_best_config(metric=\"test_f1\")[i])"
   ]
  },
  {
   "cell_type": "code",
   "execution_count": 36,
   "metadata": {},
   "outputs": [
    {
     "data": {
      "text/plain": [
       "'/Users/natasha/ray_results/exp_1/train_AE_0_nn_layers=6_2020-07-08_16-11-598vlslhfr'"
      ]
     },
     "execution_count": 36,
     "metadata": {},
     "output_type": "execute_result"
    }
   ],
   "source": [
    "analysis.dataframe()[\"logdir\"][0]"
   ]
  },
  {
   "cell_type": "code",
   "execution_count": null,
   "metadata": {},
   "outputs": [],
   "source": [
    "# train the model\n",
    "# train_losses, test_losses, train_f1_scores, test_f1_scores = train_test.train_model(loaders, \n",
    "#         model, flags.num_epochs, flags.print_every,\n",
    "#         flags.SAVE_FP, flags.replacement_threshold, cluster_names, flags.cirriculum, train_data[:,:len(cluster_names)],\n",
    "#         search_space)\n",
    "#train_losses, test_losses, train_f1_scores, test_f1_scores = train_test.train_model(train_vars, hyperparams)"
   ]
  },
  {
   "cell_type": "markdown",
   "metadata": {},
   "source": [
    "### Evaluate model performance"
   ]
  },
  {
   "cell_type": "code",
   "execution_count": null,
   "metadata": {},
   "outputs": [],
   "source": [
    "# evaluate model performance\n",
    "perf_lc = data_viz.learning_curve(train_f1_scores, test_f1_scores, \"performance\", flags.cirriculum)"
   ]
  },
  {
   "cell_type": "code",
   "execution_count": null,
   "metadata": {},
   "outputs": [],
   "source": [
    "# evaluate model performance\n",
    "optim_lc = data_viz.learning_curve(train_losses, test_losses, \"optimization\", flags.cirriculum)"
   ]
  },
  {
   "cell_type": "code",
   "execution_count": null,
   "metadata": {},
   "outputs": [],
   "source": [
    "# first convert test_data from subset -> tensor, split corrupt vs target sets\n",
    "tensor_test_data = torch.tensor([i.numpy() for i in test_data]).float()\n",
    "corrupt_test_data = tensor_test_data[:,:len(cluster_names)]\n",
    "target = tensor_test_data[:,len(cluster_names):].detach().numpy()"
   ]
  },
  {
   "cell_type": "code",
   "execution_count": null,
   "metadata": {},
   "outputs": [],
   "source": [
    "# Generate probabilities for ROC curve\n",
    "model.eval()\n",
    "with torch.no_grad():\n",
    "    y_probas = model(corrupt_test_data) # predicted probabilities generated by model"
   ]
  },
  {
   "cell_type": "code",
   "execution_count": null,
   "metadata": {},
   "outputs": [],
   "source": [
    "roc = data_viz.my_roc_curve(target, y_probas.numpy())"
   ]
  },
  {
   "cell_type": "code",
   "execution_count": null,
   "metadata": {},
   "outputs": [],
   "source": [
    "util.log_results(roc, optim_lc, perf_lc, flags, model)"
   ]
  },
  {
   "cell_type": "code",
   "execution_count": null,
   "metadata": {},
   "outputs": [],
   "source": []
  },
  {
   "cell_type": "code",
   "execution_count": null,
   "metadata": {},
   "outputs": [],
   "source": []
  },
  {
   "cell_type": "code",
   "execution_count": null,
   "metadata": {},
   "outputs": [],
   "source": [
    "# create embeddings for test set\n",
    "#uncorrupt_test_data = tensor_test_data[:,len(cluster_names):]\n",
    "#tensor_test_data = torch.tensor([i.numpy() for i in test_data]).float()\n",
    "embeddings = train_test.generate_embeddings(model, corrupt_test_data)"
   ]
  },
  {
   "cell_type": "code",
   "execution_count": null,
   "metadata": {},
   "outputs": [],
   "source": [
    "#data_viz.plot_tSNE(embeddings, test_data, num_to_genome, genome_to_tax, test_tax_dict)"
   ]
  },
  {
   "cell_type": "code",
   "execution_count": null,
   "metadata": {},
   "outputs": [],
   "source": [
    "# tSNE for corrupted genomes passed through untrained model\n",
    "untrained_model = models.AutoEncoder(len(cluster_names))\n",
    "untr_embeddings = train_test.generate_embeddings(untrained_model, corrupt_test_data)"
   ]
  },
  {
   "cell_type": "code",
   "execution_count": null,
   "metadata": {},
   "outputs": [],
   "source": [
    "#data_viz.plot_tSNE(untr_embeddings, test_data, num_to_genome, genome_to_tax, test_tax_dict)\n",
    "# data_viz.plot_tSNE(untr_embeddings, test_data, num_to_genome, genome_to_tax, genome_idx_test)"
   ]
  },
  {
   "cell_type": "code",
   "execution_count": null,
   "metadata": {},
   "outputs": [],
   "source": [
    "# Evaluate model and compare against baselines\n",
    "# Get corrupted input set, target set, and predictions set (binarized to 1's and 0's)\n",
    "#corrupt_test_data = tensor_test_data[:,:len(cluster_names)]\n",
    "\n",
    "model.eval()\n",
    "with torch.no_grad():\n",
    "    pred = model.forward(corrupt_test_data).detach().numpy()\n",
    "b_pred = train_test.binarize(pred, flags.replacement_threshold)"
   ]
  },
  {
   "cell_type": "code",
   "execution_count": null,
   "metadata": {},
   "outputs": [],
   "source": [
    "# Generate confusion matrix\n",
    "cm = evaluate.dom_confusion_matrix(b_pred, target, num_to_genome, genome_to_tax, test_tax_dict, genome_idx_test)"
   ]
  },
  {
   "cell_type": "code",
   "execution_count": null,
   "metadata": {},
   "outputs": [],
   "source": [
    "util.log_results(roc, optim_lc, perf_lc, flags, model, cm)"
   ]
  },
  {
   "cell_type": "code",
   "execution_count": null,
   "metadata": {},
   "outputs": [],
   "source": [
    "# Baseline 1: untrained DAE\n",
    "# Generate predictions using an untrained DAE model\n",
    "model.eval()\n",
    "with torch.no_grad():\n",
    "    untr_pred = untrained_model.forward(corrupt_test_data).detach().numpy()\n",
    "untr_b_preds = train_test.binarize(untr_pred, flags.replacement_threshold)"
   ]
  },
  {
   "cell_type": "code",
   "execution_count": null,
   "metadata": {},
   "outputs": [],
   "source": [
    "# if os.path.isfile(flags.DATA_FP+\"rand_b_pred.pt\"):\n",
    "#     print(\"Loading random predictions from file\")\n",
    "#     rand_b_pred = torch.load(flags.DATA_FP+\"rand_b_pred.pt\")\n",
    "# else: \n",
    "#     # This is slow\n",
    "#     print(\"Generating random predictions, this will take a while (~30 min)\")\n",
    "#     rand_b_pred = evaluate.generate_baseline(num_features, train_data, \n",
    "#                                              corrupt_test_data, \"base_random\", cluster_names)\n",
    "#     torch.save(rand_b_pred, flags.DATA_FP+\"rand_b_pred.pt\")\n",
    "\n",
    "rand_b_pred = evaluate.generate_baseline(num_features, train_data, \n",
    "                                         corrupt_test_data, \"base_random\", cluster_names)"
   ]
  },
  {
   "cell_type": "code",
   "execution_count": null,
   "metadata": {},
   "outputs": [],
   "source": [
    "torch.save(rand_b_pred, flags.DATA_FP+\"rand_b_pred.pt\")"
   ]
  },
  {
   "cell_type": "code",
   "execution_count": null,
   "metadata": {},
   "outputs": [],
   "source": [
    "# if os.path.isfile(flags.DATA_FP+\"smart_b_pred.pt\"):\n",
    "#     print(\"Loading smart random predictions from file\")\n",
    "#     smart_b_pred = torch.load(flags.DATA_FP+\"smart_b_pred.pt\")\n",
    "# else:\n",
    "#     print(\"Generating smart random predictions, this will take a while (~30 min)\")\n",
    "#     smart_b_pred = evaluate.generate_baseline(num_features, train_data, \n",
    "#                                           corrupt_test_data, \"smart_random\", cluster_names)\n",
    "#     torch.save(smart_b_pred, flags.DATA_FP+\"smart_b_pred.pt\")\n",
    "\n",
    "smart_b_pred = evaluate.generate_baseline(num_features, train_data, \n",
    "                                      corrupt_test_data, \"smart_random\", cluster_names)"
   ]
  },
  {
   "cell_type": "code",
   "execution_count": null,
   "metadata": {},
   "outputs": [],
   "source": [
    "torch.save(smart_b_pred, flags.DATA_FP+\"smart_b_pred.pt\")"
   ]
  },
  {
   "cell_type": "code",
   "execution_count": null,
   "metadata": {},
   "outputs": [],
   "source": [
    "import numpy as np\n",
    "np.sum(smart_b_pred == rand_b_pred), np.sum(smart_b_pred != rand_b_pred)"
   ]
  },
  {
   "cell_type": "code",
   "execution_count": null,
   "metadata": {},
   "outputs": [],
   "source": [
    "import pandas as pd\n",
    "hs = evaluate.hamming(target, b_pred)\n",
    "hs_stats = [round(sum(hs)/len(hs),2), round(min(hs),2), round(max(hs),2)]\n",
    "\n",
    "untr_hs = evaluate.hamming(target, untr_b_preds)\n",
    "untr_hs_stats = [round(sum(untr_hs)/len(untr_hs),2), round(min(untr_hs),2), round(max(untr_hs),2)]\n",
    "\n",
    "rand_hs = evaluate.hamming(target, rand_b_pred)\n",
    "rand_hs_stats = [round(sum(rand_hs)/len(rand_hs),2), round(min(rand_hs),2), round(max(rand_hs),2)]\n",
    "\n",
    "smart_hs = evaluate.hamming(target, smart_b_pred)\n",
    "smart_hs_stats = [round(sum(smart_hs)/len(smart_hs),2), round(min(smart_hs),2), round(max(smart_hs),2)]\n",
    "\n",
    "\n",
    "hamming_df = pd.DataFrame([hs_stats, untr_hs_stats, rand_hs_stats, smart_hs_stats], columns=['mean', 'min', 'max'], \n",
    "                            index=[\"DAE trained\", \"DAE untrained\", \"Random chance\", \"Smart random chance\"])\n",
    "hamming_df"
   ]
  },
  {
   "cell_type": "code",
   "execution_count": null,
   "metadata": {},
   "outputs": [],
   "source": [
    "hs[:15]"
   ]
  },
  {
   "cell_type": "code",
   "execution_count": null,
   "metadata": {},
   "outputs": [],
   "source": [
    "evaluate.hamming([1,1,1,1], [1,1,0,0])"
   ]
  },
  {
   "cell_type": "code",
   "execution_count": null,
   "metadata": {},
   "outputs": [],
   "source": [
    "from sklearn.metrics import hamming_loss"
   ]
  },
  {
   "cell_type": "code",
   "execution_count": null,
   "metadata": {},
   "outputs": [],
   "source": [
    "hamming_loss([1,1,1,1,0,0,0], [1,1,0,0,0,0,0])"
   ]
  },
  {
   "cell_type": "code",
   "execution_count": null,
   "metadata": {},
   "outputs": [],
   "source": []
  }
 ],
 "metadata": {
  "kernelspec": {
   "display_name": "Python 3",
   "language": "python",
   "name": "python3"
  },
  "language_info": {
   "codemirror_mode": {
    "name": "ipython",
    "version": 3
   },
   "file_extension": ".py",
   "mimetype": "text/x-python",
   "name": "python",
   "nbconvert_exporter": "python",
   "pygments_lexer": "ipython3",
   "version": "3.7.6"
  }
 },
 "nbformat": 4,
 "nbformat_minor": 4
}
