{
 "cells": [
  {
   "cell_type": "code",
   "execution_count": 1,
   "metadata": {},
   "outputs": [],
   "source": [
    "# automatically upload modules\n",
    "%load_ext autoreload\n",
    "%autoreload 2"
   ]
  },
  {
   "cell_type": "code",
   "execution_count": 2,
   "metadata": {},
   "outputs": [],
   "source": [
    "from argparse import Namespace\n",
    "import os\n",
    "import pandas as pd\n",
    "#import pickle\n",
    "from ray import tune\n",
    "import ConfigSpace as CS\n",
    "from ray.tune.suggest.bohb import TuneBOHB\n",
    "from ray.tune.schedulers import HyperBandForBOHB\n",
    "import torch\n",
    "import argparse # for ray distributed training\n",
    "\n",
    "from genome_embeddings import data_viz\n",
    "from genome_embeddings import evaluate\n",
    "from genome_embeddings import models\n",
    "from genome_embeddings import train_test\n",
    "from genome_embeddings import util\n",
    "from genome_embeddings import trainable # import before ray (?)\n",
    "import ray"
   ]
  },
  {
   "cell_type": "code",
   "execution_count": 3,
   "metadata": {},
   "outputs": [],
   "source": [
    "flags = Namespace(\n",
    "    DATA_FP = '/Users/natasha/Desktop/mcgill_postdoc/ncbi_genomes/genome_embeddings/data/', \n",
    "    SAVE_FP = '/Users/natasha/Desktop/mcgill_postdoc/ncbi_genomes/genome_embeddings/',\n",
    "    KEGG_FP = '/Users/natasha/Desktop/mcgill_postdoc/ncbi_genomes/kegg_dataset/',\n",
    "    data_source = 'kegg', #['get_homologues' | 'kegg']\n",
    "    n_test = 0.1, # train-test split, n * 100 = % of data that goes into test set (e.g.: 0.1 -> 10%)\n",
    "    num_epochs = 2, # IF CIRRICULUM, DO NOT SET < 3\n",
    "    batch_size = 128,\n",
    "    lr = 1e-3,\n",
    "    kfolds = 10, # number of folds for cross-validation\n",
    "    print_every = 50, # print loss every n batches during training (5)\n",
    "    replacement_threshold = 0.5, # probability over which binarizer converts to a 1\n",
    "    num_corruptions = 100, # number of corrupted versions of a genome to produce\n",
    "    corruption_fraction = 0.5, # fraction of genes to retain during corruption process\n",
    "    phy_mode = \"bacteria_only\", # training with only bacteria vs also euk/arch\n",
    "    cirriculum = False, # implement cirriculum learning based on gene count\n",
    "    rare_threshold = 10, # drop features that occur fewer than this times in training ds \n",
    "    weight_decay=0.1 # L2 regularization\n",
    "    )"
   ]
  },
  {
   "cell_type": "markdown",
   "metadata": {},
   "source": [
    "### Data exploration + preprocessing "
   ]
  },
  {
   "cell_type": "code",
   "execution_count": 4,
   "metadata": {
    "scrolled": true
   },
   "outputs": [],
   "source": [
    "# # First create genome representations (very slow)\n",
    "# # Each genome is a list of KO's and/or KEGG modules\n",
    "# if os.path.isfile(flags.DATA_FP+'genome_to_mod.csv'):\n",
    "#     print(\"Genome representations already exist\")\n",
    "# else:\n",
    "#     genome_rep.genome_kos(flags.KEGG_FP)\n",
    "#     print(\"Must generate genome representations from scratch. This will take several hours.\")"
   ]
  },
  {
   "cell_type": "code",
   "execution_count": 5,
   "metadata": {},
   "outputs": [],
   "source": [
    "# df, cluster_names = util.load_data(flags.DATA_FP, flags.data_source)\n",
    "# genome_to_tax = util.genome_to_tax(df)\n",
    "# with open('cluster_names.txt', 'wb') as filehandle:\n",
    "#     pickle.dump(cluster_names, filehandle)\n"
   ]
  },
  {
   "cell_type": "code",
   "execution_count": 6,
   "metadata": {},
   "outputs": [],
   "source": [
    "#data_viz.tax_distrib(df, genome_to_tax)"
   ]
  },
  {
   "cell_type": "code",
   "execution_count": 7,
   "metadata": {},
   "outputs": [],
   "source": [
    "#data_viz.module_stats(df)"
   ]
  },
  {
   "cell_type": "code",
   "execution_count": 8,
   "metadata": {},
   "outputs": [],
   "source": [
    "#data_viz.genes_per_genome(df)"
   ]
  },
  {
   "cell_type": "code",
   "execution_count": 9,
   "metadata": {},
   "outputs": [],
   "source": [
    "# # Split train-test sets in a phylogenetically balanced manner \n",
    "# if os.path.isfile(flags.DATA_FP+'uncorrupted_train_balanced.csv'):\n",
    "#     print(\"Train-test split already exists, loading from file\")\n",
    "#     train_orig = pd.read_csv(flags.DATA_FP+\"uncorrupted_train_balanced.csv\", index_col=0)    \n",
    "#     test_orig = pd.read_csv(flags.DATA_FP+\"uncorrupted_test_balanced.csv\", index_col=0)    \n",
    "\n",
    "# else:\n",
    "#     # Create dict mapping each genome to a unique numerical ID\n",
    "#     genome_to_num ={}\n",
    "#     for i,genome in enumerate(df.index):\n",
    "#         genome_to_num[genome] = i\n",
    "\n",
    "#     num_to_genome = {v: k for k, v in genome_to_num.items()}\n",
    "        \n",
    "#     print(\"Generating train-test split\")\n",
    "#     train_orig, test_orig = util.balanced_split(df, flags.n_test, genome_to_tax, \n",
    "#                                                 num_to_genome, flags.DATA_FP)    \n",
    "#     train_orig.to_csv(flags.DATA_FP+'uncorrupted_train_balanced.csv')\n",
    "#     test_orig.to_csv(flags.DATA_FP+'uncorrupted_test_balanced.csv')"
   ]
  },
  {
   "cell_type": "code",
   "execution_count": 10,
   "metadata": {},
   "outputs": [],
   "source": [
    "#data_viz.hist_prob_ko(train_orig)"
   ]
  },
  {
   "cell_type": "code",
   "execution_count": 11,
   "metadata": {},
   "outputs": [],
   "source": [
    "# if flags.phy_mode == \"bacteria_only\":\n",
    "#     train_genomes = train_orig.index.to_list()\n",
    "#     test_genomes = test_orig.index.to_list()\n",
    "    \n",
    "#     unf_train_data, train_tax_dict = util.bacteria_only(train_orig, train_genomes, genome_to_tax)\n",
    "#     unf_test_data, test_tax_dict = util.bacteria_only(test_orig, test_genomes, genome_to_tax)"
   ]
  },
  {
   "cell_type": "code",
   "execution_count": 12,
   "metadata": {},
   "outputs": [],
   "source": [
    "# # Remove rare features from train + test datasets\n",
    "# # Rare = fewer than n occurences in training dataset\n",
    "# # Last argument specifies n, set to correspond to 1% of genomes (3432 genomes -> n = 34)\n",
    "# train_data, test_data, cluster_names = util.remove_rare(unf_train_data, unf_test_data, \n",
    "#                                                         cluster_names, unf_train_data.shape[0]*0.01)"
   ]
  },
  {
   "cell_type": "code",
   "execution_count": 13,
   "metadata": {},
   "outputs": [
    {
     "name": "stdout",
     "output_type": "stream",
     "text": [
      "Corrupted genomes already exist\n"
     ]
    }
   ],
   "source": [
    "# Produce corrupted genomes\n",
    "# Could eventually do re-sampling / extra-corrupting to have more examples of \"rare\" genome types\n",
    "#    e.g.: those from underrepresented groups M00003   \n",
    "\n",
    "if os.path.isfile(flags.DATA_FP+'corrupted_train_0607.pt'):\n",
    "    print(\"Corrupted genomes already exist\")\n",
    "    train_data = torch.load(flags.DATA_FP+\"corrupted_train_0607.pt\")\n",
    "    test_data = torch.load(flags.DATA_FP+\"corrupted_test_0607.pt\")\n",
    "    genome_idx_train = torch.load(flags.DATA_FP+\"genome_idx_train_0607.pt\")\n",
    "    genome_idx_test = torch.load(flags.DATA_FP+\"genome_idx_test_0607.pt\")\n",
    "else:\n",
    "    print(\"Generating corrupted dataset from scratch with\",flags.num_corruptions,\"corrupted versions of each genome\")\n",
    "    train_data, genome_idx_train = util.corrupt(train_data, flags.num_corruptions, flags.corruption_fraction, \n",
    "                                                cluster_names, \"train\", flags.DATA_FP)\n",
    "\n",
    "    test_data, genome_idx_test = util.corrupt(test_data, flags.num_corruptions, flags.corruption_fraction, \n",
    "                                              cluster_names, \"test\", flags.DATA_FP)"
   ]
  },
  {
   "cell_type": "code",
   "execution_count": null,
   "metadata": {},
   "outputs": [],
   "source": []
  },
  {
   "cell_type": "code",
   "execution_count": 14,
   "metadata": {},
   "outputs": [],
   "source": [
    "# print((\"There are %s genomes and %s features in the training dataset\") % \n",
    "#       (train_data.shape[0],int(train_data.shape[1]/2)))\n",
    "\n",
    "# print((\"There are %s genomes and %s features in the test dataset\") % \n",
    "#       (test_data.shape[0],int(test_data.shape[1]/2)))"
   ]
  },
  {
   "cell_type": "code",
   "execution_count": 15,
   "metadata": {},
   "outputs": [],
   "source": [
    "# if flags.cirriculum:\n",
    "#     loaders = util.cirriculum_load(train_data, test_data, flags.batch_size, \n",
    "#                            flags.batch_size, cluster_names)\n",
    "# else:\n",
    "#     loaders = util.dataloaders(train_data, test_data, flags.batch_size, \n",
    "#                                flags.batch_size, cluster_names)"
   ]
  },
  {
   "cell_type": "code",
   "execution_count": 16,
   "metadata": {},
   "outputs": [],
   "source": [
    "# from skorch.dataset import CVSplit\n",
    "# from torch.utils.data import DataLoader, TensorDataset"
   ]
  },
  {
   "cell_type": "code",
   "execution_count": 17,
   "metadata": {},
   "outputs": [],
   "source": [
    "# num_features = int(train_data.shape[1]/2)\n",
    "# X = train_data[:,:num_features] # corrupted genomes in first half of matrix columns\n",
    "# y = train_data[:,num_features:] # uncorrupted in second half of matrix columns"
   ]
  },
  {
   "cell_type": "code",
   "execution_count": 18,
   "metadata": {},
   "outputs": [],
   "source": [
    "# # Create dataloader with folds \n",
    "# train_ds = TensorDataset(X, y)\n",
    "# splitter = CVSplit(cv=3)\n",
    "# train_dl = splitter(train_ds)"
   ]
  },
  {
   "cell_type": "code",
   "execution_count": 19,
   "metadata": {},
   "outputs": [],
   "source": [
    "# type(train_dl), type(train_dl[0])"
   ]
  },
  {
   "cell_type": "code",
   "execution_count": 20,
   "metadata": {},
   "outputs": [],
   "source": [
    "# import numpy as np\n",
    "# k = 3\n",
    "# idx_genomes = [i for i in range(len(X))]\n",
    "# num_test = int(len(idx_genomes) / k )\n",
    "# num_train = len(idx_genomes) - num_test"
   ]
  },
  {
   "cell_type": "code",
   "execution_count": 21,
   "metadata": {},
   "outputs": [],
   "source": [
    "# test_idx = np.random.choice(idx_genomes, num_test, replace=False)\n",
    "# train_idx = list(set(idx_genomes) - set(test_idx))"
   ]
  },
  {
   "cell_type": "code",
   "execution_count": 22,
   "metadata": {},
   "outputs": [],
   "source": [
    "# a = X[train_idx]"
   ]
  },
  {
   "cell_type": "code",
   "execution_count": 23,
   "metadata": {},
   "outputs": [],
   "source": [
    "# a.shape"
   ]
  },
  {
   "cell_type": "code",
   "execution_count": 24,
   "metadata": {},
   "outputs": [],
   "source": [
    "# train_set = train_dl[0]\n",
    "# cv_set = train_dl[1]"
   ]
  },
  {
   "cell_type": "code",
   "execution_count": null,
   "metadata": {},
   "outputs": [],
   "source": []
  },
  {
   "cell_type": "markdown",
   "metadata": {},
   "source": [
    "### Define and train network"
   ]
  },
  {
   "cell_type": "code",
   "execution_count": 25,
   "metadata": {},
   "outputs": [
    {
     "data": {
      "text/plain": [
       "14130"
      ]
     },
     "execution_count": 25,
     "metadata": {},
     "output_type": "execute_result"
    }
   ],
   "source": [
    "train_data.shape[1]"
   ]
  },
  {
   "cell_type": "code",
   "execution_count": 26,
   "metadata": {},
   "outputs": [],
   "source": [
    "num_features = int(train_data.shape[1]/2) # Number of features in the entire dataset (train + test)"
   ]
  },
  {
   "cell_type": "code",
   "execution_count": 27,
   "metadata": {},
   "outputs": [],
   "source": [
    "# define the network\n",
    "# model = models.AutoEncoder(num_features, 6)\n",
    "# print(model)"
   ]
  },
  {
   "cell_type": "code",
   "execution_count": 28,
   "metadata": {},
   "outputs": [],
   "source": [
    "# import torch.optim as optim\n",
    "# import torch.nn as nn\n",
    "\n",
    "# for epoch in range(1):\n",
    "#     use_cuda = torch.cuda.is_available()\n",
    "#     device = torch.device(\"cuda\" if use_cuda else \"cpu\")\n",
    "#     model.train()\n",
    "#     batch_size = 32\n",
    "#     loaders = trainable.cv_dataloader(batch_size, num_features, 10)\n",
    "    \n",
    "#     model = model.to(device)\n",
    "#     optimizer = optim.Adam(\n",
    "#         model.parameters(),\n",
    "#         lr=0.01,\n",
    "#         weight_decay=0.1\n",
    "#         )\n",
    "#     criterion = nn.BCELoss(reduction='sum')\n",
    "    \n",
    "    \n",
    "#     # enumerate batches in epoch\n",
    "#     for batch_idx, (data, target) in enumerate(loaders[\"train\"]):\n",
    "\n",
    "#         if batch_idx > 9: break\n",
    "        \n",
    "#         data, target = data.to(device), target.to(device)\n",
    "#         optimizer.zero_grad()\n",
    "#         pred = model(data)\n",
    "#         loss = criterion(pred, target)\n",
    "#         loss.backward()\n",
    "#         optimizer.step()\n",
    "        \n",
    "#         print(\"batch_idx\", batch_idx, loss.item())"
   ]
  },
  {
   "cell_type": "code",
   "execution_count": 29,
   "metadata": {},
   "outputs": [],
   "source": [
    "config = {\"batch_size\": 32, #tune.grid_search([32, 64, 128, 256]),\n",
    "              \"num_epochs\": flags.num_epochs,\n",
    "              \"replacement_threshold\": flags.replacement_threshold,\n",
    "              \"kfolds\": flags.kfolds,\n",
    "              \"lr\": tune.grid_search([0.1, 0.0001]),\n",
    "              \"weight_decay\": 0.01, #tune.grid_search([1e-2, 1e-3, 1e-4, 1e-5]),\n",
    "              \"nn_layers\": 6, #tune.grid_search([6,8]), # tune.grid_search([6, 8, 10, 12]),\n",
    "              \"optimizer\": \"adam\" #tune.grid_search([\"sgd\", \"adam\"])\n",
    "}"
   ]
  },
  {
   "cell_type": "code",
   "execution_count": 67,
   "metadata": {},
   "outputs": [],
   "source": [
    "config_space = CS.ConfigurationSpace()\n",
    "\n",
    "# UnParametrizedHyperparameter\n",
    "\n",
    "config_space.add_hyperparameter(\n",
    "    CS.CategoricalHyperparameter(name='nn_layers', choices=['6'])) #, '8', '10', '12']))\n",
    "\n",
    "config_space.add_hyperparameter(\n",
    "    CS.CategoricalHyperparameter(name='batch_size', choices=[32])) #, 64, 128, 256]))\n",
    "\n",
    "config_space.add_hyperparameter(\n",
    "    CS.UniformFloatHyperparameter('lr', lower=1e-4, upper=1e-1, log=True))\n",
    "\n",
    "config_space.add_hyperparameter(\n",
    "    CS.UniformFloatHyperparameter('weight_decay', lower=1e-5, upper=1e-2, log=True))\n",
    "\n",
    "config_space.add_hyperparameter(\n",
    "    CS.CategoricalHyperparameter(name='optimizer', choices=[\"adam\"])) #, \"sgd\"]))\n",
    "\n",
    "algo = TuneBOHB(\n",
    "    config_space, max_concurrent=4, metric='test_f1', mode='max')\n",
    "\n",
    "bohb = HyperBandForBOHB(\n",
    "    time_attr='training_iteration',\n",
    "    metric='test_f1',\n",
    "    mode='max',\n",
    "    max_t=100, \n",
    "    reduction_factor=3)"
   ]
  },
  {
   "cell_type": "code",
   "execution_count": 31,
   "metadata": {},
   "outputs": [
    {
     "name": "stderr",
     "output_type": "stream",
     "text": [
      "2020-07-10 10:33:01,143\tINFO resource_spec.py:212 -- Starting Ray with 9.28 GiB memory available for workers and up to 4.65 GiB for objects. You can adjust these settings with ray.init(memory=<bytes>, object_store_memory=<bytes>).\n",
      "2020-07-10 10:33:01,534\tINFO services.py:1170 -- View the Ray dashboard at \u001b[1m\u001b[32mlocalhost:8265\u001b[39m\u001b[22m\n"
     ]
    },
    {
     "data": {
      "text/plain": [
       "{'node_ip_address': '192.168.2.23',\n",
       " 'raylet_ip_address': '192.168.2.23',\n",
       " 'redis_address': '192.168.2.23:61372',\n",
       " 'object_store_address': '/tmp/ray/session_2020-07-10_10-33-01_061259_9573/sockets/plasma_store',\n",
       " 'raylet_socket_name': '/tmp/ray/session_2020-07-10_10-33-01_061259_9573/sockets/raylet',\n",
       " 'webui_url': 'localhost:8265',\n",
       " 'session_dir': '/tmp/ray/session_2020-07-10_10-33-01_061259_9573'}"
      ]
     },
     "execution_count": 31,
     "metadata": {},
     "output_type": "execute_result"
    }
   ],
   "source": [
    "ray.shutdown()\n",
    "#ray.init(local_mode=True)\n",
    "\n",
    "redis_password = sys.argv[1]\n",
    "num_cpus = int(sys.argv[2])\n",
    "\n",
    "ray.init(address=os.environ[\"ip_head\"], redis_password=redis_password)"
   ]
  },
  {
   "cell_type": "code",
   "execution_count": 68,
   "metadata": {},
   "outputs": [],
   "source": [
    "config = {#\"min_iter_time_s\": 15,\n",
    "         \"num_workers\": 1,\n",
    "         \"num_epochs\":flags.num_epochs,\n",
    "         \"kfolds\":flags.kfolds,\n",
    "         \"replacement_threshold\": flags.replacement_threshold}"
   ]
  },
  {
   "cell_type": "code",
   "execution_count": 76,
   "metadata": {},
   "outputs": [
    {
     "name": "stderr",
     "output_type": "stream",
     "text": [
      "2020-07-10 11:13:49,042\tINFO trainable.py:217 -- Getting current IP.\n"
     ]
    },
    {
     "name": "stdout",
     "output_type": "stream",
     "text": [
      "{'min_iter_time_s': 15, 'num_workers': 1, 'num_epochs': 2, 'kfolds': 10, 'replacement_threshold': 0.5, 'batch_size': 32, 'lr': 0.04170733456212282, 'nn_layers': '6', 'optimizer': 'adam', 'weight_decay': 0.0016696052354833388}\n",
      "f1 0.5794490601746773\n"
     ]
    },
    {
     "name": "stderr",
     "output_type": "stream",
     "text": [
      "2020-07-10 11:14:38,952\tWARNING util.py:137 -- The `start_trial` operation took 49.93215012550354 seconds to complete, which may be a performance bottleneck.\n"
     ]
    },
    {
     "data": {
      "text/html": [
       "== Status ==<br>Memory usage on this node: 18.2/32.0 GiB<br>Using HyperBand: num_stopped=0 total_brackets=1\n",
       "Round #0:\n",
       "  Bracket(Max Size (n)=3, Milestone (r)=27, completed=2.0%): {PENDING: 1, RUNNING: 1, TERMINATED: 4} <br>Resources requested: 2/12 CPUs, 0/0 GPUs, 0.0/9.28 GiB heap, 0.0/3.17 GiB objects<br>Result logdir: /Users/natasha/Desktop/mcgill_postdoc/ncbi_genomes/genome_embeddings/TUNE_RESULT_DIR/exp_1<br>Number of trials: 2 (1 PENDING, 1 RUNNING)<br><table>\n",
       "<thead>\n",
       "<tr><th>Trial name       </th><th>status  </th><th>loc  </th><th style=\"text-align: right;\">  batch_size</th><th style=\"text-align: right;\">       lr</th><th style=\"text-align: right;\">  nn_layers</th><th>optimizer  </th><th style=\"text-align: right;\">  weight_decay</th></tr>\n",
       "</thead>\n",
       "<tbody>\n",
       "<tr><td>train_AE_f4d198e6</td><td>RUNNING </td><td>     </td><td style=\"text-align: right;\">          32</td><td style=\"text-align: right;\">0.0417073</td><td style=\"text-align: right;\">          6</td><td>adam       </td><td style=\"text-align: right;\">    0.00166961</td></tr>\n",
       "<tr><td>train_AE_f4d21cee</td><td>PENDING </td><td>     </td><td style=\"text-align: right;\">          32</td><td style=\"text-align: right;\">0.0248967</td><td style=\"text-align: right;\">          6</td><td>adam       </td><td style=\"text-align: right;\">    0.00155036</td></tr>\n",
       "</tbody>\n",
       "</table><br><br>"
      ],
      "text/plain": [
       "<IPython.core.display.HTML object>"
      ]
     },
     "metadata": {},
     "output_type": "display_data"
    },
    {
     "name": "stderr",
     "output_type": "stream",
     "text": [
      "2020-07-10 11:14:38,973\tINFO trainable.py:217 -- Getting current IP.\n"
     ]
    },
    {
     "name": "stdout",
     "output_type": "stream",
     "text": [
      "{'min_iter_time_s': 15, 'num_workers': 1, 'num_epochs': 2, 'kfolds': 10, 'replacement_threshold': 0.5, 'batch_size': 32, 'lr': 0.0248966568261999, 'nn_layers': '6', 'optimizer': 'adam', 'weight_decay': 0.0015503565634920242}\n",
      "f1 0.6166763667900373\n"
     ]
    },
    {
     "name": "stderr",
     "output_type": "stream",
     "text": [
      "2020-07-10 11:15:33,103\tWARNING util.py:137 -- The `start_trial` operation took 54.14168405532837 seconds to complete, which may be a performance bottleneck.\n"
     ]
    },
    {
     "data": {
      "text/html": [
       "== Status ==<br>Memory usage on this node: 18.1/32.0 GiB<br>Using HyperBand: num_stopped=0 total_brackets=1\n",
       "Round #0:\n",
       "  Bracket(Max Size (n)=3, Milestone (r)=27, completed=2.0%): {RUNNING: 2, TERMINATED: 4} <br>Resources requested: 4/12 CPUs, 0/0 GPUs, 0.0/9.28 GiB heap, 0.0/3.17 GiB objects<br>Result logdir: /Users/natasha/Desktop/mcgill_postdoc/ncbi_genomes/genome_embeddings/TUNE_RESULT_DIR/exp_1<br>Number of trials: 2 (2 RUNNING)<br><table>\n",
       "<thead>\n",
       "<tr><th>Trial name       </th><th>status  </th><th>loc  </th><th style=\"text-align: right;\">  batch_size</th><th style=\"text-align: right;\">       lr</th><th style=\"text-align: right;\">  nn_layers</th><th>optimizer  </th><th style=\"text-align: right;\">  weight_decay</th></tr>\n",
       "</thead>\n",
       "<tbody>\n",
       "<tr><td>train_AE_f4d198e6</td><td>RUNNING </td><td>     </td><td style=\"text-align: right;\">          32</td><td style=\"text-align: right;\">0.0417073</td><td style=\"text-align: right;\">          6</td><td>adam       </td><td style=\"text-align: right;\">    0.00166961</td></tr>\n",
       "<tr><td>train_AE_f4d21cee</td><td>RUNNING </td><td>     </td><td style=\"text-align: right;\">          32</td><td style=\"text-align: right;\">0.0248967</td><td style=\"text-align: right;\">          6</td><td>adam       </td><td style=\"text-align: right;\">    0.00155036</td></tr>\n",
       "</tbody>\n",
       "</table><br><br>"
      ],
      "text/plain": [
       "<IPython.core.display.HTML object>"
      ]
     },
     "metadata": {},
     "output_type": "display_data"
    },
    {
     "name": "stderr",
     "output_type": "stream",
     "text": [
      "2020-07-10 11:15:33,120\tWARNING ray_trial_executor.py:415 -- Over the last 60 seconds, the Tune event loop has been backlogged processing new results. Consider increasing your period of result reporting to improve performance.\n"
     ]
    },
    {
     "name": "stdout",
     "output_type": "stream",
     "text": [
      "Result for train_AE_f4d198e6:\n",
      "  date: 2020-07-10_11-14-38\n",
      "  done: false\n",
      "  experiment_id: ce899e416ae843a8a30b4e50d1aaee5f\n",
      "  experiment_tag: 1_batch_size=32,kfolds=10,lr=0.041707,min_iter_time_s=15,nn_layers=6,num_epochs=2,num_workers=1,optimizer=adam,replacement_threshold=0.5,weight_decay=0.0016696\n",
      "  hostname: natashas-MacBook-Pro.local\n",
      "  iterations_since_restore: 1\n",
      "  node_ip: 192.168.2.23\n",
      "  pid: 9573\n",
      "  test_f1: 0.5794490601746773\n",
      "  test_loss: 3389400.0\n",
      "  time_since_restore: 49.90380001068115\n",
      "  time_this_iter_s: 49.90380001068115\n",
      "  time_total_s: 49.90380001068115\n",
      "  timestamp: 1594394078\n",
      "  timesteps_since_restore: 0\n",
      "  train_f1: 0.27150720692052244\n",
      "  train_loss: 157917.4375\n",
      "  training_iteration: 1\n",
      "  trial_id: f4d198e6\n",
      "  \n",
      "f1 0.5786427960616621\n"
     ]
    },
    {
     "name": "stderr",
     "output_type": "stream",
     "text": [
      "2020-07-10 11:16:17,491\tWARNING util.py:137 -- The `process_trial` operation took 44.37102174758911 seconds to complete, which may be a performance bottleneck.\n"
     ]
    },
    {
     "data": {
      "text/html": [
       "== Status ==<br>Memory usage on this node: 17.7/32.0 GiB<br>Using HyperBand: num_stopped=0 total_brackets=1\n",
       "Round #0:\n",
       "  Bracket(Max Size (n)=3, Milestone (r)=27, completed=2.2%): {RUNNING: 2, TERMINATED: 4} <br>Resources requested: 4/12 CPUs, 0/0 GPUs, 0.0/9.28 GiB heap, 0.0/3.17 GiB objects<br>Result logdir: /Users/natasha/Desktop/mcgill_postdoc/ncbi_genomes/genome_embeddings/TUNE_RESULT_DIR/exp_1<br>Number of trials: 2 (2 RUNNING)<br><table>\n",
       "<thead>\n",
       "<tr><th>Trial name       </th><th>status  </th><th>loc              </th><th style=\"text-align: right;\">  batch_size</th><th style=\"text-align: right;\">       lr</th><th style=\"text-align: right;\">  nn_layers</th><th>optimizer  </th><th style=\"text-align: right;\">  weight_decay</th><th style=\"text-align: right;\">  iter</th><th style=\"text-align: right;\">  total time (s)</th></tr>\n",
       "</thead>\n",
       "<tbody>\n",
       "<tr><td>train_AE_f4d198e6</td><td>RUNNING </td><td>192.168.2.23:9573</td><td style=\"text-align: right;\">          32</td><td style=\"text-align: right;\">0.0417073</td><td style=\"text-align: right;\">          6</td><td>adam       </td><td style=\"text-align: right;\">    0.00166961</td><td style=\"text-align: right;\">     1</td><td style=\"text-align: right;\">         49.9038</td></tr>\n",
       "<tr><td>train_AE_f4d21cee</td><td>RUNNING </td><td>                 </td><td style=\"text-align: right;\">          32</td><td style=\"text-align: right;\">0.0248967</td><td style=\"text-align: right;\">          6</td><td>adam       </td><td style=\"text-align: right;\">    0.00155036</td><td style=\"text-align: right;\">      </td><td style=\"text-align: right;\">                </td></tr>\n",
       "</tbody>\n",
       "</table><br><br>"
      ],
      "text/plain": [
       "<IPython.core.display.HTML object>"
      ]
     },
     "metadata": {},
     "output_type": "display_data"
    },
    {
     "name": "stdout",
     "output_type": "stream",
     "text": [
      "Result for train_AE_f4d21cee:\n",
      "  date: 2020-07-10_11-15-33\n",
      "  done: false\n",
      "  experiment_id: a0300dba6e2f47be8cb5332b11e38dad\n",
      "  experiment_tag: 2_batch_size=32,kfolds=10,lr=0.024897,min_iter_time_s=15,nn_layers=6,num_epochs=2,num_workers=1,optimizer=adam,replacement_threshold=0.5,weight_decay=0.0015504\n",
      "  hostname: natashas-MacBook-Pro.local\n",
      "  iterations_since_restore: 1\n",
      "  node_ip: 192.168.2.23\n",
      "  pid: 9573\n",
      "  test_f1: 0.6166763667900373\n",
      "  test_loss: 3251800.0\n",
      "  time_since_restore: 54.12103486061096\n",
      "  time_this_iter_s: 54.12103486061096\n",
      "  time_total_s: 54.12103486061096\n",
      "  timestamp: 1594394133\n",
      "  timesteps_since_restore: 0\n",
      "  train_f1: 0.3026170815000782\n",
      "  train_loss: 158816.4375\n",
      "  training_iteration: 1\n",
      "  trial_id: f4d21cee\n",
      "  \n",
      "f1 0.6026001154821794\n"
     ]
    },
    {
     "name": "stderr",
     "output_type": "stream",
     "text": [
      "2020-07-10 11:17:00,433\tWARNING util.py:137 -- The `process_trial` operation took 42.932859897613525 seconds to complete, which may be a performance bottleneck.\n"
     ]
    },
    {
     "data": {
      "text/html": [
       "== Status ==<br>Memory usage on this node: 18.2/32.0 GiB<br>Using HyperBand: num_stopped=0 total_brackets=1\n",
       "Round #0:\n",
       "  Bracket(Max Size (n)=3, Milestone (r)=27, completed=2.5%): {RUNNING: 2, TERMINATED: 4} <br>Resources requested: 4/12 CPUs, 0/0 GPUs, 0.0/9.28 GiB heap, 0.0/3.17 GiB objects<br>Result logdir: /Users/natasha/Desktop/mcgill_postdoc/ncbi_genomes/genome_embeddings/TUNE_RESULT_DIR/exp_1<br>Number of trials: 2 (2 RUNNING)<br><table>\n",
       "<thead>\n",
       "<tr><th>Trial name       </th><th>status  </th><th>loc              </th><th style=\"text-align: right;\">  batch_size</th><th style=\"text-align: right;\">       lr</th><th style=\"text-align: right;\">  nn_layers</th><th>optimizer  </th><th style=\"text-align: right;\">  weight_decay</th><th style=\"text-align: right;\">  iter</th><th style=\"text-align: right;\">  total time (s)</th></tr>\n",
       "</thead>\n",
       "<tbody>\n",
       "<tr><td>train_AE_f4d198e6</td><td>RUNNING </td><td>192.168.2.23:9573</td><td style=\"text-align: right;\">          32</td><td style=\"text-align: right;\">0.0417073</td><td style=\"text-align: right;\">          6</td><td>adam       </td><td style=\"text-align: right;\">    0.00166961</td><td style=\"text-align: right;\">     1</td><td style=\"text-align: right;\">         49.9038</td></tr>\n",
       "<tr><td>train_AE_f4d21cee</td><td>RUNNING </td><td>192.168.2.23:9573</td><td style=\"text-align: right;\">          32</td><td style=\"text-align: right;\">0.0248967</td><td style=\"text-align: right;\">          6</td><td>adam       </td><td style=\"text-align: right;\">    0.00155036</td><td style=\"text-align: right;\">     1</td><td style=\"text-align: right;\">         54.121 </td></tr>\n",
       "</tbody>\n",
       "</table><br><br>"
      ],
      "text/plain": [
       "<IPython.core.display.HTML object>"
      ]
     },
     "metadata": {},
     "output_type": "display_data"
    },
    {
     "name": "stderr",
     "output_type": "stream",
     "text": [
      "2020-07-10 11:17:00,440\tWARNING ray_trial_executor.py:415 -- Over the last 60 seconds, the Tune event loop has been backlogged processing new results. Consider increasing your period of result reporting to improve performance.\n"
     ]
    },
    {
     "name": "stdout",
     "output_type": "stream",
     "text": [
      "Result for train_AE_f4d21cee:\n",
      "  date: 2020-07-10_11-17-00\n",
      "  done: false\n",
      "  experiment_id: a0300dba6e2f47be8cb5332b11e38dad\n",
      "  experiment_tag: 2_batch_size=32,kfolds=10,lr=0.024897,min_iter_time_s=15,nn_layers=6,num_epochs=2,num_workers=1,optimizer=adam,replacement_threshold=0.5,weight_decay=0.0015504\n",
      "  hostname: natashas-MacBook-Pro.local\n",
      "  iterations_since_restore: 2\n",
      "  node_ip: 192.168.2.23\n",
      "  pid: 9573\n",
      "  test_f1: 0.6026001154821794\n",
      "  test_loss: 3182700.0\n",
      "  time_since_restore: 141.45698285102844\n",
      "  time_this_iter_s: 87.33594799041748\n",
      "  time_total_s: 141.45698285102844\n",
      "  timestamp: 1594394220\n",
      "  timesteps_since_restore: 0\n",
      "  train_f1: 0.5783126045688602\n",
      "  train_loss: 3209300.0\n",
      "  training_iteration: 2\n",
      "  trial_id: f4d21cee\n",
      "  \n"
     ]
    },
    {
     "name": "stderr",
     "output_type": "stream",
     "text": [
      "2020-07-10 11:17:07,355\tWARNING util.py:137 -- The `process_trial` operation took 6.913460969924927 seconds to complete, which may be a performance bottleneck.\n"
     ]
    },
    {
     "data": {
      "text/html": [
       "== Status ==<br>Memory usage on this node: 17.0/32.0 GiB<br>Using HyperBand: num_stopped=0 total_brackets=1\n",
       "Round #0:\n",
       "  Bracket(Max Size (n)=3, Milestone (r)=27, completed=2.7%): {RUNNING: 2, TERMINATED: 4} <br>Resources requested: 4/12 CPUs, 0/0 GPUs, 0.0/9.28 GiB heap, 0.0/3.17 GiB objects<br>Result logdir: /Users/natasha/Desktop/mcgill_postdoc/ncbi_genomes/genome_embeddings/TUNE_RESULT_DIR/exp_1<br>Number of trials: 2 (2 RUNNING)<br><table>\n",
       "<thead>\n",
       "<tr><th>Trial name       </th><th>status  </th><th>loc              </th><th style=\"text-align: right;\">  batch_size</th><th style=\"text-align: right;\">       lr</th><th style=\"text-align: right;\">  nn_layers</th><th>optimizer  </th><th style=\"text-align: right;\">  weight_decay</th><th style=\"text-align: right;\">  iter</th><th style=\"text-align: right;\">  total time (s)</th></tr>\n",
       "</thead>\n",
       "<tbody>\n",
       "<tr><td>train_AE_f4d198e6</td><td>RUNNING </td><td>192.168.2.23:9573</td><td style=\"text-align: right;\">          32</td><td style=\"text-align: right;\">0.0417073</td><td style=\"text-align: right;\">          6</td><td>adam       </td><td style=\"text-align: right;\">    0.00166961</td><td style=\"text-align: right;\">     1</td><td style=\"text-align: right;\">         49.9038</td></tr>\n",
       "<tr><td>train_AE_f4d21cee</td><td>RUNNING </td><td>192.168.2.23:9573</td><td style=\"text-align: right;\">          32</td><td style=\"text-align: right;\">0.0248967</td><td style=\"text-align: right;\">          6</td><td>adam       </td><td style=\"text-align: right;\">    0.00155036</td><td style=\"text-align: right;\">     2</td><td style=\"text-align: right;\">        141.457 </td></tr>\n",
       "</tbody>\n",
       "</table><br><br>"
      ],
      "text/plain": [
       "<IPython.core.display.HTML object>"
      ]
     },
     "metadata": {},
     "output_type": "display_data"
    },
    {
     "name": "stdout",
     "output_type": "stream",
     "text": [
      "Result for train_AE_f4d198e6:\n",
      "  date: 2020-07-10_11-16-17\n",
      "  done: false\n",
      "  experiment_id: ce899e416ae843a8a30b4e50d1aaee5f\n",
      "  experiment_tag: 1_batch_size=32,kfolds=10,lr=0.041707,min_iter_time_s=15,nn_layers=6,num_epochs=2,num_workers=1,optimizer=adam,replacement_threshold=0.5,weight_decay=0.0016696\n",
      "  hostname: natashas-MacBook-Pro.local\n",
      "  iterations_since_restore: 2\n",
      "  node_ip: 192.168.2.23\n",
      "  pid: 9573\n",
      "  test_f1: 0.5786427960616621\n",
      "  test_loss: 3370500.0\n",
      "  time_since_restore: 148.44221377372742\n",
      "  time_this_iter_s: 98.53841376304626\n",
      "  time_total_s: 148.44221377372742\n",
      "  timestamp: 1594394177\n",
      "  timesteps_since_restore: 0\n",
      "  train_f1: 0.587577747628062\n",
      "  train_loss: 3200800.0\n",
      "  training_iteration: 2\n",
      "  trial_id: f4d198e6\n",
      "  \n"
     ]
    },
    {
     "name": "stderr",
     "output_type": "stream",
     "text": [
      "2020-07-10 11:17:14,523\tWARNING util.py:137 -- The `process_trial` operation took 7.14663290977478 seconds to complete, which may be a performance bottleneck.\n"
     ]
    },
    {
     "data": {
      "text/html": [
       "== Status ==<br>Memory usage on this node: 15.8/32.0 GiB<br>Using HyperBand: num_stopped=0 total_brackets=1\n",
       "Round #0:\n",
       "  Bracket(Max Size (n)=3, Milestone (r)=27, completed=3.0%): {RUNNING: 1, TERMINATED: 5} <br>Resources requested: 2/12 CPUs, 0/0 GPUs, 0.0/9.28 GiB heap, 0.0/3.17 GiB objects<br>Result logdir: /Users/natasha/Desktop/mcgill_postdoc/ncbi_genomes/genome_embeddings/TUNE_RESULT_DIR/exp_1<br>Number of trials: 2 (1 RUNNING, 1 TERMINATED)<br><table>\n",
       "<thead>\n",
       "<tr><th>Trial name       </th><th>status    </th><th>loc              </th><th style=\"text-align: right;\">  batch_size</th><th style=\"text-align: right;\">       lr</th><th style=\"text-align: right;\">  nn_layers</th><th>optimizer  </th><th style=\"text-align: right;\">  weight_decay</th><th style=\"text-align: right;\">  iter</th><th style=\"text-align: right;\">  total time (s)</th></tr>\n",
       "</thead>\n",
       "<tbody>\n",
       "<tr><td>train_AE_f4d198e6</td><td>RUNNING   </td><td>192.168.2.23:9573</td><td style=\"text-align: right;\">          32</td><td style=\"text-align: right;\">0.0417073</td><td style=\"text-align: right;\">          6</td><td>adam       </td><td style=\"text-align: right;\">    0.00166961</td><td style=\"text-align: right;\">     2</td><td style=\"text-align: right;\">         148.442</td></tr>\n",
       "<tr><td>train_AE_f4d21cee</td><td>TERMINATED</td><td>                 </td><td style=\"text-align: right;\">          32</td><td style=\"text-align: right;\">0.0248967</td><td style=\"text-align: right;\">          6</td><td>adam       </td><td style=\"text-align: right;\">    0.00155036</td><td style=\"text-align: right;\">     2</td><td style=\"text-align: right;\">         141.457</td></tr>\n",
       "</tbody>\n",
       "</table><br><br>"
      ],
      "text/plain": [
       "<IPython.core.display.HTML object>"
      ]
     },
     "metadata": {},
     "output_type": "display_data"
    },
    {
     "data": {
      "text/html": [
       "== Status ==<br>Memory usage on this node: 15.8/32.0 GiB<br>Using HyperBand: num_stopped=0 total_brackets=1\n",
       "Round #0:\n",
       "  Bracket(Max Size (n)=1, Milestone (r)=73, completed=100.0%): {TERMINATED: 6} <br>Resources requested: 0/12 CPUs, 0/0 GPUs, 0.0/9.28 GiB heap, 0.0/3.17 GiB objects<br>Result logdir: /Users/natasha/Desktop/mcgill_postdoc/ncbi_genomes/genome_embeddings/TUNE_RESULT_DIR/exp_1<br>Number of trials: 2 (2 TERMINATED)<br><table>\n",
       "<thead>\n",
       "<tr><th>Trial name       </th><th>status    </th><th>loc  </th><th style=\"text-align: right;\">  batch_size</th><th style=\"text-align: right;\">       lr</th><th style=\"text-align: right;\">  nn_layers</th><th>optimizer  </th><th style=\"text-align: right;\">  weight_decay</th><th style=\"text-align: right;\">  iter</th><th style=\"text-align: right;\">  total time (s)</th></tr>\n",
       "</thead>\n",
       "<tbody>\n",
       "<tr><td>train_AE_f4d198e6</td><td>TERMINATED</td><td>     </td><td style=\"text-align: right;\">          32</td><td style=\"text-align: right;\">0.0417073</td><td style=\"text-align: right;\">          6</td><td>adam       </td><td style=\"text-align: right;\">    0.00166961</td><td style=\"text-align: right;\">     2</td><td style=\"text-align: right;\">         148.442</td></tr>\n",
       "<tr><td>train_AE_f4d21cee</td><td>TERMINATED</td><td>     </td><td style=\"text-align: right;\">          32</td><td style=\"text-align: right;\">0.0248967</td><td style=\"text-align: right;\">          6</td><td>adam       </td><td style=\"text-align: right;\">    0.00155036</td><td style=\"text-align: right;\">     2</td><td style=\"text-align: right;\">         141.457</td></tr>\n",
       "</tbody>\n",
       "</table><br><br>"
      ],
      "text/plain": [
       "<IPython.core.display.HTML object>"
      ]
     },
     "metadata": {},
     "output_type": "display_data"
    }
   ],
   "source": [
    "analysis = tune.run(\n",
    "    trainable.train_AE, \n",
    "    name=\"exp_1\",\n",
    "    config=config,\n",
    "    search_alg=algo,\n",
    "    verbose=2, \n",
    "    resources_per_trial={\n",
    "            \"cpu\": 2,\n",
    "            \"gpu\": 0\n",
    "    },\n",
    "    num_samples=2, #1000\n",
    "    scheduler=bohb,\n",
    "    local_dir=flags.SAVE_FP+\"TUNE_RESULT_DIR\",\n",
    "    stop=trainable.EarlyStopping(\"test_f1\") # if search results aren't improving anymore\n",
    "    )\n",
    "\n",
    "#print(\"Best config is:\", analysis.get_best_config(metric=\"test_f1\"))"
   ]
  },
  {
   "cell_type": "code",
   "execution_count": 73,
   "metadata": {},
   "outputs": [
    {
     "name": "stdout",
     "output_type": "stream",
     "text": [
      "Best config is: {'min_iter_time_s': 15, 'num_workers': 1, 'num_epochs': 2, 'kfolds': 10, 'replacement_threshold': 0.5, 'batch_size': 32, 'lr': 0.09359780051577608, 'nn_layers': '6', 'optimizer': 'adam', 'weight_decay': 0.0005925090175702109}\n"
     ]
    }
   ],
   "source": [
    "print(\"Best config is:\", analysis.get_best_config(metric=\"test_f1\"))"
   ]
  },
  {
   "cell_type": "code",
   "execution_count": 74,
   "metadata": {
    "scrolled": true
   },
   "outputs": [
    {
     "name": "stdout",
     "output_type": "stream",
     "text": [
      "Best batch_size: 32\n",
      "Best lr: 0.09359780051577608\n",
      "Best nn_layers: 6\n",
      "Best optimizer: adam\n",
      "Best weight_decay: 0.0005925090175702109\n"
     ]
    }
   ],
   "source": [
    "# for i in train_vars:\n",
    "#     if isinstance(train_vars[i], dict):\n",
    "#         print(\"Best \"+i+\":\", analysis.get_best_config(metric=\"test_f1\")[i])\n",
    "for i in config_space:\n",
    "    print(\"Best \"+i+\":\", analysis.get_best_config(metric=\"test_f1\")[i])"
   ]
  },
  {
   "cell_type": "code",
   "execution_count": 35,
   "metadata": {},
   "outputs": [],
   "source": [
    "# analysis = tune.run(\n",
    "#     trainable.train_AE, \n",
    "#     name=\"exp_1\",\n",
    "#     config=train_vars, \n",
    "#     verbose=2, \n",
    "#     resources_per_trial={\n",
    "#             \"cpu\": 2,\n",
    "#             \"gpu\": 0\n",
    "#     },\n",
    "#     num_samples=2,\n",
    "#     scheduler=ASHAScheduler(metric=\"test_f1\", mode=\"max\", grace_period=1, time_attr=\"n_batch\"),\n",
    "#     local_dir=flags.SAVE_FP+\"TUNE_RESULT_DIR\"\n",
    "#     )\n",
    "\n",
    "# print(\"Best config is:\", analysis.get_best_config(metric=\"test_f1\"))"
   ]
  },
  {
   "cell_type": "code",
   "execution_count": 37,
   "metadata": {},
   "outputs": [
    {
     "data": {
      "text/plain": [
       "'/Users/natasha/Desktop/mcgill_postdoc/ncbi_genomes/genome_embeddings/TUNE_RESULT_DIR/exp_1/train_AE_1_batch_size=32,kfolds=10,lr=0.01713,min_iter_time_s=15,nn_layers=6,num_epochs=2,num_workers=1,optimizer=adam,replacement_2020-07-10_10-33-02dbyoijom'"
      ]
     },
     "execution_count": 37,
     "metadata": {},
     "output_type": "execute_result"
    }
   ],
   "source": [
    "analysis.dataframe()[\"logdir\"][0]"
   ]
  },
  {
   "cell_type": "code",
   "execution_count": 38,
   "metadata": {},
   "outputs": [],
   "source": [
    "# train the model\n",
    "# train_losses, test_losses, train_f1_scores, test_f1_scores = train_test.train_model(loaders, \n",
    "#         model, flags.num_epochs, flags.print_every,\n",
    "#         flags.SAVE_FP, flags.replacement_threshold, cluster_names, flags.cirriculum, train_data[:,:len(cluster_names)],\n",
    "#         search_space)\n",
    "#train_losses, test_losses, train_f1_scores, test_f1_scores = train_test.train_model(train_vars, hyperparams)"
   ]
  },
  {
   "cell_type": "markdown",
   "metadata": {},
   "source": [
    "### Evaluate model performance"
   ]
  },
  {
   "cell_type": "code",
   "execution_count": 39,
   "metadata": {},
   "outputs": [],
   "source": [
    "# # evaluate model performance\n",
    "# perf_lc = data_viz.learning_curve(train_f1_scores, test_f1_scores, \"performance\", flags.cirriculum)"
   ]
  },
  {
   "cell_type": "code",
   "execution_count": 40,
   "metadata": {},
   "outputs": [],
   "source": [
    "# # evaluate model performance\n",
    "# optim_lc = data_viz.learning_curve(train_losses, test_losses, \"optimization\", flags.cirriculum)"
   ]
  },
  {
   "cell_type": "code",
   "execution_count": 41,
   "metadata": {},
   "outputs": [],
   "source": [
    "# # first convert test_data from subset -> tensor, split corrupt vs target sets\n",
    "# tensor_test_data = torch.tensor([i.numpy() for i in test_data]).float()\n",
    "# corrupt_test_data = tensor_test_data[:,:num_features]\n",
    "# target = tensor_test_data[:,num_features:].detach().numpy()"
   ]
  },
  {
   "cell_type": "code",
   "execution_count": 42,
   "metadata": {},
   "outputs": [],
   "source": [
    "# # Generate probabilities for ROC curve\n",
    "# model.eval()\n",
    "# with torch.no_grad():\n",
    "#     y_probas = model(corrupt_test_data) # predicted probabilities generated by model"
   ]
  },
  {
   "cell_type": "code",
   "execution_count": 43,
   "metadata": {},
   "outputs": [],
   "source": [
    "# roc = data_viz.my_roc_curve(target, y_probas.numpy())"
   ]
  },
  {
   "cell_type": "code",
   "execution_count": 44,
   "metadata": {},
   "outputs": [],
   "source": [
    "# util.log_results(roc, optim_lc, perf_lc, flags, model)"
   ]
  },
  {
   "cell_type": "code",
   "execution_count": null,
   "metadata": {},
   "outputs": [],
   "source": []
  },
  {
   "cell_type": "code",
   "execution_count": null,
   "metadata": {},
   "outputs": [],
   "source": []
  },
  {
   "cell_type": "code",
   "execution_count": 45,
   "metadata": {},
   "outputs": [],
   "source": [
    "# # create embeddings for test set\n",
    "# #uncorrupt_test_data = tensor_test_data[:,len(cluster_names):]\n",
    "# #tensor_test_data = torch.tensor([i.numpy() for i in test_data]).float()\n",
    "# embeddings = train_test.generate_embeddings(model, corrupt_test_data)"
   ]
  },
  {
   "cell_type": "code",
   "execution_count": 46,
   "metadata": {},
   "outputs": [],
   "source": [
    "#data_viz.plot_tSNE(embeddings, test_data, num_to_genome, genome_to_tax, test_tax_dict)"
   ]
  },
  {
   "cell_type": "code",
   "execution_count": 47,
   "metadata": {},
   "outputs": [],
   "source": [
    "# # tSNE for corrupted genomes passed through untrained model\n",
    "# untrained_model = models.AutoEncoder(len(cluster_names))\n",
    "# untr_embeddings = train_test.generate_embeddings(untrained_model, corrupt_test_data)"
   ]
  },
  {
   "cell_type": "code",
   "execution_count": 48,
   "metadata": {},
   "outputs": [],
   "source": [
    "#data_viz.plot_tSNE(untr_embeddings, test_data, num_to_genome, genome_to_tax, test_tax_dict)\n",
    "# data_viz.plot_tSNE(untr_embeddings, test_data, num_to_genome, genome_to_tax, genome_idx_test)"
   ]
  },
  {
   "cell_type": "code",
   "execution_count": 49,
   "metadata": {},
   "outputs": [],
   "source": [
    "# # Evaluate model and compare against baselines\n",
    "# # Get corrupted input set, target set, and predictions set (binarized to 1's and 0's)\n",
    "# #corrupt_test_data = tensor_test_data[:,:len(cluster_names)]\n",
    "\n",
    "# model.eval()\n",
    "# with torch.no_grad():\n",
    "#     pred = model.forward(corrupt_test_data).detach().numpy()\n",
    "# b_pred = train_test.binarize(pred, flags.replacement_threshold)"
   ]
  },
  {
   "cell_type": "code",
   "execution_count": 50,
   "metadata": {},
   "outputs": [],
   "source": [
    "# # Generate confusion matrix\n",
    "# cm = evaluate.dom_confusion_matrix(b_pred, target, num_to_genome, genome_to_tax, test_tax_dict, genome_idx_test)"
   ]
  },
  {
   "cell_type": "code",
   "execution_count": 51,
   "metadata": {},
   "outputs": [],
   "source": [
    "# util.log_results(roc, optim_lc, perf_lc, flags, model, cm)"
   ]
  },
  {
   "cell_type": "code",
   "execution_count": 52,
   "metadata": {},
   "outputs": [],
   "source": [
    "# # Baseline 1: untrained DAE\n",
    "# # Generate predictions using an untrained DAE model\n",
    "# model.eval()\n",
    "# with torch.no_grad():\n",
    "#     untr_pred = untrained_model.forward(corrupt_test_data).detach().numpy()\n",
    "# untr_b_preds = train_test.binarize(untr_pred, flags.replacement_threshold)"
   ]
  },
  {
   "cell_type": "code",
   "execution_count": 53,
   "metadata": {},
   "outputs": [],
   "source": [
    "# # if os.path.isfile(flags.DATA_FP+\"rand_b_pred.pt\"):\n",
    "# #     print(\"Loading random predictions from file\")\n",
    "# #     rand_b_pred = torch.load(flags.DATA_FP+\"rand_b_pred.pt\")\n",
    "# # else: \n",
    "# #     # This is slow\n",
    "# #     print(\"Generating random predictions, this will take a while (~30 min)\")\n",
    "# #     rand_b_pred = evaluate.generate_baseline(num_features, train_data, \n",
    "# #                                              corrupt_test_data, \"base_random\", cluster_names)\n",
    "# #     torch.save(rand_b_pred, flags.DATA_FP+\"rand_b_pred.pt\")\n",
    "\n",
    "# rand_b_pred = evaluate.generate_baseline(num_features, train_data, \n",
    "#                                          corrupt_test_data, \"base_random\", cluster_names)"
   ]
  },
  {
   "cell_type": "code",
   "execution_count": 54,
   "metadata": {},
   "outputs": [],
   "source": [
    "# torch.save(rand_b_pred, flags.DATA_FP+\"rand_b_pred.pt\")"
   ]
  },
  {
   "cell_type": "code",
   "execution_count": 55,
   "metadata": {},
   "outputs": [],
   "source": [
    "# # if os.path.isfile(flags.DATA_FP+\"smart_b_pred.pt\"):\n",
    "# #     print(\"Loading smart random predictions from file\")\n",
    "# #     smart_b_pred = torch.load(flags.DATA_FP+\"smart_b_pred.pt\")\n",
    "# # else:\n",
    "# #     print(\"Generating smart random predictions, this will take a while (~30 min)\")\n",
    "# #     smart_b_pred = evaluate.generate_baseline(num_features, train_data, \n",
    "# #                                           corrupt_test_data, \"smart_random\", cluster_names)\n",
    "# #     torch.save(smart_b_pred, flags.DATA_FP+\"smart_b_pred.pt\")\n",
    "\n",
    "# smart_b_pred = evaluate.generate_baseline(num_features, train_data, \n",
    "#                                       corrupt_test_data, \"smart_random\", cluster_names)"
   ]
  },
  {
   "cell_type": "code",
   "execution_count": 56,
   "metadata": {},
   "outputs": [],
   "source": [
    "# torch.save(smart_b_pred, flags.DATA_FP+\"smart_b_pred.pt\")"
   ]
  },
  {
   "cell_type": "code",
   "execution_count": 57,
   "metadata": {},
   "outputs": [],
   "source": [
    "# import numpy as np\n",
    "# np.sum(smart_b_pred == rand_b_pred), np.sum(smart_b_pred != rand_b_pred)"
   ]
  },
  {
   "cell_type": "code",
   "execution_count": 58,
   "metadata": {},
   "outputs": [],
   "source": [
    "# import pandas as pd\n",
    "# hs = evaluate.hamming(target, b_pred)\n",
    "# hs_stats = [round(sum(hs)/len(hs),2), round(min(hs),2), round(max(hs),2)]\n",
    "\n",
    "# untr_hs = evaluate.hamming(target, untr_b_preds)\n",
    "# untr_hs_stats = [round(sum(untr_hs)/len(untr_hs),2), round(min(untr_hs),2), round(max(untr_hs),2)]\n",
    "\n",
    "# rand_hs = evaluate.hamming(target, rand_b_pred)\n",
    "# rand_hs_stats = [round(sum(rand_hs)/len(rand_hs),2), round(min(rand_hs),2), round(max(rand_hs),2)]\n",
    "\n",
    "# smart_hs = evaluate.hamming(target, smart_b_pred)\n",
    "# smart_hs_stats = [round(sum(smart_hs)/len(smart_hs),2), round(min(smart_hs),2), round(max(smart_hs),2)]\n",
    "\n",
    "\n",
    "# hamming_df = pd.DataFrame([hs_stats, untr_hs_stats, rand_hs_stats, smart_hs_stats], columns=['mean', 'min', 'max'], \n",
    "#                             index=[\"DAE trained\", \"DAE untrained\", \"Random chance\", \"Smart random chance\"])\n",
    "# hamming_df"
   ]
  },
  {
   "cell_type": "code",
   "execution_count": null,
   "metadata": {},
   "outputs": [],
   "source": []
  }
 ],
 "metadata": {
  "kernelspec": {
   "display_name": "Python 3",
   "language": "python",
   "name": "python3"
  },
  "language_info": {
   "codemirror_mode": {
    "name": "ipython",
    "version": 3
   },
   "file_extension": ".py",
   "mimetype": "text/x-python",
   "name": "python",
   "nbconvert_exporter": "python",
   "pygments_lexer": "ipython3",
   "version": "3.7.6"
  }
 },
 "nbformat": 4,
 "nbformat_minor": 4
}
