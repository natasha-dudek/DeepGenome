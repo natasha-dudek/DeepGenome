{
 "cells": [
  {
   "cell_type": "markdown",
   "metadata": {},
   "source": [
    "# GenomeVAE\n",
    "\n",
    "This code will train a genomeVAE model\n",
    "\n",
    "Each genome has both a tla and tnum that can be used to identify it\n",
    "\n",
    "tla = three letter abbreviation = genome ID, tnum = T number = genome ID\n",
    "\n",
    "KO and gene are used interchangeably"
   ]
  },
  {
   "cell_type": "code",
   "execution_count": null,
   "metadata": {},
   "outputs": [],
   "source": [
    "## TO DO:\n",
    "# org_to_mod_to_kos -> tla_to_mod_to_kos\n",
    "# org_to_kos -> tnum_to_kos"
   ]
  },
  {
   "cell_type": "markdown",
   "metadata": {},
   "source": [
    "### Load libraries, format settings"
   ]
  },
  {
   "cell_type": "code",
   "execution_count": 1,
   "metadata": {},
   "outputs": [],
   "source": [
    "# automatically upload modules\n",
    "%load_ext autoreload\n",
    "%autoreload 2"
   ]
  },
  {
   "cell_type": "code",
   "execution_count": 2,
   "metadata": {},
   "outputs": [
    {
     "name": "stdout",
     "output_type": "stream",
     "text": [
      "loaded train + test data\n"
     ]
    }
   ],
   "source": [
    "from argparse import Namespace\n",
    "from collections import defaultdict\n",
    "import random\n",
    "import re\n",
    "import sys\n",
    "\n",
    "import matplotlib.pyplot as plt\n",
    "import numpy as np\n",
    "import pandas as pd\n",
    "import pickle\n",
    "import ray\n",
    "from ray import tune\n",
    "from scipy import stats\n",
    "import sklearn as sk\n",
    "import torch\n",
    "\n",
    "from genome_embeddings import corrupt\n",
    "from genome_embeddings import data_viz\n",
    "from genome_embeddings import evaluate\n",
    "from genome_embeddings import models\n",
    "from genome_embeddings import pathways\n",
    "from genome_embeddings import pre_process\n",
    "from genome_embeddings import trainable "
   ]
  },
  {
   "cell_type": "code",
   "execution_count": 14,
   "metadata": {},
   "outputs": [],
   "source": [
    "mode = \"Desktop\" # \"CC\" | \"Desktop\"\n",
    "# must change local_dir=\"/Users/natasha/Desktop/TUNE_RESULT_DIR\"\n",
    "#local_dir=\"/home/ndudek/projects/def-dprecup/ndudek/hp_tuning_04-12-2020/TUNE_RESULT_DIR\"\n",
    "\n",
    "BASE_DIR = '/Users/natasha/Desktop/vae/'\n",
    "DATA_DIR = '/Users/natasha/Desktop/mcgill_postdoc/ncbi_genomes/kegg_dataset/'\n",
    "replacement_threshold = 0.5 # probability over which binarizer converts to a 1   "
   ]
  },
  {
   "cell_type": "markdown",
   "metadata": {},
   "source": [
    "# Load dataset"
   ]
  },
  {
   "cell_type": "code",
   "execution_count": 29,
   "metadata": {},
   "outputs": [
    {
     "name": "stdout",
     "output_type": "stream",
     "text": [
      "Total number of KOs in dataset: 9874\n"
     ]
    }
   ],
   "source": [
    "tla_to_tnum, tnum_to_tla, keepers = pre_process.genomes2include(DATA_DIR)\n",
    "tnum_to_kos, n_kos_tot, all_kos = pre_process.load_kos(tla_to_tnum, tnum_to_tla, tla_to_mod_to_kos, DATA_DIR)\n",
    "org_to_mod_to_kos, mod_sets = pre_process.load_mods(DATA_DIR)\n",
    "mod_to_kos = pre_process.create_mod_to_kos(org_to_mod_to_kos)"
   ]
  },
  {
   "cell_type": "code",
   "execution_count": 30,
   "metadata": {},
   "outputs": [
    {
     "data": {
      "text/plain": [
       "2718"
      ]
     },
     "execution_count": 30,
     "metadata": {},
     "output_type": "execute_result"
    }
   ],
   "source": [
    "len(tla_to_tnum)"
   ]
  },
  {
   "cell_type": "code",
   "execution_count": 20,
   "metadata": {},
   "outputs": [],
   "source": [
    "all_kos = torch.load(BASE_DIR+\"all_kos_2020-09-29.pt\")\n",
    "tla_to_mod_to_kos = torch.load(BASE_DIR+\"tla_to_mod_to_kos_2020-09-29.pt\")\n",
    "train_data = torch.load(BASE_DIR+\"kegg_v2_train_2020-09-29.pt\")\n",
    "test_data = torch.load(BASE_DIR+\"kegg_v2_test_2020-09-29.pt\")\n",
    "train_genomes = torch.load(BASE_DIR+\"kegg_v2_train_genomes_2020-09-29.pt\")\n",
    "test_genomes = torch.load(BASE_DIR+\"kegg_v2_test_genomes_2020-09-29.pt\")"
   ]
  },
  {
   "cell_type": "markdown",
   "metadata": {},
   "source": [
    "# Filter dataset"
   ]
  },
  {
   "cell_type": "code",
   "execution_count": 31,
   "metadata": {},
   "outputs": [],
   "source": [
    "# Remove any genomes with fewer than n_min KOs (endosymbionts)\n",
    "n_min = 500\n",
    "train_data, test_data, train_genomes, test_genomes = pre_process.filter(n_min, train_data, test_data, \n",
    "                                                                        train_genomes, test_genomes)"
   ]
  },
  {
   "cell_type": "code",
   "execution_count": 32,
   "metadata": {},
   "outputs": [
    {
     "data": {
      "text/plain": [
       "(2332, 282)"
      ]
     },
     "execution_count": 32,
     "metadata": {},
     "output_type": "execute_result"
    }
   ],
   "source": [
    "len(train_data), len(test_genomes)"
   ]
  },
  {
   "cell_type": "code",
   "execution_count": 33,
   "metadata": {},
   "outputs": [],
   "source": [
    "# get rid of genomes that encode fewer than n_mods modules\n",
    "n_mods = 10\n",
    "train_data, train_genomes = pre_process.remove_duds(train_data, train_genomes, tnum_to_tla, tla_to_mod_to_kos, n_mods)\n",
    "test_data, test_genomes = pre_process.remove_duds(test_data, test_genomes, tnum_to_tla, tla_to_mod_to_kos, n_mods)"
   ]
  },
  {
   "cell_type": "code",
   "execution_count": 36,
   "metadata": {},
   "outputs": [],
   "source": [
    "# Are there any columns that are all zeros in both the train and test sets (TL;DR yes)\n",
    "# Get rid of those ---> adjust train_data, test_data, and all_kos\n",
    "good_cols = ((train_data.sum(axis=0) != 0) | (test_data.sum(axis=0) != 0))\n",
    "train_data = train_data[:,good_cols]\n",
    "test_data = test_data[:,good_cols]\n",
    "all_kos = np.array(all_kos)[good_cols].tolist()"
   ]
  },
  {
   "cell_type": "code",
   "execution_count": 37,
   "metadata": {},
   "outputs": [
    {
     "data": {
      "text/plain": [
       "(0, 77)"
      ]
     },
     "execution_count": 37,
     "metadata": {},
     "output_type": "execute_result"
    }
   ],
   "source": [
    "# In just the training set, how many genomes and genes have zero entries (test set only)\n",
    "(train_data.sum(axis=1) == 0).sum(), (train_data.sum(axis=0) == 0).sum()"
   ]
  },
  {
   "cell_type": "code",
   "execution_count": 38,
   "metadata": {},
   "outputs": [
    {
     "data": {
      "text/plain": [
       "(0, 1595)"
      ]
     },
     "execution_count": 38,
     "metadata": {},
     "output_type": "execute_result"
    }
   ],
   "source": [
    "# In just the test set, how many genomes and genes have zero entries (training set only)\n",
    "(test_data.sum(axis=1) == 0).sum(), (test_data.sum(axis=0) == 0).sum()"
   ]
  },
  {
   "cell_type": "code",
   "execution_count": 39,
   "metadata": {},
   "outputs": [
    {
     "name": "stdout",
     "output_type": "stream",
     "text": [
      "The training set consists of 2305 genomes\n",
      "The test set consists of 279 genomes\n",
      "In total there are 2584 genomes\n",
      "In total there are 9863 genes\n"
     ]
    }
   ],
   "source": [
    "print(\"The training set consists of \"+str(train_data.shape[0])+\" genomes\")\n",
    "print(\"The test set consists of \"+str(test_data.shape[0])+\" genomes\")\n",
    "print(\"In total there are \"+str(train_data.shape[0]+test_data.shape[0])+\" genomes\")\n",
    "print(\"In total there are \"+str(train_data.shape[1])+\" genes\")"
   ]
  },
  {
   "cell_type": "markdown",
   "metadata": {},
   "source": [
    "# Data exploration"
   ]
  },
  {
   "cell_type": "code",
   "execution_count": 40,
   "metadata": {},
   "outputs": [],
   "source": [
    "plt.rcParams.update({'font.size': 14})"
   ]
  },
  {
   "cell_type": "code",
   "execution_count": 41,
   "metadata": {},
   "outputs": [
    {
     "name": "stdout",
     "output_type": "stream",
     "text": [
      "73 401\n"
     ]
    },
    {
     "data": {
      "image/png": "[encoded data removed]",
      "text/plain": [
       "<Figure size 432x288 with 1 Axes>"
      ]
     },
     "metadata": {
      "needs_background": "light"
     },
     "output_type": "display_data"
    }
   ],
   "source": [
    "# Histogram showing variants of a given module across genomes in the full dataset\n",
    "##### not filtered (mod_sets)\n",
    "mod = 'M00001'\n",
    "a = list(mod_sets[mod].values())\n",
    "a.sort(reverse=True)\n",
    "x_labels = [i for i in range(len(mod_sets[mod].values()))]\n",
    "plt.bar(x_labels, a)\n",
    "plt.yscale('log')\n",
    "plt.title(\"Variants of module \"+mod)\n",
    "plt.xlabel(\"Variant (n=\"+str(len(mod_sets[mod].values()))+\" )\")\n",
    "plt.ylabel(\"Count across all genomes (n=\"+str(len(tla_to_mod_to_kos))+\")\")\n",
    "print(max(mod_sets[mod].values()), len(a))"
   ]
  },
  {
   "cell_type": "code",
   "execution_count": 42,
   "metadata": {},
   "outputs": [
    {
     "data": {
      "image/png": "[encoded data removed]",
      "text/plain": [
       "<Figure size 432x288 with 1 Axes>"
      ]
     },
     "metadata": {
      "needs_background": "light"
     },
     "output_type": "display_data"
    }
   ],
   "source": [
    "# Plot the number of KOs encoded by each genome in the full dataset\n",
    "# Note: this includes genomes excluded from the final dataset\n",
    "plt.hist([len(tnum_to_kos[i]) for i in tnum_to_kos], 50)\n",
    "plt.xlabel(\"Number of KOs per genome\")\n",
    "plt.ylabel(\"Frequency\")\n",
    "plt.savefig(BASE_DIR+\"fig.png\")"
   ]
  },
  {
   "cell_type": "code",
   "execution_count": 43,
   "metadata": {},
   "outputs": [
    {
     "name": "stdout",
     "output_type": "stream",
     "text": [
      "Median: 1907.0 Min: 528 Max: 4536\n"
     ]
    }
   ],
   "source": [
    "# Median, min, and max # KOs per genome\n",
    "lens = [len(tnum_to_kos[i]) for i in tnum_to_kos if i in train_genomes or i in test_genomes]\n",
    "print(\"Median:\",np.median(lens), \"Min:\",min(lens), \"Max:\",max(lens))"
   ]
  },
  {
   "cell_type": "code",
   "execution_count": 44,
   "metadata": {
    "scrolled": false
   },
   "outputs": [
    {
     "data": {
      "image/png": "[encoded data removed]",
      "text/plain": [
       "<Figure size 432x288 with 1 Axes>"
      ]
     },
     "metadata": {
      "needs_background": "light"
     },
     "output_type": "display_data"
    }
   ],
   "source": [
    "# Plot the number of modules encoded by each genome\n",
    "fig = data_viz.mods_by_genomes(tla_to_mod_to_kos)"
   ]
  },
  {
   "cell_type": "code",
   "execution_count": 45,
   "metadata": {
    "scrolled": true
   },
   "outputs": [
    {
     "name": "stdout",
     "output_type": "stream",
     "text": [
      "Number of mods encoded in only one genome: 25\n",
      "Max number of genomes encoding a single mod 2285\n"
     ]
    },
    {
     "data": {
      "image/png": "[encoded data removed]",
      "text/plain": [
       "<Figure size 432x288 with 1 Axes>"
      ]
     },
     "metadata": {
      "needs_background": "light"
     },
     "output_type": "display_data"
    }
   ],
   "source": [
    "# Count and plot the number of genomes that encode each module\n",
    "# This is for the whole dataset\n",
    "mods_count = defaultdict(int)\n",
    "org_count = 0\n",
    "for org in tla_to_mod_to_kos:\n",
    "    for mod in tla_to_mod_to_kos[org]:\n",
    "        mods_count[mod] += 1\n",
    "    org_count += 1\n",
    "        \n",
    "plt.hist(mods_count.values(), 10)\n",
    "plt.xlabel(\"Number of genomes encoding each module\")\n",
    "plt.ylabel(\"Frequency\")\n",
    "plt.title(\"Distribution of the # of genomes (n=\"+str(org_count)+\") encoding each module (n=\"+str(len(mods_count))+\")\")\n",
    "plt.yscale('log')\n",
    "print(\"Number of mods encoded in only one genome:\",list(mods_count.values()).count(1))\n",
    "print(\"Max number of genomes encoding a single mod\", max(list(mods_count.values())))"
   ]
  },
  {
   "cell_type": "code",
   "execution_count": 46,
   "metadata": {},
   "outputs": [],
   "source": [
    "# # Plot the percentage of genes per genome that contribute to modules\n",
    "# perc_mod = []\n",
    "# for org in tla_to_mod_to_kos:\n",
    "#     try:\n",
    "#         tla = tla_to_tnum[org]\n",
    "#         n_kos = len(tnum_to_kos[tla])\n",
    "#         n_mod_kos = len([tla_to_mod_to_kos[org][mod] for mod in tla_to_mod_to_kos[org]])\n",
    "#         perc_mod.append(n_mod_kos/n_kos*100)\n",
    "#     except: KeyError\n",
    "\n",
    "# plt.hist(perc_mod, 50)\n",
    "# plt.xlabel(\"Percent of KOs contributing to modules\")\n",
    "# plt.ylabel(\"Frequency\")\n",
    "# plt.title(\"Distribution of the % of KOs (n_all=\"+str(n_kos_tot)+\") represented by modules (n=\"+str(n_mods)+\") per genome (n=\"+str(n_genomes)+\")\")\n"
   ]
  },
  {
   "cell_type": "code",
   "execution_count": 47,
   "metadata": {},
   "outputs": [],
   "source": [
    "# # Percentage of KOs that are / are not part of a module\n",
    "\n",
    "# kos_in_mods = []\n",
    "\n",
    "# for org in tla_to_mod_to_kos:\n",
    "#     for mod in tla_to_mod_to_kos[org]:\n",
    "#         kos_in_mods.extend(tla_to_mod_to_kos[org][mod])\n",
    "\n",
    "# kos_in_mods = list(set(kos_in_mods))\n",
    "\n",
    "# print(len(kos_in_mods), len(all_kos), len(kos_in_mods)/len(all_kos)*100)"
   ]
  },
  {
   "cell_type": "code",
   "execution_count": 48,
   "metadata": {},
   "outputs": [],
   "source": [
    "# # Number of KOs that are part of 1 module, 2 modules, 3 modules, etc\n",
    "# #all_kos # unique list of all KOs\n",
    "# ko_counter = defaultdict(list)\n",
    "\n",
    "# for ko in all_kos:\n",
    "#     for org in tla_to_mod_to_kos:\n",
    "#         for mod in tla_to_mod_to_kos[org]:\n",
    "#             if ko in tla_to_mod_to_kos[org][mod]:\n",
    "#                 if mod not in ko_counter[ko]:\n",
    "#                     ko_counter[ko].append(mod)"
   ]
  },
  {
   "cell_type": "code",
   "execution_count": 49,
   "metadata": {},
   "outputs": [],
   "source": [
    "# ko_counter2 = {}\n",
    "# for ko in ko_counter:\n",
    "#     ko_counter2[ko] = len(ko_counter[ko])\n",
    "\n",
    "# for ko in all_kos:\n",
    "#     if ko not in ko_counter2:\n",
    "#         ko_counter2[ko] = 0"
   ]
  },
  {
   "cell_type": "code",
   "execution_count": 50,
   "metadata": {},
   "outputs": [],
   "source": [
    "# a = defaultdict(int)\n",
    "# for i in ko_counter2.values():\n",
    "#     a[i] += 1\n",
    "# a, sum(a.values())"
   ]
  },
  {
   "cell_type": "code",
   "execution_count": 51,
   "metadata": {},
   "outputs": [],
   "source": [
    "# plt.hist(ko_counter2.values())\n",
    "# plt.yscale('log')\n",
    "# plt.title(\"Number of modules each KO contributes to\")\n",
    "# plt.xlabel(\"Number of modules\")\n",
    "# plt.ylabel(\"Frequency (# of KOs)\")"
   ]
  },
  {
   "cell_type": "markdown",
   "metadata": {},
   "source": [
    "# Corrupt input genomes"
   ]
  },
  {
   "cell_type": "code",
   "execution_count": 52,
   "metadata": {},
   "outputs": [
    {
     "name": "stdout",
     "output_type": "stream",
     "text": [
      "Loading 2021-01-05_10mods\n",
      "done\n"
     ]
    }
   ],
   "source": [
    "# corrupt version 1 -- extreme corruption\n",
    "# 2020-09-04: select 1-10 mods for input\n",
    "# 2020-10-16_10mods: select 10 mods for input, genomes with fewer than 10 mods are eliminated\n",
    "# 2020-10-16_1mods: select 1 mods for input, genomes with fewer than 10 mods are eliminated \n",
    "\n",
    "new_corrupt = False\n",
    "n_corrupt = 100\n",
    "date_to_save = \"2021-01-05_\"+str(n_mods)+\"mods\"\n",
    "date_to_load = \"2021-01-05_10mods\"\n",
    "\n",
    "if new_corrupt:\n",
    "    print (\"Creating new corruptions\")\n",
    "    print (str(n_corrupt),\"corruptions per genome\")\n",
    "    print (\"With\",str(n_mods),\"modules as input per genome\")\n",
    "    print (\"Saved as\",date_to_save)\n",
    "    #tnum_to_tla = {v:k for k,v in tla_to_tnum.items()}\n",
    "    corrupted_train, c_train_genomes, train_input_mods = corrupt.corrupt(train_data, train_genomes, n_corrupt, tnum_to_tla, tla_to_mod_to_kos, all_kos, mod_to_ko_clean, org_to_kos, n_mods)\n",
    "    corrupted_test, c_test_genomes, test_input_mods = corrupt.corrupt(test_data, test_genomes, n_corrupt, tnum_to_tla, tla_to_mod_to_kos, all_kos, mod_to_ko_clean, org_to_kos, n_mods)\n",
    "    torch.save(corrupted_train, BASE_DIR+\"corrupted_train_\"+date_to_save+\".pt\")\n",
    "    torch.save(c_train_genomes, BASE_DIR+\"c_train_genomes_\"+date_to_save+\".pt\")\n",
    "    torch.save(corrupted_test, BASE_DIR+\"corrupted_test_\"+date_to_save+\".pt\")\n",
    "    torch.save(c_test_genomes, BASE_DIR+\"c_test_genomes_\"+date_to_save+\".pt\")\n",
    "    torch.save(train_input_mods, BASE_DIR+\"train_input_mods_\"+date_to_save+\".pt\")\n",
    "    torch.save(test_input_mods, BASE_DIR+\"test_input_mods_\"+date_to_save+\".pt\")\n",
    "else:\n",
    "    print(\"Loading \"+date_to_load)\n",
    "    corrupted_train = torch.load(BASE_DIR+\"corrupted_train_\"+date_to_load+\".pt\")\n",
    "    c_train_genomes = torch.load(BASE_DIR+\"c_train_genomes_\"+date_to_load+\".pt\")\n",
    "    corrupted_test = torch.load(BASE_DIR+\"corrupted_test_\"+date_to_load+\".pt\")\n",
    "    c_test_genomes = torch.load(BASE_DIR+\"c_test_genomes_\"+date_to_load+\".pt\")\n",
    "    train_input_mods = torch.load(BASE_DIR+\"train_input_mods_\"+date_to_load+\".pt\")\n",
    "    test_input_mods = torch.load(BASE_DIR+\"test_input_mods_\"+date_to_load+\".pt\")\n",
    "    \n",
    "print (\"done\")"
   ]
  },
  {
   "cell_type": "code",
   "execution_count": 53,
   "metadata": {},
   "outputs": [
    {
     "data": {
      "text/plain": [
       "(230500, 230500)"
      ]
     },
     "execution_count": 53,
     "metadata": {},
     "output_type": "execute_result"
    }
   ],
   "source": [
    "# confirm that there are no all-zero rows\n",
    "non_zero_idx = corrupted_train.sum(axis=1) > n_min\n",
    "len(non_zero_idx), corrupted_train.shape[0]"
   ]
  },
  {
   "cell_type": "code",
   "execution_count": 54,
   "metadata": {},
   "outputs": [
    {
     "data": {
      "text/plain": [
       "(torch.Size([230500, 19726]), torch.Size([27900, 19726]))"
      ]
     },
     "execution_count": 54,
     "metadata": {},
     "output_type": "execute_result"
    }
   ],
   "source": [
    "corrupted_train.shape, corrupted_test.shape"
   ]
  },
  {
   "cell_type": "markdown",
   "metadata": {},
   "source": [
    "# Visualization of final datasets"
   ]
  },
  {
   "cell_type": "code",
   "execution_count": null,
   "metadata": {},
   "outputs": [],
   "source": [
    "fig, labels, y3 = data_viz.plot_tax_dist(c_train_genomes, c_test_genomes, 'Desktop')\n",
    "plt.savefig(BASE_DIR+\"fig_dist.png\", bbox_inches='tight')"
   ]
  },
  {
   "cell_type": "code",
   "execution_count": null,
   "metadata": {},
   "outputs": [],
   "source": [
    "def get_lengths(c_genomes, tnum_to_kos):\n",
    "    lens = []\n",
    "    for i in list(set(c_genomes)):\n",
    "        tnum = tla_to_tnum[i]\n",
    "        lens.append(len(tnum_to_kos[tnum]))\n",
    "    return lens\n",
    "\n",
    "train_lens = get_lengths(c_train_genomes, tnum_to_kos)\n",
    "test_lens = get_lengths(c_test_genomes, tnum_to_kos)"
   ]
  },
  {
   "cell_type": "code",
   "execution_count": null,
   "metadata": {},
   "outputs": [],
   "source": [
    "# Plot the number of KOs encoded by each genome\n",
    "fig, ax = plt.subplots()\n",
    "plt.hist(train_lens, 50, color='#3385ff')\n",
    "plt.hist(test_lens, 50, color='#bb99ff')\n",
    "ax.legend(['Train', 'Test'])\n",
    "plt.xlabel(\"# annotated genes / genome\")\n",
    "plt.ylabel(\"Count\")\n",
    "plt.ylim(0,125)\n",
    "plt.xlim(min(train_lens),max(train_lens)+10)\n",
    "plt.savefig(BASE_DIR+\"fig_ko_dist.pdf\", figsize=(370.336, 245.416), bbox_inches='tight')"
   ]
  },
  {
   "cell_type": "code",
   "execution_count": null,
   "metadata": {},
   "outputs": [],
   "source": [
    "# How many modules are there per training genome?\n",
    "from collections import defaultdict\n",
    "mods_count = defaultdict(int)\n",
    "for org in tla_to_mod_to_kos:\n",
    "    if org in c_train_genomes:\n",
    "        mods_count[org] = len(tla_to_mod_to_kos[org])\n",
    "plt.hist(mods_count.values())\n",
    "plt.xlabel('Number of modules')\n",
    "plt.ylabel('Number of genomes')"
   ]
  },
  {
   "cell_type": "markdown",
   "metadata": {},
   "source": [
    "# HPO w/ Ray Tune: Define and train network"
   ]
  },
  {
   "cell_type": "code",
   "execution_count": null,
   "metadata": {},
   "outputs": [],
   "source": [
    "memory = 2000 * 1024 * 1024\n",
    "object_store_memory = 200 * 1024 * 1024\n",
    "driver_object_store_memory=100 * 1024 * 1024\n",
    "ray.shutdown()\n",
    "ray.init(local_mode=True, memory=memory, \n",
    "        object_store_memory=object_store_memory,\n",
    "        driver_object_store_memory=driver_object_store_memory,\n",
    "        num_cpus=10)"
   ]
  },
  {
   "cell_type": "code",
   "execution_count": null,
   "metadata": {},
   "outputs": [],
   "source": [
    "config = {\"num_epochs\": 10,\n",
    "         \"kfolds\": 10,\n",
    "         \"replacement_threshold\": 0.5,\n",
    "         \"nn_layers\": tune.choice([1, 2, 3, 4]),\n",
    "         \"batch_size\": tune.choice([32, 64, 128, 256]),\n",
    "          \"lr\": tune.loguniform(1e-4, 1e-1), \n",
    "          \"weight_decay\": tune.loguniform(1e-5, 1e-2) \n",
    "         }"
   ]
  },
  {
   "cell_type": "code",
   "execution_count": null,
   "metadata": {},
   "outputs": [],
   "source": [
    "config_corruption = {\"num_epochs\": 10,\n",
    "         \"kfolds\": 10,\n",
    "         \"replacement_threshold\": 0.5,\n",
    "         \"nn_layers\": 3,\n",
    "         \"batch_size\": 128,\n",
    "          \"lr\": 0.001, \n",
    "          \"weight_decay\": 0.1\n",
    "         }"
   ]
  },
  {
   "cell_type": "code",
   "execution_count": null,
   "metadata": {
    "scrolled": true
   },
   "outputs": [],
   "source": [
    "analysis = tune.run(\n",
    "    trainable.train_AE, \n",
    "    name=\"17_02_2021_40mods\",\n",
    "    config=config_corruption,\n",
    "    verbose=2, \n",
    "    resources_per_trial={\n",
    "            \"cpu\": 10,\n",
    "            \"gpu\": 0\n",
    "    },\n",
    "    #num_samples=20,\n",
    "    num_samples=1,\n",
    "    queue_trials=True,\n",
    "    local_dir=\"/Users/natasha/Desktop/TUNE_RESULT_DIR\",\n",
    "    #local_dir=\"/home/ndudek/projects/def-dprecup/ndudek/hp_tuning_01-10-2020/TUNE_RESULT_DIR\"\n",
    "    )"
   ]
  },
  {
   "cell_type": "code",
   "execution_count": null,
   "metadata": {},
   "outputs": [],
   "source": [
    "# print(\"Best config is:\", analysis.get_best_config(metric=\"test_f1\"))"
   ]
  },
  {
   "cell_type": "code",
   "execution_count": null,
   "metadata": {},
   "outputs": [],
   "source": [
    "# analysis.get_best_config(metric=\"test_f1\")"
   ]
  },
  {
   "cell_type": "markdown",
   "metadata": {},
   "source": [
    "# Single model: Define and train network"
   ]
  },
  {
   "cell_type": "code",
   "execution_count": null,
   "metadata": {},
   "outputs": [],
   "source": [
    "# nn_layers = 3\n",
    "# weight_decay = 0.1\n",
    "# lr = 0.001\n",
    "# batch_size = 128\n",
    "# kfolds = 10\n",
    "# num_epochs = 10\n",
    "# replacement_threshold = 0.5\n",
    "\n",
    "# kld0, bce0, train_losses, test_losses, train_f1s, test_f1s, model = trainable.train_single_vae(nn_layers, weight_decay, lr, batch_size, kfolds, num_epochs, replacement_threshold, corrupted_train, corrupted_test)\n"
   ]
  },
  {
   "cell_type": "code",
   "execution_count": null,
   "metadata": {},
   "outputs": [],
   "source": [
    "# version = \"0mod\"\n",
    "# torch.save(model.state_dict(), BASE_DIR+\"_\"+version+\"_model.pt\")\n",
    "\n",
    "# torch.save(train_losses, BASE_DIR+\"_\"+version+\"_train_losses.pt\")\n",
    "# torch.save(test_losses, BASE_DIR+\"_\"+version+\"_test_losses.pt\")\n",
    "# torch.save(bce0, BASE_DIR+\"_\"+version+\"_bce0.pt\")\n",
    "# torch.save(kld0, BASE_DIR+\"_\"+version+\"_kld0.pt\")\n",
    "# torch.save(train_f1s, BASE_DIR+\"_\"+version+\"_train_f1s.pt\")\n",
    "# torch.save(test_f1s, BASE_DIR+\"_\"+version+\"_test_f1s.pt\")"
   ]
  },
  {
   "cell_type": "code",
   "execution_count": null,
   "metadata": {},
   "outputs": [],
   "source": [
    "load_model = True\n",
    "version = \"10mod\"\n",
    "if load_model:\n",
    "    from genome_embeddings import models\n",
    "    n_features = int(corrupted_train.shape[1]/2)\n",
    "    model = models.VariationalAutoEncoder(n_features, 3)\n",
    "    model.load_state_dict(torch.load(BASE_DIR+\"_\"+version+\"_model.pt\"))\n",
    "    train_losses = torch.load(BASE_DIR+\"_\"+version+\"_train_losses.pt\")\n",
    "    test_losses = torch.load(BASE_DIR+\"_\"+version+\"_test_losses.pt\")\n",
    "    train_f1s = torch.load(BASE_DIR+\"_\"+version+\"_train_f1s.pt\")\n",
    "    test_f1s = torch.load(BASE_DIR+\"_\"+version+\"_test_f1s.pt\")\n",
    "    bce0 = torch.load(BASE_DIR+\"_\"+version+\"_bce0.pt\")\n",
    "    kld0 = torch.load(BASE_DIR+\"_\"+version+\"_kld0.pt\")"
   ]
  },
  {
   "cell_type": "markdown",
   "metadata": {},
   "source": [
    "# Evaluate model performance"
   ]
  },
  {
   "cell_type": "markdown",
   "metadata": {},
   "source": [
    "### Generate predictions on test set"
   ]
  },
  {
   "cell_type": "code",
   "execution_count": null,
   "metadata": {},
   "outputs": [],
   "source": [
    "# 1-10 modules per input genome: 0.74\n",
    "# 1 module per input genome: 0.64\n",
    "# 10 modules per input genome: 0.81\n",
    "n_features = int(corrupted_test.shape[1]/2)\n",
    "corrupted = corrupted_test[:,:n_features]\n",
    "uncorrupted = corrupted_test[:,n_features:]"
   ]
  },
  {
   "cell_type": "code",
   "execution_count": null,
   "metadata": {},
   "outputs": [],
   "source": [
    "new_preds = False\n",
    "\n",
    "model.eval()\n",
    "\n",
    "if new_preds:\n",
    "    with torch.no_grad():\n",
    "        pred = model.forward(corrupted)[0].detach()\n",
    "    binary_pred = evaluate.eval_binarize(pred, 0.5)\n",
    "    torch.save(pred, BASE_DIR+\"_preds.pt\")\n",
    "    torch.save(binary_pred, BASE_DIR+\"_binary_preds.pt\")\n",
    "else:\n",
    "    pred = torch.load(BASE_DIR+\"_preds.pt\")\n",
    "    binary_pred = torch.load(BASE_DIR+\"_binary_preds.pt\")"
   ]
  },
  {
   "cell_type": "markdown",
   "metadata": {},
   "source": [
    "### Investigate test set F1 score (micro-average) and calculate TNs, FPs, FNs, TPs"
   ]
  },
  {
   "cell_type": "code",
   "execution_count": null,
   "metadata": {},
   "outputs": [],
   "source": [
    "f1 = sk.metrics.f1_score(uncorrupted, binary_pred, zero_division=0, average='micro')\n",
    "print(\"Test set F1 score\",f1)"
   ]
  },
  {
   "cell_type": "code",
   "execution_count": null,
   "metadata": {},
   "outputs": [],
   "source": [
    "f1s, fig = evaluate.test_f1s(uncorrupted, binary_pred)\n",
    "plt.savefig(BASE_DIR+\"f1_dist.pdf\", bbox_inches='tight')"
   ]
  },
  {
   "cell_type": "code",
   "execution_count": null,
   "metadata": {},
   "outputs": [],
   "source": [
    "tns, fps, fns, tps, total = evaluate.glom_confusion(uncorrupted, binary_pred)\n",
    "print(round(sum(tns)/total*100,2), round(sum(fps)/total*100,2), round(sum(fns)/total*100,2), round(sum(tps)/total*100,2))\n"
   ]
  },
  {
   "cell_type": "code",
   "execution_count": null,
   "metadata": {},
   "outputs": [],
   "source": [
    "tns[0]"
   ]
  },
  {
   "cell_type": "markdown",
   "metadata": {},
   "source": [
    "### Examine at BCE vs KLD loss"
   ]
  },
  {
   "cell_type": "code",
   "execution_count": null,
   "metadata": {},
   "outputs": [],
   "source": [
    "# Plot BCE and KLD vs experience\n",
    "data_viz.kld_vs_bce(kld0,bce0)"
   ]
  },
  {
   "cell_type": "markdown",
   "metadata": {},
   "source": [
    "### Plot learning curves"
   ]
  },
  {
   "cell_type": "code",
   "execution_count": null,
   "metadata": {},
   "outputs": [],
   "source": [
    "fig = data_viz.learning_curve(train_losses, test_losses, train_f1s, test_f1s)\n",
    "plt.savefig(BASE_DIR+\"learning_curves.pdf\", bbox_inches='tight')"
   ]
  },
  {
   "cell_type": "markdown",
   "metadata": {},
   "source": [
    "### Plot ROC curve and generate AUC score (micro-average)"
   ]
  },
  {
   "cell_type": "code",
   "execution_count": null,
   "metadata": {},
   "outputs": [],
   "source": [
    "num_features = int(corrupted_test.shape[1]/2)\n",
    "true_genomes = corrupted_test[:,num_features:]\n",
    "fig = data_viz.my_roc_curve(true_genomes.numpy(), pred.numpy())\n",
    "fig.savefig(BASE_DIR+\"roc_fig.pdf\", dpi=200, bbox_inches='tight')"
   ]
  },
  {
   "cell_type": "markdown",
   "metadata": {},
   "source": [
    "### Are the input genes present in the output?"
   ]
  },
  {
   "cell_type": "code",
   "execution_count": null,
   "metadata": {},
   "outputs": [],
   "source": [
    "# relabel y axis by % rather than count\n",
    "fig, _ = evaluate.compare_in_n_out(binary_pred, corrupted)\n",
    "fig.savefig(BASE_DIR+\"input_vs_output.pdf\", bbox_inches='tight', dpi=200)"
   ]
  },
  {
   "cell_type": "markdown",
   "metadata": {},
   "source": [
    "### What are the best and worst performing instances?"
   ]
  },
  {
   "cell_type": "code",
   "execution_count": null,
   "metadata": {},
   "outputs": [],
   "source": [
    "# babt = Brucella abortus\n",
    "idx_best = f1s.index(max(f1s))\n",
    "tla_best = c_test_genomes[idx_best]\n",
    "idx_best, tla_best, f1s[idx_best], tla_to_tnum[tla_best]"
   ]
  },
  {
   "cell_type": "code",
   "execution_count": null,
   "metadata": {},
   "outputs": [],
   "source": [
    "# nmv = Nitrospira moscoviensis\n",
    "# seny = Pectobacteriaceae sodalis (Gammaprot), endosymbiont of Henestaris halophilus\n",
    "# bmx\n",
    "idx_worst = f1s.index(min(f1s))\n",
    "tla_worst = c_test_genomes[idx_worst]\n",
    "idx_worst, tla_worst, f1s[idx_worst], tla_to_tnum[tla_worst]"
   ]
  },
  {
   "cell_type": "markdown",
   "metadata": {},
   "source": [
    "### For the best scoring instance, plot pixel diagram"
   ]
  },
  {
   "cell_type": "code",
   "execution_count": null,
   "metadata": {},
   "outputs": [],
   "source": [
    "idx = idx_best\n",
    "fig = data_viz.genome_heatmap2(corrupted_test, idx, model, f1s, tns, fps, fns, tps, binary_pred)\n",
    "fig.savefig(BASE_DIR+\"fig4.pdf\", bbox_inches='tight', dpi=200)"
   ]
  },
  {
   "cell_type": "code",
   "execution_count": null,
   "metadata": {},
   "outputs": [],
   "source": [
    "print(\"Num genes on in uncorrupted idx_best genome\", torch.sum(uncorrupted[idx_best,:]))\n",
    "print(\"Num genes off in uncorrupted idx_best genome\", n_features - torch.sum(uncorrupted[idx_best,:]))\n",
    "print(\"Num genes on in corrupted idx_best genome\", torch.sum(corrupted[idx_best,:]))"
   ]
  },
  {
   "cell_type": "code",
   "execution_count": null,
   "metadata": {},
   "outputs": [],
   "source": [
    "fig = evaluate.snowplot(f1s, c_test_genomes, tns, fps, fns, tps, uncorrupted, corrupted, idx_best)\n",
    "fig.savefig(BASE_DIR+\"barh.pdf\", bbox_inches='tight', dpi=200)"
   ]
  },
  {
   "cell_type": "markdown",
   "metadata": {},
   "source": [
    "### For the worst scoring instance, plot pixel diagram"
   ]
  },
  {
   "cell_type": "code",
   "execution_count": null,
   "metadata": {
    "scrolled": true
   },
   "outputs": [],
   "source": [
    "idx = idx_worst\n",
    "fig = data_viz.genome_heatmap2(corrupted_test, idx, model, f1s, tns, fps, fns, tps, binary_pred)\n",
    "fig.savefig(BASE_DIR+\"fig4.png\", bbox_inches='tight', dpi=200)"
   ]
  },
  {
   "cell_type": "code",
   "execution_count": null,
   "metadata": {},
   "outputs": [],
   "source": [
    "# print median TNs, FPs, FNs, TPs\n",
    "np.median(tns), np.median(fps), np.median(fns), np.median(tps)"
   ]
  },
  {
   "cell_type": "markdown",
   "metadata": {},
   "source": [
    "### How does the model perform on inputs originating from different phyla"
   ]
  },
  {
   "cell_type": "code",
   "execution_count": null,
   "metadata": {},
   "outputs": [],
   "source": [
    "# get dicts to map genome tla back to list of phylum, class, etc\n",
    "train_tax_dict, test_tax_dict = data_viz.tax_distribution(c_train_genomes, c_test_genomes, 'Desktop')"
   ]
  },
  {
   "cell_type": "code",
   "execution_count": null,
   "metadata": {},
   "outputs": [],
   "source": [
    "count_per_phy = defaultdict(int)\n",
    "for tnum in test_genomes:\n",
    "    tla = tnum_to_tla[tnum]\n",
    "    phylum = test_tax_dict[tla][1]\n",
    "    if phylum == 'Proteobacteria':\n",
    "        phylum = test_tax_dict[tla][2]\n",
    "    count_per_phy[phylum] += 1\n",
    "count_per_phy"
   ]
  },
  {
   "cell_type": "code",
   "execution_count": null,
   "metadata": {},
   "outputs": [],
   "source": [
    "train_phyla, test_phyla = evaluate.f1s_per_phylum(train_tax_dict, test_tax_dict, c_test_genomes, f1s)"
   ]
  },
  {
   "cell_type": "code",
   "execution_count": null,
   "metadata": {},
   "outputs": [],
   "source": [
    "# number of phyla in train + test sets\n",
    "len(set(list(train_phyla.keys()) + list(test_phyla.keys())))"
   ]
  },
  {
   "cell_type": "code",
   "execution_count": null,
   "metadata": {},
   "outputs": [],
   "source": [
    "# Bars represent median absolute deviation\n",
    "fig_save_for_later = evaluate.plot_f1_per_phylum(test_phyla, (5,10))\n",
    "fig_save_for_later.savefig(BASE_DIR+\"f1_per_phylum.png\", dpi=200, bbox_inches='tight')"
   ]
  },
  {
   "cell_type": "code",
   "execution_count": null,
   "metadata": {},
   "outputs": [],
   "source": [
    "# Are the results between phyla statistically significant?\n",
    "stats.kruskal(*test_phyla.values())"
   ]
  },
  {
   "cell_type": "code",
   "execution_count": null,
   "metadata": {},
   "outputs": [],
   "source": [
    "fig = evaluate.plot_count_vs_f1s(train_phyla, test_phyla)"
   ]
  },
  {
   "cell_type": "markdown",
   "metadata": {},
   "source": [
    "There appears to be an effect of number of training genomes / phylum on test set per phylum F1 score "
   ]
  },
  {
   "cell_type": "markdown",
   "metadata": {},
   "source": [
    "### How many times is each mod used in the various corrupted inputs?"
   ]
  },
  {
   "cell_type": "code",
   "execution_count": null,
   "metadata": {},
   "outputs": [],
   "source": [
    "# Number of times each mod occurs in the training set corrupted genomes\n",
    "train_out = evaluate.train_out(train_input_mods)"
   ]
  },
  {
   "cell_type": "code",
   "execution_count": null,
   "metadata": {},
   "outputs": [],
   "source": [
    "fig = evaluate.plot_train_count_hist(train_out)"
   ]
  },
  {
   "cell_type": "markdown",
   "metadata": {},
   "source": [
    "### How does genome size correlate with F1 score"
   ]
  },
  {
   "cell_type": "code",
   "execution_count": null,
   "metadata": {},
   "outputs": [],
   "source": [
    "# x-axis = # genes in input genome\n",
    "# y-axis = F1 score of reconstructed genomes"
   ]
  },
  {
   "cell_type": "code",
   "execution_count": null,
   "metadata": {},
   "outputs": [],
   "source": [
    "n_genes_uncorrupted = torch.sum(uncorrupted, 1).numpy().tolist() # get sum of each row"
   ]
  },
  {
   "cell_type": "code",
   "execution_count": null,
   "metadata": {},
   "outputs": [],
   "source": [
    "plt.scatter(n_genes_uncorrupted, f1s, marker='.', s = 1)\n",
    "plt.xlabel(\"# genes in uncorrupted genome\")\n",
    "plt.ylabel(\"F1 score\")"
   ]
  },
  {
   "cell_type": "code",
   "execution_count": null,
   "metadata": {},
   "outputs": [],
   "source": [
    "n_genes_corrupted = torch.sum(corrupted, 1).numpy().tolist() # get sum of each row"
   ]
  },
  {
   "cell_type": "code",
   "execution_count": null,
   "metadata": {},
   "outputs": [],
   "source": [
    "plt.scatter(n_genes_corrupted, f1s, marker='.', s = 1)\n",
    "plt.xlabel(\"# genes in corrupted input\")\n",
    "plt.ylabel(\"F1 score\")"
   ]
  },
  {
   "cell_type": "markdown",
   "metadata": {},
   "source": [
    "### How much variance is there in the F1 score of genomes encoding certain modules?\n",
    "Do some modules / lifestyles get reconstructed better than others?"
   ]
  },
  {
   "cell_type": "code",
   "execution_count": null,
   "metadata": {},
   "outputs": [],
   "source": [
    "process_to_mod, mod_to_proc = evaluate.map_proc_mod()"
   ]
  },
  {
   "cell_type": "code",
   "execution_count": null,
   "metadata": {},
   "outputs": [],
   "source": [
    "#fig, done = evaluate.plot_mod_count_vs_f1(test_input_mods, c_test_genomes, train_input_mods, f1s)"
   ]
  },
  {
   "cell_type": "code",
   "execution_count": null,
   "metadata": {},
   "outputs": [],
   "source": [
    "#fig = evaluate.plot_mod_vs_f1(test_input_mods, f1s)"
   ]
  },
  {
   "cell_type": "code",
   "execution_count": null,
   "metadata": {},
   "outputs": [],
   "source": [
    "# Plot whether number of modules in process correlates with F1 score\n",
    "# More interchangeable options = worse performance?"
   ]
  },
  {
   "cell_type": "code",
   "execution_count": null,
   "metadata": {},
   "outputs": [],
   "source": [
    "subprocess_to_mod, mod_to_subproc = evaluate.map_subproc_mod()"
   ]
  },
  {
   "cell_type": "code",
   "execution_count": null,
   "metadata": {},
   "outputs": [],
   "source": [
    "# fig = evaluate.plot_metab_pathway_f1(subprocess_to_mod, test_input_mods, f1s)"
   ]
  },
  {
   "cell_type": "markdown",
   "metadata": {},
   "source": [
    "### Analyze F1 scores of actual KOs"
   ]
  },
  {
   "cell_type": "code",
   "execution_count": null,
   "metadata": {},
   "outputs": [],
   "source": [
    "### THIS MUST BE USED IN MULTIPLE PLACES\n",
    "ko_f1s = []\n",
    "for i in range(uncorrupted.shape[1]): # for every column\n",
    "    f1 = sk.metrics.f1_score(uncorrupted[:,i], binary_pred[:,i], zero_division=0)\n",
    "    ko_f1s.append(f1)"
   ]
  },
  {
   "cell_type": "code",
   "execution_count": null,
   "metadata": {},
   "outputs": [],
   "source": [
    "zeros = 0\n",
    "for i in ko_f1s:\n",
    "    if i == 0:\n",
    "        zeros += 1\n",
    "print(zeros, len(ko_f1s), zeros/len(ko_f1s)*100)"
   ]
  },
  {
   "cell_type": "code",
   "execution_count": null,
   "metadata": {},
   "outputs": [],
   "source": [
    "# In the training set, how many KOs are always zero?\n",
    "zeros_train = train_data.sum(axis=0) > 0\n",
    "n_ones = np.sum(zeros_train)\n",
    "n_zeros_train = len(zeros_train) - n_ones\n",
    "print(\"There are\",n_zeros_train,\"genes that are always off in the training set\")"
   ]
  },
  {
   "cell_type": "code",
   "execution_count": null,
   "metadata": {},
   "outputs": [],
   "source": [
    "fig = plt.figure()\n",
    "plt.hist(ko_f1s, bins = 50)\n",
    "plt.xlabel(\"F1 score per gene\")\n",
    "plt.ylabel(\"Count\")"
   ]
  },
  {
   "cell_type": "code",
   "execution_count": null,
   "metadata": {},
   "outputs": [],
   "source": [
    "# gene occurence in uncorrupted ds vs F1 score\n",
    "#ko_counts = torch.sum(uncorrupted, 0)\n",
    "# get gene occurence in uncorrupted training set\n",
    "tr_uncorrupted = corrupted_train[:,n_features:]\n",
    "ko_counts = torch.sum(tr_uncorrupted, 0)\n",
    "\n",
    "fig, ax = plt.subplots()\n",
    "plt.scatter(ko_counts, ko_f1s, marker='.', s = 1)\n",
    "ax.set_xlim(0, tr_uncorrupted.shape[0])\n",
    "ax.set_ylim(0,1)\n",
    "plt.xlabel(\"gene count in uncorrupted train set\")\n",
    "plt.ylabel(\"per gene test F1 score\")\n",
    "plt.xticks(rotation=-70)\n",
    "print(\"max KO count:\",int(max(ko_counts)), \", total number of training genomes:\",tr_uncorrupted.shape[0])"
   ]
  },
  {
   "cell_type": "markdown",
   "metadata": {},
   "source": [
    "### Generate figure for paper"
   ]
  },
  {
   "cell_type": "code",
   "execution_count": null,
   "metadata": {},
   "outputs": [],
   "source": [
    "fig, (ax1, ax2, ax3) = plt.subplots(1,3, figsize=(15, 5))\n",
    "\n",
    "phylum_f1s = [np.median(test_phyla[i]) for i in test_phyla]\n",
    "phylum_count = [train_phyla[i] for i in test_phyla]\n",
    "ax1.scatter(phylum_count, phylum_f1s)\n",
    "ax1.set_xlabel(\"Number of genomes in train set\")\n",
    "ax1.set_ylabel(\"F1 score on test set\")\n",
    "ax1.set_xscale('log')\n",
    "\n",
    "tr_uncorrupted = corrupted_train[:,n_features:]\n",
    "ko_counts = torch.sum(tr_uncorrupted, 0)\n",
    "ax2.scatter(ko_counts, ko_f1s, marker='.', s = 1)\n",
    "ax2.set_xlim(0, tr_uncorrupted.shape[0])\n",
    "ax2.set_ylim(0,1)\n",
    "ax2.set_xlabel(\"Gene count in uncorrupted train set\")\n",
    "ax2.set_ylabel(\"Ger gene test F1 score\")\n",
    "\n",
    "n_genes_uncorrupted = torch.sum(uncorrupted, 1).numpy().tolist() # get sum of each row\n",
    "ax3.scatter(n_genes_uncorrupted, f1s, marker='.', s = 1)\n",
    "ax3.set_xlabel(\"# genes in original test genome\")\n",
    "ax3.set_ylabel(\"F1 score on test set\")\n",
    "\n",
    "plt.tight_layout()\n",
    "\n",
    "fig.savefig(BASE_DIR+\"bio_insights_contd.pdf\", dpi=200, bbox_inches='tight')"
   ]
  },
  {
   "cell_type": "code",
   "execution_count": null,
   "metadata": {},
   "outputs": [],
   "source": []
  },
  {
   "cell_type": "code",
   "execution_count": null,
   "metadata": {},
   "outputs": [],
   "source": [
    "# F1 score on KOs + what metab pathway they are part of"
   ]
  },
  {
   "cell_type": "code",
   "execution_count": null,
   "metadata": {},
   "outputs": [],
   "source": [
    "fig = evaluate.plot_metab_pathway_f1_v2(process_to_mod, mod_to_ko_clean, all_kos, ko_f1s, (7,5))"
   ]
  },
  {
   "cell_type": "code",
   "execution_count": null,
   "metadata": {
    "scrolled": true
   },
   "outputs": [],
   "source": [
    "# can also do horizontal boxplot with fig = evaluate.plot_metab_pathway_f1_v2\n",
    "fig, proc_to_ko_F1s = evaluate.plot_metab_pathway_f1_v2_horizontal(subprocess_to_mod, mod_to_ko_clean, all_kos, ko_f1s, (5,10))\n",
    "#fig.savefig(BASE_DIR+\"f1_per_proc.png\", dpi=200, bbox_inches='tight')"
   ]
  },
  {
   "cell_type": "code",
   "execution_count": null,
   "metadata": {},
   "outputs": [],
   "source": [
    "stats.kruskal(*proc_to_ko_F1s.values())"
   ]
  },
  {
   "cell_type": "code",
   "execution_count": null,
   "metadata": {},
   "outputs": [],
   "source": [
    "### How does the model do on different types of genes (kinases vs transferases, etc) "
   ]
  },
  {
   "cell_type": "code",
   "execution_count": null,
   "metadata": {},
   "outputs": [],
   "source": [
    "fig = evaluate.bio_insights_fig(test_phyla, subprocess_to_mod, all_kos, ko_f1s, mod_to_ko_clean)\n",
    "fig.savefig(BASE_DIR+\"bio_insights_fig.pdf\", dpi=200, bbox_inches='tight')"
   ]
  },
  {
   "cell_type": "markdown",
   "metadata": {},
   "source": [
    "### How does the count of each mod in training set (pre-corruption) correlate with median F1 score"
   ]
  },
  {
   "cell_type": "code",
   "execution_count": null,
   "metadata": {},
   "outputs": [],
   "source": [
    "fig = evaluate.plot_mod_count_vs_f1_v2(test_input_mods, f1s, train_out)"
   ]
  },
  {
   "cell_type": "markdown",
   "metadata": {},
   "source": [
    "# Qualitatively compare distance of real vs generated genomes"
   ]
  },
  {
   "cell_type": "code",
   "execution_count": null,
   "metadata": {},
   "outputs": [],
   "source": [
    "# Generate 100 genomes using random sets of 10 modules\n",
    "new_genomes = False\n",
    "\n",
    "if new_genomes:\n",
    "    from datetime import date\n",
    "    date = date.today()\n",
    "    generated, generated_inputs = evaluate.generate_genomes(100, all_kos, mod_to_ko_clean, 10, model)\n",
    "    torch.save(generated, BASE_DIR+\"generated_genomes_\"+str(date)+\".pt\")\n",
    "    torch.save(generated_inputs, BASE_DIR+\"generated_genome_inputs_\"+str(date)+\".pt\")\n",
    "else:\n",
    "#     generated = torch.load(BASE_DIR+\"generated_genomes_11_01_2020.pt\")\n",
    "#     generated_inputs = torch.load(BASE_DIR+\"generated_genome_inputs_11_01_2020.pt\")\n",
    "    generated = torch.load(BASE_DIR+\"generated_genomes_2021-02-01.pt\")\n",
    "    generated_inputs = torch.load(BASE_DIR+\"generated_genome_inputs_2021-02-01.pt\")"
   ]
  },
  {
   "cell_type": "markdown",
   "metadata": {},
   "source": [
    "### Plot PCA of Jaccard similarity between genomes, using Hamming distances as a metric"
   ]
  },
  {
   "cell_type": "code",
   "execution_count": null,
   "metadata": {},
   "outputs": [],
   "source": [
    "idx = random.randint(279, 379) # assumes 279 test genomes + 100 generated genomes, 0-indexed\n",
    "#idx = 368 # pathogen\n",
    "#idx = 282 # heme biosyn\n",
    "idx = 292\n",
    "gen_idx = idx - test_data.shape[0] # generated genomes follow test set genomes in tensor\n",
    "print(\"idx\",str(idx),\"Num genes in selected genome\", int(torch.sum(generated[gen_idx])))\n",
    "plt.rcParams.update({'font.size': 12})\n",
    "#fig = evaluate.plot_dist(generated_genomes, all_kos, mod_to_ko_clean, model, test_data)\n",
    "fig = evaluate.plot_dist(generated, all_kos, mod_to_ko_clean, model, test_data, idx)\n",
    "fig.savefig(BASE_DIR+\"pca_jaccard.pdf\", dpi=200, bbox_inches='tight');"
   ]
  },
  {
   "cell_type": "code",
   "execution_count": null,
   "metadata": {},
   "outputs": [],
   "source": [
    "gen_corrupted = np.zeros((len(generated_inputs), n_features))\n",
    "\n",
    "for i in range(len(generated_inputs)):\n",
    "    kos_in = generated_inputs[i][1] # get KOs used as inputs\n",
    "    ko_idx = [all_kos.index(i) for i in kos_in] # get col index of those KOs in the data tensor\n",
    "    gen_corrupted[i][ko_idx] = 1 # turn on genes at those indices\n",
    "\n",
    "gen_corrupted = torch.Tensor(gen_corrupted).type(torch.LongTensor)"
   ]
  },
  {
   "cell_type": "code",
   "execution_count": null,
   "metadata": {},
   "outputs": [],
   "source": [
    "fig, out = evaluate.compare_in_n_out(generated, gen_corrupted)"
   ]
  },
  {
   "cell_type": "raw",
   "metadata": {},
   "source": [
    "# generate protein output for a genome generated in set of 100 above\n",
    "#save_to = BASE_DIR+'prot_out_'+str(idx)+'.txt'\n",
    "#evaluate.generate_out2(generated, gen_idx, all_kos, BASE_DIR, save_to)\n",
    "print('Genome was generated using the following mods as input')\n",
    "generated_inputs[gen_idx][0]"
   ]
  },
  {
   "cell_type": "code",
   "execution_count": null,
   "metadata": {},
   "outputs": [],
   "source": []
  },
  {
   "cell_type": "code",
   "execution_count": null,
   "metadata": {},
   "outputs": [],
   "source": [
    "len(generated_inputs)"
   ]
  },
  {
   "cell_type": "code",
   "execution_count": null,
   "metadata": {},
   "outputs": [],
   "source": [
    "# Make list of KOs in generated genome\n",
    "gen_ko_idx = [int(i) for i in (generated[gen_idx] == 1).nonzero()]\n",
    "gen_kos = [all_kos[i] for i in gen_ko_idx]\n",
    "len(gen_kos)"
   ]
  },
  {
   "cell_type": "code",
   "execution_count": null,
   "metadata": {},
   "outputs": [],
   "source": [
    "# Assess ribosomal completeness\n",
    "pathways.confirm_ribosome(gen_kos)"
   ]
  },
  {
   "cell_type": "code",
   "execution_count": null,
   "metadata": {},
   "outputs": [],
   "source": [
    "# Assess rRNA gene completeness\n",
    "pathways.confirm_rrna(gen_kos)"
   ]
  },
  {
   "cell_type": "code",
   "execution_count": null,
   "metadata": {},
   "outputs": [],
   "source": [
    "assert 'K21254' in gen_kos"
   ]
  },
  {
   "cell_type": "code",
   "execution_count": null,
   "metadata": {},
   "outputs": [],
   "source": [
    "# for each mod number, get its name\n",
    "mod_to_name = pre_process.mod_names()"
   ]
  },
  {
   "cell_type": "code",
   "execution_count": null,
   "metadata": {},
   "outputs": [],
   "source": []
  },
  {
   "cell_type": "code",
   "execution_count": null,
   "metadata": {},
   "outputs": [],
   "source": [
    "def mod_completeness(genome_vector, mod_to_ko_clean, mod):\n",
    "    count = 0\n",
    "    for i in mod_to_ko_clean[mod]:\n",
    "        if i in genome_vector:\n",
    "            count += 1\n",
    "        else:\n",
    "            print(\"missing\", i)\n",
    "    print(count,\"/\",len(mod_to_ko_clean[mod]),\"genes in the mod are present\")"
   ]
  },
  {
   "cell_type": "code",
   "execution_count": null,
   "metadata": {},
   "outputs": [],
   "source": [
    "for mod in generated_inputs[gen_idx][0]:\n",
    "    print(mod, mod_to_name[mod])\n",
    "    print(mod_to_ko_clean[mod])\n",
    "    mod_completeness(gen_kos, mod_to_ko_clean, mod)\n",
    "    print(\"--------------------------------------------\")"
   ]
  },
  {
   "cell_type": "code",
   "execution_count": null,
   "metadata": {},
   "outputs": [],
   "source": [
    "save_to = BASE_DIR+\"prot_out_\"+str(gen_idx)+\".txt\"\n",
    "\n",
    "with open(BASE_DIR+'seq_dict.pkl', 'rb') as handle:\n",
    "    seq_dict = pickle.load(handle)\n",
    "\n",
    "with open(save_to, 'w') as handle:\n",
    "    for prot in gen_kos:\n",
    "        handle.write(\">\"+prot+\"\\n\")\n",
    "        handle.write(seq_dict[prot]+\"\\n\")\n",
    "\n",
    "print(gen_idx)"
   ]
  },
  {
   "cell_type": "code",
   "execution_count": null,
   "metadata": {},
   "outputs": [],
   "source": [
    "# Prepare input to KEGG Mapper\n",
    "for i, ko in enumerate(gen_kos):\n",
    "    print(\"gene\"+str(i), ko)"
   ]
  },
  {
   "cell_type": "markdown",
   "metadata": {},
   "source": [
    "### Distributions of genes and modules per genome for real vs generated genomes"
   ]
  },
  {
   "cell_type": "code",
   "execution_count": null,
   "metadata": {},
   "outputs": [],
   "source": [
    "def complete_mods(generated, all_kos, mod_to_ko_clean):\n",
    "    gen_kos = defaultdict(list)\n",
    "    for i, row in enumerate(generated):\n",
    "        for j in range(len(row)):\n",
    "            if row[j] == 1:\n",
    "                gen_kos[i].append(all_kos[j])\n",
    "\n",
    "    gen_mods = defaultdict(list)\n",
    "    for genome in gen_kos:\n",
    "        my_kos = gen_kos[genome]\n",
    "\n",
    "        for mod in mod_to_ko_clean:\n",
    "            complete = True\n",
    "            for ko in mod_to_ko_clean[mod]:\n",
    "                if ko not in my_kos: \n",
    "                    complete = False\n",
    "\n",
    "            if complete:\n",
    "                gen_mods[genome].append(mod)\n",
    "                \n",
    "    return gen_mods"
   ]
  },
  {
   "cell_type": "code",
   "execution_count": null,
   "metadata": {},
   "outputs": [],
   "source": [
    "def mod_freqs(mod_to_ko_clean, test_data, generated):\n",
    "\n",
    "    real_mod_freq = []\n",
    "    gen_mod_freq = []\n",
    "    for mod in mod_to_ko_clean:\n",
    "        real_count = 0\n",
    "        gen_count = 0\n",
    "        for genome in gen_mods:\n",
    "            if mod in gen_mods[genome]:\n",
    "                gen_count += 1\n",
    "            if mod in real_mods[genome]:\n",
    "                real_count += 1\n",
    "        real_mod_freq.append(real_count / len(test_data))\n",
    "        gen_mod_freq.append(gen_count / len(generated))\n",
    "\n",
    "    # sort in descending order of real genome mods\n",
    "    real_mod_freq, gen_mod_freq = zip(*sorted(zip(real_mod_freq, gen_mod_freq), reverse=True))\n",
    "\n",
    "    return real_mod_freq, gen_mod_freq"
   ]
  },
  {
   "cell_type": "code",
   "execution_count": null,
   "metadata": {},
   "outputs": [],
   "source": [
    "gen_mods = complete_mods(generated, all_kos, mod_to_ko_clean)\n",
    "real_mods = complete_mods(test_data, all_kos, mod_to_ko_clean)\n",
    "gen_mod_lens = [len(gen_mods[i]) for i in gen_mods]\n",
    "real_mod_lens = [len(real_mods[i]) for i in gen_mods]\n",
    "\n",
    "real_mod_freq, gen_mod_freq = mod_freqs(mod_to_ko_clean, test_data, generated)\n",
    "labels = [i for i in range(len(gen_mod_freq))]\n",
    "\n",
    "len_gen = []\n",
    "for genome in generated:\n",
    "    len_gen.append(torch.sum(genome))\n",
    "len_real = []\n",
    "for genome in test_data:\n",
    "    len_real.append(np.sum(genome))"
   ]
  },
  {
   "cell_type": "code",
   "execution_count": null,
   "metadata": {},
   "outputs": [],
   "source": [
    "plt.rcParams.update({'font.size': 18})\n",
    "fig, (ax1, ax2, ax3) = plt.subplots(1, 3, figsize=(15,5))\n",
    "#plt.yticks(fontsize=20) \n",
    "\n",
    "# Plot number of genes per genome\n",
    "ax1.hist(len_real, 50, color='g', alpha=0.5)\n",
    "ax1.hist(len_gen, 50, color='b', alpha=0.5)\n",
    "#ax1.legend(['Real', 'Generated'])\n",
    "ax1.set_xlabel(\"Number of genes\")\n",
    "ax1.set_ylabel(\"Genome count\")\n",
    "\n",
    "# Plot number of complete mods per genome\n",
    "ax2.hist(gen_mod_lens, 50, color='b', alpha=0.5)\n",
    "ax2.hist(real_mod_lens, 50, color='g', alpha=0.5)\n",
    "#ax2.legend(['Real', 'Generated'])\n",
    "ax2.set_xlabel(\"Number of complete modules\")\n",
    "ax2.set_ylabel(\"Genome count\")\n",
    "\n",
    "# Plot the fraction of genomes encoding each mod\n",
    "ax3.bar(labels, gen_mod_freq, color='b', alpha=0.5)\n",
    "ax3.bar(labels, real_mod_freq, color='g', alpha=0.5)\n",
    "ax3.legend(['Real', 'Generated'])\n",
    "ax3.set_xlabel(\"Module\")\n",
    "ax3.set_ylabel(\"Fraction of genomes \\n encoding module\")\n",
    "ax3.set_xlim(0,len(labels))\n",
    "\n",
    "plt.tight_layout()\n",
    "\n",
    "fig.savefig(BASE_DIR+\"count_dists.pdf\", dpi=200, bbox_inches='tight')\n",
    "fig.savefig(BASE_DIR+\"count_dists.png\", dpi=200, bbox_inches='tight')"
   ]
  },
  {
   "cell_type": "markdown",
   "metadata": {},
   "source": [
    "### Create files needed to infer and visualize a dendrogram based on gene prescence/abscence\n",
    "Will use phylip to infer a parsimony-based dendrogram (mix program)\n",
    "\n",
    "Will use iTOL for visualization (display, add colour strips, remove taxon labels)"
   ]
  },
  {
   "cell_type": "code",
   "execution_count": null,
   "metadata": {},
   "outputs": [],
   "source": [
    "barc_vec = evaluate.arch_root(all_kos)"
   ]
  },
  {
   "cell_type": "code",
   "execution_count": null,
   "metadata": {},
   "outputs": [],
   "source": [
    "# Reformat tensor for input to phylip\n",
    "df = evaluate.df_for_phylip(generated, test_data, test_genomes, all_kos)\n",
    "df = df.append(pd.DataFrame({col: [val] for col, val in zip(df.columns, barc_vec)}, ['outgroup_T04065']))\n",
    "phylum_dict = evaluate.write_out_for_phylip(BASE_DIR, df, tnum_to_tla, test_tax_dict) # phylip_in.txt\n",
    "#df.to_csv(BASE_DIR+'generated_genomes.csv', index = True)"
   ]
  },
  {
   "cell_type": "code",
   "execution_count": null,
   "metadata": {},
   "outputs": [],
   "source": [
    "# Sanity check\n",
    "same = True\n",
    "for i in range(len(generated[13])):\n",
    "    if int(df.iloc[292][i]) != int(generated[13][i]):\n",
    "        same = False\n",
    "same"
   ]
  },
  {
   "cell_type": "code",
   "execution_count": null,
   "metadata": {},
   "outputs": [],
   "source": [
    "# Find \"phylip-3.695-vol\", double click \"mix\" program\n",
    "# Enter file name with path to dir ---> delete space at the end of the file name"
   ]
  },
  {
   "cell_type": "code",
   "execution_count": null,
   "metadata": {},
   "outputs": [],
   "source": [
    "# For parsimony dendrogram: generate real genomes' phylum-level colour strip file for iTOL \n",
    "phyla_colours = evaluate.get_phyla_colours()\n",
    "evaluate.colour_real_itol(BASE_DIR, phyla_colours, phylum_dict) # vae_dendro_colours_real.txt\n",
    "#colour = tuple(np.random.randint(256, size=3))"
   ]
  },
  {
   "cell_type": "code",
   "execution_count": null,
   "metadata": {},
   "outputs": [],
   "source": [
    "# For parsimony dendrogram: generate generated genomes' colour strip file for iTOL\n",
    "evaluate.colour_generated_itol(BASE_DIR, phylum_dict) # vae_dendro_colours_generated.txt"
   ]
  },
  {
   "cell_type": "markdown",
   "metadata": {},
   "source": [
    "# Baseline models"
   ]
  },
  {
   "cell_type": "code",
   "execution_count": null,
   "metadata": {},
   "outputs": [],
   "source": [
    "import sklearn as sk\n",
    "from sklearn.metrics import confusion_matrix"
   ]
  },
  {
   "cell_type": "markdown",
   "metadata": {},
   "source": [
    "### Baseline 1: randomly turn on n_rand bits"
   ]
  },
  {
   "cell_type": "code",
   "execution_count": null,
   "metadata": {},
   "outputs": [],
   "source": [
    "new = False\n",
    "\n",
    "if new:\n",
    "    print(\"Generating new baseline 1\")\n",
    "    baseline1 = evaluate.baseline1(corrupted_train, tla_to_mod_to_kos, tnum_to_kos, tla_to_tnum, c_train_genomes, corrupted_test)\n",
    "    torch.save(baseline1, BASE_DIR+\"baseline1.pt\")\n",
    "else:\n",
    "    print(\"Loading previously made baseline 1\")\n",
    "    baseline1 = torch.load(BASE_DIR+\"baseline1.pt\")"
   ]
  },
  {
   "cell_type": "code",
   "execution_count": null,
   "metadata": {},
   "outputs": [],
   "source": [
    "baseline1.shape"
   ]
  },
  {
   "cell_type": "code",
   "execution_count": null,
   "metadata": {},
   "outputs": [],
   "source": [
    "f1 = sk.metrics.f1_score(uncorrupted, baseline1, zero_division=0, average='micro')\n",
    "f1"
   ]
  },
  {
   "cell_type": "code",
   "execution_count": null,
   "metadata": {
    "scrolled": true
   },
   "outputs": [],
   "source": [
    "tns, fps, fns, tps, total = evaluate.glom_confusion(uncorrupted, baseline1)\n",
    "print(round(sum(tns)/total*100,2), round(sum(fps)/total*100,2), round(sum(fns)/total*100,2), round(sum(tps)/total*100,2))\n"
   ]
  },
  {
   "cell_type": "code",
   "execution_count": null,
   "metadata": {},
   "outputs": [],
   "source": [
    "# Plot ROC curve, generate AUC score (micro-average)\n",
    "num_features = int(corrupted_test.shape[1]/2)\n",
    "fig = data_viz.my_roc_curve(uncorrupted.numpy(), baseline1.numpy())"
   ]
  },
  {
   "cell_type": "markdown",
   "metadata": {},
   "source": [
    "### Baseline 2: randomly turn on n_rand bits with the highest probability of being on across the entire training set"
   ]
  },
  {
   "cell_type": "code",
   "execution_count": null,
   "metadata": {},
   "outputs": [],
   "source": [
    "new = True\n",
    "\n",
    "if new:\n",
    "    print(\"Generating new baseline 2\")\n",
    "    baseline2 = evaluate.baseline2(corrupted_test, tla_to_mod_to_kos, tnum_to_kos, tla_to_tnum, c_train_genomes, corrupted_test)\n",
    "    torch.save(baseline2, BASE_DIR+\"baseline2.pt\")\n",
    "else:\n",
    "    print(\"Loading previously made baseline 2\")\n",
    "    baseline2 = torch.load(BASE_DIR+\"baseline2.pt\")\n",
    "    "
   ]
  },
  {
   "cell_type": "code",
   "execution_count": null,
   "metadata": {},
   "outputs": [],
   "source": [
    "f1 = sk.metrics.f1_score(uncorrupted, baseline2, zero_division=0, average='micro')\n",
    "f1"
   ]
  },
  {
   "cell_type": "code",
   "execution_count": null,
   "metadata": {},
   "outputs": [],
   "source": [
    "tns, fps, fns, tps, total = evaluate.glom_confusion(uncorrupted, baseline2)\n",
    "print(round(sum(tns)/total*100,2), round(sum(fps)/total*100,2), round(sum(fns)/total*100,2), round(sum(tps)/total*100,2))\n"
   ]
  },
  {
   "cell_type": "code",
   "execution_count": null,
   "metadata": {},
   "outputs": [],
   "source": [
    "# Plot ROC curve, generate AUC score (micro-average)\n",
    "num_features = int(corrupted_test.shape[1]/2)\n",
    "fig = data_viz.my_roc_curve(uncorrupted.numpy(), baseline2.numpy())"
   ]
  },
  {
   "cell_type": "markdown",
   "metadata": {},
   "source": [
    "### Baseline 3: Create predictions using an untrained version of the VAE model"
   ]
  },
  {
   "cell_type": "code",
   "execution_count": null,
   "metadata": {},
   "outputs": [],
   "source": [
    "new = True\n",
    "\n",
    "if new:\n",
    "    print(\"Generating new baseline 3\")\n",
    "    n_features = int(corrupted_test.shape[1]/2)\n",
    "    fake_model = models.VariationalAutoEncoder(n_features, 3)\n",
    "    fake_model.eval()\n",
    "    with torch.no_grad():\n",
    "        pred = fake_model.forward(corrupted_test[:,:n_features])[0].detach()\n",
    "    baseline3 = evaluate.eval_binarize(pred, 0.5)\n",
    "    torch.save(baseline3, BASE_DIR+\"baseline3.pt\")\n",
    "else:\n",
    "    print(\"Loading previously made baseline 3\")\n",
    "    baseline3 = torch.load(BASE_DIR+\"baseline3.pt\")"
   ]
  },
  {
   "cell_type": "code",
   "execution_count": null,
   "metadata": {},
   "outputs": [],
   "source": [
    "f1 = sk.metrics.f1_score(uncorrupted.long(), baseline3.long(), zero_division=0, average='micro')\n",
    "f1"
   ]
  },
  {
   "cell_type": "code",
   "execution_count": null,
   "metadata": {},
   "outputs": [],
   "source": [
    "tns, fps, fns, tps, total = evaluate.glom_confusion(uncorrupted, baseline3)\n",
    "print(round(sum(tns)/total*100,2), round(sum(fps)/total*100,2), round(sum(fns)/total*100,2), round(sum(tps)/total*100,2))\n"
   ]
  },
  {
   "cell_type": "code",
   "execution_count": null,
   "metadata": {},
   "outputs": [],
   "source": [
    "# Plot ROC curve, generate AUC score (micro-average)\n",
    "num_features = int(corrupted_test.shape[1]/2)\n",
    "fig = data_viz.my_roc_curve(uncorrupted.numpy(), baseline3.numpy())"
   ]
  },
  {
   "cell_type": "markdown",
   "metadata": {},
   "source": [
    "### Baseline 4: Always predict the smallest genome in the training set (Hoaglandella endobia -- hed)"
   ]
  },
  {
   "cell_type": "code",
   "execution_count": null,
   "metadata": {},
   "outputs": [],
   "source": [
    "new = True\n",
    "\n",
    "if new:\n",
    "    print(\"Generating new baseline 4\")\n",
    "    baseline4 = evaluate.baseline4(corrupted_train, corrupted_test, tla_to_tnum, tnum_to_kos, c_train_genomes)\n",
    "    torch.save(baseline4, BASE_DIR+\"baseline4.pt\")\n",
    "else:\n",
    "    print(\"Loading previously made baseline 4\")\n",
    "    baseline4 = torch.load(BASE_DIR+\"baseline4.pt\")"
   ]
  },
  {
   "cell_type": "code",
   "execution_count": null,
   "metadata": {},
   "outputs": [],
   "source": [
    "f1 = sk.metrics.f1_score(uncorrupted, baseline4, zero_division=0, average='micro')\n",
    "f1"
   ]
  },
  {
   "cell_type": "code",
   "execution_count": null,
   "metadata": {},
   "outputs": [],
   "source": [
    "tns, fps, fns, tps, total = evaluate.glom_confusion(uncorrupted, baseline4)\n",
    "print(round(sum(tns)/total*100,2), round(sum(fps)/total*100,2), round(sum(fns)/total*100,2), round(sum(tps)/total*100,2))\n"
   ]
  },
  {
   "cell_type": "code",
   "execution_count": null,
   "metadata": {},
   "outputs": [],
   "source": [
    "# Plot ROC curve, generate AUC score (micro-average)\n",
    "num_features = int(corrupted_test.shape[1]/2)\n",
    "fig = data_viz.my_roc_curve(uncorrupted.numpy(), baseline4.numpy())"
   ]
  },
  {
   "cell_type": "markdown",
   "metadata": {},
   "source": [
    "### Baseline 5: Always predict the largest genome in the training set (Paraburkholderia caribensis -- bcai)"
   ]
  },
  {
   "cell_type": "code",
   "execution_count": null,
   "metadata": {},
   "outputs": [],
   "source": [
    "new = True\n",
    "\n",
    "if new:\n",
    "    print(\"Generating new baseline 5\")\n",
    "    baseline5, largest_tla = evaluate.baseline5(corrupted_train, corrupted_test, tla_to_tnum, tnum_to_kos, c_train_genomes)\n",
    "    torch.save(baseline5, BASE_DIR+\"baseline5.pt\")\n",
    "else:\n",
    "    print(\"Loading previously made baseline 5\")\n",
    "    baseline5 = torch.load(BASE_DIR+\"baseline5.pt\")"
   ]
  },
  {
   "cell_type": "code",
   "execution_count": null,
   "metadata": {},
   "outputs": [],
   "source": [
    "f1 = sk.metrics.f1_score(uncorrupted, baseline5, zero_division=0, average='micro')\n",
    "f1"
   ]
  },
  {
   "cell_type": "code",
   "execution_count": null,
   "metadata": {},
   "outputs": [],
   "source": [
    "tns, fps, fns, tps, total = evaluate.glom_confusion(uncorrupted, baseline5)\n",
    "print(round(sum(tns)/total*100,2), round(sum(fps)/total*100,2), round(sum(fns)/total*100,2), round(sum(tps)/total*100,2))\n"
   ]
  },
  {
   "cell_type": "code",
   "execution_count": null,
   "metadata": {},
   "outputs": [],
   "source": [
    "# Plot ROC curve, generate AUC score (micro-average)\n",
    "num_features = int(corrupted_test.shape[1]/2)\n",
    "fig = data_viz.my_roc_curve(uncorrupted.numpy(), baseline5.numpy())"
   ]
  },
  {
   "cell_type": "markdown",
   "metadata": {},
   "source": [
    "# Potential model improvements"
   ]
  },
  {
   "cell_type": "code",
   "execution_count": null,
   "metadata": {},
   "outputs": [],
   "source": [
    "# Increase dataset set (more corruptions per genome)\n",
    "# For genomes it does poorly on, make more copies\n",
    "# HP tuning\n",
    "# Remove genomes with <1000 KOs ---> get rid of endosymbionts --- will need to redo small genome baseline\n",
    "# Apply different amounts of KLD importance during training\n",
    "# Make 100% of input genes in output (currently ~20% have 100% in and out). Loss mod?"
   ]
  },
  {
   "cell_type": "code",
   "execution_count": null,
   "metadata": {},
   "outputs": [],
   "source": [
    "# We performed a parameter sweep over warmups (κ) (0.01, 0.05, 0.1, and 1). \n",
    "# κ controls how much the KL divergence loss contributes to learning, \n",
    "# which effectively transitions a deterministic autoencoder to a VAE.28,29 \n",
    "# For instance, a κ = 0.1 would add 0.1 to a weight on the KL loss after each epoch. \n",
    "# After 10 epochs, the KL loss will have equal weight as the reconstruction loss. \n",
    "# We did not observe κ to influence model training (Figure 1B), so we kept κ = 1 for downstream analyses."
   ]
  },
  {
   "cell_type": "markdown",
   "metadata": {},
   "source": [
    "# Model output to KAAS input"
   ]
  },
  {
   "cell_type": "code",
   "execution_count": null,
   "metadata": {},
   "outputs": [],
   "source": [
    "# generate NEW genome from 10 random modules\n",
    "\n",
    "######### ensure desired KOs are in output file --- did not happen when used above with tensor instead of df\n",
    "\n",
    "save_to = BASE_DIR+'prot_out_'+str(gen_idx)+'.txt'\n",
    "ko_new = evaluate.new_genome_random(mod_to_ko_clean, model, all_kos, save_to, BASE_DIR)"
   ]
  },
  {
   "cell_type": "code",
   "execution_count": null,
   "metadata": {},
   "outputs": [],
   "source": [
    "gen_idx"
   ]
  },
  {
   "cell_type": "code",
   "execution_count": null,
   "metadata": {},
   "outputs": [],
   "source": []
  },
  {
   "cell_type": "code",
   "execution_count": null,
   "metadata": {},
   "outputs": [],
   "source": []
  },
  {
   "cell_type": "code",
   "execution_count": null,
   "metadata": {},
   "outputs": [],
   "source": []
  },
  {
   "cell_type": "code",
   "execution_count": null,
   "metadata": {},
   "outputs": [],
   "source": []
  },
  {
   "cell_type": "code",
   "execution_count": null,
   "metadata": {},
   "outputs": [],
   "source": []
  }
 ],
 "metadata": {
  "kernelspec": {
   "display_name": "Python 3",
   "language": "python",
   "name": "python3"
  },
  "language_info": {
   "codemirror_mode": {
    "name": "ipython",
    "version": 3
   },
   "file_extension": ".py",
   "mimetype": "text/x-python",
   "name": "python",
   "nbconvert_exporter": "python",
   "pygments_lexer": "ipython3",
   "version": "3.7.6"
  }
 },
 "nbformat": 4,
 "nbformat_minor": 4
}
