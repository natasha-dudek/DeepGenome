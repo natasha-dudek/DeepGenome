{
 "cells": [
  {
   "cell_type": "code",
   "execution_count": null,
   "metadata": {},
   "outputs": [],
   "source": [
    "# automatically upload modules\n",
    "# %load_ext autoreload\n",
    "# %autoreload 2"
   ]
  },
  {
   "cell_type": "code",
   "execution_count": 1,
   "metadata": {},
   "outputs": [],
   "source": [
    "import numpy as np"
   ]
  },
  {
   "cell_type": "code",
   "execution_count": 2,
   "metadata": {},
   "outputs": [
    {
     "name": "stdout",
     "output_type": "stream",
     "text": [
      "running memcache server\n",
      "memcache server started\n"
     ]
    }
   ],
   "source": [
    "from argparse import Namespace\n",
    "import os, sys\n",
    "import pandas as pd\n",
    "#import pickle\n",
    "from ray import tune\n",
    "import ConfigSpace as CS\n",
    "from ray.tune.suggest.bohb import TuneBOHB\n",
    "from ray.tune.schedulers import HyperBandForBOHB\n",
    "import torch\n",
    "import argparse # for ray distributed training\n",
    "\n",
    "\n",
    "from genome_embeddings import data_viz\n",
    "from genome_embeddings import evaluate\n",
    "from genome_embeddings import models\n",
    "from genome_embeddings import train_test\n",
    "from genome_embeddings import util\n",
    "from genome_embeddings import trainable # import before ray (?)\n",
    "import ray"
   ]
  },
  {
   "cell_type": "code",
   "execution_count": null,
   "metadata": {},
   "outputs": [],
   "source": [
    "os.system(\"rm file_out\")\n",
    "os.system(\"rm file_err\")\n",
    "\n",
    "sys.stdout = open('file_out', 'w')\n",
    "sys.stderr = open('file_err', 'w')"
   ]
  },
  {
   "cell_type": "code",
   "execution_count": 3,
   "metadata": {},
   "outputs": [],
   "source": [
    "# settings = Namespace(\n",
    "#     DATA_FP = '/home/ndudek/projects/def-dprecup/ndudek/',\n",
    "#     SAVE_FP = '/home/ndudek/projects/def-dprecup/ndudek/',\n",
    "#     num_epochs = 2,\n",
    "#     num_cpus=1)\n",
    "\n",
    "settings = Namespace(\n",
    "    DATA_FP = '/Users/natasha/Desktop/mcgill_postdoc/ncbi_genomes/genome_embeddings/data/', \n",
    "    SAVE_FP = '/Users/natasha/Desktop/mcgill_postdoc/ncbi_genomes/genome_embeddings/',\n",
    "    num_epochs = 2,\n",
    "    num_cpus=5)"
   ]
  },
  {
   "cell_type": "code",
   "execution_count": 4,
   "metadata": {},
   "outputs": [],
   "source": [
    "flags = Namespace(\n",
    "    KEGG_FP = '/Users/natasha/Desktop/mcgill_postdoc/ncbi_genomes/kegg_dataset/',\n",
    "    data_source = 'kegg', #['get_homologues' | 'kegg']\n",
    "    n_test = 0.1, # train-test split, n * 100 = % of data that goes into test set (e.g.: 0.1 -> 10%)\n",
    "    batch_size = 128,\n",
    "    lr = 1e-3,\n",
    "    kfolds = 10, # number of folds for cross-validation\n",
    "    print_every = 50, # print loss every n batches during training (5)\n",
    "    replacement_threshold = 0.5, # probability over which binarizer converts to a 1\n",
    "    num_corruptions = 100, # number of corrupted versions of a genome to produce\n",
    "    corruption_fraction = 0.5, # fraction of genes to retain during corruption process\n",
    "    phy_mode = \"bacteria_only\", # training with only bacteria vs also euk/arch\n",
    "    cirriculum = False, # implement cirriculum learning based on gene count\n",
    "    rare_threshold = 10, # drop features that occur fewer than this times in training ds \n",
    "    weight_decay=0.1 # L2 regularization\n",
    "    )"
   ]
  },
  {
   "cell_type": "code",
   "execution_count": null,
   "metadata": {},
   "outputs": [],
   "source": [
    "print('done loading modules and setting Namespace variables')"
   ]
  },
  {
   "cell_type": "markdown",
   "metadata": {},
   "source": [
    "### Data exploration + preprocessing "
   ]
  },
  {
   "cell_type": "code",
   "execution_count": null,
   "metadata": {
    "scrolled": true
   },
   "outputs": [],
   "source": [
    "# # First create genome representations (very slow)\n",
    "# # Each genome is a list of KO's and/or KEGG modules\n",
    "# if os.path.isfile(settings.DATA_FP+'genome_to_mod.csv'):\n",
    "#     print(\"Genome representations already exist\")\n",
    "# else:\n",
    "#     genome_rep.genome_kos(flags.KEGG_FP)\n",
    "#     print(\"Must generate genome representations from scratch. This will take several hours.\")"
   ]
  },
  {
   "cell_type": "code",
   "execution_count": null,
   "metadata": {},
   "outputs": [],
   "source": [
    "df, cluster_names = util.load_data(settings.DATA_FP, flags.data_source)\n",
    "genome_to_tax = util.genome_to_tax(df)\n",
    "np.save(settings.DATA_FP+'genome_to_tax.npy', genome_to_tax) "
   ]
  },
  {
   "cell_type": "code",
   "execution_count": null,
   "metadata": {},
   "outputs": [],
   "source": [
    "#data_viz.tax_distrib(df, genome_to_tax)"
   ]
  },
  {
   "cell_type": "code",
   "execution_count": null,
   "metadata": {},
   "outputs": [],
   "source": [
    "#data_viz.module_stats(df)"
   ]
  },
  {
   "cell_type": "code",
   "execution_count": null,
   "metadata": {},
   "outputs": [],
   "source": [
    "#data_viz.genes_per_genome(df)"
   ]
  },
  {
   "cell_type": "code",
   "execution_count": null,
   "metadata": {},
   "outputs": [],
   "source": [
    "# genome_to_tax = util.genome_to_tax(df)"
   ]
  },
  {
   "cell_type": "code",
   "execution_count": null,
   "metadata": {},
   "outputs": [],
   "source": [
    "# train_orig = pd.read_csv(settings.DATA_FP+\"uncorrupted_train_balanced.csv\", index_col=0)"
   ]
  },
  {
   "cell_type": "code",
   "execution_count": null,
   "metadata": {},
   "outputs": [],
   "source": [
    "# train_genomes = list(train_orig.index)"
   ]
  },
  {
   "cell_type": "code",
   "execution_count": null,
   "metadata": {},
   "outputs": [],
   "source": [
    "# Split train-test sets in a phylogenetically balanced manner \n",
    "if os.path.isfile(settings.DATA_FP+'uncorrupted_train_balanced.csv'):\n",
    "    print(\"Train-test split already exists, loading from file\")\n",
    "    train_orig = pd.read_csv(settings.DATA_FP+\"uncorrupted_train_balanced.csv\", index_col=0)    \n",
    "    test_orig = pd.read_csv(settings.DATA_FP+\"uncorrupted_test_balanced.csv\", index_col=0)    \n",
    "\n",
    "else:\n",
    "    # Create dict mapping each genome to a unique numerical ID\n",
    "    genome_to_num ={}\n",
    "    for i,genome in enumerate(df.index):\n",
    "        genome_to_num[genome] = i\n",
    "\n",
    "    num_to_genome = {v: k for k, v in genome_to_num.items()}\n",
    "        \n",
    "    print(\"Generating train-test split\")\n",
    "    train_orig, test_orig = util.balanced_split(df, flags.n_test, genome_to_tax, \n",
    "                                                num_to_genome, settings.DATA_FP)    \n",
    "    train_orig.to_csv(settings.DATA_FP+'uncorrupted_train_balanced.csv')\n",
    "    test_orig.to_csv(settings.DATA_FP+'uncorrupted_test_balanced.csv')"
   ]
  },
  {
   "cell_type": "code",
   "execution_count": null,
   "metadata": {},
   "outputs": [],
   "source": [
    "#data_viz.hist_prob_ko(train_orig)"
   ]
  },
  {
   "cell_type": "code",
   "execution_count": null,
   "metadata": {},
   "outputs": [],
   "source": [
    "if flags.phy_mode == \"bacteria_only\":\n",
    "    train_genomes = train_orig.index.to_list()\n",
    "    test_genomes = test_orig.index.to_list()\n",
    "    \n",
    "    unf_train_data, train_tax_dict = util.bacteria_only(train_orig, train_genomes, genome_to_tax)\n",
    "    unf_test_data, test_tax_dict = util.bacteria_only(test_orig, test_genomes, genome_to_tax)"
   ]
  },
  {
   "cell_type": "code",
   "execution_count": null,
   "metadata": {},
   "outputs": [],
   "source": [
    "# Remove rare features from train + test datasets\n",
    "# Rare = fewer than n occurences in training dataset\n",
    "# Last argument specifies n, set to correspond to 1% of genomes (3432 genomes -> n = 34)\n",
    "# Remove genes occuring in <1.1% of genomes ---> extra 0.1 is to make there be an even number of features\n",
    "#     An even number of features is essential for having the autoencoder layers work out properly\n",
    "train_data, test_data, cluster_names = util.remove_rare(unf_train_data, unf_test_data, \n",
    "                                                        cluster_names, unf_train_data.shape[0]*0.01)"
   ]
  },
  {
   "cell_type": "code",
   "execution_count": null,
   "metadata": {},
   "outputs": [],
   "source": [
    "# Produce corrupted genomes\n",
    "# Could eventually do re-sampling / extra-corrupting to have more examples of \"rare\" genome types\n",
    "#    e.g.: those from underrepresented groups M00003   \n",
    "\n",
    "if os.path.isfile(settings.DATA_FP+'corrupted_train_07-17-20.pt'):\n",
    "    print(\"Corrupted genomes already exist\")\n",
    "    train_data = torch.load(settings.DATA_FP+\"corrupted_train_07-17-20.pt\")\n",
    "    test_data = torch.load(settings.DATA_FP+\"corrupted_test_07-17-20.pt\")\n",
    "    genome_idx_train = torch.load(settings.DATA_FP+\"genome_idx_train_07-17-20.pt\")\n",
    "    genome_idx_test = torch.load(settings.DATA_FP+\"genome_idx_test_07-17-20.pt\")\n",
    "else:\n",
    "    print(\"Generating corrupted dataset from scratch with\",flags.num_corruptions,\"corrupted versions of each genome\")\n",
    "    train_data, genome_idx_train = util.corrupt(train_data, flags.num_corruptions, flags.corruption_fraction, \n",
    "                                                    cluster_names, \"train\", settings.DATA_FP)\n",
    "    print(\"Finished training data, starting test\")\n",
    "    test_data, genome_idx_test = util.corrupt(test_data, flags.num_corruptions, flags.corruption_fraction, \n",
    "                                                  cluster_names, \"test\", settings.DATA_FP)"
   ]
  },
  {
   "cell_type": "code",
   "execution_count": null,
   "metadata": {},
   "outputs": [],
   "source": []
  },
  {
   "cell_type": "code",
   "execution_count": null,
   "metadata": {},
   "outputs": [],
   "source": [
    "sys.stdout.flush()\n",
    "sys.stderr.flush()"
   ]
  },
  {
   "cell_type": "code",
   "execution_count": null,
   "metadata": {},
   "outputs": [],
   "source": [
    "#import numpy as np # this is slooooow\n",
    "#np.savetxt(settings.DATA_FP+\"corrupted_train_1407.txt\", train_data.numpy())\n",
    "#np.savetxt(settings.DATA_FP+\"corrupted_test_1407.txt\", test_data.numpy())"
   ]
  },
  {
   "cell_type": "code",
   "execution_count": null,
   "metadata": {},
   "outputs": [],
   "source": [
    "# print((\"There are %s genomes and %s features in the training dataset\") % \n",
    "#       (train_data.shape[0],int(train_data.shape[1]/2)))\n",
    "\n",
    "# print((\"There are %s genomes and %s features in the test dataset\") % \n",
    "#       (test_data.shape[0],int(test_data.shape[1]/2)))"
   ]
  },
  {
   "cell_type": "code",
   "execution_count": null,
   "metadata": {},
   "outputs": [],
   "source": []
  },
  {
   "cell_type": "markdown",
   "metadata": {},
   "source": [
    "### Define and train network"
   ]
  },
  {
   "cell_type": "code",
   "execution_count": null,
   "metadata": {},
   "outputs": [],
   "source": [
    "# print(train_data.shape[1])"
   ]
  },
  {
   "cell_type": "code",
   "execution_count": null,
   "metadata": {},
   "outputs": [],
   "source": [
    "# num_features = int(train_data.shape[1]/2) # Number of features in the entire dataset (train + test)"
   ]
  },
  {
   "cell_type": "code",
   "execution_count": null,
   "metadata": {},
   "outputs": [],
   "source": [
    "# # define the network\n",
    "# model = models.AutoEncoder(num_features, 2)\n",
    "# print(model)"
   ]
  },
  {
   "cell_type": "code",
   "execution_count": null,
   "metadata": {},
   "outputs": [],
   "source": [
    "sys.stdout.flush()\n",
    "sys.stderr.flush()"
   ]
  },
  {
   "cell_type": "code",
   "execution_count": 5,
   "metadata": {},
   "outputs": [],
   "source": [
    "config_space = CS.ConfigurationSpace()\n",
    "\n",
    "config_space.add_hyperparameter(\n",
    "    CS.CategoricalHyperparameter(name='nn_layers', choices=[1, 2])) #, 3, 4])) \n",
    "\n",
    "config_space.add_hyperparameter(\n",
    "    CS.CategoricalHyperparameter(name='batch_size', choices=[32])) #, 64, 128, 256]))\n",
    "\n",
    "#Optimizer = Adam -- LR less important\n",
    "config_space.add_hyperparameter(\n",
    "    CS.UniformFloatHyperparameter('lr', lower=1e-4, upper=1e-1, log=True))\n",
    "\n",
    "config_space.add_hyperparameter(\n",
    "    CS.UniformFloatHyperparameter('weight_decay', lower=1e-5, upper=1e-2, log=True))\n",
    "\n",
    "algo = TuneBOHB(\n",
    "    config_space, max_concurrent=4, metric='test_f1', mode='max')\n",
    "\n",
    "bohb = HyperBandForBOHB(\n",
    "    time_attr='training_iteration',\n",
    "    metric='test_f1',\n",
    "    mode='max',\n",
    "    max_t=100, \n",
    "    reduction_factor=3)"
   ]
  },
  {
   "cell_type": "code",
   "execution_count": 6,
   "metadata": {},
   "outputs": [
    {
     "data": {
      "text/plain": [
       "{}"
      ]
     },
     "execution_count": 6,
     "metadata": {},
     "output_type": "execute_result"
    }
   ],
   "source": [
    "memory = 2000 * 1024 * 1024\n",
    "object_store_memory = 200 * 1024 * 1024\n",
    "driver_object_store_memory=100 * 1024 * 1024\n",
    "ray.shutdown()\n",
    "ray.init(local_mode=True, memory=memory, \n",
    "        object_store_memory=object_store_memory,\n",
    "        driver_object_store_memory=driver_object_store_memory,\n",
    "        num_cpus=1)\n",
    "\n",
    "# redis_password = sys.argv[1]\n",
    "# num_cpus = int(sys.argv[2])\n",
    "\n",
    "# ray.init(address=os.environ[\"ip_head\"], redis_password=redis_password)"
   ]
  },
  {
   "cell_type": "code",
   "execution_count": 7,
   "metadata": {},
   "outputs": [],
   "source": [
    "config = {\"num_workers\": 1,\n",
    "         \"num_epochs\":settings.num_epochs,\n",
    "         \"kfolds\":flags.kfolds,\n",
    "         \"replacement_threshold\": flags.replacement_threshold}"
   ]
  },
  {
   "cell_type": "code",
   "execution_count": 8,
   "metadata": {},
   "outputs": [],
   "source": [
    "# num_epochs = 10"
   ]
  },
  {
   "cell_type": "code",
   "execution_count": 9,
   "metadata": {},
   "outputs": [
    {
     "data": {
      "text/html": [
       "== Status ==<br>Memory usage on this node: 18.3/32.0 GiB<br>Using HyperBand: num_stopped=0 total_brackets=1\n",
       "Round #0:\n",
       "  Bracket(Max Size (n)=81, Milestone (r)=1, completed=0.0%): {PENDING: 3, RUNNING: 1} <br>Resources requested: 5/12 CPUs, 0/0 GPUs, 0.0/10.45 GiB heap, 0.0/3.56 GiB objects<br>Result logdir: /Users/natasha/Desktop/mcgill_postdoc/ncbi_genomes/genome_embeddings/TUNE_RESULT_DIR/exp_1<br>Number of trials: 4 (1 RUNNING, 3 PENDING)<br><table>\n",
       "<thead>\n",
       "<tr><th>Trial name       </th><th>status  </th><th>loc  </th><th>batch_size  </th><th>weight_decay  </th><th>nn_layers  </th><th>lr  </th></tr>\n",
       "</thead>\n",
       "<tbody>\n",
       "<tr><td>train_AE_491eb01e</td><td>RUNNING </td><td>     </td><td>            </td><td>              </td><td>           </td><td>    </td></tr>\n",
       "<tr><td>train_AE_491ede7c</td><td>PENDING </td><td>     </td><td>            </td><td>              </td><td>           </td><td>    </td></tr>\n",
       "<tr><td>train_AE_491f0140</td><td>PENDING </td><td>     </td><td>            </td><td>              </td><td>           </td><td>    </td></tr>\n",
       "<tr><td>train_AE_491f2ab2</td><td>PENDING </td><td>     </td><td>            </td><td>              </td><td>           </td><td>    </td></tr>\n",
       "</tbody>\n",
       "</table><br><br>"
      ],
      "text/plain": [
       "<IPython.core.display.HTML object>"
      ]
     },
     "metadata": {},
     "output_type": "display_data"
    },
    {
     "data": {
      "text/html": [
       "== Status ==<br>Memory usage on this node: 19.1/32.0 GiB<br>Using HyperBand: num_stopped=0 total_brackets=1\n",
       "Round #0:\n",
       "  Bracket(Max Size (n)=81, Milestone (r)=1, completed=0.0%): {PENDING: 2, RUNNING: 2} <br>Resources requested: 10/12 CPUs, 0/0 GPUs, 0.0/10.3 GiB heap, 0.0/3.56 GiB objects<br>Result logdir: /Users/natasha/Desktop/mcgill_postdoc/ncbi_genomes/genome_embeddings/TUNE_RESULT_DIR/exp_1<br>Number of trials: 4 (2 RUNNING, 2 PENDING)<br><table>\n",
       "<thead>\n",
       "<tr><th>Trial name       </th><th>status  </th><th>loc  </th><th>batch_size  </th><th>weight_decay  </th><th>nn_layers  </th><th>lr  </th></tr>\n",
       "</thead>\n",
       "<tbody>\n",
       "<tr><td>train_AE_491eb01e</td><td>RUNNING </td><td>     </td><td>            </td><td>              </td><td>           </td><td>    </td></tr>\n",
       "<tr><td>train_AE_491ede7c</td><td>RUNNING </td><td>     </td><td>            </td><td>              </td><td>           </td><td>    </td></tr>\n",
       "<tr><td>train_AE_491f0140</td><td>PENDING </td><td>     </td><td>            </td><td>              </td><td>           </td><td>    </td></tr>\n",
       "<tr><td>train_AE_491f2ab2</td><td>PENDING </td><td>     </td><td>            </td><td>              </td><td>           </td><td>    </td></tr>\n",
       "</tbody>\n",
       "</table><br><br>"
      ],
      "text/plain": [
       "<IPython.core.display.HTML object>"
      ]
     },
     "metadata": {},
     "output_type": "display_data"
    },
    {
     "data": {
      "text/html": [
       "== Status ==<br>Memory usage on this node: 19.2/32.0 GiB<br>Using HyperBand: num_stopped=0 total_brackets=1\n",
       "Round #0:\n",
       "  Bracket(Max Size (n)=81, Milestone (r)=1, completed=0.5%): {PAUSED: 2, PENDING: 2, RUNNING: 2} <br>Resources requested: 10/12 CPUs, 0/0 GPUs, 0.0/9.81 GiB heap, 0.0/3.37 GiB objects<br>Result logdir: /Users/natasha/Desktop/mcgill_postdoc/ncbi_genomes/genome_embeddings/TUNE_RESULT_DIR/exp_1<br>Number of trials: 6 (2 PAUSED, 2 RUNNING, 2 PENDING)<br><table>\n",
       "<thead>\n",
       "<tr><th>Trial name       </th><th>status  </th><th>loc  </th><th style=\"text-align: right;\">  batch_size</th><th style=\"text-align: right;\">  weight_decay</th><th style=\"text-align: right;\">  nn_layers</th><th style=\"text-align: right;\">        lr</th><th style=\"text-align: right;\">  total time (s)</th><th style=\"text-align: right;\">  iter</th></tr>\n",
       "</thead>\n",
       "<tbody>\n",
       "<tr><td>train_AE_491eb01e</td><td>PAUSED  </td><td>     </td><td style=\"text-align: right;\">          32</td><td style=\"text-align: right;\">   0.000429243</td><td style=\"text-align: right;\">          1</td><td style=\"text-align: right;\">0.00717318</td><td style=\"text-align: right;\">         3.84208</td><td style=\"text-align: right;\">     1</td></tr>\n",
       "<tr><td>train_AE_491ede7c</td><td>PAUSED  </td><td>     </td><td style=\"text-align: right;\">          32</td><td style=\"text-align: right;\">   7.6929e-05 </td><td style=\"text-align: right;\">          1</td><td style=\"text-align: right;\">0.00526103</td><td style=\"text-align: right;\">        36.712  </td><td style=\"text-align: right;\">     1</td></tr>\n",
       "<tr><td>train_AE_491f0140</td><td>RUNNING </td><td>     </td><td style=\"text-align: right;\">            </td><td style=\"text-align: right;\">              </td><td style=\"text-align: right;\">           </td><td style=\"text-align: right;\">          </td><td style=\"text-align: right;\">                </td><td style=\"text-align: right;\">      </td></tr>\n",
       "<tr><td>train_AE_491f2ab2</td><td>RUNNING </td><td>     </td><td style=\"text-align: right;\">            </td><td style=\"text-align: right;\">              </td><td style=\"text-align: right;\">           </td><td style=\"text-align: right;\">          </td><td style=\"text-align: right;\">                </td><td style=\"text-align: right;\">      </td></tr>\n",
       "<tr><td>train_AE_491f500a</td><td>PENDING </td><td>     </td><td style=\"text-align: right;\">            </td><td style=\"text-align: right;\">              </td><td style=\"text-align: right;\">           </td><td style=\"text-align: right;\">          </td><td style=\"text-align: right;\">                </td><td style=\"text-align: right;\">      </td></tr>\n",
       "<tr><td>train_AE_6167d786</td><td>PENDING </td><td>     </td><td style=\"text-align: right;\">            </td><td style=\"text-align: right;\">              </td><td style=\"text-align: right;\">           </td><td style=\"text-align: right;\">          </td><td style=\"text-align: right;\">                </td><td style=\"text-align: right;\">      </td></tr>\n",
       "</tbody>\n",
       "</table><br><br>"
      ],
      "text/plain": [
       "<IPython.core.display.HTML object>"
      ]
     },
     "metadata": {},
     "output_type": "display_data"
    },
    {
     "data": {
      "text/html": [
       "== Status ==<br>Memory usage on this node: 19.3/32.0 GiB<br>Using HyperBand: num_stopped=0 total_brackets=1\n",
       "Round #0:\n",
       "  Bracket(Max Size (n)=81, Milestone (r)=1, completed=0.7%): {PAUSED: 3, PENDING: 2, RUNNING: 2} <br>Resources requested: 10/12 CPUs, 0/0 GPUs, 0.0/9.81 GiB heap, 0.0/3.37 GiB objects<br>Result logdir: /Users/natasha/Desktop/mcgill_postdoc/ncbi_genomes/genome_embeddings/TUNE_RESULT_DIR/exp_1<br>Number of trials: 7 (3 PAUSED, 2 RUNNING, 2 PENDING)<br><table>\n",
       "<thead>\n",
       "<tr><th>Trial name       </th><th>status  </th><th>loc  </th><th style=\"text-align: right;\">  batch_size</th><th style=\"text-align: right;\">  weight_decay</th><th style=\"text-align: right;\">  nn_layers</th><th style=\"text-align: right;\">        lr</th><th style=\"text-align: right;\">  total time (s)</th><th style=\"text-align: right;\">  iter</th></tr>\n",
       "</thead>\n",
       "<tbody>\n",
       "<tr><td>train_AE_491eb01e</td><td>PAUSED  </td><td>     </td><td style=\"text-align: right;\">          32</td><td style=\"text-align: right;\">   0.000429243</td><td style=\"text-align: right;\">          1</td><td style=\"text-align: right;\">0.00717318</td><td style=\"text-align: right;\">         3.84208</td><td style=\"text-align: right;\">     1</td></tr>\n",
       "<tr><td>train_AE_491ede7c</td><td>PAUSED  </td><td>     </td><td style=\"text-align: right;\">          32</td><td style=\"text-align: right;\">   7.6929e-05 </td><td style=\"text-align: right;\">          1</td><td style=\"text-align: right;\">0.00526103</td><td style=\"text-align: right;\">        36.712  </td><td style=\"text-align: right;\">     1</td></tr>\n",
       "<tr><td>train_AE_491f0140</td><td>PAUSED  </td><td>     </td><td style=\"text-align: right;\">          32</td><td style=\"text-align: right;\">   0.000135728</td><td style=\"text-align: right;\">          2</td><td style=\"text-align: right;\">0.00201257</td><td style=\"text-align: right;\">         1.49926</td><td style=\"text-align: right;\">     1</td></tr>\n",
       "<tr><td>train_AE_491f2ab2</td><td>RUNNING </td><td>     </td><td style=\"text-align: right;\">            </td><td style=\"text-align: right;\">              </td><td style=\"text-align: right;\">           </td><td style=\"text-align: right;\">          </td><td style=\"text-align: right;\">                </td><td style=\"text-align: right;\">      </td></tr>\n",
       "<tr><td>train_AE_491f500a</td><td>RUNNING </td><td>     </td><td style=\"text-align: right;\">            </td><td style=\"text-align: right;\">              </td><td style=\"text-align: right;\">           </td><td style=\"text-align: right;\">          </td><td style=\"text-align: right;\">                </td><td style=\"text-align: right;\">      </td></tr>\n",
       "<tr><td>train_AE_6167d786</td><td>PENDING </td><td>     </td><td style=\"text-align: right;\">            </td><td style=\"text-align: right;\">              </td><td style=\"text-align: right;\">           </td><td style=\"text-align: right;\">          </td><td style=\"text-align: right;\">                </td><td style=\"text-align: right;\">      </td></tr>\n",
       "<tr><td>train_AE_624eec16</td><td>PENDING </td><td>     </td><td style=\"text-align: right;\">            </td><td style=\"text-align: right;\">              </td><td style=\"text-align: right;\">           </td><td style=\"text-align: right;\">          </td><td style=\"text-align: right;\">                </td><td style=\"text-align: right;\">      </td></tr>\n",
       "</tbody>\n",
       "</table><br><br>"
      ],
      "text/plain": [
       "<IPython.core.display.HTML object>"
      ]
     },
     "metadata": {},
     "output_type": "display_data"
    },
    {
     "data": {
      "text/html": [
       "== Status ==<br>Memory usage on this node: 19.3/32.0 GiB<br>Using HyperBand: num_stopped=0 total_brackets=1\n",
       "Round #0:\n",
       "  Bracket(Max Size (n)=81, Milestone (r)=1, completed=1.0%): {PAUSED: 4, PENDING: 2, RUNNING: 2} <br>Resources requested: 10/12 CPUs, 0/0 GPUs, 0.0/9.77 GiB heap, 0.0/3.37 GiB objects<br>Result logdir: /Users/natasha/Desktop/mcgill_postdoc/ncbi_genomes/genome_embeddings/TUNE_RESULT_DIR/exp_1<br>Number of trials: 8 (4 PAUSED, 2 RUNNING, 2 PENDING)<br><table>\n",
       "<thead>\n",
       "<tr><th>Trial name       </th><th>status  </th><th>loc  </th><th style=\"text-align: right;\">  batch_size</th><th style=\"text-align: right;\">  weight_decay</th><th style=\"text-align: right;\">  nn_layers</th><th style=\"text-align: right;\">        lr</th><th style=\"text-align: right;\">  total time (s)</th><th style=\"text-align: right;\">  iter</th></tr>\n",
       "</thead>\n",
       "<tbody>\n",
       "<tr><td>train_AE_491eb01e</td><td>PAUSED  </td><td>     </td><td style=\"text-align: right;\">          32</td><td style=\"text-align: right;\">   0.000429243</td><td style=\"text-align: right;\">          1</td><td style=\"text-align: right;\">0.00717318</td><td style=\"text-align: right;\">         3.84208</td><td style=\"text-align: right;\">     1</td></tr>\n",
       "<tr><td>train_AE_491ede7c</td><td>PAUSED  </td><td>     </td><td style=\"text-align: right;\">          32</td><td style=\"text-align: right;\">   7.6929e-05 </td><td style=\"text-align: right;\">          1</td><td style=\"text-align: right;\">0.00526103</td><td style=\"text-align: right;\">        36.712  </td><td style=\"text-align: right;\">     1</td></tr>\n",
       "<tr><td>train_AE_491f0140</td><td>PAUSED  </td><td>     </td><td style=\"text-align: right;\">          32</td><td style=\"text-align: right;\">   0.000135728</td><td style=\"text-align: right;\">          2</td><td style=\"text-align: right;\">0.00201257</td><td style=\"text-align: right;\">         1.49926</td><td style=\"text-align: right;\">     1</td></tr>\n",
       "<tr><td>train_AE_491f2ab2</td><td>RUNNING </td><td>     </td><td style=\"text-align: right;\">            </td><td style=\"text-align: right;\">              </td><td style=\"text-align: right;\">           </td><td style=\"text-align: right;\">          </td><td style=\"text-align: right;\">                </td><td style=\"text-align: right;\">      </td></tr>\n",
       "<tr><td>train_AE_491f500a</td><td>PAUSED  </td><td>     </td><td style=\"text-align: right;\">          32</td><td style=\"text-align: right;\">   0.00566997 </td><td style=\"text-align: right;\">          1</td><td style=\"text-align: right;\">0.0731945 </td><td style=\"text-align: right;\">        27.8273 </td><td style=\"text-align: right;\">     1</td></tr>\n",
       "<tr><td>train_AE_6167d786</td><td>RUNNING </td><td>     </td><td style=\"text-align: right;\">            </td><td style=\"text-align: right;\">              </td><td style=\"text-align: right;\">           </td><td style=\"text-align: right;\">          </td><td style=\"text-align: right;\">                </td><td style=\"text-align: right;\">      </td></tr>\n",
       "<tr><td>train_AE_624eec16</td><td>PENDING </td><td>     </td><td style=\"text-align: right;\">            </td><td style=\"text-align: right;\">              </td><td style=\"text-align: right;\">           </td><td style=\"text-align: right;\">          </td><td style=\"text-align: right;\">                </td><td style=\"text-align: right;\">      </td></tr>\n",
       "<tr><td>train_AE_659075e8</td><td>PENDING </td><td>     </td><td style=\"text-align: right;\">            </td><td style=\"text-align: right;\">              </td><td style=\"text-align: right;\">           </td><td style=\"text-align: right;\">          </td><td style=\"text-align: right;\">                </td><td style=\"text-align: right;\">      </td></tr>\n",
       "</tbody>\n",
       "</table><br><br>"
      ],
      "text/plain": [
       "<IPython.core.display.HTML object>"
      ]
     },
     "metadata": {},
     "output_type": "display_data"
    },
    {
     "data": {
      "text/html": [
       "== Status ==<br>Memory usage on this node: 19.3/32.0 GiB<br>Using HyperBand: num_stopped=0 total_brackets=1\n",
       "Round #0:\n",
       "  Bracket(Max Size (n)=81, Milestone (r)=1, completed=1.2%): {PAUSED: 5, PENDING: 2, RUNNING: 2} <br>Resources requested: 10/12 CPUs, 0/0 GPUs, 0.0/9.72 GiB heap, 0.0/3.32 GiB objects<br>Result logdir: /Users/natasha/Desktop/mcgill_postdoc/ncbi_genomes/genome_embeddings/TUNE_RESULT_DIR/exp_1<br>Number of trials: 9 (5 PAUSED, 2 RUNNING, 2 PENDING)<br><table>\n",
       "<thead>\n",
       "<tr><th>Trial name       </th><th>status  </th><th>loc  </th><th style=\"text-align: right;\">  batch_size</th><th style=\"text-align: right;\">  weight_decay</th><th style=\"text-align: right;\">  nn_layers</th><th style=\"text-align: right;\">        lr</th><th style=\"text-align: right;\">  total time (s)</th><th style=\"text-align: right;\">  iter</th></tr>\n",
       "</thead>\n",
       "<tbody>\n",
       "<tr><td>train_AE_491eb01e</td><td>PAUSED  </td><td>     </td><td style=\"text-align: right;\">          32</td><td style=\"text-align: right;\">   0.000429243</td><td style=\"text-align: right;\">          1</td><td style=\"text-align: right;\">0.00717318</td><td style=\"text-align: right;\">         3.84208</td><td style=\"text-align: right;\">     1</td></tr>\n",
       "<tr><td>train_AE_491ede7c</td><td>PAUSED  </td><td>     </td><td style=\"text-align: right;\">          32</td><td style=\"text-align: right;\">   7.6929e-05 </td><td style=\"text-align: right;\">          1</td><td style=\"text-align: right;\">0.00526103</td><td style=\"text-align: right;\">        36.712  </td><td style=\"text-align: right;\">     1</td></tr>\n",
       "<tr><td>train_AE_491f0140</td><td>PAUSED  </td><td>     </td><td style=\"text-align: right;\">          32</td><td style=\"text-align: right;\">   0.000135728</td><td style=\"text-align: right;\">          2</td><td style=\"text-align: right;\">0.00201257</td><td style=\"text-align: right;\">         1.49926</td><td style=\"text-align: right;\">     1</td></tr>\n",
       "<tr><td>train_AE_491f2ab2</td><td>PAUSED  </td><td>     </td><td style=\"text-align: right;\">          32</td><td style=\"text-align: right;\">   0.00247233 </td><td style=\"text-align: right;\">          1</td><td style=\"text-align: right;\">0.0189697 </td><td style=\"text-align: right;\">         5.45071</td><td style=\"text-align: right;\">     1</td></tr>\n",
       "<tr><td>train_AE_491f500a</td><td>PAUSED  </td><td>     </td><td style=\"text-align: right;\">          32</td><td style=\"text-align: right;\">   0.00566997 </td><td style=\"text-align: right;\">          1</td><td style=\"text-align: right;\">0.0731945 </td><td style=\"text-align: right;\">        27.8273 </td><td style=\"text-align: right;\">     1</td></tr>\n",
       "<tr><td>train_AE_6167d786</td><td>RUNNING </td><td>     </td><td style=\"text-align: right;\">            </td><td style=\"text-align: right;\">              </td><td style=\"text-align: right;\">           </td><td style=\"text-align: right;\">          </td><td style=\"text-align: right;\">                </td><td style=\"text-align: right;\">      </td></tr>\n",
       "<tr><td>train_AE_624eec16</td><td>RUNNING </td><td>     </td><td style=\"text-align: right;\">            </td><td style=\"text-align: right;\">              </td><td style=\"text-align: right;\">           </td><td style=\"text-align: right;\">          </td><td style=\"text-align: right;\">                </td><td style=\"text-align: right;\">      </td></tr>\n",
       "<tr><td>train_AE_659075e8</td><td>PENDING </td><td>     </td><td style=\"text-align: right;\">            </td><td style=\"text-align: right;\">              </td><td style=\"text-align: right;\">           </td><td style=\"text-align: right;\">          </td><td style=\"text-align: right;\">                </td><td style=\"text-align: right;\">      </td></tr>\n",
       "<tr><td>train_AE_7628b12c</td><td>PENDING </td><td>     </td><td style=\"text-align: right;\">            </td><td style=\"text-align: right;\">              </td><td style=\"text-align: right;\">           </td><td style=\"text-align: right;\">          </td><td style=\"text-align: right;\">                </td><td style=\"text-align: right;\">      </td></tr>\n",
       "</tbody>\n",
       "</table><br><br>"
      ],
      "text/plain": [
       "<IPython.core.display.HTML object>"
      ]
     },
     "metadata": {},
     "output_type": "display_data"
    },
    {
     "data": {
      "text/html": [
       "== Status ==<br>Memory usage on this node: 19.4/32.0 GiB<br>Using HyperBand: num_stopped=0 total_brackets=1\n",
       "Round #0:\n",
       "  Bracket(Max Size (n)=81, Milestone (r)=1, completed=1.2%): {ERROR: 1, PAUSED: 5, PENDING: 2, RUNNING: 2} <br>Resources requested: 10/12 CPUs, 0/0 GPUs, 0.0/9.72 GiB heap, 0.0/3.32 GiB objects<br>Result logdir: /Users/natasha/Desktop/mcgill_postdoc/ncbi_genomes/genome_embeddings/TUNE_RESULT_DIR/exp_1<br>Number of trials: 10 (5 PAUSED, 2 RUNNING, 1 ERROR, 2 PENDING)<br><table>\n",
       "<thead>\n",
       "<tr><th>Trial name       </th><th>status  </th><th>loc  </th><th style=\"text-align: right;\">  batch_size</th><th style=\"text-align: right;\">  weight_decay</th><th style=\"text-align: right;\">  nn_layers</th><th style=\"text-align: right;\">        lr</th><th style=\"text-align: right;\">  total time (s)</th><th style=\"text-align: right;\">  iter</th></tr>\n",
       "</thead>\n",
       "<tbody>\n",
       "<tr><td>train_AE_491eb01e</td><td>PAUSED  </td><td>     </td><td style=\"text-align: right;\">          32</td><td style=\"text-align: right;\">   0.000429243</td><td style=\"text-align: right;\">          1</td><td style=\"text-align: right;\">0.00717318</td><td style=\"text-align: right;\">         3.84208</td><td style=\"text-align: right;\">     1</td></tr>\n",
       "<tr><td>train_AE_491ede7c</td><td>PAUSED  </td><td>     </td><td style=\"text-align: right;\">          32</td><td style=\"text-align: right;\">   7.6929e-05 </td><td style=\"text-align: right;\">          1</td><td style=\"text-align: right;\">0.00526103</td><td style=\"text-align: right;\">        36.712  </td><td style=\"text-align: right;\">     1</td></tr>\n",
       "<tr><td>train_AE_491f0140</td><td>PAUSED  </td><td>     </td><td style=\"text-align: right;\">          32</td><td style=\"text-align: right;\">   0.000135728</td><td style=\"text-align: right;\">          2</td><td style=\"text-align: right;\">0.00201257</td><td style=\"text-align: right;\">         1.49926</td><td style=\"text-align: right;\">     1</td></tr>\n",
       "<tr><td>train_AE_491f2ab2</td><td>PAUSED  </td><td>     </td><td style=\"text-align: right;\">          32</td><td style=\"text-align: right;\">   0.00247233 </td><td style=\"text-align: right;\">          1</td><td style=\"text-align: right;\">0.0189697 </td><td style=\"text-align: right;\">         5.45071</td><td style=\"text-align: right;\">     1</td></tr>\n",
       "<tr><td>train_AE_491f500a</td><td>PAUSED  </td><td>     </td><td style=\"text-align: right;\">          32</td><td style=\"text-align: right;\">   0.00566997 </td><td style=\"text-align: right;\">          1</td><td style=\"text-align: right;\">0.0731945 </td><td style=\"text-align: right;\">        27.8273 </td><td style=\"text-align: right;\">     1</td></tr>\n",
       "<tr><td>train_AE_6167d786</td><td>RUNNING </td><td>     </td><td style=\"text-align: right;\">            </td><td style=\"text-align: right;\">              </td><td style=\"text-align: right;\">           </td><td style=\"text-align: right;\">          </td><td style=\"text-align: right;\">                </td><td style=\"text-align: right;\">      </td></tr>\n",
       "<tr><td>train_AE_624eec16</td><td>ERROR   </td><td>     </td><td style=\"text-align: right;\">            </td><td style=\"text-align: right;\">              </td><td style=\"text-align: right;\">           </td><td style=\"text-align: right;\">          </td><td style=\"text-align: right;\">                </td><td style=\"text-align: right;\">      </td></tr>\n",
       "<tr><td>train_AE_659075e8</td><td>RUNNING </td><td>     </td><td style=\"text-align: right;\">            </td><td style=\"text-align: right;\">              </td><td style=\"text-align: right;\">           </td><td style=\"text-align: right;\">          </td><td style=\"text-align: right;\">                </td><td style=\"text-align: right;\">      </td></tr>\n",
       "<tr><td>train_AE_7628b12c</td><td>PENDING </td><td>     </td><td style=\"text-align: right;\">            </td><td style=\"text-align: right;\">              </td><td style=\"text-align: right;\">           </td><td style=\"text-align: right;\">          </td><td style=\"text-align: right;\">                </td><td style=\"text-align: right;\">      </td></tr>\n",
       "<tr><td>train_AE_8a292b0c</td><td>PENDING </td><td>     </td><td style=\"text-align: right;\">            </td><td style=\"text-align: right;\">              </td><td style=\"text-align: right;\">           </td><td style=\"text-align: right;\">          </td><td style=\"text-align: right;\">                </td><td style=\"text-align: right;\">      </td></tr>\n",
       "</tbody>\n",
       "</table><br>Number of errored trials: 1<br><table>\n",
       "<thead>\n",
       "<tr><th>Trial name       </th><th style=\"text-align: right;\">  # failures</th><th>error file                                                                                                                                                                                                                                                         </th></tr>\n",
       "</thead>\n",
       "<tbody>\n",
       "<tr><td>train_AE_624eec16</td><td style=\"text-align: right;\">           1</td><td>/Users/natasha/Desktop/mcgill_postdoc/ncbi_genomes/genome_embeddings/TUNE_RESULT_DIR/exp_1/train_AE_624eec16_7_batch_size=32,kfolds=10,lr=0.01129,nn_layers=1,num_epochs=2,num_workers=1,replacement_threshold=0.5,weight_dec_2020-07-24_10-32-45kyhu8ujy/error.txt</td></tr>\n",
       "</tbody>\n",
       "</table><br>"
      ],
      "text/plain": [
       "<IPython.core.display.HTML object>"
      ]
     },
     "metadata": {},
     "output_type": "display_data"
    },
    {
     "data": {
      "text/html": [
       "== Status ==<br>Memory usage on this node: 19.4/32.0 GiB<br>Using HyperBand: num_stopped=0 total_brackets=1\n",
       "Round #0:\n",
       "  Bracket(Max Size (n)=81, Milestone (r)=1, completed=1.5%): {ERROR: 1, PAUSED: 6, PENDING: 1, RUNNING: 2} <br>Resources requested: 10/12 CPUs, 0/0 GPUs, 0.0/9.72 GiB heap, 0.0/3.32 GiB objects<br>Result logdir: /Users/natasha/Desktop/mcgill_postdoc/ncbi_genomes/genome_embeddings/TUNE_RESULT_DIR/exp_1<br>Number of trials: 10 (6 PAUSED, 1 ERROR, 2 RUNNING, 1 PENDING)<br><table>\n",
       "<thead>\n",
       "<tr><th>Trial name       </th><th>status  </th><th>loc  </th><th style=\"text-align: right;\">  batch_size</th><th style=\"text-align: right;\">  weight_decay</th><th style=\"text-align: right;\">  nn_layers</th><th style=\"text-align: right;\">         lr</th><th style=\"text-align: right;\">  total time (s)</th><th style=\"text-align: right;\">  iter</th></tr>\n",
       "</thead>\n",
       "<tbody>\n",
       "<tr><td>train_AE_491eb01e</td><td>PAUSED  </td><td>     </td><td style=\"text-align: right;\">          32</td><td style=\"text-align: right;\">   0.000429243</td><td style=\"text-align: right;\">          1</td><td style=\"text-align: right;\">0.00717318 </td><td style=\"text-align: right;\">         3.84208</td><td style=\"text-align: right;\">     1</td></tr>\n",
       "<tr><td>train_AE_491ede7c</td><td>PAUSED  </td><td>     </td><td style=\"text-align: right;\">          32</td><td style=\"text-align: right;\">   7.6929e-05 </td><td style=\"text-align: right;\">          1</td><td style=\"text-align: right;\">0.00526103 </td><td style=\"text-align: right;\">        36.712  </td><td style=\"text-align: right;\">     1</td></tr>\n",
       "<tr><td>train_AE_491f0140</td><td>PAUSED  </td><td>     </td><td style=\"text-align: right;\">          32</td><td style=\"text-align: right;\">   0.000135728</td><td style=\"text-align: right;\">          2</td><td style=\"text-align: right;\">0.00201257 </td><td style=\"text-align: right;\">         1.49926</td><td style=\"text-align: right;\">     1</td></tr>\n",
       "<tr><td>train_AE_491f2ab2</td><td>PAUSED  </td><td>     </td><td style=\"text-align: right;\">          32</td><td style=\"text-align: right;\">   0.00247233 </td><td style=\"text-align: right;\">          1</td><td style=\"text-align: right;\">0.0189697  </td><td style=\"text-align: right;\">         5.45071</td><td style=\"text-align: right;\">     1</td></tr>\n",
       "<tr><td>train_AE_491f500a</td><td>PAUSED  </td><td>     </td><td style=\"text-align: right;\">          32</td><td style=\"text-align: right;\">   0.00566997 </td><td style=\"text-align: right;\">          1</td><td style=\"text-align: right;\">0.0731945  </td><td style=\"text-align: right;\">        27.8273 </td><td style=\"text-align: right;\">     1</td></tr>\n",
       "<tr><td>train_AE_6167d786</td><td>PAUSED  </td><td>     </td><td style=\"text-align: right;\">          32</td><td style=\"text-align: right;\">   0.00079759 </td><td style=\"text-align: right;\">          2</td><td style=\"text-align: right;\">0.000497296</td><td style=\"text-align: right;\">        33.4056 </td><td style=\"text-align: right;\">     1</td></tr>\n",
       "<tr><td>train_AE_624eec16</td><td>ERROR   </td><td>     </td><td style=\"text-align: right;\">            </td><td style=\"text-align: right;\">              </td><td style=\"text-align: right;\">           </td><td style=\"text-align: right;\">           </td><td style=\"text-align: right;\">                </td><td style=\"text-align: right;\">      </td></tr>\n",
       "<tr><td>train_AE_659075e8</td><td>RUNNING </td><td>     </td><td style=\"text-align: right;\">            </td><td style=\"text-align: right;\">              </td><td style=\"text-align: right;\">           </td><td style=\"text-align: right;\">           </td><td style=\"text-align: right;\">                </td><td style=\"text-align: right;\">      </td></tr>\n",
       "<tr><td>train_AE_7628b12c</td><td>RUNNING </td><td>     </td><td style=\"text-align: right;\">            </td><td style=\"text-align: right;\">              </td><td style=\"text-align: right;\">           </td><td style=\"text-align: right;\">           </td><td style=\"text-align: right;\">                </td><td style=\"text-align: right;\">      </td></tr>\n",
       "<tr><td>train_AE_8a292b0c</td><td>PENDING </td><td>     </td><td style=\"text-align: right;\">            </td><td style=\"text-align: right;\">              </td><td style=\"text-align: right;\">           </td><td style=\"text-align: right;\">           </td><td style=\"text-align: right;\">                </td><td style=\"text-align: right;\">      </td></tr>\n",
       "</tbody>\n",
       "</table><br>Number of errored trials: 1<br><table>\n",
       "<thead>\n",
       "<tr><th>Trial name       </th><th style=\"text-align: right;\">  # failures</th><th>error file                                                                                                                                                                                                                                                         </th></tr>\n",
       "</thead>\n",
       "<tbody>\n",
       "<tr><td>train_AE_624eec16</td><td style=\"text-align: right;\">           1</td><td>/Users/natasha/Desktop/mcgill_postdoc/ncbi_genomes/genome_embeddings/TUNE_RESULT_DIR/exp_1/train_AE_624eec16_7_batch_size=32,kfolds=10,lr=0.01129,nn_layers=1,num_epochs=2,num_workers=1,replacement_threshold=0.5,weight_dec_2020-07-24_10-32-45kyhu8ujy/error.txt</td></tr>\n",
       "</tbody>\n",
       "</table><br>"
      ],
      "text/plain": [
       "<IPython.core.display.HTML object>"
      ]
     },
     "metadata": {},
     "output_type": "display_data"
    },
    {
     "data": {
      "text/html": [
       "== Status ==<br>Memory usage on this node: 19.2/32.0 GiB<br>Using HyperBand: num_stopped=0 total_brackets=1\n",
       "Round #0:\n",
       "  Bracket(Max Size (n)=81, Milestone (r)=1, completed=1.7%): {ERROR: 1, PAUSED: 7, RUNNING: 2} <br>Resources requested: 10/12 CPUs, 0/0 GPUs, 0.0/9.67 GiB heap, 0.0/3.32 GiB objects<br>Result logdir: /Users/natasha/Desktop/mcgill_postdoc/ncbi_genomes/genome_embeddings/TUNE_RESULT_DIR/exp_1<br>Number of trials: 10 (7 PAUSED, 1 ERROR, 2 RUNNING)<br><table>\n",
       "<thead>\n",
       "<tr><th>Trial name       </th><th>status  </th><th>loc  </th><th style=\"text-align: right;\">  batch_size</th><th style=\"text-align: right;\">  weight_decay</th><th style=\"text-align: right;\">  nn_layers</th><th style=\"text-align: right;\">         lr</th><th style=\"text-align: right;\">  total time (s)</th><th style=\"text-align: right;\">  iter</th></tr>\n",
       "</thead>\n",
       "<tbody>\n",
       "<tr><td>train_AE_491eb01e</td><td>PAUSED  </td><td>     </td><td style=\"text-align: right;\">          32</td><td style=\"text-align: right;\">   0.000429243</td><td style=\"text-align: right;\">          1</td><td style=\"text-align: right;\">0.00717318 </td><td style=\"text-align: right;\">         3.84208</td><td style=\"text-align: right;\">     1</td></tr>\n",
       "<tr><td>train_AE_491ede7c</td><td>PAUSED  </td><td>     </td><td style=\"text-align: right;\">          32</td><td style=\"text-align: right;\">   7.6929e-05 </td><td style=\"text-align: right;\">          1</td><td style=\"text-align: right;\">0.00526103 </td><td style=\"text-align: right;\">        36.712  </td><td style=\"text-align: right;\">     1</td></tr>\n",
       "<tr><td>train_AE_491f0140</td><td>PAUSED  </td><td>     </td><td style=\"text-align: right;\">          32</td><td style=\"text-align: right;\">   0.000135728</td><td style=\"text-align: right;\">          2</td><td style=\"text-align: right;\">0.00201257 </td><td style=\"text-align: right;\">         1.49926</td><td style=\"text-align: right;\">     1</td></tr>\n",
       "<tr><td>train_AE_491f2ab2</td><td>PAUSED  </td><td>     </td><td style=\"text-align: right;\">          32</td><td style=\"text-align: right;\">   0.00247233 </td><td style=\"text-align: right;\">          1</td><td style=\"text-align: right;\">0.0189697  </td><td style=\"text-align: right;\">         5.45071</td><td style=\"text-align: right;\">     1</td></tr>\n",
       "<tr><td>train_AE_491f500a</td><td>PAUSED  </td><td>     </td><td style=\"text-align: right;\">          32</td><td style=\"text-align: right;\">   0.00566997 </td><td style=\"text-align: right;\">          1</td><td style=\"text-align: right;\">0.0731945  </td><td style=\"text-align: right;\">        27.8273 </td><td style=\"text-align: right;\">     1</td></tr>\n",
       "<tr><td>train_AE_6167d786</td><td>PAUSED  </td><td>     </td><td style=\"text-align: right;\">          32</td><td style=\"text-align: right;\">   0.00079759 </td><td style=\"text-align: right;\">          2</td><td style=\"text-align: right;\">0.000497296</td><td style=\"text-align: right;\">        33.4056 </td><td style=\"text-align: right;\">     1</td></tr>\n",
       "<tr><td>train_AE_624eec16</td><td>ERROR   </td><td>     </td><td style=\"text-align: right;\">            </td><td style=\"text-align: right;\">              </td><td style=\"text-align: right;\">           </td><td style=\"text-align: right;\">           </td><td style=\"text-align: right;\">                </td><td style=\"text-align: right;\">      </td></tr>\n",
       "<tr><td>train_AE_659075e8</td><td>PAUSED  </td><td>     </td><td style=\"text-align: right;\">          32</td><td style=\"text-align: right;\">   4.12061e-05</td><td style=\"text-align: right;\">          1</td><td style=\"text-align: right;\">0.00260545 </td><td style=\"text-align: right;\">         6.72662</td><td style=\"text-align: right;\">     1</td></tr>\n",
       "<tr><td>train_AE_7628b12c</td><td>RUNNING </td><td>     </td><td style=\"text-align: right;\">            </td><td style=\"text-align: right;\">              </td><td style=\"text-align: right;\">           </td><td style=\"text-align: right;\">           </td><td style=\"text-align: right;\">                </td><td style=\"text-align: right;\">      </td></tr>\n",
       "<tr><td>train_AE_8a292b0c</td><td>RUNNING </td><td>     </td><td style=\"text-align: right;\">            </td><td style=\"text-align: right;\">              </td><td style=\"text-align: right;\">           </td><td style=\"text-align: right;\">           </td><td style=\"text-align: right;\">                </td><td style=\"text-align: right;\">      </td></tr>\n",
       "</tbody>\n",
       "</table><br>Number of errored trials: 1<br><table>\n",
       "<thead>\n",
       "<tr><th>Trial name       </th><th style=\"text-align: right;\">  # failures</th><th>error file                                                                                                                                                                                                                                                         </th></tr>\n",
       "</thead>\n",
       "<tbody>\n",
       "<tr><td>train_AE_624eec16</td><td style=\"text-align: right;\">           1</td><td>/Users/natasha/Desktop/mcgill_postdoc/ncbi_genomes/genome_embeddings/TUNE_RESULT_DIR/exp_1/train_AE_624eec16_7_batch_size=32,kfolds=10,lr=0.01129,nn_layers=1,num_epochs=2,num_workers=1,replacement_threshold=0.5,weight_dec_2020-07-24_10-32-45kyhu8ujy/error.txt</td></tr>\n",
       "</tbody>\n",
       "</table><br>"
      ],
      "text/plain": [
       "<IPython.core.display.HTML object>"
      ]
     },
     "metadata": {},
     "output_type": "display_data"
    },
    {
     "data": {
      "text/html": [
       "== Status ==<br>Memory usage on this node: 19.1/32.0 GiB<br>Using HyperBand: num_stopped=0 total_brackets=1\n",
       "Round #0:\n",
       "  Bracket(Max Size (n)=27, Milestone (r)=3, completed=2.2%): {ERROR: 1, PENDING: 8, RUNNING: 1} <br>Resources requested: 5/12 CPUs, 0/0 GPUs, 0.0/9.81 GiB heap, 0.0/3.37 GiB objects<br>Result logdir: /Users/natasha/Desktop/mcgill_postdoc/ncbi_genomes/genome_embeddings/TUNE_RESULT_DIR/exp_1<br>Number of trials: 10 (1 RUNNING, 8 PENDING, 1 ERROR)<br><table>\n",
       "<thead>\n",
       "<tr><th>Trial name       </th><th>status  </th><th>loc  </th><th style=\"text-align: right;\">  batch_size</th><th style=\"text-align: right;\">  weight_decay</th><th style=\"text-align: right;\">  nn_layers</th><th style=\"text-align: right;\">         lr</th><th style=\"text-align: right;\">  total time (s)</th><th style=\"text-align: right;\">  iter</th></tr>\n",
       "</thead>\n",
       "<tbody>\n",
       "<tr><td>train_AE_491eb01e</td><td>RUNNING </td><td>     </td><td style=\"text-align: right;\">          32</td><td style=\"text-align: right;\">   0.000429243</td><td style=\"text-align: right;\">          1</td><td style=\"text-align: right;\">0.00717318 </td><td style=\"text-align: right;\">         3.84208</td><td style=\"text-align: right;\">     1</td></tr>\n",
       "<tr><td>train_AE_491ede7c</td><td>PENDING </td><td>     </td><td style=\"text-align: right;\">          32</td><td style=\"text-align: right;\">   7.6929e-05 </td><td style=\"text-align: right;\">          1</td><td style=\"text-align: right;\">0.00526103 </td><td style=\"text-align: right;\">        36.712  </td><td style=\"text-align: right;\">     1</td></tr>\n",
       "<tr><td>train_AE_491f0140</td><td>PENDING </td><td>     </td><td style=\"text-align: right;\">          32</td><td style=\"text-align: right;\">   0.000135728</td><td style=\"text-align: right;\">          2</td><td style=\"text-align: right;\">0.00201257 </td><td style=\"text-align: right;\">         1.49926</td><td style=\"text-align: right;\">     1</td></tr>\n",
       "<tr><td>train_AE_491f2ab2</td><td>PENDING </td><td>     </td><td style=\"text-align: right;\">          32</td><td style=\"text-align: right;\">   0.00247233 </td><td style=\"text-align: right;\">          1</td><td style=\"text-align: right;\">0.0189697  </td><td style=\"text-align: right;\">         5.45071</td><td style=\"text-align: right;\">     1</td></tr>\n",
       "<tr><td>train_AE_491f500a</td><td>PENDING </td><td>     </td><td style=\"text-align: right;\">          32</td><td style=\"text-align: right;\">   0.00566997 </td><td style=\"text-align: right;\">          1</td><td style=\"text-align: right;\">0.0731945  </td><td style=\"text-align: right;\">        27.8273 </td><td style=\"text-align: right;\">     1</td></tr>\n",
       "<tr><td>train_AE_6167d786</td><td>PENDING </td><td>     </td><td style=\"text-align: right;\">          32</td><td style=\"text-align: right;\">   0.00079759 </td><td style=\"text-align: right;\">          2</td><td style=\"text-align: right;\">0.000497296</td><td style=\"text-align: right;\">        33.4056 </td><td style=\"text-align: right;\">     1</td></tr>\n",
       "<tr><td>train_AE_624eec16</td><td>ERROR   </td><td>     </td><td style=\"text-align: right;\">            </td><td style=\"text-align: right;\">              </td><td style=\"text-align: right;\">           </td><td style=\"text-align: right;\">           </td><td style=\"text-align: right;\">                </td><td style=\"text-align: right;\">      </td></tr>\n",
       "<tr><td>train_AE_659075e8</td><td>PENDING </td><td>     </td><td style=\"text-align: right;\">          32</td><td style=\"text-align: right;\">   4.12061e-05</td><td style=\"text-align: right;\">          1</td><td style=\"text-align: right;\">0.00260545 </td><td style=\"text-align: right;\">         6.72662</td><td style=\"text-align: right;\">     1</td></tr>\n",
       "<tr><td>train_AE_7628b12c</td><td>PENDING </td><td>     </td><td style=\"text-align: right;\">          32</td><td style=\"text-align: right;\">   9.4749e-05 </td><td style=\"text-align: right;\">          2</td><td style=\"text-align: right;\">0.0157029  </td><td style=\"text-align: right;\">        35.1312 </td><td style=\"text-align: right;\">     1</td></tr>\n",
       "<tr><td>train_AE_8a292b0c</td><td>PENDING </td><td>     </td><td style=\"text-align: right;\">          32</td><td style=\"text-align: right;\">   0.000130895</td><td style=\"text-align: right;\">          1</td><td style=\"text-align: right;\">0.0403537  </td><td style=\"text-align: right;\">        37.4428 </td><td style=\"text-align: right;\">     1</td></tr>\n",
       "</tbody>\n",
       "</table><br>Number of errored trials: 1<br><table>\n",
       "<thead>\n",
       "<tr><th>Trial name       </th><th style=\"text-align: right;\">  # failures</th><th>error file                                                                                                                                                                                                                                                         </th></tr>\n",
       "</thead>\n",
       "<tbody>\n",
       "<tr><td>train_AE_624eec16</td><td style=\"text-align: right;\">           1</td><td>/Users/natasha/Desktop/mcgill_postdoc/ncbi_genomes/genome_embeddings/TUNE_RESULT_DIR/exp_1/train_AE_624eec16_7_batch_size=32,kfolds=10,lr=0.01129,nn_layers=1,num_epochs=2,num_workers=1,replacement_threshold=0.5,weight_dec_2020-07-24_10-32-45kyhu8ujy/error.txt</td></tr>\n",
       "</tbody>\n",
       "</table><br>"
      ],
      "text/plain": [
       "<IPython.core.display.HTML object>"
      ]
     },
     "metadata": {},
     "output_type": "display_data"
    },
    {
     "data": {
      "text/html": [
       "== Status ==<br>Memory usage on this node: 19.2/32.0 GiB<br>Using HyperBand: num_stopped=0 total_brackets=1\n",
       "Round #0:\n",
       "  Bracket(Max Size (n)=27, Milestone (r)=3, completed=2.2%): {ERROR: 1, PENDING: 7, RUNNING: 2} <br>Resources requested: 10/12 CPUs, 0/0 GPUs, 0.0/9.86 GiB heap, 0.0/3.37 GiB objects<br>Result logdir: /Users/natasha/Desktop/mcgill_postdoc/ncbi_genomes/genome_embeddings/TUNE_RESULT_DIR/exp_1<br>Number of trials: 10 (2 RUNNING, 7 PENDING, 1 ERROR)<br><table>\n",
       "<thead>\n",
       "<tr><th>Trial name       </th><th>status  </th><th>loc                </th><th style=\"text-align: right;\">  batch_size</th><th style=\"text-align: right;\">  weight_decay</th><th style=\"text-align: right;\">  nn_layers</th><th style=\"text-align: right;\">         lr</th><th style=\"text-align: right;\">  total time (s)</th><th style=\"text-align: right;\">  iter</th></tr>\n",
       "</thead>\n",
       "<tbody>\n",
       "<tr><td>train_AE_491eb01e</td><td>RUNNING </td><td>192.168.0.107:72087</td><td style=\"text-align: right;\">          32</td><td style=\"text-align: right;\">   0.000429243</td><td style=\"text-align: right;\">          1</td><td style=\"text-align: right;\">0.00717318 </td><td style=\"text-align: right;\">        37.5264 </td><td style=\"text-align: right;\">     1</td></tr>\n",
       "<tr><td>train_AE_491ede7c</td><td>RUNNING </td><td>                   </td><td style=\"text-align: right;\">          32</td><td style=\"text-align: right;\">   7.6929e-05 </td><td style=\"text-align: right;\">          1</td><td style=\"text-align: right;\">0.00526103 </td><td style=\"text-align: right;\">        36.712  </td><td style=\"text-align: right;\">     1</td></tr>\n",
       "<tr><td>train_AE_491f0140</td><td>PENDING </td><td>                   </td><td style=\"text-align: right;\">          32</td><td style=\"text-align: right;\">   0.000135728</td><td style=\"text-align: right;\">          2</td><td style=\"text-align: right;\">0.00201257 </td><td style=\"text-align: right;\">         1.49926</td><td style=\"text-align: right;\">     1</td></tr>\n",
       "<tr><td>train_AE_491f2ab2</td><td>PENDING </td><td>                   </td><td style=\"text-align: right;\">          32</td><td style=\"text-align: right;\">   0.00247233 </td><td style=\"text-align: right;\">          1</td><td style=\"text-align: right;\">0.0189697  </td><td style=\"text-align: right;\">         5.45071</td><td style=\"text-align: right;\">     1</td></tr>\n",
       "<tr><td>train_AE_491f500a</td><td>PENDING </td><td>                   </td><td style=\"text-align: right;\">          32</td><td style=\"text-align: right;\">   0.00566997 </td><td style=\"text-align: right;\">          1</td><td style=\"text-align: right;\">0.0731945  </td><td style=\"text-align: right;\">        27.8273 </td><td style=\"text-align: right;\">     1</td></tr>\n",
       "<tr><td>train_AE_6167d786</td><td>PENDING </td><td>                   </td><td style=\"text-align: right;\">          32</td><td style=\"text-align: right;\">   0.00079759 </td><td style=\"text-align: right;\">          2</td><td style=\"text-align: right;\">0.000497296</td><td style=\"text-align: right;\">        33.4056 </td><td style=\"text-align: right;\">     1</td></tr>\n",
       "<tr><td>train_AE_624eec16</td><td>ERROR   </td><td>                   </td><td style=\"text-align: right;\">            </td><td style=\"text-align: right;\">              </td><td style=\"text-align: right;\">           </td><td style=\"text-align: right;\">           </td><td style=\"text-align: right;\">                </td><td style=\"text-align: right;\">      </td></tr>\n",
       "<tr><td>train_AE_659075e8</td><td>PENDING </td><td>                   </td><td style=\"text-align: right;\">          32</td><td style=\"text-align: right;\">   4.12061e-05</td><td style=\"text-align: right;\">          1</td><td style=\"text-align: right;\">0.00260545 </td><td style=\"text-align: right;\">         6.72662</td><td style=\"text-align: right;\">     1</td></tr>\n",
       "<tr><td>train_AE_7628b12c</td><td>PENDING </td><td>                   </td><td style=\"text-align: right;\">          32</td><td style=\"text-align: right;\">   9.4749e-05 </td><td style=\"text-align: right;\">          2</td><td style=\"text-align: right;\">0.0157029  </td><td style=\"text-align: right;\">        35.1312 </td><td style=\"text-align: right;\">     1</td></tr>\n",
       "<tr><td>train_AE_8a292b0c</td><td>PENDING </td><td>                   </td><td style=\"text-align: right;\">          32</td><td style=\"text-align: right;\">   0.000130895</td><td style=\"text-align: right;\">          1</td><td style=\"text-align: right;\">0.0403537  </td><td style=\"text-align: right;\">        37.4428 </td><td style=\"text-align: right;\">     1</td></tr>\n",
       "</tbody>\n",
       "</table><br>Number of errored trials: 1<br><table>\n",
       "<thead>\n",
       "<tr><th>Trial name       </th><th style=\"text-align: right;\">  # failures</th><th>error file                                                                                                                                                                                                                                                         </th></tr>\n",
       "</thead>\n",
       "<tbody>\n",
       "<tr><td>train_AE_624eec16</td><td style=\"text-align: right;\">           1</td><td>/Users/natasha/Desktop/mcgill_postdoc/ncbi_genomes/genome_embeddings/TUNE_RESULT_DIR/exp_1/train_AE_624eec16_7_batch_size=32,kfolds=10,lr=0.01129,nn_layers=1,num_epochs=2,num_workers=1,replacement_threshold=0.5,weight_dec_2020-07-24_10-32-45kyhu8ujy/error.txt</td></tr>\n",
       "</tbody>\n",
       "</table><br>"
      ],
      "text/plain": [
       "<IPython.core.display.HTML object>"
      ]
     },
     "metadata": {},
     "output_type": "display_data"
    },
    {
     "data": {
      "text/html": [
       "== Status ==<br>Memory usage on this node: 19.1/32.0 GiB<br>Using HyperBand: num_stopped=0 total_brackets=1\n",
       "Round #0:\n",
       "  Bracket(Max Size (n)=27, Milestone (r)=3, completed=2.5%): {ERROR: 1, PENDING: 7, RUNNING: 2} <br>Resources requested: 10/12 CPUs, 0/0 GPUs, 0.0/9.81 GiB heap, 0.0/3.37 GiB objects<br>Result logdir: /Users/natasha/Desktop/mcgill_postdoc/ncbi_genomes/genome_embeddings/TUNE_RESULT_DIR/exp_1<br>Number of trials: 10 (2 RUNNING, 7 PENDING, 1 ERROR)<br><table>\n",
       "<thead>\n",
       "<tr><th>Trial name       </th><th>status  </th><th>loc                </th><th style=\"text-align: right;\">  batch_size</th><th style=\"text-align: right;\">  weight_decay</th><th style=\"text-align: right;\">  nn_layers</th><th style=\"text-align: right;\">         lr</th><th style=\"text-align: right;\">  total time (s)</th><th style=\"text-align: right;\">  iter</th></tr>\n",
       "</thead>\n",
       "<tbody>\n",
       "<tr><td>train_AE_491eb01e</td><td>RUNNING </td><td>192.168.0.107:72087</td><td style=\"text-align: right;\">          32</td><td style=\"text-align: right;\">   0.000429243</td><td style=\"text-align: right;\">          1</td><td style=\"text-align: right;\">0.00717318 </td><td style=\"text-align: right;\">        65.4835 </td><td style=\"text-align: right;\">     2</td></tr>\n",
       "<tr><td>train_AE_491ede7c</td><td>RUNNING </td><td>192.168.0.107:72087</td><td style=\"text-align: right;\">          32</td><td style=\"text-align: right;\">   7.6929e-05 </td><td style=\"text-align: right;\">          1</td><td style=\"text-align: right;\">0.00526103 </td><td style=\"text-align: right;\">         1.96999</td><td style=\"text-align: right;\">     1</td></tr>\n",
       "<tr><td>train_AE_491f0140</td><td>PENDING </td><td>                   </td><td style=\"text-align: right;\">          32</td><td style=\"text-align: right;\">   0.000135728</td><td style=\"text-align: right;\">          2</td><td style=\"text-align: right;\">0.00201257 </td><td style=\"text-align: right;\">         1.49926</td><td style=\"text-align: right;\">     1</td></tr>\n",
       "<tr><td>train_AE_491f2ab2</td><td>PENDING </td><td>                   </td><td style=\"text-align: right;\">          32</td><td style=\"text-align: right;\">   0.00247233 </td><td style=\"text-align: right;\">          1</td><td style=\"text-align: right;\">0.0189697  </td><td style=\"text-align: right;\">         5.45071</td><td style=\"text-align: right;\">     1</td></tr>\n",
       "<tr><td>train_AE_491f500a</td><td>PENDING </td><td>                   </td><td style=\"text-align: right;\">          32</td><td style=\"text-align: right;\">   0.00566997 </td><td style=\"text-align: right;\">          1</td><td style=\"text-align: right;\">0.0731945  </td><td style=\"text-align: right;\">        27.8273 </td><td style=\"text-align: right;\">     1</td></tr>\n",
       "<tr><td>train_AE_6167d786</td><td>PENDING </td><td>                   </td><td style=\"text-align: right;\">          32</td><td style=\"text-align: right;\">   0.00079759 </td><td style=\"text-align: right;\">          2</td><td style=\"text-align: right;\">0.000497296</td><td style=\"text-align: right;\">        33.4056 </td><td style=\"text-align: right;\">     1</td></tr>\n",
       "<tr><td>train_AE_624eec16</td><td>ERROR   </td><td>                   </td><td style=\"text-align: right;\">            </td><td style=\"text-align: right;\">              </td><td style=\"text-align: right;\">           </td><td style=\"text-align: right;\">           </td><td style=\"text-align: right;\">                </td><td style=\"text-align: right;\">      </td></tr>\n",
       "<tr><td>train_AE_659075e8</td><td>PENDING </td><td>                   </td><td style=\"text-align: right;\">          32</td><td style=\"text-align: right;\">   4.12061e-05</td><td style=\"text-align: right;\">          1</td><td style=\"text-align: right;\">0.00260545 </td><td style=\"text-align: right;\">         6.72662</td><td style=\"text-align: right;\">     1</td></tr>\n",
       "<tr><td>train_AE_7628b12c</td><td>PENDING </td><td>                   </td><td style=\"text-align: right;\">          32</td><td style=\"text-align: right;\">   9.4749e-05 </td><td style=\"text-align: right;\">          2</td><td style=\"text-align: right;\">0.0157029  </td><td style=\"text-align: right;\">        35.1312 </td><td style=\"text-align: right;\">     1</td></tr>\n",
       "<tr><td>train_AE_8a292b0c</td><td>PENDING </td><td>                   </td><td style=\"text-align: right;\">          32</td><td style=\"text-align: right;\">   0.000130895</td><td style=\"text-align: right;\">          1</td><td style=\"text-align: right;\">0.0403537  </td><td style=\"text-align: right;\">        37.4428 </td><td style=\"text-align: right;\">     1</td></tr>\n",
       "</tbody>\n",
       "</table><br>Number of errored trials: 1<br><table>\n",
       "<thead>\n",
       "<tr><th>Trial name       </th><th style=\"text-align: right;\">  # failures</th><th>error file                                                                                                                                                                                                                                                         </th></tr>\n",
       "</thead>\n",
       "<tbody>\n",
       "<tr><td>train_AE_624eec16</td><td style=\"text-align: right;\">           1</td><td>/Users/natasha/Desktop/mcgill_postdoc/ncbi_genomes/genome_embeddings/TUNE_RESULT_DIR/exp_1/train_AE_624eec16_7_batch_size=32,kfolds=10,lr=0.01129,nn_layers=1,num_epochs=2,num_workers=1,replacement_threshold=0.5,weight_dec_2020-07-24_10-32-45kyhu8ujy/error.txt</td></tr>\n",
       "</tbody>\n",
       "</table><br>"
      ],
      "text/plain": [
       "<IPython.core.display.HTML object>"
      ]
     },
     "metadata": {},
     "output_type": "display_data"
    },
    {
     "data": {
      "text/html": [
       "== Status ==<br>Memory usage on this node: 19.1/32.0 GiB<br>Using HyperBand: num_stopped=0 total_brackets=1\n",
       "Round #0:\n",
       "  Bracket(Max Size (n)=27, Milestone (r)=3, completed=2.7%): {ERROR: 1, PAUSED: 1, PENDING: 6, RUNNING: 2} <br>Resources requested: 10/12 CPUs, 0/0 GPUs, 0.0/9.86 GiB heap, 0.0/3.37 GiB objects<br>Result logdir: /Users/natasha/Desktop/mcgill_postdoc/ncbi_genomes/genome_embeddings/TUNE_RESULT_DIR/exp_1<br>Number of trials: 10 (1 PAUSED, 2 RUNNING, 6 PENDING, 1 ERROR)<br><table>\n",
       "<thead>\n",
       "<tr><th>Trial name       </th><th>status  </th><th>loc                </th><th style=\"text-align: right;\">  batch_size</th><th style=\"text-align: right;\">  weight_decay</th><th style=\"text-align: right;\">  nn_layers</th><th style=\"text-align: right;\">         lr</th><th style=\"text-align: right;\">  total time (s)</th><th style=\"text-align: right;\">  iter</th></tr>\n",
       "</thead>\n",
       "<tbody>\n",
       "<tr><td>train_AE_491eb01e</td><td>PAUSED  </td><td>                   </td><td style=\"text-align: right;\">          32</td><td style=\"text-align: right;\">   0.000429243</td><td style=\"text-align: right;\">          1</td><td style=\"text-align: right;\">0.00717318 </td><td style=\"text-align: right;\">        70.1596 </td><td style=\"text-align: right;\">     3</td></tr>\n",
       "<tr><td>train_AE_491ede7c</td><td>RUNNING </td><td>192.168.0.107:72087</td><td style=\"text-align: right;\">          32</td><td style=\"text-align: right;\">   7.6929e-05 </td><td style=\"text-align: right;\">          1</td><td style=\"text-align: right;\">0.00526103 </td><td style=\"text-align: right;\">         1.96999</td><td style=\"text-align: right;\">     1</td></tr>\n",
       "<tr><td>train_AE_491f0140</td><td>RUNNING </td><td>                   </td><td style=\"text-align: right;\">          32</td><td style=\"text-align: right;\">   0.000135728</td><td style=\"text-align: right;\">          2</td><td style=\"text-align: right;\">0.00201257 </td><td style=\"text-align: right;\">         1.49926</td><td style=\"text-align: right;\">     1</td></tr>\n",
       "<tr><td>train_AE_491f2ab2</td><td>PENDING </td><td>                   </td><td style=\"text-align: right;\">          32</td><td style=\"text-align: right;\">   0.00247233 </td><td style=\"text-align: right;\">          1</td><td style=\"text-align: right;\">0.0189697  </td><td style=\"text-align: right;\">         5.45071</td><td style=\"text-align: right;\">     1</td></tr>\n",
       "<tr><td>train_AE_491f500a</td><td>PENDING </td><td>                   </td><td style=\"text-align: right;\">          32</td><td style=\"text-align: right;\">   0.00566997 </td><td style=\"text-align: right;\">          1</td><td style=\"text-align: right;\">0.0731945  </td><td style=\"text-align: right;\">        27.8273 </td><td style=\"text-align: right;\">     1</td></tr>\n",
       "<tr><td>train_AE_6167d786</td><td>PENDING </td><td>                   </td><td style=\"text-align: right;\">          32</td><td style=\"text-align: right;\">   0.00079759 </td><td style=\"text-align: right;\">          2</td><td style=\"text-align: right;\">0.000497296</td><td style=\"text-align: right;\">        33.4056 </td><td style=\"text-align: right;\">     1</td></tr>\n",
       "<tr><td>train_AE_624eec16</td><td>ERROR   </td><td>                   </td><td style=\"text-align: right;\">            </td><td style=\"text-align: right;\">              </td><td style=\"text-align: right;\">           </td><td style=\"text-align: right;\">           </td><td style=\"text-align: right;\">                </td><td style=\"text-align: right;\">      </td></tr>\n",
       "<tr><td>train_AE_659075e8</td><td>PENDING </td><td>                   </td><td style=\"text-align: right;\">          32</td><td style=\"text-align: right;\">   4.12061e-05</td><td style=\"text-align: right;\">          1</td><td style=\"text-align: right;\">0.00260545 </td><td style=\"text-align: right;\">         6.72662</td><td style=\"text-align: right;\">     1</td></tr>\n",
       "<tr><td>train_AE_7628b12c</td><td>PENDING </td><td>                   </td><td style=\"text-align: right;\">          32</td><td style=\"text-align: right;\">   9.4749e-05 </td><td style=\"text-align: right;\">          2</td><td style=\"text-align: right;\">0.0157029  </td><td style=\"text-align: right;\">        35.1312 </td><td style=\"text-align: right;\">     1</td></tr>\n",
       "<tr><td>train_AE_8a292b0c</td><td>PENDING </td><td>                   </td><td style=\"text-align: right;\">          32</td><td style=\"text-align: right;\">   0.000130895</td><td style=\"text-align: right;\">          1</td><td style=\"text-align: right;\">0.0403537  </td><td style=\"text-align: right;\">        37.4428 </td><td style=\"text-align: right;\">     1</td></tr>\n",
       "</tbody>\n",
       "</table><br>Number of errored trials: 1<br><table>\n",
       "<thead>\n",
       "<tr><th>Trial name       </th><th style=\"text-align: right;\">  # failures</th><th>error file                                                                                                                                                                                                                                                         </th></tr>\n",
       "</thead>\n",
       "<tbody>\n",
       "<tr><td>train_AE_624eec16</td><td style=\"text-align: right;\">           1</td><td>/Users/natasha/Desktop/mcgill_postdoc/ncbi_genomes/genome_embeddings/TUNE_RESULT_DIR/exp_1/train_AE_624eec16_7_batch_size=32,kfolds=10,lr=0.01129,nn_layers=1,num_epochs=2,num_workers=1,replacement_threshold=0.5,weight_dec_2020-07-24_10-32-45kyhu8ujy/error.txt</td></tr>\n",
       "</tbody>\n",
       "</table><br>"
      ],
      "text/plain": [
       "<IPython.core.display.HTML object>"
      ]
     },
     "metadata": {},
     "output_type": "display_data"
    },
    {
     "data": {
      "text/html": [
       "== Status ==<br>Memory usage on this node: 19.2/32.0 GiB<br>Using HyperBand: num_stopped=0 total_brackets=1\n",
       "Round #0:\n",
       "  Bracket(Max Size (n)=27, Milestone (r)=3, completed=2.7%): {ERROR: 2, PAUSED: 1, PENDING: 5, RUNNING: 2} <br>Resources requested: 10/12 CPUs, 0/0 GPUs, 0.0/9.86 GiB heap, 0.0/3.37 GiB objects<br>Result logdir: /Users/natasha/Desktop/mcgill_postdoc/ncbi_genomes/genome_embeddings/TUNE_RESULT_DIR/exp_1<br>Number of trials: 10 (1 PAUSED, 2 RUNNING, 2 ERROR, 5 PENDING)<br><table>\n",
       "<thead>\n",
       "<tr><th>Trial name       </th><th>status  </th><th>loc                </th><th style=\"text-align: right;\">  batch_size</th><th style=\"text-align: right;\">  weight_decay</th><th style=\"text-align: right;\">  nn_layers</th><th style=\"text-align: right;\">         lr</th><th style=\"text-align: right;\">  total time (s)</th><th style=\"text-align: right;\">  iter</th></tr>\n",
       "</thead>\n",
       "<tbody>\n",
       "<tr><td>train_AE_491eb01e</td><td>PAUSED  </td><td>                   </td><td style=\"text-align: right;\">          32</td><td style=\"text-align: right;\">   0.000429243</td><td style=\"text-align: right;\">          1</td><td style=\"text-align: right;\">0.00717318 </td><td style=\"text-align: right;\">        70.1596 </td><td style=\"text-align: right;\">     3</td></tr>\n",
       "<tr><td>train_AE_491ede7c</td><td>RUNNING </td><td>192.168.0.107:72087</td><td style=\"text-align: right;\">          32</td><td style=\"text-align: right;\">   7.6929e-05 </td><td style=\"text-align: right;\">          1</td><td style=\"text-align: right;\">0.00526103 </td><td style=\"text-align: right;\">         1.96999</td><td style=\"text-align: right;\">     1</td></tr>\n",
       "<tr><td>train_AE_491f0140</td><td>ERROR   </td><td>                   </td><td style=\"text-align: right;\">          32</td><td style=\"text-align: right;\">   0.000135728</td><td style=\"text-align: right;\">          2</td><td style=\"text-align: right;\">0.00201257 </td><td style=\"text-align: right;\">         1.49926</td><td style=\"text-align: right;\">     1</td></tr>\n",
       "<tr><td>train_AE_491f2ab2</td><td>RUNNING </td><td>                   </td><td style=\"text-align: right;\">          32</td><td style=\"text-align: right;\">   0.00247233 </td><td style=\"text-align: right;\">          1</td><td style=\"text-align: right;\">0.0189697  </td><td style=\"text-align: right;\">         5.45071</td><td style=\"text-align: right;\">     1</td></tr>\n",
       "<tr><td>train_AE_491f500a</td><td>PENDING </td><td>                   </td><td style=\"text-align: right;\">          32</td><td style=\"text-align: right;\">   0.00566997 </td><td style=\"text-align: right;\">          1</td><td style=\"text-align: right;\">0.0731945  </td><td style=\"text-align: right;\">        27.8273 </td><td style=\"text-align: right;\">     1</td></tr>\n",
       "<tr><td>train_AE_6167d786</td><td>PENDING </td><td>                   </td><td style=\"text-align: right;\">          32</td><td style=\"text-align: right;\">   0.00079759 </td><td style=\"text-align: right;\">          2</td><td style=\"text-align: right;\">0.000497296</td><td style=\"text-align: right;\">        33.4056 </td><td style=\"text-align: right;\">     1</td></tr>\n",
       "<tr><td>train_AE_624eec16</td><td>ERROR   </td><td>                   </td><td style=\"text-align: right;\">            </td><td style=\"text-align: right;\">              </td><td style=\"text-align: right;\">           </td><td style=\"text-align: right;\">           </td><td style=\"text-align: right;\">                </td><td style=\"text-align: right;\">      </td></tr>\n",
       "<tr><td>train_AE_659075e8</td><td>PENDING </td><td>                   </td><td style=\"text-align: right;\">          32</td><td style=\"text-align: right;\">   4.12061e-05</td><td style=\"text-align: right;\">          1</td><td style=\"text-align: right;\">0.00260545 </td><td style=\"text-align: right;\">         6.72662</td><td style=\"text-align: right;\">     1</td></tr>\n",
       "<tr><td>train_AE_7628b12c</td><td>PENDING </td><td>                   </td><td style=\"text-align: right;\">          32</td><td style=\"text-align: right;\">   9.4749e-05 </td><td style=\"text-align: right;\">          2</td><td style=\"text-align: right;\">0.0157029  </td><td style=\"text-align: right;\">        35.1312 </td><td style=\"text-align: right;\">     1</td></tr>\n",
       "<tr><td>train_AE_8a292b0c</td><td>PENDING </td><td>                   </td><td style=\"text-align: right;\">          32</td><td style=\"text-align: right;\">   0.000130895</td><td style=\"text-align: right;\">          1</td><td style=\"text-align: right;\">0.0403537  </td><td style=\"text-align: right;\">        37.4428 </td><td style=\"text-align: right;\">     1</td></tr>\n",
       "</tbody>\n",
       "</table><br>Number of errored trials: 2<br><table>\n",
       "<thead>\n",
       "<tr><th>Trial name       </th><th style=\"text-align: right;\">  # failures</th><th>error file                                                                                                                                                                                                                                                         </th></tr>\n",
       "</thead>\n",
       "<tbody>\n",
       "<tr><td>train_AE_491f0140</td><td style=\"text-align: right;\">           1</td><td>/Users/natasha/Desktop/mcgill_postdoc/ncbi_genomes/genome_embeddings/TUNE_RESULT_DIR/exp_1/train_AE_491f0140_3_batch_size=32,kfolds=10,lr=0.0020126,nn_layers=2,num_epochs=2,num_workers=1,replacement_threshold=0.5,weight_d_2020-07-24_10-31-37e0kuzr_q/error.txt</td></tr>\n",
       "<tr><td>train_AE_624eec16</td><td style=\"text-align: right;\">           1</td><td>/Users/natasha/Desktop/mcgill_postdoc/ncbi_genomes/genome_embeddings/TUNE_RESULT_DIR/exp_1/train_AE_624eec16_7_batch_size=32,kfolds=10,lr=0.01129,nn_layers=1,num_epochs=2,num_workers=1,replacement_threshold=0.5,weight_dec_2020-07-24_10-32-45kyhu8ujy/error.txt</td></tr>\n",
       "</tbody>\n",
       "</table><br>"
      ],
      "text/plain": [
       "<IPython.core.display.HTML object>"
      ]
     },
     "metadata": {},
     "output_type": "display_data"
    },
    {
     "data": {
      "text/html": [
       "== Status ==<br>Memory usage on this node: 19.2/32.0 GiB<br>Using HyperBand: num_stopped=0 total_brackets=1\n",
       "Round #0:\n",
       "  Bracket(Max Size (n)=27, Milestone (r)=3, completed=2.7%): {ERROR: 3, PAUSED: 1, PENDING: 4, RUNNING: 2} <br>Resources requested: 10/12 CPUs, 0/0 GPUs, 0.0/9.81 GiB heap, 0.0/3.37 GiB objects<br>Result logdir: /Users/natasha/Desktop/mcgill_postdoc/ncbi_genomes/genome_embeddings/TUNE_RESULT_DIR/exp_1<br>Number of trials: 10 (1 PAUSED, 2 RUNNING, 3 ERROR, 4 PENDING)<br><table>\n",
       "<thead>\n",
       "<tr><th>Trial name       </th><th>status  </th><th>loc                </th><th style=\"text-align: right;\">  batch_size</th><th style=\"text-align: right;\">  weight_decay</th><th style=\"text-align: right;\">  nn_layers</th><th style=\"text-align: right;\">         lr</th><th style=\"text-align: right;\">  total time (s)</th><th style=\"text-align: right;\">  iter</th></tr>\n",
       "</thead>\n",
       "<tbody>\n",
       "<tr><td>train_AE_491eb01e</td><td>PAUSED  </td><td>                   </td><td style=\"text-align: right;\">          32</td><td style=\"text-align: right;\">   0.000429243</td><td style=\"text-align: right;\">          1</td><td style=\"text-align: right;\">0.00717318 </td><td style=\"text-align: right;\">        70.1596 </td><td style=\"text-align: right;\">     3</td></tr>\n",
       "<tr><td>train_AE_491ede7c</td><td>RUNNING </td><td>192.168.0.107:72087</td><td style=\"text-align: right;\">          32</td><td style=\"text-align: right;\">   7.6929e-05 </td><td style=\"text-align: right;\">          1</td><td style=\"text-align: right;\">0.00526103 </td><td style=\"text-align: right;\">         1.96999</td><td style=\"text-align: right;\">     1</td></tr>\n",
       "<tr><td>train_AE_491f0140</td><td>ERROR   </td><td>                   </td><td style=\"text-align: right;\">          32</td><td style=\"text-align: right;\">   0.000135728</td><td style=\"text-align: right;\">          2</td><td style=\"text-align: right;\">0.00201257 </td><td style=\"text-align: right;\">         1.49926</td><td style=\"text-align: right;\">     1</td></tr>\n",
       "<tr><td>train_AE_491f2ab2</td><td>ERROR   </td><td>                   </td><td style=\"text-align: right;\">          32</td><td style=\"text-align: right;\">   0.00247233 </td><td style=\"text-align: right;\">          1</td><td style=\"text-align: right;\">0.0189697  </td><td style=\"text-align: right;\">         5.45071</td><td style=\"text-align: right;\">     1</td></tr>\n",
       "<tr><td>train_AE_491f500a</td><td>RUNNING </td><td>                   </td><td style=\"text-align: right;\">          32</td><td style=\"text-align: right;\">   0.00566997 </td><td style=\"text-align: right;\">          1</td><td style=\"text-align: right;\">0.0731945  </td><td style=\"text-align: right;\">        27.8273 </td><td style=\"text-align: right;\">     1</td></tr>\n",
       "<tr><td>train_AE_6167d786</td><td>PENDING </td><td>                   </td><td style=\"text-align: right;\">          32</td><td style=\"text-align: right;\">   0.00079759 </td><td style=\"text-align: right;\">          2</td><td style=\"text-align: right;\">0.000497296</td><td style=\"text-align: right;\">        33.4056 </td><td style=\"text-align: right;\">     1</td></tr>\n",
       "<tr><td>train_AE_624eec16</td><td>ERROR   </td><td>                   </td><td style=\"text-align: right;\">            </td><td style=\"text-align: right;\">              </td><td style=\"text-align: right;\">           </td><td style=\"text-align: right;\">           </td><td style=\"text-align: right;\">                </td><td style=\"text-align: right;\">      </td></tr>\n",
       "<tr><td>train_AE_659075e8</td><td>PENDING </td><td>                   </td><td style=\"text-align: right;\">          32</td><td style=\"text-align: right;\">   4.12061e-05</td><td style=\"text-align: right;\">          1</td><td style=\"text-align: right;\">0.00260545 </td><td style=\"text-align: right;\">         6.72662</td><td style=\"text-align: right;\">     1</td></tr>\n",
       "<tr><td>train_AE_7628b12c</td><td>PENDING </td><td>                   </td><td style=\"text-align: right;\">          32</td><td style=\"text-align: right;\">   9.4749e-05 </td><td style=\"text-align: right;\">          2</td><td style=\"text-align: right;\">0.0157029  </td><td style=\"text-align: right;\">        35.1312 </td><td style=\"text-align: right;\">     1</td></tr>\n",
       "<tr><td>train_AE_8a292b0c</td><td>PENDING </td><td>                   </td><td style=\"text-align: right;\">          32</td><td style=\"text-align: right;\">   0.000130895</td><td style=\"text-align: right;\">          1</td><td style=\"text-align: right;\">0.0403537  </td><td style=\"text-align: right;\">        37.4428 </td><td style=\"text-align: right;\">     1</td></tr>\n",
       "</tbody>\n",
       "</table><br>Number of errored trials: 3<br><table>\n",
       "<thead>\n",
       "<tr><th>Trial name       </th><th style=\"text-align: right;\">  # failures</th><th>error file                                                                                                                                                                                                                                                         </th></tr>\n",
       "</thead>\n",
       "<tbody>\n",
       "<tr><td>train_AE_491f0140</td><td style=\"text-align: right;\">           1</td><td>/Users/natasha/Desktop/mcgill_postdoc/ncbi_genomes/genome_embeddings/TUNE_RESULT_DIR/exp_1/train_AE_491f0140_3_batch_size=32,kfolds=10,lr=0.0020126,nn_layers=2,num_epochs=2,num_workers=1,replacement_threshold=0.5,weight_d_2020-07-24_10-31-37e0kuzr_q/error.txt</td></tr>\n",
       "<tr><td>train_AE_491f2ab2</td><td style=\"text-align: right;\">           1</td><td>/Users/natasha/Desktop/mcgill_postdoc/ncbi_genomes/genome_embeddings/TUNE_RESULT_DIR/exp_1/train_AE_491f2ab2_4_batch_size=32,kfolds=10,lr=0.01897,nn_layers=1,num_epochs=2,num_workers=1,replacement_threshold=0.5,weight_dec_2020-07-24_10-31-38bjjwo34c/error.txt</td></tr>\n",
       "<tr><td>train_AE_624eec16</td><td style=\"text-align: right;\">           1</td><td>/Users/natasha/Desktop/mcgill_postdoc/ncbi_genomes/genome_embeddings/TUNE_RESULT_DIR/exp_1/train_AE_624eec16_7_batch_size=32,kfolds=10,lr=0.01129,nn_layers=1,num_epochs=2,num_workers=1,replacement_threshold=0.5,weight_dec_2020-07-24_10-32-45kyhu8ujy/error.txt</td></tr>\n",
       "</tbody>\n",
       "</table><br>"
      ],
      "text/plain": [
       "<IPython.core.display.HTML object>"
      ]
     },
     "metadata": {},
     "output_type": "display_data"
    },
    {
     "data": {
      "text/html": [
       "== Status ==<br>Memory usage on this node: 19.2/32.0 GiB<br>Using HyperBand: num_stopped=0 total_brackets=1\n",
       "Round #0:\n",
       "  Bracket(Max Size (n)=27, Milestone (r)=3, completed=2.7%): {ERROR: 3, PAUSED: 1, PENDING: 4, RUNNING: 2} <br>Resources requested: 10/12 CPUs, 0/0 GPUs, 0.0/9.81 GiB heap, 0.0/3.37 GiB objects<br>Result logdir: /Users/natasha/Desktop/mcgill_postdoc/ncbi_genomes/genome_embeddings/TUNE_RESULT_DIR/exp_1<br>Number of trials: 10 (1 PAUSED, 2 RUNNING, 3 ERROR, 4 PENDING)<br><table>\n",
       "<thead>\n",
       "<tr><th>Trial name       </th><th>status  </th><th>loc                </th><th style=\"text-align: right;\">  batch_size</th><th style=\"text-align: right;\">  weight_decay</th><th style=\"text-align: right;\">  nn_layers</th><th style=\"text-align: right;\">         lr</th><th style=\"text-align: right;\">  total time (s)</th><th style=\"text-align: right;\">  iter</th></tr>\n",
       "</thead>\n",
       "<tbody>\n",
       "<tr><td>train_AE_491eb01e</td><td>PAUSED  </td><td>                   </td><td style=\"text-align: right;\">          32</td><td style=\"text-align: right;\">   0.000429243</td><td style=\"text-align: right;\">          1</td><td style=\"text-align: right;\">0.00717318 </td><td style=\"text-align: right;\">        70.1596 </td><td style=\"text-align: right;\">     3</td></tr>\n",
       "<tr><td>train_AE_491ede7c</td><td>RUNNING </td><td>192.168.0.107:72087</td><td style=\"text-align: right;\">          32</td><td style=\"text-align: right;\">   7.6929e-05 </td><td style=\"text-align: right;\">          1</td><td style=\"text-align: right;\">0.00526103 </td><td style=\"text-align: right;\">         1.96999</td><td style=\"text-align: right;\">     1</td></tr>\n",
       "<tr><td>train_AE_491f0140</td><td>ERROR   </td><td>                   </td><td style=\"text-align: right;\">          32</td><td style=\"text-align: right;\">   0.000135728</td><td style=\"text-align: right;\">          2</td><td style=\"text-align: right;\">0.00201257 </td><td style=\"text-align: right;\">         1.49926</td><td style=\"text-align: right;\">     1</td></tr>\n",
       "<tr><td>train_AE_491f2ab2</td><td>ERROR   </td><td>                   </td><td style=\"text-align: right;\">          32</td><td style=\"text-align: right;\">   0.00247233 </td><td style=\"text-align: right;\">          1</td><td style=\"text-align: right;\">0.0189697  </td><td style=\"text-align: right;\">         5.45071</td><td style=\"text-align: right;\">     1</td></tr>\n",
       "<tr><td>train_AE_491f500a</td><td>RUNNING </td><td>192.168.0.107:72087</td><td style=\"text-align: right;\">          32</td><td style=\"text-align: right;\">   0.00566997 </td><td style=\"text-align: right;\">          1</td><td style=\"text-align: right;\">0.0731945  </td><td style=\"text-align: right;\">        10.8028 </td><td style=\"text-align: right;\">     1</td></tr>\n",
       "<tr><td>train_AE_6167d786</td><td>PENDING </td><td>                   </td><td style=\"text-align: right;\">          32</td><td style=\"text-align: right;\">   0.00079759 </td><td style=\"text-align: right;\">          2</td><td style=\"text-align: right;\">0.000497296</td><td style=\"text-align: right;\">        33.4056 </td><td style=\"text-align: right;\">     1</td></tr>\n",
       "<tr><td>train_AE_624eec16</td><td>ERROR   </td><td>                   </td><td style=\"text-align: right;\">            </td><td style=\"text-align: right;\">              </td><td style=\"text-align: right;\">           </td><td style=\"text-align: right;\">           </td><td style=\"text-align: right;\">                </td><td style=\"text-align: right;\">      </td></tr>\n",
       "<tr><td>train_AE_659075e8</td><td>PENDING </td><td>                   </td><td style=\"text-align: right;\">          32</td><td style=\"text-align: right;\">   4.12061e-05</td><td style=\"text-align: right;\">          1</td><td style=\"text-align: right;\">0.00260545 </td><td style=\"text-align: right;\">         6.72662</td><td style=\"text-align: right;\">     1</td></tr>\n",
       "<tr><td>train_AE_7628b12c</td><td>PENDING </td><td>                   </td><td style=\"text-align: right;\">          32</td><td style=\"text-align: right;\">   9.4749e-05 </td><td style=\"text-align: right;\">          2</td><td style=\"text-align: right;\">0.0157029  </td><td style=\"text-align: right;\">        35.1312 </td><td style=\"text-align: right;\">     1</td></tr>\n",
       "<tr><td>train_AE_8a292b0c</td><td>PENDING </td><td>                   </td><td style=\"text-align: right;\">          32</td><td style=\"text-align: right;\">   0.000130895</td><td style=\"text-align: right;\">          1</td><td style=\"text-align: right;\">0.0403537  </td><td style=\"text-align: right;\">        37.4428 </td><td style=\"text-align: right;\">     1</td></tr>\n",
       "</tbody>\n",
       "</table><br>Number of errored trials: 3<br><table>\n",
       "<thead>\n",
       "<tr><th>Trial name       </th><th style=\"text-align: right;\">  # failures</th><th>error file                                                                                                                                                                                                                                                         </th></tr>\n",
       "</thead>\n",
       "<tbody>\n",
       "<tr><td>train_AE_491f0140</td><td style=\"text-align: right;\">           1</td><td>/Users/natasha/Desktop/mcgill_postdoc/ncbi_genomes/genome_embeddings/TUNE_RESULT_DIR/exp_1/train_AE_491f0140_3_batch_size=32,kfolds=10,lr=0.0020126,nn_layers=2,num_epochs=2,num_workers=1,replacement_threshold=0.5,weight_d_2020-07-24_10-31-37e0kuzr_q/error.txt</td></tr>\n",
       "<tr><td>train_AE_491f2ab2</td><td style=\"text-align: right;\">           1</td><td>/Users/natasha/Desktop/mcgill_postdoc/ncbi_genomes/genome_embeddings/TUNE_RESULT_DIR/exp_1/train_AE_491f2ab2_4_batch_size=32,kfolds=10,lr=0.01897,nn_layers=1,num_epochs=2,num_workers=1,replacement_threshold=0.5,weight_dec_2020-07-24_10-31-38bjjwo34c/error.txt</td></tr>\n",
       "<tr><td>train_AE_624eec16</td><td style=\"text-align: right;\">           1</td><td>/Users/natasha/Desktop/mcgill_postdoc/ncbi_genomes/genome_embeddings/TUNE_RESULT_DIR/exp_1/train_AE_624eec16_7_batch_size=32,kfolds=10,lr=0.01129,nn_layers=1,num_epochs=2,num_workers=1,replacement_threshold=0.5,weight_dec_2020-07-24_10-32-45kyhu8ujy/error.txt</td></tr>\n",
       "</tbody>\n",
       "</table><br>"
      ],
      "text/plain": [
       "<IPython.core.display.HTML object>"
      ]
     },
     "metadata": {},
     "output_type": "display_data"
    },
    {
     "data": {
      "text/html": [
       "== Status ==<br>Memory usage on this node: 19.2/32.0 GiB<br>Using HyperBand: num_stopped=0 total_brackets=1\n",
       "Round #0:\n",
       "  Bracket(Max Size (n)=27, Milestone (r)=3, completed=2.7%): {ERROR: 4, PAUSED: 1, PENDING: 3, RUNNING: 2} <br>Resources requested: 10/12 CPUs, 0/0 GPUs, 0.0/9.81 GiB heap, 0.0/3.37 GiB objects<br>Result logdir: /Users/natasha/Desktop/mcgill_postdoc/ncbi_genomes/genome_embeddings/TUNE_RESULT_DIR/exp_1<br>Number of trials: 10 (1 PAUSED, 2 RUNNING, 4 ERROR, 3 PENDING)<br><table>\n",
       "<thead>\n",
       "<tr><th>Trial name       </th><th>status  </th><th>loc                </th><th style=\"text-align: right;\">  batch_size</th><th style=\"text-align: right;\">  weight_decay</th><th style=\"text-align: right;\">  nn_layers</th><th style=\"text-align: right;\">         lr</th><th style=\"text-align: right;\">  total time (s)</th><th style=\"text-align: right;\">  iter</th></tr>\n",
       "</thead>\n",
       "<tbody>\n",
       "<tr><td>train_AE_491eb01e</td><td>PAUSED  </td><td>                   </td><td style=\"text-align: right;\">          32</td><td style=\"text-align: right;\">   0.000429243</td><td style=\"text-align: right;\">          1</td><td style=\"text-align: right;\">0.00717318 </td><td style=\"text-align: right;\">        70.1596 </td><td style=\"text-align: right;\">     3</td></tr>\n",
       "<tr><td>train_AE_491ede7c</td><td>RUNNING </td><td>192.168.0.107:72087</td><td style=\"text-align: right;\">          32</td><td style=\"text-align: right;\">   7.6929e-05 </td><td style=\"text-align: right;\">          1</td><td style=\"text-align: right;\">0.00526103 </td><td style=\"text-align: right;\">         1.96999</td><td style=\"text-align: right;\">     1</td></tr>\n",
       "<tr><td>train_AE_491f0140</td><td>ERROR   </td><td>                   </td><td style=\"text-align: right;\">          32</td><td style=\"text-align: right;\">   0.000135728</td><td style=\"text-align: right;\">          2</td><td style=\"text-align: right;\">0.00201257 </td><td style=\"text-align: right;\">         1.49926</td><td style=\"text-align: right;\">     1</td></tr>\n",
       "<tr><td>train_AE_491f2ab2</td><td>ERROR   </td><td>                   </td><td style=\"text-align: right;\">          32</td><td style=\"text-align: right;\">   0.00247233 </td><td style=\"text-align: right;\">          1</td><td style=\"text-align: right;\">0.0189697  </td><td style=\"text-align: right;\">         5.45071</td><td style=\"text-align: right;\">     1</td></tr>\n",
       "<tr><td>train_AE_491f500a</td><td>ERROR   </td><td>                   </td><td style=\"text-align: right;\">          32</td><td style=\"text-align: right;\">   0.00566997 </td><td style=\"text-align: right;\">          1</td><td style=\"text-align: right;\">0.0731945  </td><td style=\"text-align: right;\">        10.8028 </td><td style=\"text-align: right;\">     1</td></tr>\n",
       "<tr><td>train_AE_6167d786</td><td>RUNNING </td><td>                   </td><td style=\"text-align: right;\">          32</td><td style=\"text-align: right;\">   0.00079759 </td><td style=\"text-align: right;\">          2</td><td style=\"text-align: right;\">0.000497296</td><td style=\"text-align: right;\">        33.4056 </td><td style=\"text-align: right;\">     1</td></tr>\n",
       "<tr><td>train_AE_624eec16</td><td>ERROR   </td><td>                   </td><td style=\"text-align: right;\">            </td><td style=\"text-align: right;\">              </td><td style=\"text-align: right;\">           </td><td style=\"text-align: right;\">           </td><td style=\"text-align: right;\">                </td><td style=\"text-align: right;\">      </td></tr>\n",
       "<tr><td>train_AE_659075e8</td><td>PENDING </td><td>                   </td><td style=\"text-align: right;\">          32</td><td style=\"text-align: right;\">   4.12061e-05</td><td style=\"text-align: right;\">          1</td><td style=\"text-align: right;\">0.00260545 </td><td style=\"text-align: right;\">         6.72662</td><td style=\"text-align: right;\">     1</td></tr>\n",
       "<tr><td>train_AE_7628b12c</td><td>PENDING </td><td>                   </td><td style=\"text-align: right;\">          32</td><td style=\"text-align: right;\">   9.4749e-05 </td><td style=\"text-align: right;\">          2</td><td style=\"text-align: right;\">0.0157029  </td><td style=\"text-align: right;\">        35.1312 </td><td style=\"text-align: right;\">     1</td></tr>\n",
       "<tr><td>train_AE_8a292b0c</td><td>PENDING </td><td>                   </td><td style=\"text-align: right;\">          32</td><td style=\"text-align: right;\">   0.000130895</td><td style=\"text-align: right;\">          1</td><td style=\"text-align: right;\">0.0403537  </td><td style=\"text-align: right;\">        37.4428 </td><td style=\"text-align: right;\">     1</td></tr>\n",
       "</tbody>\n",
       "</table><br>Number of errored trials: 4<br><table>\n",
       "<thead>\n",
       "<tr><th>Trial name       </th><th style=\"text-align: right;\">  # failures</th><th>error file                                                                                                                                                                                                                                                         </th></tr>\n",
       "</thead>\n",
       "<tbody>\n",
       "<tr><td>train_AE_491f0140</td><td style=\"text-align: right;\">           1</td><td>/Users/natasha/Desktop/mcgill_postdoc/ncbi_genomes/genome_embeddings/TUNE_RESULT_DIR/exp_1/train_AE_491f0140_3_batch_size=32,kfolds=10,lr=0.0020126,nn_layers=2,num_epochs=2,num_workers=1,replacement_threshold=0.5,weight_d_2020-07-24_10-31-37e0kuzr_q/error.txt</td></tr>\n",
       "<tr><td>train_AE_491f2ab2</td><td style=\"text-align: right;\">           1</td><td>/Users/natasha/Desktop/mcgill_postdoc/ncbi_genomes/genome_embeddings/TUNE_RESULT_DIR/exp_1/train_AE_491f2ab2_4_batch_size=32,kfolds=10,lr=0.01897,nn_layers=1,num_epochs=2,num_workers=1,replacement_threshold=0.5,weight_dec_2020-07-24_10-31-38bjjwo34c/error.txt</td></tr>\n",
       "<tr><td>train_AE_491f500a</td><td style=\"text-align: right;\">           1</td><td>/Users/natasha/Desktop/mcgill_postdoc/ncbi_genomes/genome_embeddings/TUNE_RESULT_DIR/exp_1/train_AE_491f500a_5_batch_size=32,kfolds=10,lr=0.073194,nn_layers=1,num_epochs=2,num_workers=1,replacement_threshold=0.5,weight_de_2020-07-24_10-31-43515h60f8/error.txt</td></tr>\n",
       "<tr><td>train_AE_624eec16</td><td style=\"text-align: right;\">           1</td><td>/Users/natasha/Desktop/mcgill_postdoc/ncbi_genomes/genome_embeddings/TUNE_RESULT_DIR/exp_1/train_AE_624eec16_7_batch_size=32,kfolds=10,lr=0.01129,nn_layers=1,num_epochs=2,num_workers=1,replacement_threshold=0.5,weight_dec_2020-07-24_10-32-45kyhu8ujy/error.txt</td></tr>\n",
       "</tbody>\n",
       "</table><br>"
      ],
      "text/plain": [
       "<IPython.core.display.HTML object>"
      ]
     },
     "metadata": {},
     "output_type": "display_data"
    },
    {
     "data": {
      "text/html": [
       "== Status ==<br>Memory usage on this node: 19.2/32.0 GiB<br>Using HyperBand: num_stopped=0 total_brackets=1\n",
       "Round #0:\n",
       "  Bracket(Max Size (n)=27, Milestone (r)=3, completed=2.7%): {ERROR: 4, PAUSED: 1, PENDING: 3, RUNNING: 2} <br>Resources requested: 10/12 CPUs, 0/0 GPUs, 0.0/9.81 GiB heap, 0.0/3.37 GiB objects<br>Result logdir: /Users/natasha/Desktop/mcgill_postdoc/ncbi_genomes/genome_embeddings/TUNE_RESULT_DIR/exp_1<br>Number of trials: 10 (1 PAUSED, 2 RUNNING, 4 ERROR, 3 PENDING)<br><table>\n",
       "<thead>\n",
       "<tr><th>Trial name       </th><th>status  </th><th>loc                </th><th style=\"text-align: right;\">  batch_size</th><th style=\"text-align: right;\">  weight_decay</th><th style=\"text-align: right;\">  nn_layers</th><th style=\"text-align: right;\">         lr</th><th style=\"text-align: right;\">  total time (s)</th><th style=\"text-align: right;\">  iter</th></tr>\n",
       "</thead>\n",
       "<tbody>\n",
       "<tr><td>train_AE_491eb01e</td><td>PAUSED  </td><td>                   </td><td style=\"text-align: right;\">          32</td><td style=\"text-align: right;\">   0.000429243</td><td style=\"text-align: right;\">          1</td><td style=\"text-align: right;\">0.00717318 </td><td style=\"text-align: right;\">        70.1596 </td><td style=\"text-align: right;\">     3</td></tr>\n",
       "<tr><td>train_AE_491ede7c</td><td>RUNNING </td><td>192.168.0.107:72087</td><td style=\"text-align: right;\">          32</td><td style=\"text-align: right;\">   7.6929e-05 </td><td style=\"text-align: right;\">          1</td><td style=\"text-align: right;\">0.00526103 </td><td style=\"text-align: right;\">         1.96999</td><td style=\"text-align: right;\">     1</td></tr>\n",
       "<tr><td>train_AE_491f0140</td><td>ERROR   </td><td>                   </td><td style=\"text-align: right;\">          32</td><td style=\"text-align: right;\">   0.000135728</td><td style=\"text-align: right;\">          2</td><td style=\"text-align: right;\">0.00201257 </td><td style=\"text-align: right;\">         1.49926</td><td style=\"text-align: right;\">     1</td></tr>\n",
       "<tr><td>train_AE_491f2ab2</td><td>ERROR   </td><td>                   </td><td style=\"text-align: right;\">          32</td><td style=\"text-align: right;\">   0.00247233 </td><td style=\"text-align: right;\">          1</td><td style=\"text-align: right;\">0.0189697  </td><td style=\"text-align: right;\">         5.45071</td><td style=\"text-align: right;\">     1</td></tr>\n",
       "<tr><td>train_AE_491f500a</td><td>ERROR   </td><td>                   </td><td style=\"text-align: right;\">          32</td><td style=\"text-align: right;\">   0.00566997 </td><td style=\"text-align: right;\">          1</td><td style=\"text-align: right;\">0.0731945  </td><td style=\"text-align: right;\">        10.8028 </td><td style=\"text-align: right;\">     1</td></tr>\n",
       "<tr><td>train_AE_6167d786</td><td>RUNNING </td><td>192.168.0.107:72087</td><td style=\"text-align: right;\">          32</td><td style=\"text-align: right;\">   0.00079759 </td><td style=\"text-align: right;\">          2</td><td style=\"text-align: right;\">0.000497296</td><td style=\"text-align: right;\">        13.4093 </td><td style=\"text-align: right;\">     1</td></tr>\n",
       "<tr><td>train_AE_624eec16</td><td>ERROR   </td><td>                   </td><td style=\"text-align: right;\">            </td><td style=\"text-align: right;\">              </td><td style=\"text-align: right;\">           </td><td style=\"text-align: right;\">           </td><td style=\"text-align: right;\">                </td><td style=\"text-align: right;\">      </td></tr>\n",
       "<tr><td>train_AE_659075e8</td><td>PENDING </td><td>                   </td><td style=\"text-align: right;\">          32</td><td style=\"text-align: right;\">   4.12061e-05</td><td style=\"text-align: right;\">          1</td><td style=\"text-align: right;\">0.00260545 </td><td style=\"text-align: right;\">         6.72662</td><td style=\"text-align: right;\">     1</td></tr>\n",
       "<tr><td>train_AE_7628b12c</td><td>PENDING </td><td>                   </td><td style=\"text-align: right;\">          32</td><td style=\"text-align: right;\">   9.4749e-05 </td><td style=\"text-align: right;\">          2</td><td style=\"text-align: right;\">0.0157029  </td><td style=\"text-align: right;\">        35.1312 </td><td style=\"text-align: right;\">     1</td></tr>\n",
       "<tr><td>train_AE_8a292b0c</td><td>PENDING </td><td>                   </td><td style=\"text-align: right;\">          32</td><td style=\"text-align: right;\">   0.000130895</td><td style=\"text-align: right;\">          1</td><td style=\"text-align: right;\">0.0403537  </td><td style=\"text-align: right;\">        37.4428 </td><td style=\"text-align: right;\">     1</td></tr>\n",
       "</tbody>\n",
       "</table><br>Number of errored trials: 4<br><table>\n",
       "<thead>\n",
       "<tr><th>Trial name       </th><th style=\"text-align: right;\">  # failures</th><th>error file                                                                                                                                                                                                                                                         </th></tr>\n",
       "</thead>\n",
       "<tbody>\n",
       "<tr><td>train_AE_491f0140</td><td style=\"text-align: right;\">           1</td><td>/Users/natasha/Desktop/mcgill_postdoc/ncbi_genomes/genome_embeddings/TUNE_RESULT_DIR/exp_1/train_AE_491f0140_3_batch_size=32,kfolds=10,lr=0.0020126,nn_layers=2,num_epochs=2,num_workers=1,replacement_threshold=0.5,weight_d_2020-07-24_10-31-37e0kuzr_q/error.txt</td></tr>\n",
       "<tr><td>train_AE_491f2ab2</td><td style=\"text-align: right;\">           1</td><td>/Users/natasha/Desktop/mcgill_postdoc/ncbi_genomes/genome_embeddings/TUNE_RESULT_DIR/exp_1/train_AE_491f2ab2_4_batch_size=32,kfolds=10,lr=0.01897,nn_layers=1,num_epochs=2,num_workers=1,replacement_threshold=0.5,weight_dec_2020-07-24_10-31-38bjjwo34c/error.txt</td></tr>\n",
       "<tr><td>train_AE_491f500a</td><td style=\"text-align: right;\">           1</td><td>/Users/natasha/Desktop/mcgill_postdoc/ncbi_genomes/genome_embeddings/TUNE_RESULT_DIR/exp_1/train_AE_491f500a_5_batch_size=32,kfolds=10,lr=0.073194,nn_layers=1,num_epochs=2,num_workers=1,replacement_threshold=0.5,weight_de_2020-07-24_10-31-43515h60f8/error.txt</td></tr>\n",
       "<tr><td>train_AE_624eec16</td><td style=\"text-align: right;\">           1</td><td>/Users/natasha/Desktop/mcgill_postdoc/ncbi_genomes/genome_embeddings/TUNE_RESULT_DIR/exp_1/train_AE_624eec16_7_batch_size=32,kfolds=10,lr=0.01129,nn_layers=1,num_epochs=2,num_workers=1,replacement_threshold=0.5,weight_dec_2020-07-24_10-32-45kyhu8ujy/error.txt</td></tr>\n",
       "</tbody>\n",
       "</table><br>"
      ],
      "text/plain": [
       "<IPython.core.display.HTML object>"
      ]
     },
     "metadata": {},
     "output_type": "display_data"
    },
    {
     "data": {
      "text/html": [
       "== Status ==<br>Memory usage on this node: 19.2/32.0 GiB<br>Using HyperBand: num_stopped=0 total_brackets=1\n",
       "Round #0:\n",
       "  Bracket(Max Size (n)=27, Milestone (r)=3, completed=2.7%): {ERROR: 5, PAUSED: 1, PENDING: 2, RUNNING: 2} <br>Resources requested: 10/12 CPUs, 0/0 GPUs, 0.0/9.81 GiB heap, 0.0/3.37 GiB objects<br>Result logdir: /Users/natasha/Desktop/mcgill_postdoc/ncbi_genomes/genome_embeddings/TUNE_RESULT_DIR/exp_1<br>Number of trials: 10 (1 PAUSED, 2 RUNNING, 5 ERROR, 2 PENDING)<br><table>\n",
       "<thead>\n",
       "<tr><th>Trial name       </th><th>status  </th><th>loc                </th><th style=\"text-align: right;\">  batch_size</th><th style=\"text-align: right;\">  weight_decay</th><th style=\"text-align: right;\">  nn_layers</th><th style=\"text-align: right;\">         lr</th><th style=\"text-align: right;\">  total time (s)</th><th style=\"text-align: right;\">  iter</th></tr>\n",
       "</thead>\n",
       "<tbody>\n",
       "<tr><td>train_AE_491eb01e</td><td>PAUSED  </td><td>                   </td><td style=\"text-align: right;\">          32</td><td style=\"text-align: right;\">   0.000429243</td><td style=\"text-align: right;\">          1</td><td style=\"text-align: right;\">0.00717318 </td><td style=\"text-align: right;\">        70.1596 </td><td style=\"text-align: right;\">     3</td></tr>\n",
       "<tr><td>train_AE_491ede7c</td><td>RUNNING </td><td>192.168.0.107:72087</td><td style=\"text-align: right;\">          32</td><td style=\"text-align: right;\">   7.6929e-05 </td><td style=\"text-align: right;\">          1</td><td style=\"text-align: right;\">0.00526103 </td><td style=\"text-align: right;\">         1.96999</td><td style=\"text-align: right;\">     1</td></tr>\n",
       "<tr><td>train_AE_491f0140</td><td>ERROR   </td><td>                   </td><td style=\"text-align: right;\">          32</td><td style=\"text-align: right;\">   0.000135728</td><td style=\"text-align: right;\">          2</td><td style=\"text-align: right;\">0.00201257 </td><td style=\"text-align: right;\">         1.49926</td><td style=\"text-align: right;\">     1</td></tr>\n",
       "<tr><td>train_AE_491f2ab2</td><td>ERROR   </td><td>                   </td><td style=\"text-align: right;\">          32</td><td style=\"text-align: right;\">   0.00247233 </td><td style=\"text-align: right;\">          1</td><td style=\"text-align: right;\">0.0189697  </td><td style=\"text-align: right;\">         5.45071</td><td style=\"text-align: right;\">     1</td></tr>\n",
       "<tr><td>train_AE_491f500a</td><td>ERROR   </td><td>                   </td><td style=\"text-align: right;\">          32</td><td style=\"text-align: right;\">   0.00566997 </td><td style=\"text-align: right;\">          1</td><td style=\"text-align: right;\">0.0731945  </td><td style=\"text-align: right;\">        10.8028 </td><td style=\"text-align: right;\">     1</td></tr>\n",
       "<tr><td>train_AE_6167d786</td><td>ERROR   </td><td>                   </td><td style=\"text-align: right;\">          32</td><td style=\"text-align: right;\">   0.00079759 </td><td style=\"text-align: right;\">          2</td><td style=\"text-align: right;\">0.000497296</td><td style=\"text-align: right;\">        13.4093 </td><td style=\"text-align: right;\">     1</td></tr>\n",
       "<tr><td>train_AE_624eec16</td><td>ERROR   </td><td>                   </td><td style=\"text-align: right;\">            </td><td style=\"text-align: right;\">              </td><td style=\"text-align: right;\">           </td><td style=\"text-align: right;\">           </td><td style=\"text-align: right;\">                </td><td style=\"text-align: right;\">      </td></tr>\n",
       "<tr><td>train_AE_659075e8</td><td>RUNNING </td><td>                   </td><td style=\"text-align: right;\">          32</td><td style=\"text-align: right;\">   4.12061e-05</td><td style=\"text-align: right;\">          1</td><td style=\"text-align: right;\">0.00260545 </td><td style=\"text-align: right;\">         6.72662</td><td style=\"text-align: right;\">     1</td></tr>\n",
       "<tr><td>train_AE_7628b12c</td><td>PENDING </td><td>                   </td><td style=\"text-align: right;\">          32</td><td style=\"text-align: right;\">   9.4749e-05 </td><td style=\"text-align: right;\">          2</td><td style=\"text-align: right;\">0.0157029  </td><td style=\"text-align: right;\">        35.1312 </td><td style=\"text-align: right;\">     1</td></tr>\n",
       "<tr><td>train_AE_8a292b0c</td><td>PENDING </td><td>                   </td><td style=\"text-align: right;\">          32</td><td style=\"text-align: right;\">   0.000130895</td><td style=\"text-align: right;\">          1</td><td style=\"text-align: right;\">0.0403537  </td><td style=\"text-align: right;\">        37.4428 </td><td style=\"text-align: right;\">     1</td></tr>\n",
       "</tbody>\n",
       "</table><br>Number of errored trials: 5<br><table>\n",
       "<thead>\n",
       "<tr><th>Trial name       </th><th style=\"text-align: right;\">  # failures</th><th>error file                                                                                                                                                                                                                                                         </th></tr>\n",
       "</thead>\n",
       "<tbody>\n",
       "<tr><td>train_AE_491f0140</td><td style=\"text-align: right;\">           1</td><td>/Users/natasha/Desktop/mcgill_postdoc/ncbi_genomes/genome_embeddings/TUNE_RESULT_DIR/exp_1/train_AE_491f0140_3_batch_size=32,kfolds=10,lr=0.0020126,nn_layers=2,num_epochs=2,num_workers=1,replacement_threshold=0.5,weight_d_2020-07-24_10-31-37e0kuzr_q/error.txt</td></tr>\n",
       "<tr><td>train_AE_491f2ab2</td><td style=\"text-align: right;\">           1</td><td>/Users/natasha/Desktop/mcgill_postdoc/ncbi_genomes/genome_embeddings/TUNE_RESULT_DIR/exp_1/train_AE_491f2ab2_4_batch_size=32,kfolds=10,lr=0.01897,nn_layers=1,num_epochs=2,num_workers=1,replacement_threshold=0.5,weight_dec_2020-07-24_10-31-38bjjwo34c/error.txt</td></tr>\n",
       "<tr><td>train_AE_491f500a</td><td style=\"text-align: right;\">           1</td><td>/Users/natasha/Desktop/mcgill_postdoc/ncbi_genomes/genome_embeddings/TUNE_RESULT_DIR/exp_1/train_AE_491f500a_5_batch_size=32,kfolds=10,lr=0.073194,nn_layers=1,num_epochs=2,num_workers=1,replacement_threshold=0.5,weight_de_2020-07-24_10-31-43515h60f8/error.txt</td></tr>\n",
       "<tr><td>train_AE_6167d786</td><td style=\"text-align: right;\">           1</td><td>/Users/natasha/Desktop/mcgill_postdoc/ncbi_genomes/genome_embeddings/TUNE_RESULT_DIR/exp_1/train_AE_6167d786_6_batch_size=32,kfolds=10,lr=0.0004973,nn_layers=2,num_epochs=2,num_workers=1,replacement_threshold=0.5,weight_d_2020-07-24_10-32-11onciscfi/error.txt</td></tr>\n",
       "<tr><td>train_AE_624eec16</td><td style=\"text-align: right;\">           1</td><td>/Users/natasha/Desktop/mcgill_postdoc/ncbi_genomes/genome_embeddings/TUNE_RESULT_DIR/exp_1/train_AE_624eec16_7_batch_size=32,kfolds=10,lr=0.01129,nn_layers=1,num_epochs=2,num_workers=1,replacement_threshold=0.5,weight_dec_2020-07-24_10-32-45kyhu8ujy/error.txt</td></tr>\n",
       "</tbody>\n",
       "</table><br>"
      ],
      "text/plain": [
       "<IPython.core.display.HTML object>"
      ]
     },
     "metadata": {},
     "output_type": "display_data"
    },
    {
     "data": {
      "text/html": [
       "== Status ==<br>Memory usage on this node: 19.2/32.0 GiB<br>Using HyperBand: num_stopped=0 total_brackets=1\n",
       "Round #0:\n",
       "  Bracket(Max Size (n)=27, Milestone (r)=3, completed=3.0%): {ERROR: 5, PAUSED: 1, PENDING: 2, RUNNING: 2} <br>Resources requested: 10/12 CPUs, 0/0 GPUs, 0.0/9.81 GiB heap, 0.0/3.37 GiB objects<br>Result logdir: /Users/natasha/Desktop/mcgill_postdoc/ncbi_genomes/genome_embeddings/TUNE_RESULT_DIR/exp_1<br>Number of trials: 10 (1 PAUSED, 2 RUNNING, 5 ERROR, 2 PENDING)<br><table>\n",
       "<thead>\n",
       "<tr><th>Trial name       </th><th>status  </th><th>loc                </th><th style=\"text-align: right;\">  batch_size</th><th style=\"text-align: right;\">  weight_decay</th><th style=\"text-align: right;\">  nn_layers</th><th style=\"text-align: right;\">         lr</th><th style=\"text-align: right;\">  total time (s)</th><th style=\"text-align: right;\">  iter</th></tr>\n",
       "</thead>\n",
       "<tbody>\n",
       "<tr><td>train_AE_491eb01e</td><td>PAUSED  </td><td>                   </td><td style=\"text-align: right;\">          32</td><td style=\"text-align: right;\">   0.000429243</td><td style=\"text-align: right;\">          1</td><td style=\"text-align: right;\">0.00717318 </td><td style=\"text-align: right;\">        70.1596 </td><td style=\"text-align: right;\">     3</td></tr>\n",
       "<tr><td>train_AE_491ede7c</td><td>RUNNING </td><td>192.168.0.107:72087</td><td style=\"text-align: right;\">          32</td><td style=\"text-align: right;\">   7.6929e-05 </td><td style=\"text-align: right;\">          1</td><td style=\"text-align: right;\">0.00526103 </td><td style=\"text-align: right;\">        63.4746 </td><td style=\"text-align: right;\">     2</td></tr>\n",
       "<tr><td>train_AE_491f0140</td><td>ERROR   </td><td>                   </td><td style=\"text-align: right;\">          32</td><td style=\"text-align: right;\">   0.000135728</td><td style=\"text-align: right;\">          2</td><td style=\"text-align: right;\">0.00201257 </td><td style=\"text-align: right;\">         1.49926</td><td style=\"text-align: right;\">     1</td></tr>\n",
       "<tr><td>train_AE_491f2ab2</td><td>ERROR   </td><td>                   </td><td style=\"text-align: right;\">          32</td><td style=\"text-align: right;\">   0.00247233 </td><td style=\"text-align: right;\">          1</td><td style=\"text-align: right;\">0.0189697  </td><td style=\"text-align: right;\">         5.45071</td><td style=\"text-align: right;\">     1</td></tr>\n",
       "<tr><td>train_AE_491f500a</td><td>ERROR   </td><td>                   </td><td style=\"text-align: right;\">          32</td><td style=\"text-align: right;\">   0.00566997 </td><td style=\"text-align: right;\">          1</td><td style=\"text-align: right;\">0.0731945  </td><td style=\"text-align: right;\">        10.8028 </td><td style=\"text-align: right;\">     1</td></tr>\n",
       "<tr><td>train_AE_6167d786</td><td>ERROR   </td><td>                   </td><td style=\"text-align: right;\">          32</td><td style=\"text-align: right;\">   0.00079759 </td><td style=\"text-align: right;\">          2</td><td style=\"text-align: right;\">0.000497296</td><td style=\"text-align: right;\">        13.4093 </td><td style=\"text-align: right;\">     1</td></tr>\n",
       "<tr><td>train_AE_624eec16</td><td>ERROR   </td><td>                   </td><td style=\"text-align: right;\">            </td><td style=\"text-align: right;\">              </td><td style=\"text-align: right;\">           </td><td style=\"text-align: right;\">           </td><td style=\"text-align: right;\">                </td><td style=\"text-align: right;\">      </td></tr>\n",
       "<tr><td>train_AE_659075e8</td><td>RUNNING </td><td>                   </td><td style=\"text-align: right;\">          32</td><td style=\"text-align: right;\">   4.12061e-05</td><td style=\"text-align: right;\">          1</td><td style=\"text-align: right;\">0.00260545 </td><td style=\"text-align: right;\">         6.72662</td><td style=\"text-align: right;\">     1</td></tr>\n",
       "<tr><td>train_AE_7628b12c</td><td>PENDING </td><td>                   </td><td style=\"text-align: right;\">          32</td><td style=\"text-align: right;\">   9.4749e-05 </td><td style=\"text-align: right;\">          2</td><td style=\"text-align: right;\">0.0157029  </td><td style=\"text-align: right;\">        35.1312 </td><td style=\"text-align: right;\">     1</td></tr>\n",
       "<tr><td>train_AE_8a292b0c</td><td>PENDING </td><td>                   </td><td style=\"text-align: right;\">          32</td><td style=\"text-align: right;\">   0.000130895</td><td style=\"text-align: right;\">          1</td><td style=\"text-align: right;\">0.0403537  </td><td style=\"text-align: right;\">        37.4428 </td><td style=\"text-align: right;\">     1</td></tr>\n",
       "</tbody>\n",
       "</table><br>Number of errored trials: 5<br><table>\n",
       "<thead>\n",
       "<tr><th>Trial name       </th><th style=\"text-align: right;\">  # failures</th><th>error file                                                                                                                                                                                                                                                         </th></tr>\n",
       "</thead>\n",
       "<tbody>\n",
       "<tr><td>train_AE_491f0140</td><td style=\"text-align: right;\">           1</td><td>/Users/natasha/Desktop/mcgill_postdoc/ncbi_genomes/genome_embeddings/TUNE_RESULT_DIR/exp_1/train_AE_491f0140_3_batch_size=32,kfolds=10,lr=0.0020126,nn_layers=2,num_epochs=2,num_workers=1,replacement_threshold=0.5,weight_d_2020-07-24_10-31-37e0kuzr_q/error.txt</td></tr>\n",
       "<tr><td>train_AE_491f2ab2</td><td style=\"text-align: right;\">           1</td><td>/Users/natasha/Desktop/mcgill_postdoc/ncbi_genomes/genome_embeddings/TUNE_RESULT_DIR/exp_1/train_AE_491f2ab2_4_batch_size=32,kfolds=10,lr=0.01897,nn_layers=1,num_epochs=2,num_workers=1,replacement_threshold=0.5,weight_dec_2020-07-24_10-31-38bjjwo34c/error.txt</td></tr>\n",
       "<tr><td>train_AE_491f500a</td><td style=\"text-align: right;\">           1</td><td>/Users/natasha/Desktop/mcgill_postdoc/ncbi_genomes/genome_embeddings/TUNE_RESULT_DIR/exp_1/train_AE_491f500a_5_batch_size=32,kfolds=10,lr=0.073194,nn_layers=1,num_epochs=2,num_workers=1,replacement_threshold=0.5,weight_de_2020-07-24_10-31-43515h60f8/error.txt</td></tr>\n",
       "<tr><td>train_AE_6167d786</td><td style=\"text-align: right;\">           1</td><td>/Users/natasha/Desktop/mcgill_postdoc/ncbi_genomes/genome_embeddings/TUNE_RESULT_DIR/exp_1/train_AE_6167d786_6_batch_size=32,kfolds=10,lr=0.0004973,nn_layers=2,num_epochs=2,num_workers=1,replacement_threshold=0.5,weight_d_2020-07-24_10-32-11onciscfi/error.txt</td></tr>\n",
       "<tr><td>train_AE_624eec16</td><td style=\"text-align: right;\">           1</td><td>/Users/natasha/Desktop/mcgill_postdoc/ncbi_genomes/genome_embeddings/TUNE_RESULT_DIR/exp_1/train_AE_624eec16_7_batch_size=32,kfolds=10,lr=0.01129,nn_layers=1,num_epochs=2,num_workers=1,replacement_threshold=0.5,weight_dec_2020-07-24_10-32-45kyhu8ujy/error.txt</td></tr>\n",
       "</tbody>\n",
       "</table><br>"
      ],
      "text/plain": [
       "<IPython.core.display.HTML object>"
      ]
     },
     "metadata": {},
     "output_type": "display_data"
    },
    {
     "data": {
      "text/html": [
       "== Status ==<br>Memory usage on this node: 19.3/32.0 GiB<br>Using HyperBand: num_stopped=0 total_brackets=1\n",
       "Round #0:\n",
       "  Bracket(Max Size (n)=27, Milestone (r)=3, completed=3.0%): {ERROR: 6, PAUSED: 1, PENDING: 1, RUNNING: 2} <br>Resources requested: 10/12 CPUs, 0/0 GPUs, 0.0/9.81 GiB heap, 0.0/3.37 GiB objects<br>Result logdir: /Users/natasha/Desktop/mcgill_postdoc/ncbi_genomes/genome_embeddings/TUNE_RESULT_DIR/exp_1<br>Number of trials: 10 (1 PAUSED, 2 RUNNING, 6 ERROR, 1 PENDING)<br><table>\n",
       "<thead>\n",
       "<tr><th>Trial name       </th><th>status  </th><th>loc                </th><th style=\"text-align: right;\">  batch_size</th><th style=\"text-align: right;\">  weight_decay</th><th style=\"text-align: right;\">  nn_layers</th><th style=\"text-align: right;\">         lr</th><th style=\"text-align: right;\">  total time (s)</th><th style=\"text-align: right;\">  iter</th></tr>\n",
       "</thead>\n",
       "<tbody>\n",
       "<tr><td>train_AE_491eb01e</td><td>PAUSED  </td><td>                   </td><td style=\"text-align: right;\">          32</td><td style=\"text-align: right;\">   0.000429243</td><td style=\"text-align: right;\">          1</td><td style=\"text-align: right;\">0.00717318 </td><td style=\"text-align: right;\">        70.1596 </td><td style=\"text-align: right;\">     3</td></tr>\n",
       "<tr><td>train_AE_491ede7c</td><td>RUNNING </td><td>192.168.0.107:72087</td><td style=\"text-align: right;\">          32</td><td style=\"text-align: right;\">   7.6929e-05 </td><td style=\"text-align: right;\">          1</td><td style=\"text-align: right;\">0.00526103 </td><td style=\"text-align: right;\">        63.4746 </td><td style=\"text-align: right;\">     2</td></tr>\n",
       "<tr><td>train_AE_491f0140</td><td>ERROR   </td><td>                   </td><td style=\"text-align: right;\">          32</td><td style=\"text-align: right;\">   0.000135728</td><td style=\"text-align: right;\">          2</td><td style=\"text-align: right;\">0.00201257 </td><td style=\"text-align: right;\">         1.49926</td><td style=\"text-align: right;\">     1</td></tr>\n",
       "<tr><td>train_AE_491f2ab2</td><td>ERROR   </td><td>                   </td><td style=\"text-align: right;\">          32</td><td style=\"text-align: right;\">   0.00247233 </td><td style=\"text-align: right;\">          1</td><td style=\"text-align: right;\">0.0189697  </td><td style=\"text-align: right;\">         5.45071</td><td style=\"text-align: right;\">     1</td></tr>\n",
       "<tr><td>train_AE_491f500a</td><td>ERROR   </td><td>                   </td><td style=\"text-align: right;\">          32</td><td style=\"text-align: right;\">   0.00566997 </td><td style=\"text-align: right;\">          1</td><td style=\"text-align: right;\">0.0731945  </td><td style=\"text-align: right;\">        10.8028 </td><td style=\"text-align: right;\">     1</td></tr>\n",
       "<tr><td>train_AE_6167d786</td><td>ERROR   </td><td>                   </td><td style=\"text-align: right;\">          32</td><td style=\"text-align: right;\">   0.00079759 </td><td style=\"text-align: right;\">          2</td><td style=\"text-align: right;\">0.000497296</td><td style=\"text-align: right;\">        13.4093 </td><td style=\"text-align: right;\">     1</td></tr>\n",
       "<tr><td>train_AE_624eec16</td><td>ERROR   </td><td>                   </td><td style=\"text-align: right;\">            </td><td style=\"text-align: right;\">              </td><td style=\"text-align: right;\">           </td><td style=\"text-align: right;\">           </td><td style=\"text-align: right;\">                </td><td style=\"text-align: right;\">      </td></tr>\n",
       "<tr><td>train_AE_659075e8</td><td>ERROR   </td><td>                   </td><td style=\"text-align: right;\">          32</td><td style=\"text-align: right;\">   4.12061e-05</td><td style=\"text-align: right;\">          1</td><td style=\"text-align: right;\">0.00260545 </td><td style=\"text-align: right;\">         6.72662</td><td style=\"text-align: right;\">     1</td></tr>\n",
       "<tr><td>train_AE_7628b12c</td><td>RUNNING </td><td>                   </td><td style=\"text-align: right;\">          32</td><td style=\"text-align: right;\">   9.4749e-05 </td><td style=\"text-align: right;\">          2</td><td style=\"text-align: right;\">0.0157029  </td><td style=\"text-align: right;\">        35.1312 </td><td style=\"text-align: right;\">     1</td></tr>\n",
       "<tr><td>train_AE_8a292b0c</td><td>PENDING </td><td>                   </td><td style=\"text-align: right;\">          32</td><td style=\"text-align: right;\">   0.000130895</td><td style=\"text-align: right;\">          1</td><td style=\"text-align: right;\">0.0403537  </td><td style=\"text-align: right;\">        37.4428 </td><td style=\"text-align: right;\">     1</td></tr>\n",
       "</tbody>\n",
       "</table><br>Number of errored trials: 6<br><table>\n",
       "<thead>\n",
       "<tr><th>Trial name       </th><th style=\"text-align: right;\">  # failures</th><th>error file                                                                                                                                                                                                                                                         </th></tr>\n",
       "</thead>\n",
       "<tbody>\n",
       "<tr><td>train_AE_491f0140</td><td style=\"text-align: right;\">           1</td><td>/Users/natasha/Desktop/mcgill_postdoc/ncbi_genomes/genome_embeddings/TUNE_RESULT_DIR/exp_1/train_AE_491f0140_3_batch_size=32,kfolds=10,lr=0.0020126,nn_layers=2,num_epochs=2,num_workers=1,replacement_threshold=0.5,weight_d_2020-07-24_10-31-37e0kuzr_q/error.txt</td></tr>\n",
       "<tr><td>train_AE_491f2ab2</td><td style=\"text-align: right;\">           1</td><td>/Users/natasha/Desktop/mcgill_postdoc/ncbi_genomes/genome_embeddings/TUNE_RESULT_DIR/exp_1/train_AE_491f2ab2_4_batch_size=32,kfolds=10,lr=0.01897,nn_layers=1,num_epochs=2,num_workers=1,replacement_threshold=0.5,weight_dec_2020-07-24_10-31-38bjjwo34c/error.txt</td></tr>\n",
       "<tr><td>train_AE_491f500a</td><td style=\"text-align: right;\">           1</td><td>/Users/natasha/Desktop/mcgill_postdoc/ncbi_genomes/genome_embeddings/TUNE_RESULT_DIR/exp_1/train_AE_491f500a_5_batch_size=32,kfolds=10,lr=0.073194,nn_layers=1,num_epochs=2,num_workers=1,replacement_threshold=0.5,weight_de_2020-07-24_10-31-43515h60f8/error.txt</td></tr>\n",
       "<tr><td>train_AE_6167d786</td><td style=\"text-align: right;\">           1</td><td>/Users/natasha/Desktop/mcgill_postdoc/ncbi_genomes/genome_embeddings/TUNE_RESULT_DIR/exp_1/train_AE_6167d786_6_batch_size=32,kfolds=10,lr=0.0004973,nn_layers=2,num_epochs=2,num_workers=1,replacement_threshold=0.5,weight_d_2020-07-24_10-32-11onciscfi/error.txt</td></tr>\n",
       "<tr><td>train_AE_624eec16</td><td style=\"text-align: right;\">           1</td><td>/Users/natasha/Desktop/mcgill_postdoc/ncbi_genomes/genome_embeddings/TUNE_RESULT_DIR/exp_1/train_AE_624eec16_7_batch_size=32,kfolds=10,lr=0.01129,nn_layers=1,num_epochs=2,num_workers=1,replacement_threshold=0.5,weight_dec_2020-07-24_10-32-45kyhu8ujy/error.txt</td></tr>\n",
       "<tr><td>train_AE_659075e8</td><td style=\"text-align: right;\">           1</td><td>/Users/natasha/Desktop/mcgill_postdoc/ncbi_genomes/genome_embeddings/TUNE_RESULT_DIR/exp_1/train_AE_659075e8_8_batch_size=32,kfolds=10,lr=0.0026055,nn_layers=1,num_epochs=2,num_workers=1,replacement_threshold=0.5,weight_d_2020-07-24_10-33-20a_pi4azi/error.txt</td></tr>\n",
       "</tbody>\n",
       "</table><br>"
      ],
      "text/plain": [
       "<IPython.core.display.HTML object>"
      ]
     },
     "metadata": {},
     "output_type": "display_data"
    },
    {
     "data": {
      "text/html": [
       "== Status ==<br>Memory usage on this node: 19.3/32.0 GiB<br>Using HyperBand: num_stopped=0 total_brackets=1\n",
       "Round #0:\n",
       "  Bracket(Max Size (n)=27, Milestone (r)=3, completed=3.0%): {ERROR: 7, PAUSED: 1, RUNNING: 2} <br>Resources requested: 10/12 CPUs, 0/0 GPUs, 0.0/9.77 GiB heap, 0.0/3.37 GiB objects<br>Result logdir: /Users/natasha/Desktop/mcgill_postdoc/ncbi_genomes/genome_embeddings/TUNE_RESULT_DIR/exp_1<br>Number of trials: 10 (1 PAUSED, 2 RUNNING, 7 ERROR)<br><table>\n",
       "<thead>\n",
       "<tr><th>Trial name       </th><th>status  </th><th>loc                </th><th style=\"text-align: right;\">  batch_size</th><th style=\"text-align: right;\">  weight_decay</th><th style=\"text-align: right;\">  nn_layers</th><th style=\"text-align: right;\">         lr</th><th style=\"text-align: right;\">  total time (s)</th><th style=\"text-align: right;\">  iter</th></tr>\n",
       "</thead>\n",
       "<tbody>\n",
       "<tr><td>train_AE_491eb01e</td><td>PAUSED  </td><td>                   </td><td style=\"text-align: right;\">          32</td><td style=\"text-align: right;\">   0.000429243</td><td style=\"text-align: right;\">          1</td><td style=\"text-align: right;\">0.00717318 </td><td style=\"text-align: right;\">        70.1596 </td><td style=\"text-align: right;\">     3</td></tr>\n",
       "<tr><td>train_AE_491ede7c</td><td>RUNNING </td><td>192.168.0.107:72087</td><td style=\"text-align: right;\">          32</td><td style=\"text-align: right;\">   7.6929e-05 </td><td style=\"text-align: right;\">          1</td><td style=\"text-align: right;\">0.00526103 </td><td style=\"text-align: right;\">        63.4746 </td><td style=\"text-align: right;\">     2</td></tr>\n",
       "<tr><td>train_AE_491f0140</td><td>ERROR   </td><td>                   </td><td style=\"text-align: right;\">          32</td><td style=\"text-align: right;\">   0.000135728</td><td style=\"text-align: right;\">          2</td><td style=\"text-align: right;\">0.00201257 </td><td style=\"text-align: right;\">         1.49926</td><td style=\"text-align: right;\">     1</td></tr>\n",
       "<tr><td>train_AE_491f2ab2</td><td>ERROR   </td><td>                   </td><td style=\"text-align: right;\">          32</td><td style=\"text-align: right;\">   0.00247233 </td><td style=\"text-align: right;\">          1</td><td style=\"text-align: right;\">0.0189697  </td><td style=\"text-align: right;\">         5.45071</td><td style=\"text-align: right;\">     1</td></tr>\n",
       "<tr><td>train_AE_491f500a</td><td>ERROR   </td><td>                   </td><td style=\"text-align: right;\">          32</td><td style=\"text-align: right;\">   0.00566997 </td><td style=\"text-align: right;\">          1</td><td style=\"text-align: right;\">0.0731945  </td><td style=\"text-align: right;\">        10.8028 </td><td style=\"text-align: right;\">     1</td></tr>\n",
       "<tr><td>train_AE_6167d786</td><td>ERROR   </td><td>                   </td><td style=\"text-align: right;\">          32</td><td style=\"text-align: right;\">   0.00079759 </td><td style=\"text-align: right;\">          2</td><td style=\"text-align: right;\">0.000497296</td><td style=\"text-align: right;\">        13.4093 </td><td style=\"text-align: right;\">     1</td></tr>\n",
       "<tr><td>train_AE_624eec16</td><td>ERROR   </td><td>                   </td><td style=\"text-align: right;\">            </td><td style=\"text-align: right;\">              </td><td style=\"text-align: right;\">           </td><td style=\"text-align: right;\">           </td><td style=\"text-align: right;\">                </td><td style=\"text-align: right;\">      </td></tr>\n",
       "<tr><td>train_AE_659075e8</td><td>ERROR   </td><td>                   </td><td style=\"text-align: right;\">          32</td><td style=\"text-align: right;\">   4.12061e-05</td><td style=\"text-align: right;\">          1</td><td style=\"text-align: right;\">0.00260545 </td><td style=\"text-align: right;\">         6.72662</td><td style=\"text-align: right;\">     1</td></tr>\n",
       "<tr><td>train_AE_7628b12c</td><td>ERROR   </td><td>                   </td><td style=\"text-align: right;\">          32</td><td style=\"text-align: right;\">   9.4749e-05 </td><td style=\"text-align: right;\">          2</td><td style=\"text-align: right;\">0.0157029  </td><td style=\"text-align: right;\">        35.1312 </td><td style=\"text-align: right;\">     1</td></tr>\n",
       "<tr><td>train_AE_8a292b0c</td><td>RUNNING </td><td>                   </td><td style=\"text-align: right;\">          32</td><td style=\"text-align: right;\">   0.000130895</td><td style=\"text-align: right;\">          1</td><td style=\"text-align: right;\">0.0403537  </td><td style=\"text-align: right;\">        37.4428 </td><td style=\"text-align: right;\">     1</td></tr>\n",
       "</tbody>\n",
       "</table><br>Number of errored trials: 7<br><table>\n",
       "<thead>\n",
       "<tr><th>Trial name       </th><th style=\"text-align: right;\">  # failures</th><th>error file                                                                                                                                                                                                                                                         </th></tr>\n",
       "</thead>\n",
       "<tbody>\n",
       "<tr><td>train_AE_491f0140</td><td style=\"text-align: right;\">           1</td><td>/Users/natasha/Desktop/mcgill_postdoc/ncbi_genomes/genome_embeddings/TUNE_RESULT_DIR/exp_1/train_AE_491f0140_3_batch_size=32,kfolds=10,lr=0.0020126,nn_layers=2,num_epochs=2,num_workers=1,replacement_threshold=0.5,weight_d_2020-07-24_10-31-37e0kuzr_q/error.txt</td></tr>\n",
       "<tr><td>train_AE_491f2ab2</td><td style=\"text-align: right;\">           1</td><td>/Users/natasha/Desktop/mcgill_postdoc/ncbi_genomes/genome_embeddings/TUNE_RESULT_DIR/exp_1/train_AE_491f2ab2_4_batch_size=32,kfolds=10,lr=0.01897,nn_layers=1,num_epochs=2,num_workers=1,replacement_threshold=0.5,weight_dec_2020-07-24_10-31-38bjjwo34c/error.txt</td></tr>\n",
       "<tr><td>train_AE_491f500a</td><td style=\"text-align: right;\">           1</td><td>/Users/natasha/Desktop/mcgill_postdoc/ncbi_genomes/genome_embeddings/TUNE_RESULT_DIR/exp_1/train_AE_491f500a_5_batch_size=32,kfolds=10,lr=0.073194,nn_layers=1,num_epochs=2,num_workers=1,replacement_threshold=0.5,weight_de_2020-07-24_10-31-43515h60f8/error.txt</td></tr>\n",
       "<tr><td>train_AE_6167d786</td><td style=\"text-align: right;\">           1</td><td>/Users/natasha/Desktop/mcgill_postdoc/ncbi_genomes/genome_embeddings/TUNE_RESULT_DIR/exp_1/train_AE_6167d786_6_batch_size=32,kfolds=10,lr=0.0004973,nn_layers=2,num_epochs=2,num_workers=1,replacement_threshold=0.5,weight_d_2020-07-24_10-32-11onciscfi/error.txt</td></tr>\n",
       "<tr><td>train_AE_624eec16</td><td style=\"text-align: right;\">           1</td><td>/Users/natasha/Desktop/mcgill_postdoc/ncbi_genomes/genome_embeddings/TUNE_RESULT_DIR/exp_1/train_AE_624eec16_7_batch_size=32,kfolds=10,lr=0.01129,nn_layers=1,num_epochs=2,num_workers=1,replacement_threshold=0.5,weight_dec_2020-07-24_10-32-45kyhu8ujy/error.txt</td></tr>\n",
       "<tr><td>train_AE_659075e8</td><td style=\"text-align: right;\">           1</td><td>/Users/natasha/Desktop/mcgill_postdoc/ncbi_genomes/genome_embeddings/TUNE_RESULT_DIR/exp_1/train_AE_659075e8_8_batch_size=32,kfolds=10,lr=0.0026055,nn_layers=1,num_epochs=2,num_workers=1,replacement_threshold=0.5,weight_d_2020-07-24_10-33-20a_pi4azi/error.txt</td></tr>\n",
       "<tr><td>train_AE_7628b12c</td><td style=\"text-align: right;\">           1</td><td>/Users/natasha/Desktop/mcgill_postdoc/ncbi_genomes/genome_embeddings/TUNE_RESULT_DIR/exp_1/train_AE_7628b12c_9_batch_size=32,kfolds=10,lr=0.015703,nn_layers=2,num_epochs=2,num_workers=1,replacement_threshold=0.5,weight_de_2020-07-24_10-33-2764hfsck3/error.txt</td></tr>\n",
       "</tbody>\n",
       "</table><br>"
      ],
      "text/plain": [
       "<IPython.core.display.HTML object>"
      ]
     },
     "metadata": {},
     "output_type": "display_data"
    },
    {
     "data": {
      "text/html": [
       "== Status ==<br>Memory usage on this node: 19.3/32.0 GiB<br>Using HyperBand: num_stopped=0 total_brackets=1\n",
       "Round #0:\n",
       "  Bracket(Max Size (n)=27, Milestone (r)=3, completed=3.0%): {ERROR: 7, PAUSED: 1, RUNNING: 2} <br>Resources requested: 10/12 CPUs, 0/0 GPUs, 0.0/9.77 GiB heap, 0.0/3.37 GiB objects<br>Result logdir: /Users/natasha/Desktop/mcgill_postdoc/ncbi_genomes/genome_embeddings/TUNE_RESULT_DIR/exp_1<br>Number of trials: 10 (1 PAUSED, 2 RUNNING, 7 ERROR)<br><table>\n",
       "<thead>\n",
       "<tr><th>Trial name       </th><th>status  </th><th>loc                </th><th style=\"text-align: right;\">  batch_size</th><th style=\"text-align: right;\">  weight_decay</th><th style=\"text-align: right;\">  nn_layers</th><th style=\"text-align: right;\">         lr</th><th style=\"text-align: right;\">  total time (s)</th><th style=\"text-align: right;\">  iter</th></tr>\n",
       "</thead>\n",
       "<tbody>\n",
       "<tr><td>train_AE_491eb01e</td><td>PAUSED  </td><td>                   </td><td style=\"text-align: right;\">          32</td><td style=\"text-align: right;\">   0.000429243</td><td style=\"text-align: right;\">          1</td><td style=\"text-align: right;\">0.00717318 </td><td style=\"text-align: right;\">        70.1596 </td><td style=\"text-align: right;\">     3</td></tr>\n",
       "<tr><td>train_AE_491ede7c</td><td>RUNNING </td><td>192.168.0.107:72087</td><td style=\"text-align: right;\">          32</td><td style=\"text-align: right;\">   7.6929e-05 </td><td style=\"text-align: right;\">          1</td><td style=\"text-align: right;\">0.00526103 </td><td style=\"text-align: right;\">        63.4746 </td><td style=\"text-align: right;\">     2</td></tr>\n",
       "<tr><td>train_AE_491f0140</td><td>ERROR   </td><td>                   </td><td style=\"text-align: right;\">          32</td><td style=\"text-align: right;\">   0.000135728</td><td style=\"text-align: right;\">          2</td><td style=\"text-align: right;\">0.00201257 </td><td style=\"text-align: right;\">         1.49926</td><td style=\"text-align: right;\">     1</td></tr>\n",
       "<tr><td>train_AE_491f2ab2</td><td>ERROR   </td><td>                   </td><td style=\"text-align: right;\">          32</td><td style=\"text-align: right;\">   0.00247233 </td><td style=\"text-align: right;\">          1</td><td style=\"text-align: right;\">0.0189697  </td><td style=\"text-align: right;\">         5.45071</td><td style=\"text-align: right;\">     1</td></tr>\n",
       "<tr><td>train_AE_491f500a</td><td>ERROR   </td><td>                   </td><td style=\"text-align: right;\">          32</td><td style=\"text-align: right;\">   0.00566997 </td><td style=\"text-align: right;\">          1</td><td style=\"text-align: right;\">0.0731945  </td><td style=\"text-align: right;\">        10.8028 </td><td style=\"text-align: right;\">     1</td></tr>\n",
       "<tr><td>train_AE_6167d786</td><td>ERROR   </td><td>                   </td><td style=\"text-align: right;\">          32</td><td style=\"text-align: right;\">   0.00079759 </td><td style=\"text-align: right;\">          2</td><td style=\"text-align: right;\">0.000497296</td><td style=\"text-align: right;\">        13.4093 </td><td style=\"text-align: right;\">     1</td></tr>\n",
       "<tr><td>train_AE_624eec16</td><td>ERROR   </td><td>                   </td><td style=\"text-align: right;\">            </td><td style=\"text-align: right;\">              </td><td style=\"text-align: right;\">           </td><td style=\"text-align: right;\">           </td><td style=\"text-align: right;\">                </td><td style=\"text-align: right;\">      </td></tr>\n",
       "<tr><td>train_AE_659075e8</td><td>ERROR   </td><td>                   </td><td style=\"text-align: right;\">          32</td><td style=\"text-align: right;\">   4.12061e-05</td><td style=\"text-align: right;\">          1</td><td style=\"text-align: right;\">0.00260545 </td><td style=\"text-align: right;\">         6.72662</td><td style=\"text-align: right;\">     1</td></tr>\n",
       "<tr><td>train_AE_7628b12c</td><td>ERROR   </td><td>                   </td><td style=\"text-align: right;\">          32</td><td style=\"text-align: right;\">   9.4749e-05 </td><td style=\"text-align: right;\">          2</td><td style=\"text-align: right;\">0.0157029  </td><td style=\"text-align: right;\">        35.1312 </td><td style=\"text-align: right;\">     1</td></tr>\n",
       "<tr><td>train_AE_8a292b0c</td><td>RUNNING </td><td>192.168.0.107:72087</td><td style=\"text-align: right;\">          32</td><td style=\"text-align: right;\">   0.000130895</td><td style=\"text-align: right;\">          1</td><td style=\"text-align: right;\">0.0403537  </td><td style=\"text-align: right;\">         5.4411 </td><td style=\"text-align: right;\">     1</td></tr>\n",
       "</tbody>\n",
       "</table><br>Number of errored trials: 7<br><table>\n",
       "<thead>\n",
       "<tr><th>Trial name       </th><th style=\"text-align: right;\">  # failures</th><th>error file                                                                                                                                                                                                                                                         </th></tr>\n",
       "</thead>\n",
       "<tbody>\n",
       "<tr><td>train_AE_491f0140</td><td style=\"text-align: right;\">           1</td><td>/Users/natasha/Desktop/mcgill_postdoc/ncbi_genomes/genome_embeddings/TUNE_RESULT_DIR/exp_1/train_AE_491f0140_3_batch_size=32,kfolds=10,lr=0.0020126,nn_layers=2,num_epochs=2,num_workers=1,replacement_threshold=0.5,weight_d_2020-07-24_10-31-37e0kuzr_q/error.txt</td></tr>\n",
       "<tr><td>train_AE_491f2ab2</td><td style=\"text-align: right;\">           1</td><td>/Users/natasha/Desktop/mcgill_postdoc/ncbi_genomes/genome_embeddings/TUNE_RESULT_DIR/exp_1/train_AE_491f2ab2_4_batch_size=32,kfolds=10,lr=0.01897,nn_layers=1,num_epochs=2,num_workers=1,replacement_threshold=0.5,weight_dec_2020-07-24_10-31-38bjjwo34c/error.txt</td></tr>\n",
       "<tr><td>train_AE_491f500a</td><td style=\"text-align: right;\">           1</td><td>/Users/natasha/Desktop/mcgill_postdoc/ncbi_genomes/genome_embeddings/TUNE_RESULT_DIR/exp_1/train_AE_491f500a_5_batch_size=32,kfolds=10,lr=0.073194,nn_layers=1,num_epochs=2,num_workers=1,replacement_threshold=0.5,weight_de_2020-07-24_10-31-43515h60f8/error.txt</td></tr>\n",
       "<tr><td>train_AE_6167d786</td><td style=\"text-align: right;\">           1</td><td>/Users/natasha/Desktop/mcgill_postdoc/ncbi_genomes/genome_embeddings/TUNE_RESULT_DIR/exp_1/train_AE_6167d786_6_batch_size=32,kfolds=10,lr=0.0004973,nn_layers=2,num_epochs=2,num_workers=1,replacement_threshold=0.5,weight_d_2020-07-24_10-32-11onciscfi/error.txt</td></tr>\n",
       "<tr><td>train_AE_624eec16</td><td style=\"text-align: right;\">           1</td><td>/Users/natasha/Desktop/mcgill_postdoc/ncbi_genomes/genome_embeddings/TUNE_RESULT_DIR/exp_1/train_AE_624eec16_7_batch_size=32,kfolds=10,lr=0.01129,nn_layers=1,num_epochs=2,num_workers=1,replacement_threshold=0.5,weight_dec_2020-07-24_10-32-45kyhu8ujy/error.txt</td></tr>\n",
       "<tr><td>train_AE_659075e8</td><td style=\"text-align: right;\">           1</td><td>/Users/natasha/Desktop/mcgill_postdoc/ncbi_genomes/genome_embeddings/TUNE_RESULT_DIR/exp_1/train_AE_659075e8_8_batch_size=32,kfolds=10,lr=0.0026055,nn_layers=1,num_epochs=2,num_workers=1,replacement_threshold=0.5,weight_d_2020-07-24_10-33-20a_pi4azi/error.txt</td></tr>\n",
       "<tr><td>train_AE_7628b12c</td><td style=\"text-align: right;\">           1</td><td>/Users/natasha/Desktop/mcgill_postdoc/ncbi_genomes/genome_embeddings/TUNE_RESULT_DIR/exp_1/train_AE_7628b12c_9_batch_size=32,kfolds=10,lr=0.015703,nn_layers=2,num_epochs=2,num_workers=1,replacement_threshold=0.5,weight_de_2020-07-24_10-33-2764hfsck3/error.txt</td></tr>\n",
       "</tbody>\n",
       "</table><br>"
      ],
      "text/plain": [
       "<IPython.core.display.HTML object>"
      ]
     },
     "metadata": {},
     "output_type": "display_data"
    },
    {
     "ename": "KeyboardInterrupt",
     "evalue": "",
     "output_type": "error",
     "traceback": [
      "\u001b[0;31m---------------------------------------------------------------------------\u001b[0m",
      "\u001b[0;31mKeyboardInterrupt\u001b[0m                         Traceback (most recent call last)",
      "\u001b[0;32m<ipython-input-9-55df2bb7ce59>\u001b[0m in \u001b[0;36m<module>\u001b[0;34m\u001b[0m\n\u001b[1;32m     12\u001b[0m     \u001b[0mscheduler\u001b[0m\u001b[0;34m=\u001b[0m\u001b[0mbohb\u001b[0m\u001b[0;34m,\u001b[0m\u001b[0;34m\u001b[0m\u001b[0;34m\u001b[0m\u001b[0m\n\u001b[1;32m     13\u001b[0m     \u001b[0mlocal_dir\u001b[0m\u001b[0;34m=\u001b[0m\u001b[0msettings\u001b[0m\u001b[0;34m.\u001b[0m\u001b[0mSAVE_FP\u001b[0m\u001b[0;34m+\u001b[0m\u001b[0;34m\"TUNE_RESULT_DIR\"\u001b[0m\u001b[0;34m,\u001b[0m\u001b[0;34m\u001b[0m\u001b[0;34m\u001b[0m\u001b[0m\n\u001b[0;32m---> 14\u001b[0;31m     \u001b[0mstop\u001b[0m\u001b[0;34m=\u001b[0m\u001b[0mtrainable\u001b[0m\u001b[0;34m.\u001b[0m\u001b[0mEarlyStopping\u001b[0m\u001b[0;34m(\u001b[0m\u001b[0;34m\"test_f1\"\u001b[0m\u001b[0;34m)\u001b[0m \u001b[0;31m# if search results aren't improving anymore\u001b[0m\u001b[0;34m\u001b[0m\u001b[0;34m\u001b[0m\u001b[0m\n\u001b[0m\u001b[1;32m     15\u001b[0m     )\n\u001b[1;32m     16\u001b[0m \u001b[0;34m\u001b[0m\u001b[0m\n",
      "\u001b[0;32m/usr/local/lib/python3.7/site-packages/ray/tune/tune.py\u001b[0m in \u001b[0;36mrun\u001b[0;34m(run_or_experiment, name, stop, config, resources_per_trial, num_samples, local_dir, upload_dir, trial_name_creator, loggers, sync_to_cloud, sync_to_driver, checkpoint_freq, checkpoint_at_end, sync_on_checkpoint, keep_checkpoints_num, checkpoint_score_attr, global_checkpoint_period, export_formats, max_failures, restore, search_alg, scheduler, with_server, server_port, verbose, progress_reporter, resume, queue_trials, reuse_actors, trial_executor, raise_on_failed_trial, return_trials, ray_auto_init, sync_function)\u001b[0m\n\u001b[1;32m    322\u001b[0m \u001b[0;34m\u001b[0m\u001b[0m\n\u001b[1;32m    323\u001b[0m     \u001b[0;32mwhile\u001b[0m \u001b[0;32mnot\u001b[0m \u001b[0mrunner\u001b[0m\u001b[0;34m.\u001b[0m\u001b[0mis_finished\u001b[0m\u001b[0;34m(\u001b[0m\u001b[0;34m)\u001b[0m\u001b[0;34m:\u001b[0m\u001b[0;34m\u001b[0m\u001b[0;34m\u001b[0m\u001b[0m\n\u001b[0;32m--> 324\u001b[0;31m         \u001b[0mrunner\u001b[0m\u001b[0;34m.\u001b[0m\u001b[0mstep\u001b[0m\u001b[0;34m(\u001b[0m\u001b[0;34m)\u001b[0m\u001b[0;34m\u001b[0m\u001b[0;34m\u001b[0m\u001b[0m\n\u001b[0m\u001b[1;32m    325\u001b[0m         \u001b[0;32mif\u001b[0m \u001b[0mverbose\u001b[0m\u001b[0;34m:\u001b[0m\u001b[0;34m\u001b[0m\u001b[0;34m\u001b[0m\u001b[0m\n\u001b[1;32m    326\u001b[0m             \u001b[0m_report_progress\u001b[0m\u001b[0;34m(\u001b[0m\u001b[0mrunner\u001b[0m\u001b[0;34m,\u001b[0m \u001b[0mprogress_reporter\u001b[0m\u001b[0;34m)\u001b[0m\u001b[0;34m\u001b[0m\u001b[0;34m\u001b[0m\u001b[0m\n",
      "\u001b[0;32m/usr/local/lib/python3.7/site-packages/ray/tune/trial_runner.py\u001b[0m in \u001b[0;36mstep\u001b[0;34m(self)\u001b[0m\n\u001b[1;32m    331\u001b[0m         \u001b[0;32mif\u001b[0m \u001b[0mnext_trial\u001b[0m \u001b[0;32mis\u001b[0m \u001b[0;32mnot\u001b[0m \u001b[0;32mNone\u001b[0m\u001b[0;34m:\u001b[0m\u001b[0;34m\u001b[0m\u001b[0;34m\u001b[0m\u001b[0m\n\u001b[1;32m    332\u001b[0m             \u001b[0;32mwith\u001b[0m \u001b[0mwarn_if_slow\u001b[0m\u001b[0;34m(\u001b[0m\u001b[0;34m\"start_trial\"\u001b[0m\u001b[0;34m)\u001b[0m\u001b[0;34m:\u001b[0m\u001b[0;34m\u001b[0m\u001b[0;34m\u001b[0m\u001b[0m\n\u001b[0;32m--> 333\u001b[0;31m                 \u001b[0mself\u001b[0m\u001b[0;34m.\u001b[0m\u001b[0mtrial_executor\u001b[0m\u001b[0;34m.\u001b[0m\u001b[0mstart_trial\u001b[0m\u001b[0;34m(\u001b[0m\u001b[0mnext_trial\u001b[0m\u001b[0;34m)\u001b[0m\u001b[0;34m\u001b[0m\u001b[0;34m\u001b[0m\u001b[0m\n\u001b[0m\u001b[1;32m    334\u001b[0m         \u001b[0;32melif\u001b[0m \u001b[0mself\u001b[0m\u001b[0;34m.\u001b[0m\u001b[0mtrial_executor\u001b[0m\u001b[0;34m.\u001b[0m\u001b[0mget_running_trials\u001b[0m\u001b[0;34m(\u001b[0m\u001b[0;34m)\u001b[0m\u001b[0;34m:\u001b[0m\u001b[0;34m\u001b[0m\u001b[0;34m\u001b[0m\u001b[0m\n\u001b[1;32m    335\u001b[0m             \u001b[0mself\u001b[0m\u001b[0;34m.\u001b[0m\u001b[0m_process_events\u001b[0m\u001b[0;34m(\u001b[0m\u001b[0;34m)\u001b[0m  \u001b[0;31m# blocking\u001b[0m\u001b[0;34m\u001b[0m\u001b[0;34m\u001b[0m\u001b[0m\n",
      "\u001b[0;32m/usr/local/lib/python3.7/site-packages/ray/tune/ray_trial_executor.py\u001b[0m in \u001b[0;36mstart_trial\u001b[0;34m(self, trial, checkpoint)\u001b[0m\n\u001b[1;32m    237\u001b[0m         \u001b[0mself\u001b[0m\u001b[0;34m.\u001b[0m\u001b[0m_commit_resources\u001b[0m\u001b[0;34m(\u001b[0m\u001b[0mtrial\u001b[0m\u001b[0;34m.\u001b[0m\u001b[0mresources\u001b[0m\u001b[0;34m)\u001b[0m\u001b[0;34m\u001b[0m\u001b[0;34m\u001b[0m\u001b[0m\n\u001b[1;32m    238\u001b[0m         \u001b[0;32mtry\u001b[0m\u001b[0;34m:\u001b[0m\u001b[0;34m\u001b[0m\u001b[0;34m\u001b[0m\u001b[0m\n\u001b[0;32m--> 239\u001b[0;31m             \u001b[0mself\u001b[0m\u001b[0;34m.\u001b[0m\u001b[0m_start_trial\u001b[0m\u001b[0;34m(\u001b[0m\u001b[0mtrial\u001b[0m\u001b[0;34m,\u001b[0m \u001b[0mcheckpoint\u001b[0m\u001b[0;34m)\u001b[0m\u001b[0;34m\u001b[0m\u001b[0;34m\u001b[0m\u001b[0m\n\u001b[0m\u001b[1;32m    240\u001b[0m         \u001b[0;32mexcept\u001b[0m \u001b[0mAbortTrialExecution\u001b[0m\u001b[0;34m:\u001b[0m\u001b[0;34m\u001b[0m\u001b[0;34m\u001b[0m\u001b[0m\n\u001b[1;32m    241\u001b[0m             logger.exception(\"Trial %s: Error starting runner, aborting!\",\n",
      "\u001b[0;32m/usr/local/lib/python3.7/site-packages/ray/tune/ray_trial_executor.py\u001b[0m in \u001b[0;36m_start_trial\u001b[0;34m(self, trial, checkpoint, runner)\u001b[0m\n\u001b[1;32m    186\u001b[0m             \u001b[0mself\u001b[0m\u001b[0;34m.\u001b[0m\u001b[0m_running\u001b[0m\u001b[0;34m[\u001b[0m\u001b[0mprevious_run\u001b[0m\u001b[0;34m[\u001b[0m\u001b[0;36m0\u001b[0m\u001b[0;34m]\u001b[0m\u001b[0;34m]\u001b[0m \u001b[0;34m=\u001b[0m \u001b[0mtrial\u001b[0m\u001b[0;34m\u001b[0m\u001b[0;34m\u001b[0m\u001b[0m\n\u001b[1;32m    187\u001b[0m         \u001b[0;32melif\u001b[0m \u001b[0;32mnot\u001b[0m \u001b[0mtrial\u001b[0m\u001b[0;34m.\u001b[0m\u001b[0mis_restoring\u001b[0m\u001b[0;34m:\u001b[0m\u001b[0;34m\u001b[0m\u001b[0;34m\u001b[0m\u001b[0m\n\u001b[0;32m--> 188\u001b[0;31m             \u001b[0mself\u001b[0m\u001b[0;34m.\u001b[0m\u001b[0m_train\u001b[0m\u001b[0;34m(\u001b[0m\u001b[0mtrial\u001b[0m\u001b[0;34m)\u001b[0m\u001b[0;34m\u001b[0m\u001b[0;34m\u001b[0m\u001b[0m\n\u001b[0m\u001b[1;32m    189\u001b[0m \u001b[0;34m\u001b[0m\u001b[0m\n\u001b[1;32m    190\u001b[0m     def _stop_trial(self, trial, error=False, error_msg=None,\n",
      "\u001b[0;32m/usr/local/lib/python3.7/site-packages/ray/tune/ray_trial_executor.py\u001b[0m in \u001b[0;36m_train\u001b[0;34m(self, trial)\u001b[0m\n\u001b[1;32m    149\u001b[0m         \u001b[0;32massert\u001b[0m \u001b[0mtrial\u001b[0m\u001b[0;34m.\u001b[0m\u001b[0mstatus\u001b[0m \u001b[0;34m==\u001b[0m \u001b[0mTrial\u001b[0m\u001b[0;34m.\u001b[0m\u001b[0mRUNNING\u001b[0m\u001b[0;34m,\u001b[0m \u001b[0mtrial\u001b[0m\u001b[0;34m.\u001b[0m\u001b[0mstatus\u001b[0m\u001b[0;34m\u001b[0m\u001b[0;34m\u001b[0m\u001b[0m\n\u001b[1;32m    150\u001b[0m         \u001b[0;32mwith\u001b[0m \u001b[0mself\u001b[0m\u001b[0;34m.\u001b[0m\u001b[0m_change_working_directory\u001b[0m\u001b[0;34m(\u001b[0m\u001b[0mtrial\u001b[0m\u001b[0;34m)\u001b[0m\u001b[0;34m:\u001b[0m\u001b[0;34m\u001b[0m\u001b[0;34m\u001b[0m\u001b[0m\n\u001b[0;32m--> 151\u001b[0;31m             \u001b[0mremote\u001b[0m \u001b[0;34m=\u001b[0m \u001b[0mtrial\u001b[0m\u001b[0;34m.\u001b[0m\u001b[0mrunner\u001b[0m\u001b[0;34m.\u001b[0m\u001b[0mtrain\u001b[0m\u001b[0;34m.\u001b[0m\u001b[0mremote\u001b[0m\u001b[0;34m(\u001b[0m\u001b[0;34m)\u001b[0m\u001b[0;34m\u001b[0m\u001b[0;34m\u001b[0m\u001b[0m\n\u001b[0m\u001b[1;32m    152\u001b[0m \u001b[0;34m\u001b[0m\u001b[0m\n\u001b[1;32m    153\u001b[0m         \u001b[0;31m# Local Mode\u001b[0m\u001b[0;34m\u001b[0m\u001b[0;34m\u001b[0m\u001b[0;34m\u001b[0m\u001b[0m\n",
      "\u001b[0;32m/usr/local/lib/python3.7/site-packages/ray/actor.py\u001b[0m in \u001b[0;36mremote\u001b[0;34m(self, *args, **kwargs)\u001b[0m\n\u001b[1;32m    102\u001b[0m \u001b[0;34m\u001b[0m\u001b[0m\n\u001b[1;32m    103\u001b[0m     \u001b[0;32mdef\u001b[0m \u001b[0mremote\u001b[0m\u001b[0;34m(\u001b[0m\u001b[0mself\u001b[0m\u001b[0;34m,\u001b[0m \u001b[0;34m*\u001b[0m\u001b[0margs\u001b[0m\u001b[0;34m,\u001b[0m \u001b[0;34m**\u001b[0m\u001b[0mkwargs\u001b[0m\u001b[0;34m)\u001b[0m\u001b[0;34m:\u001b[0m\u001b[0;34m\u001b[0m\u001b[0;34m\u001b[0m\u001b[0m\n\u001b[0;32m--> 104\u001b[0;31m         \u001b[0;32mreturn\u001b[0m \u001b[0mself\u001b[0m\u001b[0;34m.\u001b[0m\u001b[0m_remote\u001b[0m\u001b[0;34m(\u001b[0m\u001b[0margs\u001b[0m\u001b[0;34m,\u001b[0m \u001b[0mkwargs\u001b[0m\u001b[0;34m)\u001b[0m\u001b[0;34m\u001b[0m\u001b[0;34m\u001b[0m\u001b[0m\n\u001b[0m\u001b[1;32m    105\u001b[0m \u001b[0;34m\u001b[0m\u001b[0m\n\u001b[1;32m    106\u001b[0m     \u001b[0;32mdef\u001b[0m \u001b[0m_remote\u001b[0m\u001b[0;34m(\u001b[0m\u001b[0mself\u001b[0m\u001b[0;34m,\u001b[0m \u001b[0margs\u001b[0m\u001b[0;34m=\u001b[0m\u001b[0;32mNone\u001b[0m\u001b[0;34m,\u001b[0m \u001b[0mkwargs\u001b[0m\u001b[0;34m=\u001b[0m\u001b[0;32mNone\u001b[0m\u001b[0;34m,\u001b[0m \u001b[0mnum_return_vals\u001b[0m\u001b[0;34m=\u001b[0m\u001b[0;32mNone\u001b[0m\u001b[0;34m)\u001b[0m\u001b[0;34m:\u001b[0m\u001b[0;34m\u001b[0m\u001b[0;34m\u001b[0m\u001b[0m\n",
      "\u001b[0;32m/usr/local/lib/python3.7/site-packages/ray/actor.py\u001b[0m in \u001b[0;36m_remote\u001b[0;34m(self, args, kwargs, num_return_vals)\u001b[0m\n\u001b[1;32m    122\u001b[0m             \u001b[0minvocation\u001b[0m \u001b[0;34m=\u001b[0m \u001b[0mself\u001b[0m\u001b[0;34m.\u001b[0m\u001b[0m_decorator\u001b[0m\u001b[0;34m(\u001b[0m\u001b[0minvocation\u001b[0m\u001b[0;34m)\u001b[0m\u001b[0;34m\u001b[0m\u001b[0;34m\u001b[0m\u001b[0m\n\u001b[1;32m    123\u001b[0m \u001b[0;34m\u001b[0m\u001b[0m\n\u001b[0;32m--> 124\u001b[0;31m         \u001b[0;32mreturn\u001b[0m \u001b[0minvocation\u001b[0m\u001b[0;34m(\u001b[0m\u001b[0margs\u001b[0m\u001b[0;34m,\u001b[0m \u001b[0mkwargs\u001b[0m\u001b[0;34m)\u001b[0m\u001b[0;34m\u001b[0m\u001b[0;34m\u001b[0m\u001b[0m\n\u001b[0m\u001b[1;32m    125\u001b[0m \u001b[0;34m\u001b[0m\u001b[0m\n\u001b[1;32m    126\u001b[0m     \u001b[0;32mdef\u001b[0m \u001b[0m__getstate__\u001b[0m\u001b[0;34m(\u001b[0m\u001b[0mself\u001b[0m\u001b[0;34m)\u001b[0m\u001b[0;34m:\u001b[0m\u001b[0;34m\u001b[0m\u001b[0;34m\u001b[0m\u001b[0m\n",
      "\u001b[0;32m/usr/local/lib/python3.7/site-packages/ray/actor.py\u001b[0m in \u001b[0;36minvocation\u001b[0;34m(args, kwargs)\u001b[0m\n\u001b[1;32m    116\u001b[0m                 \u001b[0margs\u001b[0m\u001b[0;34m=\u001b[0m\u001b[0margs\u001b[0m\u001b[0;34m,\u001b[0m\u001b[0;34m\u001b[0m\u001b[0;34m\u001b[0m\u001b[0m\n\u001b[1;32m    117\u001b[0m                 \u001b[0mkwargs\u001b[0m\u001b[0;34m=\u001b[0m\u001b[0mkwargs\u001b[0m\u001b[0;34m,\u001b[0m\u001b[0;34m\u001b[0m\u001b[0;34m\u001b[0m\u001b[0m\n\u001b[0;32m--> 118\u001b[0;31m                 num_return_vals=num_return_vals)\n\u001b[0m\u001b[1;32m    119\u001b[0m \u001b[0;34m\u001b[0m\u001b[0m\n\u001b[1;32m    120\u001b[0m         \u001b[0;31m# Apply the decorator if there is one.\u001b[0m\u001b[0;34m\u001b[0m\u001b[0;34m\u001b[0m\u001b[0;34m\u001b[0m\u001b[0m\n",
      "\u001b[0;32m/usr/local/lib/python3.7/site-packages/ray/actor.py\u001b[0m in \u001b[0;36m_actor_method_call\u001b[0;34m(self, method_name, args, kwargs, num_return_vals)\u001b[0m\n\u001b[1;32m    709\u001b[0m             \u001b[0mfunction\u001b[0m \u001b[0;34m=\u001b[0m \u001b[0mgetattr\u001b[0m\u001b[0;34m(\u001b[0m\u001b[0mworker\u001b[0m\u001b[0;34m.\u001b[0m\u001b[0mactors\u001b[0m\u001b[0;34m[\u001b[0m\u001b[0mself\u001b[0m\u001b[0;34m.\u001b[0m\u001b[0m_actor_id\u001b[0m\u001b[0;34m]\u001b[0m\u001b[0;34m,\u001b[0m \u001b[0mmethod_name\u001b[0m\u001b[0;34m)\u001b[0m\u001b[0;34m\u001b[0m\u001b[0;34m\u001b[0m\u001b[0m\n\u001b[1;32m    710\u001b[0m             object_ids = worker.local_mode_manager.execute(\n\u001b[0;32m--> 711\u001b[0;31m                 function, method_name, args, kwargs, num_return_vals)\n\u001b[0m\u001b[1;32m    712\u001b[0m         \u001b[0;32melse\u001b[0m\u001b[0;34m:\u001b[0m\u001b[0;34m\u001b[0m\u001b[0;34m\u001b[0m\u001b[0m\n\u001b[1;32m    713\u001b[0m             object_ids = worker.core_worker.submit_actor_task(\n",
      "\u001b[0;32m/usr/local/lib/python3.7/site-packages/ray/local_mode_manager.py\u001b[0m in \u001b[0;36mexecute\u001b[0;34m(self, function, function_name, args, kwargs, num_return_vals)\u001b[0m\n\u001b[1;32m     76\u001b[0m \u001b[0;34m\u001b[0m\u001b[0m\n\u001b[1;32m     77\u001b[0m         \u001b[0;32mtry\u001b[0m\u001b[0;34m:\u001b[0m\u001b[0;34m\u001b[0m\u001b[0;34m\u001b[0m\u001b[0m\n\u001b[0;32m---> 78\u001b[0;31m             \u001b[0mresults\u001b[0m \u001b[0;34m=\u001b[0m \u001b[0mfunction\u001b[0m\u001b[0;34m(\u001b[0m\u001b[0;34m*\u001b[0m\u001b[0mnew_args\u001b[0m\u001b[0;34m,\u001b[0m \u001b[0;34m**\u001b[0m\u001b[0mnew_kwargs\u001b[0m\u001b[0;34m)\u001b[0m\u001b[0;34m\u001b[0m\u001b[0;34m\u001b[0m\u001b[0m\n\u001b[0m\u001b[1;32m     79\u001b[0m             \u001b[0;32mif\u001b[0m \u001b[0mnum_return_vals\u001b[0m \u001b[0;34m==\u001b[0m \u001b[0;36m1\u001b[0m\u001b[0;34m:\u001b[0m\u001b[0;34m\u001b[0m\u001b[0;34m\u001b[0m\u001b[0m\n\u001b[1;32m     80\u001b[0m                 \u001b[0mreturn_ids\u001b[0m\u001b[0;34m[\u001b[0m\u001b[0;36m0\u001b[0m\u001b[0;34m]\u001b[0m\u001b[0;34m.\u001b[0m\u001b[0mvalue\u001b[0m \u001b[0;34m=\u001b[0m \u001b[0mresults\u001b[0m\u001b[0;34m\u001b[0m\u001b[0;34m\u001b[0m\u001b[0m\n",
      "\u001b[0;32m/usr/local/lib/python3.7/site-packages/ray/tune/trainable.py\u001b[0m in \u001b[0;36mtrain\u001b[0;34m(self)\u001b[0m\n\u001b[1;32m    252\u001b[0m         \"\"\"\n\u001b[1;32m    253\u001b[0m         \u001b[0mstart\u001b[0m \u001b[0;34m=\u001b[0m \u001b[0mtime\u001b[0m\u001b[0;34m.\u001b[0m\u001b[0mtime\u001b[0m\u001b[0;34m(\u001b[0m\u001b[0;34m)\u001b[0m\u001b[0;34m\u001b[0m\u001b[0;34m\u001b[0m\u001b[0m\n\u001b[0;32m--> 254\u001b[0;31m         \u001b[0mresult\u001b[0m \u001b[0;34m=\u001b[0m \u001b[0mself\u001b[0m\u001b[0;34m.\u001b[0m\u001b[0m_train\u001b[0m\u001b[0;34m(\u001b[0m\u001b[0;34m)\u001b[0m\u001b[0;34m\u001b[0m\u001b[0;34m\u001b[0m\u001b[0m\n\u001b[0m\u001b[1;32m    255\u001b[0m         \u001b[0;32massert\u001b[0m \u001b[0misinstance\u001b[0m\u001b[0;34m(\u001b[0m\u001b[0mresult\u001b[0m\u001b[0;34m,\u001b[0m \u001b[0mdict\u001b[0m\u001b[0;34m)\u001b[0m\u001b[0;34m,\u001b[0m \u001b[0;34m\"_train() needs to return a dict.\"\u001b[0m\u001b[0;34m\u001b[0m\u001b[0;34m\u001b[0m\u001b[0m\n\u001b[1;32m    256\u001b[0m \u001b[0;34m\u001b[0m\u001b[0m\n",
      "\u001b[0;32m/usr/local/lib/python3.7/site-packages/ray/tune/function_runner.py\u001b[0m in \u001b[0;36m_train\u001b[0;34m(self)\u001b[0m\n\u001b[1;32m    176\u001b[0m             \u001b[0;32mtry\u001b[0m\u001b[0;34m:\u001b[0m\u001b[0;34m\u001b[0m\u001b[0;34m\u001b[0m\u001b[0m\n\u001b[1;32m    177\u001b[0m                 result = self._results_queue.get(\n\u001b[0;32m--> 178\u001b[0;31m                     block=True, timeout=RESULT_FETCH_TIMEOUT)\n\u001b[0m\u001b[1;32m    179\u001b[0m             \u001b[0;32mexcept\u001b[0m \u001b[0mqueue\u001b[0m\u001b[0;34m.\u001b[0m\u001b[0mEmpty\u001b[0m\u001b[0;34m:\u001b[0m\u001b[0;34m\u001b[0m\u001b[0;34m\u001b[0m\u001b[0m\n\u001b[1;32m    180\u001b[0m                 \u001b[0;32mpass\u001b[0m\u001b[0;34m\u001b[0m\u001b[0;34m\u001b[0m\u001b[0m\n",
      "\u001b[0;32m/usr/local/Cellar/python/3.7.6_1/Frameworks/Python.framework/Versions/3.7/lib/python3.7/queue.py\u001b[0m in \u001b[0;36mget\u001b[0;34m(self, block, timeout)\u001b[0m\n\u001b[1;32m    177\u001b[0m                     \u001b[0;32mif\u001b[0m \u001b[0mremaining\u001b[0m \u001b[0;34m<=\u001b[0m \u001b[0;36m0.0\u001b[0m\u001b[0;34m:\u001b[0m\u001b[0;34m\u001b[0m\u001b[0;34m\u001b[0m\u001b[0m\n\u001b[1;32m    178\u001b[0m                         \u001b[0;32mraise\u001b[0m \u001b[0mEmpty\u001b[0m\u001b[0;34m\u001b[0m\u001b[0;34m\u001b[0m\u001b[0m\n\u001b[0;32m--> 179\u001b[0;31m                     \u001b[0mself\u001b[0m\u001b[0;34m.\u001b[0m\u001b[0mnot_empty\u001b[0m\u001b[0;34m.\u001b[0m\u001b[0mwait\u001b[0m\u001b[0;34m(\u001b[0m\u001b[0mremaining\u001b[0m\u001b[0;34m)\u001b[0m\u001b[0;34m\u001b[0m\u001b[0;34m\u001b[0m\u001b[0m\n\u001b[0m\u001b[1;32m    180\u001b[0m             \u001b[0mitem\u001b[0m \u001b[0;34m=\u001b[0m \u001b[0mself\u001b[0m\u001b[0;34m.\u001b[0m\u001b[0m_get\u001b[0m\u001b[0;34m(\u001b[0m\u001b[0;34m)\u001b[0m\u001b[0;34m\u001b[0m\u001b[0;34m\u001b[0m\u001b[0m\n\u001b[1;32m    181\u001b[0m             \u001b[0mself\u001b[0m\u001b[0;34m.\u001b[0m\u001b[0mnot_full\u001b[0m\u001b[0;34m.\u001b[0m\u001b[0mnotify\u001b[0m\u001b[0;34m(\u001b[0m\u001b[0;34m)\u001b[0m\u001b[0;34m\u001b[0m\u001b[0;34m\u001b[0m\u001b[0m\n",
      "\u001b[0;32m/usr/local/Cellar/python/3.7.6_1/Frameworks/Python.framework/Versions/3.7/lib/python3.7/threading.py\u001b[0m in \u001b[0;36mwait\u001b[0;34m(self, timeout)\u001b[0m\n\u001b[1;32m    298\u001b[0m             \u001b[0;32melse\u001b[0m\u001b[0;34m:\u001b[0m\u001b[0;34m\u001b[0m\u001b[0;34m\u001b[0m\u001b[0m\n\u001b[1;32m    299\u001b[0m                 \u001b[0;32mif\u001b[0m \u001b[0mtimeout\u001b[0m \u001b[0;34m>\u001b[0m \u001b[0;36m0\u001b[0m\u001b[0;34m:\u001b[0m\u001b[0;34m\u001b[0m\u001b[0;34m\u001b[0m\u001b[0m\n\u001b[0;32m--> 300\u001b[0;31m                     \u001b[0mgotit\u001b[0m \u001b[0;34m=\u001b[0m \u001b[0mwaiter\u001b[0m\u001b[0;34m.\u001b[0m\u001b[0macquire\u001b[0m\u001b[0;34m(\u001b[0m\u001b[0;32mTrue\u001b[0m\u001b[0;34m,\u001b[0m \u001b[0mtimeout\u001b[0m\u001b[0;34m)\u001b[0m\u001b[0;34m\u001b[0m\u001b[0;34m\u001b[0m\u001b[0m\n\u001b[0m\u001b[1;32m    301\u001b[0m                 \u001b[0;32melse\u001b[0m\u001b[0;34m:\u001b[0m\u001b[0;34m\u001b[0m\u001b[0;34m\u001b[0m\u001b[0m\n\u001b[1;32m    302\u001b[0m                     \u001b[0mgotit\u001b[0m \u001b[0;34m=\u001b[0m \u001b[0mwaiter\u001b[0m\u001b[0;34m.\u001b[0m\u001b[0macquire\u001b[0m\u001b[0;34m(\u001b[0m\u001b[0;32mFalse\u001b[0m\u001b[0;34m)\u001b[0m\u001b[0;34m\u001b[0m\u001b[0;34m\u001b[0m\u001b[0m\n",
      "\u001b[0;31mKeyboardInterrupt\u001b[0m: "
     ]
    }
   ],
   "source": [
    "analysis = tune.run(\n",
    "    trainable.train_AE, \n",
    "    name=\"exp_1\",\n",
    "    config=config,\n",
    "    search_alg=algo,\n",
    "    verbose=2, \n",
    "    resources_per_trial={\n",
    "            \"cpu\": settings.num_cpus,\n",
    "            \"gpu\": 0\n",
    "    },\n",
    "    num_samples=10,  #BUMP UP TO 1000\n",
    "    scheduler=bohb,\n",
    "    local_dir=settings.SAVE_FP+\"TUNE_RESULT_DIR\",\n",
    "    stop=trainable.EarlyStopping(\"test_f1\") # if search results aren't improving anymore\n",
    "    )\n",
    "\n",
    "#print(\"Best config is:\", analysis.get_best_config(metric=\"test_f1\"))"
   ]
  },
  {
   "cell_type": "code",
   "execution_count": null,
   "metadata": {},
   "outputs": [],
   "source": [
    "print(\"Best config is:\", analysis.get_best_config(metric=\"test_f1\"))"
   ]
  },
  {
   "cell_type": "code",
   "execution_count": null,
   "metadata": {
    "scrolled": true
   },
   "outputs": [],
   "source": [
    "# for i in train_vars:\n",
    "#     if isinstance(train_vars[i], dict):\n",
    "#         print(\"Best \"+i+\":\", analysis.get_best_config(metric=\"test_f1\")[i])\n",
    "for i in config_space:\n",
    "    print(\"Best \"+i+\":\", analysis.get_best_config(metric=\"test_f1\")[i])"
   ]
  },
  {
   "cell_type": "code",
   "execution_count": null,
   "metadata": {},
   "outputs": [],
   "source": [
    "# analysis = tune.run(\n",
    "#     trainable.train_AE, \n",
    "#     name=\"exp_1\",\n",
    "#     config=train_vars, \n",
    "#     verbose=2, \n",
    "#     resources_per_trial={\n",
    "#             \"cpu\": 2,\n",
    "#             \"gpu\": 0\n",
    "#     },\n",
    "#     num_samples=2,\n",
    "#     scheduler=ASHAScheduler(metric=\"test_f1\", mode=\"max\", grace_period=1, time_attr=\"n_batch\"),\n",
    "#     local_dir=settings.SAVE_FP+\"TUNE_RESULT_DIR\"\n",
    "#     )\n",
    "\n",
    "# print(\"Best config is:\", analysis.get_best_config(metric=\"test_f1\"))"
   ]
  },
  {
   "cell_type": "code",
   "execution_count": null,
   "metadata": {},
   "outputs": [],
   "source": [
    "# analysis.dataframe()[\"logdir\"][0]"
   ]
  },
  {
   "cell_type": "code",
   "execution_count": null,
   "metadata": {},
   "outputs": [],
   "source": [
    "# train the model\n",
    "# train_losses, test_losses, train_f1_scores, test_f1_scores = train_test.train_model(loaders, \n",
    "#         model, settings.num_epochs, flags.print_every,\n",
    "#         settings.SAVE_FP, flags.replacement_threshold, cluster_names, flags.cirriculum, train_data[:,:len(cluster_names)],\n",
    "#         search_space)\n",
    "#train_losses, test_losses, train_f1_scores, test_f1_scores = train_test.train_model(train_vars, hyperparams)"
   ]
  },
  {
   "cell_type": "markdown",
   "metadata": {},
   "source": [
    "### Evaluate model performance"
   ]
  },
  {
   "cell_type": "code",
   "execution_count": null,
   "metadata": {},
   "outputs": [],
   "source": [
    "# # evaluate model performance\n",
    "# perf_lc = data_viz.learning_curve(train_f1_scores, test_f1_scores, \"performance\", flags.cirriculum)"
   ]
  },
  {
   "cell_type": "code",
   "execution_count": null,
   "metadata": {},
   "outputs": [],
   "source": [
    "# # evaluate model performance\n",
    "# optim_lc = data_viz.learning_curve(train_losses, test_losses, \"optimization\", flags.cirriculum)"
   ]
  },
  {
   "cell_type": "code",
   "execution_count": null,
   "metadata": {},
   "outputs": [],
   "source": [
    "# # first convert test_data from subset -> tensor, split corrupt vs target sets\n",
    "# tensor_test_data = torch.tensor([i.numpy() for i in test_data]).float()\n",
    "# corrupt_test_data = tensor_test_data[:,:num_features]\n",
    "# target = tensor_test_data[:,num_features:].detach().numpy()"
   ]
  },
  {
   "cell_type": "code",
   "execution_count": null,
   "metadata": {},
   "outputs": [],
   "source": [
    "# # Generate probabilities for ROC curve\n",
    "# model.eval()\n",
    "# with torch.no_grad():\n",
    "#     y_probas = model(corrupt_test_data) # predicted probabilities generated by model"
   ]
  },
  {
   "cell_type": "code",
   "execution_count": null,
   "metadata": {},
   "outputs": [],
   "source": [
    "# roc = data_viz.my_roc_curve(target, y_probas.numpy())"
   ]
  },
  {
   "cell_type": "code",
   "execution_count": null,
   "metadata": {},
   "outputs": [],
   "source": [
    "# util.log_results(roc, optim_lc, perf_lc, flags, model)"
   ]
  },
  {
   "cell_type": "code",
   "execution_count": null,
   "metadata": {},
   "outputs": [],
   "source": []
  },
  {
   "cell_type": "code",
   "execution_count": null,
   "metadata": {},
   "outputs": [],
   "source": []
  },
  {
   "cell_type": "code",
   "execution_count": null,
   "metadata": {},
   "outputs": [],
   "source": [
    "# # create embeddings for test set\n",
    "# #uncorrupt_test_data = tensor_test_data[:,len(cluster_names):]\n",
    "# #tensor_test_data = torch.tensor([i.numpy() for i in test_data]).float()\n",
    "# embeddings = train_test.generate_embeddings(model, corrupt_test_data)"
   ]
  },
  {
   "cell_type": "code",
   "execution_count": null,
   "metadata": {},
   "outputs": [],
   "source": [
    "#data_viz.plot_tSNE(embeddings, test_data, num_to_genome, genome_to_tax, test_tax_dict)"
   ]
  },
  {
   "cell_type": "code",
   "execution_count": null,
   "metadata": {},
   "outputs": [],
   "source": [
    "# # tSNE for corrupted genomes passed through untrained model\n",
    "# untrained_model = models.AutoEncoder(len(cluster_names))\n",
    "# untr_embeddings = train_test.generate_embeddings(untrained_model, corrupt_test_data)"
   ]
  },
  {
   "cell_type": "code",
   "execution_count": null,
   "metadata": {},
   "outputs": [],
   "source": [
    "#data_viz.plot_tSNE(untr_embeddings, test_data, num_to_genome, genome_to_tax, test_tax_dict)\n",
    "# data_viz.plot_tSNE(untr_embeddings, test_data, num_to_genome, genome_to_tax, genome_idx_test)"
   ]
  },
  {
   "cell_type": "code",
   "execution_count": null,
   "metadata": {},
   "outputs": [],
   "source": [
    "# # Evaluate model and compare against baselines\n",
    "# # Get corrupted input set, target set, and predictions set (binarized to 1's and 0's)\n",
    "# #corrupt_test_data = tensor_test_data[:,:len(cluster_names)]\n",
    "\n",
    "# model.eval()\n",
    "# with torch.no_grad():\n",
    "#     pred = model.forward(corrupt_test_data).detach().numpy()\n",
    "# b_pred = train_test.binarize(pred, flags.replacement_threshold)"
   ]
  },
  {
   "cell_type": "code",
   "execution_count": null,
   "metadata": {},
   "outputs": [],
   "source": [
    "# # Generate confusion matrix\n",
    "# cm = evaluate.dom_confusion_matrix(b_pred, target, num_to_genome, genome_to_tax, test_tax_dict, genome_idx_test)"
   ]
  },
  {
   "cell_type": "code",
   "execution_count": null,
   "metadata": {},
   "outputs": [],
   "source": [
    "# util.log_results(roc, optim_lc, perf_lc, flags, model, cm)"
   ]
  },
  {
   "cell_type": "code",
   "execution_count": null,
   "metadata": {},
   "outputs": [],
   "source": [
    "# # Baseline 1: untrained DAE\n",
    "# # Generate predictions using an untrained DAE model\n",
    "# model.eval()\n",
    "# with torch.no_grad():\n",
    "#     untr_pred = untrained_model.forward(corrupt_test_data).detach().numpy()\n",
    "# untr_b_preds = train_test.binarize(untr_pred, flags.replacement_threshold)"
   ]
  },
  {
   "cell_type": "code",
   "execution_count": null,
   "metadata": {},
   "outputs": [],
   "source": [
    "# # if os.path.isfile(settings.DATA_FP+\"rand_b_pred.pt\"):\n",
    "# #     print(\"Loading random predictions from file\")\n",
    "# #     rand_b_pred = torch.load(settings.DATA_FP+\"rand_b_pred.pt\")\n",
    "# # else: \n",
    "# #     # This is slow\n",
    "# #     print(\"Generating random predictions, this will take a while (~30 min)\")\n",
    "# #     rand_b_pred = evaluate.generate_baseline(num_features, train_data, \n",
    "# #                                              corrupt_test_data, \"base_random\", cluster_names)\n",
    "# #     torch.save(rand_b_pred, settings.DATA_FP+\"rand_b_pred.pt\")\n",
    "\n",
    "# rand_b_pred = evaluate.generate_baseline(num_features, train_data, \n",
    "#                                          corrupt_test_data, \"base_random\", cluster_names)"
   ]
  },
  {
   "cell_type": "code",
   "execution_count": null,
   "metadata": {},
   "outputs": [],
   "source": [
    "# torch.save(rand_b_pred, settings.DATA_FP+\"rand_b_pred.pt\")"
   ]
  },
  {
   "cell_type": "code",
   "execution_count": null,
   "metadata": {},
   "outputs": [],
   "source": [
    "# # if os.path.isfile(settings.DATA_FP+\"smart_b_pred.pt\"):\n",
    "# #     print(\"Loading smart random predictions from file\")\n",
    "# #     smart_b_pred = torch.load(settings.DATA_FP+\"smart_b_pred.pt\")\n",
    "# # else:\n",
    "# #     print(\"Generating smart random predictions, this will take a while (~30 min)\")\n",
    "# #     smart_b_pred = evaluate.generate_baseline(num_features, train_data, \n",
    "# #                                           corrupt_test_data, \"smart_random\", cluster_names)\n",
    "# #     torch.save(smart_b_pred, settings.DATA_FP+\"smart_b_pred.pt\")\n",
    "\n",
    "# smart_b_pred = evaluate.generate_baseline(num_features, train_data, \n",
    "#                                       corrupt_test_data, \"smart_random\", cluster_names)"
   ]
  },
  {
   "cell_type": "code",
   "execution_count": null,
   "metadata": {},
   "outputs": [],
   "source": [
    "# torch.save(smart_b_pred, settings.DATA_FP+\"smart_b_pred.pt\")"
   ]
  },
  {
   "cell_type": "code",
   "execution_count": null,
   "metadata": {},
   "outputs": [],
   "source": [
    "# import numpy as np\n",
    "# np.sum(smart_b_pred == rand_b_pred), np.sum(smart_b_pred != rand_b_pred)"
   ]
  },
  {
   "cell_type": "code",
   "execution_count": null,
   "metadata": {},
   "outputs": [],
   "source": [
    "# import pandas as pd\n",
    "# hs = evaluate.hamming(target, b_pred)\n",
    "# hs_stats = [round(sum(hs)/len(hs),2), round(min(hs),2), round(max(hs),2)]\n",
    "\n",
    "# untr_hs = evaluate.hamming(target, untr_b_preds)\n",
    "# untr_hs_stats = [round(sum(untr_hs)/len(untr_hs),2), round(min(untr_hs),2), round(max(untr_hs),2)]\n",
    "\n",
    "# rand_hs = evaluate.hamming(target, rand_b_pred)\n",
    "# rand_hs_stats = [round(sum(rand_hs)/len(rand_hs),2), round(min(rand_hs),2), round(max(rand_hs),2)]\n",
    "\n",
    "# smart_hs = evaluate.hamming(target, smart_b_pred)\n",
    "# smart_hs_stats = [round(sum(smart_hs)/len(smart_hs),2), round(min(smart_hs),2), round(max(smart_hs),2)]\n",
    "\n",
    "\n",
    "# hamming_df = pd.DataFrame([hs_stats, untr_hs_stats, rand_hs_stats, smart_hs_stats], columns=['mean', 'min', 'max'], \n",
    "#                             index=[\"DAE trained\", \"DAE untrained\", \"Random chance\", \"Smart random chance\"])\n",
    "# hamming_df"
   ]
  },
  {
   "cell_type": "code",
   "execution_count": null,
   "metadata": {},
   "outputs": [],
   "source": [
    "sys.stdout.flush()\n",
    "sys.stderr.flush()"
   ]
  }
 ],
 "metadata": {
  "kernelspec": {
   "display_name": "Python 3",
   "language": "python",
   "name": "python3"
  },
  "language_info": {
   "codemirror_mode": {
    "name": "ipython",
    "version": 3
   },
   "file_extension": ".py",
   "mimetype": "text/x-python",
   "name": "python",
   "nbconvert_exporter": "python",
   "pygments_lexer": "ipython3",
   "version": "3.7.6"
  }
 },
 "nbformat": 4,
 "nbformat_minor": 4
}
