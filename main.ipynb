{
 "cells": [
  {
   "cell_type": "code",
   "execution_count": 1,
   "metadata": {},
   "outputs": [],
   "source": [
    "# automatically upload modules\n",
    "%load_ext autoreload\n",
    "%autoreload 2"
   ]
  },
  {
   "cell_type": "code",
   "execution_count": 2,
   "metadata": {},
   "outputs": [],
   "source": [
    "from argparse import Namespace\n",
    "import os\n",
    "import pandas as pd\n",
    "import pickle\n",
    "from ray import tune\n",
    "#from ray.tune.schedulers import ASHAScheduler\n",
    "import torch\n",
    "import pickle\n",
    "\n",
    "from genome_embeddings import data_viz\n",
    "from genome_embeddings import evaluate\n",
    "from genome_embeddings import models\n",
    "from genome_embeddings import train_test\n",
    "from genome_embeddings import util\n",
    "from genome_embeddings import trainable # import before ray (?)\n",
    "import ray"
   ]
  },
  {
   "cell_type": "code",
   "execution_count": 3,
   "metadata": {},
   "outputs": [],
   "source": [
    "flags = Namespace(\n",
    "    DATA_FP = '/Users/natasha/Desktop/mcgill_postdoc/ncbi_genomes/genome_embeddings/data/', \n",
    "    SAVE_FP = '/Users/natasha/Desktop/mcgill_postdoc/ncbi_genomes/genome_embeddings/',\n",
    "    KEGG_FP = '/Users/natasha/Desktop/mcgill_postdoc/ncbi_genomes/kegg_dataset/',\n",
    "    data_source = 'kegg', #['get_homologues' | 'kegg']\n",
    "    n_test = 0.1, # train-test split, n * 100 = % of data that goes into test set (e.g.: 0.1 -> 10%)\n",
    "    num_epochs = 1, # IF CIRRICULUM, DO NOT SET < 3\n",
    "    batch_size = 128,\n",
    "    lr = 1e-3,\n",
    "    kfolds = 10, # number of folds for cross-validation\n",
    "    print_every = 50, # print loss every n batches during training (5)\n",
    "    replacement_threshold = 0.5, # probability over which binarizer converts to a 1\n",
    "    num_corruptions = 100, # number of corrupted versions of a genome to produce\n",
    "    corruption_fraction = 0.5, # fraction of genes to retain during corruption process\n",
    "    phy_mode = \"bacteria_only\", # training with only bacteria vs also euk/arch\n",
    "    cirriculum = False, # implement cirriculum learning based on gene count\n",
    "    rare_threshold = 10, # drop features that occur fewer than this times in training ds \n",
    "    weight_decay=0.1 # L2 regularization\n",
    "    )"
   ]
  },
  {
   "cell_type": "markdown",
   "metadata": {},
   "source": [
    "### Data exploration + preprocessing "
   ]
  },
  {
   "cell_type": "code",
   "execution_count": 4,
   "metadata": {
    "scrolled": true
   },
   "outputs": [
    {
     "name": "stdout",
     "output_type": "stream",
     "text": [
      "Genome representations already exist\n"
     ]
    }
   ],
   "source": [
    "# First create genome representations (very slow)\n",
    "# Each genome is a list of KO's and/or KEGG modules\n",
    "if os.path.isfile(flags.DATA_FP+'genome_to_mod.csv'):\n",
    "    print(\"Genome representations already exist\")\n",
    "else:\n",
    "    genome_rep.genome_kos(flags.KEGG_FP)\n",
    "    print(\"Must generate genome representations from scratch. This will take several hours.\")"
   ]
  },
  {
   "cell_type": "code",
   "execution_count": 5,
   "metadata": {},
   "outputs": [],
   "source": [
    "df, cluster_names = util.load_data(flags.DATA_FP, flags.data_source)\n",
    "genome_to_tax = util.genome_to_tax(df)\n",
    "with open('cluster_names.txt', 'wb') as filehandle:\n",
    "    pickle.dump(cluster_names, filehandle)\n"
   ]
  },
  {
   "cell_type": "code",
   "execution_count": null,
   "metadata": {},
   "outputs": [],
   "source": [
    "#data_viz.tax_distrib(df, genome_to_tax)"
   ]
  },
  {
   "cell_type": "code",
   "execution_count": null,
   "metadata": {},
   "outputs": [],
   "source": [
    "#data_viz.module_stats(df)"
   ]
  },
  {
   "cell_type": "code",
   "execution_count": null,
   "metadata": {},
   "outputs": [],
   "source": [
    "#data_viz.genes_per_genome(df)"
   ]
  },
  {
   "cell_type": "code",
   "execution_count": 6,
   "metadata": {},
   "outputs": [
    {
     "name": "stdout",
     "output_type": "stream",
     "text": [
      "Train-test split already exists, loading from file\n"
     ]
    }
   ],
   "source": [
    "# Split train-test sets in a phylogenetically balanced manner \n",
    "if os.path.isfile(flags.DATA_FP+'uncorrupted_train_balanced.csv'):\n",
    "    print(\"Train-test split already exists, loading from file\")\n",
    "    train_orig = pd.read_csv(flags.DATA_FP+\"uncorrupted_train_balanced.csv\", index_col=0)    \n",
    "    test_orig = pd.read_csv(flags.DATA_FP+\"uncorrupted_test_balanced.csv\", index_col=0)    \n",
    "\n",
    "else:\n",
    "    # Create dict mapping each genome to a unique numerical ID\n",
    "    genome_to_num ={}\n",
    "    for i,genome in enumerate(df.index):\n",
    "        genome_to_num[genome] = i\n",
    "\n",
    "    num_to_genome = {v: k for k, v in genome_to_num.items()}\n",
    "        \n",
    "    print(\"Generating train-test split\")\n",
    "    train_orig, test_orig = util.balanced_split(df, flags.n_test, genome_to_tax, \n",
    "                                                num_to_genome, flags.DATA_FP)    \n",
    "    train_orig.to_csv(flags.DATA_FP+'uncorrupted_train_balanced.csv')\n",
    "    test_orig.to_csv(flags.DATA_FP+'uncorrupted_test_balanced.csv')"
   ]
  },
  {
   "cell_type": "code",
   "execution_count": null,
   "metadata": {},
   "outputs": [],
   "source": [
    "#data_viz.hist_prob_ko(train_orig)"
   ]
  },
  {
   "cell_type": "code",
   "execution_count": 7,
   "metadata": {},
   "outputs": [],
   "source": [
    "if flags.phy_mode == \"bacteria_only\":\n",
    "    train_genomes = train_orig.index.to_list()\n",
    "    test_genomes = test_orig.index.to_list()\n",
    "    \n",
    "    unf_train_data, train_tax_dict = util.bacteria_only(train_orig, train_genomes, genome_to_tax)\n",
    "    unf_test_data, test_tax_dict = util.bacteria_only(test_orig, test_genomes, genome_to_tax)"
   ]
  },
  {
   "cell_type": "code",
   "execution_count": 8,
   "metadata": {},
   "outputs": [],
   "source": [
    "# Remove rare features from train + test datasets\n",
    "# Rare = fewer than n occurences in training dataset\n",
    "# Last argument specifies n, set to correspond to 1% of genomes (3432 genomes -> n = 34)\n",
    "train_data, test_data, cluster_names = util.remove_rare(unf_train_data, unf_test_data, \n",
    "                                                        cluster_names, unf_train_data.shape[0]*0.01)"
   ]
  },
  {
   "cell_type": "code",
   "execution_count": 9,
   "metadata": {},
   "outputs": [
    {
     "data": {
      "text/plain": [
       "(2395, 7065)"
      ]
     },
     "execution_count": 9,
     "metadata": {},
     "output_type": "execute_result"
    }
   ],
   "source": [
    "train_data.shape"
   ]
  },
  {
   "cell_type": "code",
   "execution_count": 10,
   "metadata": {},
   "outputs": [
    {
     "name": "stdout",
     "output_type": "stream",
     "text": [
      "Corrupted genomes already exist\n"
     ]
    }
   ],
   "source": [
    "# Produce corrupted genomes\n",
    "# Could eventually do re-sampling / extra-corrupting to have more examples of \"rare\" genome types\n",
    "#    e.g.: those from underrepresented groups M00003   \n",
    "\n",
    "if os.path.isfile(flags.DATA_FP+'corrupted_train_0607.pt'):\n",
    "    print(\"Corrupted genomes already exist\")\n",
    "    train_data = torch.load(flags.DATA_FP+\"corrupted_train_0607.pt\")\n",
    "    test_data = torch.load(flags.DATA_FP+\"corrupted_test_0607.pt\")\n",
    "    genome_idx_train = torch.load(flags.DATA_FP+\"genome_idx_train_0607.pt\")\n",
    "    genome_idx_test = torch.load(flags.DATA_FP+\"genome_idx_test_0607.pt\")\n",
    "else:\n",
    "    print(\"Generating corrupted dataset from scratch with\",flags.num_corruptions,\"corrupted versions of each genome\")\n",
    "    train_data, genome_idx_train = util.corrupt(train_data, flags.num_corruptions, flags.corruption_fraction, \n",
    "                                                cluster_names, \"train\", flags.DATA_FP)\n",
    "\n",
    "    test_data, genome_idx_test = util.corrupt(test_data, flags.num_corruptions, flags.corruption_fraction, \n",
    "                                              cluster_names, \"test\", flags.DATA_FP)"
   ]
  },
  {
   "cell_type": "code",
   "execution_count": null,
   "metadata": {},
   "outputs": [],
   "source": []
  },
  {
   "cell_type": "code",
   "execution_count": null,
   "metadata": {},
   "outputs": [],
   "source": [
    "# print((\"There are %s genomes and %s features in the training dataset\") % \n",
    "#       (train_data.shape[0],int(train_data.shape[1]/2)))\n",
    "\n",
    "# print((\"There are %s genomes and %s features in the test dataset\") % \n",
    "#       (test_data.shape[0],int(test_data.shape[1]/2)))"
   ]
  },
  {
   "cell_type": "code",
   "execution_count": null,
   "metadata": {},
   "outputs": [],
   "source": [
    "# if flags.cirriculum:\n",
    "#     loaders = util.cirriculum_load(train_data, test_data, flags.batch_size, \n",
    "#                            flags.batch_size, cluster_names)\n",
    "# else:\n",
    "#     loaders = util.dataloaders(train_data, test_data, flags.batch_size, \n",
    "#                                flags.batch_size, cluster_names)"
   ]
  },
  {
   "cell_type": "code",
   "execution_count": null,
   "metadata": {},
   "outputs": [],
   "source": [
    "# from skorch.dataset import CVSplit\n",
    "# from torch.utils.data import DataLoader, TensorDataset"
   ]
  },
  {
   "cell_type": "code",
   "execution_count": null,
   "metadata": {},
   "outputs": [],
   "source": [
    "# num_features = int(train_data.shape[1]/2)\n",
    "# X = train_data[:,:num_features] # corrupted genomes in first half of matrix columns\n",
    "# y = train_data[:,num_features:] # uncorrupted in second half of matrix columns"
   ]
  },
  {
   "cell_type": "code",
   "execution_count": null,
   "metadata": {},
   "outputs": [],
   "source": [
    "# # Create dataloader with folds \n",
    "# train_ds = TensorDataset(X, y)\n",
    "# splitter = CVSplit(cv=3)\n",
    "# train_dl = splitter(train_ds)"
   ]
  },
  {
   "cell_type": "code",
   "execution_count": null,
   "metadata": {},
   "outputs": [],
   "source": [
    "# type(train_dl), type(train_dl[0])"
   ]
  },
  {
   "cell_type": "code",
   "execution_count": null,
   "metadata": {},
   "outputs": [],
   "source": [
    "# import numpy as np\n",
    "# k = 3\n",
    "# idx_genomes = [i for i in range(len(X))]\n",
    "# num_test = int(len(idx_genomes) / k )\n",
    "# num_train = len(idx_genomes) - num_test"
   ]
  },
  {
   "cell_type": "code",
   "execution_count": null,
   "metadata": {},
   "outputs": [],
   "source": [
    "# test_idx = np.random.choice(idx_genomes, num_test, replace=False)\n",
    "# train_idx = list(set(idx_genomes) - set(test_idx))"
   ]
  },
  {
   "cell_type": "code",
   "execution_count": null,
   "metadata": {},
   "outputs": [],
   "source": [
    "# a = X[train_idx]"
   ]
  },
  {
   "cell_type": "code",
   "execution_count": null,
   "metadata": {},
   "outputs": [],
   "source": [
    "# a.shape"
   ]
  },
  {
   "cell_type": "code",
   "execution_count": null,
   "metadata": {},
   "outputs": [],
   "source": [
    "# train_set = train_dl[0]\n",
    "# cv_set = train_dl[1]"
   ]
  },
  {
   "cell_type": "code",
   "execution_count": null,
   "metadata": {},
   "outputs": [],
   "source": []
  },
  {
   "cell_type": "markdown",
   "metadata": {},
   "source": [
    "### Define and train network"
   ]
  },
  {
   "cell_type": "code",
   "execution_count": 11,
   "metadata": {},
   "outputs": [
    {
     "data": {
      "text/plain": [
       "14130"
      ]
     },
     "execution_count": 11,
     "metadata": {},
     "output_type": "execute_result"
    }
   ],
   "source": [
    "train_data.shape[1]"
   ]
  },
  {
   "cell_type": "code",
   "execution_count": 12,
   "metadata": {},
   "outputs": [],
   "source": [
    "num_features = int(train_data.shape[1]/2) # Number of features in the entire dataset (train + test)"
   ]
  },
  {
   "cell_type": "code",
   "execution_count": 13,
   "metadata": {},
   "outputs": [
    {
     "name": "stdout",
     "output_type": "stream",
     "text": [
      "AutoEncoder(\n",
      "  (layers): ModuleList(\n",
      "    (0): Linear(in_features=7065, out_features=3532, bias=True)\n",
      "    (1): Linear(in_features=3532, out_features=1766, bias=True)\n",
      "    (2): Linear(in_features=1766, out_features=1177, bias=True)\n",
      "    (3): Linear(in_features=1177, out_features=883, bias=True)\n",
      "    (4): Linear(in_features=883, out_features=706, bias=True)\n",
      "    (5): Linear(in_features=706, out_features=588, bias=True)\n",
      "    (6): Linear(in_features=588, out_features=706, bias=True)\n",
      "    (7): Linear(in_features=706, out_features=883, bias=True)\n",
      "    (8): Linear(in_features=883, out_features=1177, bias=True)\n",
      "    (9): Linear(in_features=1177, out_features=1766, bias=True)\n",
      "    (10): Linear(in_features=1766, out_features=3532, bias=True)\n",
      "    (11): Linear(in_features=3532, out_features=7065, bias=True)\n",
      "  )\n",
      ")\n"
     ]
    }
   ],
   "source": [
    "# define the network\n",
    "model = models.AutoEncoder(num_features, 12)\n",
    "print(model)"
   ]
  },
  {
   "cell_type": "code",
   "execution_count": 14,
   "metadata": {},
   "outputs": [],
   "source": [
    "train_vars = {\"batch_size\": tune.grid_search([32, 64]), # [32, 64, 128, 256]\n",
    "              \"num_epochs\": flags.num_epochs,\n",
    "              \"replacement_threshold\": flags.replacement_threshold,\n",
    "              \"kfolds\": flags.kfolds,\n",
    "              \"lr\": tune.grid_search([0.1, 0.0001]),\n",
    "              \"weight_decay\": tune.grid_search([0.01, 0.00001]),\n",
    "              \"nn_layers\": tune.grid_search([6,8])\n",
    "}"
   ]
  },
  {
   "cell_type": "code",
   "execution_count": 15,
   "metadata": {},
   "outputs": [
    {
     "name": "stderr",
     "output_type": "stream",
     "text": [
      "2020-07-08 13:19:24,014\tINFO resource_spec.py:212 -- Starting Ray with 9.28 GiB memory available for workers and up to 4.66 GiB for objects. You can adjust these settings with ray.init(memory=<bytes>, object_store_memory=<bytes>).\n",
      "2020-07-08 13:19:24,381\tINFO services.py:1170 -- View the Ray dashboard at \u001b[1m\u001b[32mlocalhost:8265\u001b[39m\u001b[22m\n"
     ]
    },
    {
     "data": {
      "text/plain": [
       "{'node_ip_address': '192.168.2.23',\n",
       " 'raylet_ip_address': '192.168.2.23',\n",
       " 'redis_address': '192.168.2.23:40565',\n",
       " 'object_store_address': '/tmp/ray/session_2020-07-08_13-19-23_927650_53595/sockets/plasma_store',\n",
       " 'raylet_socket_name': '/tmp/ray/session_2020-07-08_13-19-23_927650_53595/sockets/raylet',\n",
       " 'webui_url': 'localhost:8265',\n",
       " 'session_dir': '/tmp/ray/session_2020-07-08_13-19-23_927650_53595'}"
      ]
     },
     "execution_count": 15,
     "metadata": {},
     "output_type": "execute_result"
    }
   ],
   "source": [
    "ray.shutdown()\n",
    "ray.init(local_mode=True)"
   ]
  },
  {
   "cell_type": "code",
   "execution_count": null,
   "metadata": {},
   "outputs": [
    {
     "name": "stderr",
     "output_type": "stream",
     "text": [
      "2020-07-08 13:19:25,219\tINFO trainable.py:217 -- Getting current IP.\n"
     ]
    },
    {
     "name": "stdout",
     "output_type": "stream",
     "text": [
      "batch_size 32\n",
      "done training\n"
     ]
    },
    {
     "name": "stderr",
     "output_type": "stream",
     "text": [
      "2020-07-08 13:19:40,622\tWARNING util.py:137 -- The `start_trial` operation took 15.552344799041748 seconds to complete, which may be a performance bottleneck.\n"
     ]
    },
    {
     "name": "stdout",
     "output_type": "stream",
     "text": [
      "f1 0.5968246253996473\n"
     ]
    },
    {
     "data": {
      "text/html": [
       "== Status ==<br>Memory usage on this node: 18.7/32.0 GiB<br>Using FIFO scheduling algorithm.<br>Resources requested: 2/12 CPUs, 0/0 GPUs, 0.0/9.28 GiB heap, 0.0/3.17 GiB objects<br>Result logdir: /Users/natasha/ray_results/exp_1<br>Number of trials: 16 (15 PENDING, 1 RUNNING)<br><table>\n",
       "<thead>\n",
       "<tr><th>Trial name    </th><th>status  </th><th>loc  </th><th style=\"text-align: right;\">  batch_size</th><th style=\"text-align: right;\">    lr</th><th style=\"text-align: right;\">  nn_layers</th><th style=\"text-align: right;\">  weight_decay</th></tr>\n",
       "</thead>\n",
       "<tbody>\n",
       "<tr><td>train_AE_00000</td><td>RUNNING </td><td>     </td><td style=\"text-align: right;\">          32</td><td style=\"text-align: right;\">0.1   </td><td style=\"text-align: right;\">          6</td><td style=\"text-align: right;\">         0.01 </td></tr>\n",
       "<tr><td>train_AE_00001</td><td>PENDING </td><td>     </td><td style=\"text-align: right;\">          64</td><td style=\"text-align: right;\">0.1   </td><td style=\"text-align: right;\">          6</td><td style=\"text-align: right;\">         0.01 </td></tr>\n",
       "<tr><td>train_AE_00002</td><td>PENDING </td><td>     </td><td style=\"text-align: right;\">          32</td><td style=\"text-align: right;\">0.0001</td><td style=\"text-align: right;\">          6</td><td style=\"text-align: right;\">         0.01 </td></tr>\n",
       "<tr><td>train_AE_00003</td><td>PENDING </td><td>     </td><td style=\"text-align: right;\">          64</td><td style=\"text-align: right;\">0.0001</td><td style=\"text-align: right;\">          6</td><td style=\"text-align: right;\">         0.01 </td></tr>\n",
       "<tr><td>train_AE_00004</td><td>PENDING </td><td>     </td><td style=\"text-align: right;\">          32</td><td style=\"text-align: right;\">0.1   </td><td style=\"text-align: right;\">          8</td><td style=\"text-align: right;\">         0.01 </td></tr>\n",
       "<tr><td>train_AE_00005</td><td>PENDING </td><td>     </td><td style=\"text-align: right;\">          64</td><td style=\"text-align: right;\">0.1   </td><td style=\"text-align: right;\">          8</td><td style=\"text-align: right;\">         0.01 </td></tr>\n",
       "<tr><td>train_AE_00006</td><td>PENDING </td><td>     </td><td style=\"text-align: right;\">          32</td><td style=\"text-align: right;\">0.0001</td><td style=\"text-align: right;\">          8</td><td style=\"text-align: right;\">         0.01 </td></tr>\n",
       "<tr><td>train_AE_00007</td><td>PENDING </td><td>     </td><td style=\"text-align: right;\">          64</td><td style=\"text-align: right;\">0.0001</td><td style=\"text-align: right;\">          8</td><td style=\"text-align: right;\">         0.01 </td></tr>\n",
       "<tr><td>train_AE_00008</td><td>PENDING </td><td>     </td><td style=\"text-align: right;\">          32</td><td style=\"text-align: right;\">0.1   </td><td style=\"text-align: right;\">          6</td><td style=\"text-align: right;\">         1e-05</td></tr>\n",
       "<tr><td>train_AE_00009</td><td>PENDING </td><td>     </td><td style=\"text-align: right;\">          64</td><td style=\"text-align: right;\">0.1   </td><td style=\"text-align: right;\">          6</td><td style=\"text-align: right;\">         1e-05</td></tr>\n",
       "<tr><td>train_AE_00010</td><td>PENDING </td><td>     </td><td style=\"text-align: right;\">          32</td><td style=\"text-align: right;\">0.0001</td><td style=\"text-align: right;\">          6</td><td style=\"text-align: right;\">         1e-05</td></tr>\n",
       "<tr><td>train_AE_00011</td><td>PENDING </td><td>     </td><td style=\"text-align: right;\">          64</td><td style=\"text-align: right;\">0.0001</td><td style=\"text-align: right;\">          6</td><td style=\"text-align: right;\">         1e-05</td></tr>\n",
       "<tr><td>train_AE_00012</td><td>PENDING </td><td>     </td><td style=\"text-align: right;\">          32</td><td style=\"text-align: right;\">0.1   </td><td style=\"text-align: right;\">          8</td><td style=\"text-align: right;\">         1e-05</td></tr>\n",
       "<tr><td>train_AE_00013</td><td>PENDING </td><td>     </td><td style=\"text-align: right;\">          64</td><td style=\"text-align: right;\">0.1   </td><td style=\"text-align: right;\">          8</td><td style=\"text-align: right;\">         1e-05</td></tr>\n",
       "<tr><td>train_AE_00014</td><td>PENDING </td><td>     </td><td style=\"text-align: right;\">          32</td><td style=\"text-align: right;\">0.0001</td><td style=\"text-align: right;\">          8</td><td style=\"text-align: right;\">         1e-05</td></tr>\n",
       "<tr><td>train_AE_00015</td><td>PENDING </td><td>     </td><td style=\"text-align: right;\">          64</td><td style=\"text-align: right;\">0.0001</td><td style=\"text-align: right;\">          8</td><td style=\"text-align: right;\">         1e-05</td></tr>\n",
       "</tbody>\n",
       "</table><br><br>"
      ],
      "text/plain": [
       "<IPython.core.display.HTML object>"
      ]
     },
     "metadata": {},
     "output_type": "display_data"
    },
    {
     "name": "stderr",
     "output_type": "stream",
     "text": [
      "2020-07-08 13:19:40,643\tINFO trainable.py:217 -- Getting current IP.\n"
     ]
    },
    {
     "name": "stdout",
     "output_type": "stream",
     "text": [
      "batch_size 64\n",
      "done training\n"
     ]
    },
    {
     "name": "stderr",
     "output_type": "stream",
     "text": [
      "2020-07-08 13:19:56,870\tWARNING util.py:137 -- The `start_trial` operation took 16.23576593399048 seconds to complete, which may be a performance bottleneck.\n"
     ]
    },
    {
     "name": "stdout",
     "output_type": "stream",
     "text": [
      "f1 0.5836198558323017\n"
     ]
    },
    {
     "data": {
      "text/html": [
       "== Status ==<br>Memory usage on this node: 17.9/32.0 GiB<br>Using FIFO scheduling algorithm.<br>Resources requested: 4/12 CPUs, 0/0 GPUs, 0.0/9.28 GiB heap, 0.0/3.17 GiB objects<br>Result logdir: /Users/natasha/ray_results/exp_1<br>Number of trials: 16 (14 PENDING, 2 RUNNING)<br><table>\n",
       "<thead>\n",
       "<tr><th>Trial name    </th><th>status  </th><th>loc  </th><th style=\"text-align: right;\">  batch_size</th><th style=\"text-align: right;\">    lr</th><th style=\"text-align: right;\">  nn_layers</th><th style=\"text-align: right;\">  weight_decay</th></tr>\n",
       "</thead>\n",
       "<tbody>\n",
       "<tr><td>train_AE_00000</td><td>RUNNING </td><td>     </td><td style=\"text-align: right;\">          32</td><td style=\"text-align: right;\">0.1   </td><td style=\"text-align: right;\">          6</td><td style=\"text-align: right;\">         0.01 </td></tr>\n",
       "<tr><td>train_AE_00001</td><td>RUNNING </td><td>     </td><td style=\"text-align: right;\">          64</td><td style=\"text-align: right;\">0.1   </td><td style=\"text-align: right;\">          6</td><td style=\"text-align: right;\">         0.01 </td></tr>\n",
       "<tr><td>train_AE_00002</td><td>PENDING </td><td>     </td><td style=\"text-align: right;\">          32</td><td style=\"text-align: right;\">0.0001</td><td style=\"text-align: right;\">          6</td><td style=\"text-align: right;\">         0.01 </td></tr>\n",
       "<tr><td>train_AE_00003</td><td>PENDING </td><td>     </td><td style=\"text-align: right;\">          64</td><td style=\"text-align: right;\">0.0001</td><td style=\"text-align: right;\">          6</td><td style=\"text-align: right;\">         0.01 </td></tr>\n",
       "<tr><td>train_AE_00004</td><td>PENDING </td><td>     </td><td style=\"text-align: right;\">          32</td><td style=\"text-align: right;\">0.1   </td><td style=\"text-align: right;\">          8</td><td style=\"text-align: right;\">         0.01 </td></tr>\n",
       "<tr><td>train_AE_00005</td><td>PENDING </td><td>     </td><td style=\"text-align: right;\">          64</td><td style=\"text-align: right;\">0.1   </td><td style=\"text-align: right;\">          8</td><td style=\"text-align: right;\">         0.01 </td></tr>\n",
       "<tr><td>train_AE_00006</td><td>PENDING </td><td>     </td><td style=\"text-align: right;\">          32</td><td style=\"text-align: right;\">0.0001</td><td style=\"text-align: right;\">          8</td><td style=\"text-align: right;\">         0.01 </td></tr>\n",
       "<tr><td>train_AE_00007</td><td>PENDING </td><td>     </td><td style=\"text-align: right;\">          64</td><td style=\"text-align: right;\">0.0001</td><td style=\"text-align: right;\">          8</td><td style=\"text-align: right;\">         0.01 </td></tr>\n",
       "<tr><td>train_AE_00008</td><td>PENDING </td><td>     </td><td style=\"text-align: right;\">          32</td><td style=\"text-align: right;\">0.1   </td><td style=\"text-align: right;\">          6</td><td style=\"text-align: right;\">         1e-05</td></tr>\n",
       "<tr><td>train_AE_00009</td><td>PENDING </td><td>     </td><td style=\"text-align: right;\">          64</td><td style=\"text-align: right;\">0.1   </td><td style=\"text-align: right;\">          6</td><td style=\"text-align: right;\">         1e-05</td></tr>\n",
       "<tr><td>train_AE_00010</td><td>PENDING </td><td>     </td><td style=\"text-align: right;\">          32</td><td style=\"text-align: right;\">0.0001</td><td style=\"text-align: right;\">          6</td><td style=\"text-align: right;\">         1e-05</td></tr>\n",
       "<tr><td>train_AE_00011</td><td>PENDING </td><td>     </td><td style=\"text-align: right;\">          64</td><td style=\"text-align: right;\">0.0001</td><td style=\"text-align: right;\">          6</td><td style=\"text-align: right;\">         1e-05</td></tr>\n",
       "<tr><td>train_AE_00012</td><td>PENDING </td><td>     </td><td style=\"text-align: right;\">          32</td><td style=\"text-align: right;\">0.1   </td><td style=\"text-align: right;\">          8</td><td style=\"text-align: right;\">         1e-05</td></tr>\n",
       "<tr><td>train_AE_00013</td><td>PENDING </td><td>     </td><td style=\"text-align: right;\">          64</td><td style=\"text-align: right;\">0.1   </td><td style=\"text-align: right;\">          8</td><td style=\"text-align: right;\">         1e-05</td></tr>\n",
       "<tr><td>train_AE_00014</td><td>PENDING </td><td>     </td><td style=\"text-align: right;\">          32</td><td style=\"text-align: right;\">0.0001</td><td style=\"text-align: right;\">          8</td><td style=\"text-align: right;\">         1e-05</td></tr>\n",
       "<tr><td>train_AE_00015</td><td>PENDING </td><td>     </td><td style=\"text-align: right;\">          64</td><td style=\"text-align: right;\">0.0001</td><td style=\"text-align: right;\">          8</td><td style=\"text-align: right;\">         1e-05</td></tr>\n",
       "</tbody>\n",
       "</table><br><br>"
      ],
      "text/plain": [
       "<IPython.core.display.HTML object>"
      ]
     },
     "metadata": {},
     "output_type": "display_data"
    },
    {
     "name": "stderr",
     "output_type": "stream",
     "text": [
      "2020-07-08 13:19:56,891\tINFO trainable.py:217 -- Getting current IP.\n"
     ]
    },
    {
     "name": "stdout",
     "output_type": "stream",
     "text": [
      "batch_size 32\n",
      "done training\n"
     ]
    },
    {
     "name": "stderr",
     "output_type": "stream",
     "text": [
      "2020-07-08 13:20:12,722\tWARNING util.py:137 -- The `start_trial` operation took 15.839207887649536 seconds to complete, which may be a performance bottleneck.\n"
     ]
    },
    {
     "name": "stdout",
     "output_type": "stream",
     "text": [
      "f1 0.5222814413181758\n"
     ]
    },
    {
     "data": {
      "text/html": [
       "== Status ==<br>Memory usage on this node: 18.1/32.0 GiB<br>Using FIFO scheduling algorithm.<br>Resources requested: 6/12 CPUs, 0/0 GPUs, 0.0/9.28 GiB heap, 0.0/3.17 GiB objects<br>Result logdir: /Users/natasha/ray_results/exp_1<br>Number of trials: 16 (13 PENDING, 3 RUNNING)<br><table>\n",
       "<thead>\n",
       "<tr><th>Trial name    </th><th>status  </th><th>loc  </th><th style=\"text-align: right;\">  batch_size</th><th style=\"text-align: right;\">    lr</th><th style=\"text-align: right;\">  nn_layers</th><th style=\"text-align: right;\">  weight_decay</th></tr>\n",
       "</thead>\n",
       "<tbody>\n",
       "<tr><td>train_AE_00000</td><td>RUNNING </td><td>     </td><td style=\"text-align: right;\">          32</td><td style=\"text-align: right;\">0.1   </td><td style=\"text-align: right;\">          6</td><td style=\"text-align: right;\">         0.01 </td></tr>\n",
       "<tr><td>train_AE_00001</td><td>RUNNING </td><td>     </td><td style=\"text-align: right;\">          64</td><td style=\"text-align: right;\">0.1   </td><td style=\"text-align: right;\">          6</td><td style=\"text-align: right;\">         0.01 </td></tr>\n",
       "<tr><td>train_AE_00002</td><td>RUNNING </td><td>     </td><td style=\"text-align: right;\">          32</td><td style=\"text-align: right;\">0.0001</td><td style=\"text-align: right;\">          6</td><td style=\"text-align: right;\">         0.01 </td></tr>\n",
       "<tr><td>train_AE_00003</td><td>PENDING </td><td>     </td><td style=\"text-align: right;\">          64</td><td style=\"text-align: right;\">0.0001</td><td style=\"text-align: right;\">          6</td><td style=\"text-align: right;\">         0.01 </td></tr>\n",
       "<tr><td>train_AE_00004</td><td>PENDING </td><td>     </td><td style=\"text-align: right;\">          32</td><td style=\"text-align: right;\">0.1   </td><td style=\"text-align: right;\">          8</td><td style=\"text-align: right;\">         0.01 </td></tr>\n",
       "<tr><td>train_AE_00005</td><td>PENDING </td><td>     </td><td style=\"text-align: right;\">          64</td><td style=\"text-align: right;\">0.1   </td><td style=\"text-align: right;\">          8</td><td style=\"text-align: right;\">         0.01 </td></tr>\n",
       "<tr><td>train_AE_00006</td><td>PENDING </td><td>     </td><td style=\"text-align: right;\">          32</td><td style=\"text-align: right;\">0.0001</td><td style=\"text-align: right;\">          8</td><td style=\"text-align: right;\">         0.01 </td></tr>\n",
       "<tr><td>train_AE_00007</td><td>PENDING </td><td>     </td><td style=\"text-align: right;\">          64</td><td style=\"text-align: right;\">0.0001</td><td style=\"text-align: right;\">          8</td><td style=\"text-align: right;\">         0.01 </td></tr>\n",
       "<tr><td>train_AE_00008</td><td>PENDING </td><td>     </td><td style=\"text-align: right;\">          32</td><td style=\"text-align: right;\">0.1   </td><td style=\"text-align: right;\">          6</td><td style=\"text-align: right;\">         1e-05</td></tr>\n",
       "<tr><td>train_AE_00009</td><td>PENDING </td><td>     </td><td style=\"text-align: right;\">          64</td><td style=\"text-align: right;\">0.1   </td><td style=\"text-align: right;\">          6</td><td style=\"text-align: right;\">         1e-05</td></tr>\n",
       "<tr><td>train_AE_00010</td><td>PENDING </td><td>     </td><td style=\"text-align: right;\">          32</td><td style=\"text-align: right;\">0.0001</td><td style=\"text-align: right;\">          6</td><td style=\"text-align: right;\">         1e-05</td></tr>\n",
       "<tr><td>train_AE_00011</td><td>PENDING </td><td>     </td><td style=\"text-align: right;\">          64</td><td style=\"text-align: right;\">0.0001</td><td style=\"text-align: right;\">          6</td><td style=\"text-align: right;\">         1e-05</td></tr>\n",
       "<tr><td>train_AE_00012</td><td>PENDING </td><td>     </td><td style=\"text-align: right;\">          32</td><td style=\"text-align: right;\">0.1   </td><td style=\"text-align: right;\">          8</td><td style=\"text-align: right;\">         1e-05</td></tr>\n",
       "<tr><td>train_AE_00013</td><td>PENDING </td><td>     </td><td style=\"text-align: right;\">          64</td><td style=\"text-align: right;\">0.1   </td><td style=\"text-align: right;\">          8</td><td style=\"text-align: right;\">         1e-05</td></tr>\n",
       "<tr><td>train_AE_00014</td><td>PENDING </td><td>     </td><td style=\"text-align: right;\">          32</td><td style=\"text-align: right;\">0.0001</td><td style=\"text-align: right;\">          8</td><td style=\"text-align: right;\">         1e-05</td></tr>\n",
       "<tr><td>train_AE_00015</td><td>PENDING </td><td>     </td><td style=\"text-align: right;\">          64</td><td style=\"text-align: right;\">0.0001</td><td style=\"text-align: right;\">          8</td><td style=\"text-align: right;\">         1e-05</td></tr>\n",
       "</tbody>\n",
       "</table><br><br>"
      ],
      "text/plain": [
       "<IPython.core.display.HTML object>"
      ]
     },
     "metadata": {},
     "output_type": "display_data"
    },
    {
     "name": "stderr",
     "output_type": "stream",
     "text": [
      "2020-07-08 13:20:12,740\tINFO trainable.py:217 -- Getting current IP.\n"
     ]
    },
    {
     "name": "stdout",
     "output_type": "stream",
     "text": [
      "batch_size 64\n",
      "done training\n"
     ]
    },
    {
     "name": "stderr",
     "output_type": "stream",
     "text": [
      "2020-07-08 13:20:29,457\tWARNING util.py:137 -- The `start_trial` operation took 16.724311113357544 seconds to complete, which may be a performance bottleneck.\n"
     ]
    },
    {
     "name": "stdout",
     "output_type": "stream",
     "text": [
      "f1 0.514681075781341\n"
     ]
    },
    {
     "data": {
      "text/html": [
       "== Status ==<br>Memory usage on this node: 18.0/32.0 GiB<br>Using FIFO scheduling algorithm.<br>Resources requested: 8/12 CPUs, 0/0 GPUs, 0.0/9.28 GiB heap, 0.0/3.17 GiB objects<br>Result logdir: /Users/natasha/ray_results/exp_1<br>Number of trials: 16 (12 PENDING, 4 RUNNING)<br><table>\n",
       "<thead>\n",
       "<tr><th>Trial name    </th><th>status  </th><th>loc  </th><th style=\"text-align: right;\">  batch_size</th><th style=\"text-align: right;\">    lr</th><th style=\"text-align: right;\">  nn_layers</th><th style=\"text-align: right;\">  weight_decay</th></tr>\n",
       "</thead>\n",
       "<tbody>\n",
       "<tr><td>train_AE_00000</td><td>RUNNING </td><td>     </td><td style=\"text-align: right;\">          32</td><td style=\"text-align: right;\">0.1   </td><td style=\"text-align: right;\">          6</td><td style=\"text-align: right;\">         0.01 </td></tr>\n",
       "<tr><td>train_AE_00001</td><td>RUNNING </td><td>     </td><td style=\"text-align: right;\">          64</td><td style=\"text-align: right;\">0.1   </td><td style=\"text-align: right;\">          6</td><td style=\"text-align: right;\">         0.01 </td></tr>\n",
       "<tr><td>train_AE_00002</td><td>RUNNING </td><td>     </td><td style=\"text-align: right;\">          32</td><td style=\"text-align: right;\">0.0001</td><td style=\"text-align: right;\">          6</td><td style=\"text-align: right;\">         0.01 </td></tr>\n",
       "<tr><td>train_AE_00003</td><td>RUNNING </td><td>     </td><td style=\"text-align: right;\">          64</td><td style=\"text-align: right;\">0.0001</td><td style=\"text-align: right;\">          6</td><td style=\"text-align: right;\">         0.01 </td></tr>\n",
       "<tr><td>train_AE_00004</td><td>PENDING </td><td>     </td><td style=\"text-align: right;\">          32</td><td style=\"text-align: right;\">0.1   </td><td style=\"text-align: right;\">          8</td><td style=\"text-align: right;\">         0.01 </td></tr>\n",
       "<tr><td>train_AE_00005</td><td>PENDING </td><td>     </td><td style=\"text-align: right;\">          64</td><td style=\"text-align: right;\">0.1   </td><td style=\"text-align: right;\">          8</td><td style=\"text-align: right;\">         0.01 </td></tr>\n",
       "<tr><td>train_AE_00006</td><td>PENDING </td><td>     </td><td style=\"text-align: right;\">          32</td><td style=\"text-align: right;\">0.0001</td><td style=\"text-align: right;\">          8</td><td style=\"text-align: right;\">         0.01 </td></tr>\n",
       "<tr><td>train_AE_00007</td><td>PENDING </td><td>     </td><td style=\"text-align: right;\">          64</td><td style=\"text-align: right;\">0.0001</td><td style=\"text-align: right;\">          8</td><td style=\"text-align: right;\">         0.01 </td></tr>\n",
       "<tr><td>train_AE_00008</td><td>PENDING </td><td>     </td><td style=\"text-align: right;\">          32</td><td style=\"text-align: right;\">0.1   </td><td style=\"text-align: right;\">          6</td><td style=\"text-align: right;\">         1e-05</td></tr>\n",
       "<tr><td>train_AE_00009</td><td>PENDING </td><td>     </td><td style=\"text-align: right;\">          64</td><td style=\"text-align: right;\">0.1   </td><td style=\"text-align: right;\">          6</td><td style=\"text-align: right;\">         1e-05</td></tr>\n",
       "<tr><td>train_AE_00010</td><td>PENDING </td><td>     </td><td style=\"text-align: right;\">          32</td><td style=\"text-align: right;\">0.0001</td><td style=\"text-align: right;\">          6</td><td style=\"text-align: right;\">         1e-05</td></tr>\n",
       "<tr><td>train_AE_00011</td><td>PENDING </td><td>     </td><td style=\"text-align: right;\">          64</td><td style=\"text-align: right;\">0.0001</td><td style=\"text-align: right;\">          6</td><td style=\"text-align: right;\">         1e-05</td></tr>\n",
       "<tr><td>train_AE_00012</td><td>PENDING </td><td>     </td><td style=\"text-align: right;\">          32</td><td style=\"text-align: right;\">0.1   </td><td style=\"text-align: right;\">          8</td><td style=\"text-align: right;\">         1e-05</td></tr>\n",
       "<tr><td>train_AE_00013</td><td>PENDING </td><td>     </td><td style=\"text-align: right;\">          64</td><td style=\"text-align: right;\">0.1   </td><td style=\"text-align: right;\">          8</td><td style=\"text-align: right;\">         1e-05</td></tr>\n",
       "<tr><td>train_AE_00014</td><td>PENDING </td><td>     </td><td style=\"text-align: right;\">          32</td><td style=\"text-align: right;\">0.0001</td><td style=\"text-align: right;\">          8</td><td style=\"text-align: right;\">         1e-05</td></tr>\n",
       "<tr><td>train_AE_00015</td><td>PENDING </td><td>     </td><td style=\"text-align: right;\">          64</td><td style=\"text-align: right;\">0.0001</td><td style=\"text-align: right;\">          8</td><td style=\"text-align: right;\">         1e-05</td></tr>\n",
       "</tbody>\n",
       "</table><br><br>"
      ],
      "text/plain": [
       "<IPython.core.display.HTML object>"
      ]
     },
     "metadata": {},
     "output_type": "display_data"
    },
    {
     "name": "stderr",
     "output_type": "stream",
     "text": [
      "2020-07-08 13:20:29,482\tINFO trainable.py:217 -- Getting current IP.\n"
     ]
    },
    {
     "name": "stdout",
     "output_type": "stream",
     "text": [
      "batch_size 32\n",
      "done training\n"
     ]
    },
    {
     "name": "stderr",
     "output_type": "stream",
     "text": [
      "2020-07-08 13:20:44,532\tWARNING util.py:137 -- The `start_trial` operation took 15.064131259918213 seconds to complete, which may be a performance bottleneck.\n"
     ]
    },
    {
     "name": "stdout",
     "output_type": "stream",
     "text": [
      "f1 0.5696545804730356\n"
     ]
    },
    {
     "data": {
      "text/html": [
       "== Status ==<br>Memory usage on this node: 18.4/32.0 GiB<br>Using FIFO scheduling algorithm.<br>Resources requested: 10/12 CPUs, 0/0 GPUs, 0.0/9.28 GiB heap, 0.0/3.17 GiB objects<br>Result logdir: /Users/natasha/ray_results/exp_1<br>Number of trials: 16 (11 PENDING, 5 RUNNING)<br><table>\n",
       "<thead>\n",
       "<tr><th>Trial name    </th><th>status  </th><th>loc  </th><th style=\"text-align: right;\">  batch_size</th><th style=\"text-align: right;\">    lr</th><th style=\"text-align: right;\">  nn_layers</th><th style=\"text-align: right;\">  weight_decay</th></tr>\n",
       "</thead>\n",
       "<tbody>\n",
       "<tr><td>train_AE_00000</td><td>RUNNING </td><td>     </td><td style=\"text-align: right;\">          32</td><td style=\"text-align: right;\">0.1   </td><td style=\"text-align: right;\">          6</td><td style=\"text-align: right;\">         0.01 </td></tr>\n",
       "<tr><td>train_AE_00001</td><td>RUNNING </td><td>     </td><td style=\"text-align: right;\">          64</td><td style=\"text-align: right;\">0.1   </td><td style=\"text-align: right;\">          6</td><td style=\"text-align: right;\">         0.01 </td></tr>\n",
       "<tr><td>train_AE_00002</td><td>RUNNING </td><td>     </td><td style=\"text-align: right;\">          32</td><td style=\"text-align: right;\">0.0001</td><td style=\"text-align: right;\">          6</td><td style=\"text-align: right;\">         0.01 </td></tr>\n",
       "<tr><td>train_AE_00003</td><td>RUNNING </td><td>     </td><td style=\"text-align: right;\">          64</td><td style=\"text-align: right;\">0.0001</td><td style=\"text-align: right;\">          6</td><td style=\"text-align: right;\">         0.01 </td></tr>\n",
       "<tr><td>train_AE_00004</td><td>RUNNING </td><td>     </td><td style=\"text-align: right;\">          32</td><td style=\"text-align: right;\">0.1   </td><td style=\"text-align: right;\">          8</td><td style=\"text-align: right;\">         0.01 </td></tr>\n",
       "<tr><td>train_AE_00005</td><td>PENDING </td><td>     </td><td style=\"text-align: right;\">          64</td><td style=\"text-align: right;\">0.1   </td><td style=\"text-align: right;\">          8</td><td style=\"text-align: right;\">         0.01 </td></tr>\n",
       "<tr><td>train_AE_00006</td><td>PENDING </td><td>     </td><td style=\"text-align: right;\">          32</td><td style=\"text-align: right;\">0.0001</td><td style=\"text-align: right;\">          8</td><td style=\"text-align: right;\">         0.01 </td></tr>\n",
       "<tr><td>train_AE_00007</td><td>PENDING </td><td>     </td><td style=\"text-align: right;\">          64</td><td style=\"text-align: right;\">0.0001</td><td style=\"text-align: right;\">          8</td><td style=\"text-align: right;\">         0.01 </td></tr>\n",
       "<tr><td>train_AE_00008</td><td>PENDING </td><td>     </td><td style=\"text-align: right;\">          32</td><td style=\"text-align: right;\">0.1   </td><td style=\"text-align: right;\">          6</td><td style=\"text-align: right;\">         1e-05</td></tr>\n",
       "<tr><td>train_AE_00009</td><td>PENDING </td><td>     </td><td style=\"text-align: right;\">          64</td><td style=\"text-align: right;\">0.1   </td><td style=\"text-align: right;\">          6</td><td style=\"text-align: right;\">         1e-05</td></tr>\n",
       "<tr><td>train_AE_00010</td><td>PENDING </td><td>     </td><td style=\"text-align: right;\">          32</td><td style=\"text-align: right;\">0.0001</td><td style=\"text-align: right;\">          6</td><td style=\"text-align: right;\">         1e-05</td></tr>\n",
       "<tr><td>train_AE_00011</td><td>PENDING </td><td>     </td><td style=\"text-align: right;\">          64</td><td style=\"text-align: right;\">0.0001</td><td style=\"text-align: right;\">          6</td><td style=\"text-align: right;\">         1e-05</td></tr>\n",
       "<tr><td>train_AE_00012</td><td>PENDING </td><td>     </td><td style=\"text-align: right;\">          32</td><td style=\"text-align: right;\">0.1   </td><td style=\"text-align: right;\">          8</td><td style=\"text-align: right;\">         1e-05</td></tr>\n",
       "<tr><td>train_AE_00013</td><td>PENDING </td><td>     </td><td style=\"text-align: right;\">          64</td><td style=\"text-align: right;\">0.1   </td><td style=\"text-align: right;\">          8</td><td style=\"text-align: right;\">         1e-05</td></tr>\n",
       "<tr><td>train_AE_00014</td><td>PENDING </td><td>     </td><td style=\"text-align: right;\">          32</td><td style=\"text-align: right;\">0.0001</td><td style=\"text-align: right;\">          8</td><td style=\"text-align: right;\">         1e-05</td></tr>\n",
       "<tr><td>train_AE_00015</td><td>PENDING </td><td>     </td><td style=\"text-align: right;\">          64</td><td style=\"text-align: right;\">0.0001</td><td style=\"text-align: right;\">          8</td><td style=\"text-align: right;\">         1e-05</td></tr>\n",
       "</tbody>\n",
       "</table><br><br>"
      ],
      "text/plain": [
       "<IPython.core.display.HTML object>"
      ]
     },
     "metadata": {},
     "output_type": "display_data"
    },
    {
     "name": "stderr",
     "output_type": "stream",
     "text": [
      "2020-07-08 13:20:44,567\tINFO trainable.py:217 -- Getting current IP.\n"
     ]
    },
    {
     "name": "stdout",
     "output_type": "stream",
     "text": [
      "batch_size 64\n",
      "done training\n"
     ]
    },
    {
     "name": "stderr",
     "output_type": "stream",
     "text": [
      "2020-07-08 13:21:01,584\tWARNING util.py:137 -- The `start_trial` operation took 17.039008140563965 seconds to complete, which may be a performance bottleneck.\n"
     ]
    },
    {
     "name": "stdout",
     "output_type": "stream",
     "text": [
      "f1 0.5785409823741533\n"
     ]
    },
    {
     "data": {
      "text/html": [
       "== Status ==<br>Memory usage on this node: 18.4/32.0 GiB<br>Using FIFO scheduling algorithm.<br>Resources requested: 12/12 CPUs, 0/0 GPUs, 0.0/9.28 GiB heap, 0.0/3.17 GiB objects<br>Result logdir: /Users/natasha/ray_results/exp_1<br>Number of trials: 16 (10 PENDING, 6 RUNNING)<br><table>\n",
       "<thead>\n",
       "<tr><th>Trial name    </th><th>status  </th><th>loc  </th><th style=\"text-align: right;\">  batch_size</th><th style=\"text-align: right;\">    lr</th><th style=\"text-align: right;\">  nn_layers</th><th style=\"text-align: right;\">  weight_decay</th></tr>\n",
       "</thead>\n",
       "<tbody>\n",
       "<tr><td>train_AE_00000</td><td>RUNNING </td><td>     </td><td style=\"text-align: right;\">          32</td><td style=\"text-align: right;\">0.1   </td><td style=\"text-align: right;\">          6</td><td style=\"text-align: right;\">         0.01 </td></tr>\n",
       "<tr><td>train_AE_00001</td><td>RUNNING </td><td>     </td><td style=\"text-align: right;\">          64</td><td style=\"text-align: right;\">0.1   </td><td style=\"text-align: right;\">          6</td><td style=\"text-align: right;\">         0.01 </td></tr>\n",
       "<tr><td>train_AE_00002</td><td>RUNNING </td><td>     </td><td style=\"text-align: right;\">          32</td><td style=\"text-align: right;\">0.0001</td><td style=\"text-align: right;\">          6</td><td style=\"text-align: right;\">         0.01 </td></tr>\n",
       "<tr><td>train_AE_00003</td><td>RUNNING </td><td>     </td><td style=\"text-align: right;\">          64</td><td style=\"text-align: right;\">0.0001</td><td style=\"text-align: right;\">          6</td><td style=\"text-align: right;\">         0.01 </td></tr>\n",
       "<tr><td>train_AE_00004</td><td>RUNNING </td><td>     </td><td style=\"text-align: right;\">          32</td><td style=\"text-align: right;\">0.1   </td><td style=\"text-align: right;\">          8</td><td style=\"text-align: right;\">         0.01 </td></tr>\n",
       "<tr><td>train_AE_00005</td><td>RUNNING </td><td>     </td><td style=\"text-align: right;\">          64</td><td style=\"text-align: right;\">0.1   </td><td style=\"text-align: right;\">          8</td><td style=\"text-align: right;\">         0.01 </td></tr>\n",
       "<tr><td>train_AE_00006</td><td>PENDING </td><td>     </td><td style=\"text-align: right;\">          32</td><td style=\"text-align: right;\">0.0001</td><td style=\"text-align: right;\">          8</td><td style=\"text-align: right;\">         0.01 </td></tr>\n",
       "<tr><td>train_AE_00007</td><td>PENDING </td><td>     </td><td style=\"text-align: right;\">          64</td><td style=\"text-align: right;\">0.0001</td><td style=\"text-align: right;\">          8</td><td style=\"text-align: right;\">         0.01 </td></tr>\n",
       "<tr><td>train_AE_00008</td><td>PENDING </td><td>     </td><td style=\"text-align: right;\">          32</td><td style=\"text-align: right;\">0.1   </td><td style=\"text-align: right;\">          6</td><td style=\"text-align: right;\">         1e-05</td></tr>\n",
       "<tr><td>train_AE_00009</td><td>PENDING </td><td>     </td><td style=\"text-align: right;\">          64</td><td style=\"text-align: right;\">0.1   </td><td style=\"text-align: right;\">          6</td><td style=\"text-align: right;\">         1e-05</td></tr>\n",
       "<tr><td>train_AE_00010</td><td>PENDING </td><td>     </td><td style=\"text-align: right;\">          32</td><td style=\"text-align: right;\">0.0001</td><td style=\"text-align: right;\">          6</td><td style=\"text-align: right;\">         1e-05</td></tr>\n",
       "<tr><td>train_AE_00011</td><td>PENDING </td><td>     </td><td style=\"text-align: right;\">          64</td><td style=\"text-align: right;\">0.0001</td><td style=\"text-align: right;\">          6</td><td style=\"text-align: right;\">         1e-05</td></tr>\n",
       "<tr><td>train_AE_00012</td><td>PENDING </td><td>     </td><td style=\"text-align: right;\">          32</td><td style=\"text-align: right;\">0.1   </td><td style=\"text-align: right;\">          8</td><td style=\"text-align: right;\">         1e-05</td></tr>\n",
       "<tr><td>train_AE_00013</td><td>PENDING </td><td>     </td><td style=\"text-align: right;\">          64</td><td style=\"text-align: right;\">0.1   </td><td style=\"text-align: right;\">          8</td><td style=\"text-align: right;\">         1e-05</td></tr>\n",
       "<tr><td>train_AE_00014</td><td>PENDING </td><td>     </td><td style=\"text-align: right;\">          32</td><td style=\"text-align: right;\">0.0001</td><td style=\"text-align: right;\">          8</td><td style=\"text-align: right;\">         1e-05</td></tr>\n",
       "<tr><td>train_AE_00015</td><td>PENDING </td><td>     </td><td style=\"text-align: right;\">          64</td><td style=\"text-align: right;\">0.0001</td><td style=\"text-align: right;\">          8</td><td style=\"text-align: right;\">         1e-05</td></tr>\n",
       "</tbody>\n",
       "</table><br><br>"
      ],
      "text/plain": [
       "<IPython.core.display.HTML object>"
      ]
     },
     "metadata": {},
     "output_type": "display_data"
    },
    {
     "name": "stdout",
     "output_type": "stream",
     "text": [
      "Result for train_AE_00003:\n",
      "  date: 2020-07-08_13-20-29\n",
      "  done: false\n",
      "  experiment_id: 5aa2cf68f27b45ebac01197c8d46a454\n",
      "  experiment_tag: 3_batch_size=64,lr=0.0001,nn_layers=6,weight_decay=0.01\n",
      "  f1_score: 0.514681075781341\n",
      "  hostname: natashas-MacBook-Pro.local\n",
      "  iterations_since_restore: 1\n",
      "  node_ip: 192.168.2.23\n",
      "  pid: 53595\n",
      "  time_since_restore: 16.71553111076355\n",
      "  time_this_iter_s: 16.71553111076355\n",
      "  time_total_s: 16.71553111076355\n",
      "  timestamp: 1594228829\n",
      "  timesteps_since_restore: 0\n",
      "  training_iteration: 1\n",
      "  trial_id: '00003'\n",
      "  \n",
      "Result for train_AE_00000:\n",
      "  date: 2020-07-08_13-19-40\n",
      "  done: false\n",
      "  experiment_id: 8f416a2f46e54550bf6f0e98daafc8af\n",
      "  experiment_tag: 0_batch_size=32,lr=0.1,nn_layers=6,weight_decay=0.01\n",
      "  f1_score: 0.5968246253996473\n",
      "  hostname: natashas-MacBook-Pro.local\n",
      "  iterations_since_restore: 1\n",
      "  node_ip: 192.168.2.23\n",
      "  pid: 53595\n",
      "  time_since_restore: 15.39996600151062\n",
      "  time_this_iter_s: 15.39996600151062\n",
      "  time_total_s: 15.39996600151062\n",
      "  timestamp: 1594228780\n",
      "  timesteps_since_restore: 0\n",
      "  training_iteration: 1\n",
      "  trial_id: '00000'\n",
      "  \n",
      "Result for train_AE_00001:\n",
      "  date: 2020-07-08_13-19-56\n",
      "  done: false\n",
      "  experiment_id: 03c2e4b3c802475c8f137b855f4c7f32\n",
      "  experiment_tag: 1_batch_size=64,lr=0.1,nn_layers=6,weight_decay=0.01\n",
      "  f1_score: 0.5836198558323017\n",
      "  hostname: natashas-MacBook-Pro.local\n",
      "  iterations_since_restore: 1\n",
      "  node_ip: 192.168.2.23\n",
      "  pid: 53595\n",
      "  time_since_restore: 16.223448038101196\n",
      "  time_this_iter_s: 16.223448038101196\n",
      "  time_total_s: 16.223448038101196\n",
      "  timestamp: 1594228796\n",
      "  timesteps_since_restore: 0\n",
      "  training_iteration: 1\n",
      "  trial_id: '00001'\n",
      "  \n",
      "Result for train_AE_00002:\n",
      "  date: 2020-07-08_13-20-12\n",
      "  done: false\n",
      "  experiment_id: 338e83c52a414d678dcb028c04d2f3a5\n",
      "  experiment_tag: 2_batch_size=32,lr=0.0001,nn_layers=6,weight_decay=0.01\n",
      "  f1_score: 0.5222814413181758\n",
      "  hostname: natashas-MacBook-Pro.local\n",
      "  iterations_since_restore: 1\n",
      "  node_ip: 192.168.2.23\n",
      "  pid: 53595\n",
      "  time_since_restore: 15.828244924545288\n",
      "  time_this_iter_s: 15.828244924545288\n",
      "  time_total_s: 15.828244924545288\n",
      "  timestamp: 1594228812\n",
      "  timesteps_since_restore: 0\n",
      "  training_iteration: 1\n",
      "  trial_id: '00002'\n",
      "  \n"
     ]
    },
    {
     "name": "stderr",
     "output_type": "stream",
     "text": [
      "2020-07-08 13:21:03,018\tINFO trainable.py:217 -- Getting current IP.\n"
     ]
    },
    {
     "name": "stdout",
     "output_type": "stream",
     "text": [
      "batch_size 32\n",
      "done training\n"
     ]
    },
    {
     "name": "stderr",
     "output_type": "stream",
     "text": [
      "2020-07-08 13:21:19,318\tWARNING util.py:137 -- The `start_trial` operation took 16.310471057891846 seconds to complete, which may be a performance bottleneck.\n"
     ]
    },
    {
     "name": "stdout",
     "output_type": "stream",
     "text": [
      "f1 0.4299245825229453\n"
     ]
    },
    {
     "data": {
      "text/html": [
       "== Status ==<br>Memory usage on this node: 18.1/32.0 GiB<br>Using FIFO scheduling algorithm.<br>Resources requested: 12/12 CPUs, 0/0 GPUs, 0.0/9.28 GiB heap, 0.0/3.17 GiB objects<br>Result logdir: /Users/natasha/ray_results/exp_1<br>Number of trials: 16 (9 PENDING, 6 RUNNING, 1 TERMINATED)<br><table>\n",
       "<thead>\n",
       "<tr><th>Trial name    </th><th>status    </th><th>loc               </th><th style=\"text-align: right;\">  batch_size</th><th style=\"text-align: right;\">    lr</th><th style=\"text-align: right;\">  nn_layers</th><th style=\"text-align: right;\">  weight_decay</th><th style=\"text-align: right;\">  iter</th><th style=\"text-align: right;\">  total time (s)</th></tr>\n",
       "</thead>\n",
       "<tbody>\n",
       "<tr><td>train_AE_00000</td><td>RUNNING   </td><td>192.168.2.23:53595</td><td style=\"text-align: right;\">          32</td><td style=\"text-align: right;\">0.1   </td><td style=\"text-align: right;\">          6</td><td style=\"text-align: right;\">         0.01 </td><td style=\"text-align: right;\">     1</td><td style=\"text-align: right;\">         15.4   </td></tr>\n",
       "<tr><td>train_AE_00001</td><td>TERMINATED</td><td>                  </td><td style=\"text-align: right;\">          64</td><td style=\"text-align: right;\">0.1   </td><td style=\"text-align: right;\">          6</td><td style=\"text-align: right;\">         0.01 </td><td style=\"text-align: right;\">     1</td><td style=\"text-align: right;\">         16.2234</td></tr>\n",
       "<tr><td>train_AE_00002</td><td>RUNNING   </td><td>192.168.2.23:53595</td><td style=\"text-align: right;\">          32</td><td style=\"text-align: right;\">0.0001</td><td style=\"text-align: right;\">          6</td><td style=\"text-align: right;\">         0.01 </td><td style=\"text-align: right;\">     1</td><td style=\"text-align: right;\">         15.8282</td></tr>\n",
       "<tr><td>train_AE_00003</td><td>RUNNING   </td><td>192.168.2.23:53595</td><td style=\"text-align: right;\">          64</td><td style=\"text-align: right;\">0.0001</td><td style=\"text-align: right;\">          6</td><td style=\"text-align: right;\">         0.01 </td><td style=\"text-align: right;\">     1</td><td style=\"text-align: right;\">         16.7155</td></tr>\n",
       "<tr><td>train_AE_00004</td><td>RUNNING   </td><td>                  </td><td style=\"text-align: right;\">          32</td><td style=\"text-align: right;\">0.1   </td><td style=\"text-align: right;\">          8</td><td style=\"text-align: right;\">         0.01 </td><td style=\"text-align: right;\">      </td><td style=\"text-align: right;\">                </td></tr>\n",
       "<tr><td>train_AE_00005</td><td>RUNNING   </td><td>                  </td><td style=\"text-align: right;\">          64</td><td style=\"text-align: right;\">0.1   </td><td style=\"text-align: right;\">          8</td><td style=\"text-align: right;\">         0.01 </td><td style=\"text-align: right;\">      </td><td style=\"text-align: right;\">                </td></tr>\n",
       "<tr><td>train_AE_00006</td><td>RUNNING   </td><td>                  </td><td style=\"text-align: right;\">          32</td><td style=\"text-align: right;\">0.0001</td><td style=\"text-align: right;\">          8</td><td style=\"text-align: right;\">         0.01 </td><td style=\"text-align: right;\">      </td><td style=\"text-align: right;\">                </td></tr>\n",
       "<tr><td>train_AE_00007</td><td>PENDING   </td><td>                  </td><td style=\"text-align: right;\">          64</td><td style=\"text-align: right;\">0.0001</td><td style=\"text-align: right;\">          8</td><td style=\"text-align: right;\">         0.01 </td><td style=\"text-align: right;\">      </td><td style=\"text-align: right;\">                </td></tr>\n",
       "<tr><td>train_AE_00008</td><td>PENDING   </td><td>                  </td><td style=\"text-align: right;\">          32</td><td style=\"text-align: right;\">0.1   </td><td style=\"text-align: right;\">          6</td><td style=\"text-align: right;\">         1e-05</td><td style=\"text-align: right;\">      </td><td style=\"text-align: right;\">                </td></tr>\n",
       "<tr><td>train_AE_00009</td><td>PENDING   </td><td>                  </td><td style=\"text-align: right;\">          64</td><td style=\"text-align: right;\">0.1   </td><td style=\"text-align: right;\">          6</td><td style=\"text-align: right;\">         1e-05</td><td style=\"text-align: right;\">      </td><td style=\"text-align: right;\">                </td></tr>\n",
       "<tr><td>train_AE_00010</td><td>PENDING   </td><td>                  </td><td style=\"text-align: right;\">          32</td><td style=\"text-align: right;\">0.0001</td><td style=\"text-align: right;\">          6</td><td style=\"text-align: right;\">         1e-05</td><td style=\"text-align: right;\">      </td><td style=\"text-align: right;\">                </td></tr>\n",
       "<tr><td>train_AE_00011</td><td>PENDING   </td><td>                  </td><td style=\"text-align: right;\">          64</td><td style=\"text-align: right;\">0.0001</td><td style=\"text-align: right;\">          6</td><td style=\"text-align: right;\">         1e-05</td><td style=\"text-align: right;\">      </td><td style=\"text-align: right;\">                </td></tr>\n",
       "<tr><td>train_AE_00012</td><td>PENDING   </td><td>                  </td><td style=\"text-align: right;\">          32</td><td style=\"text-align: right;\">0.1   </td><td style=\"text-align: right;\">          8</td><td style=\"text-align: right;\">         1e-05</td><td style=\"text-align: right;\">      </td><td style=\"text-align: right;\">                </td></tr>\n",
       "<tr><td>train_AE_00013</td><td>PENDING   </td><td>                  </td><td style=\"text-align: right;\">          64</td><td style=\"text-align: right;\">0.1   </td><td style=\"text-align: right;\">          8</td><td style=\"text-align: right;\">         1e-05</td><td style=\"text-align: right;\">      </td><td style=\"text-align: right;\">                </td></tr>\n",
       "<tr><td>train_AE_00014</td><td>PENDING   </td><td>                  </td><td style=\"text-align: right;\">          32</td><td style=\"text-align: right;\">0.0001</td><td style=\"text-align: right;\">          8</td><td style=\"text-align: right;\">         1e-05</td><td style=\"text-align: right;\">      </td><td style=\"text-align: right;\">                </td></tr>\n",
       "<tr><td>train_AE_00015</td><td>PENDING   </td><td>                  </td><td style=\"text-align: right;\">          64</td><td style=\"text-align: right;\">0.0001</td><td style=\"text-align: right;\">          8</td><td style=\"text-align: right;\">         1e-05</td><td style=\"text-align: right;\">      </td><td style=\"text-align: right;\">                </td></tr>\n",
       "</tbody>\n",
       "</table><br><br>"
      ],
      "text/plain": [
       "<IPython.core.display.HTML object>"
      ]
     },
     "metadata": {},
     "output_type": "display_data"
    },
    {
     "name": "stderr",
     "output_type": "stream",
     "text": [
      "2020-07-08 13:21:19,349\tINFO trainable.py:217 -- Getting current IP.\n"
     ]
    },
    {
     "name": "stdout",
     "output_type": "stream",
     "text": [
      "batch_size 64\n",
      "done training\n"
     ]
    },
    {
     "name": "stderr",
     "output_type": "stream",
     "text": [
      "2020-07-08 13:21:35,966\tWARNING util.py:137 -- The `start_trial` operation took 16.6300950050354 seconds to complete, which may be a performance bottleneck.\n"
     ]
    },
    {
     "name": "stdout",
     "output_type": "stream",
     "text": [
      "f1 0.4555554861015085\n"
     ]
    },
    {
     "data": {
      "text/html": [
       "== Status ==<br>Memory usage on this node: 18.3/32.0 GiB<br>Using FIFO scheduling algorithm.<br>Resources requested: 12/12 CPUs, 0/0 GPUs, 0.0/9.28 GiB heap, 0.0/3.17 GiB objects<br>Result logdir: /Users/natasha/ray_results/exp_1<br>Number of trials: 16 (8 PENDING, 6 RUNNING, 2 TERMINATED)<br><table>\n",
       "<thead>\n",
       "<tr><th>Trial name    </th><th>status    </th><th>loc               </th><th style=\"text-align: right;\">  batch_size</th><th style=\"text-align: right;\">    lr</th><th style=\"text-align: right;\">  nn_layers</th><th style=\"text-align: right;\">  weight_decay</th><th style=\"text-align: right;\">  iter</th><th style=\"text-align: right;\">  total time (s)</th></tr>\n",
       "</thead>\n",
       "<tbody>\n",
       "<tr><td>train_AE_00000</td><td>RUNNING   </td><td>192.168.2.23:53595</td><td style=\"text-align: right;\">          32</td><td style=\"text-align: right;\">0.1   </td><td style=\"text-align: right;\">          6</td><td style=\"text-align: right;\">         0.01 </td><td style=\"text-align: right;\">     1</td><td style=\"text-align: right;\">         15.4   </td></tr>\n",
       "<tr><td>train_AE_00001</td><td>TERMINATED</td><td>                  </td><td style=\"text-align: right;\">          64</td><td style=\"text-align: right;\">0.1   </td><td style=\"text-align: right;\">          6</td><td style=\"text-align: right;\">         0.01 </td><td style=\"text-align: right;\">     1</td><td style=\"text-align: right;\">         16.2234</td></tr>\n",
       "<tr><td>train_AE_00002</td><td>TERMINATED</td><td>                  </td><td style=\"text-align: right;\">          32</td><td style=\"text-align: right;\">0.0001</td><td style=\"text-align: right;\">          6</td><td style=\"text-align: right;\">         0.01 </td><td style=\"text-align: right;\">     1</td><td style=\"text-align: right;\">         15.8282</td></tr>\n",
       "<tr><td>train_AE_00003</td><td>RUNNING   </td><td>192.168.2.23:53595</td><td style=\"text-align: right;\">          64</td><td style=\"text-align: right;\">0.0001</td><td style=\"text-align: right;\">          6</td><td style=\"text-align: right;\">         0.01 </td><td style=\"text-align: right;\">     1</td><td style=\"text-align: right;\">         16.7155</td></tr>\n",
       "<tr><td>train_AE_00004</td><td>RUNNING   </td><td>                  </td><td style=\"text-align: right;\">          32</td><td style=\"text-align: right;\">0.1   </td><td style=\"text-align: right;\">          8</td><td style=\"text-align: right;\">         0.01 </td><td style=\"text-align: right;\">      </td><td style=\"text-align: right;\">                </td></tr>\n",
       "<tr><td>train_AE_00005</td><td>RUNNING   </td><td>                  </td><td style=\"text-align: right;\">          64</td><td style=\"text-align: right;\">0.1   </td><td style=\"text-align: right;\">          8</td><td style=\"text-align: right;\">         0.01 </td><td style=\"text-align: right;\">      </td><td style=\"text-align: right;\">                </td></tr>\n",
       "<tr><td>train_AE_00006</td><td>RUNNING   </td><td>                  </td><td style=\"text-align: right;\">          32</td><td style=\"text-align: right;\">0.0001</td><td style=\"text-align: right;\">          8</td><td style=\"text-align: right;\">         0.01 </td><td style=\"text-align: right;\">      </td><td style=\"text-align: right;\">                </td></tr>\n",
       "<tr><td>train_AE_00007</td><td>RUNNING   </td><td>                  </td><td style=\"text-align: right;\">          64</td><td style=\"text-align: right;\">0.0001</td><td style=\"text-align: right;\">          8</td><td style=\"text-align: right;\">         0.01 </td><td style=\"text-align: right;\">      </td><td style=\"text-align: right;\">                </td></tr>\n",
       "<tr><td>train_AE_00008</td><td>PENDING   </td><td>                  </td><td style=\"text-align: right;\">          32</td><td style=\"text-align: right;\">0.1   </td><td style=\"text-align: right;\">          6</td><td style=\"text-align: right;\">         1e-05</td><td style=\"text-align: right;\">      </td><td style=\"text-align: right;\">                </td></tr>\n",
       "<tr><td>train_AE_00009</td><td>PENDING   </td><td>                  </td><td style=\"text-align: right;\">          64</td><td style=\"text-align: right;\">0.1   </td><td style=\"text-align: right;\">          6</td><td style=\"text-align: right;\">         1e-05</td><td style=\"text-align: right;\">      </td><td style=\"text-align: right;\">                </td></tr>\n",
       "<tr><td>train_AE_00010</td><td>PENDING   </td><td>                  </td><td style=\"text-align: right;\">          32</td><td style=\"text-align: right;\">0.0001</td><td style=\"text-align: right;\">          6</td><td style=\"text-align: right;\">         1e-05</td><td style=\"text-align: right;\">      </td><td style=\"text-align: right;\">                </td></tr>\n",
       "<tr><td>train_AE_00011</td><td>PENDING   </td><td>                  </td><td style=\"text-align: right;\">          64</td><td style=\"text-align: right;\">0.0001</td><td style=\"text-align: right;\">          6</td><td style=\"text-align: right;\">         1e-05</td><td style=\"text-align: right;\">      </td><td style=\"text-align: right;\">                </td></tr>\n",
       "<tr><td>train_AE_00012</td><td>PENDING   </td><td>                  </td><td style=\"text-align: right;\">          32</td><td style=\"text-align: right;\">0.1   </td><td style=\"text-align: right;\">          8</td><td style=\"text-align: right;\">         1e-05</td><td style=\"text-align: right;\">      </td><td style=\"text-align: right;\">                </td></tr>\n",
       "<tr><td>train_AE_00013</td><td>PENDING   </td><td>                  </td><td style=\"text-align: right;\">          64</td><td style=\"text-align: right;\">0.1   </td><td style=\"text-align: right;\">          8</td><td style=\"text-align: right;\">         1e-05</td><td style=\"text-align: right;\">      </td><td style=\"text-align: right;\">                </td></tr>\n",
       "<tr><td>train_AE_00014</td><td>PENDING   </td><td>                  </td><td style=\"text-align: right;\">          32</td><td style=\"text-align: right;\">0.0001</td><td style=\"text-align: right;\">          8</td><td style=\"text-align: right;\">         1e-05</td><td style=\"text-align: right;\">      </td><td style=\"text-align: right;\">                </td></tr>\n",
       "<tr><td>train_AE_00015</td><td>PENDING   </td><td>                  </td><td style=\"text-align: right;\">          64</td><td style=\"text-align: right;\">0.0001</td><td style=\"text-align: right;\">          8</td><td style=\"text-align: right;\">         1e-05</td><td style=\"text-align: right;\">      </td><td style=\"text-align: right;\">                </td></tr>\n",
       "</tbody>\n",
       "</table><br><br>"
      ],
      "text/plain": [
       "<IPython.core.display.HTML object>"
      ]
     },
     "metadata": {},
     "output_type": "display_data"
    },
    {
     "name": "stdout",
     "output_type": "stream",
     "text": [
      "Result for train_AE_00005:\n",
      "  date: 2020-07-08_13-21-01\n",
      "  done: false\n",
      "  experiment_id: b7a2bbf811244145ada59edfbd8baaaf\n",
      "  experiment_tag: 5_batch_size=64,lr=0.1,nn_layers=8,weight_decay=0.01\n",
      "  f1_score: 0.5785409823741533\n",
      "  hostname: natashas-MacBook-Pro.local\n",
      "  iterations_since_restore: 1\n",
      "  node_ip: 192.168.2.23\n",
      "  pid: 53595\n",
      "  time_since_restore: 17.012264013290405\n",
      "  time_this_iter_s: 17.012264013290405\n",
      "  time_total_s: 17.012264013290405\n",
      "  timestamp: 1594228861\n",
      "  timesteps_since_restore: 0\n",
      "  training_iteration: 1\n",
      "  trial_id: '00005'\n",
      "  \n"
     ]
    },
    {
     "name": "stderr",
     "output_type": "stream",
     "text": [
      "2020-07-08 13:21:36,358\tINFO trainable.py:217 -- Getting current IP.\n"
     ]
    },
    {
     "name": "stdout",
     "output_type": "stream",
     "text": [
      "batch_size 32\n"
     ]
    }
   ],
   "source": [
    "analysis = tune.run(\n",
    "    trainable.train_AE, \n",
    "    name=\"exp_1\",\n",
    "    config=train_vars, \n",
    "    verbose=2, \n",
    "    resources_per_trial={\n",
    "            \"cpu\": 2,\n",
    "            \"gpu\": 0\n",
    "    },\n",
    "    num_samples=1)\n",
    "\n",
    "print(\"Best config is:\", analysis.get_best_config(metric=\"f1_score\"))"
   ]
  },
  {
   "cell_type": "code",
   "execution_count": null,
   "metadata": {},
   "outputs": [],
   "source": [
    "print(\"Best batch size:\", analysis.get_best_config(metric=\"mean_accuracy\")[\"batch_size\"])"
   ]
  },
  {
   "cell_type": "code",
   "execution_count": null,
   "metadata": {},
   "outputs": [],
   "source": [
    "# train the model\n",
    "# train_losses, test_losses, train_f1_scores, test_f1_scores = train_test.train_model(loaders, \n",
    "#         model, flags.num_epochs, flags.print_every,\n",
    "#         flags.SAVE_FP, flags.replacement_threshold, cluster_names, flags.cirriculum, train_data[:,:len(cluster_names)],\n",
    "#         search_space)\n",
    "#train_losses, test_losses, train_f1_scores, test_f1_scores = train_test.train_model(train_vars, hyperparams)"
   ]
  },
  {
   "cell_type": "markdown",
   "metadata": {},
   "source": [
    "### Evaluate model performance"
   ]
  },
  {
   "cell_type": "code",
   "execution_count": null,
   "metadata": {},
   "outputs": [],
   "source": [
    "# evaluate model performance\n",
    "perf_lc = data_viz.learning_curve(train_f1_scores, test_f1_scores, \"performance\", flags.cirriculum)"
   ]
  },
  {
   "cell_type": "code",
   "execution_count": null,
   "metadata": {},
   "outputs": [],
   "source": [
    "# evaluate model performance\n",
    "optim_lc = data_viz.learning_curve(train_losses, test_losses, \"optimization\", flags.cirriculum)"
   ]
  },
  {
   "cell_type": "code",
   "execution_count": null,
   "metadata": {},
   "outputs": [],
   "source": [
    "# first convert test_data from subset -> tensor, split corrupt vs target sets\n",
    "tensor_test_data = torch.tensor([i.numpy() for i in test_data]).float()\n",
    "corrupt_test_data = tensor_test_data[:,:len(cluster_names)]\n",
    "target = tensor_test_data[:,len(cluster_names):].detach().numpy()"
   ]
  },
  {
   "cell_type": "code",
   "execution_count": null,
   "metadata": {},
   "outputs": [],
   "source": [
    "# Generate probabilities for ROC curve\n",
    "model.eval()\n",
    "with torch.no_grad():\n",
    "    y_probas = model(corrupt_test_data) # predicted probabilities generated by model"
   ]
  },
  {
   "cell_type": "code",
   "execution_count": null,
   "metadata": {},
   "outputs": [],
   "source": [
    "roc = data_viz.my_roc_curve(target, y_probas.numpy())"
   ]
  },
  {
   "cell_type": "code",
   "execution_count": null,
   "metadata": {},
   "outputs": [],
   "source": [
    "util.log_results(roc, optim_lc, perf_lc, flags, model)"
   ]
  },
  {
   "cell_type": "code",
   "execution_count": null,
   "metadata": {},
   "outputs": [],
   "source": []
  },
  {
   "cell_type": "code",
   "execution_count": null,
   "metadata": {},
   "outputs": [],
   "source": []
  },
  {
   "cell_type": "code",
   "execution_count": null,
   "metadata": {},
   "outputs": [],
   "source": [
    "# create embeddings for test set\n",
    "#uncorrupt_test_data = tensor_test_data[:,len(cluster_names):]\n",
    "#tensor_test_data = torch.tensor([i.numpy() for i in test_data]).float()\n",
    "embeddings = train_test.generate_embeddings(model, corrupt_test_data)"
   ]
  },
  {
   "cell_type": "code",
   "execution_count": null,
   "metadata": {},
   "outputs": [],
   "source": [
    "#data_viz.plot_tSNE(embeddings, test_data, num_to_genome, genome_to_tax, test_tax_dict)"
   ]
  },
  {
   "cell_type": "code",
   "execution_count": null,
   "metadata": {},
   "outputs": [],
   "source": [
    "# tSNE for corrupted genomes passed through untrained model\n",
    "untrained_model = models.AutoEncoder(len(cluster_names))\n",
    "untr_embeddings = train_test.generate_embeddings(untrained_model, corrupt_test_data)"
   ]
  },
  {
   "cell_type": "code",
   "execution_count": null,
   "metadata": {},
   "outputs": [],
   "source": [
    "#data_viz.plot_tSNE(untr_embeddings, test_data, num_to_genome, genome_to_tax, test_tax_dict)\n",
    "# data_viz.plot_tSNE(untr_embeddings, test_data, num_to_genome, genome_to_tax, genome_idx_test)"
   ]
  },
  {
   "cell_type": "code",
   "execution_count": null,
   "metadata": {},
   "outputs": [],
   "source": [
    "# Evaluate model and compare against baselines\n",
    "# Get corrupted input set, target set, and predictions set (binarized to 1's and 0's)\n",
    "#corrupt_test_data = tensor_test_data[:,:len(cluster_names)]\n",
    "\n",
    "model.eval()\n",
    "with torch.no_grad():\n",
    "    pred = model.forward(corrupt_test_data).detach().numpy()\n",
    "b_pred = train_test.binarize(pred, flags.replacement_threshold)"
   ]
  },
  {
   "cell_type": "code",
   "execution_count": null,
   "metadata": {},
   "outputs": [],
   "source": [
    "# Generate confusion matrix\n",
    "cm = evaluate.dom_confusion_matrix(b_pred, target, num_to_genome, genome_to_tax, test_tax_dict, genome_idx_test)"
   ]
  },
  {
   "cell_type": "code",
   "execution_count": null,
   "metadata": {},
   "outputs": [],
   "source": [
    "util.log_results(roc, optim_lc, perf_lc, flags, model, cm)"
   ]
  },
  {
   "cell_type": "code",
   "execution_count": null,
   "metadata": {},
   "outputs": [],
   "source": [
    "# Baseline 1: untrained DAE\n",
    "# Generate predictions using an untrained DAE model\n",
    "model.eval()\n",
    "with torch.no_grad():\n",
    "    untr_pred = untrained_model.forward(corrupt_test_data).detach().numpy()\n",
    "untr_b_preds = train_test.binarize(untr_pred, flags.replacement_threshold)"
   ]
  },
  {
   "cell_type": "code",
   "execution_count": null,
   "metadata": {},
   "outputs": [],
   "source": [
    "# if os.path.isfile(flags.DATA_FP+\"rand_b_pred.pt\"):\n",
    "#     print(\"Loading random predictions from file\")\n",
    "#     rand_b_pred = torch.load(flags.DATA_FP+\"rand_b_pred.pt\")\n",
    "# else: \n",
    "#     # This is slow\n",
    "#     print(\"Generating random predictions, this will take a while (~30 min)\")\n",
    "#     rand_b_pred = evaluate.generate_baseline(num_features, train_data, \n",
    "#                                              corrupt_test_data, \"base_random\", cluster_names)\n",
    "#     torch.save(rand_b_pred, flags.DATA_FP+\"rand_b_pred.pt\")\n",
    "\n",
    "rand_b_pred = evaluate.generate_baseline(num_features, train_data, \n",
    "                                         corrupt_test_data, \"base_random\", cluster_names)"
   ]
  },
  {
   "cell_type": "code",
   "execution_count": null,
   "metadata": {},
   "outputs": [],
   "source": [
    "torch.save(rand_b_pred, flags.DATA_FP+\"rand_b_pred.pt\")"
   ]
  },
  {
   "cell_type": "code",
   "execution_count": null,
   "metadata": {},
   "outputs": [],
   "source": [
    "# if os.path.isfile(flags.DATA_FP+\"smart_b_pred.pt\"):\n",
    "#     print(\"Loading smart random predictions from file\")\n",
    "#     smart_b_pred = torch.load(flags.DATA_FP+\"smart_b_pred.pt\")\n",
    "# else:\n",
    "#     print(\"Generating smart random predictions, this will take a while (~30 min)\")\n",
    "#     smart_b_pred = evaluate.generate_baseline(num_features, train_data, \n",
    "#                                           corrupt_test_data, \"smart_random\", cluster_names)\n",
    "#     torch.save(smart_b_pred, flags.DATA_FP+\"smart_b_pred.pt\")\n",
    "\n",
    "smart_b_pred = evaluate.generate_baseline(num_features, train_data, \n",
    "                                      corrupt_test_data, \"smart_random\", cluster_names)"
   ]
  },
  {
   "cell_type": "code",
   "execution_count": null,
   "metadata": {},
   "outputs": [],
   "source": [
    "torch.save(smart_b_pred, flags.DATA_FP+\"smart_b_pred.pt\")"
   ]
  },
  {
   "cell_type": "code",
   "execution_count": null,
   "metadata": {},
   "outputs": [],
   "source": [
    "import numpy as np\n",
    "np.sum(smart_b_pred == rand_b_pred), np.sum(smart_b_pred != rand_b_pred)"
   ]
  },
  {
   "cell_type": "code",
   "execution_count": null,
   "metadata": {},
   "outputs": [],
   "source": [
    "import pandas as pd\n",
    "hs = evaluate.hamming(target, b_pred)\n",
    "hs_stats = [round(sum(hs)/len(hs),2), round(min(hs),2), round(max(hs),2)]\n",
    "\n",
    "untr_hs = evaluate.hamming(target, untr_b_preds)\n",
    "untr_hs_stats = [round(sum(untr_hs)/len(untr_hs),2), round(min(untr_hs),2), round(max(untr_hs),2)]\n",
    "\n",
    "rand_hs = evaluate.hamming(target, rand_b_pred)\n",
    "rand_hs_stats = [round(sum(rand_hs)/len(rand_hs),2), round(min(rand_hs),2), round(max(rand_hs),2)]\n",
    "\n",
    "smart_hs = evaluate.hamming(target, smart_b_pred)\n",
    "smart_hs_stats = [round(sum(smart_hs)/len(smart_hs),2), round(min(smart_hs),2), round(max(smart_hs),2)]\n",
    "\n",
    "\n",
    "hamming_df = pd.DataFrame([hs_stats, untr_hs_stats, rand_hs_stats, smart_hs_stats], columns=['mean', 'min', 'max'], \n",
    "                            index=[\"DAE trained\", \"DAE untrained\", \"Random chance\", \"Smart random chance\"])\n",
    "hamming_df"
   ]
  },
  {
   "cell_type": "code",
   "execution_count": null,
   "metadata": {},
   "outputs": [],
   "source": [
    "hs[:15]"
   ]
  },
  {
   "cell_type": "code",
   "execution_count": null,
   "metadata": {},
   "outputs": [],
   "source": [
    "evaluate.hamming([1,1,1,1], [1,1,0,0])"
   ]
  },
  {
   "cell_type": "code",
   "execution_count": null,
   "metadata": {},
   "outputs": [],
   "source": [
    "from sklearn.metrics import hamming_loss"
   ]
  },
  {
   "cell_type": "code",
   "execution_count": null,
   "metadata": {},
   "outputs": [],
   "source": [
    "hamming_loss([1,1,1,1,0,0,0], [1,1,0,0,0,0,0])"
   ]
  },
  {
   "cell_type": "code",
   "execution_count": null,
   "metadata": {},
   "outputs": [],
   "source": []
  }
 ],
 "metadata": {
  "kernelspec": {
   "display_name": "Python 3",
   "language": "python",
   "name": "python3"
  },
  "language_info": {
   "codemirror_mode": {
    "name": "ipython",
    "version": 3
   },
   "file_extension": ".py",
   "mimetype": "text/x-python",
   "name": "python",
   "nbconvert_exporter": "python",
   "pygments_lexer": "ipython3",
   "version": "3.7.6"
  }
 },
 "nbformat": 4,
 "nbformat_minor": 4
}
