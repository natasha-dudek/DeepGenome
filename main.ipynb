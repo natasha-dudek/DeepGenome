{
 "cells": [
  {
   "cell_type": "code",
   "execution_count": 1,
   "metadata": {},
   "outputs": [],
   "source": [
    "# automatically upload modules\n",
    "%load_ext autoreload\n",
    "%autoreload 2"
   ]
  },
  {
   "cell_type": "code",
   "execution_count": 2,
   "metadata": {},
   "outputs": [],
   "source": [
    "from argparse import Namespace\n",
    "import os\n",
    "import pandas as pd\n",
    "import pickle\n",
    "from ray import tune\n",
    "from ray.tune.schedulers import ASHAScheduler\n",
    "import torch\n",
    "import pickle\n",
    "\n",
    "from genome_embeddings import data_viz\n",
    "from genome_embeddings import evaluate\n",
    "from genome_embeddings import models\n",
    "from genome_embeddings import train_test\n",
    "from genome_embeddings import util\n",
    "from genome_embeddings import trainable # import before ray (?)\n",
    "import ray"
   ]
  },
  {
   "cell_type": "code",
   "execution_count": 3,
   "metadata": {},
   "outputs": [],
   "source": [
    "flags = Namespace(\n",
    "    DATA_FP = '/Users/natasha/Desktop/mcgill_postdoc/ncbi_genomes/genome_embeddings/data/', \n",
    "    SAVE_FP = '/Users/natasha/Desktop/mcgill_postdoc/ncbi_genomes/genome_embeddings/',\n",
    "    KEGG_FP = '/Users/natasha/Desktop/mcgill_postdoc/ncbi_genomes/kegg_dataset/',\n",
    "    data_source = 'kegg', #['get_homologues' | 'kegg']\n",
    "    n_test = 0.1, # train-test split, n * 100 = % of data that goes into test set (e.g.: 0.1 -> 10%)\n",
    "    num_epochs = 1, # IF CIRRICULUM, DO NOT SET < 3\n",
    "    batch_size = 128,\n",
    "    lr = 1e-3,\n",
    "    print_every = 50, # print loss every n batches during training (5)\n",
    "    replacement_threshold = 0.5, # probability over which binarizer converts to a 1\n",
    "    num_corruptions = 100, # number of corrupted versions of a genome to produce\n",
    "    corruption_fraction = 0.5, # fraction of genes to retain during corruption process\n",
    "    phy_mode = \"bacteria_only\", # training with only bacteria vs also euk/arch\n",
    "    cirriculum = False, # implement cirriculum learning based on gene count\n",
    "    rare_threshold = 10, # drop features that occur fewer than this times in training ds \n",
    "    weight_decay=0.1 # L2 regularization\n",
    "    )"
   ]
  },
  {
   "cell_type": "code",
   "execution_count": 4,
   "metadata": {},
   "outputs": [],
   "source": [
    "#(lambda spec: 10**(-10 * np.random.rand()))(1)"
   ]
  },
  {
   "cell_type": "markdown",
   "metadata": {},
   "source": [
    "### Data exploration + preprocessing "
   ]
  },
  {
   "cell_type": "code",
   "execution_count": 5,
   "metadata": {
    "scrolled": true
   },
   "outputs": [
    {
     "name": "stdout",
     "output_type": "stream",
     "text": [
      "Genome representations already exist\n"
     ]
    }
   ],
   "source": [
    "# First create genome representations (very slow)\n",
    "# Each genome is a list of KO's and/or KEGG modules\n",
    "if os.path.isfile(flags.DATA_FP+'genome_to_mod.csv'):\n",
    "    print(\"Genome representations already exist\")\n",
    "else:\n",
    "    genome_rep.genome_kos(flags.KEGG_FP)\n",
    "    print(\"Must generate genome representations from scratch. This will take several hours.\")"
   ]
  },
  {
   "cell_type": "code",
   "execution_count": 6,
   "metadata": {},
   "outputs": [],
   "source": [
    "df, cluster_names = util.load_data(flags.DATA_FP, flags.data_source)\n",
    "genome_to_tax = util.genome_to_tax(df)\n",
    "with open('cluster_names.txt', 'wb') as filehandle:\n",
    "    pickle.dump(cluster_names, filehandle)\n"
   ]
  },
  {
   "cell_type": "code",
   "execution_count": 7,
   "metadata": {},
   "outputs": [],
   "source": [
    "#data_viz.tax_distrib(df, genome_to_tax)"
   ]
  },
  {
   "cell_type": "code",
   "execution_count": 8,
   "metadata": {},
   "outputs": [],
   "source": [
    "#data_viz.module_stats(df)"
   ]
  },
  {
   "cell_type": "code",
   "execution_count": 9,
   "metadata": {},
   "outputs": [],
   "source": [
    "#data_viz.genes_per_genome(df)"
   ]
  },
  {
   "cell_type": "code",
   "execution_count": 10,
   "metadata": {},
   "outputs": [],
   "source": [
    "# genome_to_tax2 = {}\n",
    "# for i in df.index:\n",
    "#     genome_to_tax2[i] = genome_to_tax[i]\n",
    "    \n",
    "# # Create dict mapping each genome to a unique numerical ID\n",
    "# genome_to_num ={}\n",
    "# for i,genome in enumerate(df.index):\n",
    "#     genome_to_num[genome] = i\n",
    "    \n",
    "# num_to_genome = {v: k for k, v in genome_to_num.items()}"
   ]
  },
  {
   "cell_type": "code",
   "execution_count": 11,
   "metadata": {},
   "outputs": [
    {
     "name": "stdout",
     "output_type": "stream",
     "text": [
      "Train-test split already exists, loading from file\n"
     ]
    }
   ],
   "source": [
    "# Split train-test sets in a phylogenetically balanced manner \n",
    "if os.path.isfile(flags.DATA_FP+'uncorrupted_train_balanced.csv'):\n",
    "    print(\"Train-test split already exists, loading from file\")\n",
    "    train_orig = pd.read_csv(flags.DATA_FP+\"uncorrupted_train_balanced.csv\", index_col=0)    \n",
    "    test_orig = pd.read_csv(flags.DATA_FP+\"uncorrupted_test_balanced.csv\", index_col=0)    \n",
    "\n",
    "else:\n",
    "        \n",
    "#     genome_to_tax2 = {}\n",
    "\n",
    "#     for i in df.index:\n",
    "#         genome_to_tax2[i] = genome_to_tax[i]\n",
    "\n",
    "    # Create dict mapping each genome to a unique numerical ID\n",
    "    genome_to_num ={}\n",
    "    for i,genome in enumerate(df.index):\n",
    "        genome_to_num[genome] = i\n",
    "\n",
    "    num_to_genome = {v: k for k, v in genome_to_num.items()}\n",
    "        \n",
    "    print(\"Generating train-test split\")\n",
    "    train_orig, test_orig = util.balanced_split(df, flags.n_test, genome_to_tax, \n",
    "                                                num_to_genome, flags.DATA_FP)    \n",
    "    train_orig.to_csv(flags.DATA_FP+'uncorrupted_train_balanced.csv')\n",
    "    test_orig.to_csv(flags.DATA_FP+'uncorrupted_test_balanced.csv')"
   ]
  },
  {
   "cell_type": "code",
   "execution_count": 12,
   "metadata": {},
   "outputs": [],
   "source": [
    "#data_viz.hist_prob_ko(train_orig)"
   ]
  },
  {
   "cell_type": "code",
   "execution_count": null,
   "metadata": {},
   "outputs": [],
   "source": []
  },
  {
   "cell_type": "code",
   "execution_count": 13,
   "metadata": {},
   "outputs": [],
   "source": [
    "if flags.phy_mode == \"bacteria_only\":\n",
    "    train_genomes = train_orig.index.to_list()\n",
    "    test_genomes = test_orig.index.to_list()\n",
    "    \n",
    "    unf_train_data, train_tax_dict = util.bacteria_only(train_orig, train_genomes, genome_to_tax)\n",
    "    unf_test_data, test_tax_dict = util.bacteria_only(test_orig, test_genomes, genome_to_tax)"
   ]
  },
  {
   "cell_type": "code",
   "execution_count": 14,
   "metadata": {},
   "outputs": [],
   "source": [
    "# Remove rare features from train + test datasets\n",
    "# Rare = fewer than n occurences in training dataset\n",
    "# Last argument specifies n, set to correspond to 1% of genomes (3432 genomes -> n = 34)\n",
    "train_data, test_data, cluster_names = util.remove_rare(unf_train_data, unf_test_data, \n",
    "                                                        cluster_names, unf_train_data.shape[0]*0.01)"
   ]
  },
  {
   "cell_type": "code",
   "execution_count": 15,
   "metadata": {},
   "outputs": [
    {
     "name": "stdout",
     "output_type": "stream",
     "text": [
      "Corrupted genomes already exist\n"
     ]
    }
   ],
   "source": [
    "# Produce corrupted genomes\n",
    "# Could eventually do re-sampling / extra-corrupting to have more examples of \"rare\" genome types\n",
    "#    e.g.: those from underrepresented groups M00003   \n",
    "\n",
    "if os.path.isfile(flags.DATA_FP+'corrupted_train.pt'):\n",
    "    print(\"Corrupted genomes already exist\")\n",
    "#    train_data = torch.load(flags.DATA_FP+\"corrupted_train.pt\")\n",
    "#    test_data = torch.load(flags.DATA_FP+\"corrupted_test.pt\")\n",
    "#    genome_idx_train = torch.load(flags.DATA_FP+\"genome_idx_train.pt\")\n",
    "#    genome_idx_test = torch.load(flags.DATA_FP+\"genome_idx_test.pt\")\n",
    "else:\n",
    "    print(\"Generating corrupted dataset from scratch with\",flags.num_corruptions,\"corruptions per genome\")\n",
    "    train_data, genome_idx_train = util.corrupt(train_data, flags.num_corruptions, flags.corruption_fraction, \n",
    "                                                cluster_names, \"train\", flags.DATA_FP)\n",
    "\n",
    "    test_data, genome_idx_test = util.corrupt(test_data, flags.num_corruptions, flags.corruption_fraction, \n",
    "                                              cluster_names, \"test\", flags.DATA_FP)"
   ]
  },
  {
   "cell_type": "code",
   "execution_count": 16,
   "metadata": {},
   "outputs": [],
   "source": [
    "# print((\"There are %s genomes and %s features in the training dataset\") % \n",
    "#       (train_data.shape[0],int(train_data.shape[1]/2)))\n",
    "\n",
    "# print((\"There are %s genomes and %s features in the test dataset\") % \n",
    "#       (test_data.shape[0],int(test_data.shape[1]/2)))"
   ]
  },
  {
   "cell_type": "code",
   "execution_count": 17,
   "metadata": {},
   "outputs": [],
   "source": [
    "# if flags.cirriculum:\n",
    "#     loaders = util.cirriculum_load(train_data, test_data, flags.batch_size, \n",
    "#                            flags.batch_size, cluster_names)\n",
    "# else:\n",
    "#     loaders = util.dataloaders(train_data, test_data, flags.batch_size, \n",
    "#                                flags.batch_size, cluster_names)"
   ]
  },
  {
   "cell_type": "code",
   "execution_count": null,
   "metadata": {},
   "outputs": [],
   "source": [
    "    "
   ]
  },
  {
   "cell_type": "markdown",
   "metadata": {},
   "source": [
    "### Define and train network"
   ]
  },
  {
   "cell_type": "code",
   "execution_count": 18,
   "metadata": {},
   "outputs": [
    {
     "data": {
      "text/plain": [
       "7065"
      ]
     },
     "execution_count": 18,
     "metadata": {},
     "output_type": "execute_result"
    }
   ],
   "source": [
    "train_data.shape[1]"
   ]
  },
  {
   "cell_type": "code",
   "execution_count": 19,
   "metadata": {},
   "outputs": [],
   "source": [
    "#num_features = train_data.dataset.shape[1]\n",
    "num_features = train_data.shape[1] # Number of features in the entire dataset (train + test)"
   ]
  },
  {
   "cell_type": "code",
   "execution_count": 20,
   "metadata": {},
   "outputs": [
    {
     "name": "stdout",
     "output_type": "stream",
     "text": [
      "AutoEncoder(\n",
      "  (e1): Linear(in_features=7065, out_features=3532, bias=True)\n",
      "  (e2): Linear(in_features=3532, out_features=1766, bias=True)\n",
      "  (e3): Linear(in_features=1766, out_features=1177, bias=True)\n",
      "  (e4): Linear(in_features=1177, out_features=883, bias=True)\n",
      "  (e5): Linear(in_features=883, out_features=706, bias=True)\n",
      "  (lv): Linear(in_features=706, out_features=588, bias=True)\n",
      "  (d1): Linear(in_features=588, out_features=706, bias=True)\n",
      "  (d2): Linear(in_features=706, out_features=883, bias=True)\n",
      "  (d3): Linear(in_features=883, out_features=1177, bias=True)\n",
      "  (d4): Linear(in_features=1177, out_features=1766, bias=True)\n",
      "  (d5): Linear(in_features=1766, out_features=3532, bias=True)\n",
      "  (output_layer): Linear(in_features=3532, out_features=7065, bias=True)\n",
      ")\n"
     ]
    }
   ],
   "source": [
    "# define the network\n",
    "model = models.AutoEncoder(num_features)\n",
    "torch.save(model, flags.DATA_FP+\"model.pt\")\n",
    "print(model)"
   ]
  },
  {
   "cell_type": "code",
   "execution_count": 38,
   "metadata": {},
   "outputs": [],
   "source": [
    "train_vars = {\"batch_size\": tune.grid_search([32, 64]), # [32, 64, 128, 256]\n",
    "              \"num_epochs\": flags.num_epochs,\n",
    "              \"replacement_threshold\": flags.replacement_threshold,\n",
    "              \"lr\": tune.grid_search([0.1, 0.0001]),\n",
    "              \"weight_decay\": tune.grid_search([0.01, 0.00001]) \n",
    "}"
   ]
  },
  {
   "cell_type": "code",
   "execution_count": 39,
   "metadata": {},
   "outputs": [
    {
     "name": "stderr",
     "output_type": "stream",
     "text": [
      "2020-07-03 16:40:41,434\tINFO resource_spec.py:212 -- Starting Ray with 10.84 GiB memory available for workers and up to 5.44 GiB for objects. You can adjust these settings with ray.init(memory=<bytes>, object_store_memory=<bytes>).\n",
      "2020-07-03 16:40:41,727\tINFO services.py:1170 -- View the Ray dashboard at \u001b[1m\u001b[32mlocalhost:8265\u001b[39m\u001b[22m\n"
     ]
    },
    {
     "data": {
      "text/plain": [
       "{'node_ip_address': '192.168.2.23',\n",
       " 'raylet_ip_address': '192.168.2.23',\n",
       " 'redis_address': '192.168.2.23:32122',\n",
       " 'object_store_address': '/tmp/ray/session_2020-07-03_16-40-41_413523_84062/sockets/plasma_store',\n",
       " 'raylet_socket_name': '/tmp/ray/session_2020-07-03_16-40-41_413523_84062/sockets/raylet',\n",
       " 'webui_url': 'localhost:8265',\n",
       " 'session_dir': '/tmp/ray/session_2020-07-03_16-40-41_413523_84062'}"
      ]
     },
     "execution_count": 39,
     "metadata": {},
     "output_type": "execute_result"
    }
   ],
   "source": [
    "ray.shutdown()\n",
    "ray.init(local_mode=True)"
   ]
  },
  {
   "cell_type": "code",
   "execution_count": 40,
   "metadata": {},
   "outputs": [
    {
     "name": "stderr",
     "output_type": "stream",
     "text": [
      "2020-07-03 16:40:42,035\tINFO trainable.py:217 -- Getting current IP.\n"
     ]
    },
    {
     "name": "stdout",
     "output_type": "stream",
     "text": [
      "batch_size 32\n",
      "time to load data from file 5.245208740234375e-06\n",
      "time to create dataloaders 0.0001270771026611328\n",
      "done training\n"
     ]
    },
    {
     "name": "stderr",
     "output_type": "stream",
     "text": [
      "2020-07-03 16:40:47,725\tWARNING util.py:137 -- The `start_trial` operation took 5.7159740924835205 seconds to complete, which may be a performance bottleneck.\n"
     ]
    },
    {
     "name": "stdout",
     "output_type": "stream",
     "text": [
      "f1 0.6040893026509886\n"
     ]
    },
    {
     "data": {
      "text/html": [
       "== Status ==<br>Memory usage on this node: 19.3/32.0 GiB<br>Using FIFO scheduling algorithm.<br>Resources requested: 2/12 CPUs, 0/0 GPUs, 0.0/10.84 GiB heap, 0.0/3.71 GiB objects<br>Result logdir: /Users/natasha/ray_results/exp_1<br>Number of trials: 8 (7 PENDING, 1 RUNNING)<br><table>\n",
       "<thead>\n",
       "<tr><th>Trial name    </th><th>status  </th><th>loc  </th><th style=\"text-align: right;\">  batch_size</th><th style=\"text-align: right;\">    lr</th><th style=\"text-align: right;\">  weight_decay</th></tr>\n",
       "</thead>\n",
       "<tbody>\n",
       "<tr><td>train_AE_00000</td><td>RUNNING </td><td>     </td><td style=\"text-align: right;\">          32</td><td style=\"text-align: right;\">0.1   </td><td style=\"text-align: right;\">         0.01 </td></tr>\n",
       "<tr><td>train_AE_00001</td><td>PENDING </td><td>     </td><td style=\"text-align: right;\">          64</td><td style=\"text-align: right;\">0.1   </td><td style=\"text-align: right;\">         0.01 </td></tr>\n",
       "<tr><td>train_AE_00002</td><td>PENDING </td><td>     </td><td style=\"text-align: right;\">          32</td><td style=\"text-align: right;\">0.0001</td><td style=\"text-align: right;\">         0.01 </td></tr>\n",
       "<tr><td>train_AE_00003</td><td>PENDING </td><td>     </td><td style=\"text-align: right;\">          64</td><td style=\"text-align: right;\">0.0001</td><td style=\"text-align: right;\">         0.01 </td></tr>\n",
       "<tr><td>train_AE_00004</td><td>PENDING </td><td>     </td><td style=\"text-align: right;\">          32</td><td style=\"text-align: right;\">0.1   </td><td style=\"text-align: right;\">         1e-05</td></tr>\n",
       "<tr><td>train_AE_00005</td><td>PENDING </td><td>     </td><td style=\"text-align: right;\">          64</td><td style=\"text-align: right;\">0.1   </td><td style=\"text-align: right;\">         1e-05</td></tr>\n",
       "<tr><td>train_AE_00006</td><td>PENDING </td><td>     </td><td style=\"text-align: right;\">          32</td><td style=\"text-align: right;\">0.0001</td><td style=\"text-align: right;\">         1e-05</td></tr>\n",
       "<tr><td>train_AE_00007</td><td>PENDING </td><td>     </td><td style=\"text-align: right;\">          64</td><td style=\"text-align: right;\">0.0001</td><td style=\"text-align: right;\">         1e-05</td></tr>\n",
       "</tbody>\n",
       "</table><br><br>"
      ],
      "text/plain": [
       "<IPython.core.display.HTML object>"
      ]
     },
     "metadata": {},
     "output_type": "display_data"
    },
    {
     "name": "stderr",
     "output_type": "stream",
     "text": [
      "2020-07-03 16:40:47,740\tINFO trainable.py:217 -- Getting current IP.\n"
     ]
    },
    {
     "name": "stdout",
     "output_type": "stream",
     "text": [
      "batch_size 64\n",
      "time to load data from file 3.0994415283203125e-06\n",
      "time to create dataloaders 8.20159912109375e-05\n",
      "done training\n"
     ]
    },
    {
     "name": "stderr",
     "output_type": "stream",
     "text": [
      "2020-07-03 16:40:53,149\tWARNING util.py:137 -- The `start_trial` operation took 5.415532827377319 seconds to complete, which may be a performance bottleneck.\n"
     ]
    },
    {
     "name": "stdout",
     "output_type": "stream",
     "text": [
      "f1 0.5801725424880696\n"
     ]
    },
    {
     "data": {
      "text/html": [
       "== Status ==<br>Memory usage on this node: 19.6/32.0 GiB<br>Using FIFO scheduling algorithm.<br>Resources requested: 4/12 CPUs, 0/0 GPUs, 0.0/10.84 GiB heap, 0.0/3.71 GiB objects<br>Result logdir: /Users/natasha/ray_results/exp_1<br>Number of trials: 8 (6 PENDING, 2 RUNNING)<br><table>\n",
       "<thead>\n",
       "<tr><th>Trial name    </th><th>status  </th><th>loc  </th><th style=\"text-align: right;\">  batch_size</th><th style=\"text-align: right;\">    lr</th><th style=\"text-align: right;\">  weight_decay</th></tr>\n",
       "</thead>\n",
       "<tbody>\n",
       "<tr><td>train_AE_00000</td><td>RUNNING </td><td>     </td><td style=\"text-align: right;\">          32</td><td style=\"text-align: right;\">0.1   </td><td style=\"text-align: right;\">         0.01 </td></tr>\n",
       "<tr><td>train_AE_00001</td><td>RUNNING </td><td>     </td><td style=\"text-align: right;\">          64</td><td style=\"text-align: right;\">0.1   </td><td style=\"text-align: right;\">         0.01 </td></tr>\n",
       "<tr><td>train_AE_00002</td><td>PENDING </td><td>     </td><td style=\"text-align: right;\">          32</td><td style=\"text-align: right;\">0.0001</td><td style=\"text-align: right;\">         0.01 </td></tr>\n",
       "<tr><td>train_AE_00003</td><td>PENDING </td><td>     </td><td style=\"text-align: right;\">          64</td><td style=\"text-align: right;\">0.0001</td><td style=\"text-align: right;\">         0.01 </td></tr>\n",
       "<tr><td>train_AE_00004</td><td>PENDING </td><td>     </td><td style=\"text-align: right;\">          32</td><td style=\"text-align: right;\">0.1   </td><td style=\"text-align: right;\">         1e-05</td></tr>\n",
       "<tr><td>train_AE_00005</td><td>PENDING </td><td>     </td><td style=\"text-align: right;\">          64</td><td style=\"text-align: right;\">0.1   </td><td style=\"text-align: right;\">         1e-05</td></tr>\n",
       "<tr><td>train_AE_00006</td><td>PENDING </td><td>     </td><td style=\"text-align: right;\">          32</td><td style=\"text-align: right;\">0.0001</td><td style=\"text-align: right;\">         1e-05</td></tr>\n",
       "<tr><td>train_AE_00007</td><td>PENDING </td><td>     </td><td style=\"text-align: right;\">          64</td><td style=\"text-align: right;\">0.0001</td><td style=\"text-align: right;\">         1e-05</td></tr>\n",
       "</tbody>\n",
       "</table><br><br>"
      ],
      "text/plain": [
       "<IPython.core.display.HTML object>"
      ]
     },
     "metadata": {},
     "output_type": "display_data"
    },
    {
     "name": "stderr",
     "output_type": "stream",
     "text": [
      "2020-07-03 16:40:53,160\tINFO trainable.py:217 -- Getting current IP.\n"
     ]
    },
    {
     "name": "stdout",
     "output_type": "stream",
     "text": [
      "batch_size 32\n",
      "time to load data from file 3.0994415283203125e-06\n",
      "time to create dataloaders 8.416175842285156e-05\n",
      "done training\n"
     ]
    },
    {
     "name": "stderr",
     "output_type": "stream",
     "text": [
      "2020-07-03 16:40:57,067\tWARNING util.py:137 -- The `start_trial` operation took 3.9145758152008057 seconds to complete, which may be a performance bottleneck.\n",
      "2020-07-03 16:40:57,074\tINFO trainable.py:217 -- Getting current IP.\n"
     ]
    },
    {
     "name": "stdout",
     "output_type": "stream",
     "text": [
      "f1 0.4731703641918698\n",
      "batch_size 64\n",
      "time to load data from file 2.86102294921875e-06\n",
      "time to create dataloaders 9.489059448242188e-05\n",
      "done training\n"
     ]
    },
    {
     "name": "stderr",
     "output_type": "stream",
     "text": [
      "2020-07-03 16:41:01,976\tWARNING util.py:137 -- The `start_trial` operation took 4.907081842422485 seconds to complete, which may be a performance bottleneck.\n"
     ]
    },
    {
     "name": "stdout",
     "output_type": "stream",
     "text": [
      "f1 0.4716490721208409\n"
     ]
    },
    {
     "data": {
      "text/html": [
       "== Status ==<br>Memory usage on this node: 19.6/32.0 GiB<br>Using FIFO scheduling algorithm.<br>Resources requested: 8/12 CPUs, 0/0 GPUs, 0.0/10.84 GiB heap, 0.0/3.71 GiB objects<br>Result logdir: /Users/natasha/ray_results/exp_1<br>Number of trials: 8 (4 PENDING, 4 RUNNING)<br><table>\n",
       "<thead>\n",
       "<tr><th>Trial name    </th><th>status  </th><th>loc  </th><th style=\"text-align: right;\">  batch_size</th><th style=\"text-align: right;\">    lr</th><th style=\"text-align: right;\">  weight_decay</th></tr>\n",
       "</thead>\n",
       "<tbody>\n",
       "<tr><td>train_AE_00000</td><td>RUNNING </td><td>     </td><td style=\"text-align: right;\">          32</td><td style=\"text-align: right;\">0.1   </td><td style=\"text-align: right;\">         0.01 </td></tr>\n",
       "<tr><td>train_AE_00001</td><td>RUNNING </td><td>     </td><td style=\"text-align: right;\">          64</td><td style=\"text-align: right;\">0.1   </td><td style=\"text-align: right;\">         0.01 </td></tr>\n",
       "<tr><td>train_AE_00002</td><td>RUNNING </td><td>     </td><td style=\"text-align: right;\">          32</td><td style=\"text-align: right;\">0.0001</td><td style=\"text-align: right;\">         0.01 </td></tr>\n",
       "<tr><td>train_AE_00003</td><td>RUNNING </td><td>     </td><td style=\"text-align: right;\">          64</td><td style=\"text-align: right;\">0.0001</td><td style=\"text-align: right;\">         0.01 </td></tr>\n",
       "<tr><td>train_AE_00004</td><td>PENDING </td><td>     </td><td style=\"text-align: right;\">          32</td><td style=\"text-align: right;\">0.1   </td><td style=\"text-align: right;\">         1e-05</td></tr>\n",
       "<tr><td>train_AE_00005</td><td>PENDING </td><td>     </td><td style=\"text-align: right;\">          64</td><td style=\"text-align: right;\">0.1   </td><td style=\"text-align: right;\">         1e-05</td></tr>\n",
       "<tr><td>train_AE_00006</td><td>PENDING </td><td>     </td><td style=\"text-align: right;\">          32</td><td style=\"text-align: right;\">0.0001</td><td style=\"text-align: right;\">         1e-05</td></tr>\n",
       "<tr><td>train_AE_00007</td><td>PENDING </td><td>     </td><td style=\"text-align: right;\">          64</td><td style=\"text-align: right;\">0.0001</td><td style=\"text-align: right;\">         1e-05</td></tr>\n",
       "</tbody>\n",
       "</table><br><br>"
      ],
      "text/plain": [
       "<IPython.core.display.HTML object>"
      ]
     },
     "metadata": {},
     "output_type": "display_data"
    },
    {
     "name": "stderr",
     "output_type": "stream",
     "text": [
      "2020-07-03 16:41:01,991\tINFO trainable.py:217 -- Getting current IP.\n"
     ]
    },
    {
     "name": "stdout",
     "output_type": "stream",
     "text": [
      "batch_size 32\n",
      "time to load data from file 2.86102294921875e-06\n",
      "time to create dataloaders 8.106231689453125e-05\n",
      "done training\n"
     ]
    },
    {
     "name": "stderr",
     "output_type": "stream",
     "text": [
      "2020-07-03 16:41:05,776\tWARNING util.py:137 -- The `start_trial` operation took 3.791724920272827 seconds to complete, which may be a performance bottleneck.\n",
      "2020-07-03 16:41:05,784\tINFO trainable.py:217 -- Getting current IP.\n"
     ]
    },
    {
     "name": "stdout",
     "output_type": "stream",
     "text": [
      "f1 0.605495239240283\n",
      "batch_size 64\n",
      "time to load data from file 1.9073486328125e-06\n",
      "time to create dataloaders 8.7738037109375e-05\n",
      "done training\n"
     ]
    },
    {
     "name": "stderr",
     "output_type": "stream",
     "text": [
      "2020-07-03 16:41:10,454\tWARNING util.py:137 -- The `start_trial` operation took 4.677414894104004 seconds to complete, which may be a performance bottleneck.\n"
     ]
    },
    {
     "name": "stdout",
     "output_type": "stream",
     "text": [
      "f1 0.5984394735203908\n"
     ]
    },
    {
     "data": {
      "text/html": [
       "== Status ==<br>Memory usage on this node: 19.6/32.0 GiB<br>Using FIFO scheduling algorithm.<br>Resources requested: 12/12 CPUs, 0/0 GPUs, 0.0/10.84 GiB heap, 0.0/3.71 GiB objects<br>Result logdir: /Users/natasha/ray_results/exp_1<br>Number of trials: 8 (2 PENDING, 6 RUNNING)<br><table>\n",
       "<thead>\n",
       "<tr><th>Trial name    </th><th>status  </th><th>loc  </th><th style=\"text-align: right;\">  batch_size</th><th style=\"text-align: right;\">    lr</th><th style=\"text-align: right;\">  weight_decay</th></tr>\n",
       "</thead>\n",
       "<tbody>\n",
       "<tr><td>train_AE_00000</td><td>RUNNING </td><td>     </td><td style=\"text-align: right;\">          32</td><td style=\"text-align: right;\">0.1   </td><td style=\"text-align: right;\">         0.01 </td></tr>\n",
       "<tr><td>train_AE_00001</td><td>RUNNING </td><td>     </td><td style=\"text-align: right;\">          64</td><td style=\"text-align: right;\">0.1   </td><td style=\"text-align: right;\">         0.01 </td></tr>\n",
       "<tr><td>train_AE_00002</td><td>RUNNING </td><td>     </td><td style=\"text-align: right;\">          32</td><td style=\"text-align: right;\">0.0001</td><td style=\"text-align: right;\">         0.01 </td></tr>\n",
       "<tr><td>train_AE_00003</td><td>RUNNING </td><td>     </td><td style=\"text-align: right;\">          64</td><td style=\"text-align: right;\">0.0001</td><td style=\"text-align: right;\">         0.01 </td></tr>\n",
       "<tr><td>train_AE_00004</td><td>RUNNING </td><td>     </td><td style=\"text-align: right;\">          32</td><td style=\"text-align: right;\">0.1   </td><td style=\"text-align: right;\">         1e-05</td></tr>\n",
       "<tr><td>train_AE_00005</td><td>RUNNING </td><td>     </td><td style=\"text-align: right;\">          64</td><td style=\"text-align: right;\">0.1   </td><td style=\"text-align: right;\">         1e-05</td></tr>\n",
       "<tr><td>train_AE_00006</td><td>PENDING </td><td>     </td><td style=\"text-align: right;\">          32</td><td style=\"text-align: right;\">0.0001</td><td style=\"text-align: right;\">         1e-05</td></tr>\n",
       "<tr><td>train_AE_00007</td><td>PENDING </td><td>     </td><td style=\"text-align: right;\">          64</td><td style=\"text-align: right;\">0.0001</td><td style=\"text-align: right;\">         1e-05</td></tr>\n",
       "</tbody>\n",
       "</table><br><br>"
      ],
      "text/plain": [
       "<IPython.core.display.HTML object>"
      ]
     },
     "metadata": {},
     "output_type": "display_data"
    },
    {
     "name": "stdout",
     "output_type": "stream",
     "text": [
      "Result for train_AE_00002:\n",
      "  date: 2020-07-03_16-40-57\n",
      "  done: false\n",
      "  experiment_id: 9eea4b1f5f214fd6ae0b197259c5d9ec\n",
      "  experiment_tag: 2_batch_size=32,lr=0.0001,weight_decay=0.01\n",
      "  hostname: natashas-MacBook-Pro.local\n",
      "  iterations_since_restore: 1\n",
      "  mean_accuracy: 0.4731703641918698\n",
      "  node_ip: 192.168.2.23\n",
      "  pid: 84062\n",
      "  time_since_restore: 3.9056050777435303\n",
      "  time_this_iter_s: 3.9056050777435303\n",
      "  time_total_s: 3.9056050777435303\n",
      "  timestamp: 1593808857\n",
      "  timesteps_since_restore: 0\n",
      "  training_iteration: 1\n",
      "  trial_id: '00002'\n",
      "  \n",
      "Result for train_AE_00003:\n",
      "  date: 2020-07-03_16-41-01\n",
      "  done: false\n",
      "  experiment_id: 4bd3f752c8cc476589ee4bd8fa7cf645\n",
      "  experiment_tag: 3_batch_size=64,lr=0.0001,weight_decay=0.01\n",
      "  hostname: natashas-MacBook-Pro.local\n",
      "  iterations_since_restore: 1\n",
      "  mean_accuracy: 0.4716490721208409\n",
      "  node_ip: 192.168.2.23\n",
      "  pid: 84062\n",
      "  time_since_restore: 4.898222208023071\n",
      "  time_this_iter_s: 4.898222208023071\n",
      "  time_total_s: 4.898222208023071\n",
      "  timestamp: 1593808861\n",
      "  timesteps_since_restore: 0\n",
      "  training_iteration: 1\n",
      "  trial_id: '00003'\n",
      "  \n"
     ]
    },
    {
     "name": "stderr",
     "output_type": "stream",
     "text": [
      "2020-07-03 16:41:10,682\tINFO trainable.py:217 -- Getting current IP.\n"
     ]
    },
    {
     "name": "stdout",
     "output_type": "stream",
     "text": [
      "batch_size 32\n",
      "time to load data from file 1.9073486328125e-06\n",
      "time to create dataloaders 8.130073547363281e-05\n",
      "done training\n"
     ]
    },
    {
     "name": "stderr",
     "output_type": "stream",
     "text": [
      "2020-07-03 16:41:14,188\tWARNING util.py:137 -- The `start_trial` operation took 3.5234758853912354 seconds to complete, which may be a performance bottleneck.\n",
      "2020-07-03 16:41:14,203\tINFO trainable.py:217 -- Getting current IP.\n"
     ]
    },
    {
     "name": "stdout",
     "output_type": "stream",
     "text": [
      "f1 0.4676229318546757\n",
      "batch_size 64\n",
      "time to load data from file 2.1457672119140625e-06\n",
      "time to create dataloaders 8.797645568847656e-05\n",
      "done training\n"
     ]
    },
    {
     "name": "stderr",
     "output_type": "stream",
     "text": [
      "2020-07-03 16:41:18,465\tWARNING util.py:137 -- The `start_trial` operation took 4.268287897109985 seconds to complete, which may be a performance bottleneck.\n"
     ]
    },
    {
     "name": "stdout",
     "output_type": "stream",
     "text": [
      "f1 0.4759355833485823\n"
     ]
    },
    {
     "data": {
      "text/html": [
       "== Status ==<br>Memory usage on this node: 19.6/32.0 GiB<br>Using FIFO scheduling algorithm.<br>Resources requested: 12/12 CPUs, 0/0 GPUs, 0.0/10.84 GiB heap, 0.0/3.71 GiB objects<br>Result logdir: /Users/natasha/ray_results/exp_1<br>Number of trials: 8 (6 RUNNING, 2 TERMINATED)<br><table>\n",
       "<thead>\n",
       "<tr><th>Trial name    </th><th>status    </th><th>loc  </th><th style=\"text-align: right;\">  batch_size</th><th style=\"text-align: right;\">    lr</th><th style=\"text-align: right;\">  weight_decay</th><th style=\"text-align: right;\">     acc</th><th style=\"text-align: right;\">  iter</th><th style=\"text-align: right;\">  total time (s)</th></tr>\n",
       "</thead>\n",
       "<tbody>\n",
       "<tr><td>train_AE_00000</td><td>RUNNING   </td><td>     </td><td style=\"text-align: right;\">          32</td><td style=\"text-align: right;\">0.1   </td><td style=\"text-align: right;\">         0.01 </td><td style=\"text-align: right;\">        </td><td style=\"text-align: right;\">      </td><td style=\"text-align: right;\">                </td></tr>\n",
       "<tr><td>train_AE_00001</td><td>RUNNING   </td><td>     </td><td style=\"text-align: right;\">          64</td><td style=\"text-align: right;\">0.1   </td><td style=\"text-align: right;\">         0.01 </td><td style=\"text-align: right;\">        </td><td style=\"text-align: right;\">      </td><td style=\"text-align: right;\">                </td></tr>\n",
       "<tr><td>train_AE_00002</td><td>TERMINATED</td><td>     </td><td style=\"text-align: right;\">          32</td><td style=\"text-align: right;\">0.0001</td><td style=\"text-align: right;\">         0.01 </td><td style=\"text-align: right;\">0.47317 </td><td style=\"text-align: right;\">     1</td><td style=\"text-align: right;\">         3.90561</td></tr>\n",
       "<tr><td>train_AE_00003</td><td>TERMINATED</td><td>     </td><td style=\"text-align: right;\">          64</td><td style=\"text-align: right;\">0.0001</td><td style=\"text-align: right;\">         0.01 </td><td style=\"text-align: right;\">0.471649</td><td style=\"text-align: right;\">     1</td><td style=\"text-align: right;\">         4.89822</td></tr>\n",
       "<tr><td>train_AE_00004</td><td>RUNNING   </td><td>     </td><td style=\"text-align: right;\">          32</td><td style=\"text-align: right;\">0.1   </td><td style=\"text-align: right;\">         1e-05</td><td style=\"text-align: right;\">        </td><td style=\"text-align: right;\">      </td><td style=\"text-align: right;\">                </td></tr>\n",
       "<tr><td>train_AE_00005</td><td>RUNNING   </td><td>     </td><td style=\"text-align: right;\">          64</td><td style=\"text-align: right;\">0.1   </td><td style=\"text-align: right;\">         1e-05</td><td style=\"text-align: right;\">        </td><td style=\"text-align: right;\">      </td><td style=\"text-align: right;\">                </td></tr>\n",
       "<tr><td>train_AE_00006</td><td>RUNNING   </td><td>     </td><td style=\"text-align: right;\">          32</td><td style=\"text-align: right;\">0.0001</td><td style=\"text-align: right;\">         1e-05</td><td style=\"text-align: right;\">        </td><td style=\"text-align: right;\">      </td><td style=\"text-align: right;\">                </td></tr>\n",
       "<tr><td>train_AE_00007</td><td>RUNNING   </td><td>     </td><td style=\"text-align: right;\">          64</td><td style=\"text-align: right;\">0.0001</td><td style=\"text-align: right;\">         1e-05</td><td style=\"text-align: right;\">        </td><td style=\"text-align: right;\">      </td><td style=\"text-align: right;\">                </td></tr>\n",
       "</tbody>\n",
       "</table><br><br>"
      ],
      "text/plain": [
       "<IPython.core.display.HTML object>"
      ]
     },
     "metadata": {},
     "output_type": "display_data"
    },
    {
     "name": "stdout",
     "output_type": "stream",
     "text": [
      "Result for train_AE_00004:\n",
      "  date: 2020-07-03_16-41-05\n",
      "  done: false\n",
      "  experiment_id: fb8f3b503b154937b746ab62d0eecef4\n",
      "  experiment_tag: 4_batch_size=32,lr=0.1,weight_decay=1e-05\n",
      "  hostname: natashas-MacBook-Pro.local\n",
      "  iterations_since_restore: 1\n",
      "  mean_accuracy: 0.605495239240283\n",
      "  node_ip: 192.168.2.23\n",
      "  pid: 84062\n",
      "  time_since_restore: 3.783276081085205\n",
      "  time_this_iter_s: 3.783276081085205\n",
      "  time_total_s: 3.783276081085205\n",
      "  timestamp: 1593808865\n",
      "  timesteps_since_restore: 0\n",
      "  training_iteration: 1\n",
      "  trial_id: '00004'\n",
      "  \n",
      "Result for train_AE_00005:\n",
      "  date: 2020-07-03_16-41-10\n",
      "  done: false\n",
      "  experiment_id: a1aa4e5fe6774d399f2397653d2e8a58\n",
      "  experiment_tag: 5_batch_size=64,lr=0.1,weight_decay=1e-05\n",
      "  hostname: natashas-MacBook-Pro.local\n",
      "  iterations_since_restore: 1\n",
      "  mean_accuracy: 0.5984394735203908\n",
      "  node_ip: 192.168.2.23\n",
      "  pid: 84062\n",
      "  time_since_restore: 4.668767213821411\n",
      "  time_this_iter_s: 4.668767213821411\n",
      "  time_total_s: 4.668767213821411\n",
      "  timestamp: 1593808870\n",
      "  timesteps_since_restore: 0\n",
      "  training_iteration: 1\n",
      "  trial_id: '00005'\n",
      "  \n",
      "Result for train_AE_00001:\n",
      "  date: 2020-07-03_16-40-53\n",
      "  done: false\n",
      "  experiment_id: a2c64e12c7ee45bb97e147b261cd2228\n",
      "  experiment_tag: 1_batch_size=64,lr=0.1,weight_decay=0.01\n",
      "  hostname: natashas-MacBook-Pro.local\n",
      "  iterations_since_restore: 1\n",
      "  mean_accuracy: 0.5801725424880696\n",
      "  node_ip: 192.168.2.23\n",
      "  pid: 84062\n",
      "  time_since_restore: 5.406414031982422\n",
      "  time_this_iter_s: 5.406414031982422\n",
      "  time_total_s: 5.406414031982422\n",
      "  timestamp: 1593808853\n",
      "  timesteps_since_restore: 0\n",
      "  training_iteration: 1\n",
      "  trial_id: '00001'\n",
      "  \n",
      "Result for train_AE_00007:\n",
      "  date: 2020-07-03_16-41-18\n",
      "  done: false\n",
      "  experiment_id: 797754ad199b4ceb9aa39a81a4416df5\n",
      "  experiment_tag: 7_batch_size=64,lr=0.0001,weight_decay=1e-05\n",
      "  hostname: natashas-MacBook-Pro.local\n",
      "  iterations_since_restore: 1\n",
      "  mean_accuracy: 0.4759355833485823\n",
      "  node_ip: 192.168.2.23\n",
      "  pid: 84062\n",
      "  time_since_restore: 4.260135889053345\n",
      "  time_this_iter_s: 4.260135889053345\n",
      "  time_total_s: 4.260135889053345\n",
      "  timestamp: 1593808878\n",
      "  timesteps_since_restore: 0\n",
      "  training_iteration: 1\n",
      "  trial_id: '00007'\n",
      "  \n",
      "Result for train_AE_00000:\n",
      "  date: 2020-07-03_16-40-47\n",
      "  done: false\n",
      "  experiment_id: 5faa1f76a954432ba4b95ba401502e53\n",
      "  experiment_tag: 0_batch_size=32,lr=0.1,weight_decay=0.01\n",
      "  hostname: natashas-MacBook-Pro.local\n",
      "  iterations_since_restore: 1\n",
      "  mean_accuracy: 0.6040893026509886\n",
      "  node_ip: 192.168.2.23\n",
      "  pid: 84062\n",
      "  time_since_restore: 5.685513019561768\n",
      "  time_this_iter_s: 5.685513019561768\n",
      "  time_total_s: 5.685513019561768\n",
      "  timestamp: 1593808847\n",
      "  timesteps_since_restore: 0\n",
      "  training_iteration: 1\n",
      "  trial_id: '00000'\n",
      "  \n",
      "Result for train_AE_00006:\n",
      "  date: 2020-07-03_16-41-14\n",
      "  done: false\n",
      "  experiment_id: 6872d5e05a024e1ca805c8e077770621\n",
      "  experiment_tag: 6_batch_size=32,lr=0.0001,weight_decay=1e-05\n",
      "  hostname: natashas-MacBook-Pro.local\n",
      "  iterations_since_restore: 1\n",
      "  mean_accuracy: 0.4676229318546757\n",
      "  node_ip: 192.168.2.23\n",
      "  pid: 84062\n",
      "  time_since_restore: 3.5039212703704834\n",
      "  time_this_iter_s: 3.5039212703704834\n",
      "  time_total_s: 3.5039212703704834\n",
      "  timestamp: 1593808874\n",
      "  timesteps_since_restore: 0\n",
      "  training_iteration: 1\n",
      "  trial_id: '00006'\n",
      "  \n"
     ]
    },
    {
     "data": {
      "text/html": [
       "== Status ==<br>Memory usage on this node: 18.4/32.0 GiB<br>Using FIFO scheduling algorithm.<br>Resources requested: 0/12 CPUs, 0/0 GPUs, 0.0/10.84 GiB heap, 0.0/3.71 GiB objects<br>Result logdir: /Users/natasha/ray_results/exp_1<br>Number of trials: 8 (8 TERMINATED)<br><table>\n",
       "<thead>\n",
       "<tr><th>Trial name    </th><th>status    </th><th>loc  </th><th style=\"text-align: right;\">  batch_size</th><th style=\"text-align: right;\">    lr</th><th style=\"text-align: right;\">  weight_decay</th><th style=\"text-align: right;\">     acc</th><th style=\"text-align: right;\">  iter</th><th style=\"text-align: right;\">  total time (s)</th></tr>\n",
       "</thead>\n",
       "<tbody>\n",
       "<tr><td>train_AE_00000</td><td>TERMINATED</td><td>     </td><td style=\"text-align: right;\">          32</td><td style=\"text-align: right;\">0.1   </td><td style=\"text-align: right;\">         0.01 </td><td style=\"text-align: right;\">0.604089</td><td style=\"text-align: right;\">     1</td><td style=\"text-align: right;\">         5.68551</td></tr>\n",
       "<tr><td>train_AE_00001</td><td>TERMINATED</td><td>     </td><td style=\"text-align: right;\">          64</td><td style=\"text-align: right;\">0.1   </td><td style=\"text-align: right;\">         0.01 </td><td style=\"text-align: right;\">0.580173</td><td style=\"text-align: right;\">     1</td><td style=\"text-align: right;\">         5.40641</td></tr>\n",
       "<tr><td>train_AE_00002</td><td>TERMINATED</td><td>     </td><td style=\"text-align: right;\">          32</td><td style=\"text-align: right;\">0.0001</td><td style=\"text-align: right;\">         0.01 </td><td style=\"text-align: right;\">0.47317 </td><td style=\"text-align: right;\">     1</td><td style=\"text-align: right;\">         3.90561</td></tr>\n",
       "<tr><td>train_AE_00003</td><td>TERMINATED</td><td>     </td><td style=\"text-align: right;\">          64</td><td style=\"text-align: right;\">0.0001</td><td style=\"text-align: right;\">         0.01 </td><td style=\"text-align: right;\">0.471649</td><td style=\"text-align: right;\">     1</td><td style=\"text-align: right;\">         4.89822</td></tr>\n",
       "<tr><td>train_AE_00004</td><td>TERMINATED</td><td>     </td><td style=\"text-align: right;\">          32</td><td style=\"text-align: right;\">0.1   </td><td style=\"text-align: right;\">         1e-05</td><td style=\"text-align: right;\">0.605495</td><td style=\"text-align: right;\">     1</td><td style=\"text-align: right;\">         3.78328</td></tr>\n",
       "<tr><td>train_AE_00005</td><td>TERMINATED</td><td>     </td><td style=\"text-align: right;\">          64</td><td style=\"text-align: right;\">0.1   </td><td style=\"text-align: right;\">         1e-05</td><td style=\"text-align: right;\">0.598439</td><td style=\"text-align: right;\">     1</td><td style=\"text-align: right;\">         4.66877</td></tr>\n",
       "<tr><td>train_AE_00006</td><td>TERMINATED</td><td>     </td><td style=\"text-align: right;\">          32</td><td style=\"text-align: right;\">0.0001</td><td style=\"text-align: right;\">         1e-05</td><td style=\"text-align: right;\">0.467623</td><td style=\"text-align: right;\">     1</td><td style=\"text-align: right;\">         3.50392</td></tr>\n",
       "<tr><td>train_AE_00007</td><td>TERMINATED</td><td>     </td><td style=\"text-align: right;\">          64</td><td style=\"text-align: right;\">0.0001</td><td style=\"text-align: right;\">         1e-05</td><td style=\"text-align: right;\">0.475936</td><td style=\"text-align: right;\">     1</td><td style=\"text-align: right;\">         4.26014</td></tr>\n",
       "</tbody>\n",
       "</table><br><br>"
      ],
      "text/plain": [
       "<IPython.core.display.HTML object>"
      ]
     },
     "metadata": {},
     "output_type": "display_data"
    },
    {
     "name": "stdout",
     "output_type": "stream",
     "text": [
      "Best config is: {'batch_size': 32, 'num_epochs': 1, 'replacement_threshold': 0.5, 'lr': 0.1, 'weight_decay': 1e-05}\n"
     ]
    }
   ],
   "source": [
    "analysis = tune.run(\n",
    "    trainable.train_AE, \n",
    "    name=\"exp_1\",\n",
    "    config=train_vars, \n",
    "    verbose=2, \n",
    "    resources_per_trial={\n",
    "            \"cpu\": 2,\n",
    "            \"gpu\": 0\n",
    "    },\n",
    "    num_samples=1)\n",
    "\n",
    "print(\"Best config is:\", analysis.get_best_config(metric=\"mean_accuracy\"))"
   ]
  },
  {
   "cell_type": "code",
   "execution_count": null,
   "metadata": {},
   "outputs": [],
   "source": [
    "print(\"Best batch size:\", analysis.get_best_config(metric=\"mean_accuracy\")[\"batch_size\"])"
   ]
  },
  {
   "cell_type": "code",
   "execution_count": null,
   "metadata": {},
   "outputs": [],
   "source": [
    "# train the model\n",
    "# train_losses, test_losses, train_f1_scores, test_f1_scores = train_test.train_model(loaders, \n",
    "#         model, flags.num_epochs, flags.print_every,\n",
    "#         flags.SAVE_FP, flags.replacement_threshold, cluster_names, flags.cirriculum, train_data[:,:len(cluster_names)],\n",
    "#         search_space)\n",
    "#train_losses, test_losses, train_f1_scores, test_f1_scores = train_test.train_model(train_vars, hyperparams)"
   ]
  },
  {
   "cell_type": "markdown",
   "metadata": {},
   "source": [
    "### Evaluate model performance"
   ]
  },
  {
   "cell_type": "code",
   "execution_count": null,
   "metadata": {},
   "outputs": [],
   "source": [
    "# evaluate model performance\n",
    "perf_lc = data_viz.learning_curve(train_f1_scores, test_f1_scores, \"performance\", flags.cirriculum)"
   ]
  },
  {
   "cell_type": "code",
   "execution_count": null,
   "metadata": {},
   "outputs": [],
   "source": [
    "# evaluate model performance\n",
    "optim_lc = data_viz.learning_curve(train_losses, test_losses, \"optimization\", flags.cirriculum)"
   ]
  },
  {
   "cell_type": "code",
   "execution_count": null,
   "metadata": {},
   "outputs": [],
   "source": [
    "# first convert test_data from subset -> tensor, split corrupt vs target sets\n",
    "tensor_test_data = torch.tensor([i.numpy() for i in test_data]).float()\n",
    "corrupt_test_data = tensor_test_data[:,:len(cluster_names)]\n",
    "target = tensor_test_data[:,len(cluster_names):].detach().numpy()"
   ]
  },
  {
   "cell_type": "code",
   "execution_count": null,
   "metadata": {},
   "outputs": [],
   "source": [
    "# Generate probabilities for ROC curve\n",
    "model.eval()\n",
    "with torch.no_grad():\n",
    "    y_probas = model(corrupt_test_data) # predicted probabilities generated by model"
   ]
  },
  {
   "cell_type": "code",
   "execution_count": null,
   "metadata": {},
   "outputs": [],
   "source": [
    "roc = data_viz.my_roc_curve(target, y_probas.numpy())"
   ]
  },
  {
   "cell_type": "code",
   "execution_count": null,
   "metadata": {},
   "outputs": [],
   "source": [
    "util.log_results(roc, optim_lc, perf_lc, flags, model)"
   ]
  },
  {
   "cell_type": "code",
   "execution_count": null,
   "metadata": {},
   "outputs": [],
   "source": []
  },
  {
   "cell_type": "code",
   "execution_count": null,
   "metadata": {},
   "outputs": [],
   "source": []
  },
  {
   "cell_type": "code",
   "execution_count": null,
   "metadata": {},
   "outputs": [],
   "source": []
  },
  {
   "cell_type": "code",
   "execution_count": null,
   "metadata": {},
   "outputs": [],
   "source": [
    "# create embeddings for test set\n",
    "#uncorrupt_test_data = tensor_test_data[:,len(cluster_names):]\n",
    "#tensor_test_data = torch.tensor([i.numpy() for i in test_data]).float()\n",
    "embeddings = train_test.generate_embeddings(model, corrupt_test_data)"
   ]
  },
  {
   "cell_type": "code",
   "execution_count": null,
   "metadata": {},
   "outputs": [],
   "source": [
    "#data_viz.plot_tSNE(embeddings, test_data, num_to_genome, genome_to_tax, test_tax_dict)"
   ]
  },
  {
   "cell_type": "code",
   "execution_count": null,
   "metadata": {},
   "outputs": [],
   "source": [
    "# tSNE for corrupted genomes passed through untrained model\n",
    "untrained_model = models.AutoEncoder(len(cluster_names))\n",
    "untr_embeddings = train_test.generate_embeddings(untrained_model, corrupt_test_data)"
   ]
  },
  {
   "cell_type": "code",
   "execution_count": null,
   "metadata": {},
   "outputs": [],
   "source": [
    "#data_viz.plot_tSNE(untr_embeddings, test_data, num_to_genome, genome_to_tax, test_tax_dict)\n",
    "# data_viz.plot_tSNE(untr_embeddings, test_data, num_to_genome, genome_to_tax, genome_idx_test)"
   ]
  },
  {
   "cell_type": "code",
   "execution_count": null,
   "metadata": {},
   "outputs": [],
   "source": [
    "# Evaluate model and compare against baselines\n",
    "# Get corrupted input set, target set, and predictions set (binarized to 1's and 0's)\n",
    "#corrupt_test_data = tensor_test_data[:,:len(cluster_names)]\n",
    "\n",
    "model.eval()\n",
    "with torch.no_grad():\n",
    "    pred = model.forward(corrupt_test_data).detach().numpy()\n",
    "b_pred = train_test.binarize(pred, flags.replacement_threshold)"
   ]
  },
  {
   "cell_type": "code",
   "execution_count": null,
   "metadata": {},
   "outputs": [],
   "source": [
    "# Generate confusion matrix\n",
    "cm = evaluate.dom_confusion_matrix(b_pred, target, num_to_genome, genome_to_tax, test_tax_dict, genome_idx_test)"
   ]
  },
  {
   "cell_type": "code",
   "execution_count": null,
   "metadata": {},
   "outputs": [],
   "source": [
    "util.log_results(roc, optim_lc, perf_lc, flags, model, cm)"
   ]
  },
  {
   "cell_type": "code",
   "execution_count": null,
   "metadata": {},
   "outputs": [],
   "source": [
    "# Baseline 1: untrained DAE\n",
    "# Generate predictions using an untrained DAE model\n",
    "model.eval()\n",
    "with torch.no_grad():\n",
    "    untr_pred = untrained_model.forward(corrupt_test_data).detach().numpy()\n",
    "untr_b_preds = train_test.binarize(untr_pred, flags.replacement_threshold)"
   ]
  },
  {
   "cell_type": "code",
   "execution_count": null,
   "metadata": {},
   "outputs": [],
   "source": [
    "# if os.path.isfile(flags.DATA_FP+\"rand_b_pred.pt\"):\n",
    "#     print(\"Loading random predictions from file\")\n",
    "#     rand_b_pred = torch.load(flags.DATA_FP+\"rand_b_pred.pt\")\n",
    "# else: \n",
    "#     # This is slow\n",
    "#     print(\"Generating random predictions, this will take a while (~30 min)\")\n",
    "#     rand_b_pred = evaluate.generate_baseline(num_features, train_data, \n",
    "#                                              corrupt_test_data, \"base_random\", cluster_names)\n",
    "#     torch.save(rand_b_pred, flags.DATA_FP+\"rand_b_pred.pt\")\n",
    "\n",
    "rand_b_pred = evaluate.generate_baseline(num_features, train_data, \n",
    "                                         corrupt_test_data, \"base_random\", cluster_names)"
   ]
  },
  {
   "cell_type": "code",
   "execution_count": null,
   "metadata": {},
   "outputs": [],
   "source": [
    "torch.save(rand_b_pred, flags.DATA_FP+\"rand_b_pred.pt\")"
   ]
  },
  {
   "cell_type": "code",
   "execution_count": null,
   "metadata": {},
   "outputs": [],
   "source": [
    "# if os.path.isfile(flags.DATA_FP+\"smart_b_pred.pt\"):\n",
    "#     print(\"Loading smart random predictions from file\")\n",
    "#     smart_b_pred = torch.load(flags.DATA_FP+\"smart_b_pred.pt\")\n",
    "# else:\n",
    "#     print(\"Generating smart random predictions, this will take a while (~30 min)\")\n",
    "#     smart_b_pred = evaluate.generate_baseline(num_features, train_data, \n",
    "#                                           corrupt_test_data, \"smart_random\", cluster_names)\n",
    "#     torch.save(smart_b_pred, flags.DATA_FP+\"smart_b_pred.pt\")\n",
    "\n",
    "smart_b_pred = evaluate.generate_baseline(num_features, train_data, \n",
    "                                      corrupt_test_data, \"smart_random\", cluster_names)"
   ]
  },
  {
   "cell_type": "code",
   "execution_count": null,
   "metadata": {},
   "outputs": [],
   "source": [
    "torch.save(smart_b_pred, flags.DATA_FP+\"smart_b_pred.pt\")"
   ]
  },
  {
   "cell_type": "code",
   "execution_count": null,
   "metadata": {},
   "outputs": [],
   "source": [
    "import numpy as np\n",
    "np.sum(smart_b_pred == rand_b_pred), np.sum(smart_b_pred != rand_b_pred)"
   ]
  },
  {
   "cell_type": "code",
   "execution_count": null,
   "metadata": {},
   "outputs": [],
   "source": [
    "import pandas as pd\n",
    "hs = evaluate.hamming(target, b_pred)\n",
    "hs_stats = [round(sum(hs)/len(hs),2), round(min(hs),2), round(max(hs),2)]\n",
    "\n",
    "untr_hs = evaluate.hamming(target, untr_b_preds)\n",
    "untr_hs_stats = [round(sum(untr_hs)/len(untr_hs),2), round(min(untr_hs),2), round(max(untr_hs),2)]\n",
    "\n",
    "rand_hs = evaluate.hamming(target, rand_b_pred)\n",
    "rand_hs_stats = [round(sum(rand_hs)/len(rand_hs),2), round(min(rand_hs),2), round(max(rand_hs),2)]\n",
    "\n",
    "smart_hs = evaluate.hamming(target, smart_b_pred)\n",
    "smart_hs_stats = [round(sum(smart_hs)/len(smart_hs),2), round(min(smart_hs),2), round(max(smart_hs),2)]\n",
    "\n",
    "\n",
    "hamming_df = pd.DataFrame([hs_stats, untr_hs_stats, rand_hs_stats, smart_hs_stats], columns=['mean', 'min', 'max'], \n",
    "                            index=[\"DAE trained\", \"DAE untrained\", \"Random chance\", \"Smart random chance\"])\n",
    "hamming_df"
   ]
  },
  {
   "cell_type": "code",
   "execution_count": null,
   "metadata": {},
   "outputs": [],
   "source": [
    "hs[:15]"
   ]
  },
  {
   "cell_type": "code",
   "execution_count": null,
   "metadata": {},
   "outputs": [],
   "source": [
    "evaluate.hamming([1,1,1,1], [1,1,0,0])"
   ]
  },
  {
   "cell_type": "code",
   "execution_count": null,
   "metadata": {},
   "outputs": [],
   "source": [
    "from sklearn.metrics import hamming_loss"
   ]
  },
  {
   "cell_type": "code",
   "execution_count": null,
   "metadata": {},
   "outputs": [],
   "source": [
    "hamming_loss([1,1,1,1,0,0,0], [1,1,0,0,0,0,0])"
   ]
  },
  {
   "cell_type": "code",
   "execution_count": null,
   "metadata": {},
   "outputs": [],
   "source": []
  }
 ],
 "metadata": {
  "kernelspec": {
   "display_name": "Python 3",
   "language": "python",
   "name": "python3"
  },
  "language_info": {
   "codemirror_mode": {
    "name": "ipython",
    "version": 3
   },
   "file_extension": ".py",
   "mimetype": "text/x-python",
   "name": "python",
   "nbconvert_exporter": "python",
   "pygments_lexer": "ipython3",
   "version": "3.7.6"
  }
 },
 "nbformat": 4,
 "nbformat_minor": 4
}
